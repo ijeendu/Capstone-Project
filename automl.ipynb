{
  "cells": [
    {
      "cell_type": "markdown",
      "source": [
        "# Automated ML\n",
        "\n",
        "TODO: Import Dependencies. In the cell below, import all the dependencies that you will need to complete the project."
      ],
      "metadata": {
        "id": "9CvgwStG3NPD"
      }
    },
    {
      "cell_type": "code",
      "source": [
        "# import dependencies\n",
        "import logging\n",
        "import os\n",
        "import csv\n",
        "\n",
        "from matplotlib import pyplot as plt\n",
        "import numpy as np\n",
        "import pandas as pd\n",
        "#from sklearn import datasets\n",
        "import pkg_resources\n",
        "\n",
        "import azureml.core\n",
        "from azureml.core.experiment import Experiment\n",
        "from azureml.core.workspace import Workspace\n",
        "from azureml.train.automl import AutoMLConfig\n",
        "#from azureml.core.dataset import Dataset\n",
        "\n",
        "from azureml.pipeline.steps import AutoMLStep\n",
        "\n",
        "# Check core SDK version number\n",
        "print(\"SDK version:\", azureml.core.VERSION)"
      ],
      "outputs": [
        {
          "output_type": "stream",
          "name": "stdout",
          "text": [
            "SDK version: 1.19.0\n"
          ]
        }
      ],
      "execution_count": 1,
      "metadata": {
        "gather": {
          "logged": 1610081049091
        },
        "id": "tvZfJ1lDVEow",
        "outputId": "ea82a3a6-554f-4c21-9a2c-316050c3985f"
      }
    },
    {
      "cell_type": "code",
      "source": [
        "# initialise workspace\n",
        "ws = Workspace.from_config() # using from_config file downloaded from Azure ML Studio workspace\n",
        "#exp = Experiment(workspace=ws, name=\"capstone-project\")\n",
        "\n",
        "print('Workspace name: ' + ws.name, \n",
        "      'Azure region: ' + ws.location, \n",
        "      'Subscription id: ' + ws.subscription_id, \n",
        "      'Resource group: ' + ws.resource_group, sep = '\\n')\n",
        "\n",
        "#run = exp.start_logging()"
      ],
      "outputs": [
        {
          "output_type": "stream",
          "name": "stdout",
          "text": [
            "Performing interactive authentication. Please follow the instructions on the terminal.\n",
            "To sign in, use a web browser to open the page https://microsoft.com/devicelogin and enter the code RHNXREYVX to authenticate.\n",
            "You have logged in. Now let us find all the subscriptions to which you have access...\n",
            "Interactive authentication successfully completed.\n",
            "Workspace name: quick-starts-ws-133934\n",
            "Azure region: southcentralus\n",
            "Subscription id: 510b94ba-e453-4417-988b-fbdc37b55ca7\n",
            "Resource group: aml-quickstarts-133934\n"
          ]
        }
      ],
      "execution_count": 2,
      "metadata": {
        "gather": {
          "logged": 1610081094436
        },
        "id": "cHpCx-nk3NPK",
        "jupyter": {
          "outputs_hidden": false,
          "source_hidden": false
        },
        "nteract": {
          "transient": {
            "deleting": false
          }
        },
        "outputId": "1d9ec8a5-aeae-4d66-ab82-9861f14930d1"
      }
    },
    {
      "cell_type": "code",
      "source": [
        "# create an AutoML experiment\n",
        "# choose a name for experiment\n",
        "experiment_name = 'ctg_experiment'\n",
        "project_folder = './ctgautomlproject'\n",
        "\n",
        "# create the experiment\n",
        "experiment=Experiment(ws, experiment_name)\n",
        "experiment"
      ],
      "outputs": [
        {
          "output_type": "execute_result",
          "execution_count": 3,
          "data": {
            "text/plain": "Experiment(Name: ctg_experiment,\nWorkspace: quick-starts-ws-133934)",
            "text/html": "<table style=\"width:100%\"><tr><th>Name</th><th>Workspace</th><th>Report Page</th><th>Docs Page</th></tr><tr><td>ctg_experiment</td><td>quick-starts-ws-133934</td><td><a href=\"https://ml.azure.com/experiments/ctg_experiment?wsid=/subscriptions/510b94ba-e453-4417-988b-fbdc37b55ca7/resourcegroups/aml-quickstarts-133934/workspaces/quick-starts-ws-133934\" target=\"_blank\" rel=\"noopener\">Link to Azure Machine Learning studio</a></td><td><a href=\"https://docs.microsoft.com/en-us/python/api/azureml-core/azureml.core.experiment.Experiment?view=azure-ml-py\" target=\"_blank\" rel=\"noopener\">Link to Documentation</a></td></tr></table>"
          },
          "metadata": {}
        }
      ],
      "execution_count": 3,
      "metadata": {
        "gather": {
          "logged": 1610081111421
        },
        "id": "wBopRTmv3NPL",
        "jupyter": {
          "outputs_hidden": false,
          "source_hidden": false
        },
        "nteract": {
          "transient": {
            "deleting": false
          }
        },
        "outputId": "2d0696b5-8b02-46be-ebc8-afd352d24715"
      }
    },
    {
      "cell_type": "code",
      "source": [
        "# create or attach an existing compute cluster\n",
        "from azureml.core.compute import ComputeTarget, AmlCompute\n",
        "from azureml.core.compute_target import ComputeTargetException\n",
        "\n",
        "# set name of CPU cluster\n",
        "cpu_cluster_name = \"automl-cluster\"\n",
        "\n",
        "# Verify that cluster does not exist already\n",
        "try:\n",
        "    cpu_cluster = ComputeTarget(workspace=ws, name=cpu_cluster_name)\n",
        "    print('Found existing cluster, using it.')\n",
        "except ComputeTargetException:\n",
        "    print('Creating a new compute target...')\n",
        "    compute_config = AmlCompute.provisioning_configuration(vm_size='STANDARD_D2_V2',\n",
        "                                                           max_nodes=4)\n",
        "    cpu_cluster = ComputeTarget.create(ws, cpu_cluster_name, compute_config)\n",
        "\n",
        "# wait for completion\n",
        "cpu_cluster.wait_for_completion(show_output=True)"
      ],
      "outputs": [
        {
          "output_type": "stream",
          "name": "stdout",
          "text": [
            "Found existing cluster, using it.\n",
            "\n",
            "Running\n"
          ]
        }
      ],
      "execution_count": 4,
      "metadata": {
        "gather": {
          "logged": 1610081161652
        },
        "id": "Xjaaq9H331y0",
        "outputId": "4b6782ba-4c58-4d0d-d953-5f8f49686f3f"
      }
    },
    {
      "cell_type": "markdown",
      "source": [
        "## Dataset\n",
        "\n",
        "### Overview\n",
        "\n",
        "This project uses the cardiotocogram data set available at the UCI ML website.\n",
        "The dataset consists of measurements of fetal heart rate (FHR) and uterine contraction (UC) features on cardiotocograms classified by expert obstetricians. It consists of 2126 fetal cardiotocograms (CTGs) with 23 attributes.\n",
        "\n",
        "The CTGs were automatically processed and the respective diagnostic features measured and classified by three expert obstetricians and a consensus classification label assigned to each of them. Classification was both with respect to a morphologic pattern (A, B, C, ..., J) and to a fetal state (N, S, P). Therefore the dataset can be used either for 10-class or 3-class experiments. \n",
        "\n",
        "In this work, the 3-class label is used to classify a foetus as Normal, Suspect or Pathological based on the cardiotocogram measurements.\n",
        "\n"
      ],
      "metadata": {
        "id": "7KUjVmOp3NPL"
      }
    },
    {
      "cell_type": "code",
      "source": [
        "# import data external to AzureML\n",
        "from azureml.data.dataset_factory import TabularDatasetFactory\n",
        "\n",
        "# Try to load the dataset from the Workspace. Otherwise, create it from the file\n",
        "\n",
        "found = False\n",
        "key = \"ctg-data\"\n",
        "description_text = \"Cardiocotogram dataset for fetal state classification Udacity Capstone Project\"\n",
        "\n",
        "if key in ws.datasets.keys(): \n",
        "        found = True\n",
        "        print('found dataset in workspace')\n",
        "        ds = ws.datasets[key] \n",
        "\n",
        "if not found:\n",
        "    # Create TabularDataset using TabularDatasetFactory\n",
        "    url = \"https://raw.githubusercontent.com/ijeendu/Machine_Learning_in_Microsoft_Azure/main/CTG.csv\"\n",
        "    ds = TabularDatasetFactory.from_delimited_files(path=url)\n",
        "    \n",
        "    # register dataset in workspace\n",
        "    ds = ds.register(workspace=ws,\n",
        "                    name=key,\n",
        "                    description=description_text)\n",
        "\n",
        "# view dataset\n",
        "ds.to_pandas_dataframe().head()"
      ],
      "outputs": [
        {
          "output_type": "execute_result",
          "execution_count": 5,
          "data": {
            "text/plain": "       FileName       Date      SegFile    b     e  LBE   LB  AC  FM  UC  ...  \\\n0  Variab10.txt 1996-12-01  CTG0001.txt  240   357  120  120   0   0   0  ...   \n1    Fmcs_1.txt 1996-05-03  CTG0002.txt    5   632  132  132   4   0   4  ...   \n2    Fmcs_1.txt 1996-05-03  CTG0003.txt  177   779  133  133   2   0   5  ...   \n3    Fmcs_1.txt 1996-05-03  CTG0004.txt  411  1192  134  134   2   0   6  ...   \n4    Fmcs_1.txt 1996-05-03  CTG0005.txt  533  1147  132  132   4   0   5  ...   \n\n   C  D  E  AD  DE  LD  FS  SUSP  CLASS  NSP  \n0  0  0  0   0   0   0   1     0      9    2  \n1  0  0  0   1   0   0   0     0      6    1  \n2  0  0  0   1   0   0   0     0      6    1  \n3  0  0  0   1   0   0   0     0      6    1  \n4  0  0  0   0   0   0   0     0      2    1  \n\n[5 rows x 40 columns]",
            "text/html": "<div>\n<style scoped>\n    .dataframe tbody tr th:only-of-type {\n        vertical-align: middle;\n    }\n\n    .dataframe tbody tr th {\n        vertical-align: top;\n    }\n\n    .dataframe thead th {\n        text-align: right;\n    }\n</style>\n<table border=\"1\" class=\"dataframe\">\n  <thead>\n    <tr style=\"text-align: right;\">\n      <th></th>\n      <th>FileName</th>\n      <th>Date</th>\n      <th>SegFile</th>\n      <th>b</th>\n      <th>e</th>\n      <th>LBE</th>\n      <th>LB</th>\n      <th>AC</th>\n      <th>FM</th>\n      <th>UC</th>\n      <th>...</th>\n      <th>C</th>\n      <th>D</th>\n      <th>E</th>\n      <th>AD</th>\n      <th>DE</th>\n      <th>LD</th>\n      <th>FS</th>\n      <th>SUSP</th>\n      <th>CLASS</th>\n      <th>NSP</th>\n    </tr>\n  </thead>\n  <tbody>\n    <tr>\n      <th>0</th>\n      <td>Variab10.txt</td>\n      <td>1996-12-01</td>\n      <td>CTG0001.txt</td>\n      <td>240</td>\n      <td>357</td>\n      <td>120</td>\n      <td>120</td>\n      <td>0</td>\n      <td>0</td>\n      <td>0</td>\n      <td>...</td>\n      <td>0</td>\n      <td>0</td>\n      <td>0</td>\n      <td>0</td>\n      <td>0</td>\n      <td>0</td>\n      <td>1</td>\n      <td>0</td>\n      <td>9</td>\n      <td>2</td>\n    </tr>\n    <tr>\n      <th>1</th>\n      <td>Fmcs_1.txt</td>\n      <td>1996-05-03</td>\n      <td>CTG0002.txt</td>\n      <td>5</td>\n      <td>632</td>\n      <td>132</td>\n      <td>132</td>\n      <td>4</td>\n      <td>0</td>\n      <td>4</td>\n      <td>...</td>\n      <td>0</td>\n      <td>0</td>\n      <td>0</td>\n      <td>1</td>\n      <td>0</td>\n      <td>0</td>\n      <td>0</td>\n      <td>0</td>\n      <td>6</td>\n      <td>1</td>\n    </tr>\n    <tr>\n      <th>2</th>\n      <td>Fmcs_1.txt</td>\n      <td>1996-05-03</td>\n      <td>CTG0003.txt</td>\n      <td>177</td>\n      <td>779</td>\n      <td>133</td>\n      <td>133</td>\n      <td>2</td>\n      <td>0</td>\n      <td>5</td>\n      <td>...</td>\n      <td>0</td>\n      <td>0</td>\n      <td>0</td>\n      <td>1</td>\n      <td>0</td>\n      <td>0</td>\n      <td>0</td>\n      <td>0</td>\n      <td>6</td>\n      <td>1</td>\n    </tr>\n    <tr>\n      <th>3</th>\n      <td>Fmcs_1.txt</td>\n      <td>1996-05-03</td>\n      <td>CTG0004.txt</td>\n      <td>411</td>\n      <td>1192</td>\n      <td>134</td>\n      <td>134</td>\n      <td>2</td>\n      <td>0</td>\n      <td>6</td>\n      <td>...</td>\n      <td>0</td>\n      <td>0</td>\n      <td>0</td>\n      <td>1</td>\n      <td>0</td>\n      <td>0</td>\n      <td>0</td>\n      <td>0</td>\n      <td>6</td>\n      <td>1</td>\n    </tr>\n    <tr>\n      <th>4</th>\n      <td>Fmcs_1.txt</td>\n      <td>1996-05-03</td>\n      <td>CTG0005.txt</td>\n      <td>533</td>\n      <td>1147</td>\n      <td>132</td>\n      <td>132</td>\n      <td>4</td>\n      <td>0</td>\n      <td>5</td>\n      <td>...</td>\n      <td>0</td>\n      <td>0</td>\n      <td>0</td>\n      <td>0</td>\n      <td>0</td>\n      <td>0</td>\n      <td>0</td>\n      <td>0</td>\n      <td>2</td>\n      <td>1</td>\n    </tr>\n  </tbody>\n</table>\n<p>5 rows × 40 columns</p>\n</div>"
          },
          "metadata": {}
        }
      ],
      "execution_count": 5,
      "metadata": {
        "gather": {
          "logged": 1610081183483
        },
        "id": "8RPYmjGK3uQW",
        "outputId": "c28a8b53-826d-4bec-95c5-038ca036ffc2"
      }
    },
    {
      "cell_type": "code",
      "source": [
        "# explore dataframe\n",
        "df = ds.to_pandas_dataframe()\n",
        "df.describe()"
      ],
      "outputs": [
        {
          "output_type": "execute_result",
          "execution_count": 6,
          "data": {
            "text/plain": "                 b            e          LBE           LB           AC  \\\ncount  2126.000000  2126.000000  2126.000000  2126.000000  2126.000000   \nmean    878.439793  1702.877234   133.303857   133.303857     2.722484   \nstd     894.084748   930.919143     9.840844     9.840844     3.560850   \nmin       0.000000   287.000000   106.000000   106.000000     0.000000   \n25%      55.000000  1009.000000   126.000000   126.000000     0.000000   \n50%     538.000000  1241.000000   133.000000   133.000000     1.000000   \n75%    1521.000000  2434.750000   140.000000   140.000000     4.000000   \nmax    3296.000000  3599.000000   160.000000   160.000000    26.000000   \n\n                FM           UC         ASTV         MSTV        ALTV  ...  \\\ncount  2126.000000  2126.000000  2126.000000  2126.000000  2126.00000  ...   \nmean      7.241298     3.659925    46.990122     1.332785     9.84666  ...   \nstd      37.125309     2.847094    17.192814     0.883241    18.39688  ...   \nmin       0.000000     0.000000    12.000000     0.200000     0.00000  ...   \n25%       0.000000     1.000000    32.000000     0.700000     0.00000  ...   \n50%       0.000000     3.000000    49.000000     1.200000     0.00000  ...   \n75%       2.000000     5.000000    61.000000     1.700000    11.00000  ...   \nmax     564.000000    23.000000    87.000000     7.000000    91.00000  ...   \n\n                 C            D            E           AD           DE  \\\ncount  2126.000000  2126.000000  2126.000000  2126.000000  2126.000000   \nmean      0.024929     0.038100     0.033866     0.156162     0.118532   \nstd       0.155947     0.191482     0.180928     0.363094     0.323314   \nmin       0.000000     0.000000     0.000000     0.000000     0.000000   \n25%       0.000000     0.000000     0.000000     0.000000     0.000000   \n50%       0.000000     0.000000     0.000000     0.000000     0.000000   \n75%       0.000000     0.000000     0.000000     0.000000     0.000000   \nmax       1.000000     1.000000     1.000000     1.000000     1.000000   \n\n                LD           FS         SUSP        CLASS          NSP  \ncount  2126.000000  2126.000000  2126.000000  2126.000000  2126.000000  \nmean      0.050329     0.032455     0.092662     4.509878     1.304327  \nstd       0.218675     0.177248     0.290027     3.026883     0.614377  \nmin       0.000000     0.000000     0.000000     1.000000     1.000000  \n25%       0.000000     0.000000     0.000000     2.000000     1.000000  \n50%       0.000000     0.000000     0.000000     4.000000     1.000000  \n75%       0.000000     0.000000     0.000000     7.000000     1.000000  \nmax       1.000000     1.000000     1.000000    10.000000     3.000000  \n\n[8 rows x 37 columns]",
            "text/html": "<div>\n<style scoped>\n    .dataframe tbody tr th:only-of-type {\n        vertical-align: middle;\n    }\n\n    .dataframe tbody tr th {\n        vertical-align: top;\n    }\n\n    .dataframe thead th {\n        text-align: right;\n    }\n</style>\n<table border=\"1\" class=\"dataframe\">\n  <thead>\n    <tr style=\"text-align: right;\">\n      <th></th>\n      <th>b</th>\n      <th>e</th>\n      <th>LBE</th>\n      <th>LB</th>\n      <th>AC</th>\n      <th>FM</th>\n      <th>UC</th>\n      <th>ASTV</th>\n      <th>MSTV</th>\n      <th>ALTV</th>\n      <th>...</th>\n      <th>C</th>\n      <th>D</th>\n      <th>E</th>\n      <th>AD</th>\n      <th>DE</th>\n      <th>LD</th>\n      <th>FS</th>\n      <th>SUSP</th>\n      <th>CLASS</th>\n      <th>NSP</th>\n    </tr>\n  </thead>\n  <tbody>\n    <tr>\n      <th>count</th>\n      <td>2126.000000</td>\n      <td>2126.000000</td>\n      <td>2126.000000</td>\n      <td>2126.000000</td>\n      <td>2126.000000</td>\n      <td>2126.000000</td>\n      <td>2126.000000</td>\n      <td>2126.000000</td>\n      <td>2126.000000</td>\n      <td>2126.00000</td>\n      <td>...</td>\n      <td>2126.000000</td>\n      <td>2126.000000</td>\n      <td>2126.000000</td>\n      <td>2126.000000</td>\n      <td>2126.000000</td>\n      <td>2126.000000</td>\n      <td>2126.000000</td>\n      <td>2126.000000</td>\n      <td>2126.000000</td>\n      <td>2126.000000</td>\n    </tr>\n    <tr>\n      <th>mean</th>\n      <td>878.439793</td>\n      <td>1702.877234</td>\n      <td>133.303857</td>\n      <td>133.303857</td>\n      <td>2.722484</td>\n      <td>7.241298</td>\n      <td>3.659925</td>\n      <td>46.990122</td>\n      <td>1.332785</td>\n      <td>9.84666</td>\n      <td>...</td>\n      <td>0.024929</td>\n      <td>0.038100</td>\n      <td>0.033866</td>\n      <td>0.156162</td>\n      <td>0.118532</td>\n      <td>0.050329</td>\n      <td>0.032455</td>\n      <td>0.092662</td>\n      <td>4.509878</td>\n      <td>1.304327</td>\n    </tr>\n    <tr>\n      <th>std</th>\n      <td>894.084748</td>\n      <td>930.919143</td>\n      <td>9.840844</td>\n      <td>9.840844</td>\n      <td>3.560850</td>\n      <td>37.125309</td>\n      <td>2.847094</td>\n      <td>17.192814</td>\n      <td>0.883241</td>\n      <td>18.39688</td>\n      <td>...</td>\n      <td>0.155947</td>\n      <td>0.191482</td>\n      <td>0.180928</td>\n      <td>0.363094</td>\n      <td>0.323314</td>\n      <td>0.218675</td>\n      <td>0.177248</td>\n      <td>0.290027</td>\n      <td>3.026883</td>\n      <td>0.614377</td>\n    </tr>\n    <tr>\n      <th>min</th>\n      <td>0.000000</td>\n      <td>287.000000</td>\n      <td>106.000000</td>\n      <td>106.000000</td>\n      <td>0.000000</td>\n      <td>0.000000</td>\n      <td>0.000000</td>\n      <td>12.000000</td>\n      <td>0.200000</td>\n      <td>0.00000</td>\n      <td>...</td>\n      <td>0.000000</td>\n      <td>0.000000</td>\n      <td>0.000000</td>\n      <td>0.000000</td>\n      <td>0.000000</td>\n      <td>0.000000</td>\n      <td>0.000000</td>\n      <td>0.000000</td>\n      <td>1.000000</td>\n      <td>1.000000</td>\n    </tr>\n    <tr>\n      <th>25%</th>\n      <td>55.000000</td>\n      <td>1009.000000</td>\n      <td>126.000000</td>\n      <td>126.000000</td>\n      <td>0.000000</td>\n      <td>0.000000</td>\n      <td>1.000000</td>\n      <td>32.000000</td>\n      <td>0.700000</td>\n      <td>0.00000</td>\n      <td>...</td>\n      <td>0.000000</td>\n      <td>0.000000</td>\n      <td>0.000000</td>\n      <td>0.000000</td>\n      <td>0.000000</td>\n      <td>0.000000</td>\n      <td>0.000000</td>\n      <td>0.000000</td>\n      <td>2.000000</td>\n      <td>1.000000</td>\n    </tr>\n    <tr>\n      <th>50%</th>\n      <td>538.000000</td>\n      <td>1241.000000</td>\n      <td>133.000000</td>\n      <td>133.000000</td>\n      <td>1.000000</td>\n      <td>0.000000</td>\n      <td>3.000000</td>\n      <td>49.000000</td>\n      <td>1.200000</td>\n      <td>0.00000</td>\n      <td>...</td>\n      <td>0.000000</td>\n      <td>0.000000</td>\n      <td>0.000000</td>\n      <td>0.000000</td>\n      <td>0.000000</td>\n      <td>0.000000</td>\n      <td>0.000000</td>\n      <td>0.000000</td>\n      <td>4.000000</td>\n      <td>1.000000</td>\n    </tr>\n    <tr>\n      <th>75%</th>\n      <td>1521.000000</td>\n      <td>2434.750000</td>\n      <td>140.000000</td>\n      <td>140.000000</td>\n      <td>4.000000</td>\n      <td>2.000000</td>\n      <td>5.000000</td>\n      <td>61.000000</td>\n      <td>1.700000</td>\n      <td>11.00000</td>\n      <td>...</td>\n      <td>0.000000</td>\n      <td>0.000000</td>\n      <td>0.000000</td>\n      <td>0.000000</td>\n      <td>0.000000</td>\n      <td>0.000000</td>\n      <td>0.000000</td>\n      <td>0.000000</td>\n      <td>7.000000</td>\n      <td>1.000000</td>\n    </tr>\n    <tr>\n      <th>max</th>\n      <td>3296.000000</td>\n      <td>3599.000000</td>\n      <td>160.000000</td>\n      <td>160.000000</td>\n      <td>26.000000</td>\n      <td>564.000000</td>\n      <td>23.000000</td>\n      <td>87.000000</td>\n      <td>7.000000</td>\n      <td>91.00000</td>\n      <td>...</td>\n      <td>1.000000</td>\n      <td>1.000000</td>\n      <td>1.000000</td>\n      <td>1.000000</td>\n      <td>1.000000</td>\n      <td>1.000000</td>\n      <td>1.000000</td>\n      <td>1.000000</td>\n      <td>10.000000</td>\n      <td>3.000000</td>\n    </tr>\n  </tbody>\n</table>\n<p>8 rows × 37 columns</p>\n</div>"
          },
          "metadata": {}
        }
      ],
      "execution_count": 6,
      "metadata": {
        "collapsed": true,
        "gather": {
          "logged": 1610081204334
        },
        "id": "JE3Oyrw4PuhI",
        "jupyter": {
          "outputs_hidden": false,
          "source_hidden": false
        },
        "nteract": {
          "transient": {
            "deleting": false
          }
        },
        "outputId": "4cdcfc5a-3bd3-47a7-f0b1-446826bc921b"
      }
    },
    {
      "cell_type": "code",
      "source": [
        "# prepare dataset for model training\n",
        "#import sys\n",
        "#sys.path.insert(0,./training)\n",
        "\n",
        "from train import clean_data\n",
        "from sklearn.model_selection import train_test_split\n",
        "import pandas as pd\n",
        "\n",
        "# Clean dataset using the clean_data function\n",
        "x, y = clean_data(ds)\n",
        "\n",
        "# split dataset into train and test sets\n",
        "(x_train, x_test, y_train, y_test) = train_test_split(x, y, test_size= 0.3, random_state = 0)\n",
        "label = 'NSP'\n",
        "\n",
        "# merge the output x and y dataframes into a single table for AutoML experiment\n",
        "train_data_df = pd.concat([x_train, y_train], axis=1)\n",
        "\n",
        "train_data_df.head()"
      ],
      "outputs": [
        {
          "output_type": "execute_result",
          "execution_count": 7,
          "data": {
            "text/plain": "        b     e  LBE   LB  AC  FM  UC  ASTV  MSTV  ALTV  ...  C  D  E  AD  DE  \\\n994    44   831  129  129   3   0   1    27   1.2     1  ...  0  0  0   0   0   \n1618  848  2108  142  142   4  63   3    66   3.3     0  ...  0  0  0   1   0   \n177     0  1033  119  119   8   0   5    30   1.8     0  ...  0  0  0   0   0   \n519    25   679  126  126   5  26   3    42   1.5     0  ...  0  0  0   0   0   \n745   242  1014  142  142   1   0   4    23   3.6     0  ...  0  0  0   0   1   \n\n      LD  FS  SUSP  CLASS  NSP  \n994    0   0     0      2    1  \n1618   0   0     0      6    1  \n177    0   0     0      2    1  \n519    0   0     0      2    1  \n745    0   0     0      7    1  \n\n[5 rows x 37 columns]",
            "text/html": "<div>\n<style scoped>\n    .dataframe tbody tr th:only-of-type {\n        vertical-align: middle;\n    }\n\n    .dataframe tbody tr th {\n        vertical-align: top;\n    }\n\n    .dataframe thead th {\n        text-align: right;\n    }\n</style>\n<table border=\"1\" class=\"dataframe\">\n  <thead>\n    <tr style=\"text-align: right;\">\n      <th></th>\n      <th>b</th>\n      <th>e</th>\n      <th>LBE</th>\n      <th>LB</th>\n      <th>AC</th>\n      <th>FM</th>\n      <th>UC</th>\n      <th>ASTV</th>\n      <th>MSTV</th>\n      <th>ALTV</th>\n      <th>...</th>\n      <th>C</th>\n      <th>D</th>\n      <th>E</th>\n      <th>AD</th>\n      <th>DE</th>\n      <th>LD</th>\n      <th>FS</th>\n      <th>SUSP</th>\n      <th>CLASS</th>\n      <th>NSP</th>\n    </tr>\n  </thead>\n  <tbody>\n    <tr>\n      <th>994</th>\n      <td>44</td>\n      <td>831</td>\n      <td>129</td>\n      <td>129</td>\n      <td>3</td>\n      <td>0</td>\n      <td>1</td>\n      <td>27</td>\n      <td>1.2</td>\n      <td>1</td>\n      <td>...</td>\n      <td>0</td>\n      <td>0</td>\n      <td>0</td>\n      <td>0</td>\n      <td>0</td>\n      <td>0</td>\n      <td>0</td>\n      <td>0</td>\n      <td>2</td>\n      <td>1</td>\n    </tr>\n    <tr>\n      <th>1618</th>\n      <td>848</td>\n      <td>2108</td>\n      <td>142</td>\n      <td>142</td>\n      <td>4</td>\n      <td>63</td>\n      <td>3</td>\n      <td>66</td>\n      <td>3.3</td>\n      <td>0</td>\n      <td>...</td>\n      <td>0</td>\n      <td>0</td>\n      <td>0</td>\n      <td>1</td>\n      <td>0</td>\n      <td>0</td>\n      <td>0</td>\n      <td>0</td>\n      <td>6</td>\n      <td>1</td>\n    </tr>\n    <tr>\n      <th>177</th>\n      <td>0</td>\n      <td>1033</td>\n      <td>119</td>\n      <td>119</td>\n      <td>8</td>\n      <td>0</td>\n      <td>5</td>\n      <td>30</td>\n      <td>1.8</td>\n      <td>0</td>\n      <td>...</td>\n      <td>0</td>\n      <td>0</td>\n      <td>0</td>\n      <td>0</td>\n      <td>0</td>\n      <td>0</td>\n      <td>0</td>\n      <td>0</td>\n      <td>2</td>\n      <td>1</td>\n    </tr>\n    <tr>\n      <th>519</th>\n      <td>25</td>\n      <td>679</td>\n      <td>126</td>\n      <td>126</td>\n      <td>5</td>\n      <td>26</td>\n      <td>3</td>\n      <td>42</td>\n      <td>1.5</td>\n      <td>0</td>\n      <td>...</td>\n      <td>0</td>\n      <td>0</td>\n      <td>0</td>\n      <td>0</td>\n      <td>0</td>\n      <td>0</td>\n      <td>0</td>\n      <td>0</td>\n      <td>2</td>\n      <td>1</td>\n    </tr>\n    <tr>\n      <th>745</th>\n      <td>242</td>\n      <td>1014</td>\n      <td>142</td>\n      <td>142</td>\n      <td>1</td>\n      <td>0</td>\n      <td>4</td>\n      <td>23</td>\n      <td>3.6</td>\n      <td>0</td>\n      <td>...</td>\n      <td>0</td>\n      <td>0</td>\n      <td>0</td>\n      <td>0</td>\n      <td>1</td>\n      <td>0</td>\n      <td>0</td>\n      <td>0</td>\n      <td>7</td>\n      <td>1</td>\n    </tr>\n  </tbody>\n</table>\n<p>5 rows × 37 columns</p>\n</div>"
          },
          "metadata": {}
        }
      ],
      "execution_count": 7,
      "metadata": {
        "gather": {
          "logged": 1610081229172
        },
        "id": "gJ3td74ADEFk",
        "outputId": "3b431849-e5ce-44f1-c6ef-e629b95b658a"
      }
    },
    {
      "cell_type": "code",
      "source": [
        "# save training data in tabular format to allow for remote run\n",
        "if not os.path.isdir('data'):  # create data folder if it does not exist\n",
        "    os.mkdir('data')\n",
        "    \n",
        "#if not os.path.exists('project_folder'):  # create project folder if it does not exist\n",
        " #   os.makedirs('project_folder')\n",
        "\n",
        "# Save the train data to a csv file to be uploaded to the datastore\n",
        "pd.DataFrame(train_data_df).to_csv(\"data/train_data.csv\", index=False)\n",
        "\n",
        "# Upload the training data as a tabular dataset for access during training on remote compute\n",
        "# upload to data store\n",
        "ds = ws.get_default_datastore()\n",
        "ds.upload(src_dir='./data', target_path='ctgclassifier', overwrite=True, show_progress=True)\n",
        "\n",
        " # access datastore during training on remote compute\n",
        "train_data = TabularDatasetFactory.from_delimited_files(path=ds.path('ctgclassifier/train_data.csv'))\n"
      ],
      "outputs": [
        {
          "output_type": "stream",
          "name": "stdout",
          "text": [
            "Uploading an estimated of 1 files\n",
            "Uploading ./data/train_data.csv\n",
            "Uploaded ./data/train_data.csv, 1 files out of an estimated total of 1\n",
            "Uploaded 1 files\n"
          ]
        }
      ],
      "execution_count": 8,
      "metadata": {
        "gather": {
          "logged": 1610081276181
        },
        "id": "4k4BDeq6BemO",
        "outputId": "c13d04b1-97bd-4574-c955-87256f87a5df"
      }
    },
    {
      "cell_type": "markdown",
      "source": [
        "## AutoML Configuration\n",
        "\n",
        "TODO: Explain why you chose the automl settings and cofiguration you used below."
      ],
      "metadata": {
        "id": "4kn_ZqTj3NPM"
      }
    },
    {
      "cell_type": "code",
      "source": [
        "# Set parameters for AutoMLConfig\n",
        "\n",
        "# define autoconfig settings\n",
        "automl_settings = {\n",
        "    \"enable_early_stopping\" : True,\n",
        "    \"iteration_timeout_minutes\": 5,\n",
        "    \"max_concurrent_iterations\": 4,\n",
        "    \"max_cores_per_iteration\": -1,    \n",
        "    \"featurization\": 'auto',\n",
        "    \"verbosity\": logging.INFO,\n",
        "}\n",
        "\n",
        "# define automl autconfig parameters\n",
        "automl_config = AutoMLConfig(\n",
        "    experiment_timeout_minutes=30,\n",
        "    task= 'classification',\n",
        "    primary_metric='accuracy',\n",
        "    enable_onnx_compatible_models=True,\n",
        "    compute_target=cpu_cluster, \n",
        "    training_data= train_data,\n",
        "    label_column_name= label,\n",
        "    path = project_folder,\n",
        "    n_cross_validations=3,\n",
        "    debug_log = \"automl_errors.log\",    \n",
        "    **automl_settings)"
      ],
      "outputs": [],
      "execution_count": 25,
      "metadata": {
        "gather": {
          "logged": 1610089383562
        },
        "id": "_9-vppqt4xXt"
      }
    },
    {
      "cell_type": "code",
      "source": [
        "#Submit experiment for remote run\n",
        "automl_run = experiment.submit(automl_config, show_output = True)"
      ],
      "outputs": [
        {
          "output_type": "stream",
          "name": "stdout",
          "text": [
            "Running on remote.\n",
            "No run_configuration provided, running on automl-cluster with default configuration\n",
            "Running on remote compute: automl-cluster\n",
            "Parent Run ID: AutoML_42f9b711-ee02-4587-b942-796c4f8ba304\n",
            "\n",
            "Current status: FeaturesGeneration. Generating features for the dataset.\n",
            "Current status: DatasetBalancing. Performing class balancing sweeping\n",
            "Current status: ModelSelection. Beginning model selection.\n",
            "\n",
            "****************************************************************************************************\n",
            "DATA GUARDRAILS: \n",
            "\n",
            "TYPE:         Class balancing detection\n",
            "STATUS:       ALERTED\n",
            "DESCRIPTION:  To decrease model bias, please cancel the current run and fix balancing problem.\n",
            "              Learn more about imbalanced data: https://aka.ms/AutomatedMLImbalancedData\n",
            "DETAILS:      Imbalanced data can lead to a falsely perceived positive effect of a model's accuracy because the input data has bias towards one class.\n",
            "+---------------------------------+---------------------------------+--------------------------------------+\n",
            "|Size of the smallest class       |Name/Label of the smallest class |Number of samples in the training data|\n",
            "+=================================+=================================+======================================+\n",
            "|118                              |3                                |1488                                  |\n",
            "+---------------------------------+---------------------------------+--------------------------------------+\n",
            "\n",
            "****************************************************************************************************\n",
            "\n",
            "TYPE:         High cardinality feature detection\n",
            "STATUS:       PASSED\n",
            "DESCRIPTION:  Your inputs were analyzed, and no high cardinality features were detected.\n",
            "              Learn more about high cardinality feature handling: https://aka.ms/AutomatedMLFeaturization\n",
            "\n",
            "****************************************************************************************************\n",
            "\n",
            "****************************************************************************************************\n",
            "ITERATION: The iteration being evaluated.\n",
            "PIPELINE: A summary description of the pipeline being evaluated.\n",
            "DURATION: Time taken for the current iteration.\n",
            "METRIC: The result of computing score on the fitted pipeline.\n",
            "BEST: The best observed score thus far.\n",
            "****************************************************************************************************\n",
            "\n",
            " ITERATION   PIPELINE                                       DURATION      METRIC      BEST\n",
            "         1   MaxAbsScaler XGBoostClassifier                 0:00:58       0.9892    0.9892\n",
            "         2   MinMaxScaler RandomForest                      0:00:56       0.9691    0.9892\n",
            "         0   MaxAbsScaler LightGBM                          0:01:10       0.9886    0.9892\n",
            "         3   MinMaxScaler RandomForest                      0:01:06       0.9039    0.9892\n",
            "         4   MinMaxScaler RandomForest                      0:00:46       0.9879    0.9892\n",
            "         5   StandardScalerWrapper LogisticRegression       0:00:53       0.9886    0.9892\n",
            "         6   MinMaxScaler SVM                               0:01:18       0.9899    0.9899\n",
            "         7   SparseNormalizer XGBoostClassifier             0:01:10       0.9852    0.9899\n",
            "         8   MinMaxScaler SVM                               0:00:48       0.9899    0.9899\n",
            "         9   RobustScaler SVM                               0:00:46       0.9866    0.9899\n",
            "        10   MinMaxScaler LogisticRegression                0:00:50       0.9892    0.9899\n",
            "        11   SparseNormalizer XGBoostClassifier             0:00:57       0.9839    0.9899\n",
            "        12   StandardScalerWrapper LightGBM                 0:00:50       0.8683    0.9899\n",
            "        13   RobustScaler LightGBM                          0:01:13       0.9872    0.9899\n",
            "        14   StandardScalerWrapper RandomForest             0:00:57       0.9798    0.9899\n",
            "        15   MinMaxScaler LightGBM                          0:00:49       0.9792    0.9899\n",
            "        16   MaxAbsScaler LightGBM                          0:01:22       0.9859    0.9899\n",
            "        17   SparseNormalizer XGBoostClassifier             0:00:50       0.9872    0.9899\n",
            "        18   SparseNormalizer XGBoostClassifier             0:00:48       0.9630    0.9899\n",
            "        19   SparseNormalizer XGBoostClassifier             0:00:53       0.9859    0.9899\n",
            "        20   StandardScalerWrapper LightGBM                 0:01:07       0.9892    0.9899\n",
            "        21   SparseNormalizer XGBoostClassifier             0:01:25       0.9839    0.9899\n",
            "        22   SparseNormalizer XGBoostClassifier             0:01:24       0.9866    0.9899\n",
            "        23   MinMaxScaler LightGBM                          0:01:09       0.9798    0.9899\n",
            "        24   SparseNormalizer LightGBM                      0:00:54       0.9274    0.9899\n",
            "        25   StandardScalerWrapper SVM                      0:00:58       0.9126    0.9899\n",
            "        26   StandardScalerWrapper ExtremeRandomTrees       0:00:52       0.9630    0.9899\n",
            "        27   SparseNormalizer ExtremeRandomTrees            0:00:54       0.9772    0.9899\n",
            "        28   MaxAbsScaler RandomForest                      0:01:05       0.9288    0.9899\n",
            "        29   PCA SVM                                        0:00:55       0.7802    0.9899\n",
            "        30   MinMaxScaler LogisticRegression                0:00:55       0.9892    0.9899\n",
            "        31   StandardScalerWrapper ExtremeRandomTrees       0:00:53       0.9704    0.9899\n",
            "        32   StandardScalerWrapper LogisticRegression       0:00:54       0.9886    0.9899\n",
            "        33   SparseNormalizer XGBoostClassifier             0:00:47          nan    0.9899\n",
            "        34   MinMaxScaler SVM                               0:00:37          nan    0.9899\n",
            "        35   StandardScalerWrapper XGBoostClassifier        0:00:39          nan    0.9899\n",
            "        36    VotingEnsemble                                0:01:10       0.9906    0.9906\n"
          ]
        }
      ],
      "execution_count": 26,
      "metadata": {
        "gather": {
          "logged": 1610090332382
        },
        "id": "NwL2M_5e3NPM",
        "jupyter": {
          "outputs_hidden": false,
          "source_hidden": false
        },
        "nteract": {
          "transient": {
            "deleting": false
          }
        },
        "outputId": "dfe1b257-ac89-4055-b836-ed70e9cf1386"
      }
    },
    {
      "cell_type": "markdown",
      "source": [
        "## Run Details\n",
        "\n",
        "OPTIONAL: Write about the different models trained and their performance. Why do you think some models did better than others?\n",
        "\n",
        "TODO: In the cell below, use the `RunDetails` widget to show the different experiments."
      ],
      "metadata": {
        "id": "OmlluTv53NPN"
      }
    },
    {
      "cell_type": "code",
      "source": [
        "# show run details\n",
        "from azureml.widgets import RunDetails\n",
        "RunDetails(automl_run).show()\n",
        "\n",
        "# wait for completion\n",
        "automl_run.wait_for_completion()\n"
      ],
      "outputs": [
        {
          "output_type": "display_data",
          "data": {
            "text/plain": "_AutoMLWidget(widget_settings={'childWidgetDisplay': 'popup', 'send_telemetry': False, 'log_level': 'INFO', 's…",
            "application/vnd.jupyter.widget-view+json": {
              "version_major": 2,
              "version_minor": 0,
              "model_id": "7c88ea935c294128bbb1c1c07e6003a7"
            }
          },
          "metadata": {}
        },
        {
          "output_type": "display_data",
          "data": {
            "application/aml.mini.widget.v1": "{\"status\": \"Completed\", \"workbench_run_details_uri\": \"https://ml.azure.com/experiments/ctg_experiment/runs/AutoML_42f9b711-ee02-4587-b942-796c4f8ba304?wsid=/subscriptions/510b94ba-e453-4417-988b-fbdc37b55ca7/resourcegroups/aml-quickstarts-133934/workspaces/quick-starts-ws-133934\", \"run_id\": \"AutoML_42f9b711-ee02-4587-b942-796c4f8ba304\", \"run_properties\": {\"run_id\": \"AutoML_42f9b711-ee02-4587-b942-796c4f8ba304\", \"created_utc\": \"2021-01-08T07:03:13.698816Z\", \"properties\": {\"num_iterations\": \"1000\", \"training_type\": \"TrainFull\", \"acquisition_function\": \"EI\", \"primary_metric\": \"accuracy\", \"train_split\": \"0\", \"acquisition_parameter\": \"0\", \"num_cross_validation\": \"3\", \"target\": \"automl-cluster\", \"AMLSettingsJsonString\": \"{\\\"path\\\":null,\\\"name\\\":\\\"ctg_experiment\\\",\\\"subscription_id\\\":\\\"510b94ba-e453-4417-988b-fbdc37b55ca7\\\",\\\"resource_group\\\":\\\"aml-quickstarts-133934\\\",\\\"workspace_name\\\":\\\"quick-starts-ws-133934\\\",\\\"region\\\":\\\"southcentralus\\\",\\\"compute_target\\\":\\\"automl-cluster\\\",\\\"spark_service\\\":null,\\\"azure_service\\\":\\\"remote\\\",\\\"many_models\\\":false,\\\"pipeline_fetch_max_batch_size\\\":1,\\\"iterations\\\":1000,\\\"primary_metric\\\":\\\"accuracy\\\",\\\"task_type\\\":\\\"classification\\\",\\\"data_script\\\":null,\\\"validation_size\\\":0.0,\\\"n_cross_validations\\\":3,\\\"y_min\\\":null,\\\"y_max\\\":null,\\\"num_classes\\\":null,\\\"featurization\\\":\\\"auto\\\",\\\"_ignore_package_version_incompatibilities\\\":false,\\\"is_timeseries\\\":false,\\\"max_cores_per_iteration\\\":-1,\\\"max_concurrent_iterations\\\":4,\\\"iteration_timeout_minutes\\\":5,\\\"mem_in_mb\\\":null,\\\"enforce_time_on_windows\\\":false,\\\"experiment_timeout_minutes\\\":30,\\\"experiment_exit_score\\\":null,\\\"whitelist_models\\\":null,\\\"blacklist_algos\\\":[\\\"TensorFlowLinearClassifier\\\",\\\"TensorFlowDNN\\\"],\\\"supported_models\\\":[\\\"MultinomialNaiveBayes\\\",\\\"TensorFlowLinearClassifier\\\",\\\"LightGBM\\\",\\\"AveragedPerceptronClassifier\\\",\\\"KNN\\\",\\\"LogisticRegression\\\",\\\"RandomForest\\\",\\\"SVM\\\",\\\"BernoulliNaiveBayes\\\",\\\"SGD\\\",\\\"DecisionTree\\\",\\\"GradientBoosting\\\",\\\"XGBoostClassifier\\\",\\\"LinearSVM\\\",\\\"TensorFlowDNN\\\",\\\"ExtremeRandomTrees\\\"],\\\"auto_blacklist\\\":true,\\\"blacklist_samples_reached\\\":false,\\\"exclude_nan_labels\\\":true,\\\"verbosity\\\":20,\\\"_debug_log\\\":\\\"azureml_automl.log\\\",\\\"show_warnings\\\":false,\\\"model_explainability\\\":true,\\\"service_url\\\":null,\\\"sdk_url\\\":null,\\\"sdk_packages\\\":null,\\\"enable_onnx_compatible_models\\\":true,\\\"enable_split_onnx_featurizer_estimator_models\\\":false,\\\"vm_type\\\":\\\"STANDARD_DS3_V2\\\",\\\"telemetry_verbosity\\\":20,\\\"send_telemetry\\\":true,\\\"enable_dnn\\\":false,\\\"scenario\\\":\\\"SDK-1.13.0\\\",\\\"environment_label\\\":null,\\\"force_text_dnn\\\":false,\\\"enable_feature_sweeping\\\":false,\\\"enable_early_stopping\\\":true,\\\"early_stopping_n_iters\\\":10,\\\"metrics\\\":null,\\\"enable_ensembling\\\":true,\\\"enable_stack_ensembling\\\":false,\\\"ensemble_iterations\\\":15,\\\"enable_tf\\\":false,\\\"enable_subsampling\\\":null,\\\"subsample_seed\\\":null,\\\"enable_nimbusml\\\":false,\\\"enable_streaming\\\":false,\\\"force_streaming\\\":false,\\\"track_child_runs\\\":true,\\\"allowed_private_models\\\":[],\\\"label_column_name\\\":\\\"NSP\\\",\\\"weight_column_name\\\":null,\\\"cv_split_column_names\\\":null,\\\"enable_local_managed\\\":false,\\\"_local_managed_run_id\\\":null,\\\"cost_mode\\\":1,\\\"lag_length\\\":0,\\\"metric_operation\\\":\\\"maximize\\\",\\\"preprocess\\\":true}\", \"DataPrepJsonString\": \"{\\\\\\\"training_data\\\\\\\": \\\\\\\"{\\\\\\\\\\\\\\\"blocks\\\\\\\\\\\\\\\": [{\\\\\\\\\\\\\\\"id\\\\\\\\\\\\\\\": \\\\\\\\\\\\\\\"983c7e3c-20de-42ea-9e7d-e5f63e1059d4\\\\\\\\\\\\\\\", \\\\\\\\\\\\\\\"type\\\\\\\\\\\\\\\": \\\\\\\\\\\\\\\"Microsoft.DPrep.GetDatastoreFilesBlock\\\\\\\\\\\\\\\", \\\\\\\\\\\\\\\"arguments\\\\\\\\\\\\\\\": {\\\\\\\\\\\\\\\"datastores\\\\\\\\\\\\\\\": [{\\\\\\\\\\\\\\\"datastoreName\\\\\\\\\\\\\\\": \\\\\\\\\\\\\\\"workspaceblobstore\\\\\\\\\\\\\\\", \\\\\\\\\\\\\\\"path\\\\\\\\\\\\\\\": \\\\\\\\\\\\\\\"automlclassifier/train_data.csv\\\\\\\\\\\\\\\", \\\\\\\\\\\\\\\"resourceGroup\\\\\\\\\\\\\\\": \\\\\\\\\\\\\\\"aml-quickstarts-133934\\\\\\\\\\\\\\\", \\\\\\\\\\\\\\\"subscription\\\\\\\\\\\\\\\": \\\\\\\\\\\\\\\"510b94ba-e453-4417-988b-fbdc37b55ca7\\\\\\\\\\\\\\\", \\\\\\\\\\\\\\\"workspaceName\\\\\\\\\\\\\\\": \\\\\\\\\\\\\\\"quick-starts-ws-133934\\\\\\\\\\\\\\\"}]}, \\\\\\\\\\\\\\\"localData\\\\\\\\\\\\\\\": {}, \\\\\\\\\\\\\\\"isEnabled\\\\\\\\\\\\\\\": true, \\\\\\\\\\\\\\\"name\\\\\\\\\\\\\\\": null, \\\\\\\\\\\\\\\"annotation\\\\\\\\\\\\\\\": null}, {\\\\\\\\\\\\\\\"id\\\\\\\\\\\\\\\": \\\\\\\\\\\\\\\"c5b5a958-b20f-49ae-8ac5-a7a7de441602\\\\\\\\\\\\\\\", \\\\\\\\\\\\\\\"type\\\\\\\\\\\\\\\": \\\\\\\\\\\\\\\"Microsoft.DPrep.ParseDelimitedBlock\\\\\\\\\\\\\\\", \\\\\\\\\\\\\\\"arguments\\\\\\\\\\\\\\\": {\\\\\\\\\\\\\\\"columnHeadersMode\\\\\\\\\\\\\\\": 3, \\\\\\\\\\\\\\\"fileEncoding\\\\\\\\\\\\\\\": 0, \\\\\\\\\\\\\\\"handleQuotedLineBreaks\\\\\\\\\\\\\\\": false, \\\\\\\\\\\\\\\"preview\\\\\\\\\\\\\\\": false, \\\\\\\\\\\\\\\"separator\\\\\\\\\\\\\\\": \\\\\\\\\\\\\\\",\\\\\\\\\\\\\\\", \\\\\\\\\\\\\\\"skipRows\\\\\\\\\\\\\\\": 0, \\\\\\\\\\\\\\\"skipRowsMode\\\\\\\\\\\\\\\": 0}, \\\\\\\\\\\\\\\"localData\\\\\\\\\\\\\\\": {}, \\\\\\\\\\\\\\\"isEnabled\\\\\\\\\\\\\\\": true, \\\\\\\\\\\\\\\"name\\\\\\\\\\\\\\\": null, \\\\\\\\\\\\\\\"annotation\\\\\\\\\\\\\\\": null}, {\\\\\\\\\\\\\\\"id\\\\\\\\\\\\\\\": \\\\\\\\\\\\\\\"cebc9dc1-1c2d-4163-ae82-3fa5dc7a3a47\\\\\\\\\\\\\\\", \\\\\\\\\\\\\\\"type\\\\\\\\\\\\\\\": \\\\\\\\\\\\\\\"Microsoft.DPrep.DropColumnsBlock\\\\\\\\\\\\\\\", \\\\\\\\\\\\\\\"arguments\\\\\\\\\\\\\\\": {\\\\\\\\\\\\\\\"columns\\\\\\\\\\\\\\\": {\\\\\\\\\\\\\\\"type\\\\\\\\\\\\\\\": 0, \\\\\\\\\\\\\\\"details\\\\\\\\\\\\\\\": {\\\\\\\\\\\\\\\"selectedColumns\\\\\\\\\\\\\\\": [\\\\\\\\\\\\\\\"Path\\\\\\\\\\\\\\\"]}}}, \\\\\\\\\\\\\\\"localData\\\\\\\\\\\\\\\": {}, \\\\\\\\\\\\\\\"isEnabled\\\\\\\\\\\\\\\": true, \\\\\\\\\\\\\\\"name\\\\\\\\\\\\\\\": null, \\\\\\\\\\\\\\\"annotation\\\\\\\\\\\\\\\": null}, {\\\\\\\\\\\\\\\"id\\\\\\\\\\\\\\\": \\\\\\\\\\\\\\\"722f13c6-d2eb-41c8-82fc-b52d07896930\\\\\\\\\\\\\\\", \\\\\\\\\\\\\\\"type\\\\\\\\\\\\\\\": \\\\\\\\\\\\\\\"Microsoft.DPrep.SetColumnTypesBlock\\\\\\\\\\\\\\\", \\\\\\\\\\\\\\\"arguments\\\\\\\\\\\\\\\": {\\\\\\\\\\\\\\\"columnConversion\\\\\\\\\\\\\\\": [{\\\\\\\\\\\\\\\"column\\\\\\\\\\\\\\\": {\\\\\\\\\\\\\\\"type\\\\\\\\\\\\\\\": 2, \\\\\\\\\\\\\\\"details\\\\\\\\\\\\\\\": {\\\\\\\\\\\\\\\"selectedColumn\\\\\\\\\\\\\\\": \\\\\\\\\\\\\\\"b\\\\\\\\\\\\\\\"}}, \\\\\\\\\\\\\\\"typeProperty\\\\\\\\\\\\\\\": 2}, {\\\\\\\\\\\\\\\"column\\\\\\\\\\\\\\\": {\\\\\\\\\\\\\\\"type\\\\\\\\\\\\\\\": 2, \\\\\\\\\\\\\\\"details\\\\\\\\\\\\\\\": {\\\\\\\\\\\\\\\"selectedColumn\\\\\\\\\\\\\\\": \\\\\\\\\\\\\\\"e\\\\\\\\\\\\\\\"}}, \\\\\\\\\\\\\\\"typeProperty\\\\\\\\\\\\\\\": 2}, {\\\\\\\\\\\\\\\"column\\\\\\\\\\\\\\\": {\\\\\\\\\\\\\\\"type\\\\\\\\\\\\\\\": 2, \\\\\\\\\\\\\\\"details\\\\\\\\\\\\\\\": {\\\\\\\\\\\\\\\"selectedColumn\\\\\\\\\\\\\\\": \\\\\\\\\\\\\\\"LBE\\\\\\\\\\\\\\\"}}, \\\\\\\\\\\\\\\"typeProperty\\\\\\\\\\\\\\\": 2}, {\\\\\\\\\\\\\\\"column\\\\\\\\\\\\\\\": {\\\\\\\\\\\\\\\"type\\\\\\\\\\\\\\\": 2, \\\\\\\\\\\\\\\"details\\\\\\\\\\\\\\\": {\\\\\\\\\\\\\\\"selectedColumn\\\\\\\\\\\\\\\": \\\\\\\\\\\\\\\"LB\\\\\\\\\\\\\\\"}}, \\\\\\\\\\\\\\\"typeProperty\\\\\\\\\\\\\\\": 2}, {\\\\\\\\\\\\\\\"column\\\\\\\\\\\\\\\": {\\\\\\\\\\\\\\\"type\\\\\\\\\\\\\\\": 2, \\\\\\\\\\\\\\\"details\\\\\\\\\\\\\\\": {\\\\\\\\\\\\\\\"selectedColumn\\\\\\\\\\\\\\\": \\\\\\\\\\\\\\\"AC\\\\\\\\\\\\\\\"}}, \\\\\\\\\\\\\\\"typeProperty\\\\\\\\\\\\\\\": 2}, {\\\\\\\\\\\\\\\"column\\\\\\\\\\\\\\\": {\\\\\\\\\\\\\\\"type\\\\\\\\\\\\\\\": 2, \\\\\\\\\\\\\\\"details\\\\\\\\\\\\\\\": {\\\\\\\\\\\\\\\"selectedColumn\\\\\\\\\\\\\\\": \\\\\\\\\\\\\\\"FM\\\\\\\\\\\\\\\"}}, \\\\\\\\\\\\\\\"typeProperty\\\\\\\\\\\\\\\": 2}, {\\\\\\\\\\\\\\\"column\\\\\\\\\\\\\\\": {\\\\\\\\\\\\\\\"type\\\\\\\\\\\\\\\": 2, \\\\\\\\\\\\\\\"details\\\\\\\\\\\\\\\": {\\\\\\\\\\\\\\\"selectedColumn\\\\\\\\\\\\\\\": \\\\\\\\\\\\\\\"UC\\\\\\\\\\\\\\\"}}, \\\\\\\\\\\\\\\"typeProperty\\\\\\\\\\\\\\\": 2}, {\\\\\\\\\\\\\\\"column\\\\\\\\\\\\\\\": {\\\\\\\\\\\\\\\"type\\\\\\\\\\\\\\\": 2, \\\\\\\\\\\\\\\"details\\\\\\\\\\\\\\\": {\\\\\\\\\\\\\\\"selectedColumn\\\\\\\\\\\\\\\": \\\\\\\\\\\\\\\"ASTV\\\\\\\\\\\\\\\"}}, \\\\\\\\\\\\\\\"typeProperty\\\\\\\\\\\\\\\": 2}, {\\\\\\\\\\\\\\\"column\\\\\\\\\\\\\\\": {\\\\\\\\\\\\\\\"type\\\\\\\\\\\\\\\": 2, \\\\\\\\\\\\\\\"details\\\\\\\\\\\\\\\": {\\\\\\\\\\\\\\\"selectedColumn\\\\\\\\\\\\\\\": \\\\\\\\\\\\\\\"MSTV\\\\\\\\\\\\\\\"}}, \\\\\\\\\\\\\\\"typeProperty\\\\\\\\\\\\\\\": 3}, {\\\\\\\\\\\\\\\"column\\\\\\\\\\\\\\\": {\\\\\\\\\\\\\\\"type\\\\\\\\\\\\\\\": 2, \\\\\\\\\\\\\\\"details\\\\\\\\\\\\\\\": {\\\\\\\\\\\\\\\"selectedColumn\\\\\\\\\\\\\\\": \\\\\\\\\\\\\\\"ALTV\\\\\\\\\\\\\\\"}}, \\\\\\\\\\\\\\\"typeProperty\\\\\\\\\\\\\\\": 2}, {\\\\\\\\\\\\\\\"column\\\\\\\\\\\\\\\": {\\\\\\\\\\\\\\\"type\\\\\\\\\\\\\\\": 2, \\\\\\\\\\\\\\\"details\\\\\\\\\\\\\\\": {\\\\\\\\\\\\\\\"selectedColumn\\\\\\\\\\\\\\\": \\\\\\\\\\\\\\\"MLTV\\\\\\\\\\\\\\\"}}, \\\\\\\\\\\\\\\"typeProperty\\\\\\\\\\\\\\\": 3}, {\\\\\\\\\\\\\\\"column\\\\\\\\\\\\\\\": {\\\\\\\\\\\\\\\"type\\\\\\\\\\\\\\\": 2, \\\\\\\\\\\\\\\"details\\\\\\\\\\\\\\\": {\\\\\\\\\\\\\\\"selectedColumn\\\\\\\\\\\\\\\": \\\\\\\\\\\\\\\"DL\\\\\\\\\\\\\\\"}}, \\\\\\\\\\\\\\\"typeProperty\\\\\\\\\\\\\\\": 2}, {\\\\\\\\\\\\\\\"column\\\\\\\\\\\\\\\": {\\\\\\\\\\\\\\\"type\\\\\\\\\\\\\\\": 2, \\\\\\\\\\\\\\\"details\\\\\\\\\\\\\\\": {\\\\\\\\\\\\\\\"selectedColumn\\\\\\\\\\\\\\\": \\\\\\\\\\\\\\\"DS\\\\\\\\\\\\\\\"}}, \\\\\\\\\\\\\\\"typeProperty\\\\\\\\\\\\\\\": 2}, {\\\\\\\\\\\\\\\"column\\\\\\\\\\\\\\\": {\\\\\\\\\\\\\\\"type\\\\\\\\\\\\\\\": 2, \\\\\\\\\\\\\\\"details\\\\\\\\\\\\\\\": {\\\\\\\\\\\\\\\"selectedColumn\\\\\\\\\\\\\\\": \\\\\\\\\\\\\\\"DP\\\\\\\\\\\\\\\"}}, \\\\\\\\\\\\\\\"typeProperty\\\\\\\\\\\\\\\": 2}, {\\\\\\\\\\\\\\\"column\\\\\\\\\\\\\\\": {\\\\\\\\\\\\\\\"type\\\\\\\\\\\\\\\": 2, \\\\\\\\\\\\\\\"details\\\\\\\\\\\\\\\": {\\\\\\\\\\\\\\\"selectedColumn\\\\\\\\\\\\\\\": \\\\\\\\\\\\\\\"DR\\\\\\\\\\\\\\\"}}, \\\\\\\\\\\\\\\"typeProperty\\\\\\\\\\\\\\\": 2}, {\\\\\\\\\\\\\\\"column\\\\\\\\\\\\\\\": {\\\\\\\\\\\\\\\"type\\\\\\\\\\\\\\\": 2, \\\\\\\\\\\\\\\"details\\\\\\\\\\\\\\\": {\\\\\\\\\\\\\\\"selectedColumn\\\\\\\\\\\\\\\": \\\\\\\\\\\\\\\"Width\\\\\\\\\\\\\\\"}}, \\\\\\\\\\\\\\\"typeProperty\\\\\\\\\\\\\\\": 2}, {\\\\\\\\\\\\\\\"column\\\\\\\\\\\\\\\": {\\\\\\\\\\\\\\\"type\\\\\\\\\\\\\\\": 2, \\\\\\\\\\\\\\\"details\\\\\\\\\\\\\\\": {\\\\\\\\\\\\\\\"selectedColumn\\\\\\\\\\\\\\\": \\\\\\\\\\\\\\\"Min\\\\\\\\\\\\\\\"}}, \\\\\\\\\\\\\\\"typeProperty\\\\\\\\\\\\\\\": 2}, {\\\\\\\\\\\\\\\"column\\\\\\\\\\\\\\\": {\\\\\\\\\\\\\\\"type\\\\\\\\\\\\\\\": 2, \\\\\\\\\\\\\\\"details\\\\\\\\\\\\\\\": {\\\\\\\\\\\\\\\"selectedColumn\\\\\\\\\\\\\\\": \\\\\\\\\\\\\\\"Max\\\\\\\\\\\\\\\"}}, \\\\\\\\\\\\\\\"typeProperty\\\\\\\\\\\\\\\": 2}, {\\\\\\\\\\\\\\\"column\\\\\\\\\\\\\\\": {\\\\\\\\\\\\\\\"type\\\\\\\\\\\\\\\": 2, \\\\\\\\\\\\\\\"details\\\\\\\\\\\\\\\": {\\\\\\\\\\\\\\\"selectedColumn\\\\\\\\\\\\\\\": \\\\\\\\\\\\\\\"Nmax\\\\\\\\\\\\\\\"}}, \\\\\\\\\\\\\\\"typeProperty\\\\\\\\\\\\\\\": 2}, {\\\\\\\\\\\\\\\"column\\\\\\\\\\\\\\\": {\\\\\\\\\\\\\\\"type\\\\\\\\\\\\\\\": 2, \\\\\\\\\\\\\\\"details\\\\\\\\\\\\\\\": {\\\\\\\\\\\\\\\"selectedColumn\\\\\\\\\\\\\\\": \\\\\\\\\\\\\\\"Nzeros\\\\\\\\\\\\\\\"}}, \\\\\\\\\\\\\\\"typeProperty\\\\\\\\\\\\\\\": 2}, {\\\\\\\\\\\\\\\"column\\\\\\\\\\\\\\\": {\\\\\\\\\\\\\\\"type\\\\\\\\\\\\\\\": 2, \\\\\\\\\\\\\\\"details\\\\\\\\\\\\\\\": {\\\\\\\\\\\\\\\"selectedColumn\\\\\\\\\\\\\\\": \\\\\\\\\\\\\\\"Mode\\\\\\\\\\\\\\\"}}, \\\\\\\\\\\\\\\"typeProperty\\\\\\\\\\\\\\\": 2}, {\\\\\\\\\\\\\\\"column\\\\\\\\\\\\\\\": {\\\\\\\\\\\\\\\"type\\\\\\\\\\\\\\\": 2, \\\\\\\\\\\\\\\"details\\\\\\\\\\\\\\\": {\\\\\\\\\\\\\\\"selectedColumn\\\\\\\\\\\\\\\": \\\\\\\\\\\\\\\"Mean\\\\\\\\\\\\\\\"}}, \\\\\\\\\\\\\\\"typeProperty\\\\\\\\\\\\\\\": 2}, {\\\\\\\\\\\\\\\"column\\\\\\\\\\\\\\\": {\\\\\\\\\\\\\\\"type\\\\\\\\\\\\\\\": 2, \\\\\\\\\\\\\\\"details\\\\\\\\\\\\\\\": {\\\\\\\\\\\\\\\"selectedColumn\\\\\\\\\\\\\\\": \\\\\\\\\\\\\\\"Median\\\\\\\\\\\\\\\"}}, \\\\\\\\\\\\\\\"typeProperty\\\\\\\\\\\\\\\": 2}, {\\\\\\\\\\\\\\\"column\\\\\\\\\\\\\\\": {\\\\\\\\\\\\\\\"type\\\\\\\\\\\\\\\": 2, \\\\\\\\\\\\\\\"details\\\\\\\\\\\\\\\": {\\\\\\\\\\\\\\\"selectedColumn\\\\\\\\\\\\\\\": \\\\\\\\\\\\\\\"Variance\\\\\\\\\\\\\\\"}}, \\\\\\\\\\\\\\\"typeProperty\\\\\\\\\\\\\\\": 2}, {\\\\\\\\\\\\\\\"column\\\\\\\\\\\\\\\": {\\\\\\\\\\\\\\\"type\\\\\\\\\\\\\\\": 2, \\\\\\\\\\\\\\\"details\\\\\\\\\\\\\\\": {\\\\\\\\\\\\\\\"selectedColumn\\\\\\\\\\\\\\\": \\\\\\\\\\\\\\\"Tendency\\\\\\\\\\\\\\\"}}, \\\\\\\\\\\\\\\"typeProperty\\\\\\\\\\\\\\\": 2}, {\\\\\\\\\\\\\\\"column\\\\\\\\\\\\\\\": {\\\\\\\\\\\\\\\"type\\\\\\\\\\\\\\\": 2, \\\\\\\\\\\\\\\"details\\\\\\\\\\\\\\\": {\\\\\\\\\\\\\\\"selectedColumn\\\\\\\\\\\\\\\": \\\\\\\\\\\\\\\"A\\\\\\\\\\\\\\\"}}, \\\\\\\\\\\\\\\"typeProperty\\\\\\\\\\\\\\\": 2}, {\\\\\\\\\\\\\\\"column\\\\\\\\\\\\\\\": {\\\\\\\\\\\\\\\"type\\\\\\\\\\\\\\\": 2, \\\\\\\\\\\\\\\"details\\\\\\\\\\\\\\\": {\\\\\\\\\\\\\\\"selectedColumn\\\\\\\\\\\\\\\": \\\\\\\\\\\\\\\"B\\\\\\\\\\\\\\\"}}, \\\\\\\\\\\\\\\"typeProperty\\\\\\\\\\\\\\\": 2}, {\\\\\\\\\\\\\\\"column\\\\\\\\\\\\\\\": {\\\\\\\\\\\\\\\"type\\\\\\\\\\\\\\\": 2, \\\\\\\\\\\\\\\"details\\\\\\\\\\\\\\\": {\\\\\\\\\\\\\\\"selectedColumn\\\\\\\\\\\\\\\": \\\\\\\\\\\\\\\"C\\\\\\\\\\\\\\\"}}, \\\\\\\\\\\\\\\"typeProperty\\\\\\\\\\\\\\\": 2}, {\\\\\\\\\\\\\\\"column\\\\\\\\\\\\\\\": {\\\\\\\\\\\\\\\"type\\\\\\\\\\\\\\\": 2, \\\\\\\\\\\\\\\"details\\\\\\\\\\\\\\\": {\\\\\\\\\\\\\\\"selectedColumn\\\\\\\\\\\\\\\": \\\\\\\\\\\\\\\"D\\\\\\\\\\\\\\\"}}, \\\\\\\\\\\\\\\"typeProperty\\\\\\\\\\\\\\\": 2}, {\\\\\\\\\\\\\\\"column\\\\\\\\\\\\\\\": {\\\\\\\\\\\\\\\"type\\\\\\\\\\\\\\\": 2, \\\\\\\\\\\\\\\"details\\\\\\\\\\\\\\\": {\\\\\\\\\\\\\\\"selectedColumn\\\\\\\\\\\\\\\": \\\\\\\\\\\\\\\"E\\\\\\\\\\\\\\\"}}, \\\\\\\\\\\\\\\"typeProperty\\\\\\\\\\\\\\\": 2}, {\\\\\\\\\\\\\\\"column\\\\\\\\\\\\\\\": {\\\\\\\\\\\\\\\"type\\\\\\\\\\\\\\\": 2, \\\\\\\\\\\\\\\"details\\\\\\\\\\\\\\\": {\\\\\\\\\\\\\\\"selectedColumn\\\\\\\\\\\\\\\": \\\\\\\\\\\\\\\"AD\\\\\\\\\\\\\\\"}}, \\\\\\\\\\\\\\\"typeProperty\\\\\\\\\\\\\\\": 2}, {\\\\\\\\\\\\\\\"column\\\\\\\\\\\\\\\": {\\\\\\\\\\\\\\\"type\\\\\\\\\\\\\\\": 2, \\\\\\\\\\\\\\\"details\\\\\\\\\\\\\\\": {\\\\\\\\\\\\\\\"selectedColumn\\\\\\\\\\\\\\\": \\\\\\\\\\\\\\\"DE\\\\\\\\\\\\\\\"}}, \\\\\\\\\\\\\\\"typeProperty\\\\\\\\\\\\\\\": 2}, {\\\\\\\\\\\\\\\"column\\\\\\\\\\\\\\\": {\\\\\\\\\\\\\\\"type\\\\\\\\\\\\\\\": 2, \\\\\\\\\\\\\\\"details\\\\\\\\\\\\\\\": {\\\\\\\\\\\\\\\"selectedColumn\\\\\\\\\\\\\\\": \\\\\\\\\\\\\\\"LD\\\\\\\\\\\\\\\"}}, \\\\\\\\\\\\\\\"typeProperty\\\\\\\\\\\\\\\": 2}, {\\\\\\\\\\\\\\\"column\\\\\\\\\\\\\\\": {\\\\\\\\\\\\\\\"type\\\\\\\\\\\\\\\": 2, \\\\\\\\\\\\\\\"details\\\\\\\\\\\\\\\": {\\\\\\\\\\\\\\\"selectedColumn\\\\\\\\\\\\\\\": \\\\\\\\\\\\\\\"FS\\\\\\\\\\\\\\\"}}, \\\\\\\\\\\\\\\"typeProperty\\\\\\\\\\\\\\\": 2}, {\\\\\\\\\\\\\\\"column\\\\\\\\\\\\\\\": {\\\\\\\\\\\\\\\"type\\\\\\\\\\\\\\\": 2, \\\\\\\\\\\\\\\"details\\\\\\\\\\\\\\\": {\\\\\\\\\\\\\\\"selectedColumn\\\\\\\\\\\\\\\": \\\\\\\\\\\\\\\"SUSP\\\\\\\\\\\\\\\"}}, \\\\\\\\\\\\\\\"typeProperty\\\\\\\\\\\\\\\": 2}, {\\\\\\\\\\\\\\\"column\\\\\\\\\\\\\\\": {\\\\\\\\\\\\\\\"type\\\\\\\\\\\\\\\": 2, \\\\\\\\\\\\\\\"details\\\\\\\\\\\\\\\": {\\\\\\\\\\\\\\\"selectedColumn\\\\\\\\\\\\\\\": \\\\\\\\\\\\\\\"CLASS\\\\\\\\\\\\\\\"}}, \\\\\\\\\\\\\\\"typeProperty\\\\\\\\\\\\\\\": 2}, {\\\\\\\\\\\\\\\"column\\\\\\\\\\\\\\\": {\\\\\\\\\\\\\\\"type\\\\\\\\\\\\\\\": 2, \\\\\\\\\\\\\\\"details\\\\\\\\\\\\\\\": {\\\\\\\\\\\\\\\"selectedColumn\\\\\\\\\\\\\\\": \\\\\\\\\\\\\\\"NSP\\\\\\\\\\\\\\\"}}, \\\\\\\\\\\\\\\"typeProperty\\\\\\\\\\\\\\\": 2}]}, \\\\\\\\\\\\\\\"localData\\\\\\\\\\\\\\\": {}, \\\\\\\\\\\\\\\"isEnabled\\\\\\\\\\\\\\\": true, \\\\\\\\\\\\\\\"name\\\\\\\\\\\\\\\": null, \\\\\\\\\\\\\\\"annotation\\\\\\\\\\\\\\\": null}], \\\\\\\\\\\\\\\"inspectors\\\\\\\\\\\\\\\": [], \\\\\\\\\\\\\\\"meta\\\\\\\\\\\\\\\": {\\\\\\\\\\\\\\\"savedDatasetId\\\\\\\\\\\\\\\": \\\\\\\\\\\\\\\"c24ae7c8-c716-4013-9054-aa855b2a2063\\\\\\\\\\\\\\\", \\\\\\\\\\\\\\\"datasetType\\\\\\\\\\\\\\\": \\\\\\\\\\\\\\\"tabular\\\\\\\\\\\\\\\", \\\\\\\\\\\\\\\"subscriptionId\\\\\\\\\\\\\\\": \\\\\\\\\\\\\\\"510b94ba-e453-4417-988b-fbdc37b55ca7\\\\\\\\\\\\\\\", \\\\\\\\\\\\\\\"workspaceId\\\\\\\\\\\\\\\": \\\\\\\\\\\\\\\"a010fd04-17d7-434e-a078-0925e5cb0eb7\\\\\\\\\\\\\\\", \\\\\\\\\\\\\\\"workspaceLocation\\\\\\\\\\\\\\\": \\\\\\\\\\\\\\\"southcentralus\\\\\\\\\\\\\\\"}}\\\\\\\", \\\\\\\"activities\\\\\\\": 0}\", \"EnableSubsampling\": null, \"runTemplate\": \"AutoML\", \"azureml.runsource\": \"automl\", \"display_task_type\": \"classification\", \"dependencies_versions\": \"{\\\"azureml-widgets\\\": \\\"1.19.0\\\", \\\"azureml-train\\\": \\\"1.19.0\\\", \\\"azureml-train-restclients-hyperdrive\\\": \\\"1.19.0\\\", \\\"azureml-train-core\\\": \\\"1.19.0\\\", \\\"azureml-train-automl\\\": \\\"1.19.0\\\", \\\"azureml-train-automl-runtime\\\": \\\"1.19.0\\\", \\\"azureml-train-automl-client\\\": \\\"1.19.0\\\", \\\"azureml-tensorboard\\\": \\\"1.19.0\\\", \\\"azureml-telemetry\\\": \\\"1.19.0\\\", \\\"azureml-sdk\\\": \\\"1.19.0\\\", \\\"azureml-samples\\\": \\\"0+unknown\\\", \\\"azureml-pipeline\\\": \\\"1.19.0\\\", \\\"azureml-pipeline-steps\\\": \\\"1.19.0\\\", \\\"azureml-pipeline-core\\\": \\\"1.19.0\\\", \\\"azureml-opendatasets\\\": \\\"1.19.0\\\", \\\"azureml-model-management-sdk\\\": \\\"1.0.1b6.post1\\\", \\\"azureml-mlflow\\\": \\\"1.19.0\\\", \\\"azureml-interpret\\\": \\\"1.19.0\\\", \\\"azureml-explain-model\\\": \\\"1.19.0\\\", \\\"azureml-defaults\\\": \\\"1.19.0\\\", \\\"azureml-dataset-runtime\\\": \\\"1.19.0\\\", \\\"azureml-dataprep\\\": \\\"2.6.1\\\", \\\"azureml-dataprep-rslex\\\": \\\"1.4.0\\\", \\\"azureml-dataprep-native\\\": \\\"26.0.0\\\", \\\"azureml-datadrift\\\": \\\"1.19.0\\\", \\\"azureml-core\\\": \\\"1.19.0\\\", \\\"azureml-contrib-services\\\": \\\"1.19.0\\\", \\\"azureml-contrib-server\\\": \\\"1.19.0\\\", \\\"azureml-contrib-reinforcementlearning\\\": \\\"1.19.0\\\", \\\"azureml-contrib-pipeline-steps\\\": \\\"1.19.0\\\", \\\"azureml-contrib-notebook\\\": \\\"1.19.0\\\", \\\"azureml-contrib-interpret\\\": \\\"1.19.0\\\", \\\"azureml-contrib-gbdt\\\": \\\"1.19.0\\\", \\\"azureml-contrib-fairness\\\": \\\"1.19.0\\\", \\\"azureml-contrib-dataset\\\": \\\"1.19.0\\\", \\\"azureml-cli-common\\\": \\\"1.19.0\\\", \\\"azureml-automl-runtime\\\": \\\"1.19.0\\\", \\\"azureml-automl-core\\\": \\\"1.19.0\\\", \\\"azureml-accel-models\\\": \\\"1.19.0\\\"}\", \"_aml_system_scenario_identification\": \"Remote.Parent\", \"ClientType\": \"SDK\", \"environment_cpu_name\": \"AzureML-AutoML\", \"environment_cpu_label\": \"prod\", \"environment_gpu_name\": \"AzureML-AutoML-GPU\", \"environment_gpu_label\": \"prod\", \"root_attribution\": \"automl\", \"attribution\": \"AutoML\", \"Orchestrator\": \"AutoML\", \"CancelUri\": \"https://southcentralus.experiments.azureml.net/jasmine/v1.0/subscriptions/510b94ba-e453-4417-988b-fbdc37b55ca7/resourceGroups/aml-quickstarts-133934/providers/Microsoft.MachineLearningServices/workspaces/quick-starts-ws-133934/experimentids/99b88294-abc0-4210-8ab6-3a1425a55db3/cancel/AutoML_42f9b711-ee02-4587-b942-796c4f8ba304\", \"ClientSdkVersion\": \"1.19.0\", \"snapshotId\": \"00000000-0000-0000-0000-000000000000\", \"SetupRunId\": \"AutoML_42f9b711-ee02-4587-b942-796c4f8ba304_setup\", \"SetupRunContainerId\": \"dcid.AutoML_42f9b711-ee02-4587-b942-796c4f8ba304_setup\", \"FeaturizationRunJsonPath\": \"featurizer_container.json\", \"FeaturizationRunId\": \"AutoML_42f9b711-ee02-4587-b942-796c4f8ba304_featurize\", \"ProblemInfoJsonString\": \"{\\\"dataset_num_categorical\\\": 0, \\\"is_sparse\\\": false, \\\"subsampling\\\": false, \\\"dataset_classes\\\": 3, \\\"dataset_features\\\": 35, \\\"dataset_samples\\\": 1488, \\\"single_frequency_class_detected\\\": false}\", \"ModelExplainRunId\": \"AutoML_42f9b711-ee02-4587-b942-796c4f8ba304_ModelExplain\"}, \"tags\": {\"model_explain_run\": \"best_run\", \"_aml_system_azureml.automlComponent\": \"AutoML\", \"pipeline_id\": \"\", \"score\": \"\", \"predicted_cost\": \"\", \"fit_time\": \"\", \"training_percent\": \"\", \"iteration\": \"\", \"run_preprocessor\": \"\", \"run_algorithm\": \"\", \"dynamic_whitelisting_iterations\": \"<25>;<29>;<34>;\", \"automl_best_child_run_id\": \"AutoML_42f9b711-ee02-4587-b942-796c4f8ba304_36\", \"model_explain_best_run_child_id\": \"AutoML_42f9b711-ee02-4587-b942-796c4f8ba304_36\"}, \"end_time_utc\": \"2021-01-08T07:18:42.268004Z\", \"status\": \"Completed\", \"log_files\": {}, \"log_groups\": [], \"run_duration\": \"0:15:28\"}, \"child_runs\": [{\"run_id\": \"AutoML_42f9b711-ee02-4587-b942-796c4f8ba304_0\", \"run_number\": 60, \"metric\": null, \"status\": \"Completed\", \"run_type\": \"azureml.scriptrun\", \"training_percent\": \"100\", \"start_time\": \"2021-01-08T07:05:59.749576Z\", \"end_time\": \"2021-01-08T07:07:09.98647Z\", \"created_time\": \"2021-01-08T07:05:47.577027Z\", \"created_time_dt\": \"2021-01-08T07:05:47.577027Z\", \"duration\": \"0:01:22\", \"iteration\": \"0\", \"goal\": \"accuracy_max\", \"run_name\": \"MaxAbsScaler, LightGBM\", \"run_properties\": \"copy=True\", \"primary_metric\": 0.98857527, \"best_metric\": 0.98857527}, {\"run_id\": \"AutoML_42f9b711-ee02-4587-b942-796c4f8ba304_3\", \"run_number\": 61, \"metric\": null, \"status\": \"Completed\", \"run_type\": \"azureml.scriptrun\", \"training_percent\": \"100\", \"start_time\": \"2021-01-08T07:05:58.491743Z\", \"end_time\": \"2021-01-08T07:07:04.368024Z\", \"created_time\": \"2021-01-08T07:05:47.708528Z\", \"created_time_dt\": \"2021-01-08T07:05:47.708528Z\", \"duration\": \"0:01:16\", \"iteration\": \"3\", \"goal\": \"accuracy_max\", \"run_name\": \"MinMaxScaler, RandomForest\", \"run_properties\": \"copy=True, feature_range=(0, 1\", \"primary_metric\": 0.90389785, \"best_metric\": 0.98924731}, {\"run_id\": \"AutoML_42f9b711-ee02-4587-b942-796c4f8ba304_1\", \"run_number\": 62, \"metric\": null, \"status\": \"Completed\", \"run_type\": \"azureml.scriptrun\", \"training_percent\": \"100\", \"start_time\": \"2021-01-08T07:06:00.695635Z\", \"end_time\": \"2021-01-08T07:06:58.748179Z\", \"created_time\": \"2021-01-08T07:05:47.733712Z\", \"created_time_dt\": \"2021-01-08T07:05:47.733712Z\", \"duration\": \"0:01:11\", \"iteration\": \"1\", \"goal\": \"accuracy_max\", \"run_name\": \"MaxAbsScaler, XGBoostClassifier\", \"run_properties\": \"copy=True\", \"primary_metric\": 0.98924731, \"best_metric\": 0.98924731}, {\"run_id\": \"AutoML_42f9b711-ee02-4587-b942-796c4f8ba304_2\", \"run_number\": 63, \"metric\": null, \"status\": \"Completed\", \"run_type\": \"azureml.scriptrun\", \"training_percent\": \"100\", \"start_time\": \"2021-01-08T07:05:58.814861Z\", \"end_time\": \"2021-01-08T07:06:55.09115Z\", \"created_time\": \"2021-01-08T07:05:47.740533Z\", \"created_time_dt\": \"2021-01-08T07:05:47.740533Z\", \"duration\": \"0:01:07\", \"iteration\": \"2\", \"goal\": \"accuracy_max\", \"run_name\": \"MinMaxScaler, RandomForest\", \"run_properties\": \"copy=True, feature_range=(0, 1\", \"primary_metric\": 0.96908602, \"best_metric\": 0.98924731}, {\"run_id\": \"AutoML_42f9b711-ee02-4587-b942-796c4f8ba304_4\", \"run_number\": 64, \"metric\": null, \"status\": \"Completed\", \"run_type\": \"azureml.scriptrun\", \"training_percent\": \"100\", \"start_time\": \"2021-01-08T07:07:11.685218Z\", \"end_time\": \"2021-01-08T07:07:57.832783Z\", \"created_time\": \"2021-01-08T07:06:58.460251Z\", \"created_time_dt\": \"2021-01-08T07:06:58.460251Z\", \"duration\": \"0:00:59\", \"iteration\": \"4\", \"goal\": \"accuracy_max\", \"run_name\": \"MinMaxScaler, RandomForest\", \"run_properties\": \"copy=True, feature_range=(0, 1\", \"primary_metric\": 0.98790323, \"best_metric\": 0.98924731}, {\"run_id\": \"AutoML_42f9b711-ee02-4587-b942-796c4f8ba304_5\", \"run_number\": 65, \"metric\": null, \"status\": \"Completed\", \"run_type\": \"azureml.scriptrun\", \"training_percent\": \"100\", \"start_time\": \"2021-01-08T07:07:15.771124Z\", \"end_time\": \"2021-01-08T07:08:08.980314Z\", \"created_time\": \"2021-01-08T07:07:05.127385Z\", \"created_time_dt\": \"2021-01-08T07:07:05.127385Z\", \"duration\": \"0:01:03\", \"iteration\": \"5\", \"goal\": \"accuracy_max\", \"run_name\": \"StandardScalerWrapper, LogisticRegression\", \"run_properties\": \"<azureml.automl.runtime.shared.model_wrappers.StandardScalerWrapper object at 0x7f4b29fb2898\", \"primary_metric\": 0.98857527, \"best_metric\": 0.98924731}, {\"run_id\": \"AutoML_42f9b711-ee02-4587-b942-796c4f8ba304_6\", \"run_number\": 66, \"metric\": null, \"status\": \"Completed\", \"run_type\": \"azureml.scriptrun\", \"training_percent\": \"100\", \"start_time\": \"2021-01-08T07:07:22.567843Z\", \"end_time\": \"2021-01-08T07:08:40.240825Z\", \"created_time\": \"2021-01-08T07:07:09.731156Z\", \"created_time_dt\": \"2021-01-08T07:07:09.731156Z\", \"duration\": \"0:01:30\", \"iteration\": \"6\", \"goal\": \"accuracy_max\", \"run_name\": \"MinMaxScaler, SVM\", \"run_properties\": \"copy=True, feature_range=(0, 1\", \"primary_metric\": 0.98991935, \"best_metric\": 0.98991935}, {\"run_id\": \"AutoML_42f9b711-ee02-4587-b942-796c4f8ba304_7\", \"run_number\": 67, \"metric\": null, \"status\": \"Completed\", \"run_type\": \"azureml.scriptrun\", \"training_percent\": \"100\", \"start_time\": \"2021-01-08T07:07:28.151987Z\", \"end_time\": \"2021-01-08T07:08:38.405822Z\", \"created_time\": \"2021-01-08T07:07:15.048189Z\", \"created_time_dt\": \"2021-01-08T07:07:15.048189Z\", \"duration\": \"0:01:23\", \"iteration\": \"7\", \"goal\": \"accuracy_max\", \"run_name\": \"SparseNormalizer, XGBoostClassifier\", \"run_properties\": \"<azureml.automl.runtime.shared.model_wrappers.SparseNormalizer object at 0x7f486454dc50\", \"primary_metric\": 0.98521505, \"best_metric\": 0.98991935}, {\"run_id\": \"AutoML_42f9b711-ee02-4587-b942-796c4f8ba304_8\", \"run_number\": 68, \"metric\": null, \"status\": \"Completed\", \"run_type\": \"azureml.scriptrun\", \"training_percent\": \"100\", \"start_time\": \"2021-01-08T07:08:14.368117Z\", \"end_time\": \"2021-01-08T07:09:02.781018Z\", \"created_time\": \"2021-01-08T07:08:01.703534Z\", \"created_time_dt\": \"2021-01-08T07:08:01.703534Z\", \"duration\": \"0:01:01\", \"iteration\": \"8\", \"goal\": \"accuracy_max\", \"run_name\": \"MinMaxScaler, SVM\", \"run_properties\": \"copy=True, feature_range=(0, 1\", \"primary_metric\": 0.98991935, \"best_metric\": 0.98991935}, {\"run_id\": \"AutoML_42f9b711-ee02-4587-b942-796c4f8ba304_9\", \"run_number\": 69, \"metric\": null, \"status\": \"Completed\", \"run_type\": \"azureml.scriptrun\", \"training_percent\": \"100\", \"start_time\": \"2021-01-08T07:08:25.051962Z\", \"end_time\": \"2021-01-08T07:09:10.71846Z\", \"created_time\": \"2021-01-08T07:08:12.557583Z\", \"created_time_dt\": \"2021-01-08T07:08:12.557583Z\", \"duration\": \"0:00:58\", \"iteration\": \"9\", \"goal\": \"accuracy_max\", \"run_name\": \"RobustScaler, SVM\", \"run_properties\": \"copy=True, quantile_range=[10, 90], with_centering=True,\\n             with_scaling=True\", \"primary_metric\": 0.98655914, \"best_metric\": 0.98991935}, {\"run_id\": \"AutoML_42f9b711-ee02-4587-b942-796c4f8ba304_10\", \"run_number\": 70, \"metric\": null, \"status\": \"Completed\", \"run_type\": \"azureml.scriptrun\", \"training_percent\": \"100\", \"start_time\": \"2021-01-08T07:08:52.926792Z\", \"end_time\": \"2021-01-08T07:09:43.200288Z\", \"created_time\": \"2021-01-08T07:08:41.887863Z\", \"created_time_dt\": \"2021-01-08T07:08:41.887863Z\", \"duration\": \"0:01:01\", \"iteration\": \"10\", \"goal\": \"accuracy_max\", \"run_name\": \"MinMaxScaler, LogisticRegression\", \"run_properties\": \"copy=True, feature_range=(0, 1\", \"primary_metric\": 0.98924731, \"best_metric\": 0.98991935}, {\"run_id\": \"AutoML_42f9b711-ee02-4587-b942-796c4f8ba304_11\", \"run_number\": 71, \"metric\": null, \"status\": \"Completed\", \"run_type\": \"azureml.scriptrun\", \"training_percent\": \"100\", \"start_time\": \"2021-01-08T07:09:01.032838Z\", \"end_time\": \"2021-01-08T07:09:58.218982Z\", \"created_time\": \"2021-01-08T07:08:48.847885Z\", \"created_time_dt\": \"2021-01-08T07:08:48.847885Z\", \"duration\": \"0:01:09\", \"iteration\": \"11\", \"goal\": \"accuracy_max\", \"run_name\": \"SparseNormalizer, XGBoostClassifier\", \"run_properties\": \"<azureml.automl.runtime.shared.model_wrappers.SparseNormalizer object at 0x7f4051b40080\", \"primary_metric\": 0.98387097, \"best_metric\": 0.98991935}, {\"run_id\": \"AutoML_42f9b711-ee02-4587-b942-796c4f8ba304_12\", \"run_number\": 72, \"metric\": null, \"status\": \"Completed\", \"run_type\": \"azureml.scriptrun\", \"training_percent\": \"100\", \"start_time\": \"2021-01-08T07:09:18.007232Z\", \"end_time\": \"2021-01-08T07:10:08.271153Z\", \"created_time\": \"2021-01-08T07:09:06.347303Z\", \"created_time_dt\": \"2021-01-08T07:09:06.347303Z\", \"duration\": \"0:01:01\", \"iteration\": \"12\", \"goal\": \"accuracy_max\", \"run_name\": \"StandardScalerWrapper, LightGBM\", \"run_properties\": \"<azureml.automl.runtime.shared.model_wrappers.StandardScalerWrapper object at 0x7fd128d13dd8\", \"primary_metric\": 0.86827957, \"best_metric\": 0.98991935}, {\"run_id\": \"AutoML_42f9b711-ee02-4587-b942-796c4f8ba304_13\", \"run_number\": 73, \"metric\": null, \"status\": \"Completed\", \"run_type\": \"azureml.scriptrun\", \"training_percent\": \"100\", \"start_time\": \"2021-01-08T07:09:26.583952Z\", \"end_time\": \"2021-01-08T07:10:39.79172Z\", \"created_time\": \"2021-01-08T07:09:15.02605Z\", \"created_time_dt\": \"2021-01-08T07:09:15.02605Z\", \"duration\": \"0:01:24\", \"iteration\": \"13\", \"goal\": \"accuracy_max\", \"run_name\": \"RobustScaler, LightGBM\", \"run_properties\": \"copy=True, quantile_range=[10, 90], with_centering=False,\\n             with_scaling=False\", \"primary_metric\": 0.98723118, \"best_metric\": 0.98991935}, {\"run_id\": \"AutoML_42f9b711-ee02-4587-b942-796c4f8ba304_14\", \"run_number\": 74, \"metric\": null, \"status\": \"Completed\", \"run_type\": \"azureml.scriptrun\", \"training_percent\": \"100\", \"start_time\": \"2021-01-08T07:10:00.91703Z\", \"end_time\": \"2021-01-08T07:10:57.975943Z\", \"created_time\": \"2021-01-08T07:09:46.914261Z\", \"created_time_dt\": \"2021-01-08T07:09:46.914261Z\", \"duration\": \"0:01:11\", \"iteration\": \"14\", \"goal\": \"accuracy_max\", \"run_name\": \"StandardScalerWrapper, RandomForest\", \"run_properties\": \"<azureml.automl.runtime.shared.model_wrappers.StandardScalerWrapper object at 0x7f3e58c0a978\", \"primary_metric\": 0.97983871, \"best_metric\": 0.98991935}, {\"run_id\": \"AutoML_42f9b711-ee02-4587-b942-796c4f8ba304_15\", \"run_number\": 75, \"metric\": null, \"status\": \"Completed\", \"run_type\": \"azureml.scriptrun\", \"training_percent\": \"100\", \"start_time\": \"2021-01-08T07:10:13.998598Z\", \"end_time\": \"2021-01-08T07:11:02.870189Z\", \"created_time\": \"2021-01-08T07:10:01.96319Z\", \"created_time_dt\": \"2021-01-08T07:10:01.96319Z\", \"duration\": \"0:01:00\", \"iteration\": \"15\", \"goal\": \"accuracy_max\", \"run_name\": \"MinMaxScaler, LightGBM\", \"run_properties\": \"copy=True, feature_range=(0, 1\", \"primary_metric\": 0.97916667, \"best_metric\": 0.98991935}, {\"run_id\": \"AutoML_42f9b711-ee02-4587-b942-796c4f8ba304_16\", \"run_number\": 76, \"metric\": null, \"status\": \"Completed\", \"run_type\": \"azureml.scriptrun\", \"training_percent\": \"100\", \"start_time\": \"2021-01-08T07:10:23.145687Z\", \"end_time\": \"2021-01-08T07:11:44.955476Z\", \"created_time\": \"2021-01-08T07:10:11.913165Z\", \"created_time_dt\": \"2021-01-08T07:10:11.913165Z\", \"duration\": \"0:01:33\", \"iteration\": \"16\", \"goal\": \"accuracy_max\", \"run_name\": \"MaxAbsScaler, LightGBM\", \"run_properties\": \"copy=True\", \"primary_metric\": 0.9858871, \"best_metric\": 0.98991935}, {\"run_id\": \"AutoML_42f9b711-ee02-4587-b942-796c4f8ba304_17\", \"run_number\": 77, \"metric\": null, \"status\": \"Completed\", \"run_type\": \"azureml.scriptrun\", \"training_percent\": \"100\", \"start_time\": \"2021-01-08T07:10:54.396976Z\", \"end_time\": \"2021-01-08T07:11:44.681179Z\", \"created_time\": \"2021-01-08T07:10:43.256338Z\", \"created_time_dt\": \"2021-01-08T07:10:43.256338Z\", \"duration\": \"0:01:01\", \"iteration\": \"17\", \"goal\": \"accuracy_max\", \"run_name\": \"SparseNormalizer, XGBoostClassifier\", \"run_properties\": \"<azureml.automl.runtime.shared.model_wrappers.SparseNormalizer object at 0x7f4a25af5d30\", \"primary_metric\": 0.98723118, \"best_metric\": 0.98991935}, {\"run_id\": \"AutoML_42f9b711-ee02-4587-b942-796c4f8ba304_18\", \"run_number\": 78, \"metric\": null, \"status\": \"Completed\", \"run_type\": \"azureml.scriptrun\", \"training_percent\": \"100\", \"start_time\": \"2021-01-08T07:11:13.581633Z\", \"end_time\": \"2021-01-08T07:12:01.999313Z\", \"created_time\": \"2021-01-08T07:11:01.372255Z\", \"created_time_dt\": \"2021-01-08T07:11:01.372255Z\", \"duration\": \"0:01:00\", \"iteration\": \"18\", \"goal\": \"accuracy_max\", \"run_name\": \"SparseNormalizer, XGBoostClassifier\", \"run_properties\": \"<azureml.automl.runtime.shared.model_wrappers.SparseNormalizer object at 0x7f26282998d0\", \"primary_metric\": 0.96303763, \"best_metric\": 0.98991935}, {\"run_id\": \"AutoML_42f9b711-ee02-4587-b942-796c4f8ba304_19\", \"run_number\": 79, \"metric\": null, \"status\": \"Completed\", \"run_type\": \"azureml.scriptrun\", \"training_percent\": \"100\", \"start_time\": \"2021-01-08T07:11:17.173921Z\", \"end_time\": \"2021-01-08T07:12:10.364622Z\", \"created_time\": \"2021-01-08T07:11:06.052993Z\", \"created_time_dt\": \"2021-01-08T07:11:06.052993Z\", \"duration\": \"0:01:04\", \"iteration\": \"19\", \"goal\": \"accuracy_max\", \"run_name\": \"SparseNormalizer, XGBoostClassifier\", \"run_properties\": \"<azureml.automl.runtime.shared.model_wrappers.SparseNormalizer object at 0x7f9281cd94a8\", \"primary_metric\": 0.9858871, \"best_metric\": 0.98991935}, {\"run_id\": \"AutoML_42f9b711-ee02-4587-b942-796c4f8ba304_20\", \"run_number\": 80, \"metric\": null, \"status\": \"Completed\", \"run_type\": \"azureml.scriptrun\", \"training_percent\": \"100\", \"start_time\": \"2021-01-08T07:12:11.279512Z\", \"end_time\": \"2021-01-08T07:13:18.061804Z\", \"created_time\": \"2021-01-08T07:11:56.842955Z\", \"created_time_dt\": \"2021-01-08T07:11:56.842955Z\", \"duration\": \"0:01:21\", \"iteration\": \"20\", \"goal\": \"accuracy_max\", \"run_name\": \"StandardScalerWrapper, LightGBM\", \"run_properties\": \"<azureml.automl.runtime.shared.model_wrappers.StandardScalerWrapper object at 0x7f9f812089b0\", \"primary_metric\": 0.98924731, \"best_metric\": 0.98991935}, {\"run_id\": \"AutoML_42f9b711-ee02-4587-b942-796c4f8ba304_21\", \"run_number\": 81, \"metric\": null, \"status\": \"Completed\", \"run_type\": \"azureml.scriptrun\", \"training_percent\": \"100\", \"start_time\": \"2021-01-08T07:12:13.596133Z\", \"end_time\": \"2021-01-08T07:13:39.082884Z\", \"created_time\": \"2021-01-08T07:11:57.237814Z\", \"created_time_dt\": \"2021-01-08T07:11:57.237814Z\", \"duration\": \"0:01:41\", \"iteration\": \"21\", \"goal\": \"accuracy_max\", \"run_name\": \"SparseNormalizer, XGBoostClassifier\", \"run_properties\": \"<azureml.automl.runtime.shared.model_wrappers.SparseNormalizer object at 0x7fe1a93826d8\", \"primary_metric\": 0.98387097, \"best_metric\": 0.98991935}, {\"run_id\": \"AutoML_42f9b711-ee02-4587-b942-796c4f8ba304_22\", \"run_number\": 82, \"metric\": null, \"status\": \"Completed\", \"run_type\": \"azureml.scriptrun\", \"training_percent\": \"100\", \"start_time\": \"2021-01-08T07:12:20.545381Z\", \"end_time\": \"2021-01-08T07:13:44.073738Z\", \"created_time\": \"2021-01-08T07:12:07.587154Z\", \"created_time_dt\": \"2021-01-08T07:12:07.587154Z\", \"duration\": \"0:01:36\", \"iteration\": \"22\", \"goal\": \"accuracy_max\", \"run_name\": \"SparseNormalizer, XGBoostClassifier\", \"run_properties\": \"<azureml.automl.runtime.shared.model_wrappers.SparseNormalizer object at 0x7f5720fe2ef0\", \"primary_metric\": 0.98655914, \"best_metric\": 0.98991935}, {\"run_id\": \"AutoML_42f9b711-ee02-4587-b942-796c4f8ba304_23\", \"run_number\": 83, \"metric\": null, \"status\": \"Completed\", \"run_type\": \"azureml.scriptrun\", \"training_percent\": \"100\", \"start_time\": \"2021-01-08T07:12:27.80599Z\", \"end_time\": \"2021-01-08T07:13:36.566115Z\", \"created_time\": \"2021-01-08T07:12:14.47159Z\", \"created_time_dt\": \"2021-01-08T07:12:14.47159Z\", \"duration\": \"0:01:22\", \"iteration\": \"23\", \"goal\": \"accuracy_max\", \"run_name\": \"MinMaxScaler, LightGBM\", \"run_properties\": \"copy=True, feature_range=(0, 1\", \"primary_metric\": 0.97983871, \"best_metric\": 0.98991935}, {\"run_id\": \"AutoML_42f9b711-ee02-4587-b942-796c4f8ba304_24\", \"run_number\": 84, \"metric\": null, \"status\": \"Completed\", \"run_type\": \"azureml.scriptrun\", \"training_percent\": \"100\", \"start_time\": \"2021-01-08T07:13:36.000742Z\", \"end_time\": \"2021-01-08T07:14:30.189356Z\", \"created_time\": \"2021-01-08T07:13:21.079488Z\", \"created_time_dt\": \"2021-01-08T07:13:21.079488Z\", \"duration\": \"0:01:09\", \"iteration\": \"24\", \"goal\": \"accuracy_max\", \"run_name\": \"SparseNormalizer, LightGBM\", \"run_properties\": \"<azureml.automl.runtime.shared.model_wrappers.SparseNormalizer object at 0x7fe2a79c7320\", \"primary_metric\": 0.92741935, \"best_metric\": 0.98991935}, {\"run_id\": \"AutoML_42f9b711-ee02-4587-b942-796c4f8ba304_25\", \"run_number\": 85, \"metric\": null, \"status\": \"Completed\", \"run_type\": \"azureml.scriptrun\", \"training_percent\": \"100\", \"start_time\": \"2021-01-08T07:13:55.862757Z\", \"end_time\": \"2021-01-08T07:14:53.414298Z\", \"created_time\": \"2021-01-08T07:13:41.186528Z\", \"created_time_dt\": \"2021-01-08T07:13:41.186528Z\", \"duration\": \"0:01:12\", \"iteration\": \"25\", \"goal\": \"accuracy_max\", \"run_name\": \"StandardScalerWrapper, SVM\", \"run_properties\": \"<azureml.automl.runtime.shared.model_wrappers.StandardScalerWrapper object at 0x7f91ba981fd0\", \"primary_metric\": 0.91263441, \"best_metric\": 0.98991935}, {\"run_id\": \"AutoML_42f9b711-ee02-4587-b942-796c4f8ba304_27\", \"run_number\": 86, \"metric\": null, \"status\": \"Completed\", \"run_type\": \"azureml.scriptrun\", \"training_percent\": \"100\", \"start_time\": \"2021-01-08T07:14:02.001164Z\", \"end_time\": \"2021-01-08T07:14:56.456172Z\", \"created_time\": \"2021-01-08T07:13:49.084164Z\", \"created_time_dt\": \"2021-01-08T07:13:49.084164Z\", \"duration\": \"0:01:07\", \"iteration\": \"27\", \"goal\": \"accuracy_max\", \"run_name\": \"SparseNormalizer, ExtremeRandomTrees\", \"run_properties\": \"<azureml.automl.runtime.shared.model_wrappers.SparseNormalizer object at 0x7fa638135898\", \"primary_metric\": 0.97715054, \"best_metric\": 0.98991935}, {\"run_id\": \"AutoML_42f9b711-ee02-4587-b942-796c4f8ba304_26\", \"run_number\": 87, \"metric\": null, \"status\": \"Completed\", \"run_type\": \"azureml.scriptrun\", \"training_percent\": \"100\", \"start_time\": \"2021-01-08T07:14:01.76332Z\", \"end_time\": \"2021-01-08T07:14:54.045954Z\", \"created_time\": \"2021-01-08T07:13:49.272007Z\", \"created_time_dt\": \"2021-01-08T07:13:49.272007Z\", \"duration\": \"0:01:04\", \"iteration\": \"26\", \"goal\": \"accuracy_max\", \"run_name\": \"StandardScalerWrapper, ExtremeRandomTrees\", \"run_properties\": \"<azureml.automl.runtime.shared.model_wrappers.StandardScalerWrapper object at 0x7f936cd5f3c8\", \"primary_metric\": 0.96303763, \"best_metric\": 0.98991935}, {\"run_id\": \"AutoML_42f9b711-ee02-4587-b942-796c4f8ba304_28\", \"run_number\": 88, \"metric\": null, \"status\": \"Completed\", \"run_type\": \"azureml.scriptrun\", \"training_percent\": \"100\", \"start_time\": \"2021-01-08T07:14:46.716393Z\", \"end_time\": \"2021-01-08T07:15:52.211682Z\", \"created_time\": \"2021-01-08T07:14:34.168888Z\", \"created_time_dt\": \"2021-01-08T07:14:34.168888Z\", \"duration\": \"0:01:18\", \"iteration\": \"28\", \"goal\": \"accuracy_max\", \"run_name\": \"MaxAbsScaler, RandomForest\", \"run_properties\": \"copy=True\", \"primary_metric\": 0.92876344, \"best_metric\": 0.98991935}, {\"run_id\": \"AutoML_42f9b711-ee02-4587-b942-796c4f8ba304_30\", \"run_number\": 89, \"metric\": null, \"status\": \"Completed\", \"run_type\": \"azureml.scriptrun\", \"training_percent\": \"100\", \"start_time\": \"2021-01-08T07:15:13.195675Z\", \"end_time\": \"2021-01-08T07:16:08.34348Z\", \"created_time\": \"2021-01-08T07:14:58.117016Z\", \"created_time_dt\": \"2021-01-08T07:14:58.117016Z\", \"duration\": \"0:01:10\", \"iteration\": \"30\", \"goal\": \"accuracy_max\", \"run_name\": \"MinMaxScaler, LogisticRegression\", \"run_properties\": \"copy=True, feature_range=(0, 1\", \"primary_metric\": 0.98924731, \"best_metric\": 0.98991935}, {\"run_id\": \"AutoML_42f9b711-ee02-4587-b942-796c4f8ba304_29\", \"run_number\": 90, \"metric\": null, \"status\": \"Completed\", \"run_type\": \"azureml.scriptrun\", \"training_percent\": \"100\", \"start_time\": \"2021-01-08T07:15:13.563463Z\", \"end_time\": \"2021-01-08T07:16:08.842175Z\", \"created_time\": \"2021-01-08T07:14:58.296578Z\", \"created_time_dt\": \"2021-01-08T07:14:58.296578Z\", \"duration\": \"0:01:10\", \"iteration\": \"29\", \"goal\": \"accuracy_max\", \"run_name\": \"PCA, SVM\", \"run_properties\": \"copy=True, iterated_power='auto', n_components=0.20789473684210527,\\n    random_state=None, svd_solver='auto', tol=0.0, whiten=False\", \"primary_metric\": 0.78024194, \"best_metric\": 0.98991935}, {\"run_id\": \"AutoML_42f9b711-ee02-4587-b942-796c4f8ba304_31\", \"run_number\": 91, \"metric\": null, \"status\": \"Completed\", \"run_type\": \"azureml.scriptrun\", \"training_percent\": \"100\", \"start_time\": \"2021-01-08T07:15:17.188674Z\", \"end_time\": \"2021-01-08T07:16:10.529929Z\", \"created_time\": \"2021-01-08T07:15:05.301075Z\", \"created_time_dt\": \"2021-01-08T07:15:05.301075Z\", \"duration\": \"0:01:05\", \"iteration\": \"31\", \"goal\": \"accuracy_max\", \"run_name\": \"StandardScalerWrapper, ExtremeRandomTrees\", \"run_properties\": \"<azureml.automl.runtime.shared.model_wrappers.StandardScalerWrapper object at 0x7f02413db9e8\", \"primary_metric\": 0.97043011, \"best_metric\": 0.98991935}, {\"run_id\": \"AutoML_42f9b711-ee02-4587-b942-796c4f8ba304_32\", \"run_number\": 92, \"metric\": null, \"status\": \"Completed\", \"run_type\": \"azureml.scriptrun\", \"training_percent\": \"100\", \"start_time\": \"2021-01-08T07:16:05.675294Z\", \"end_time\": \"2021-01-08T07:16:59.39892Z\", \"created_time\": \"2021-01-08T07:15:54.362685Z\", \"created_time_dt\": \"2021-01-08T07:15:54.362685Z\", \"duration\": \"0:01:05\", \"iteration\": \"32\", \"goal\": \"accuracy_max\", \"run_name\": \"StandardScalerWrapper, LogisticRegression\", \"run_properties\": \"<azureml.automl.runtime.shared.model_wrappers.StandardScalerWrapper object at 0x7fec0a769a20\", \"primary_metric\": 0.98857527, \"best_metric\": 0.98991935}, {\"run_id\": \"AutoML_42f9b711-ee02-4587-b942-796c4f8ba304_33\", \"run_number\": 93, \"metric\": null, \"status\": \"Canceled\", \"run_type\": \"azureml.scriptrun\", \"training_percent\": \"100\", \"start_time\": \"2021-01-08T07:16:21.559609Z\", \"end_time\": \"2021-01-08T07:17:08.516195Z\", \"created_time\": \"2021-01-08T07:16:10.45154Z\", \"created_time_dt\": \"2021-01-08T07:16:10.45154Z\", \"duration\": \"0:00:58\", \"iteration\": \"33\", \"goal\": null, \"run_name\": \"SparseNormalizer, XGBoostClassifier\", \"run_properties\": null}, {\"run_id\": \"AutoML_42f9b711-ee02-4587-b942-796c4f8ba304_34\", \"run_number\": 94, \"metric\": null, \"status\": \"Canceled\", \"run_type\": \"azureml.scriptrun\", \"training_percent\": \"100\", \"start_time\": \"2021-01-08T07:16:29.667658Z\", \"end_time\": \"2021-01-08T07:17:06.485705Z\", \"created_time\": \"2021-01-08T07:16:16.703682Z\", \"created_time_dt\": \"2021-01-08T07:16:16.703682Z\", \"duration\": \"0:00:49\", \"iteration\": \"34\", \"goal\": null, \"run_name\": \"MinMaxScaler, SVM\", \"run_properties\": null}, {\"run_id\": \"AutoML_42f9b711-ee02-4587-b942-796c4f8ba304_35\", \"run_number\": 95, \"metric\": null, \"status\": \"Canceled\", \"run_type\": \"azureml.scriptrun\", \"training_percent\": \"100\", \"start_time\": \"2021-01-08T07:16:27.851982Z\", \"end_time\": \"2021-01-08T07:17:06.571317Z\", \"created_time\": \"2021-01-08T07:16:16.721267Z\", \"created_time_dt\": \"2021-01-08T07:16:16.721267Z\", \"duration\": \"0:00:49\", \"iteration\": \"35\", \"goal\": null, \"run_name\": \"StandardScalerWrapper, XGBoostClassifier\", \"run_properties\": null}, {\"run_id\": \"AutoML_42f9b711-ee02-4587-b942-796c4f8ba304_36\", \"run_number\": 96, \"metric\": null, \"status\": \"Completed\", \"run_type\": \"azureml.scriptrun\", \"training_percent\": \"100\", \"start_time\": \"2021-01-08T07:17:23.274128Z\", \"end_time\": \"2021-01-08T07:18:33.558112Z\", \"created_time\": \"2021-01-08T07:17:10.08328Z\", \"created_time_dt\": \"2021-01-08T07:17:10.08328Z\", \"duration\": \"0:01:23\", \"iteration\": \"36\", \"goal\": \"accuracy_max\", \"run_name\": \"VotingEnsemble\", \"run_properties\": \"classification_labels=None,\\n                              estimators=[('8',\\n                                           Pipeline(memory=None,\\n                                                    steps=[('minmaxscaler',\\n                                                            MinMaxScaler(copy=True,\\n                                                                         feature_range=(0,\\n                                                                                        1\", \"primary_metric\": 0.9905914, \"best_metric\": 0.9905914}], \"children_metrics\": {\"categories\": [0], \"series\": {\"average_precision_score_macro\": [{\"categories\": [\"0\", \"1\", \"2\", \"3\", \"4\", \"5\", \"6\", \"7\", \"8\", \"9\", \"10\", \"11\", \"12\", \"13\", \"14\", \"15\", \"16\", \"17\", \"18\", \"19\", \"20\", \"21\", \"22\", \"23\", \"24\", \"25\", \"26\", \"27\", \"28\", \"29\", \"30\", \"31\", \"32\", \"36\"], \"mode\": \"markers\", \"name\": \"average_precision_score_macro\", \"stepped\": false, \"type\": \"scatter\", \"data\": [0.9888336018136538, 0.9899738743023031, 0.9830567203310765, 0.9273022122569482, 0.9911987735390032, 0.9850729864577614, 0.9888830644154311, 0.9903752540569207, 0.9886979750414747, 0.9876819548082231, 0.9903691023338617, 0.9876909709000459, 0.9829930694315694, 0.9929134271728404, 0.992596491567264, 0.9920042371008808, 0.9907390238163947, 0.9826972746661546, 0.9746152776483176, 0.9905399184003628, 0.9923271443175165, 0.9874590406986755, 0.989749128732305, 0.991381895563941, 0.9265227773686829, 0.8490793880798586, 0.9733593233291841, 0.9838984815714377, 0.9219399191997395, 0.3676774825974625, 0.985255954143358, 0.9878985428639382, 0.9827703366213724, 0.990399720995338]}, {\"categories\": [\"0\", \"1\", \"2\", \"3\", \"4\", \"5\", \"6\", \"7\", \"8\", \"9\", \"10\", \"11\", \"12\", \"13\", \"14\", \"15\", \"16\", \"17\", \"18\", \"19\", \"20\", \"21\", \"22\", \"23\", \"24\", \"25\", \"26\", \"27\", \"28\", \"29\", \"30\", \"31\", \"32\", \"36\"], \"mode\": \"lines\", \"name\": \"average_precision_score_macro_max\", \"stepped\": true, \"type\": \"scatter\", \"data\": [0.9888336018136538, 0.9899738743023031, 0.9899738743023031, 0.9899738743023031, 0.9911987735390032, 0.9911987735390032, 0.9911987735390032, 0.9911987735390032, 0.9911987735390032, 0.9911987735390032, 0.9911987735390032, 0.9911987735390032, 0.9911987735390032, 0.9929134271728404, 0.9929134271728404, 0.9929134271728404, 0.9929134271728404, 0.9929134271728404, 0.9929134271728404, 0.9929134271728404, 0.9929134271728404, 0.9929134271728404, 0.9929134271728404, 0.9929134271728404, 0.9929134271728404, 0.9929134271728404, 0.9929134271728404, 0.9929134271728404, 0.9929134271728404, 0.9929134271728404, 0.9929134271728404, 0.9929134271728404, 0.9929134271728404, 0.9929134271728404]}], \"precision_score_macro\": [{\"categories\": [\"0\", \"1\", \"2\", \"3\", \"4\", \"5\", \"6\", \"7\", \"8\", \"9\", \"10\", \"11\", \"12\", \"13\", \"14\", \"15\", \"16\", \"17\", \"18\", \"19\", \"20\", \"21\", \"22\", \"23\", \"24\", \"25\", \"26\", \"27\", \"28\", \"29\", \"30\", \"31\", \"32\", \"36\"], \"mode\": \"markers\", \"name\": \"precision_score_macro\", \"stepped\": false, \"type\": \"scatter\", \"data\": [0.9859601626609914, 0.9874290036186757, 0.974017955133741, 0.9148145064436651, 0.9883658492137156, 0.9854674285960076, 0.9845296188208154, 0.9842344127000057, 0.9845296188208154, 0.9825181247958601, 0.9902818440380412, 0.9824791371011204, 0.7268805232875034, 0.9855437576393803, 0.9876267399549842, 0.9895669726296276, 0.9821385269923381, 0.9880530805268212, 0.9711022642928074, 0.9861531832230401, 0.9902818440380412, 0.982456780740736, 0.9864804749613603, 0.9825998276376614, 0.9199189270372182, 0.8391201723976115, 0.9394022295749722, 0.9560172274262108, 0.8347127777448882, 0.2600806451612903, 0.986559608066028, 0.9833420097850992, 0.9842619727022189, 0.989590281538785]}, {\"categories\": [\"0\", \"1\", \"2\", \"3\", \"4\", \"5\", \"6\", \"7\", \"8\", \"9\", \"10\", \"11\", \"12\", \"13\", \"14\", \"15\", \"16\", \"17\", \"18\", \"19\", \"20\", \"21\", \"22\", \"23\", \"24\", \"25\", \"26\", \"27\", \"28\", \"29\", \"30\", \"31\", \"32\", \"36\"], \"mode\": \"lines\", \"name\": \"precision_score_macro_max\", \"stepped\": true, \"type\": \"scatter\", \"data\": [0.9859601626609914, 0.9874290036186757, 0.9874290036186757, 0.9874290036186757, 0.9883658492137156, 0.9883658492137156, 0.9883658492137156, 0.9883658492137156, 0.9883658492137156, 0.9883658492137156, 0.9902818440380412, 0.9902818440380412, 0.9902818440380412, 0.9902818440380412, 0.9902818440380412, 0.9902818440380412, 0.9902818440380412, 0.9902818440380412, 0.9902818440380412, 0.9902818440380412, 0.9902818440380412, 0.9902818440380412, 0.9902818440380412, 0.9902818440380412, 0.9902818440380412, 0.9902818440380412, 0.9902818440380412, 0.9902818440380412, 0.9902818440380412, 0.9902818440380412, 0.9902818440380412, 0.9902818440380412, 0.9902818440380412, 0.9902818440380412]}], \"AUC_weighted\": [{\"categories\": [\"0\", \"1\", \"2\", \"3\", \"4\", \"5\", \"6\", \"7\", \"8\", \"9\", \"10\", \"11\", \"12\", \"13\", \"14\", \"15\", \"16\", \"17\", \"18\", \"19\", \"20\", \"21\", \"22\", \"23\", \"24\", \"25\", \"26\", \"27\", \"28\", \"29\", \"30\", \"31\", \"32\", \"36\"], \"mode\": \"markers\", \"name\": \"AUC_weighted\", \"stepped\": false, \"type\": \"scatter\", \"data\": [0.9968087873848552, 0.997425835999629, 0.9953180909806328, 0.9771220913266304, 0.9971039832230565, 0.9952730589638256, 0.9951574720575995, 0.996681778026098, 0.9951810983331691, 0.9971491775478585, 0.9960651203677303, 0.9951865899945646, 0.9953358779862933, 0.9972227797385965, 0.9972580971339121, 0.9972042666553035, 0.9961070605229675, 0.992897111984699, 0.9885234536273053, 0.998117577488023, 0.9975516361052695, 0.9948135391140577, 0.9962827757761598, 0.9965815630345579, 0.9843153225669976, 0.9669454085586727, 0.9929381446514967, 0.9953928722202221, 0.9862957517669511, 0.565546919729036, 0.995633716432245, 0.9968873882120564, 0.9951231484109538, 0.9972339803011737]}, {\"categories\": [\"0\", \"1\", \"2\", \"3\", \"4\", \"5\", \"6\", \"7\", \"8\", \"9\", \"10\", \"11\", \"12\", \"13\", \"14\", \"15\", \"16\", \"17\", \"18\", \"19\", \"20\", \"21\", \"22\", \"23\", \"24\", \"25\", \"26\", \"27\", \"28\", \"29\", \"30\", \"31\", \"32\", \"36\"], \"mode\": \"lines\", \"name\": \"AUC_weighted_max\", \"stepped\": true, \"type\": \"scatter\", \"data\": [0.9968087873848552, 0.997425835999629, 0.997425835999629, 0.997425835999629, 0.997425835999629, 0.997425835999629, 0.997425835999629, 0.997425835999629, 0.997425835999629, 0.997425835999629, 0.997425835999629, 0.997425835999629, 0.997425835999629, 0.997425835999629, 0.997425835999629, 0.997425835999629, 0.997425835999629, 0.997425835999629, 0.997425835999629, 0.998117577488023, 0.998117577488023, 0.998117577488023, 0.998117577488023, 0.998117577488023, 0.998117577488023, 0.998117577488023, 0.998117577488023, 0.998117577488023, 0.998117577488023, 0.998117577488023, 0.998117577488023, 0.998117577488023, 0.998117577488023, 0.998117577488023]}], \"log_loss\": [{\"categories\": [\"0\", \"1\", \"2\", \"3\", \"4\", \"5\", \"6\", \"7\", \"8\", \"9\", \"10\", \"11\", \"12\", \"13\", \"14\", \"15\", \"16\", \"17\", \"18\", \"19\", \"20\", \"21\", \"22\", \"23\", \"24\", \"25\", \"26\", \"27\", \"28\", \"29\", \"30\", \"31\", \"32\", \"36\"], \"mode\": \"markers\", \"name\": \"log_loss\", \"stepped\": false, \"type\": \"scatter\", \"data\": [0.0631054936028851, 0.04681927885529765, 0.15859934238333165, 0.28872126203282567, 0.14022203156199295, 0.051141870669186434, 0.051469298125215, 0.055817859345167975, 0.05197402762244294, 0.058651376489838904, 0.04738903735422256, 0.06755635253935072, 0.34584582419168436, 0.052266118822719775, 0.10943015301878274, 0.2177702762234203, 0.0637227987271442, 0.37729017435902445, 0.44910971959059, 0.3912516907596666, 0.05283074832503939, 0.06784989860132302, 0.055709147957554384, 0.11157754172615175, 0.21702278878095949, 0.263554756348456, 0.3552693274737589, 0.34879599273534634, 0.4877523770548351, 0.6646449722879925, 0.05173909226015359, 0.2012313733680752, 0.05518411002143342, 0.043538917904874984]}, {\"categories\": [\"0\", \"1\", \"2\", \"3\", \"4\", \"5\", \"6\", \"7\", \"8\", \"9\", \"10\", \"11\", \"12\", \"13\", \"14\", \"15\", \"16\", \"17\", \"18\", \"19\", \"20\", \"21\", \"22\", \"23\", \"24\", \"25\", \"26\", \"27\", \"28\", \"29\", \"30\", \"31\", \"32\", \"36\"], \"mode\": \"lines\", \"name\": \"log_loss_min\", \"stepped\": true, \"type\": \"scatter\", \"data\": [0.0631054936028851, 0.04681927885529765, 0.04681927885529765, 0.04681927885529765, 0.04681927885529765, 0.04681927885529765, 0.04681927885529765, 0.04681927885529765, 0.04681927885529765, 0.04681927885529765, 0.04681927885529765, 0.04681927885529765, 0.04681927885529765, 0.04681927885529765, 0.04681927885529765, 0.04681927885529765, 0.04681927885529765, 0.04681927885529765, 0.04681927885529765, 0.04681927885529765, 0.04681927885529765, 0.04681927885529765, 0.04681927885529765, 0.04681927885529765, 0.04681927885529765, 0.04681927885529765, 0.04681927885529765, 0.04681927885529765, 0.04681927885529765, 0.04681927885529765, 0.04681927885529765, 0.04681927885529765, 0.04681927885529765, 0.043538917904874984]}], \"f1_score_weighted\": [{\"categories\": [\"0\", \"1\", \"2\", \"3\", \"4\", \"5\", \"6\", \"7\", \"8\", \"9\", \"10\", \"11\", \"12\", \"13\", \"14\", \"15\", \"16\", \"17\", \"18\", \"19\", \"20\", \"21\", \"22\", \"23\", \"24\", \"25\", \"26\", \"27\", \"28\", \"29\", \"30\", \"31\", \"32\", \"36\"], \"mode\": \"markers\", \"name\": \"f1_score_weighted\", \"stepped\": false, \"type\": \"scatter\", \"data\": [0.9884821135291838, 0.9891462830491747, 0.96786985361948, 0.8888035437161389, 0.9877389509968507, 0.9885129327298424, 0.9899042871325868, 0.9850051531691175, 0.9899042871325868, 0.9864662538846991, 0.9890910667390287, 0.9836605993218416, 0.8310224331229866, 0.9870903738072854, 0.9791965280483947, 0.9784600662081684, 0.9856970514579152, 0.9870207493015934, 0.961238832647168, 0.9856679848690314, 0.9890910667390287, 0.9836385484882352, 0.9863499747199285, 0.9794890909354214, 0.9188244194153068, 0.9096513134497957, 0.9621478192693421, 0.9771119540312118, 0.9311485832603643, 0.6839739473065767, 0.9891553681999615, 0.969170331885837, 0.9885304380523277, 0.9904983266948456]}, {\"categories\": [\"0\", \"1\", \"2\", \"3\", \"4\", \"5\", \"6\", \"7\", \"8\", \"9\", \"10\", \"11\", \"12\", \"13\", \"14\", \"15\", \"16\", \"17\", \"18\", \"19\", \"20\", \"21\", \"22\", \"23\", \"24\", \"25\", \"26\", \"27\", \"28\", \"29\", \"30\", \"31\", \"32\", \"36\"], \"mode\": \"lines\", \"name\": \"f1_score_weighted_max\", \"stepped\": true, \"type\": \"scatter\", \"data\": [0.9884821135291838, 0.9891462830491747, 0.9891462830491747, 0.9891462830491747, 0.9891462830491747, 0.9891462830491747, 0.9899042871325868, 0.9899042871325868, 0.9899042871325868, 0.9899042871325868, 0.9899042871325868, 0.9899042871325868, 0.9899042871325868, 0.9899042871325868, 0.9899042871325868, 0.9899042871325868, 0.9899042871325868, 0.9899042871325868, 0.9899042871325868, 0.9899042871325868, 0.9899042871325868, 0.9899042871325868, 0.9899042871325868, 0.9899042871325868, 0.9899042871325868, 0.9899042871325868, 0.9899042871325868, 0.9899042871325868, 0.9899042871325868, 0.9899042871325868, 0.9899042871325868, 0.9899042871325868, 0.9899042871325868, 0.9904983266948456]}], \"precision_score_weighted\": [{\"categories\": [\"0\", \"1\", \"2\", \"3\", \"4\", \"5\", \"6\", \"7\", \"8\", \"9\", \"10\", \"11\", \"12\", \"13\", \"14\", \"15\", \"16\", \"17\", \"18\", \"19\", \"20\", \"21\", \"22\", \"23\", \"24\", \"25\", \"26\", \"27\", \"28\", \"29\", \"30\", \"31\", \"32\", \"36\"], \"mode\": \"markers\", \"name\": \"precision_score_weighted\", \"stepped\": false, \"type\": \"scatter\", \"data\": [0.9885028964415095, 0.9891914385358822, 0.9692641029001101, 0.9091763245957317, 0.9878911587018426, 0.9885579221431966, 0.9899394432149814, 0.9851503647298218, 0.9899394432149814, 0.9864902580890721, 0.9892515993084111, 0.9839041618411443, 0.8304633378350873, 0.9872281939527996, 0.9802704932588274, 0.9796555136426205, 0.9858894232538301, 0.9872387405014135, 0.9640406164845636, 0.9858783589927039, 0.9892515993084111, 0.9838937499071748, 0.986564751411696, 0.9799775028795138, 0.9294511314871489, 0.9095706837432718, 0.9641984124685369, 0.9773910499716965, 0.9372307751121962, 0.6089102605792577, 0.9892173662794138, 0.9712601036905227, 0.9885921802240154, 0.9905598877666265]}, {\"categories\": [\"0\", \"1\", \"2\", \"3\", \"4\", \"5\", \"6\", \"7\", \"8\", \"9\", \"10\", \"11\", \"12\", \"13\", \"14\", \"15\", \"16\", \"17\", \"18\", \"19\", \"20\", \"21\", \"22\", \"23\", \"24\", \"25\", \"26\", \"27\", \"28\", \"29\", \"30\", \"31\", \"32\", \"36\"], \"mode\": \"lines\", \"name\": \"precision_score_weighted_max\", \"stepped\": true, \"type\": \"scatter\", \"data\": [0.9885028964415095, 0.9891914385358822, 0.9891914385358822, 0.9891914385358822, 0.9891914385358822, 0.9891914385358822, 0.9899394432149814, 0.9899394432149814, 0.9899394432149814, 0.9899394432149814, 0.9899394432149814, 0.9899394432149814, 0.9899394432149814, 0.9899394432149814, 0.9899394432149814, 0.9899394432149814, 0.9899394432149814, 0.9899394432149814, 0.9899394432149814, 0.9899394432149814, 0.9899394432149814, 0.9899394432149814, 0.9899394432149814, 0.9899394432149814, 0.9899394432149814, 0.9899394432149814, 0.9899394432149814, 0.9899394432149814, 0.9899394432149814, 0.9899394432149814, 0.9899394432149814, 0.9899394432149814, 0.9899394432149814, 0.9905598877666265]}], \"recall_score_macro\": [{\"categories\": [\"0\", \"1\", \"2\", \"3\", \"4\", \"5\", \"6\", \"7\", \"8\", \"9\", \"10\", \"11\", \"12\", \"13\", \"14\", \"15\", \"16\", \"17\", \"18\", \"19\", \"20\", \"21\", \"22\", \"23\", \"24\", \"25\", \"26\", \"27\", \"28\", \"29\", \"30\", \"31\", \"32\", \"36\"], \"mode\": \"markers\", \"name\": \"recall_score_macro\", \"stepped\": false, \"type\": \"scatter\", \"data\": [0.9773189915466461, 0.9772630474529116, 0.9157294002645046, 0.6768207458110979, 0.9730746432645073, 0.9782460194027136, 0.9825046590014429, 0.968922066876908, 0.9825046590014429, 0.9663309599703792, 0.9749453915638271, 0.9587013119082538, 0.5505529680102735, 0.9679816969950905, 0.9520295117069311, 0.9503816971558908, 0.9592039434694378, 0.9714268287134672, 0.8935866526473736, 0.9692069671618082, 0.9749453915638271, 0.9600360882430302, 0.9707942687491098, 0.9423176092681133, 0.7465870121264536, 0.7843909993154056, 0.9051138672377491, 0.9576351538715938, 0.8862610424529515, 0.3333333333333333, 0.9785586334544908, 0.9244530559046688, 0.9794055741336969, 0.9789909491808132]}, {\"categories\": [\"0\", \"1\", \"2\", \"3\", \"4\", \"5\", \"6\", \"7\", \"8\", \"9\", \"10\", \"11\", \"12\", \"13\", \"14\", \"15\", \"16\", \"17\", \"18\", \"19\", \"20\", \"21\", \"22\", \"23\", \"24\", \"25\", \"26\", \"27\", \"28\", \"29\", \"30\", \"31\", \"32\", \"36\"], \"mode\": \"lines\", \"name\": \"recall_score_macro_max\", \"stepped\": true, \"type\": \"scatter\", \"data\": [0.9773189915466461, 0.9773189915466461, 0.9773189915466461, 0.9773189915466461, 0.9773189915466461, 0.9782460194027136, 0.9825046590014429, 0.9825046590014429, 0.9825046590014429, 0.9825046590014429, 0.9825046590014429, 0.9825046590014429, 0.9825046590014429, 0.9825046590014429, 0.9825046590014429, 0.9825046590014429, 0.9825046590014429, 0.9825046590014429, 0.9825046590014429, 0.9825046590014429, 0.9825046590014429, 0.9825046590014429, 0.9825046590014429, 0.9825046590014429, 0.9825046590014429, 0.9825046590014429, 0.9825046590014429, 0.9825046590014429, 0.9825046590014429, 0.9825046590014429, 0.9825046590014429, 0.9825046590014429, 0.9825046590014429, 0.9825046590014429]}], \"f1_score_macro\": [{\"categories\": [\"0\", \"1\", \"2\", \"3\", \"4\", \"5\", \"6\", \"7\", \"8\", \"9\", \"10\", \"11\", \"12\", \"13\", \"14\", \"15\", \"16\", \"17\", \"18\", \"19\", \"20\", \"21\", \"22\", \"23\", \"24\", \"25\", \"26\", \"27\", \"28\", \"29\", \"30\", \"31\", \"32\", \"36\"], \"mode\": \"markers\", \"name\": \"f1_score_macro\", \"stepped\": false, \"type\": \"scatter\", \"data\": [0.9815267665587252, 0.9821952651056112, 0.9417092690879246, 0.7311801177073004, 0.9803967624937017, 0.981730542158833, 0.9834638748475397, 0.976206596633772, 0.9834638748475397, 0.9742678918495483, 0.982289793925399, 0.9700432987195095, 0.585726487088781, 0.9764185863415151, 0.9681111937315553, 0.9680700738325699, 0.9700502721147485, 0.9792984650630215, 0.9263961349840418, 0.9772196245890296, 0.982289793925399, 0.9706891167251827, 0.978182644631854, 0.9614814134197865, 0.7971447492043898, 0.8076128556514028, 0.9187248884282425, 0.956472811487219, 0.8563045245762632, 0.2921699745537218, 0.9823896260072994, 0.9503499029187882, 0.9817089333295982, 0.9841203790641262]}, {\"categories\": [\"0\", \"1\", \"2\", \"3\", \"4\", \"5\", \"6\", \"7\", \"8\", \"9\", \"10\", \"11\", \"12\", \"13\", \"14\", \"15\", \"16\", \"17\", \"18\", \"19\", \"20\", \"21\", \"22\", \"23\", \"24\", \"25\", \"26\", \"27\", \"28\", \"29\", \"30\", \"31\", \"32\", \"36\"], \"mode\": \"lines\", \"name\": \"f1_score_macro_max\", \"stepped\": true, \"type\": \"scatter\", \"data\": [0.9815267665587252, 0.9821952651056112, 0.9821952651056112, 0.9821952651056112, 0.9821952651056112, 0.9821952651056112, 0.9834638748475397, 0.9834638748475397, 0.9834638748475397, 0.9834638748475397, 0.9834638748475397, 0.9834638748475397, 0.9834638748475397, 0.9834638748475397, 0.9834638748475397, 0.9834638748475397, 0.9834638748475397, 0.9834638748475397, 0.9834638748475397, 0.9834638748475397, 0.9834638748475397, 0.9834638748475397, 0.9834638748475397, 0.9834638748475397, 0.9834638748475397, 0.9834638748475397, 0.9834638748475397, 0.9834638748475397, 0.9834638748475397, 0.9834638748475397, 0.9834638748475397, 0.9834638748475397, 0.9834638748475397, 0.9841203790641262]}], \"matthews_correlation\": [{\"categories\": [\"0\", \"1\", \"2\", \"3\", \"4\", \"5\", \"6\", \"7\", \"8\", \"9\", \"10\", \"11\", \"12\", \"13\", \"14\", \"15\", \"16\", \"17\", \"18\", \"19\", \"20\", \"21\", \"22\", \"23\", \"24\", \"25\", \"26\", \"27\", \"28\", \"29\", \"30\", \"31\", \"32\", \"36\"], \"mode\": \"markers\", \"name\": \"matthews_correlation\", \"stepped\": false, \"type\": \"scatter\", \"data\": [0.9688776122561498, 0.9705000497600277, 0.9132477850702262, 0.7176294644980254, 0.9669445181617856, 0.9693229673290545, 0.972548129958259, 0.9593072219427943, 0.972548129958259, 0.9630949099179918, 0.9708053921004677, 0.9557340285933673, 0.5952559702276757, 0.9648363209104135, 0.9449656715676781, 0.9432324744636732, 0.9609742716539542, 0.9652165789470023, 0.8972092473416599, 0.9612294800639489, 0.9708053921004677, 0.9557551514087058, 0.9631751944571098, 0.9444830433365876, 0.7918099581944701, 0.7515145241057728, 0.8982293784984899, 0.937505480857972, 0.8186135905880638, 0.0, 0.9706774122265033, 0.9183164183775246, 0.9692059637547462, 0.9741550901484283]}, {\"categories\": [\"0\", \"1\", \"2\", \"3\", \"4\", \"5\", \"6\", \"7\", \"8\", \"9\", \"10\", \"11\", \"12\", \"13\", \"14\", \"15\", \"16\", \"17\", \"18\", \"19\", \"20\", \"21\", \"22\", \"23\", \"24\", \"25\", \"26\", \"27\", \"28\", \"29\", \"30\", \"31\", \"32\", \"36\"], \"mode\": \"lines\", \"name\": \"matthews_correlation_max\", \"stepped\": true, \"type\": \"scatter\", \"data\": [0.9688776122561498, 0.9705000497600277, 0.9705000497600277, 0.9705000497600277, 0.9705000497600277, 0.9705000497600277, 0.972548129958259, 0.972548129958259, 0.972548129958259, 0.972548129958259, 0.972548129958259, 0.972548129958259, 0.972548129958259, 0.972548129958259, 0.972548129958259, 0.972548129958259, 0.972548129958259, 0.972548129958259, 0.972548129958259, 0.972548129958259, 0.972548129958259, 0.972548129958259, 0.972548129958259, 0.972548129958259, 0.972548129958259, 0.972548129958259, 0.972548129958259, 0.972548129958259, 0.972548129958259, 0.972548129958259, 0.972548129958259, 0.972548129958259, 0.972548129958259, 0.9741550901484283]}], \"accuracy\": [{\"categories\": [\"0\", \"1\", \"2\", \"3\", \"4\", \"5\", \"6\", \"7\", \"8\", \"9\", \"10\", \"11\", \"12\", \"13\", \"14\", \"15\", \"16\", \"17\", \"18\", \"19\", \"20\", \"21\", \"22\", \"23\", \"24\", \"25\", \"26\", \"27\", \"28\", \"29\", \"30\", \"31\", \"32\", \"36\"], \"mode\": \"markers\", \"name\": \"accuracy\", \"stepped\": false, \"type\": \"scatter\", \"data\": [0.9885752688172044, 0.989247311827957, 0.9690860215053764, 0.9038978494623656, 0.9879032258064516, 0.9885752688172044, 0.9899193548387096, 0.9852150537634409, 0.9899193548387096, 0.9865591397849464, 0.989247311827957, 0.9838709677419355, 0.8682795698924731, 0.9872311827956989, 0.9798387096774194, 0.9791666666666666, 0.9858870967741935, 0.9872311827956989, 0.9630376344086021, 0.9858870967741935, 0.989247311827957, 0.9838709677419355, 0.9865591397849464, 0.9798387096774194, 0.9274193548387096, 0.9126344086021505, 0.9630376344086021, 0.9771505376344086, 0.928763440860215, 0.780241935483871, 0.989247311827957, 0.9704301075268816, 0.9885752688172044, 0.9905913978494624]}, {\"categories\": [\"0\", \"1\", \"2\", \"3\", \"4\", \"5\", \"6\", \"7\", \"8\", \"9\", \"10\", \"11\", \"12\", \"13\", \"14\", \"15\", \"16\", \"17\", \"18\", \"19\", \"20\", \"21\", \"22\", \"23\", \"24\", \"25\", \"26\", \"27\", \"28\", \"29\", \"30\", \"31\", \"32\", \"36\"], \"mode\": \"lines\", \"name\": \"accuracy_max\", \"stepped\": true, \"type\": \"scatter\", \"data\": [0.9885752688172044, 0.989247311827957, 0.989247311827957, 0.989247311827957, 0.989247311827957, 0.989247311827957, 0.9899193548387096, 0.9899193548387096, 0.9899193548387096, 0.9899193548387096, 0.9899193548387096, 0.9899193548387096, 0.9899193548387096, 0.9899193548387096, 0.9899193548387096, 0.9899193548387096, 0.9899193548387096, 0.9899193548387096, 0.9899193548387096, 0.9899193548387096, 0.9899193548387096, 0.9899193548387096, 0.9899193548387096, 0.9899193548387096, 0.9899193548387096, 0.9899193548387096, 0.9899193548387096, 0.9899193548387096, 0.9899193548387096, 0.9899193548387096, 0.9899193548387096, 0.9899193548387096, 0.9899193548387096, 0.9905913978494624]}], \"f1_score_micro\": [{\"categories\": [\"0\", \"1\", \"2\", \"3\", \"4\", \"5\", \"6\", \"7\", \"8\", \"9\", \"10\", \"11\", \"12\", \"13\", \"14\", \"15\", \"16\", \"17\", \"18\", \"19\", \"20\", \"21\", \"22\", \"23\", \"24\", \"25\", \"26\", \"27\", \"28\", \"29\", \"30\", \"31\", \"32\", \"36\"], \"mode\": \"markers\", \"name\": \"f1_score_micro\", \"stepped\": false, \"type\": \"scatter\", \"data\": [0.9885752688172044, 0.989247311827957, 0.9690860215053764, 0.9038978494623656, 0.9879032258064516, 0.9885752688172044, 0.9899193548387096, 0.9852150537634409, 0.9899193548387096, 0.9865591397849464, 0.989247311827957, 0.9838709677419355, 0.8682795698924731, 0.9872311827956989, 0.9798387096774194, 0.9791666666666666, 0.9858870967741935, 0.9872311827956989, 0.9630376344086021, 0.9858870967741935, 0.989247311827957, 0.9838709677419355, 0.9865591397849464, 0.9798387096774194, 0.9274193548387096, 0.9126344086021505, 0.9630376344086021, 0.9771505376344086, 0.9287634408602151, 0.780241935483871, 0.989247311827957, 0.9704301075268816, 0.9885752688172044, 0.9905913978494624]}, {\"categories\": [\"0\", \"1\", \"2\", \"3\", \"4\", \"5\", \"6\", \"7\", \"8\", \"9\", \"10\", \"11\", \"12\", \"13\", \"14\", \"15\", \"16\", \"17\", \"18\", \"19\", \"20\", \"21\", \"22\", \"23\", \"24\", \"25\", \"26\", \"27\", \"28\", \"29\", \"30\", \"31\", \"32\", \"36\"], \"mode\": \"lines\", \"name\": \"f1_score_micro_max\", \"stepped\": true, \"type\": \"scatter\", \"data\": [0.9885752688172044, 0.989247311827957, 0.989247311827957, 0.989247311827957, 0.989247311827957, 0.989247311827957, 0.9899193548387096, 0.9899193548387096, 0.9899193548387096, 0.9899193548387096, 0.9899193548387096, 0.9899193548387096, 0.9899193548387096, 0.9899193548387096, 0.9899193548387096, 0.9899193548387096, 0.9899193548387096, 0.9899193548387096, 0.9899193548387096, 0.9899193548387096, 0.9899193548387096, 0.9899193548387096, 0.9899193548387096, 0.9899193548387096, 0.9899193548387096, 0.9899193548387096, 0.9899193548387096, 0.9899193548387096, 0.9899193548387096, 0.9899193548387096, 0.9899193548387096, 0.9899193548387096, 0.9899193548387096, 0.9905913978494624]}], \"AUC_micro\": [{\"categories\": [\"0\", \"1\", \"2\", \"3\", \"4\", \"5\", \"6\", \"7\", \"8\", \"9\", \"10\", \"11\", \"12\", \"13\", \"14\", \"15\", \"16\", \"17\", \"18\", \"19\", \"20\", \"21\", \"22\", \"23\", \"24\", \"25\", \"26\", \"27\", \"28\", \"29\", \"30\", \"31\", \"32\", \"36\"], \"mode\": \"markers\", \"name\": \"AUC_micro\", \"stepped\": false, \"type\": \"scatter\", \"data\": [0.9984262541189732, 0.9986782702480056, 0.9960991697016995, 0.9833757424991328, 0.998566488900451, 0.9979201894727714, 0.9978131503642039, 0.9982175956035381, 0.9977745349895941, 0.9983937359087754, 0.9983212473985432, 0.9977122084200486, 0.9805541103017689, 0.9987385644294138, 0.9980285835067638, 0.9963728646375304, 0.9981972717221644, 0.9968647025667706, 0.9941291081338884, 0.9985028074054805, 0.9987561784599376, 0.997471709157128, 0.9981383324661811, 0.9976126214013181, 0.9891633064516129, 0.9815296566077003, 0.9962007891085675, 0.9969873233177245, 0.9884201298560527, 0.8636653713579605, 0.9980611017169615, 0.9957150483437393, 0.997429706468956, 0.9987263701005897]}, {\"categories\": [\"0\", \"1\", \"2\", \"3\", \"4\", \"5\", \"6\", \"7\", \"8\", \"9\", \"10\", \"11\", \"12\", \"13\", \"14\", \"15\", \"16\", \"17\", \"18\", \"19\", \"20\", \"21\", \"22\", \"23\", \"24\", \"25\", \"26\", \"27\", \"28\", \"29\", \"30\", \"31\", \"32\", \"36\"], \"mode\": \"lines\", \"name\": \"AUC_micro_max\", \"stepped\": true, \"type\": \"scatter\", \"data\": [0.9984262541189732, 0.9986782702480056, 0.9986782702480056, 0.9986782702480056, 0.9986782702480056, 0.9986782702480056, 0.9986782702480056, 0.9986782702480056, 0.9986782702480056, 0.9986782702480056, 0.9986782702480056, 0.9986782702480056, 0.9986782702480056, 0.9987385644294138, 0.9987385644294138, 0.9987385644294138, 0.9987385644294138, 0.9987385644294138, 0.9987385644294138, 0.9987385644294138, 0.9987561784599376, 0.9987561784599376, 0.9987561784599376, 0.9987561784599376, 0.9987561784599376, 0.9987561784599376, 0.9987561784599376, 0.9987561784599376, 0.9987561784599376, 0.9987561784599376, 0.9987561784599376, 0.9987561784599376, 0.9987561784599376, 0.9987561784599376]}], \"AUC_macro\": [{\"categories\": [\"0\", \"1\", \"2\", \"3\", \"4\", \"5\", \"6\", \"7\", \"8\", \"9\", \"10\", \"11\", \"12\", \"13\", \"14\", \"15\", \"16\", \"17\", \"18\", \"19\", \"20\", \"21\", \"22\", \"23\", \"24\", \"25\", \"26\", \"27\", \"28\", \"29\", \"30\", \"31\", \"32\", \"36\"], \"mode\": \"markers\", \"name\": \"AUC_macro\", \"stepped\": false, \"type\": \"scatter\", \"data\": [0.996188249162041, 0.9970722853486088, 0.9930106793482931, 0.9759960207103712, 0.9962739439110176, 0.9952025405883526, 0.9945424029770549, 0.9962687955690864, 0.9945147580685659, 0.9965332224386061, 0.9958403159661834, 0.9949390096137739, 0.994096650400631, 0.9969490263884557, 0.9965235558517703, 0.9964429897571195, 0.9959151967193364, 0.9929068742037549, 0.9880902076945995, 0.9975921234417098, 0.9973452765827445, 0.9946609667589471, 0.9960197727939245, 0.9957229922541876, 0.9816725349517914, 0.9621852133372116, 0.9914304418870925, 0.9930264742279881, 0.9794510948309952, 0.5421203225780556, 0.9952385228310461, 0.9949845525961153, 0.9938978176997324, 0.9969567993207403]}, {\"categories\": [\"0\", \"1\", \"2\", \"3\", \"4\", \"5\", \"6\", \"7\", \"8\", \"9\", \"10\", \"11\", \"12\", \"13\", \"14\", \"15\", \"16\", \"17\", \"18\", \"19\", \"20\", \"21\", \"22\", \"23\", \"24\", \"25\", \"26\", \"27\", \"28\", \"29\", \"30\", \"31\", \"32\", \"36\"], \"mode\": \"lines\", \"name\": \"AUC_macro_max\", \"stepped\": true, \"type\": \"scatter\", \"data\": [0.996188249162041, 0.9970722853486088, 0.9970722853486088, 0.9970722853486088, 0.9970722853486088, 0.9970722853486088, 0.9970722853486088, 0.9970722853486088, 0.9970722853486088, 0.9970722853486088, 0.9970722853486088, 0.9970722853486088, 0.9970722853486088, 0.9970722853486088, 0.9970722853486088, 0.9970722853486088, 0.9970722853486088, 0.9970722853486088, 0.9970722853486088, 0.9975921234417098, 0.9975921234417098, 0.9975921234417098, 0.9975921234417098, 0.9975921234417098, 0.9975921234417098, 0.9975921234417098, 0.9975921234417098, 0.9975921234417098, 0.9975921234417098, 0.9975921234417098, 0.9975921234417098, 0.9975921234417098, 0.9975921234417098, 0.9975921234417098]}], \"balanced_accuracy\": [{\"categories\": [\"0\", \"1\", \"2\", \"3\", \"4\", \"5\", \"6\", \"7\", \"8\", \"9\", \"10\", \"11\", \"12\", \"13\", \"14\", \"15\", \"16\", \"17\", \"18\", \"19\", \"20\", \"21\", \"22\", \"23\", \"24\", \"25\", \"26\", \"27\", \"28\", \"29\", \"30\", \"31\", \"32\", \"36\"], \"mode\": \"markers\", \"name\": \"balanced_accuracy\", \"stepped\": false, \"type\": \"scatter\", \"data\": [0.9773189915466461, 0.9772630474529116, 0.9157294002645046, 0.6768207458110979, 0.9730746432645073, 0.9782460194027136, 0.9825046590014429, 0.968922066876908, 0.9825046590014429, 0.9663309599703792, 0.9749453915638271, 0.9587013119082538, 0.5505529680102735, 0.9679816969950905, 0.9520295117069311, 0.9503816971558908, 0.9592039434694378, 0.9714268287134672, 0.8935866526473736, 0.9692069671618082, 0.9749453915638271, 0.9600360882430302, 0.9707942687491098, 0.9423176092681133, 0.7465870121264536, 0.7843909993154056, 0.9051138672377491, 0.9576351538715938, 0.8862610424529515, 0.3333333333333333, 0.9785586334544908, 0.9244530559046688, 0.9794055741336969, 0.9789909491808132]}, {\"categories\": [\"0\", \"1\", \"2\", \"3\", \"4\", \"5\", \"6\", \"7\", \"8\", \"9\", \"10\", \"11\", \"12\", \"13\", \"14\", \"15\", \"16\", \"17\", \"18\", \"19\", \"20\", \"21\", \"22\", \"23\", \"24\", \"25\", \"26\", \"27\", \"28\", \"29\", \"30\", \"31\", \"32\", \"36\"], \"mode\": \"lines\", \"name\": \"balanced_accuracy_max\", \"stepped\": true, \"type\": \"scatter\", \"data\": [0.9773189915466461, 0.9773189915466461, 0.9773189915466461, 0.9773189915466461, 0.9773189915466461, 0.9782460194027136, 0.9825046590014429, 0.9825046590014429, 0.9825046590014429, 0.9825046590014429, 0.9825046590014429, 0.9825046590014429, 0.9825046590014429, 0.9825046590014429, 0.9825046590014429, 0.9825046590014429, 0.9825046590014429, 0.9825046590014429, 0.9825046590014429, 0.9825046590014429, 0.9825046590014429, 0.9825046590014429, 0.9825046590014429, 0.9825046590014429, 0.9825046590014429, 0.9825046590014429, 0.9825046590014429, 0.9825046590014429, 0.9825046590014429, 0.9825046590014429, 0.9825046590014429, 0.9825046590014429, 0.9825046590014429, 0.9825046590014429]}], \"precision_score_micro\": [{\"categories\": [\"0\", \"1\", \"2\", \"3\", \"4\", \"5\", \"6\", \"7\", \"8\", \"9\", \"10\", \"11\", \"12\", \"13\", \"14\", \"15\", \"16\", \"17\", \"18\", \"19\", \"20\", \"21\", \"22\", \"23\", \"24\", \"25\", \"26\", \"27\", \"28\", \"29\", \"30\", \"31\", \"32\", \"36\"], \"mode\": \"markers\", \"name\": \"precision_score_micro\", \"stepped\": false, \"type\": \"scatter\", \"data\": [0.9885752688172044, 0.989247311827957, 0.9690860215053764, 0.9038978494623656, 0.9879032258064516, 0.9885752688172044, 0.9899193548387096, 0.9852150537634409, 0.9899193548387096, 0.9865591397849464, 0.989247311827957, 0.9838709677419355, 0.8682795698924731, 0.9872311827956989, 0.9798387096774194, 0.9791666666666666, 0.9858870967741935, 0.9872311827956989, 0.9630376344086021, 0.9858870967741935, 0.989247311827957, 0.9838709677419355, 0.9865591397849464, 0.9798387096774194, 0.9274193548387096, 0.9126344086021505, 0.9630376344086021, 0.9771505376344086, 0.928763440860215, 0.780241935483871, 0.989247311827957, 0.9704301075268816, 0.9885752688172044, 0.9905913978494624]}, {\"categories\": [\"0\", \"1\", \"2\", \"3\", \"4\", \"5\", \"6\", \"7\", \"8\", \"9\", \"10\", \"11\", \"12\", \"13\", \"14\", \"15\", \"16\", \"17\", \"18\", \"19\", \"20\", \"21\", \"22\", \"23\", \"24\", \"25\", \"26\", \"27\", \"28\", \"29\", \"30\", \"31\", \"32\", \"36\"], \"mode\": \"lines\", \"name\": \"precision_score_micro_max\", \"stepped\": true, \"type\": \"scatter\", \"data\": [0.9885752688172044, 0.989247311827957, 0.989247311827957, 0.989247311827957, 0.989247311827957, 0.989247311827957, 0.9899193548387096, 0.9899193548387096, 0.9899193548387096, 0.9899193548387096, 0.9899193548387096, 0.9899193548387096, 0.9899193548387096, 0.9899193548387096, 0.9899193548387096, 0.9899193548387096, 0.9899193548387096, 0.9899193548387096, 0.9899193548387096, 0.9899193548387096, 0.9899193548387096, 0.9899193548387096, 0.9899193548387096, 0.9899193548387096, 0.9899193548387096, 0.9899193548387096, 0.9899193548387096, 0.9899193548387096, 0.9899193548387096, 0.9899193548387096, 0.9899193548387096, 0.9899193548387096, 0.9899193548387096, 0.9905913978494624]}], \"average_precision_score_weighted\": [{\"categories\": [\"0\", \"1\", \"2\", \"3\", \"4\", \"5\", \"6\", \"7\", \"8\", \"9\", \"10\", \"11\", \"12\", \"13\", \"14\", \"15\", \"16\", \"17\", \"18\", \"19\", \"20\", \"21\", \"22\", \"23\", \"24\", \"25\", \"26\", \"27\", \"28\", \"29\", \"30\", \"31\", \"32\", \"36\"], \"mode\": \"markers\", \"name\": \"average_precision_score_weighted\", \"stepped\": false, \"type\": \"scatter\", \"data\": [0.9953626063999176, 0.995843477376431, 0.992700422885291, 0.9703486879220499, 0.9961122042985452, 0.9931529019462723, 0.9946662238804747, 0.9957784106982345, 0.9945974605795925, 0.9950700888970436, 0.9954667838066852, 0.9946288793491034, 0.9923526259495844, 0.9966955137498842, 0.9964767649158882, 0.9962454221045896, 0.9956690773204645, 0.9913283587732878, 0.9878552682190422, 0.9961997409676312, 0.9966718928395459, 0.9942954007438068, 0.9954705693339081, 0.9960356109050742, 0.9747650535177184, 0.9395325956713186, 0.9898584276718209, 0.9938664899727012, 0.9754906418104632, 0.6832568666050921, 0.9930030547465633, 0.9947932638829146, 0.9918274689925278, 0.9959026640475335]}, {\"categories\": [\"0\", \"1\", \"2\", \"3\", \"4\", \"5\", \"6\", \"7\", \"8\", \"9\", \"10\", \"11\", \"12\", \"13\", \"14\", \"15\", \"16\", \"17\", \"18\", \"19\", \"20\", \"21\", \"22\", \"23\", \"24\", \"25\", \"26\", \"27\", \"28\", \"29\", \"30\", \"31\", \"32\", \"36\"], \"mode\": \"lines\", \"name\": \"average_precision_score_weighted_max\", \"stepped\": true, \"type\": \"scatter\", \"data\": [0.9953626063999176, 0.995843477376431, 0.995843477376431, 0.995843477376431, 0.9961122042985452, 0.9961122042985452, 0.9961122042985452, 0.9961122042985452, 0.9961122042985452, 0.9961122042985452, 0.9961122042985452, 0.9961122042985452, 0.9961122042985452, 0.9966955137498842, 0.9966955137498842, 0.9966955137498842, 0.9966955137498842, 0.9966955137498842, 0.9966955137498842, 0.9966955137498842, 0.9966955137498842, 0.9966955137498842, 0.9966955137498842, 0.9966955137498842, 0.9966955137498842, 0.9966955137498842, 0.9966955137498842, 0.9966955137498842, 0.9966955137498842, 0.9966955137498842, 0.9966955137498842, 0.9966955137498842, 0.9966955137498842, 0.9966955137498842]}], \"norm_macro_recall\": [{\"categories\": [\"0\", \"1\", \"2\", \"3\", \"4\", \"5\", \"6\", \"7\", \"8\", \"9\", \"10\", \"11\", \"12\", \"13\", \"14\", \"15\", \"16\", \"17\", \"18\", \"19\", \"20\", \"21\", \"22\", \"23\", \"24\", \"25\", \"26\", \"27\", \"28\", \"29\", \"30\", \"31\", \"32\", \"36\"], \"mode\": \"markers\", \"name\": \"norm_macro_recall\", \"stepped\": false, \"type\": \"scatter\", \"data\": [0.9659784873199692, 0.9658945711793671, 0.8735941003967569, 0.5152311187166468, 0.9596119648967609, 0.9673690291040703, 0.9737569885021643, 0.9533831003153619, 0.9737569885021643, 0.9494964399555688, 0.9624180873457405, 0.9380519678623807, 0.32582945201541025, 0.9519725454926355, 0.9280442675603965, 0.9255725457338361, 0.9388059152041568, 0.9571402430702006, 0.8403799789710605, 0.9538104507427123, 0.9624180873457405, 0.940054132364545, 0.9561914031236647, 0.9134764139021696, 0.6198805181896805, 0.6765864989731082, 0.8576708008566234, 0.9364527308073907, 0.8293915636794272, 0.0, 0.9678379501817362, 0.8866795838570031, 0.9691083612005453, 0.9684864237712199]}, {\"categories\": [\"0\", \"1\", \"2\", \"3\", \"4\", \"5\", \"6\", \"7\", \"8\", \"9\", \"10\", \"11\", \"12\", \"13\", \"14\", \"15\", \"16\", \"17\", \"18\", \"19\", \"20\", \"21\", \"22\", \"23\", \"24\", \"25\", \"26\", \"27\", \"28\", \"29\", \"30\", \"31\", \"32\", \"36\"], \"mode\": \"lines\", \"name\": \"norm_macro_recall_max\", \"stepped\": true, \"type\": \"scatter\", \"data\": [0.9659784873199692, 0.9659784873199692, 0.9659784873199692, 0.9659784873199692, 0.9659784873199692, 0.9673690291040703, 0.9737569885021643, 0.9737569885021643, 0.9737569885021643, 0.9737569885021643, 0.9737569885021643, 0.9737569885021643, 0.9737569885021643, 0.9737569885021643, 0.9737569885021643, 0.9737569885021643, 0.9737569885021643, 0.9737569885021643, 0.9737569885021643, 0.9737569885021643, 0.9737569885021643, 0.9737569885021643, 0.9737569885021643, 0.9737569885021643, 0.9737569885021643, 0.9737569885021643, 0.9737569885021643, 0.9737569885021643, 0.9737569885021643, 0.9737569885021643, 0.9737569885021643, 0.9737569885021643, 0.9737569885021643, 0.9737569885021643]}], \"recall_score_weighted\": [{\"categories\": [\"0\", \"1\", \"2\", \"3\", \"4\", \"5\", \"6\", \"7\", \"8\", \"9\", \"10\", \"11\", \"12\", \"13\", \"14\", \"15\", \"16\", \"17\", \"18\", \"19\", \"20\", \"21\", \"22\", \"23\", \"24\", \"25\", \"26\", \"27\", \"28\", \"29\", \"30\", \"31\", \"32\", \"36\"], \"mode\": \"markers\", \"name\": \"recall_score_weighted\", \"stepped\": false, \"type\": \"scatter\", \"data\": [0.9885752688172044, 0.989247311827957, 0.9690860215053764, 0.9038978494623656, 0.9879032258064516, 0.9885752688172044, 0.9899193548387096, 0.9852150537634409, 0.9899193548387096, 0.9865591397849464, 0.989247311827957, 0.9838709677419355, 0.8682795698924731, 0.9872311827956989, 0.9798387096774194, 0.9791666666666666, 0.9858870967741935, 0.9872311827956989, 0.9630376344086021, 0.9858870967741935, 0.989247311827957, 0.9838709677419355, 0.9865591397849464, 0.9798387096774194, 0.9274193548387096, 0.9126344086021505, 0.9630376344086021, 0.9771505376344086, 0.928763440860215, 0.780241935483871, 0.989247311827957, 0.9704301075268816, 0.9885752688172044, 0.9905913978494624]}, {\"categories\": [\"0\", \"1\", \"2\", \"3\", \"4\", \"5\", \"6\", \"7\", \"8\", \"9\", \"10\", \"11\", \"12\", \"13\", \"14\", \"15\", \"16\", \"17\", \"18\", \"19\", \"20\", \"21\", \"22\", \"23\", \"24\", \"25\", \"26\", \"27\", \"28\", \"29\", \"30\", \"31\", \"32\", \"36\"], \"mode\": \"lines\", \"name\": \"recall_score_weighted_max\", \"stepped\": true, \"type\": \"scatter\", \"data\": [0.9885752688172044, 0.989247311827957, 0.989247311827957, 0.989247311827957, 0.989247311827957, 0.989247311827957, 0.9899193548387096, 0.9899193548387096, 0.9899193548387096, 0.9899193548387096, 0.9899193548387096, 0.9899193548387096, 0.9899193548387096, 0.9899193548387096, 0.9899193548387096, 0.9899193548387096, 0.9899193548387096, 0.9899193548387096, 0.9899193548387096, 0.9899193548387096, 0.9899193548387096, 0.9899193548387096, 0.9899193548387096, 0.9899193548387096, 0.9899193548387096, 0.9899193548387096, 0.9899193548387096, 0.9899193548387096, 0.9899193548387096, 0.9899193548387096, 0.9899193548387096, 0.9899193548387096, 0.9899193548387096, 0.9905913978494624]}], \"average_precision_score_micro\": [{\"categories\": [\"0\", \"1\", \"2\", \"3\", \"4\", \"5\", \"6\", \"7\", \"8\", \"9\", \"10\", \"11\", \"12\", \"13\", \"14\", \"15\", \"16\", \"17\", \"18\", \"19\", \"20\", \"21\", \"22\", \"23\", \"24\", \"25\", \"26\", \"27\", \"28\", \"29\", \"30\", \"31\", \"32\", \"36\"], \"mode\": \"markers\", \"name\": \"average_precision_score_micro\", \"stepped\": false, \"type\": \"scatter\", \"data\": [0.9972559403772127, 0.9975215789158822, 0.9923013255563718, 0.970962398884954, 0.9977666237359903, 0.9958237771047497, 0.9962197739754076, 0.996930138484951, 0.9961818898313711, 0.9971096152836548, 0.9968383219782578, 0.9959315227462517, 0.9648890305326946, 0.9977449287014349, 0.9967034122442838, 0.993327969931018, 0.9967082109049862, 0.993301808381038, 0.988260421523172, 0.9972813735965714, 0.9976902375819554, 0.9954672196460096, 0.9967076487399326, 0.9961107374737167, 0.9810804484725569, 0.9650655077387666, 0.9932462539078449, 0.9958317651287044, 0.9805632613662363, 0.7673520002576906, 0.9958816905345289, 0.9928093733380251, 0.994501174822016, 0.9976111025534294]}, {\"categories\": [\"0\", \"1\", \"2\", \"3\", \"4\", \"5\", \"6\", \"7\", \"8\", \"9\", \"10\", \"11\", \"12\", \"13\", \"14\", \"15\", \"16\", \"17\", \"18\", \"19\", \"20\", \"21\", \"22\", \"23\", \"24\", \"25\", \"26\", \"27\", \"28\", \"29\", \"30\", \"31\", \"32\", \"36\"], \"mode\": \"lines\", \"name\": \"average_precision_score_micro_max\", \"stepped\": true, \"type\": \"scatter\", \"data\": [0.9972559403772127, 0.9975215789158822, 0.9975215789158822, 0.9975215789158822, 0.9977666237359903, 0.9977666237359903, 0.9977666237359903, 0.9977666237359903, 0.9977666237359903, 0.9977666237359903, 0.9977666237359903, 0.9977666237359903, 0.9977666237359903, 0.9977666237359903, 0.9977666237359903, 0.9977666237359903, 0.9977666237359903, 0.9977666237359903, 0.9977666237359903, 0.9977666237359903, 0.9977666237359903, 0.9977666237359903, 0.9977666237359903, 0.9977666237359903, 0.9977666237359903, 0.9977666237359903, 0.9977666237359903, 0.9977666237359903, 0.9977666237359903, 0.9977666237359903, 0.9977666237359903, 0.9977666237359903, 0.9977666237359903, 0.9977666237359903]}], \"weighted_accuracy\": [{\"categories\": [\"0\", \"1\", \"2\", \"3\", \"4\", \"5\", \"6\", \"7\", \"8\", \"9\", \"10\", \"11\", \"12\", \"13\", \"14\", \"15\", \"16\", \"17\", \"18\", \"19\", \"20\", \"21\", \"22\", \"23\", \"24\", \"25\", \"26\", \"27\", \"28\", \"29\", \"30\", \"31\", \"32\", \"36\"], \"mode\": \"markers\", \"name\": \"weighted_accuracy\", \"stepped\": false, \"type\": \"scatter\", \"data\": [0.9947596834016931, 0.9956342728027435, 0.993619184530544, 0.982924830312359, 0.9959720204500861, 0.9940790553831017, 0.9937674230325723, 0.9940687097137252, 0.9937674230325723, 0.9946661024792078, 0.9969362077779098, 0.9947145801802016, 0.9778378724935815, 0.9959998922064099, 0.9954450679440754, 0.9952904690525423, 0.9965831779678936, 0.9958174215585532, 0.9925974259330447, 0.9948921198986757, 0.9969362077779098, 0.9946329943276293, 0.99503820888774, 0.9953641957451719, 0.9868453014058184, 0.9638649646920054, 0.9860390850024353, 0.9863809800924054, 0.9424003351229854, 0.9585562357708747, 0.9949499699048947, 0.9936913919452449, 0.993430743818614, 0.9966274697619658]}, {\"categories\": [\"0\", \"1\", \"2\", \"3\", \"4\", \"5\", \"6\", \"7\", \"8\", \"9\", \"10\", \"11\", \"12\", \"13\", \"14\", \"15\", \"16\", \"17\", \"18\", \"19\", \"20\", \"21\", \"22\", \"23\", \"24\", \"25\", \"26\", \"27\", \"28\", \"29\", \"30\", \"31\", \"32\", \"36\"], \"mode\": \"lines\", \"name\": \"weighted_accuracy_max\", \"stepped\": true, \"type\": \"scatter\", \"data\": [0.9947596834016931, 0.9956342728027435, 0.9956342728027435, 0.9956342728027435, 0.9959720204500861, 0.9959720204500861, 0.9959720204500861, 0.9959720204500861, 0.9959720204500861, 0.9959720204500861, 0.9969362077779098, 0.9969362077779098, 0.9969362077779098, 0.9969362077779098, 0.9969362077779098, 0.9969362077779098, 0.9969362077779098, 0.9969362077779098, 0.9969362077779098, 0.9969362077779098, 0.9969362077779098, 0.9969362077779098, 0.9969362077779098, 0.9969362077779098, 0.9969362077779098, 0.9969362077779098, 0.9969362077779098, 0.9969362077779098, 0.9969362077779098, 0.9969362077779098, 0.9969362077779098, 0.9969362077779098, 0.9969362077779098, 0.9969362077779098]}], \"recall_score_micro\": [{\"categories\": [\"0\", \"1\", \"2\", \"3\", \"4\", \"5\", \"6\", \"7\", \"8\", \"9\", \"10\", \"11\", \"12\", \"13\", \"14\", \"15\", \"16\", \"17\", \"18\", \"19\", \"20\", \"21\", \"22\", \"23\", \"24\", \"25\", \"26\", \"27\", \"28\", \"29\", \"30\", \"31\", \"32\", \"36\"], \"mode\": \"markers\", \"name\": \"recall_score_micro\", \"stepped\": false, \"type\": \"scatter\", \"data\": [0.9885752688172044, 0.989247311827957, 0.9690860215053764, 0.9038978494623656, 0.9879032258064516, 0.9885752688172044, 0.9899193548387096, 0.9852150537634409, 0.9899193548387096, 0.9865591397849464, 0.989247311827957, 0.9838709677419355, 0.8682795698924731, 0.9872311827956989, 0.9798387096774194, 0.9791666666666666, 0.9858870967741935, 0.9872311827956989, 0.9630376344086021, 0.9858870967741935, 0.989247311827957, 0.9838709677419355, 0.9865591397849464, 0.9798387096774194, 0.9274193548387096, 0.9126344086021505, 0.9630376344086021, 0.9771505376344086, 0.928763440860215, 0.780241935483871, 0.989247311827957, 0.9704301075268816, 0.9885752688172044, 0.9905913978494624]}, {\"categories\": [\"0\", \"1\", \"2\", \"3\", \"4\", \"5\", \"6\", \"7\", \"8\", \"9\", \"10\", \"11\", \"12\", \"13\", \"14\", \"15\", \"16\", \"17\", \"18\", \"19\", \"20\", \"21\", \"22\", \"23\", \"24\", \"25\", \"26\", \"27\", \"28\", \"29\", \"30\", \"31\", \"32\", \"36\"], \"mode\": \"lines\", \"name\": \"recall_score_micro_max\", \"stepped\": true, \"type\": \"scatter\", \"data\": [0.9885752688172044, 0.989247311827957, 0.989247311827957, 0.989247311827957, 0.989247311827957, 0.989247311827957, 0.9899193548387096, 0.9899193548387096, 0.9899193548387096, 0.9899193548387096, 0.9899193548387096, 0.9899193548387096, 0.9899193548387096, 0.9899193548387096, 0.9899193548387096, 0.9899193548387096, 0.9899193548387096, 0.9899193548387096, 0.9899193548387096, 0.9899193548387096, 0.9899193548387096, 0.9899193548387096, 0.9899193548387096, 0.9899193548387096, 0.9899193548387096, 0.9899193548387096, 0.9899193548387096, 0.9899193548387096, 0.9899193548387096, 0.9899193548387096, 0.9899193548387096, 0.9899193548387096, 0.9899193548387096, 0.9905913978494624]}]}, \"metricName\": null, \"primaryMetricName\": \"accuracy\", \"showLegend\": false}, \"run_metrics\": [{\"name\": \"experiment_status\", \"run_id\": \"AutoML_42f9b711-ee02-4587-b942-796c4f8ba304\", \"categories\": [0, 1, 2, 3, 4, 5, 6, 7, 8, 9, 10, 11, 12, 13, 14], \"series\": [{\"data\": [\"DatasetEvaluation\", \"FeaturesGeneration\", \"DatasetFeaturization\", \"DatasetFeaturizationCompleted\", \"DatasetBalancing\", \"DatasetCrossValidationSplit\", \"ModelSelection\", \"BestRunExplainModel\", \"ModelExplanationDataSetSetup\", \"PickSurrogateModel\", \"EngineeredFeatureExplanations\", \"EngineeredFeatureExplanations\", \"RawFeaturesExplanations\", \"RawFeaturesExplanations\", \"BestRunExplainModel\"]}]}, {\"name\": \"experiment_status_description\", \"run_id\": \"AutoML_42f9b711-ee02-4587-b942-796c4f8ba304\", \"categories\": [0, 1, 2, 3, 4, 5, 6, 7, 8, 9, 10, 11, 12, 13, 14], \"series\": [{\"data\": [\"Gathering dataset statistics.\", \"Generating features for the dataset.\", \"Beginning to fit featurizers and featurize the dataset.\", \"Completed fit featurizers and featurizing the dataset.\", \"Performing class balancing sweeping\", \"Generating individually featurized CV splits.\", \"Beginning model selection.\", \"Best run model explanations started\", \"Model explanations data setup completed\", \"Choosing LightGBM as the surrogate model for explanations\", \"Computation of engineered features started\", \"Computation of engineered features completed\", \"Computation of raw features started\", \"Computation of raw features completed\", \"Best run model explanations completed\"]}]}, {\"name\": \"recall_score_weighted\", \"run_id\": \"AutoML_42f9b711-ee02-4587-b942-796c4f8ba304\", \"categories\": [0], \"series\": [{\"data\": [0.9905913978494624]}]}, {\"name\": \"average_precision_score_micro\", \"run_id\": \"AutoML_42f9b711-ee02-4587-b942-796c4f8ba304\", \"categories\": [0], \"series\": [{\"data\": [0.9976111025534294]}]}, {\"name\": \"norm_macro_recall\", \"run_id\": \"AutoML_42f9b711-ee02-4587-b942-796c4f8ba304\", \"categories\": [0], \"series\": [{\"data\": [0.9684864237712199]}]}, {\"name\": \"f1_score_weighted\", \"run_id\": \"AutoML_42f9b711-ee02-4587-b942-796c4f8ba304\", \"categories\": [0], \"series\": [{\"data\": [0.9904983266948456]}]}, {\"name\": \"precision_score_micro\", \"run_id\": \"AutoML_42f9b711-ee02-4587-b942-796c4f8ba304\", \"categories\": [0], \"series\": [{\"data\": [0.9905913978494624]}]}, {\"name\": \"recall_score_micro\", \"run_id\": \"AutoML_42f9b711-ee02-4587-b942-796c4f8ba304\", \"categories\": [0], \"series\": [{\"data\": [0.9905913978494624]}]}, {\"name\": \"weighted_accuracy\", \"run_id\": \"AutoML_42f9b711-ee02-4587-b942-796c4f8ba304\", \"categories\": [0], \"series\": [{\"data\": [0.9966274697619658]}]}, {\"name\": \"AUC_macro\", \"run_id\": \"AutoML_42f9b711-ee02-4587-b942-796c4f8ba304\", \"categories\": [0], \"series\": [{\"data\": [0.9969567993207403]}]}, {\"name\": \"log_loss\", \"run_id\": \"AutoML_42f9b711-ee02-4587-b942-796c4f8ba304\", \"categories\": [0], \"series\": [{\"data\": [0.043538917904874984]}]}, {\"name\": \"AUC_weighted\", \"run_id\": \"AutoML_42f9b711-ee02-4587-b942-796c4f8ba304\", \"categories\": [0], \"series\": [{\"data\": [0.9972339803011737]}]}, {\"name\": \"f1_score_micro\", \"run_id\": \"AutoML_42f9b711-ee02-4587-b942-796c4f8ba304\", \"categories\": [0], \"series\": [{\"data\": [0.9905913978494624]}]}, {\"name\": \"matthews_correlation\", \"run_id\": \"AutoML_42f9b711-ee02-4587-b942-796c4f8ba304\", \"categories\": [0], \"series\": [{\"data\": [0.9741550901484283]}]}, {\"name\": \"AUC_micro\", \"run_id\": \"AutoML_42f9b711-ee02-4587-b942-796c4f8ba304\", \"categories\": [0], \"series\": [{\"data\": [0.9987263701005897]}]}, {\"name\": \"precision_score_macro\", \"run_id\": \"AutoML_42f9b711-ee02-4587-b942-796c4f8ba304\", \"categories\": [0], \"series\": [{\"data\": [0.989590281538785]}]}, {\"name\": \"average_precision_score_macro\", \"run_id\": \"AutoML_42f9b711-ee02-4587-b942-796c4f8ba304\", \"categories\": [0], \"series\": [{\"data\": [0.990399720995338]}]}, {\"name\": \"balanced_accuracy\", \"run_id\": \"AutoML_42f9b711-ee02-4587-b942-796c4f8ba304\", \"categories\": [0], \"series\": [{\"data\": [0.9789909491808132]}]}, {\"name\": \"f1_score_macro\", \"run_id\": \"AutoML_42f9b711-ee02-4587-b942-796c4f8ba304\", \"categories\": [0], \"series\": [{\"data\": [0.9841203790641262]}]}, {\"name\": \"precision_score_weighted\", \"run_id\": \"AutoML_42f9b711-ee02-4587-b942-796c4f8ba304\", \"categories\": [0], \"series\": [{\"data\": [0.9905598877666265]}]}, {\"name\": \"accuracy\", \"run_id\": \"AutoML_42f9b711-ee02-4587-b942-796c4f8ba304\", \"categories\": [0], \"series\": [{\"data\": [0.9905913978494624]}]}, {\"name\": \"average_precision_score_weighted\", \"run_id\": \"AutoML_42f9b711-ee02-4587-b942-796c4f8ba304\", \"categories\": [0], \"series\": [{\"data\": [0.9959026640475335]}]}, {\"name\": \"recall_score_macro\", \"run_id\": \"AutoML_42f9b711-ee02-4587-b942-796c4f8ba304\", \"categories\": [0], \"series\": [{\"data\": [0.9789909491808132]}]}], \"run_logs\": \"\\nRun is completed.\", \"graph\": {}, \"widget_settings\": {\"childWidgetDisplay\": \"popup\", \"send_telemetry\": false, \"log_level\": \"INFO\", \"sdk_version\": \"1.19.0\"}, \"loading\": false}"
          },
          "metadata": {}
        },
        {
          "output_type": "execute_result",
          "execution_count": 27,
          "data": {
            "text/plain": "{'runId': 'AutoML_42f9b711-ee02-4587-b942-796c4f8ba304',\n 'target': 'automl-cluster',\n 'status': 'Completed',\n 'startTimeUtc': '2021-01-08T07:03:30.754372Z',\n 'endTimeUtc': '2021-01-08T07:18:42.268004Z',\n 'properties': {'num_iterations': '1000',\n  'training_type': 'TrainFull',\n  'acquisition_function': 'EI',\n  'primary_metric': 'accuracy',\n  'train_split': '0',\n  'acquisition_parameter': '0',\n  'num_cross_validation': '3',\n  'target': 'automl-cluster',\n  'AMLSettingsJsonString': '{\"path\":null,\"name\":\"ctg_experiment\",\"subscription_id\":\"510b94ba-e453-4417-988b-fbdc37b55ca7\",\"resource_group\":\"aml-quickstarts-133934\",\"workspace_name\":\"quick-starts-ws-133934\",\"region\":\"southcentralus\",\"compute_target\":\"automl-cluster\",\"spark_service\":null,\"azure_service\":\"remote\",\"many_models\":false,\"pipeline_fetch_max_batch_size\":1,\"iterations\":1000,\"primary_metric\":\"accuracy\",\"task_type\":\"classification\",\"data_script\":null,\"validation_size\":0.0,\"n_cross_validations\":3,\"y_min\":null,\"y_max\":null,\"num_classes\":null,\"featurization\":\"auto\",\"_ignore_package_version_incompatibilities\":false,\"is_timeseries\":false,\"max_cores_per_iteration\":-1,\"max_concurrent_iterations\":4,\"iteration_timeout_minutes\":5,\"mem_in_mb\":null,\"enforce_time_on_windows\":false,\"experiment_timeout_minutes\":30,\"experiment_exit_score\":null,\"whitelist_models\":null,\"blacklist_algos\":[\"TensorFlowLinearClassifier\",\"TensorFlowDNN\"],\"supported_models\":[\"MultinomialNaiveBayes\",\"TensorFlowLinearClassifier\",\"LightGBM\",\"AveragedPerceptronClassifier\",\"KNN\",\"LogisticRegression\",\"RandomForest\",\"SVM\",\"BernoulliNaiveBayes\",\"SGD\",\"DecisionTree\",\"GradientBoosting\",\"XGBoostClassifier\",\"LinearSVM\",\"TensorFlowDNN\",\"ExtremeRandomTrees\"],\"auto_blacklist\":true,\"blacklist_samples_reached\":false,\"exclude_nan_labels\":true,\"verbosity\":20,\"_debug_log\":\"azureml_automl.log\",\"show_warnings\":false,\"model_explainability\":true,\"service_url\":null,\"sdk_url\":null,\"sdk_packages\":null,\"enable_onnx_compatible_models\":true,\"enable_split_onnx_featurizer_estimator_models\":false,\"vm_type\":\"STANDARD_DS3_V2\",\"telemetry_verbosity\":20,\"send_telemetry\":true,\"enable_dnn\":false,\"scenario\":\"SDK-1.13.0\",\"environment_label\":null,\"force_text_dnn\":false,\"enable_feature_sweeping\":false,\"enable_early_stopping\":true,\"early_stopping_n_iters\":10,\"metrics\":null,\"enable_ensembling\":true,\"enable_stack_ensembling\":false,\"ensemble_iterations\":15,\"enable_tf\":false,\"enable_subsampling\":null,\"subsample_seed\":null,\"enable_nimbusml\":false,\"enable_streaming\":false,\"force_streaming\":false,\"track_child_runs\":true,\"allowed_private_models\":[],\"label_column_name\":\"NSP\",\"weight_column_name\":null,\"cv_split_column_names\":null,\"enable_local_managed\":false,\"_local_managed_run_id\":null,\"cost_mode\":1,\"lag_length\":0,\"metric_operation\":\"maximize\",\"preprocess\":true}',\n  'DataPrepJsonString': '{\\\\\"training_data\\\\\": \\\\\"{\\\\\\\\\\\\\"blocks\\\\\\\\\\\\\": [{\\\\\\\\\\\\\"id\\\\\\\\\\\\\": \\\\\\\\\\\\\"983c7e3c-20de-42ea-9e7d-e5f63e1059d4\\\\\\\\\\\\\", \\\\\\\\\\\\\"type\\\\\\\\\\\\\": \\\\\\\\\\\\\"Microsoft.DPrep.GetDatastoreFilesBlock\\\\\\\\\\\\\", \\\\\\\\\\\\\"arguments\\\\\\\\\\\\\": {\\\\\\\\\\\\\"datastores\\\\\\\\\\\\\": [{\\\\\\\\\\\\\"datastoreName\\\\\\\\\\\\\": \\\\\\\\\\\\\"workspaceblobstore\\\\\\\\\\\\\", \\\\\\\\\\\\\"path\\\\\\\\\\\\\": \\\\\\\\\\\\\"automlclassifier/train_data.csv\\\\\\\\\\\\\", \\\\\\\\\\\\\"resourceGroup\\\\\\\\\\\\\": \\\\\\\\\\\\\"aml-quickstarts-133934\\\\\\\\\\\\\", \\\\\\\\\\\\\"subscription\\\\\\\\\\\\\": \\\\\\\\\\\\\"510b94ba-e453-4417-988b-fbdc37b55ca7\\\\\\\\\\\\\", \\\\\\\\\\\\\"workspaceName\\\\\\\\\\\\\": \\\\\\\\\\\\\"quick-starts-ws-133934\\\\\\\\\\\\\"}]}, \\\\\\\\\\\\\"localData\\\\\\\\\\\\\": {}, \\\\\\\\\\\\\"isEnabled\\\\\\\\\\\\\": true, \\\\\\\\\\\\\"name\\\\\\\\\\\\\": null, \\\\\\\\\\\\\"annotation\\\\\\\\\\\\\": null}, {\\\\\\\\\\\\\"id\\\\\\\\\\\\\": \\\\\\\\\\\\\"c5b5a958-b20f-49ae-8ac5-a7a7de441602\\\\\\\\\\\\\", \\\\\\\\\\\\\"type\\\\\\\\\\\\\": \\\\\\\\\\\\\"Microsoft.DPrep.ParseDelimitedBlock\\\\\\\\\\\\\", \\\\\\\\\\\\\"arguments\\\\\\\\\\\\\": {\\\\\\\\\\\\\"columnHeadersMode\\\\\\\\\\\\\": 3, \\\\\\\\\\\\\"fileEncoding\\\\\\\\\\\\\": 0, \\\\\\\\\\\\\"handleQuotedLineBreaks\\\\\\\\\\\\\": false, \\\\\\\\\\\\\"preview\\\\\\\\\\\\\": false, \\\\\\\\\\\\\"separator\\\\\\\\\\\\\": \\\\\\\\\\\\\",\\\\\\\\\\\\\", \\\\\\\\\\\\\"skipRows\\\\\\\\\\\\\": 0, \\\\\\\\\\\\\"skipRowsMode\\\\\\\\\\\\\": 0}, \\\\\\\\\\\\\"localData\\\\\\\\\\\\\": {}, \\\\\\\\\\\\\"isEnabled\\\\\\\\\\\\\": true, \\\\\\\\\\\\\"name\\\\\\\\\\\\\": null, \\\\\\\\\\\\\"annotation\\\\\\\\\\\\\": null}, {\\\\\\\\\\\\\"id\\\\\\\\\\\\\": \\\\\\\\\\\\\"cebc9dc1-1c2d-4163-ae82-3fa5dc7a3a47\\\\\\\\\\\\\", \\\\\\\\\\\\\"type\\\\\\\\\\\\\": \\\\\\\\\\\\\"Microsoft.DPrep.DropColumnsBlock\\\\\\\\\\\\\", \\\\\\\\\\\\\"arguments\\\\\\\\\\\\\": {\\\\\\\\\\\\\"columns\\\\\\\\\\\\\": {\\\\\\\\\\\\\"type\\\\\\\\\\\\\": 0, \\\\\\\\\\\\\"details\\\\\\\\\\\\\": {\\\\\\\\\\\\\"selectedColumns\\\\\\\\\\\\\": [\\\\\\\\\\\\\"Path\\\\\\\\\\\\\"]}}}, \\\\\\\\\\\\\"localData\\\\\\\\\\\\\": {}, \\\\\\\\\\\\\"isEnabled\\\\\\\\\\\\\": true, \\\\\\\\\\\\\"name\\\\\\\\\\\\\": null, \\\\\\\\\\\\\"annotation\\\\\\\\\\\\\": null}, {\\\\\\\\\\\\\"id\\\\\\\\\\\\\": \\\\\\\\\\\\\"722f13c6-d2eb-41c8-82fc-b52d07896930\\\\\\\\\\\\\", \\\\\\\\\\\\\"type\\\\\\\\\\\\\": \\\\\\\\\\\\\"Microsoft.DPrep.SetColumnTypesBlock\\\\\\\\\\\\\", \\\\\\\\\\\\\"arguments\\\\\\\\\\\\\": {\\\\\\\\\\\\\"columnConversion\\\\\\\\\\\\\": [{\\\\\\\\\\\\\"column\\\\\\\\\\\\\": {\\\\\\\\\\\\\"type\\\\\\\\\\\\\": 2, \\\\\\\\\\\\\"details\\\\\\\\\\\\\": {\\\\\\\\\\\\\"selectedColumn\\\\\\\\\\\\\": \\\\\\\\\\\\\"b\\\\\\\\\\\\\"}}, \\\\\\\\\\\\\"typeProperty\\\\\\\\\\\\\": 2}, {\\\\\\\\\\\\\"column\\\\\\\\\\\\\": {\\\\\\\\\\\\\"type\\\\\\\\\\\\\": 2, \\\\\\\\\\\\\"details\\\\\\\\\\\\\": {\\\\\\\\\\\\\"selectedColumn\\\\\\\\\\\\\": \\\\\\\\\\\\\"e\\\\\\\\\\\\\"}}, \\\\\\\\\\\\\"typeProperty\\\\\\\\\\\\\": 2}, {\\\\\\\\\\\\\"column\\\\\\\\\\\\\": {\\\\\\\\\\\\\"type\\\\\\\\\\\\\": 2, \\\\\\\\\\\\\"details\\\\\\\\\\\\\": {\\\\\\\\\\\\\"selectedColumn\\\\\\\\\\\\\": \\\\\\\\\\\\\"LBE\\\\\\\\\\\\\"}}, \\\\\\\\\\\\\"typeProperty\\\\\\\\\\\\\": 2}, {\\\\\\\\\\\\\"column\\\\\\\\\\\\\": {\\\\\\\\\\\\\"type\\\\\\\\\\\\\": 2, \\\\\\\\\\\\\"details\\\\\\\\\\\\\": {\\\\\\\\\\\\\"selectedColumn\\\\\\\\\\\\\": \\\\\\\\\\\\\"LB\\\\\\\\\\\\\"}}, \\\\\\\\\\\\\"typeProperty\\\\\\\\\\\\\": 2}, {\\\\\\\\\\\\\"column\\\\\\\\\\\\\": {\\\\\\\\\\\\\"type\\\\\\\\\\\\\": 2, \\\\\\\\\\\\\"details\\\\\\\\\\\\\": {\\\\\\\\\\\\\"selectedColumn\\\\\\\\\\\\\": \\\\\\\\\\\\\"AC\\\\\\\\\\\\\"}}, \\\\\\\\\\\\\"typeProperty\\\\\\\\\\\\\": 2}, {\\\\\\\\\\\\\"column\\\\\\\\\\\\\": {\\\\\\\\\\\\\"type\\\\\\\\\\\\\": 2, \\\\\\\\\\\\\"details\\\\\\\\\\\\\": {\\\\\\\\\\\\\"selectedColumn\\\\\\\\\\\\\": \\\\\\\\\\\\\"FM\\\\\\\\\\\\\"}}, \\\\\\\\\\\\\"typeProperty\\\\\\\\\\\\\": 2}, {\\\\\\\\\\\\\"column\\\\\\\\\\\\\": {\\\\\\\\\\\\\"type\\\\\\\\\\\\\": 2, \\\\\\\\\\\\\"details\\\\\\\\\\\\\": {\\\\\\\\\\\\\"selectedColumn\\\\\\\\\\\\\": \\\\\\\\\\\\\"UC\\\\\\\\\\\\\"}}, \\\\\\\\\\\\\"typeProperty\\\\\\\\\\\\\": 2}, {\\\\\\\\\\\\\"column\\\\\\\\\\\\\": {\\\\\\\\\\\\\"type\\\\\\\\\\\\\": 2, \\\\\\\\\\\\\"details\\\\\\\\\\\\\": {\\\\\\\\\\\\\"selectedColumn\\\\\\\\\\\\\": \\\\\\\\\\\\\"ASTV\\\\\\\\\\\\\"}}, \\\\\\\\\\\\\"typeProperty\\\\\\\\\\\\\": 2}, {\\\\\\\\\\\\\"column\\\\\\\\\\\\\": {\\\\\\\\\\\\\"type\\\\\\\\\\\\\": 2, \\\\\\\\\\\\\"details\\\\\\\\\\\\\": {\\\\\\\\\\\\\"selectedColumn\\\\\\\\\\\\\": \\\\\\\\\\\\\"MSTV\\\\\\\\\\\\\"}}, \\\\\\\\\\\\\"typeProperty\\\\\\\\\\\\\": 3}, {\\\\\\\\\\\\\"column\\\\\\\\\\\\\": {\\\\\\\\\\\\\"type\\\\\\\\\\\\\": 2, \\\\\\\\\\\\\"details\\\\\\\\\\\\\": {\\\\\\\\\\\\\"selectedColumn\\\\\\\\\\\\\": \\\\\\\\\\\\\"ALTV\\\\\\\\\\\\\"}}, \\\\\\\\\\\\\"typeProperty\\\\\\\\\\\\\": 2}, {\\\\\\\\\\\\\"column\\\\\\\\\\\\\": {\\\\\\\\\\\\\"type\\\\\\\\\\\\\": 2, \\\\\\\\\\\\\"details\\\\\\\\\\\\\": {\\\\\\\\\\\\\"selectedColumn\\\\\\\\\\\\\": \\\\\\\\\\\\\"MLTV\\\\\\\\\\\\\"}}, \\\\\\\\\\\\\"typeProperty\\\\\\\\\\\\\": 3}, {\\\\\\\\\\\\\"column\\\\\\\\\\\\\": {\\\\\\\\\\\\\"type\\\\\\\\\\\\\": 2, \\\\\\\\\\\\\"details\\\\\\\\\\\\\": {\\\\\\\\\\\\\"selectedColumn\\\\\\\\\\\\\": \\\\\\\\\\\\\"DL\\\\\\\\\\\\\"}}, \\\\\\\\\\\\\"typeProperty\\\\\\\\\\\\\": 2}, {\\\\\\\\\\\\\"column\\\\\\\\\\\\\": {\\\\\\\\\\\\\"type\\\\\\\\\\\\\": 2, \\\\\\\\\\\\\"details\\\\\\\\\\\\\": {\\\\\\\\\\\\\"selectedColumn\\\\\\\\\\\\\": \\\\\\\\\\\\\"DS\\\\\\\\\\\\\"}}, \\\\\\\\\\\\\"typeProperty\\\\\\\\\\\\\": 2}, {\\\\\\\\\\\\\"column\\\\\\\\\\\\\": {\\\\\\\\\\\\\"type\\\\\\\\\\\\\": 2, \\\\\\\\\\\\\"details\\\\\\\\\\\\\": {\\\\\\\\\\\\\"selectedColumn\\\\\\\\\\\\\": \\\\\\\\\\\\\"DP\\\\\\\\\\\\\"}}, \\\\\\\\\\\\\"typeProperty\\\\\\\\\\\\\": 2}, {\\\\\\\\\\\\\"column\\\\\\\\\\\\\": {\\\\\\\\\\\\\"type\\\\\\\\\\\\\": 2, \\\\\\\\\\\\\"details\\\\\\\\\\\\\": {\\\\\\\\\\\\\"selectedColumn\\\\\\\\\\\\\": \\\\\\\\\\\\\"DR\\\\\\\\\\\\\"}}, \\\\\\\\\\\\\"typeProperty\\\\\\\\\\\\\": 2}, {\\\\\\\\\\\\\"column\\\\\\\\\\\\\": {\\\\\\\\\\\\\"type\\\\\\\\\\\\\": 2, \\\\\\\\\\\\\"details\\\\\\\\\\\\\": {\\\\\\\\\\\\\"selectedColumn\\\\\\\\\\\\\": \\\\\\\\\\\\\"Width\\\\\\\\\\\\\"}}, \\\\\\\\\\\\\"typeProperty\\\\\\\\\\\\\": 2}, {\\\\\\\\\\\\\"column\\\\\\\\\\\\\": {\\\\\\\\\\\\\"type\\\\\\\\\\\\\": 2, \\\\\\\\\\\\\"details\\\\\\\\\\\\\": {\\\\\\\\\\\\\"selectedColumn\\\\\\\\\\\\\": \\\\\\\\\\\\\"Min\\\\\\\\\\\\\"}}, \\\\\\\\\\\\\"typeProperty\\\\\\\\\\\\\": 2}, {\\\\\\\\\\\\\"column\\\\\\\\\\\\\": {\\\\\\\\\\\\\"type\\\\\\\\\\\\\": 2, \\\\\\\\\\\\\"details\\\\\\\\\\\\\": {\\\\\\\\\\\\\"selectedColumn\\\\\\\\\\\\\": \\\\\\\\\\\\\"Max\\\\\\\\\\\\\"}}, \\\\\\\\\\\\\"typeProperty\\\\\\\\\\\\\": 2}, {\\\\\\\\\\\\\"column\\\\\\\\\\\\\": {\\\\\\\\\\\\\"type\\\\\\\\\\\\\": 2, \\\\\\\\\\\\\"details\\\\\\\\\\\\\": {\\\\\\\\\\\\\"selectedColumn\\\\\\\\\\\\\": \\\\\\\\\\\\\"Nmax\\\\\\\\\\\\\"}}, \\\\\\\\\\\\\"typeProperty\\\\\\\\\\\\\": 2}, {\\\\\\\\\\\\\"column\\\\\\\\\\\\\": {\\\\\\\\\\\\\"type\\\\\\\\\\\\\": 2, \\\\\\\\\\\\\"details\\\\\\\\\\\\\": {\\\\\\\\\\\\\"selectedColumn\\\\\\\\\\\\\": \\\\\\\\\\\\\"Nzeros\\\\\\\\\\\\\"}}, \\\\\\\\\\\\\"typeProperty\\\\\\\\\\\\\": 2}, {\\\\\\\\\\\\\"column\\\\\\\\\\\\\": {\\\\\\\\\\\\\"type\\\\\\\\\\\\\": 2, \\\\\\\\\\\\\"details\\\\\\\\\\\\\": {\\\\\\\\\\\\\"selectedColumn\\\\\\\\\\\\\": \\\\\\\\\\\\\"Mode\\\\\\\\\\\\\"}}, \\\\\\\\\\\\\"typeProperty\\\\\\\\\\\\\": 2}, {\\\\\\\\\\\\\"column\\\\\\\\\\\\\": {\\\\\\\\\\\\\"type\\\\\\\\\\\\\": 2, \\\\\\\\\\\\\"details\\\\\\\\\\\\\": {\\\\\\\\\\\\\"selectedColumn\\\\\\\\\\\\\": \\\\\\\\\\\\\"Mean\\\\\\\\\\\\\"}}, \\\\\\\\\\\\\"typeProperty\\\\\\\\\\\\\": 2}, {\\\\\\\\\\\\\"column\\\\\\\\\\\\\": {\\\\\\\\\\\\\"type\\\\\\\\\\\\\": 2, \\\\\\\\\\\\\"details\\\\\\\\\\\\\": {\\\\\\\\\\\\\"selectedColumn\\\\\\\\\\\\\": \\\\\\\\\\\\\"Median\\\\\\\\\\\\\"}}, \\\\\\\\\\\\\"typeProperty\\\\\\\\\\\\\": 2}, {\\\\\\\\\\\\\"column\\\\\\\\\\\\\": {\\\\\\\\\\\\\"type\\\\\\\\\\\\\": 2, \\\\\\\\\\\\\"details\\\\\\\\\\\\\": {\\\\\\\\\\\\\"selectedColumn\\\\\\\\\\\\\": \\\\\\\\\\\\\"Variance\\\\\\\\\\\\\"}}, \\\\\\\\\\\\\"typeProperty\\\\\\\\\\\\\": 2}, {\\\\\\\\\\\\\"column\\\\\\\\\\\\\": {\\\\\\\\\\\\\"type\\\\\\\\\\\\\": 2, \\\\\\\\\\\\\"details\\\\\\\\\\\\\": {\\\\\\\\\\\\\"selectedColumn\\\\\\\\\\\\\": \\\\\\\\\\\\\"Tendency\\\\\\\\\\\\\"}}, \\\\\\\\\\\\\"typeProperty\\\\\\\\\\\\\": 2}, {\\\\\\\\\\\\\"column\\\\\\\\\\\\\": {\\\\\\\\\\\\\"type\\\\\\\\\\\\\": 2, \\\\\\\\\\\\\"details\\\\\\\\\\\\\": {\\\\\\\\\\\\\"selectedColumn\\\\\\\\\\\\\": \\\\\\\\\\\\\"A\\\\\\\\\\\\\"}}, \\\\\\\\\\\\\"typeProperty\\\\\\\\\\\\\": 2}, {\\\\\\\\\\\\\"column\\\\\\\\\\\\\": {\\\\\\\\\\\\\"type\\\\\\\\\\\\\": 2, \\\\\\\\\\\\\"details\\\\\\\\\\\\\": {\\\\\\\\\\\\\"selectedColumn\\\\\\\\\\\\\": \\\\\\\\\\\\\"B\\\\\\\\\\\\\"}}, \\\\\\\\\\\\\"typeProperty\\\\\\\\\\\\\": 2}, {\\\\\\\\\\\\\"column\\\\\\\\\\\\\": {\\\\\\\\\\\\\"type\\\\\\\\\\\\\": 2, \\\\\\\\\\\\\"details\\\\\\\\\\\\\": {\\\\\\\\\\\\\"selectedColumn\\\\\\\\\\\\\": \\\\\\\\\\\\\"C\\\\\\\\\\\\\"}}, \\\\\\\\\\\\\"typeProperty\\\\\\\\\\\\\": 2}, {\\\\\\\\\\\\\"column\\\\\\\\\\\\\": {\\\\\\\\\\\\\"type\\\\\\\\\\\\\": 2, \\\\\\\\\\\\\"details\\\\\\\\\\\\\": {\\\\\\\\\\\\\"selectedColumn\\\\\\\\\\\\\": \\\\\\\\\\\\\"D\\\\\\\\\\\\\"}}, \\\\\\\\\\\\\"typeProperty\\\\\\\\\\\\\": 2}, {\\\\\\\\\\\\\"column\\\\\\\\\\\\\": {\\\\\\\\\\\\\"type\\\\\\\\\\\\\": 2, \\\\\\\\\\\\\"details\\\\\\\\\\\\\": {\\\\\\\\\\\\\"selectedColumn\\\\\\\\\\\\\": \\\\\\\\\\\\\"E\\\\\\\\\\\\\"}}, \\\\\\\\\\\\\"typeProperty\\\\\\\\\\\\\": 2}, {\\\\\\\\\\\\\"column\\\\\\\\\\\\\": {\\\\\\\\\\\\\"type\\\\\\\\\\\\\": 2, \\\\\\\\\\\\\"details\\\\\\\\\\\\\": {\\\\\\\\\\\\\"selectedColumn\\\\\\\\\\\\\": \\\\\\\\\\\\\"AD\\\\\\\\\\\\\"}}, \\\\\\\\\\\\\"typeProperty\\\\\\\\\\\\\": 2}, {\\\\\\\\\\\\\"column\\\\\\\\\\\\\": {\\\\\\\\\\\\\"type\\\\\\\\\\\\\": 2, \\\\\\\\\\\\\"details\\\\\\\\\\\\\": {\\\\\\\\\\\\\"selectedColumn\\\\\\\\\\\\\": \\\\\\\\\\\\\"DE\\\\\\\\\\\\\"}}, \\\\\\\\\\\\\"typeProperty\\\\\\\\\\\\\": 2}, {\\\\\\\\\\\\\"column\\\\\\\\\\\\\": {\\\\\\\\\\\\\"type\\\\\\\\\\\\\": 2, \\\\\\\\\\\\\"details\\\\\\\\\\\\\": {\\\\\\\\\\\\\"selectedColumn\\\\\\\\\\\\\": \\\\\\\\\\\\\"LD\\\\\\\\\\\\\"}}, \\\\\\\\\\\\\"typeProperty\\\\\\\\\\\\\": 2}, {\\\\\\\\\\\\\"column\\\\\\\\\\\\\": {\\\\\\\\\\\\\"type\\\\\\\\\\\\\": 2, \\\\\\\\\\\\\"details\\\\\\\\\\\\\": {\\\\\\\\\\\\\"selectedColumn\\\\\\\\\\\\\": \\\\\\\\\\\\\"FS\\\\\\\\\\\\\"}}, \\\\\\\\\\\\\"typeProperty\\\\\\\\\\\\\": 2}, {\\\\\\\\\\\\\"column\\\\\\\\\\\\\": {\\\\\\\\\\\\\"type\\\\\\\\\\\\\": 2, \\\\\\\\\\\\\"details\\\\\\\\\\\\\": {\\\\\\\\\\\\\"selectedColumn\\\\\\\\\\\\\": \\\\\\\\\\\\\"SUSP\\\\\\\\\\\\\"}}, \\\\\\\\\\\\\"typeProperty\\\\\\\\\\\\\": 2}, {\\\\\\\\\\\\\"column\\\\\\\\\\\\\": {\\\\\\\\\\\\\"type\\\\\\\\\\\\\": 2, \\\\\\\\\\\\\"details\\\\\\\\\\\\\": {\\\\\\\\\\\\\"selectedColumn\\\\\\\\\\\\\": \\\\\\\\\\\\\"CLASS\\\\\\\\\\\\\"}}, \\\\\\\\\\\\\"typeProperty\\\\\\\\\\\\\": 2}, {\\\\\\\\\\\\\"column\\\\\\\\\\\\\": {\\\\\\\\\\\\\"type\\\\\\\\\\\\\": 2, \\\\\\\\\\\\\"details\\\\\\\\\\\\\": {\\\\\\\\\\\\\"selectedColumn\\\\\\\\\\\\\": \\\\\\\\\\\\\"NSP\\\\\\\\\\\\\"}}, \\\\\\\\\\\\\"typeProperty\\\\\\\\\\\\\": 2}]}, \\\\\\\\\\\\\"localData\\\\\\\\\\\\\": {}, \\\\\\\\\\\\\"isEnabled\\\\\\\\\\\\\": true, \\\\\\\\\\\\\"name\\\\\\\\\\\\\": null, \\\\\\\\\\\\\"annotation\\\\\\\\\\\\\": null}], \\\\\\\\\\\\\"inspectors\\\\\\\\\\\\\": [], \\\\\\\\\\\\\"meta\\\\\\\\\\\\\": {\\\\\\\\\\\\\"savedDatasetId\\\\\\\\\\\\\": \\\\\\\\\\\\\"c24ae7c8-c716-4013-9054-aa855b2a2063\\\\\\\\\\\\\", \\\\\\\\\\\\\"datasetType\\\\\\\\\\\\\": \\\\\\\\\\\\\"tabular\\\\\\\\\\\\\", \\\\\\\\\\\\\"subscriptionId\\\\\\\\\\\\\": \\\\\\\\\\\\\"510b94ba-e453-4417-988b-fbdc37b55ca7\\\\\\\\\\\\\", \\\\\\\\\\\\\"workspaceId\\\\\\\\\\\\\": \\\\\\\\\\\\\"a010fd04-17d7-434e-a078-0925e5cb0eb7\\\\\\\\\\\\\", \\\\\\\\\\\\\"workspaceLocation\\\\\\\\\\\\\": \\\\\\\\\\\\\"southcentralus\\\\\\\\\\\\\"}}\\\\\", \\\\\"activities\\\\\": 0}',\n  'EnableSubsampling': None,\n  'runTemplate': 'AutoML',\n  'azureml.runsource': 'automl',\n  'display_task_type': 'classification',\n  'dependencies_versions': '{\"azureml-widgets\": \"1.19.0\", \"azureml-train\": \"1.19.0\", \"azureml-train-restclients-hyperdrive\": \"1.19.0\", \"azureml-train-core\": \"1.19.0\", \"azureml-train-automl\": \"1.19.0\", \"azureml-train-automl-runtime\": \"1.19.0\", \"azureml-train-automl-client\": \"1.19.0\", \"azureml-tensorboard\": \"1.19.0\", \"azureml-telemetry\": \"1.19.0\", \"azureml-sdk\": \"1.19.0\", \"azureml-samples\": \"0+unknown\", \"azureml-pipeline\": \"1.19.0\", \"azureml-pipeline-steps\": \"1.19.0\", \"azureml-pipeline-core\": \"1.19.0\", \"azureml-opendatasets\": \"1.19.0\", \"azureml-model-management-sdk\": \"1.0.1b6.post1\", \"azureml-mlflow\": \"1.19.0\", \"azureml-interpret\": \"1.19.0\", \"azureml-explain-model\": \"1.19.0\", \"azureml-defaults\": \"1.19.0\", \"azureml-dataset-runtime\": \"1.19.0\", \"azureml-dataprep\": \"2.6.1\", \"azureml-dataprep-rslex\": \"1.4.0\", \"azureml-dataprep-native\": \"26.0.0\", \"azureml-datadrift\": \"1.19.0\", \"azureml-core\": \"1.19.0\", \"azureml-contrib-services\": \"1.19.0\", \"azureml-contrib-server\": \"1.19.0\", \"azureml-contrib-reinforcementlearning\": \"1.19.0\", \"azureml-contrib-pipeline-steps\": \"1.19.0\", \"azureml-contrib-notebook\": \"1.19.0\", \"azureml-contrib-interpret\": \"1.19.0\", \"azureml-contrib-gbdt\": \"1.19.0\", \"azureml-contrib-fairness\": \"1.19.0\", \"azureml-contrib-dataset\": \"1.19.0\", \"azureml-cli-common\": \"1.19.0\", \"azureml-automl-runtime\": \"1.19.0\", \"azureml-automl-core\": \"1.19.0\", \"azureml-accel-models\": \"1.19.0\"}',\n  '_aml_system_scenario_identification': 'Remote.Parent',\n  'ClientType': 'SDK',\n  'environment_cpu_name': 'AzureML-AutoML',\n  'environment_cpu_label': 'prod',\n  'environment_gpu_name': 'AzureML-AutoML-GPU',\n  'environment_gpu_label': 'prod',\n  'root_attribution': 'automl',\n  'attribution': 'AutoML',\n  'Orchestrator': 'AutoML',\n  'CancelUri': 'https://southcentralus.experiments.azureml.net/jasmine/v1.0/subscriptions/510b94ba-e453-4417-988b-fbdc37b55ca7/resourceGroups/aml-quickstarts-133934/providers/Microsoft.MachineLearningServices/workspaces/quick-starts-ws-133934/experimentids/99b88294-abc0-4210-8ab6-3a1425a55db3/cancel/AutoML_42f9b711-ee02-4587-b942-796c4f8ba304',\n  'ClientSdkVersion': '1.19.0',\n  'snapshotId': '00000000-0000-0000-0000-000000000000',\n  'SetupRunId': 'AutoML_42f9b711-ee02-4587-b942-796c4f8ba304_setup',\n  'SetupRunContainerId': 'dcid.AutoML_42f9b711-ee02-4587-b942-796c4f8ba304_setup',\n  'FeaturizationRunJsonPath': 'featurizer_container.json',\n  'FeaturizationRunId': 'AutoML_42f9b711-ee02-4587-b942-796c4f8ba304_featurize',\n  'ProblemInfoJsonString': '{\"dataset_num_categorical\": 0, \"is_sparse\": false, \"subsampling\": false, \"dataset_classes\": 3, \"dataset_features\": 35, \"dataset_samples\": 1488, \"single_frequency_class_detected\": false}',\n  'ModelExplainRunId': 'AutoML_42f9b711-ee02-4587-b942-796c4f8ba304_ModelExplain'},\n 'inputDatasets': [{'dataset': {'id': 'c24ae7c8-c716-4013-9054-aa855b2a2063'}, 'consumptionDetails': {'type': 'RunInput', 'inputName': 'training_data', 'mechanism': 'Direct'}}],\n 'outputDatasets': [],\n 'logFiles': {}}"
          },
          "metadata": {}
        }
      ],
      "execution_count": 27,
      "metadata": {
        "colab": {
          "referenced_widgets": [
            "65277b8df79f48aaa6ef64b916fa21b6"
          ]
        },
        "gather": {
          "logged": 1610090335593
        },
        "id": "bOY8tYz-3NPN",
        "jupyter": {
          "outputs_hidden": false,
          "source_hidden": false
        },
        "nteract": {
          "transient": {
            "deleting": false
          }
        },
        "outputId": "4b9f650d-9a31-4ebb-e2ff-40c1dea88366"
      }
    },
    {
      "cell_type": "markdown",
      "source": [
        "## Best Model\n",
        "\n",
        "TODO: In the cell below, get the best model from the automl experiments and display all the properties of the model.\n",
        "\n"
      ],
      "metadata": {
        "id": "2KAMFlhO3NPN"
      }
    },
    {
      "cell_type": "code",
      "source": [
        "# Retrieve the best automl run model\n",
        "best_automl_run, fitted_automl_model = automl_run.get_output()\n",
        "print(best_automl_run)\n",
        "print(fitted_automl_model)\n",
        "\n",
        "# get best model and display properties\n",
        "model_name = best_automl_run.properties['model_name']\n",
        "print(\"Best_model name:\", model_name)\n",
        "\n",
        "# display all the properties of the best model\n",
        "#best_automl_run #.properties\n",
        "best_automl_run.get_properties()"
      ],
      "outputs": [
        {
          "output_type": "stream",
          "name": "stdout",
          "text": [
            "Run(Experiment: ctg_experiment,\n",
            "Id: AutoML_42f9b711-ee02-4587-b942-796c4f8ba304_36,\n",
            "Type: azureml.scriptrun,\n",
            "Status: Completed)\n",
            "Pipeline(memory=None,\n",
            "         steps=[('datatransformer',\n",
            "                 DataTransformer(enable_dnn=None, enable_feature_sweeping=None,\n",
            "                                 feature_sweeping_config=None,\n",
            "                                 feature_sweeping_timeout=None,\n",
            "                                 featurization_config=None, force_text_dnn=None,\n",
            "                                 is_cross_validation=None,\n",
            "                                 is_onnx_compatible=None, logger=None,\n",
            "                                 observer=None, task=None, working_dir=None)),\n",
            "                ('prefittedsoftvotingclassifier',...\n",
            "                                                                                               objective='multi:softprob',\n",
            "                                                                                               random_state=0,\n",
            "                                                                                               reg_alpha=0,\n",
            "                                                                                               reg_lambda=1,\n",
            "                                                                                               scale_pos_weight=1,\n",
            "                                                                                               seed=None,\n",
            "                                                                                               silent=None,\n",
            "                                                                                               subsample=1,\n",
            "                                                                                               tree_method='auto',\n",
            "                                                                                               verbose=-10,\n",
            "                                                                                               verbosity=0))],\n",
            "                                                                     verbose=False))],\n",
            "                                               flatten_transform=None,\n",
            "                                               weights=[0.16666666666666666,\n",
            "                                                        0.16666666666666666,\n",
            "                                                        0.16666666666666666,\n",
            "                                                        0.16666666666666666,\n",
            "                                                        0.16666666666666666,\n",
            "                                                        0.16666666666666666]))],\n",
            "         verbose=False)\n",
            "Best_model name: AutoML42f9b711e36\n"
          ]
        },
        {
          "output_type": "execute_result",
          "execution_count": 28,
          "data": {
            "text/plain": "{'runTemplate': 'automl_child',\n 'pipeline_id': '__AutoML_Ensemble__',\n 'pipeline_spec': '{\"pipeline_id\":\"__AutoML_Ensemble__\",\"objects\":[{\"module\":\"azureml.train.automl.ensemble\",\"class_name\":\"Ensemble\",\"spec_class\":\"sklearn\",\"param_args\":[],\"param_kwargs\":{\"automl_settings\":\"{\\'task_type\\':\\'classification\\',\\'primary_metric\\':\\'accuracy\\',\\'verbosity\\':20,\\'ensemble_iterations\\':15,\\'is_timeseries\\':False,\\'name\\':\\'ctg_experiment\\',\\'compute_target\\':\\'automl-cluster\\',\\'subscription_id\\':\\'510b94ba-e453-4417-988b-fbdc37b55ca7\\',\\'region\\':\\'southcentralus\\',\\'spark_service\\':None}\",\"ensemble_run_id\":\"AutoML_42f9b711-ee02-4587-b942-796c4f8ba304_36\",\"experiment_name\":\"ctg_experiment\",\"workspace_name\":\"quick-starts-ws-133934\",\"subscription_id\":\"510b94ba-e453-4417-988b-fbdc37b55ca7\",\"resource_group_name\":\"aml-quickstarts-133934\"}}]}',\n 'training_percent': '100',\n 'predicted_cost': None,\n 'iteration': '36',\n '_aml_system_scenario_identification': 'Remote.Child',\n '_azureml.ComputeTargetType': 'amlcompute',\n 'ContentSnapshotId': '59c3b02f-d795-42c7-927e-4b39aea0986e',\n 'ProcessInfoFile': 'azureml-logs/process_info.json',\n 'ProcessStatusFile': 'azureml-logs/process_status.json',\n 'run_template': 'automl_child',\n 'run_preprocessor': '',\n 'run_algorithm': 'VotingEnsemble',\n 'conda_env_data_location': 'aml://artifact/ExperimentRun/dcid.AutoML_42f9b711-ee02-4587-b942-796c4f8ba304_36/outputs/conda_env_v_1_0_0.yml',\n 'model_data_location': 'aml://artifact/ExperimentRun/dcid.AutoML_42f9b711-ee02-4587-b942-796c4f8ba304_36/outputs/model.pkl',\n 'model_size_on_disk': '417964',\n 'scoring_data_location': 'aml://artifact/ExperimentRun/dcid.AutoML_42f9b711-ee02-4587-b942-796c4f8ba304_36/outputs/scoring_file_v_1_0_0.py',\n 'model_exp_support': 'True',\n 'pipeline_graph_version': '1.0.0',\n 'model_name': 'AutoML42f9b711e36',\n 'staticProperties': '{}',\n 'score': '0.9905913978494624',\n 'run_properties': \"classification_labels=None,\\n                              estimators=[('8',\\n                                           Pipeline(memory=None,\\n                                                    steps=[('minmaxscaler',\\n                                                            MinMaxScaler(copy=True,\\n                                                                         feature_range=(0,\\n                                                                                        1\",\n 'pipeline_script': '{\"pipeline_id\":\"__AutoML_Ensemble__\",\"objects\":[{\"module\":\"azureml.train.automl.ensemble\",\"class_name\":\"Ensemble\",\"spec_class\":\"sklearn\",\"param_args\":[],\"param_kwargs\":{\"automl_settings\":\"{\\'task_type\\':\\'classification\\',\\'primary_metric\\':\\'accuracy\\',\\'verbosity\\':20,\\'ensemble_iterations\\':15,\\'is_timeseries\\':False,\\'name\\':\\'ctg_experiment\\',\\'compute_target\\':\\'automl-cluster\\',\\'subscription_id\\':\\'510b94ba-e453-4417-988b-fbdc37b55ca7\\',\\'region\\':\\'southcentralus\\',\\'spark_service\\':None}\",\"ensemble_run_id\":\"AutoML_42f9b711-ee02-4587-b942-796c4f8ba304_36\",\"experiment_name\":\"ctg_experiment\",\"workspace_name\":\"quick-starts-ws-133934\",\"subscription_id\":\"510b94ba-e453-4417-988b-fbdc37b55ca7\",\"resource_group_name\":\"aml-quickstarts-133934\"}}]}',\n 'training_type': 'MeanCrossValidation',\n 'num_classes': '',\n 'framework': 'sklearn',\n 'fit_time': '23',\n 'goal': 'accuracy_max',\n 'class_labels': '',\n 'primary_metric': 'accuracy',\n 'errors': '{}',\n 'fitted_pipeline': \"Pipeline(memory=None,\\n         steps=[('datatransformer',\\n                 DataTransformer(enable_dnn=None, enable_feature_sweeping=None,\\n                                 feature_sweeping_config=None,\\n                                 feature_sweeping_timeout=None,\\n                                 featurization_config=None, force_text_dnn=None,\\n                                 is_cross_validation=None,\\n                                 is_onnx_compatible=None, logger=None,\\n                                 observer=None, task=None, working_dir=None)),\\n                ('prefittedsoftvotingclassifier',...\\n                                                                                               objective='multi:softprob',\\n                                                                                               random_state=0,\\n                                                                                               reg_alpha=0,\\n                                                                                               reg_lambda=1,\\n                                                                                               scale_pos_weight=1,\\n                                                                                               seed=None,\\n                                                                                               silent=None,\\n                                                                                               subsample=1,\\n                                                                                               tree_method='auto',\\n                                                                                               verbose=-10,\\n                                                                                               verbosity=0))],\\n                                                                     verbose=False))],\\n                                               flatten_transform=None,\\n                                               weights=[0.16666666666666666,\\n                                                        0.16666666666666666,\\n                                                        0.16666666666666666,\\n                                                        0.16666666666666666,\\n                                                        0.16666666666666666,\\n                                                        0.16666666666666666]))],\\n         verbose=False)\",\n 'friendly_errors': '{}',\n 'onnx_model_resource': \"{'RawColumnNameToOnnxNameMap': {'b': 'b', 'e': 'e', 'LBE': 'LBE', 'LB': 'LB', 'AC': 'AC', 'FM': 'FM', 'UC': 'UC', 'ASTV': 'ASTV', 'MSTV': 'MSTV', 'ALTV': 'ALTV', 'MLTV': 'MLTV', 'DL': 'DL', 'DS': 'DS', 'DP': 'DP', 'Width': 'Width', 'Min': 'Min', 'Max': 'Max', 'Nmax': 'Nmax', 'Nzeros': 'Nzeros', 'Mode': 'Mode', 'Mean': 'Mean', 'Median': 'Median', 'Variance': 'Variance', 'Tendency': 'Tendency', 'A': 'A', 'B': 'B', 'C': 'C', 'D': 'D', 'E': 'E', 'AD': 'AD', 'DE': 'DE', 'LD': 'LD', 'FS': 'FS', 'SUSP': 'SUSP', 'CLASS': 'CLASS'}, 'InputRawColumnSchema': {'b': 'floating', 'e': 'floating', 'LBE': 'floating', 'LB': 'floating', 'AC': 'floating', 'FM': 'floating', 'UC': 'floating', 'ASTV': 'floating', 'MSTV': 'floating', 'ALTV': 'floating', 'MLTV': 'floating', 'DL': 'floating', 'DS': 'floating', 'DP': 'floating', 'Width': 'floating', 'Min': 'floating', 'Max': 'floating', 'Nmax': 'floating', 'Nzeros': 'floating', 'Mode': 'floating', 'Mean': 'floating', 'Median': 'floating', 'Variance': 'floating', 'Tendency': 'floating', 'A': 'floating', 'B': 'floating', 'C': 'floating', 'D': 'floating', 'E': 'floating', 'AD': 'floating', 'DE': 'floating', 'LD': 'floating', 'FS': 'floating', 'SUSP': 'floating', 'CLASS': 'floating'}, 'InputOnnxColumnSchema': {'b': 'FloatTensorType', 'e': 'FloatTensorType', 'LBE': 'FloatTensorType', 'LB': 'FloatTensorType', 'AC': 'FloatTensorType', 'FM': 'FloatTensorType', 'UC': 'FloatTensorType', 'ASTV': 'FloatTensorType', 'MSTV': 'FloatTensorType', 'ALTV': 'FloatTensorType', 'MLTV': 'FloatTensorType', 'DL': 'FloatTensorType', 'DS': 'FloatTensorType', 'DP': 'FloatTensorType', 'Width': 'FloatTensorType', 'Min': 'FloatTensorType', 'Max': 'FloatTensorType', 'Nmax': 'FloatTensorType', 'Nzeros': 'FloatTensorType', 'Mode': 'FloatTensorType', 'Mean': 'FloatTensorType', 'Median': 'FloatTensorType', 'Variance': 'FloatTensorType', 'Tendency': 'FloatTensorType', 'A': 'FloatTensorType', 'B': 'FloatTensorType', 'C': 'FloatTensorType', 'D': 'FloatTensorType', 'E': 'FloatTensorType', 'AD': 'FloatTensorType', 'DE': 'FloatTensorType', 'LD': 'FloatTensorType', 'FS': 'FloatTensorType', 'SUSP': 'FloatTensorType', 'CLASS': 'FloatTensorType'}, 'CanEnableBatchMode': True}\",\n 'error_code': '',\n 'failure_reason': '',\n 'feature_skus': 'automatedml_sdk_guardrails',\n 'dependencies_versions': '{\"azureml-train-automl-runtime\": \"1.19.0\", \"azureml-train-automl-client\": \"1.19.0\", \"azureml-telemetry\": \"1.19.0\", \"azureml-pipeline-core\": \"1.19.0\", \"azureml-model-management-sdk\": \"1.0.1b6.post1\", \"azureml-interpret\": \"1.19.0\", \"azureml-defaults\": \"1.19.0\", \"azureml-dataset-runtime\": \"1.19.0\", \"azureml-dataprep\": \"2.6.1\", \"azureml-dataprep-rslex\": \"1.4.0\", \"azureml-dataprep-native\": \"26.0.0\", \"azureml-core\": \"1.19.0\", \"azureml-automl-runtime\": \"1.19.0\", \"azureml-automl-core\": \"1.19.0\"}',\n 'num_cores': '4',\n 'num_logical_cores': '4',\n 'peak_memory_usage': '623552',\n 'vm_configuration': 'Intel(R) Xeon(R) Platinum 8171M CPU @ 2.60GHz',\n 'core_hours': '0.008476821666666667'}"
          },
          "metadata": {}
        }
      ],
      "execution_count": 28,
      "metadata": {
        "gather": {
          "logged": 1610090423574
        },
        "id": "d2Vo6SjfJUnD",
        "outputId": "6ac551e0-b143-4809-de75-bae80b66a7d2"
      }
    },
    {
      "cell_type": "code",
      "source": [
        "#TODO: Save the best model\n",
        "import joblib\n",
        "# create an output folder\n",
        "#os.makedirs('outputs', exist_ok=True)\n",
        "joblib.dump(fitted_automl_model, 'best_automl_model.pkl')"
      ],
      "outputs": [
        {
          "output_type": "execute_result",
          "execution_count": 29,
          "data": {
            "text/plain": "['best_automl_model.pkl']"
          },
          "metadata": {}
        }
      ],
      "execution_count": 29,
      "metadata": {
        "gather": {
          "logged": 1610090450834
        },
        "id": "HmgvDVU23NPN",
        "jupyter": {
          "outputs_hidden": false,
          "source_hidden": false
        },
        "nteract": {
          "transient": {
            "deleting": false
          }
        }
      }
    },
    {
      "cell_type": "code",
      "source": [
        "# register best autoML model for future deployment\r\n",
        "from azureml.core.model import Model\r\n",
        "description = 'AutoML Model trained on cardiocotogram data to predict fetal state as either Normal, Suspect or Pathologic'\r\n",
        "tags = {'area': 'neonatal health', 'type': 'classification'}\r\n",
        "automl_model = Model.register(workspace =ws, model_name = 'best-automodel', model_path = 'best_automl_model.pkl', description = description, tags = tags)\r\n",
        "\r\n",
        "print(\"AutoML RunID: \", automl_run.id, sep='\\t')"
      ],
      "outputs": [
        {
          "output_type": "stream",
          "name": "stdout",
          "text": [
            "Registering model best-automodel\n",
            "AutoML RunID: \tAutoML_42f9b711-ee02-4587-b942-796c4f8ba304\n"
          ]
        }
      ],
      "execution_count": 30,
      "metadata": {
        "collapsed": true,
        "jupyter": {
          "source_hidden": false,
          "outputs_hidden": false
        },
        "nteract": {
          "transient": {
            "deleting": false
          }
        },
        "gather": {
          "logged": 1610090472611
        }
      }
    },
    {
      "cell_type": "markdown",
      "source": [
        "## Model Deployment\n",
        "\n",
        "Remember you have to deploy only one of the two models you trained.. Perform the steps in the rest of this notebook only if you wish to deploy this model.\n",
        "\n",
        "TODO: In the cell below, register the model, create an inference config and deploy the model as a web service."
      ],
      "metadata": {
        "id": "_TDcooJ23NPO"
      }
    },
    {
      "cell_type": "code",
      "source": [
        "# deploy model as a web service\n",
        "from azureml.core.model import InferenceConfig\n",
        "from azureml.core.webservice import AciWebservice\n",
        "from azureml.core import Environment\n",
        "from azureml.core.model import Model\n",
        "\n",
        "service_name = 'ctg-classification-service'\n",
        "env = Environment.get(workspace=ws, name=\"AzureML-Tutorial\")  \n",
        "#env.python.conda_dependencies.add_pip_package(\"scikit-learn\")\n",
        "#env = Environment.from_conda_specification(name='project-env', file_path='myenv.yml')\n",
        "\n",
        "for pip_package in [\"scikit-learn\"]:\n",
        "    env.python.conda_dependencies.add_pip_package(pip_package)\n",
        "\n",
        "inference_config = InferenceConfig(entry_script='score.py', environment=env)\n",
        "aci_config = AciWebservice.deploy_configuration(cpu_cores=1, memory_gb=4, enable_app_insights=True, auth_enabled=True)\n",
        "\n",
        "model = Model(ws,name='best-automodel')\n",
        "service = Model.deploy(workspace=ws,\n",
        "                       name=service_name,\n",
        "                       models=[model],\n",
        "                       inference_config=inference_config,\n",
        "                       deployment_config=aci_config,\n",
        "                       overwrite=True)\n",
        "\n",
        "service.wait_for_deployment(show_output=True)\n"
      ],
      "outputs": [
        {
          "output_type": "stream",
          "name": "stdout",
          "text": [
            "Tips: You can try get_logs(): https://aka.ms/debugimage#dockerlog or local deployment: https://aka.ms/debugimage#debug-locally to debug if deployment takes longer than 10 minutes.\n",
            "Running..........................................................\n",
            "Failed\n"
          ]
        },
        {
          "output_type": "stream",
          "name": "stderr",
          "text": [
            "ERROR:azureml.core.webservice.webservice:Service deployment polling reached non-successful terminal state, current service state: Failed\n",
            "Operation ID: 16cd7fdd-1c41-4d3b-880b-1e25af373389\n",
            "More information can be found using '.get_logs()'\n",
            "Error:\n",
            "{\n",
            "  \"code\": \"AciDeploymentFailed\",\n",
            "  \"message\": \"Aci Deployment failed with exception: Your container application crashed. This may be caused by errors in your scoring file's init() function.\\nPlease check the logs for your container instance: ctg-classification-service. From the AML SDK, you can run print(service.get_logs()) if you have service object to fetch the logs. \\nYou can interactively debug your scoring file locally. Please refer to https://docs.microsoft.com/azure/machine-learning/how-to-debug-visual-studio-code#debug-and-troubleshoot-deployments for more information.\\nYou can also try to run image viennaglobal.azurecr.io/azureml/azureml_d97f122bdcaea8212b2eadb5cef56a6d locally. Please refer to https://aka.ms/debugimage#service-launch-fails for more information.\",\n",
            "  \"details\": [\n",
            "    {\n",
            "      \"code\": \"CrashLoopBackOff\",\n",
            "      \"message\": \"Your container application crashed. This may be caused by errors in your scoring file's init() function.\\nPlease check the logs for your container instance: ctg-classification-service. From the AML SDK, you can run print(service.get_logs()) if you have service object to fetch the logs. \\nYou can interactively debug your scoring file locally. Please refer to https://docs.microsoft.com/azure/machine-learning/how-to-debug-visual-studio-code#debug-and-troubleshoot-deployments for more information.\\nYou can also try to run image viennaglobal.azurecr.io/azureml/azureml_d97f122bdcaea8212b2eadb5cef56a6d locally. Please refer to https://aka.ms/debugimage#service-launch-fails for more information.\"\n",
            "    },\n",
            "    {\n",
            "      \"code\": \"AciDeploymentFailed\",\n",
            "      \"message\": \"Your container application crashed. Please follow the steps to debug:\\n1. From the AML SDK, you can run print(service.get_logs()) if you have service object to fetch the logs. Please refer to https://aka.ms/debugimage#dockerlog for more information.\\n2. If your container application crashed. This may be caused by errors in your scoring file's init() function. You can try debugging locally first. Please refer to https://aka.ms/debugimage#debug-locally for more information.\\n3. You can also interactively debug your scoring file locally. Please refer to https://docs.microsoft.com/azure/machine-learning/how-to-debug-visual-studio-code#debug-and-troubleshoot-deployments for more information.\\n4. View the diagnostic events to check status of container, it may help you to debug the issue. {\\\"restartCount\\\":5,\\\"currentState\\\":{\\\"state\\\":\\\"Waiting\\\",\\\"startTime\\\":null,\\\"exitCode\\\":null,\\\"finishTime\\\":null,\\\"detailStatus\\\":\\\"CrashLoopBackOff: Back-off 2m40s restarting failed\\\"},\\\"previousState\\\":{\\\"state\\\":\\\"Terminated\\\",\\\"startTime\\\":\\\"2021-01-08T08:12:51Z\\\",\\\"exitCode\\\":111,\\\"finishTime\\\":\\\"2021-01-08T08:12:56Z\\\",\\\"detailStatus\\\":\\\"Error\\\"},\\\"events\\\":[{\\\"count\\\":3,\\\"firstTimestamp\\\":\\\"2021-01-08T08:09:25Z\\\",\\\"lastTimestamp\\\":\\\"2021-01-08T08:09:50Z\\\",\\\"name\\\":\\\"Pulling\\\",\\\"message\\\":\\\"pulling image \\\\\\\"viennaglobal.azurecr.io/azureml/azureml_d97f122bdcaea8212b2eadb5cef56a6d\\\\\\\"\\\",\\\"type\\\":\\\"Normal\\\"},{\\\"count\\\":3,\\\"firstTimestamp\\\":\\\"2021-01-08T08:09:25Z\\\",\\\"lastTimestamp\\\":\\\"2021-01-08T08:09:50Z\\\",\\\"name\\\":\\\"Pulled\\\",\\\"message\\\":\\\"Successfully pulled image \\\\\\\"viennaglobal.azurecr.io/azureml/azureml_d97f122bdcaea8212b2eadb5cef56a6d\\\\\\\"\\\",\\\"type\\\":\\\"Normal\\\"},{\\\"count\\\":3,\\\"firstTimestamp\\\":\\\"2021-01-08T08:09:25Z\\\",\\\"lastTimestamp\\\":\\\"2021-01-08T08:09:51Z\\\",\\\"name\\\":\\\"Created\\\",\\\"message\\\":\\\"Created container\\\",\\\"type\\\":\\\"Normal\\\"},{\\\"count\\\":2,\\\"firstTimestamp\\\":\\\"2021-01-08T08:09:25Z\\\",\\\"lastTimestamp\\\":\\\"2021-01-08T08:09:31Z\\\",\\\"name\\\":\\\"Started\\\",\\\"message\\\":\\\"Started container\\\",\\\"type\\\":\\\"Normal\\\"},{\\\"count\\\":1,\\\"firstTimestamp\\\":\\\"2021-01-08T08:09:37Z\\\",\\\"lastTimestamp\\\":\\\"2021-01-08T08:09:37Z\\\",\\\"name\\\":\\\"BackOff\\\",\\\"message\\\":\\\"Back-off restarting failed container\\\",\\\"type\\\":\\\"Warning\\\"}]}\"\n",
            "    }\n",
            "  ]\n",
            "}\n",
            "\n"
          ]
        },
        {
          "output_type": "error",
          "ename": "WebserviceException",
          "evalue": "WebserviceException:\n\tMessage: Service deployment polling reached non-successful terminal state, current service state: Failed\nOperation ID: 16cd7fdd-1c41-4d3b-880b-1e25af373389\nMore information can be found using '.get_logs()'\nError:\n{\n  \"code\": \"AciDeploymentFailed\",\n  \"message\": \"Aci Deployment failed with exception: Your container application crashed. This may be caused by errors in your scoring file's init() function.\\nPlease check the logs for your container instance: ctg-classification-service. From the AML SDK, you can run print(service.get_logs()) if you have service object to fetch the logs. \\nYou can interactively debug your scoring file locally. Please refer to https://docs.microsoft.com/azure/machine-learning/how-to-debug-visual-studio-code#debug-and-troubleshoot-deployments for more information.\\nYou can also try to run image viennaglobal.azurecr.io/azureml/azureml_d97f122bdcaea8212b2eadb5cef56a6d locally. Please refer to https://aka.ms/debugimage#service-launch-fails for more information.\",\n  \"details\": [\n    {\n      \"code\": \"CrashLoopBackOff\",\n      \"message\": \"Your container application crashed. This may be caused by errors in your scoring file's init() function.\\nPlease check the logs for your container instance: ctg-classification-service. From the AML SDK, you can run print(service.get_logs()) if you have service object to fetch the logs. \\nYou can interactively debug your scoring file locally. Please refer to https://docs.microsoft.com/azure/machine-learning/how-to-debug-visual-studio-code#debug-and-troubleshoot-deployments for more information.\\nYou can also try to run image viennaglobal.azurecr.io/azureml/azureml_d97f122bdcaea8212b2eadb5cef56a6d locally. Please refer to https://aka.ms/debugimage#service-launch-fails for more information.\"\n    },\n    {\n      \"code\": \"AciDeploymentFailed\",\n      \"message\": \"Your container application crashed. Please follow the steps to debug:\\n1. From the AML SDK, you can run print(service.get_logs()) if you have service object to fetch the logs. Please refer to https://aka.ms/debugimage#dockerlog for more information.\\n2. If your container application crashed. This may be caused by errors in your scoring file's init() function. You can try debugging locally first. Please refer to https://aka.ms/debugimage#debug-locally for more information.\\n3. You can also interactively debug your scoring file locally. Please refer to https://docs.microsoft.com/azure/machine-learning/how-to-debug-visual-studio-code#debug-and-troubleshoot-deployments for more information.\\n4. View the diagnostic events to check status of container, it may help you to debug the issue. {\\\"restartCount\\\":5,\\\"currentState\\\":{\\\"state\\\":\\\"Waiting\\\",\\\"startTime\\\":null,\\\"exitCode\\\":null,\\\"finishTime\\\":null,\\\"detailStatus\\\":\\\"CrashLoopBackOff: Back-off 2m40s restarting failed\\\"},\\\"previousState\\\":{\\\"state\\\":\\\"Terminated\\\",\\\"startTime\\\":\\\"2021-01-08T08:12:51Z\\\",\\\"exitCode\\\":111,\\\"finishTime\\\":\\\"2021-01-08T08:12:56Z\\\",\\\"detailStatus\\\":\\\"Error\\\"},\\\"events\\\":[{\\\"count\\\":3,\\\"firstTimestamp\\\":\\\"2021-01-08T08:09:25Z\\\",\\\"lastTimestamp\\\":\\\"2021-01-08T08:09:50Z\\\",\\\"name\\\":\\\"Pulling\\\",\\\"message\\\":\\\"pulling image \\\\\\\"viennaglobal.azurecr.io/azureml/azureml_d97f122bdcaea8212b2eadb5cef56a6d\\\\\\\"\\\",\\\"type\\\":\\\"Normal\\\"},{\\\"count\\\":3,\\\"firstTimestamp\\\":\\\"2021-01-08T08:09:25Z\\\",\\\"lastTimestamp\\\":\\\"2021-01-08T08:09:50Z\\\",\\\"name\\\":\\\"Pulled\\\",\\\"message\\\":\\\"Successfully pulled image \\\\\\\"viennaglobal.azurecr.io/azureml/azureml_d97f122bdcaea8212b2eadb5cef56a6d\\\\\\\"\\\",\\\"type\\\":\\\"Normal\\\"},{\\\"count\\\":3,\\\"firstTimestamp\\\":\\\"2021-01-08T08:09:25Z\\\",\\\"lastTimestamp\\\":\\\"2021-01-08T08:09:51Z\\\",\\\"name\\\":\\\"Created\\\",\\\"message\\\":\\\"Created container\\\",\\\"type\\\":\\\"Normal\\\"},{\\\"count\\\":2,\\\"firstTimestamp\\\":\\\"2021-01-08T08:09:25Z\\\",\\\"lastTimestamp\\\":\\\"2021-01-08T08:09:31Z\\\",\\\"name\\\":\\\"Started\\\",\\\"message\\\":\\\"Started container\\\",\\\"type\\\":\\\"Normal\\\"},{\\\"count\\\":1,\\\"firstTimestamp\\\":\\\"2021-01-08T08:09:37Z\\\",\\\"lastTimestamp\\\":\\\"2021-01-08T08:09:37Z\\\",\\\"name\\\":\\\"BackOff\\\",\\\"message\\\":\\\"Back-off restarting failed container\\\",\\\"type\\\":\\\"Warning\\\"}]}\"\n    }\n  ]\n}\n\tInnerException None\n\tErrorResponse \n{\n    \"error\": {\n        \"message\": \"Service deployment polling reached non-successful terminal state, current service state: Failed\\nOperation ID: 16cd7fdd-1c41-4d3b-880b-1e25af373389\\nMore information can be found using '.get_logs()'\\nError:\\n{\\n  \\\"code\\\": \\\"AciDeploymentFailed\\\",\\n  \\\"message\\\": \\\"Aci Deployment failed with exception: Your container application crashed. This may be caused by errors in your scoring file's init() function.\\\\nPlease check the logs for your container instance: ctg-classification-service. From the AML SDK, you can run print(service.get_logs()) if you have service object to fetch the logs. \\\\nYou can interactively debug your scoring file locally. Please refer to https://docs.microsoft.com/azure/machine-learning/how-to-debug-visual-studio-code#debug-and-troubleshoot-deployments for more information.\\\\nYou can also try to run image viennaglobal.azurecr.io/azureml/azureml_d97f122bdcaea8212b2eadb5cef56a6d locally. Please refer to https://aka.ms/debugimage#service-launch-fails for more information.\\\",\\n  \\\"details\\\": [\\n    {\\n      \\\"code\\\": \\\"CrashLoopBackOff\\\",\\n      \\\"message\\\": \\\"Your container application crashed. This may be caused by errors in your scoring file's init() function.\\\\nPlease check the logs for your container instance: ctg-classification-service. From the AML SDK, you can run print(service.get_logs()) if you have service object to fetch the logs. \\\\nYou can interactively debug your scoring file locally. Please refer to https://docs.microsoft.com/azure/machine-learning/how-to-debug-visual-studio-code#debug-and-troubleshoot-deployments for more information.\\\\nYou can also try to run image viennaglobal.azurecr.io/azureml/azureml_d97f122bdcaea8212b2eadb5cef56a6d locally. Please refer to https://aka.ms/debugimage#service-launch-fails for more information.\\\"\\n    },\\n    {\\n      \\\"code\\\": \\\"AciDeploymentFailed\\\",\\n      \\\"message\\\": \\\"Your container application crashed. Please follow the steps to debug:\\\\n1. From the AML SDK, you can run print(service.get_logs()) if you have service object to fetch the logs. Please refer to https://aka.ms/debugimage#dockerlog for more information.\\\\n2. If your container application crashed. This may be caused by errors in your scoring file's init() function. You can try debugging locally first. Please refer to https://aka.ms/debugimage#debug-locally for more information.\\\\n3. You can also interactively debug your scoring file locally. Please refer to https://docs.microsoft.com/azure/machine-learning/how-to-debug-visual-studio-code#debug-and-troubleshoot-deployments for more information.\\\\n4. View the diagnostic events to check status of container, it may help you to debug the issue. {\\\\\\\"restartCount\\\\\\\":5,\\\\\\\"currentState\\\\\\\":{\\\\\\\"state\\\\\\\":\\\\\\\"Waiting\\\\\\\",\\\\\\\"startTime\\\\\\\":null,\\\\\\\"exitCode\\\\\\\":null,\\\\\\\"finishTime\\\\\\\":null,\\\\\\\"detailStatus\\\\\\\":\\\\\\\"CrashLoopBackOff: Back-off 2m40s restarting failed\\\\\\\"},\\\\\\\"previousState\\\\\\\":{\\\\\\\"state\\\\\\\":\\\\\\\"Terminated\\\\\\\",\\\\\\\"startTime\\\\\\\":\\\\\\\"2021-01-08T08:12:51Z\\\\\\\",\\\\\\\"exitCode\\\\\\\":111,\\\\\\\"finishTime\\\\\\\":\\\\\\\"2021-01-08T08:12:56Z\\\\\\\",\\\\\\\"detailStatus\\\\\\\":\\\\\\\"Error\\\\\\\"},\\\\\\\"events\\\\\\\":[{\\\\\\\"count\\\\\\\":3,\\\\\\\"firstTimestamp\\\\\\\":\\\\\\\"2021-01-08T08:09:25Z\\\\\\\",\\\\\\\"lastTimestamp\\\\\\\":\\\\\\\"2021-01-08T08:09:50Z\\\\\\\",\\\\\\\"name\\\\\\\":\\\\\\\"Pulling\\\\\\\",\\\\\\\"message\\\\\\\":\\\\\\\"pulling image \\\\\\\\\\\\\\\"viennaglobal.azurecr.io/azureml/azureml_d97f122bdcaea8212b2eadb5cef56a6d\\\\\\\\\\\\\\\"\\\\\\\",\\\\\\\"type\\\\\\\":\\\\\\\"Normal\\\\\\\"},{\\\\\\\"count\\\\\\\":3,\\\\\\\"firstTimestamp\\\\\\\":\\\\\\\"2021-01-08T08:09:25Z\\\\\\\",\\\\\\\"lastTimestamp\\\\\\\":\\\\\\\"2021-01-08T08:09:50Z\\\\\\\",\\\\\\\"name\\\\\\\":\\\\\\\"Pulled\\\\\\\",\\\\\\\"message\\\\\\\":\\\\\\\"Successfully pulled image \\\\\\\\\\\\\\\"viennaglobal.azurecr.io/azureml/azureml_d97f122bdcaea8212b2eadb5cef56a6d\\\\\\\\\\\\\\\"\\\\\\\",\\\\\\\"type\\\\\\\":\\\\\\\"Normal\\\\\\\"},{\\\\\\\"count\\\\\\\":3,\\\\\\\"firstTimestamp\\\\\\\":\\\\\\\"2021-01-08T08:09:25Z\\\\\\\",\\\\\\\"lastTimestamp\\\\\\\":\\\\\\\"2021-01-08T08:09:51Z\\\\\\\",\\\\\\\"name\\\\\\\":\\\\\\\"Created\\\\\\\",\\\\\\\"message\\\\\\\":\\\\\\\"Created container\\\\\\\",\\\\\\\"type\\\\\\\":\\\\\\\"Normal\\\\\\\"},{\\\\\\\"count\\\\\\\":2,\\\\\\\"firstTimestamp\\\\\\\":\\\\\\\"2021-01-08T08:09:25Z\\\\\\\",\\\\\\\"lastTimestamp\\\\\\\":\\\\\\\"2021-01-08T08:09:31Z\\\\\\\",\\\\\\\"name\\\\\\\":\\\\\\\"Started\\\\\\\",\\\\\\\"message\\\\\\\":\\\\\\\"Started container\\\\\\\",\\\\\\\"type\\\\\\\":\\\\\\\"Normal\\\\\\\"},{\\\\\\\"count\\\\\\\":1,\\\\\\\"firstTimestamp\\\\\\\":\\\\\\\"2021-01-08T08:09:37Z\\\\\\\",\\\\\\\"lastTimestamp\\\\\\\":\\\\\\\"2021-01-08T08:09:37Z\\\\\\\",\\\\\\\"name\\\\\\\":\\\\\\\"BackOff\\\\\\\",\\\\\\\"message\\\\\\\":\\\\\\\"Back-off restarting failed container\\\\\\\",\\\\\\\"type\\\\\\\":\\\\\\\"Warning\\\\\\\"}]}\\\"\\n    }\\n  ]\\n}\"\n    }\n}",
          "traceback": [
            "\u001b[0;31m---------------------------------------------------------------------------\u001b[0m",
            "\u001b[0;31mWebserviceException\u001b[0m                       Traceback (most recent call last)",
            "\u001b[0;32m<ipython-input-38-b460ab9eb969>\u001b[0m in \u001b[0;36m<module>\u001b[0;34m\u001b[0m\n\u001b[1;32m     24\u001b[0m                        overwrite=True)\n\u001b[1;32m     25\u001b[0m \u001b[0;34m\u001b[0m\u001b[0m\n\u001b[0;32m---> 26\u001b[0;31m \u001b[0mservice\u001b[0m\u001b[0;34m.\u001b[0m\u001b[0mwait_for_deployment\u001b[0m\u001b[0;34m(\u001b[0m\u001b[0mshow_output\u001b[0m\u001b[0;34m=\u001b[0m\u001b[0;32mTrue\u001b[0m\u001b[0;34m)\u001b[0m\u001b[0;34m\u001b[0m\u001b[0;34m\u001b[0m\u001b[0m\n\u001b[0m",
            "\u001b[0;32m/anaconda/envs/azureml_py36/lib/python3.6/site-packages/azureml/core/webservice/webservice.py\u001b[0m in \u001b[0;36mwait_for_deployment\u001b[0;34m(self, show_output, timeout_sec)\u001b[0m\n\u001b[1;32m    913\u001b[0m                                           \u001b[0;34m'Error:\\n'\u001b[0m\u001b[0;34m\u001b[0m\u001b[0;34m\u001b[0m\u001b[0m\n\u001b[1;32m    914\u001b[0m                                           '{}'.format(self.state, self._operation_endpoint.split('/')[-1],\n\u001b[0;32m--> 915\u001b[0;31m                                                       logs_response, error_response), logger=module_logger)\n\u001b[0m\u001b[1;32m    916\u001b[0m             print('{} service creation operation finished, operation \"{}\"'.format(self._webservice_type,\n\u001b[1;32m    917\u001b[0m                                                                                   operation_state))\n",
            "\u001b[0;31mWebserviceException\u001b[0m: WebserviceException:\n\tMessage: Service deployment polling reached non-successful terminal state, current service state: Failed\nOperation ID: 16cd7fdd-1c41-4d3b-880b-1e25af373389\nMore information can be found using '.get_logs()'\nError:\n{\n  \"code\": \"AciDeploymentFailed\",\n  \"message\": \"Aci Deployment failed with exception: Your container application crashed. This may be caused by errors in your scoring file's init() function.\\nPlease check the logs for your container instance: ctg-classification-service. From the AML SDK, you can run print(service.get_logs()) if you have service object to fetch the logs. \\nYou can interactively debug your scoring file locally. Please refer to https://docs.microsoft.com/azure/machine-learning/how-to-debug-visual-studio-code#debug-and-troubleshoot-deployments for more information.\\nYou can also try to run image viennaglobal.azurecr.io/azureml/azureml_d97f122bdcaea8212b2eadb5cef56a6d locally. Please refer to https://aka.ms/debugimage#service-launch-fails for more information.\",\n  \"details\": [\n    {\n      \"code\": \"CrashLoopBackOff\",\n      \"message\": \"Your container application crashed. This may be caused by errors in your scoring file's init() function.\\nPlease check the logs for your container instance: ctg-classification-service. From the AML SDK, you can run print(service.get_logs()) if you have service object to fetch the logs. \\nYou can interactively debug your scoring file locally. Please refer to https://docs.microsoft.com/azure/machine-learning/how-to-debug-visual-studio-code#debug-and-troubleshoot-deployments for more information.\\nYou can also try to run image viennaglobal.azurecr.io/azureml/azureml_d97f122bdcaea8212b2eadb5cef56a6d locally. Please refer to https://aka.ms/debugimage#service-launch-fails for more information.\"\n    },\n    {\n      \"code\": \"AciDeploymentFailed\",\n      \"message\": \"Your container application crashed. Please follow the steps to debug:\\n1. From the AML SDK, you can run print(service.get_logs()) if you have service object to fetch the logs. Please refer to https://aka.ms/debugimage#dockerlog for more information.\\n2. If your container application crashed. This may be caused by errors in your scoring file's init() function. You can try debugging locally first. Please refer to https://aka.ms/debugimage#debug-locally for more information.\\n3. You can also interactively debug your scoring file locally. Please refer to https://docs.microsoft.com/azure/machine-learning/how-to-debug-visual-studio-code#debug-and-troubleshoot-deployments for more information.\\n4. View the diagnostic events to check status of container, it may help you to debug the issue. {\\\"restartCount\\\":5,\\\"currentState\\\":{\\\"state\\\":\\\"Waiting\\\",\\\"startTime\\\":null,\\\"exitCode\\\":null,\\\"finishTime\\\":null,\\\"detailStatus\\\":\\\"CrashLoopBackOff: Back-off 2m40s restarting failed\\\"},\\\"previousState\\\":{\\\"state\\\":\\\"Terminated\\\",\\\"startTime\\\":\\\"2021-01-08T08:12:51Z\\\",\\\"exitCode\\\":111,\\\"finishTime\\\":\\\"2021-01-08T08:12:56Z\\\",\\\"detailStatus\\\":\\\"Error\\\"},\\\"events\\\":[{\\\"count\\\":3,\\\"firstTimestamp\\\":\\\"2021-01-08T08:09:25Z\\\",\\\"lastTimestamp\\\":\\\"2021-01-08T08:09:50Z\\\",\\\"name\\\":\\\"Pulling\\\",\\\"message\\\":\\\"pulling image \\\\\\\"viennaglobal.azurecr.io/azureml/azureml_d97f122bdcaea8212b2eadb5cef56a6d\\\\\\\"\\\",\\\"type\\\":\\\"Normal\\\"},{\\\"count\\\":3,\\\"firstTimestamp\\\":\\\"2021-01-08T08:09:25Z\\\",\\\"lastTimestamp\\\":\\\"2021-01-08T08:09:50Z\\\",\\\"name\\\":\\\"Pulled\\\",\\\"message\\\":\\\"Successfully pulled image \\\\\\\"viennaglobal.azurecr.io/azureml/azureml_d97f122bdcaea8212b2eadb5cef56a6d\\\\\\\"\\\",\\\"type\\\":\\\"Normal\\\"},{\\\"count\\\":3,\\\"firstTimestamp\\\":\\\"2021-01-08T08:09:25Z\\\",\\\"lastTimestamp\\\":\\\"2021-01-08T08:09:51Z\\\",\\\"name\\\":\\\"Created\\\",\\\"message\\\":\\\"Created container\\\",\\\"type\\\":\\\"Normal\\\"},{\\\"count\\\":2,\\\"firstTimestamp\\\":\\\"2021-01-08T08:09:25Z\\\",\\\"lastTimestamp\\\":\\\"2021-01-08T08:09:31Z\\\",\\\"name\\\":\\\"Started\\\",\\\"message\\\":\\\"Started container\\\",\\\"type\\\":\\\"Normal\\\"},{\\\"count\\\":1,\\\"firstTimestamp\\\":\\\"2021-01-08T08:09:37Z\\\",\\\"lastTimestamp\\\":\\\"2021-01-08T08:09:37Z\\\",\\\"name\\\":\\\"BackOff\\\",\\\"message\\\":\\\"Back-off restarting failed container\\\",\\\"type\\\":\\\"Warning\\\"}]}\"\n    }\n  ]\n}\n\tInnerException None\n\tErrorResponse \n{\n    \"error\": {\n        \"message\": \"Service deployment polling reached non-successful terminal state, current service state: Failed\\nOperation ID: 16cd7fdd-1c41-4d3b-880b-1e25af373389\\nMore information can be found using '.get_logs()'\\nError:\\n{\\n  \\\"code\\\": \\\"AciDeploymentFailed\\\",\\n  \\\"message\\\": \\\"Aci Deployment failed with exception: Your container application crashed. This may be caused by errors in your scoring file's init() function.\\\\nPlease check the logs for your container instance: ctg-classification-service. From the AML SDK, you can run print(service.get_logs()) if you have service object to fetch the logs. \\\\nYou can interactively debug your scoring file locally. Please refer to https://docs.microsoft.com/azure/machine-learning/how-to-debug-visual-studio-code#debug-and-troubleshoot-deployments for more information.\\\\nYou can also try to run image viennaglobal.azurecr.io/azureml/azureml_d97f122bdcaea8212b2eadb5cef56a6d locally. Please refer to https://aka.ms/debugimage#service-launch-fails for more information.\\\",\\n  \\\"details\\\": [\\n    {\\n      \\\"code\\\": \\\"CrashLoopBackOff\\\",\\n      \\\"message\\\": \\\"Your container application crashed. This may be caused by errors in your scoring file's init() function.\\\\nPlease check the logs for your container instance: ctg-classification-service. From the AML SDK, you can run print(service.get_logs()) if you have service object to fetch the logs. \\\\nYou can interactively debug your scoring file locally. Please refer to https://docs.microsoft.com/azure/machine-learning/how-to-debug-visual-studio-code#debug-and-troubleshoot-deployments for more information.\\\\nYou can also try to run image viennaglobal.azurecr.io/azureml/azureml_d97f122bdcaea8212b2eadb5cef56a6d locally. Please refer to https://aka.ms/debugimage#service-launch-fails for more information.\\\"\\n    },\\n    {\\n      \\\"code\\\": \\\"AciDeploymentFailed\\\",\\n      \\\"message\\\": \\\"Your container application crashed. Please follow the steps to debug:\\\\n1. From the AML SDK, you can run print(service.get_logs()) if you have service object to fetch the logs. Please refer to https://aka.ms/debugimage#dockerlog for more information.\\\\n2. If your container application crashed. This may be caused by errors in your scoring file's init() function. You can try debugging locally first. Please refer to https://aka.ms/debugimage#debug-locally for more information.\\\\n3. You can also interactively debug your scoring file locally. Please refer to https://docs.microsoft.com/azure/machine-learning/how-to-debug-visual-studio-code#debug-and-troubleshoot-deployments for more information.\\\\n4. View the diagnostic events to check status of container, it may help you to debug the issue. {\\\\\\\"restartCount\\\\\\\":5,\\\\\\\"currentState\\\\\\\":{\\\\\\\"state\\\\\\\":\\\\\\\"Waiting\\\\\\\",\\\\\\\"startTime\\\\\\\":null,\\\\\\\"exitCode\\\\\\\":null,\\\\\\\"finishTime\\\\\\\":null,\\\\\\\"detailStatus\\\\\\\":\\\\\\\"CrashLoopBackOff: Back-off 2m40s restarting failed\\\\\\\"},\\\\\\\"previousState\\\\\\\":{\\\\\\\"state\\\\\\\":\\\\\\\"Terminated\\\\\\\",\\\\\\\"startTime\\\\\\\":\\\\\\\"2021-01-08T08:12:51Z\\\\\\\",\\\\\\\"exitCode\\\\\\\":111,\\\\\\\"finishTime\\\\\\\":\\\\\\\"2021-01-08T08:12:56Z\\\\\\\",\\\\\\\"detailStatus\\\\\\\":\\\\\\\"Error\\\\\\\"},\\\\\\\"events\\\\\\\":[{\\\\\\\"count\\\\\\\":3,\\\\\\\"firstTimestamp\\\\\\\":\\\\\\\"2021-01-08T08:09:25Z\\\\\\\",\\\\\\\"lastTimestamp\\\\\\\":\\\\\\\"2021-01-08T08:09:50Z\\\\\\\",\\\\\\\"name\\\\\\\":\\\\\\\"Pulling\\\\\\\",\\\\\\\"message\\\\\\\":\\\\\\\"pulling image \\\\\\\\\\\\\\\"viennaglobal.azurecr.io/azureml/azureml_d97f122bdcaea8212b2eadb5cef56a6d\\\\\\\\\\\\\\\"\\\\\\\",\\\\\\\"type\\\\\\\":\\\\\\\"Normal\\\\\\\"},{\\\\\\\"count\\\\\\\":3,\\\\\\\"firstTimestamp\\\\\\\":\\\\\\\"2021-01-08T08:09:25Z\\\\\\\",\\\\\\\"lastTimestamp\\\\\\\":\\\\\\\"2021-01-08T08:09:50Z\\\\\\\",\\\\\\\"name\\\\\\\":\\\\\\\"Pulled\\\\\\\",\\\\\\\"message\\\\\\\":\\\\\\\"Successfully pulled image \\\\\\\\\\\\\\\"viennaglobal.azurecr.io/azureml/azureml_d97f122bdcaea8212b2eadb5cef56a6d\\\\\\\\\\\\\\\"\\\\\\\",\\\\\\\"type\\\\\\\":\\\\\\\"Normal\\\\\\\"},{\\\\\\\"count\\\\\\\":3,\\\\\\\"firstTimestamp\\\\\\\":\\\\\\\"2021-01-08T08:09:25Z\\\\\\\",\\\\\\\"lastTimestamp\\\\\\\":\\\\\\\"2021-01-08T08:09:51Z\\\\\\\",\\\\\\\"name\\\\\\\":\\\\\\\"Created\\\\\\\",\\\\\\\"message\\\\\\\":\\\\\\\"Created container\\\\\\\",\\\\\\\"type\\\\\\\":\\\\\\\"Normal\\\\\\\"},{\\\\\\\"count\\\\\\\":2,\\\\\\\"firstTimestamp\\\\\\\":\\\\\\\"2021-01-08T08:09:25Z\\\\\\\",\\\\\\\"lastTimestamp\\\\\\\":\\\\\\\"2021-01-08T08:09:31Z\\\\\\\",\\\\\\\"name\\\\\\\":\\\\\\\"Started\\\\\\\",\\\\\\\"message\\\\\\\":\\\\\\\"Started container\\\\\\\",\\\\\\\"type\\\\\\\":\\\\\\\"Normal\\\\\\\"},{\\\\\\\"count\\\\\\\":1,\\\\\\\"firstTimestamp\\\\\\\":\\\\\\\"2021-01-08T08:09:37Z\\\\\\\",\\\\\\\"lastTimestamp\\\\\\\":\\\\\\\"2021-01-08T08:09:37Z\\\\\\\",\\\\\\\"name\\\\\\\":\\\\\\\"BackOff\\\\\\\",\\\\\\\"message\\\\\\\":\\\\\\\"Back-off restarting failed container\\\\\\\",\\\\\\\"type\\\\\\\":\\\\\\\"Warning\\\\\\\"}]}\\\"\\n    }\\n  ]\\n}\"\n    }\n}"
          ]
        }
      ],
      "execution_count": 38,
      "metadata": {
        "gather": {
          "logged": 1598431435189
        },
        "id": "NwLtzTuD3NPO",
        "jupyter": {
          "outputs_hidden": false,
          "source_hidden": false
        },
        "nteract": {
          "transient": {
            "deleting": false
          }
        }
      }
    },
    {
      "cell_type": "code",
      "source": [
        "print(service.get_logs())\r\n"
      ],
      "outputs": [
        {
          "output_type": "stream",
          "name": "stdout",
          "text": [
            "2021-01-08T08:12:51,139523799+00:00 - rsyslog/run \n",
            "2021-01-08T08:12:51,139506599+00:00 - iot-server/run \n",
            "2021-01-08T08:12:51,141324318+00:00 - gunicorn/run \n",
            "2021-01-08T08:12:51,144577652+00:00 - nginx/run \n",
            "/usr/sbin/nginx: /azureml-envs/azureml_a1736710baabf05d37337a101fa8d6d1/lib/libcrypto.so.1.0.0: no version information available (required by /usr/sbin/nginx)\n",
            "/usr/sbin/nginx: /azureml-envs/azureml_a1736710baabf05d37337a101fa8d6d1/lib/libcrypto.so.1.0.0: no version information available (required by /usr/sbin/nginx)\n",
            "/usr/sbin/nginx: /azureml-envs/azureml_a1736710baabf05d37337a101fa8d6d1/lib/libssl.so.1.0.0: no version information available (required by /usr/sbin/nginx)\n",
            "/usr/sbin/nginx: /azureml-envs/azureml_a1736710baabf05d37337a101fa8d6d1/lib/libssl.so.1.0.0: no version information available (required by /usr/sbin/nginx)\n",
            "/usr/sbin/nginx: /azureml-envs/azureml_a1736710baabf05d37337a101fa8d6d1/lib/libssl.so.1.0.0: no version information available (required by /usr/sbin/nginx)\n",
            "rsyslogd: /azureml-envs/azureml_a1736710baabf05d37337a101fa8d6d1/lib/libuuid.so.1: no version information available (required by rsyslogd)\n",
            "EdgeHubConnectionString and IOTEDGE_IOTHUBHOSTNAME are not set. Exiting...\n",
            "2021-01-08T08:12:51,317143862+00:00 - iot-server/finish 1 0\n",
            "2021-01-08T08:12:51,318642078+00:00 - Exit code 1 is normal. Not restarting iot-server.\n",
            "Starting gunicorn 19.9.0\n",
            "Listening at: http://127.0.0.1:31311 (14)\n",
            "Using worker: sync\n",
            "worker timeout is set to 300\n",
            "Booting worker with pid: 40\n",
            "SPARK_HOME not set. Skipping PySpark Initialization.\n",
            "Failure while loading azureml_run_type_providers. Failed to load entrypoint automl = azureml.train.automl.run:AutoMLRun._from_run_dto with exception (pyarrow 2.0.0 (/azureml-envs/azureml_a1736710baabf05d37337a101fa8d6d1/lib/python3.6/site-packages), Requirement.parse('pyarrow<2.0.0,>=0.17.0'), {'azureml-dataset-runtime'}).\n",
            "Initializing logger\n",
            "2021-01-08 08:12:53,302 | root | INFO | Starting up app insights client\n",
            "Starting up app insights client\n",
            "2021-01-08 08:12:53,303 | root | INFO | Starting up request id generator\n",
            "Starting up request id generator\n",
            "2021-01-08 08:12:53,303 | root | INFO | Starting up app insight hooks\n",
            "Starting up app insight hooks\n",
            "2021-01-08 08:12:53,303 | root | INFO | Invoking user's init function\n",
            "Invoking user's init function\n",
            "model initialized08:12:53\n",
            "Found Model:\n",
            "True\n",
            "2021-01-08 08:12:54,756 | root | ERROR | User's init function failed\n",
            "User's init function failed\n",
            "2021-01-08 08:12:54,757 | root | ERROR | Encountered Exception Traceback (most recent call last):\n",
            "  File \"/var/azureml-server/aml_blueprint.py\", line 187, in register\n",
            "    main.init()\n",
            "  File \"/var/azureml-app/main.py\", line 35, in init\n",
            "    driver_module.init()\n",
            "  File \"/var/azureml-app/score.py\", line 20, in init\n",
            "    model = joblib.load(model_path)\n",
            "  File \"/azureml-envs/azureml_a1736710baabf05d37337a101fa8d6d1/lib/python3.6/site-packages/joblib/numpy_pickle.py\", line 605, in load\n",
            "    obj = _unpickle(fobj, filename, mmap_mode)\n",
            "  File \"/azureml-envs/azureml_a1736710baabf05d37337a101fa8d6d1/lib/python3.6/site-packages/joblib/numpy_pickle.py\", line 529, in _unpickle\n",
            "    obj = unpickler.load()\n",
            "  File \"/azureml-envs/azureml_a1736710baabf05d37337a101fa8d6d1/lib/python3.6/pickle.py\", line 1050, in load\n",
            "    dispatch[key[0]](self)\n",
            "  File \"/azureml-envs/azureml_a1736710baabf05d37337a101fa8d6d1/lib/python3.6/pickle.py\", line 1338, in load_global\n",
            "    klass = self.find_class(module, name)\n",
            "  File \"/azureml-envs/azureml_a1736710baabf05d37337a101fa8d6d1/lib/python3.6/pickle.py\", line 1388, in find_class\n",
            "    __import__(module, level=0)\n",
            "ModuleNotFoundError: No module named 'xgboost'\n",
            "\n",
            "Encountered Exception Traceback (most recent call last):\n",
            "  File \"/var/azureml-server/aml_blueprint.py\", line 187, in register\n",
            "    main.init()\n",
            "  File \"/var/azureml-app/main.py\", line 35, in init\n",
            "    driver_module.init()\n",
            "  File \"/var/azureml-app/score.py\", line 20, in init\n",
            "    model = joblib.load(model_path)\n",
            "  File \"/azureml-envs/azureml_a1736710baabf05d37337a101fa8d6d1/lib/python3.6/site-packages/joblib/numpy_pickle.py\", line 605, in load\n",
            "    obj = _unpickle(fobj, filename, mmap_mode)\n",
            "  File \"/azureml-envs/azureml_a1736710baabf05d37337a101fa8d6d1/lib/python3.6/site-packages/joblib/numpy_pickle.py\", line 529, in _unpickle\n",
            "    obj = unpickler.load()\n",
            "  File \"/azureml-envs/azureml_a1736710baabf05d37337a101fa8d6d1/lib/python3.6/pickle.py\", line 1050, in load\n",
            "    dispatch[key[0]](self)\n",
            "  File \"/azureml-envs/azureml_a1736710baabf05d37337a101fa8d6d1/lib/python3.6/pickle.py\", line 1338, in load_global\n",
            "    klass = self.find_class(module, name)\n",
            "  File \"/azureml-envs/azureml_a1736710baabf05d37337a101fa8d6d1/lib/python3.6/pickle.py\", line 1388, in find_class\n",
            "    __import__(module, level=0)\n",
            "ModuleNotFoundError: No module named 'xgboost'\n",
            "\n",
            "/azureml-envs/azureml_a1736710baabf05d37337a101fa8d6d1/lib/python3.6/site-packages/sklearn/externals/joblib/__init__.py:15: FutureWarning: sklearn.externals.joblib is deprecated in 0.21 and will be removed in 0.23. Please import this functionality directly from joblib, which can be installed with: pip install joblib. If this warning is raised when loading pickled models, you may need to re-serialize those models with scikit-learn 0.21+.\n",
            "  warnings.warn(msg, category=FutureWarning)\n",
            "Worker exiting (pid: 40)\n",
            "Shutting down: Master\n",
            "Reason: Worker failed to boot.\n",
            "2021-01-08T08:12:56,085514680+00:00 - gunicorn/finish 3 0\n",
            "2021-01-08T08:12:56,087160097+00:00 - Exit code 3 is not normal. Killing image.\n",
            "\n"
          ]
        }
      ],
      "execution_count": 39,
      "metadata": {
        "collapsed": true,
        "jupyter": {
          "source_hidden": false,
          "outputs_hidden": false
        },
        "nteract": {
          "transient": {
            "deleting": false
          }
        },
        "gather": {
          "logged": 1610093677347
        }
      }
    },
    {
      "cell_type": "code",
      "source": [
        "print(service.state)\n",
        "print(\"scoring URI: \" + service.scoring_uri)\n",
        "\n",
        "print(\"Swagger URI: \" + service.swagger_uri)\n",
        "\n",
        "print(\"Authetication Key: \" + service.get_keys())"
      ],
      "outputs": [
        {
          "output_type": "stream",
          "name": "stdout",
          "text": [
            "Failed\n"
          ]
        },
        {
          "output_type": "error",
          "ename": "TypeError",
          "evalue": "must be str, not NoneType",
          "traceback": [
            "\u001b[0;31m---------------------------------------------------------------------------\u001b[0m",
            "\u001b[0;31mTypeError\u001b[0m                                 Traceback (most recent call last)",
            "\u001b[0;32m<ipython-input-42-af4d722d8b9e>\u001b[0m in \u001b[0;36m<module>\u001b[0;34m\u001b[0m\n\u001b[1;32m      1\u001b[0m \u001b[0mprint\u001b[0m\u001b[0;34m(\u001b[0m\u001b[0mservice\u001b[0m\u001b[0;34m.\u001b[0m\u001b[0mstate\u001b[0m\u001b[0;34m)\u001b[0m\u001b[0;34m\u001b[0m\u001b[0;34m\u001b[0m\u001b[0m\n\u001b[0;32m----> 2\u001b[0;31m \u001b[0mprint\u001b[0m\u001b[0;34m(\u001b[0m\u001b[0;34m\"scoring URI: \"\u001b[0m \u001b[0;34m+\u001b[0m \u001b[0mservice\u001b[0m\u001b[0;34m.\u001b[0m\u001b[0mscoring_uri\u001b[0m\u001b[0;34m)\u001b[0m\u001b[0;34m\u001b[0m\u001b[0;34m\u001b[0m\u001b[0m\n\u001b[0m\u001b[1;32m      3\u001b[0m \u001b[0;34m\u001b[0m\u001b[0m\n\u001b[1;32m      4\u001b[0m \u001b[0mprint\u001b[0m\u001b[0;34m(\u001b[0m\u001b[0;34m\"Swagger URI: \"\u001b[0m \u001b[0;34m+\u001b[0m \u001b[0mservice\u001b[0m\u001b[0;34m.\u001b[0m\u001b[0mswagger_uri\u001b[0m\u001b[0;34m)\u001b[0m\u001b[0;34m\u001b[0m\u001b[0;34m\u001b[0m\u001b[0m\n\u001b[1;32m      5\u001b[0m \u001b[0;34m\u001b[0m\u001b[0m\n",
            "\u001b[0;31mTypeError\u001b[0m: must be str, not NoneType"
          ]
        }
      ],
      "execution_count": 42,
      "metadata": {
        "id": "RETCe_9nBK3t"
      }
    },
    {
      "cell_type": "markdown",
      "source": [
        "TODO: In the cell below, send a request to the web service you deployed to test it."
      ],
      "metadata": {
        "collapsed": true,
        "gather": {
          "logged": 1598431657736
        },
        "id": "7dAk8LGw3NPO",
        "jupyter": {
          "outputs_hidden": false,
          "source_hidden": false
        },
        "nteract": {
          "transient": {
            "deleting": false
          }
        }
      }
    },
    {
      "cell_type": "code",
      "source": [
        "import json\n",
        "\n",
        "input_payload = json.dumps({\n",
        "    'data': dataset_x[0:2].tolist(),\n",
        "    'method': 'predict'  # If you have a classification model, you can get probabilities by changing this to 'predict_proba'.\n",
        "})\n",
        "\n",
        "output = service.run(input_payload)\n",
        "\n",
        "print(output)"
      ],
      "outputs": [],
      "execution_count": null,
      "metadata": {
        "gather": {
          "logged": 1598432707604
        },
        "id": "I-CM0EmC3NPO",
        "jupyter": {
          "outputs_hidden": false,
          "source_hidden": false
        },
        "nteract": {
          "transient": {
            "deleting": false
          }
        }
      }
    },
    {
      "cell_type": "markdown",
      "source": [
        "TODO: In the cell below, print the logs of the web service and delete the service"
      ],
      "metadata": {
        "collapsed": true,
        "gather": {
          "logged": 1598432765711
        },
        "id": "Dy06gk5i3NPP",
        "jupyter": {
          "outputs_hidden": false,
          "source_hidden": false
        },
        "nteract": {
          "transient": {
            "deleting": false
          }
        }
      }
    },
    {
      "cell_type": "code",
      "source": [
        "# print logs\n",
        "from azureml.core import Workspace\n",
        "from azureml.core.webservice import Webservice\n",
        "\n",
        "# Requires the config to be downloaded first to the current working directory\n",
        "ws = Workspace.from_config()\n",
        "\n",
        "# Set with the deployment name\n",
        "name = \"my-ctg-service\"\n",
        "# load existing web service\n",
        "service = Webservice(name=name, workspace=ws)\n",
        "logs = service.get_logs()\n",
        "\n",
        "for line in logs.split('\\n'):\n",
        "    print(line)\n"
      ],
      "outputs": [],
      "execution_count": null,
      "metadata": {
        "id": "721tXaFTSUbb"
      }
    },
    {
      "cell_type": "code",
      "source": [
        "#delete service\n",
        "service.delete()"
      ],
      "outputs": [],
      "execution_count": null,
      "metadata": {
        "id": "Zr8vDjOr3NPP",
        "jupyter": {
          "outputs_hidden": false,
          "source_hidden": false
        },
        "nteract": {
          "transient": {
            "deleting": false
          }
        }
      }
    }
  ],
  "metadata": {
    "colab": {
      "collapsed_sections": [],
      "name": "automl.ipynb",
      "provenance": []
    },
    "kernel_info": {
      "name": "python3-azureml"
    },
    "kernelspec": {
      "name": "python3-azureml",
      "language": "python",
      "display_name": "Python 3.6 - AzureML"
    },
    "language_info": {
      "name": "python",
      "version": "3.6.9",
      "mimetype": "text/x-python",
      "codemirror_mode": {
        "name": "ipython",
        "version": 3
      },
      "pygments_lexer": "ipython3",
      "nbconvert_exporter": "python",
      "file_extension": ".py"
    },
    "nteract": {
      "version": "nteract-front-end@1.0.0"
    }
  },
  "nbformat": 4,
  "nbformat_minor": 1
}