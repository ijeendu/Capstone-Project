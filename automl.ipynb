{
  "cells": [
    {
      "cell_type": "markdown",
      "source": [
        "# Automated ML\n",
        "\n",
        "TODO: Import Dependencies. In the cell below, import all the dependencies that you will need to complete the project."
      ],
      "metadata": {
        "id": "9CvgwStG3NPD"
      }
    },
    {
      "cell_type": "code",
      "source": [
        "# import dependencies\n",
        "import logging\n",
        "import os\n",
        "import csv\n",
        "\n",
        "from matplotlib import pyplot as plt\n",
        "import numpy as np\n",
        "import pandas as pd\n",
        "#from sklearn import datasets\n",
        "import pkg_resources\n",
        "\n",
        "import azureml.core\n",
        "from azureml.core.experiment import Experiment\n",
        "from azureml.core.workspace import Workspace\n",
        "from azureml.train.automl import AutoMLConfig\n",
        "#from azureml.core.dataset import Dataset\n",
        "\n",
        "from azureml.pipeline.steps import AutoMLStep\n",
        "\n",
        "# Check core SDK version number\n",
        "print(\"SDK version:\", azureml.core.VERSION)"
      ],
      "outputs": [
        {
          "output_type": "stream",
          "name": "stdout",
          "text": [
            "SDK version: 1.19.0\n"
          ]
        }
      ],
      "execution_count": 21,
      "metadata": {
        "gather": {
          "logged": 1608733276336
        },
        "id": "tvZfJ1lDVEow",
        "outputId": "ea82a3a6-554f-4c21-9a2c-316050c3985f"
      }
    },
    {
      "cell_type": "code",
      "source": [
        "# initialise workspace\n",
        "ws = Workspace.from_config() # using from_config file downloaded from Azure ML Studio workspace\n",
        "#exp = Experiment(workspace=ws, name=\"capstone-project\")\n",
        "\n",
        "print('Workspace name: ' + ws.name, \n",
        "      'Azure region: ' + ws.location, \n",
        "      'Subscription id: ' + ws.subscription_id, \n",
        "      'Resource group: ' + ws.resource_group, sep = '\\n')\n",
        "\n",
        "#run = exp.start_logging()"
      ],
      "outputs": [
        {
          "output_type": "stream",
          "name": "stdout",
          "text": [
            "Workspace name: quick-starts-ws-131472\n",
            "Azure region: southcentralus\n",
            "Subscription id: d4ad7261-832d-46b2-b093-22156001df5b\n",
            "Resource group: aml-quickstarts-131472\n"
          ]
        }
      ],
      "execution_count": 22,
      "metadata": {
        "gather": {
          "logged": 1608733286671
        },
        "id": "cHpCx-nk3NPK",
        "jupyter": {
          "outputs_hidden": false,
          "source_hidden": false
        },
        "nteract": {
          "transient": {
            "deleting": false
          }
        },
        "outputId": "1d9ec8a5-aeae-4d66-ab82-9861f14930d1"
      }
    },
    {
      "cell_type": "code",
      "source": [
        "# create an AutoML experiment\n",
        "# choose a name for experiment\n",
        "experiment_name = 'ctg_experiment'\n",
        "project_folder = './automlproject'\n",
        "\n",
        "# create the experiment\n",
        "experiment=Experiment(ws, experiment_name)\n",
        "experiment"
      ],
      "outputs": [
        {
          "output_type": "execute_result",
          "execution_count": 23,
          "data": {
            "text/plain": "Experiment(Name: ctg_experiment,\nWorkspace: quick-starts-ws-131472)",
            "text/html": "<table style=\"width:100%\"><tr><th>Name</th><th>Workspace</th><th>Report Page</th><th>Docs Page</th></tr><tr><td>ctg_experiment</td><td>quick-starts-ws-131472</td><td><a href=\"https://ml.azure.com/experiments/ctg_experiment?wsid=/subscriptions/d4ad7261-832d-46b2-b093-22156001df5b/resourcegroups/aml-quickstarts-131472/workspaces/quick-starts-ws-131472\" target=\"_blank\" rel=\"noopener\">Link to Azure Machine Learning studio</a></td><td><a href=\"https://docs.microsoft.com/en-us/python/api/azureml-core/azureml.core.experiment.Experiment?view=azure-ml-py\" target=\"_blank\" rel=\"noopener\">Link to Documentation</a></td></tr></table>"
          },
          "metadata": {}
        }
      ],
      "execution_count": 23,
      "metadata": {
        "gather": {
          "logged": 1608733291146
        },
        "id": "wBopRTmv3NPL",
        "jupyter": {
          "outputs_hidden": false,
          "source_hidden": false
        },
        "nteract": {
          "transient": {
            "deleting": false
          }
        },
        "outputId": "2d0696b5-8b02-46be-ebc8-afd352d24715"
      }
    },
    {
      "cell_type": "code",
      "source": [
        "# create or attach an existing compute cluster\n",
        "from azureml.core.compute import ComputeTarget, AmlCompute\n",
        "from azureml.core.compute_target import ComputeTargetException\n",
        "\n",
        "# set name of CPU cluster\n",
        "cpu_cluster_name = \"automl-cluster\"\n",
        "\n",
        "# Verify that cluster does not exist already\n",
        "try:\n",
        "    cpu_cluster = ComputeTarget(workspace=ws, name=cpu_cluster_name)\n",
        "    print('Found existing cluster, using it.')\n",
        "except ComputeTargetException:\n",
        "    print('Creating a new compute target...')\n",
        "    compute_config = AmlCompute.provisioning_configuration(vm_size='STANDARD_D2_V2',\n",
        "                                                           max_nodes=4)\n",
        "    cpu_cluster = ComputeTarget.create(ws, cpu_cluster_name, compute_config)\n",
        "\n",
        "# wait for completion\n",
        "cpu_cluster.wait_for_completion(show_output=True)"
      ],
      "outputs": [
        {
          "output_type": "stream",
          "name": "stdout",
          "text": [
            "Found existing cluster, using it.\n",
            "Succeeded\n",
            "AmlCompute wait for completion finished\n",
            "\n",
            "Minimum number of nodes requested have been provisioned\n"
          ]
        }
      ],
      "execution_count": 24,
      "metadata": {
        "gather": {
          "logged": 1608733319906
        },
        "id": "Xjaaq9H331y0",
        "outputId": "4b6782ba-4c58-4d0d-d953-5f8f49686f3f"
      }
    },
    {
      "cell_type": "markdown",
      "source": [
        "## Dataset\n",
        "\n",
        "### Overview\n",
        "\n",
        "This project uses the cardiotocogram data set available at the UCI ML website.\n",
        "The dataset consists of measurements of fetal heart rate (FHR) and uterine contraction (UC) features on cardiotocograms classified by expert obstetricians. It consists of 2126 fetal cardiotocograms (CTGs) with 23 attributes.\n",
        "\n",
        "The CTGs were automatically processed and the respective diagnostic features measured and classified by three expert obstetricians and a consensus classification label assigned to each of them. Classification was both with respect to a morphologic pattern (A, B, C, ..., J) and to a fetal state (N, S, P). Therefore the dataset can be used either for 10-class or 3-class experiments. \n",
        "\n",
        "In this work, the 3-class label is used to classify a foetus as Normal, Suspect or Pathological based on the cardiotocogram measurements.\n",
        "\n"
      ],
      "metadata": {
        "id": "7KUjVmOp3NPL"
      }
    },
    {
      "cell_type": "code",
      "source": [
        "# import data external to AzureML\n",
        "from azureml.data.dataset_factory import TabularDatasetFactory\n",
        "\n",
        "# Try to load the dataset from the Workspace. Otherwise, create it from the file\n",
        "\n",
        "found = False\n",
        "key = \"ctg-data\"\n",
        "description_text = \"Cardiocotogram dataset for fetal state classification Udacity Capstone Project\"\n",
        "\n",
        "if key in ws.datasets.keys(): \n",
        "        found = True\n",
        "        print('found dataset in workspace')\n",
        "        ds = ws.datasets[key] \n",
        "\n",
        "if not found:\n",
        "    # Create TabularDataset using TabularDatasetFactory\n",
        "    url = \"https://raw.githubusercontent.com/ijeendu/Machine_Learning_in_Microsoft_Azure/main/CTG.csv\"\n",
        "    ds = TabularDatasetFactory.from_delimited_files(path=url)\n",
        "    \n",
        "    # register dataset in workspace\n",
        "    ds = ds.register(workspace=ws,\n",
        "                    name=key,\n",
        "                    description=description_text)\n",
        "\n",
        "# view dataset\n",
        "ds.to_pandas_dataframe().head()"
      ],
      "outputs": [
        {
          "output_type": "stream",
          "name": "stdout",
          "text": [
            "found dataset in workspace\n"
          ]
        },
        {
          "output_type": "execute_result",
          "execution_count": 26,
          "data": {
            "text/plain": "       FileName       Date      SegFile    b     e  LBE   LB  AC  FM  UC  ...  \\\n0  Variab10.txt 1996-12-01  CTG0001.txt  240   357  120  120   0   0   0  ...   \n1    Fmcs_1.txt 1996-05-03  CTG0002.txt    5   632  132  132   4   0   4  ...   \n2    Fmcs_1.txt 1996-05-03  CTG0003.txt  177   779  133  133   2   0   5  ...   \n3    Fmcs_1.txt 1996-05-03  CTG0004.txt  411  1192  134  134   2   0   6  ...   \n4    Fmcs_1.txt 1996-05-03  CTG0005.txt  533  1147  132  132   4   0   5  ...   \n\n   C  D  E  AD  DE  LD  FS  SUSP  CLASS  NSP  \n0  0  0  0   0   0   0   1     0      9    2  \n1  0  0  0   1   0   0   0     0      6    1  \n2  0  0  0   1   0   0   0     0      6    1  \n3  0  0  0   1   0   0   0     0      6    1  \n4  0  0  0   0   0   0   0     0      2    1  \n\n[5 rows x 40 columns]",
            "text/html": "<div>\n<style scoped>\n    .dataframe tbody tr th:only-of-type {\n        vertical-align: middle;\n    }\n\n    .dataframe tbody tr th {\n        vertical-align: top;\n    }\n\n    .dataframe thead th {\n        text-align: right;\n    }\n</style>\n<table border=\"1\" class=\"dataframe\">\n  <thead>\n    <tr style=\"text-align: right;\">\n      <th></th>\n      <th>FileName</th>\n      <th>Date</th>\n      <th>SegFile</th>\n      <th>b</th>\n      <th>e</th>\n      <th>LBE</th>\n      <th>LB</th>\n      <th>AC</th>\n      <th>FM</th>\n      <th>UC</th>\n      <th>...</th>\n      <th>C</th>\n      <th>D</th>\n      <th>E</th>\n      <th>AD</th>\n      <th>DE</th>\n      <th>LD</th>\n      <th>FS</th>\n      <th>SUSP</th>\n      <th>CLASS</th>\n      <th>NSP</th>\n    </tr>\n  </thead>\n  <tbody>\n    <tr>\n      <th>0</th>\n      <td>Variab10.txt</td>\n      <td>1996-12-01</td>\n      <td>CTG0001.txt</td>\n      <td>240</td>\n      <td>357</td>\n      <td>120</td>\n      <td>120</td>\n      <td>0</td>\n      <td>0</td>\n      <td>0</td>\n      <td>...</td>\n      <td>0</td>\n      <td>0</td>\n      <td>0</td>\n      <td>0</td>\n      <td>0</td>\n      <td>0</td>\n      <td>1</td>\n      <td>0</td>\n      <td>9</td>\n      <td>2</td>\n    </tr>\n    <tr>\n      <th>1</th>\n      <td>Fmcs_1.txt</td>\n      <td>1996-05-03</td>\n      <td>CTG0002.txt</td>\n      <td>5</td>\n      <td>632</td>\n      <td>132</td>\n      <td>132</td>\n      <td>4</td>\n      <td>0</td>\n      <td>4</td>\n      <td>...</td>\n      <td>0</td>\n      <td>0</td>\n      <td>0</td>\n      <td>1</td>\n      <td>0</td>\n      <td>0</td>\n      <td>0</td>\n      <td>0</td>\n      <td>6</td>\n      <td>1</td>\n    </tr>\n    <tr>\n      <th>2</th>\n      <td>Fmcs_1.txt</td>\n      <td>1996-05-03</td>\n      <td>CTG0003.txt</td>\n      <td>177</td>\n      <td>779</td>\n      <td>133</td>\n      <td>133</td>\n      <td>2</td>\n      <td>0</td>\n      <td>5</td>\n      <td>...</td>\n      <td>0</td>\n      <td>0</td>\n      <td>0</td>\n      <td>1</td>\n      <td>0</td>\n      <td>0</td>\n      <td>0</td>\n      <td>0</td>\n      <td>6</td>\n      <td>1</td>\n    </tr>\n    <tr>\n      <th>3</th>\n      <td>Fmcs_1.txt</td>\n      <td>1996-05-03</td>\n      <td>CTG0004.txt</td>\n      <td>411</td>\n      <td>1192</td>\n      <td>134</td>\n      <td>134</td>\n      <td>2</td>\n      <td>0</td>\n      <td>6</td>\n      <td>...</td>\n      <td>0</td>\n      <td>0</td>\n      <td>0</td>\n      <td>1</td>\n      <td>0</td>\n      <td>0</td>\n      <td>0</td>\n      <td>0</td>\n      <td>6</td>\n      <td>1</td>\n    </tr>\n    <tr>\n      <th>4</th>\n      <td>Fmcs_1.txt</td>\n      <td>1996-05-03</td>\n      <td>CTG0005.txt</td>\n      <td>533</td>\n      <td>1147</td>\n      <td>132</td>\n      <td>132</td>\n      <td>4</td>\n      <td>0</td>\n      <td>5</td>\n      <td>...</td>\n      <td>0</td>\n      <td>0</td>\n      <td>0</td>\n      <td>0</td>\n      <td>0</td>\n      <td>0</td>\n      <td>0</td>\n      <td>0</td>\n      <td>2</td>\n      <td>1</td>\n    </tr>\n  </tbody>\n</table>\n<p>5 rows × 40 columns</p>\n</div>"
          },
          "metadata": {}
        }
      ],
      "execution_count": 26,
      "metadata": {
        "gather": {
          "logged": 1608733331172
        },
        "id": "8RPYmjGK3uQW",
        "outputId": "c28a8b53-826d-4bec-95c5-038ca036ffc2"
      }
    },
    {
      "cell_type": "code",
      "source": [
        "# explore dataframe\n",
        "df = ds.to_pandas_dataframe()\n",
        "df.describe()"
      ],
      "outputs": [
        {
          "output_type": "execute_result",
          "execution_count": 27,
          "data": {
            "text/plain": "            b       e     LBE      LB      AC      FM      UC    ASTV    MSTV  \\\ncount 2126.00 2126.00 2126.00 2126.00 2126.00 2126.00 2126.00 2126.00 2126.00   \nmean   878.44 1702.88  133.30  133.30    2.72    7.24    3.66   46.99    1.33   \nstd    894.08  930.92    9.84    9.84    3.56   37.13    2.85   17.19    0.88   \nmin      0.00  287.00  106.00  106.00    0.00    0.00    0.00   12.00    0.20   \n25%     55.00 1009.00  126.00  126.00    0.00    0.00    1.00   32.00    0.70   \n50%    538.00 1241.00  133.00  133.00    1.00    0.00    3.00   49.00    1.20   \n75%   1521.00 2434.75  140.00  140.00    4.00    2.00    5.00   61.00    1.70   \nmax   3296.00 3599.00  160.00  160.00   26.00  564.00   23.00   87.00    7.00   \n\n         ALTV  ...       C       D       E      AD      DE      LD      FS  \\\ncount 2126.00  ... 2126.00 2126.00 2126.00 2126.00 2126.00 2126.00 2126.00   \nmean     9.85  ...    0.02    0.04    0.03    0.16    0.12    0.05    0.03   \nstd     18.40  ...    0.16    0.19    0.18    0.36    0.32    0.22    0.18   \nmin      0.00  ...    0.00    0.00    0.00    0.00    0.00    0.00    0.00   \n25%      0.00  ...    0.00    0.00    0.00    0.00    0.00    0.00    0.00   \n50%      0.00  ...    0.00    0.00    0.00    0.00    0.00    0.00    0.00   \n75%     11.00  ...    0.00    0.00    0.00    0.00    0.00    0.00    0.00   \nmax     91.00  ...    1.00    1.00    1.00    1.00    1.00    1.00    1.00   \n\n         SUSP   CLASS     NSP  \ncount 2126.00 2126.00 2126.00  \nmean     0.09    4.51    1.30  \nstd      0.29    3.03    0.61  \nmin      0.00    1.00    1.00  \n25%      0.00    2.00    1.00  \n50%      0.00    4.00    1.00  \n75%      0.00    7.00    1.00  \nmax      1.00   10.00    3.00  \n\n[8 rows x 37 columns]",
            "text/html": "<div>\n<style scoped>\n    .dataframe tbody tr th:only-of-type {\n        vertical-align: middle;\n    }\n\n    .dataframe tbody tr th {\n        vertical-align: top;\n    }\n\n    .dataframe thead th {\n        text-align: right;\n    }\n</style>\n<table border=\"1\" class=\"dataframe\">\n  <thead>\n    <tr style=\"text-align: right;\">\n      <th></th>\n      <th>b</th>\n      <th>e</th>\n      <th>LBE</th>\n      <th>LB</th>\n      <th>AC</th>\n      <th>FM</th>\n      <th>UC</th>\n      <th>ASTV</th>\n      <th>MSTV</th>\n      <th>ALTV</th>\n      <th>...</th>\n      <th>C</th>\n      <th>D</th>\n      <th>E</th>\n      <th>AD</th>\n      <th>DE</th>\n      <th>LD</th>\n      <th>FS</th>\n      <th>SUSP</th>\n      <th>CLASS</th>\n      <th>NSP</th>\n    </tr>\n  </thead>\n  <tbody>\n    <tr>\n      <th>count</th>\n      <td>2126.00</td>\n      <td>2126.00</td>\n      <td>2126.00</td>\n      <td>2126.00</td>\n      <td>2126.00</td>\n      <td>2126.00</td>\n      <td>2126.00</td>\n      <td>2126.00</td>\n      <td>2126.00</td>\n      <td>2126.00</td>\n      <td>...</td>\n      <td>2126.00</td>\n      <td>2126.00</td>\n      <td>2126.00</td>\n      <td>2126.00</td>\n      <td>2126.00</td>\n      <td>2126.00</td>\n      <td>2126.00</td>\n      <td>2126.00</td>\n      <td>2126.00</td>\n      <td>2126.00</td>\n    </tr>\n    <tr>\n      <th>mean</th>\n      <td>878.44</td>\n      <td>1702.88</td>\n      <td>133.30</td>\n      <td>133.30</td>\n      <td>2.72</td>\n      <td>7.24</td>\n      <td>3.66</td>\n      <td>46.99</td>\n      <td>1.33</td>\n      <td>9.85</td>\n      <td>...</td>\n      <td>0.02</td>\n      <td>0.04</td>\n      <td>0.03</td>\n      <td>0.16</td>\n      <td>0.12</td>\n      <td>0.05</td>\n      <td>0.03</td>\n      <td>0.09</td>\n      <td>4.51</td>\n      <td>1.30</td>\n    </tr>\n    <tr>\n      <th>std</th>\n      <td>894.08</td>\n      <td>930.92</td>\n      <td>9.84</td>\n      <td>9.84</td>\n      <td>3.56</td>\n      <td>37.13</td>\n      <td>2.85</td>\n      <td>17.19</td>\n      <td>0.88</td>\n      <td>18.40</td>\n      <td>...</td>\n      <td>0.16</td>\n      <td>0.19</td>\n      <td>0.18</td>\n      <td>0.36</td>\n      <td>0.32</td>\n      <td>0.22</td>\n      <td>0.18</td>\n      <td>0.29</td>\n      <td>3.03</td>\n      <td>0.61</td>\n    </tr>\n    <tr>\n      <th>min</th>\n      <td>0.00</td>\n      <td>287.00</td>\n      <td>106.00</td>\n      <td>106.00</td>\n      <td>0.00</td>\n      <td>0.00</td>\n      <td>0.00</td>\n      <td>12.00</td>\n      <td>0.20</td>\n      <td>0.00</td>\n      <td>...</td>\n      <td>0.00</td>\n      <td>0.00</td>\n      <td>0.00</td>\n      <td>0.00</td>\n      <td>0.00</td>\n      <td>0.00</td>\n      <td>0.00</td>\n      <td>0.00</td>\n      <td>1.00</td>\n      <td>1.00</td>\n    </tr>\n    <tr>\n      <th>25%</th>\n      <td>55.00</td>\n      <td>1009.00</td>\n      <td>126.00</td>\n      <td>126.00</td>\n      <td>0.00</td>\n      <td>0.00</td>\n      <td>1.00</td>\n      <td>32.00</td>\n      <td>0.70</td>\n      <td>0.00</td>\n      <td>...</td>\n      <td>0.00</td>\n      <td>0.00</td>\n      <td>0.00</td>\n      <td>0.00</td>\n      <td>0.00</td>\n      <td>0.00</td>\n      <td>0.00</td>\n      <td>0.00</td>\n      <td>2.00</td>\n      <td>1.00</td>\n    </tr>\n    <tr>\n      <th>50%</th>\n      <td>538.00</td>\n      <td>1241.00</td>\n      <td>133.00</td>\n      <td>133.00</td>\n      <td>1.00</td>\n      <td>0.00</td>\n      <td>3.00</td>\n      <td>49.00</td>\n      <td>1.20</td>\n      <td>0.00</td>\n      <td>...</td>\n      <td>0.00</td>\n      <td>0.00</td>\n      <td>0.00</td>\n      <td>0.00</td>\n      <td>0.00</td>\n      <td>0.00</td>\n      <td>0.00</td>\n      <td>0.00</td>\n      <td>4.00</td>\n      <td>1.00</td>\n    </tr>\n    <tr>\n      <th>75%</th>\n      <td>1521.00</td>\n      <td>2434.75</td>\n      <td>140.00</td>\n      <td>140.00</td>\n      <td>4.00</td>\n      <td>2.00</td>\n      <td>5.00</td>\n      <td>61.00</td>\n      <td>1.70</td>\n      <td>11.00</td>\n      <td>...</td>\n      <td>0.00</td>\n      <td>0.00</td>\n      <td>0.00</td>\n      <td>0.00</td>\n      <td>0.00</td>\n      <td>0.00</td>\n      <td>0.00</td>\n      <td>0.00</td>\n      <td>7.00</td>\n      <td>1.00</td>\n    </tr>\n    <tr>\n      <th>max</th>\n      <td>3296.00</td>\n      <td>3599.00</td>\n      <td>160.00</td>\n      <td>160.00</td>\n      <td>26.00</td>\n      <td>564.00</td>\n      <td>23.00</td>\n      <td>87.00</td>\n      <td>7.00</td>\n      <td>91.00</td>\n      <td>...</td>\n      <td>1.00</td>\n      <td>1.00</td>\n      <td>1.00</td>\n      <td>1.00</td>\n      <td>1.00</td>\n      <td>1.00</td>\n      <td>1.00</td>\n      <td>1.00</td>\n      <td>10.00</td>\n      <td>3.00</td>\n    </tr>\n  </tbody>\n</table>\n<p>8 rows × 37 columns</p>\n</div>"
          },
          "metadata": {}
        }
      ],
      "execution_count": 27,
      "metadata": {
        "collapsed": true,
        "gather": {
          "logged": 1608733336864
        },
        "id": "JE3Oyrw4PuhI",
        "jupyter": {
          "outputs_hidden": false,
          "source_hidden": false
        },
        "nteract": {
          "transient": {
            "deleting": false
          }
        },
        "outputId": "4cdcfc5a-3bd3-47a7-f0b1-446826bc921b"
      }
    },
    {
      "cell_type": "code",
      "source": [
        "# prepare dataset for model training\n",
        "#import sys\n",
        "#sys.path.insert(0,./training)\n",
        "\n",
        "from train import clean_data\n",
        "from sklearn.model_selection import train_test_split\n",
        "import pandas as pd\n",
        "\n",
        "# Clean dataset using the clean_data function\n",
        "x, y = clean_data(ds)\n",
        "\n",
        "# split dataset into train and test sets\n",
        "(x_train, x_test, y_train, y_test) = train_test_split(x, y, test_size= 0.3, random_state = 0)\n",
        "label = 'NSP'\n",
        "\n",
        "# merge the output x and y dataframes into a single table for AutoML experiment\n",
        "train_data_df = pd.concat([x_train, y_train], axis=1)\n",
        "\n",
        "train_data_df.head()"
      ],
      "outputs": [
        {
          "output_type": "execute_result",
          "execution_count": 28,
          "data": {
            "text/plain": "        b     e  LBE   LB  AC  FM  UC  ASTV  MSTV  ALTV  ...  C  D  E  AD  DE  \\\n994    44   831  129  129   3   0   1    27  1.20     1  ...  0  0  0   0   0   \n1618  848  2108  142  142   4  63   3    66  3.30     0  ...  0  0  0   1   0   \n177     0  1033  119  119   8   0   5    30  1.80     0  ...  0  0  0   0   0   \n519    25   679  126  126   5  26   3    42  1.50     0  ...  0  0  0   0   0   \n745   242  1014  142  142   1   0   4    23  3.60     0  ...  0  0  0   0   1   \n\n      LD  FS  SUSP  CLASS  NSP  \n994    0   0     0      2    1  \n1618   0   0     0      6    1  \n177    0   0     0      2    1  \n519    0   0     0      2    1  \n745    0   0     0      7    1  \n\n[5 rows x 37 columns]",
            "text/html": "<div>\n<style scoped>\n    .dataframe tbody tr th:only-of-type {\n        vertical-align: middle;\n    }\n\n    .dataframe tbody tr th {\n        vertical-align: top;\n    }\n\n    .dataframe thead th {\n        text-align: right;\n    }\n</style>\n<table border=\"1\" class=\"dataframe\">\n  <thead>\n    <tr style=\"text-align: right;\">\n      <th></th>\n      <th>b</th>\n      <th>e</th>\n      <th>LBE</th>\n      <th>LB</th>\n      <th>AC</th>\n      <th>FM</th>\n      <th>UC</th>\n      <th>ASTV</th>\n      <th>MSTV</th>\n      <th>ALTV</th>\n      <th>...</th>\n      <th>C</th>\n      <th>D</th>\n      <th>E</th>\n      <th>AD</th>\n      <th>DE</th>\n      <th>LD</th>\n      <th>FS</th>\n      <th>SUSP</th>\n      <th>CLASS</th>\n      <th>NSP</th>\n    </tr>\n  </thead>\n  <tbody>\n    <tr>\n      <th>994</th>\n      <td>44</td>\n      <td>831</td>\n      <td>129</td>\n      <td>129</td>\n      <td>3</td>\n      <td>0</td>\n      <td>1</td>\n      <td>27</td>\n      <td>1.20</td>\n      <td>1</td>\n      <td>...</td>\n      <td>0</td>\n      <td>0</td>\n      <td>0</td>\n      <td>0</td>\n      <td>0</td>\n      <td>0</td>\n      <td>0</td>\n      <td>0</td>\n      <td>2</td>\n      <td>1</td>\n    </tr>\n    <tr>\n      <th>1618</th>\n      <td>848</td>\n      <td>2108</td>\n      <td>142</td>\n      <td>142</td>\n      <td>4</td>\n      <td>63</td>\n      <td>3</td>\n      <td>66</td>\n      <td>3.30</td>\n      <td>0</td>\n      <td>...</td>\n      <td>0</td>\n      <td>0</td>\n      <td>0</td>\n      <td>1</td>\n      <td>0</td>\n      <td>0</td>\n      <td>0</td>\n      <td>0</td>\n      <td>6</td>\n      <td>1</td>\n    </tr>\n    <tr>\n      <th>177</th>\n      <td>0</td>\n      <td>1033</td>\n      <td>119</td>\n      <td>119</td>\n      <td>8</td>\n      <td>0</td>\n      <td>5</td>\n      <td>30</td>\n      <td>1.80</td>\n      <td>0</td>\n      <td>...</td>\n      <td>0</td>\n      <td>0</td>\n      <td>0</td>\n      <td>0</td>\n      <td>0</td>\n      <td>0</td>\n      <td>0</td>\n      <td>0</td>\n      <td>2</td>\n      <td>1</td>\n    </tr>\n    <tr>\n      <th>519</th>\n      <td>25</td>\n      <td>679</td>\n      <td>126</td>\n      <td>126</td>\n      <td>5</td>\n      <td>26</td>\n      <td>3</td>\n      <td>42</td>\n      <td>1.50</td>\n      <td>0</td>\n      <td>...</td>\n      <td>0</td>\n      <td>0</td>\n      <td>0</td>\n      <td>0</td>\n      <td>0</td>\n      <td>0</td>\n      <td>0</td>\n      <td>0</td>\n      <td>2</td>\n      <td>1</td>\n    </tr>\n    <tr>\n      <th>745</th>\n      <td>242</td>\n      <td>1014</td>\n      <td>142</td>\n      <td>142</td>\n      <td>1</td>\n      <td>0</td>\n      <td>4</td>\n      <td>23</td>\n      <td>3.60</td>\n      <td>0</td>\n      <td>...</td>\n      <td>0</td>\n      <td>0</td>\n      <td>0</td>\n      <td>0</td>\n      <td>1</td>\n      <td>0</td>\n      <td>0</td>\n      <td>0</td>\n      <td>7</td>\n      <td>1</td>\n    </tr>\n  </tbody>\n</table>\n<p>5 rows × 37 columns</p>\n</div>"
          },
          "metadata": {}
        }
      ],
      "execution_count": 28,
      "metadata": {
        "gather": {
          "logged": 1608733344539
        },
        "id": "gJ3td74ADEFk",
        "outputId": "3b431849-e5ce-44f1-c6ef-e629b95b658a"
      }
    },
    {
      "cell_type": "code",
      "source": [
        "# save training data in tabular format to allow for remote run\n",
        "if not os.path.isdir('data'):  # create data folder if it does not exist\n",
        "    os.mkdir('data')\n",
        "    \n",
        "if not os.path.exists('project_folder'):  # create project folder if it does not exist\n",
        "    os.makedirs('project_folder')\n",
        "\n",
        "# Save the train data to a csv file to be uploaded to the datastore\n",
        "pd.DataFrame(train_data_df).to_csv(\"data/train_data.csv\", index=False)\n",
        "\n",
        "# Upload the training data as a tabular dataset for access during training on remote compute\n",
        "# upload to data store\n",
        "ds = ws.get_default_datastore()\n",
        "ds.upload(src_dir='./data', target_path='automlclassifier', overwrite=True, show_progress=True)\n",
        "\n",
        " # access datastore during training on remote compute\n",
        "train_data = TabularDatasetFactory.from_delimited_files(path=ds.path('automlclassifier/train_data.csv'))\n"
      ],
      "outputs": [
        {
          "output_type": "stream",
          "name": "stdout",
          "text": [
            "Uploading an estimated of 1 files\n",
            "Uploading ./data/train_data.csv\n",
            "Uploaded ./data/train_data.csv, 1 files out of an estimated total of 1\n",
            "Uploaded 1 files\n"
          ]
        }
      ],
      "execution_count": 8,
      "metadata": {
        "gather": {
          "logged": 1608726115201
        },
        "id": "4k4BDeq6BemO",
        "outputId": "c13d04b1-97bd-4574-c955-87256f87a5df"
      }
    },
    {
      "cell_type": "markdown",
      "source": [
        "## AutoML Configuration\n",
        "\n",
        "TODO: Explain why you chose the automl settings and cofiguration you used below."
      ],
      "metadata": {
        "id": "4kn_ZqTj3NPM"
      }
    },
    {
      "cell_type": "code",
      "source": [
        "# Set parameters for AutoMLConfig\n",
        "\n",
        "# define autoconfig settings\n",
        "automl_settings = {\n",
        "    \"enable_early_stopping\" : True,\n",
        "    \"iteration_timeout_minutes\": 5,\n",
        "    \"max_concurrent_iterations\": 4,\n",
        "    \"max_cores_per_iteration\": -1,    \n",
        "    \"featurization\": 'auto',\n",
        "    \"verbosity\": logging.INFO,\n",
        "}\n",
        "\n",
        "# define automl autconfig parameters\n",
        "automl_config = AutoMLConfig(\n",
        "    experiment_timeout_minutes=30,\n",
        "    task= 'classification',\n",
        "    primary_metric='accuracy',\n",
        "    enable_onnx_compatible_models=True,\n",
        "    compute_target=cpu_cluster, # included to allow for remote compute\n",
        "    training_data= train_data,\n",
        "    label_column_name= label,\n",
        "    path = project_folder,\n",
        "    n_cross_validations=3,\n",
        "    debug_log = \"automl_errors.log\",    \n",
        "    **automl_settings)"
      ],
      "outputs": [],
      "execution_count": 29,
      "metadata": {
        "gather": {
          "logged": 1608733350983
        },
        "id": "_9-vppqt4xXt"
      }
    },
    {
      "cell_type": "code",
      "source": [
        "#Submit experiment for remote run\n",
        "automl_run = experiment.submit(automl_config, show_output = True)"
      ],
      "outputs": [
        {
          "output_type": "stream",
          "name": "stdout",
          "text": [
            "Running on remote.\n",
            "No run_configuration provided, running on automl-cluster with default configuration\n",
            "Running on remote compute: automl-cluster\n",
            "Parent Run ID: AutoML_54e35876-e6aa-4f8b-adc1-8e0f88d704e6\n",
            "\n",
            "Current status: FeaturesGeneration. Generating features for the dataset.\n",
            "Current status: DatasetCrossValidationSplit. Generating individually featurized CV splits.\n",
            "Current status: ModelSelection. Beginning model selection.\n",
            "\n",
            "****************************************************************************************************\n",
            "DATA GUARDRAILS: \n",
            "\n",
            "TYPE:         Class balancing detection\n",
            "STATUS:       ALERTED\n",
            "DESCRIPTION:  To decrease model bias, please cancel the current run and fix balancing problem.\n",
            "              Learn more about imbalanced data: https://aka.ms/AutomatedMLImbalancedData\n",
            "DETAILS:      Imbalanced data can lead to a falsely perceived positive effect of a model's accuracy because the input data has bias towards one class.\n",
            "+---------------------------------+---------------------------------+--------------------------------------+\n",
            "|Size of the smallest class       |Name/Label of the smallest class |Number of samples in the training data|\n",
            "+=================================+=================================+======================================+\n",
            "|118                              |3                                |1488                                  |\n",
            "+---------------------------------+---------------------------------+--------------------------------------+\n",
            "\n",
            "****************************************************************************************************\n",
            "\n",
            "TYPE:         High cardinality feature detection\n",
            "STATUS:       PASSED\n",
            "DESCRIPTION:  Your inputs were analyzed, and no high cardinality features were detected.\n",
            "              Learn more about high cardinality feature handling: https://aka.ms/AutomatedMLFeaturization\n",
            "\n",
            "****************************************************************************************************\n",
            "\n",
            "****************************************************************************************************\n",
            "ITERATION: The iteration being evaluated.\n",
            "PIPELINE: A summary description of the pipeline being evaluated.\n",
            "DURATION: Time taken for the current iteration.\n",
            "METRIC: The result of computing score on the fitted pipeline.\n",
            "BEST: The best observed score thus far.\n",
            "****************************************************************************************************\n",
            "\n",
            " ITERATION   PIPELINE                                       DURATION      METRIC      BEST\n",
            "         1   MaxAbsScaler XGBoostClassifier                 0:00:54       0.9892    0.9892\n",
            "         0   MaxAbsScaler LightGBM                          0:01:09       0.9886    0.9892\n",
            "         3   MinMaxScaler RandomForest                      0:00:57       0.8985    0.9892\n",
            "         6   SparseNormalizer XGBoostClassifier             0:00:55       0.9879    0.9892\n",
            "         7   MinMaxScaler SVM                               0:00:58       0.9892    0.9892\n",
            "         5   RobustScaler LightGBM                          0:03:31       0.9892    0.9892\n",
            "         2   MinMaxScaler RandomForest                      0:03:43       0.9751    0.9892\n",
            "         4   MinMaxScaler RandomForest                      0:03:42       0.9879    0.9892\n",
            "         8   MaxAbsScaler LightGBM                          0:00:52       0.9819    0.9892\n",
            "        11   SparseNormalizer XGBoostClassifier             0:00:53       0.9886    0.9892\n",
            "        10   MaxAbsScaler LightGBM                          0:01:01       0.9872    0.9892\n",
            "         9   RobustScaler RandomForest                      0:01:09       0.9866    0.9892\n",
            "        12   RobustScaler ExtremeRandomTrees                0:01:01       0.9866    0.9892\n",
            "        14   StandardScalerWrapper LogisticRegression       0:00:56       0.9825    0.9892\n",
            "        13   StandardScalerWrapper ExtremeRandomTrees       0:01:07       0.9563    0.9892\n",
            "        15   SparseNormalizer LightGBM                      0:01:01       0.9731    0.9892\n",
            "        16   StandardScalerWrapper XGBoostClassifier        0:00:56       0.9872    0.9892\n",
            "        17   StandardScalerWrapper GradientBoosting         0:01:09       0.9845    0.9892\n",
            "        18   SparseNormalizer XGBoostClassifier             0:01:01       0.9859    0.9892\n",
            "        19   SparseNormalizer XGBoostClassifier             0:00:59       0.9886    0.9892\n",
            "        20   SparseNormalizer XGBoostClassifier             0:00:57       0.9879    0.9892\n",
            "        21   StandardScalerWrapper XGBoostClassifier        0:00:51       0.9866    0.9892\n",
            "        22   StandardScalerWrapper XGBoostClassifier        0:00:57       0.9866    0.9892\n",
            "        23   SparseNormalizer XGBoostClassifier             0:00:54       0.9832    0.9892\n",
            "        24   SparseNormalizer XGBoostClassifier             0:01:05       0.9866    0.9892\n",
            "        25   PCA XGBoostClassifier                          0:01:03       0.7802    0.9892\n",
            "        27   RobustScaler LightGBM                          0:00:55       0.9859    0.9892\n",
            "        26   StandardScalerWrapper LightGBM                 0:01:06       0.9724    0.9892\n",
            "        28   MinMaxScaler LogisticRegression                0:01:03       0.9886    0.9892\n",
            "        29   SparseNormalizer XGBoostClassifier             0:00:57       0.9886    0.9892\n",
            "        30   TruncatedSVDWrapper XGBoostClassifier          0:00:59       0.9745    0.9892\n",
            "        31   SparseNormalizer XGBoostClassifier             0:00:56       0.9879    0.9892\n",
            "        32   SparseNormalizer XGBoostClassifier             0:01:00       0.9819    0.9892\n",
            "        34                                                  0:00:19          nan    0.9892\n",
            "        35                                                  0:00:17          nan    0.9892\n",
            "        33                                                  0:00:34          nan    0.9892\n",
            "        36    VotingEnsemble                                0:01:25       0.9906    0.9906\n"
          ]
        }
      ],
      "execution_count": 30,
      "metadata": {
        "gather": {
          "logged": 1608734848447
        },
        "id": "NwL2M_5e3NPM",
        "jupyter": {
          "outputs_hidden": false,
          "source_hidden": false
        },
        "nteract": {
          "transient": {
            "deleting": false
          }
        },
        "outputId": "dfe1b257-ac89-4055-b836-ed70e9cf1386"
      }
    },
    {
      "cell_type": "markdown",
      "source": [
        "## Run Details\n",
        "\n",
        "OPTIONAL: Write about the different models trained and their performance. Why do you think some models did better than others?\n",
        "\n",
        "TODO: In the cell below, use the `RunDetails` widget to show the different experiments."
      ],
      "metadata": {
        "id": "OmlluTv53NPN"
      }
    },
    {
      "cell_type": "code",
      "source": [
        "# show run details\n",
        "from azureml.widgets import RunDetails\n",
        "RunDetails(automl_run).show()\n",
        "\n",
        "# wait for completion\n",
        "automl_run.wait_for_completion(show_output=True)\n"
      ],
      "outputs": [
        {
          "output_type": "stream",
          "name": "stdout",
          "text": [
            "\n",
            "\n",
            "****************************************************************************************************\n",
            "DATA GUARDRAILS: \n",
            "\n",
            "TYPE:         Class balancing detection\n",
            "STATUS:       ALERTED\n",
            "DESCRIPTION:  To decrease model bias, please cancel the current run and fix balancing problem.\n",
            "              Learn more about imbalanced data: https://aka.ms/AutomatedMLImbalancedData\n",
            "DETAILS:      Imbalanced data can lead to a falsely perceived positive effect of a model's accuracy because the input data has bias towards one class.\n",
            "+---------------------------------+---------------------------------+--------------------------------------+\n",
            "|Size of the smallest class       |Name/Label of the smallest class |Number of samples in the training data|\n",
            "+=================================+=================================+======================================+\n",
            "|118                              |3                                |1488                                  |\n",
            "+---------------------------------+---------------------------------+--------------------------------------+\n"
          ]
        },
        {
          "output_type": "display_data",
          "data": {
            "text/plain": "_AutoMLWidget(widget_settings={'childWidgetDisplay': 'popup', 'send_telemetry': False, 'log_level': 'INFO', 's…",
            "application/vnd.jupyter.widget-view+json": {
              "version_major": 2,
              "version_minor": 0,
              "model_id": "a8d4f270067f431d8b64006ab74b1c51"
            }
          },
          "metadata": {}
        },
        {
          "output_type": "display_data",
          "data": {
            "application/aml.mini.widget.v1": "{\"status\": \"Completed\", \"workbench_run_details_uri\": \"https://ml.azure.com/experiments/ctg_experiment/runs/AutoML_54e35876-e6aa-4f8b-adc1-8e0f88d704e6?wsid=/subscriptions/d4ad7261-832d-46b2-b093-22156001df5b/resourcegroups/aml-quickstarts-131472/workspaces/quick-starts-ws-131472\", \"run_id\": \"AutoML_54e35876-e6aa-4f8b-adc1-8e0f88d704e6\", \"run_properties\": {\"run_id\": \"AutoML_54e35876-e6aa-4f8b-adc1-8e0f88d704e6\", \"created_utc\": \"2020-12-23T14:22:36.300346Z\", \"properties\": {\"num_iterations\": \"1000\", \"training_type\": \"TrainFull\", \"acquisition_function\": \"EI\", \"primary_metric\": \"accuracy\", \"train_split\": \"0\", \"acquisition_parameter\": \"0\", \"num_cross_validation\": \"3\", \"target\": \"automl-cluster\", \"AMLSettingsJsonString\": \"{\\\"path\\\":null,\\\"name\\\":\\\"ctg_experiment\\\",\\\"subscription_id\\\":\\\"d4ad7261-832d-46b2-b093-22156001df5b\\\",\\\"resource_group\\\":\\\"aml-quickstarts-131472\\\",\\\"workspace_name\\\":\\\"quick-starts-ws-131472\\\",\\\"region\\\":\\\"southcentralus\\\",\\\"compute_target\\\":\\\"automl-cluster\\\",\\\"spark_service\\\":null,\\\"azure_service\\\":\\\"remote\\\",\\\"many_models\\\":false,\\\"pipeline_fetch_max_batch_size\\\":1,\\\"iterations\\\":1000,\\\"primary_metric\\\":\\\"accuracy\\\",\\\"task_type\\\":\\\"classification\\\",\\\"data_script\\\":null,\\\"validation_size\\\":0.0,\\\"n_cross_validations\\\":3,\\\"y_min\\\":null,\\\"y_max\\\":null,\\\"num_classes\\\":null,\\\"featurization\\\":\\\"auto\\\",\\\"_ignore_package_version_incompatibilities\\\":false,\\\"is_timeseries\\\":false,\\\"max_cores_per_iteration\\\":-1,\\\"max_concurrent_iterations\\\":4,\\\"iteration_timeout_minutes\\\":5,\\\"mem_in_mb\\\":null,\\\"enforce_time_on_windows\\\":false,\\\"experiment_timeout_minutes\\\":30,\\\"experiment_exit_score\\\":null,\\\"whitelist_models\\\":null,\\\"blacklist_algos\\\":[\\\"TensorFlowLinearClassifier\\\",\\\"TensorFlowDNN\\\"],\\\"supported_models\\\":[\\\"KNN\\\",\\\"TensorFlowDNN\\\",\\\"SGD\\\",\\\"ExtremeRandomTrees\\\",\\\"XGBoostClassifier\\\",\\\"AveragedPerceptronClassifier\\\",\\\"SVM\\\",\\\"BernoulliNaiveBayes\\\",\\\"MultinomialNaiveBayes\\\",\\\"LinearSVM\\\",\\\"GradientBoosting\\\",\\\"LogisticRegression\\\",\\\"TensorFlowLinearClassifier\\\",\\\"DecisionTree\\\",\\\"RandomForest\\\",\\\"LightGBM\\\"],\\\"auto_blacklist\\\":true,\\\"blacklist_samples_reached\\\":false,\\\"exclude_nan_labels\\\":true,\\\"verbosity\\\":20,\\\"_debug_log\\\":\\\"azureml_automl.log\\\",\\\"show_warnings\\\":false,\\\"model_explainability\\\":true,\\\"service_url\\\":null,\\\"sdk_url\\\":null,\\\"sdk_packages\\\":null,\\\"enable_onnx_compatible_models\\\":true,\\\"enable_split_onnx_featurizer_estimator_models\\\":false,\\\"vm_type\\\":\\\"STANDARD_D2_V2\\\",\\\"telemetry_verbosity\\\":20,\\\"send_telemetry\\\":true,\\\"enable_dnn\\\":false,\\\"scenario\\\":\\\"SDK-1.13.0\\\",\\\"environment_label\\\":null,\\\"force_text_dnn\\\":false,\\\"enable_feature_sweeping\\\":false,\\\"enable_early_stopping\\\":true,\\\"early_stopping_n_iters\\\":10,\\\"metrics\\\":null,\\\"enable_ensembling\\\":true,\\\"enable_stack_ensembling\\\":false,\\\"ensemble_iterations\\\":15,\\\"enable_tf\\\":false,\\\"enable_subsampling\\\":null,\\\"subsample_seed\\\":null,\\\"enable_nimbusml\\\":false,\\\"enable_streaming\\\":false,\\\"force_streaming\\\":false,\\\"track_child_runs\\\":true,\\\"allowed_private_models\\\":[],\\\"label_column_name\\\":\\\"NSP\\\",\\\"weight_column_name\\\":null,\\\"cv_split_column_names\\\":null,\\\"enable_local_managed\\\":false,\\\"_local_managed_run_id\\\":null,\\\"cost_mode\\\":1,\\\"lag_length\\\":0,\\\"metric_operation\\\":\\\"maximize\\\",\\\"preprocess\\\":true}\", \"DataPrepJsonString\": \"{\\\\\\\"training_data\\\\\\\": \\\\\\\"{\\\\\\\\\\\\\\\"blocks\\\\\\\\\\\\\\\": [{\\\\\\\\\\\\\\\"id\\\\\\\\\\\\\\\": \\\\\\\\\\\\\\\"d2a991cc-14e4-4850-a196-51ba69f5120b\\\\\\\\\\\\\\\", \\\\\\\\\\\\\\\"type\\\\\\\\\\\\\\\": \\\\\\\\\\\\\\\"Microsoft.DPrep.GetDatastoreFilesBlock\\\\\\\\\\\\\\\", \\\\\\\\\\\\\\\"arguments\\\\\\\\\\\\\\\": {\\\\\\\\\\\\\\\"datastores\\\\\\\\\\\\\\\": [{\\\\\\\\\\\\\\\"datastoreName\\\\\\\\\\\\\\\": \\\\\\\\\\\\\\\"workspaceblobstore\\\\\\\\\\\\\\\", \\\\\\\\\\\\\\\"path\\\\\\\\\\\\\\\": \\\\\\\\\\\\\\\"automlclassifier/train_data.csv\\\\\\\\\\\\\\\", \\\\\\\\\\\\\\\"resourceGroup\\\\\\\\\\\\\\\": \\\\\\\\\\\\\\\"aml-quickstarts-131472\\\\\\\\\\\\\\\", \\\\\\\\\\\\\\\"subscription\\\\\\\\\\\\\\\": \\\\\\\\\\\\\\\"d4ad7261-832d-46b2-b093-22156001df5b\\\\\\\\\\\\\\\", \\\\\\\\\\\\\\\"workspaceName\\\\\\\\\\\\\\\": \\\\\\\\\\\\\\\"quick-starts-ws-131472\\\\\\\\\\\\\\\"}]}, \\\\\\\\\\\\\\\"localData\\\\\\\\\\\\\\\": {}, \\\\\\\\\\\\\\\"isEnabled\\\\\\\\\\\\\\\": true, \\\\\\\\\\\\\\\"name\\\\\\\\\\\\\\\": null, \\\\\\\\\\\\\\\"annotation\\\\\\\\\\\\\\\": null}, {\\\\\\\\\\\\\\\"id\\\\\\\\\\\\\\\": \\\\\\\\\\\\\\\"93c2c575-7578-4925-bcc1-f5138381d0e2\\\\\\\\\\\\\\\", \\\\\\\\\\\\\\\"type\\\\\\\\\\\\\\\": \\\\\\\\\\\\\\\"Microsoft.DPrep.ParseDelimitedBlock\\\\\\\\\\\\\\\", \\\\\\\\\\\\\\\"arguments\\\\\\\\\\\\\\\": {\\\\\\\\\\\\\\\"columnHeadersMode\\\\\\\\\\\\\\\": 3, \\\\\\\\\\\\\\\"fileEncoding\\\\\\\\\\\\\\\": 0, \\\\\\\\\\\\\\\"handleQuotedLineBreaks\\\\\\\\\\\\\\\": false, \\\\\\\\\\\\\\\"preview\\\\\\\\\\\\\\\": false, \\\\\\\\\\\\\\\"separator\\\\\\\\\\\\\\\": \\\\\\\\\\\\\\\",\\\\\\\\\\\\\\\", \\\\\\\\\\\\\\\"skipRows\\\\\\\\\\\\\\\": 0, \\\\\\\\\\\\\\\"skipRowsMode\\\\\\\\\\\\\\\": 0}, \\\\\\\\\\\\\\\"localData\\\\\\\\\\\\\\\": {}, \\\\\\\\\\\\\\\"isEnabled\\\\\\\\\\\\\\\": true, \\\\\\\\\\\\\\\"name\\\\\\\\\\\\\\\": null, \\\\\\\\\\\\\\\"annotation\\\\\\\\\\\\\\\": null}, {\\\\\\\\\\\\\\\"id\\\\\\\\\\\\\\\": \\\\\\\\\\\\\\\"a5c893d8-4dcc-485b-9478-9885994722a5\\\\\\\\\\\\\\\", \\\\\\\\\\\\\\\"type\\\\\\\\\\\\\\\": \\\\\\\\\\\\\\\"Microsoft.DPrep.DropColumnsBlock\\\\\\\\\\\\\\\", \\\\\\\\\\\\\\\"arguments\\\\\\\\\\\\\\\": {\\\\\\\\\\\\\\\"columns\\\\\\\\\\\\\\\": {\\\\\\\\\\\\\\\"type\\\\\\\\\\\\\\\": 0, \\\\\\\\\\\\\\\"details\\\\\\\\\\\\\\\": {\\\\\\\\\\\\\\\"selectedColumns\\\\\\\\\\\\\\\": [\\\\\\\\\\\\\\\"Path\\\\\\\\\\\\\\\"]}}}, \\\\\\\\\\\\\\\"localData\\\\\\\\\\\\\\\": {}, \\\\\\\\\\\\\\\"isEnabled\\\\\\\\\\\\\\\": true, \\\\\\\\\\\\\\\"name\\\\\\\\\\\\\\\": null, \\\\\\\\\\\\\\\"annotation\\\\\\\\\\\\\\\": null}, {\\\\\\\\\\\\\\\"id\\\\\\\\\\\\\\\": \\\\\\\\\\\\\\\"79ba435a-4ba2-480b-88ce-761aa9ed19c0\\\\\\\\\\\\\\\", \\\\\\\\\\\\\\\"type\\\\\\\\\\\\\\\": \\\\\\\\\\\\\\\"Microsoft.DPrep.SetColumnTypesBlock\\\\\\\\\\\\\\\", \\\\\\\\\\\\\\\"arguments\\\\\\\\\\\\\\\": {\\\\\\\\\\\\\\\"columnConversion\\\\\\\\\\\\\\\": [{\\\\\\\\\\\\\\\"column\\\\\\\\\\\\\\\": {\\\\\\\\\\\\\\\"type\\\\\\\\\\\\\\\": 2, \\\\\\\\\\\\\\\"details\\\\\\\\\\\\\\\": {\\\\\\\\\\\\\\\"selectedColumn\\\\\\\\\\\\\\\": \\\\\\\\\\\\\\\"b\\\\\\\\\\\\\\\"}}, \\\\\\\\\\\\\\\"typeProperty\\\\\\\\\\\\\\\": 2}, {\\\\\\\\\\\\\\\"column\\\\\\\\\\\\\\\": {\\\\\\\\\\\\\\\"type\\\\\\\\\\\\\\\": 2, \\\\\\\\\\\\\\\"details\\\\\\\\\\\\\\\": {\\\\\\\\\\\\\\\"selectedColumn\\\\\\\\\\\\\\\": \\\\\\\\\\\\\\\"e\\\\\\\\\\\\\\\"}}, \\\\\\\\\\\\\\\"typeProperty\\\\\\\\\\\\\\\": 2}, {\\\\\\\\\\\\\\\"column\\\\\\\\\\\\\\\": {\\\\\\\\\\\\\\\"type\\\\\\\\\\\\\\\": 2, \\\\\\\\\\\\\\\"details\\\\\\\\\\\\\\\": {\\\\\\\\\\\\\\\"selectedColumn\\\\\\\\\\\\\\\": \\\\\\\\\\\\\\\"LBE\\\\\\\\\\\\\\\"}}, \\\\\\\\\\\\\\\"typeProperty\\\\\\\\\\\\\\\": 2}, {\\\\\\\\\\\\\\\"column\\\\\\\\\\\\\\\": {\\\\\\\\\\\\\\\"type\\\\\\\\\\\\\\\": 2, \\\\\\\\\\\\\\\"details\\\\\\\\\\\\\\\": {\\\\\\\\\\\\\\\"selectedColumn\\\\\\\\\\\\\\\": \\\\\\\\\\\\\\\"LB\\\\\\\\\\\\\\\"}}, \\\\\\\\\\\\\\\"typeProperty\\\\\\\\\\\\\\\": 2}, {\\\\\\\\\\\\\\\"column\\\\\\\\\\\\\\\": {\\\\\\\\\\\\\\\"type\\\\\\\\\\\\\\\": 2, \\\\\\\\\\\\\\\"details\\\\\\\\\\\\\\\": {\\\\\\\\\\\\\\\"selectedColumn\\\\\\\\\\\\\\\": \\\\\\\\\\\\\\\"AC\\\\\\\\\\\\\\\"}}, \\\\\\\\\\\\\\\"typeProperty\\\\\\\\\\\\\\\": 2}, {\\\\\\\\\\\\\\\"column\\\\\\\\\\\\\\\": {\\\\\\\\\\\\\\\"type\\\\\\\\\\\\\\\": 2, \\\\\\\\\\\\\\\"details\\\\\\\\\\\\\\\": {\\\\\\\\\\\\\\\"selectedColumn\\\\\\\\\\\\\\\": \\\\\\\\\\\\\\\"FM\\\\\\\\\\\\\\\"}}, \\\\\\\\\\\\\\\"typeProperty\\\\\\\\\\\\\\\": 2}, {\\\\\\\\\\\\\\\"column\\\\\\\\\\\\\\\": {\\\\\\\\\\\\\\\"type\\\\\\\\\\\\\\\": 2, \\\\\\\\\\\\\\\"details\\\\\\\\\\\\\\\": {\\\\\\\\\\\\\\\"selectedColumn\\\\\\\\\\\\\\\": \\\\\\\\\\\\\\\"UC\\\\\\\\\\\\\\\"}}, \\\\\\\\\\\\\\\"typeProperty\\\\\\\\\\\\\\\": 2}, {\\\\\\\\\\\\\\\"column\\\\\\\\\\\\\\\": {\\\\\\\\\\\\\\\"type\\\\\\\\\\\\\\\": 2, \\\\\\\\\\\\\\\"details\\\\\\\\\\\\\\\": {\\\\\\\\\\\\\\\"selectedColumn\\\\\\\\\\\\\\\": \\\\\\\\\\\\\\\"ASTV\\\\\\\\\\\\\\\"}}, \\\\\\\\\\\\\\\"typeProperty\\\\\\\\\\\\\\\": 2}, {\\\\\\\\\\\\\\\"column\\\\\\\\\\\\\\\": {\\\\\\\\\\\\\\\"type\\\\\\\\\\\\\\\": 2, \\\\\\\\\\\\\\\"details\\\\\\\\\\\\\\\": {\\\\\\\\\\\\\\\"selectedColumn\\\\\\\\\\\\\\\": \\\\\\\\\\\\\\\"MSTV\\\\\\\\\\\\\\\"}}, \\\\\\\\\\\\\\\"typeProperty\\\\\\\\\\\\\\\": 3}, {\\\\\\\\\\\\\\\"column\\\\\\\\\\\\\\\": {\\\\\\\\\\\\\\\"type\\\\\\\\\\\\\\\": 2, \\\\\\\\\\\\\\\"details\\\\\\\\\\\\\\\": {\\\\\\\\\\\\\\\"selectedColumn\\\\\\\\\\\\\\\": \\\\\\\\\\\\\\\"ALTV\\\\\\\\\\\\\\\"}}, \\\\\\\\\\\\\\\"typeProperty\\\\\\\\\\\\\\\": 2}, {\\\\\\\\\\\\\\\"column\\\\\\\\\\\\\\\": {\\\\\\\\\\\\\\\"type\\\\\\\\\\\\\\\": 2, \\\\\\\\\\\\\\\"details\\\\\\\\\\\\\\\": {\\\\\\\\\\\\\\\"selectedColumn\\\\\\\\\\\\\\\": \\\\\\\\\\\\\\\"MLTV\\\\\\\\\\\\\\\"}}, \\\\\\\\\\\\\\\"typeProperty\\\\\\\\\\\\\\\": 3}, {\\\\\\\\\\\\\\\"column\\\\\\\\\\\\\\\": {\\\\\\\\\\\\\\\"type\\\\\\\\\\\\\\\": 2, \\\\\\\\\\\\\\\"details\\\\\\\\\\\\\\\": {\\\\\\\\\\\\\\\"selectedColumn\\\\\\\\\\\\\\\": \\\\\\\\\\\\\\\"DL\\\\\\\\\\\\\\\"}}, \\\\\\\\\\\\\\\"typeProperty\\\\\\\\\\\\\\\": 2}, {\\\\\\\\\\\\\\\"column\\\\\\\\\\\\\\\": {\\\\\\\\\\\\\\\"type\\\\\\\\\\\\\\\": 2, \\\\\\\\\\\\\\\"details\\\\\\\\\\\\\\\": {\\\\\\\\\\\\\\\"selectedColumn\\\\\\\\\\\\\\\": \\\\\\\\\\\\\\\"DS\\\\\\\\\\\\\\\"}}, \\\\\\\\\\\\\\\"typeProperty\\\\\\\\\\\\\\\": 2}, {\\\\\\\\\\\\\\\"column\\\\\\\\\\\\\\\": {\\\\\\\\\\\\\\\"type\\\\\\\\\\\\\\\": 2, \\\\\\\\\\\\\\\"details\\\\\\\\\\\\\\\": {\\\\\\\\\\\\\\\"selectedColumn\\\\\\\\\\\\\\\": \\\\\\\\\\\\\\\"DP\\\\\\\\\\\\\\\"}}, \\\\\\\\\\\\\\\"typeProperty\\\\\\\\\\\\\\\": 2}, {\\\\\\\\\\\\\\\"column\\\\\\\\\\\\\\\": {\\\\\\\\\\\\\\\"type\\\\\\\\\\\\\\\": 2, \\\\\\\\\\\\\\\"details\\\\\\\\\\\\\\\": {\\\\\\\\\\\\\\\"selectedColumn\\\\\\\\\\\\\\\": \\\\\\\\\\\\\\\"DR\\\\\\\\\\\\\\\"}}, \\\\\\\\\\\\\\\"typeProperty\\\\\\\\\\\\\\\": 2}, {\\\\\\\\\\\\\\\"column\\\\\\\\\\\\\\\": {\\\\\\\\\\\\\\\"type\\\\\\\\\\\\\\\": 2, \\\\\\\\\\\\\\\"details\\\\\\\\\\\\\\\": {\\\\\\\\\\\\\\\"selectedColumn\\\\\\\\\\\\\\\": \\\\\\\\\\\\\\\"Width\\\\\\\\\\\\\\\"}}, \\\\\\\\\\\\\\\"typeProperty\\\\\\\\\\\\\\\": 2}, {\\\\\\\\\\\\\\\"column\\\\\\\\\\\\\\\": {\\\\\\\\\\\\\\\"type\\\\\\\\\\\\\\\": 2, \\\\\\\\\\\\\\\"details\\\\\\\\\\\\\\\": {\\\\\\\\\\\\\\\"selectedColumn\\\\\\\\\\\\\\\": \\\\\\\\\\\\\\\"Min\\\\\\\\\\\\\\\"}}, \\\\\\\\\\\\\\\"typeProperty\\\\\\\\\\\\\\\": 2}, {\\\\\\\\\\\\\\\"column\\\\\\\\\\\\\\\": {\\\\\\\\\\\\\\\"type\\\\\\\\\\\\\\\": 2, \\\\\\\\\\\\\\\"details\\\\\\\\\\\\\\\": {\\\\\\\\\\\\\\\"selectedColumn\\\\\\\\\\\\\\\": \\\\\\\\\\\\\\\"Max\\\\\\\\\\\\\\\"}}, \\\\\\\\\\\\\\\"typeProperty\\\\\\\\\\\\\\\": 2}, {\\\\\\\\\\\\\\\"column\\\\\\\\\\\\\\\": {\\\\\\\\\\\\\\\"type\\\\\\\\\\\\\\\": 2, \\\\\\\\\\\\\\\"details\\\\\\\\\\\\\\\": {\\\\\\\\\\\\\\\"selectedColumn\\\\\\\\\\\\\\\": \\\\\\\\\\\\\\\"Nmax\\\\\\\\\\\\\\\"}}, \\\\\\\\\\\\\\\"typeProperty\\\\\\\\\\\\\\\": 2}, {\\\\\\\\\\\\\\\"column\\\\\\\\\\\\\\\": {\\\\\\\\\\\\\\\"type\\\\\\\\\\\\\\\": 2, \\\\\\\\\\\\\\\"details\\\\\\\\\\\\\\\": {\\\\\\\\\\\\\\\"selectedColumn\\\\\\\\\\\\\\\": \\\\\\\\\\\\\\\"Nzeros\\\\\\\\\\\\\\\"}}, \\\\\\\\\\\\\\\"typeProperty\\\\\\\\\\\\\\\": 2}, {\\\\\\\\\\\\\\\"column\\\\\\\\\\\\\\\": {\\\\\\\\\\\\\\\"type\\\\\\\\\\\\\\\": 2, \\\\\\\\\\\\\\\"details\\\\\\\\\\\\\\\": {\\\\\\\\\\\\\\\"selectedColumn\\\\\\\\\\\\\\\": \\\\\\\\\\\\\\\"Mode\\\\\\\\\\\\\\\"}}, \\\\\\\\\\\\\\\"typeProperty\\\\\\\\\\\\\\\": 2}, {\\\\\\\\\\\\\\\"column\\\\\\\\\\\\\\\": {\\\\\\\\\\\\\\\"type\\\\\\\\\\\\\\\": 2, \\\\\\\\\\\\\\\"details\\\\\\\\\\\\\\\": {\\\\\\\\\\\\\\\"selectedColumn\\\\\\\\\\\\\\\": \\\\\\\\\\\\\\\"Mean\\\\\\\\\\\\\\\"}}, \\\\\\\\\\\\\\\"typeProperty\\\\\\\\\\\\\\\": 2}, {\\\\\\\\\\\\\\\"column\\\\\\\\\\\\\\\": {\\\\\\\\\\\\\\\"type\\\\\\\\\\\\\\\": 2, \\\\\\\\\\\\\\\"details\\\\\\\\\\\\\\\": {\\\\\\\\\\\\\\\"selectedColumn\\\\\\\\\\\\\\\": \\\\\\\\\\\\\\\"Median\\\\\\\\\\\\\\\"}}, \\\\\\\\\\\\\\\"typeProperty\\\\\\\\\\\\\\\": 2}, {\\\\\\\\\\\\\\\"column\\\\\\\\\\\\\\\": {\\\\\\\\\\\\\\\"type\\\\\\\\\\\\\\\": 2, \\\\\\\\\\\\\\\"details\\\\\\\\\\\\\\\": {\\\\\\\\\\\\\\\"selectedColumn\\\\\\\\\\\\\\\": \\\\\\\\\\\\\\\"Variance\\\\\\\\\\\\\\\"}}, \\\\\\\\\\\\\\\"typeProperty\\\\\\\\\\\\\\\": 2}, {\\\\\\\\\\\\\\\"column\\\\\\\\\\\\\\\": {\\\\\\\\\\\\\\\"type\\\\\\\\\\\\\\\": 2, \\\\\\\\\\\\\\\"details\\\\\\\\\\\\\\\": {\\\\\\\\\\\\\\\"selectedColumn\\\\\\\\\\\\\\\": \\\\\\\\\\\\\\\"Tendency\\\\\\\\\\\\\\\"}}, \\\\\\\\\\\\\\\"typeProperty\\\\\\\\\\\\\\\": 2}, {\\\\\\\\\\\\\\\"column\\\\\\\\\\\\\\\": {\\\\\\\\\\\\\\\"type\\\\\\\\\\\\\\\": 2, \\\\\\\\\\\\\\\"details\\\\\\\\\\\\\\\": {\\\\\\\\\\\\\\\"selectedColumn\\\\\\\\\\\\\\\": \\\\\\\\\\\\\\\"A\\\\\\\\\\\\\\\"}}, \\\\\\\\\\\\\\\"typeProperty\\\\\\\\\\\\\\\": 2}, {\\\\\\\\\\\\\\\"column\\\\\\\\\\\\\\\": {\\\\\\\\\\\\\\\"type\\\\\\\\\\\\\\\": 2, \\\\\\\\\\\\\\\"details\\\\\\\\\\\\\\\": {\\\\\\\\\\\\\\\"selectedColumn\\\\\\\\\\\\\\\": \\\\\\\\\\\\\\\"B\\\\\\\\\\\\\\\"}}, \\\\\\\\\\\\\\\"typeProperty\\\\\\\\\\\\\\\": 2}, {\\\\\\\\\\\\\\\"column\\\\\\\\\\\\\\\": {\\\\\\\\\\\\\\\"type\\\\\\\\\\\\\\\": 2, \\\\\\\\\\\\\\\"details\\\\\\\\\\\\\\\": {\\\\\\\\\\\\\\\"selectedColumn\\\\\\\\\\\\\\\": \\\\\\\\\\\\\\\"C\\\\\\\\\\\\\\\"}}, \\\\\\\\\\\\\\\"typeProperty\\\\\\\\\\\\\\\": 2}, {\\\\\\\\\\\\\\\"column\\\\\\\\\\\\\\\": {\\\\\\\\\\\\\\\"type\\\\\\\\\\\\\\\": 2, \\\\\\\\\\\\\\\"details\\\\\\\\\\\\\\\": {\\\\\\\\\\\\\\\"selectedColumn\\\\\\\\\\\\\\\": \\\\\\\\\\\\\\\"D\\\\\\\\\\\\\\\"}}, \\\\\\\\\\\\\\\"typeProperty\\\\\\\\\\\\\\\": 2}, {\\\\\\\\\\\\\\\"column\\\\\\\\\\\\\\\": {\\\\\\\\\\\\\\\"type\\\\\\\\\\\\\\\": 2, \\\\\\\\\\\\\\\"details\\\\\\\\\\\\\\\": {\\\\\\\\\\\\\\\"selectedColumn\\\\\\\\\\\\\\\": \\\\\\\\\\\\\\\"E\\\\\\\\\\\\\\\"}}, \\\\\\\\\\\\\\\"typeProperty\\\\\\\\\\\\\\\": 2}, {\\\\\\\\\\\\\\\"column\\\\\\\\\\\\\\\": {\\\\\\\\\\\\\\\"type\\\\\\\\\\\\\\\": 2, \\\\\\\\\\\\\\\"details\\\\\\\\\\\\\\\": {\\\\\\\\\\\\\\\"selectedColumn\\\\\\\\\\\\\\\": \\\\\\\\\\\\\\\"AD\\\\\\\\\\\\\\\"}}, \\\\\\\\\\\\\\\"typeProperty\\\\\\\\\\\\\\\": 2}, {\\\\\\\\\\\\\\\"column\\\\\\\\\\\\\\\": {\\\\\\\\\\\\\\\"type\\\\\\\\\\\\\\\": 2, \\\\\\\\\\\\\\\"details\\\\\\\\\\\\\\\": {\\\\\\\\\\\\\\\"selectedColumn\\\\\\\\\\\\\\\": \\\\\\\\\\\\\\\"DE\\\\\\\\\\\\\\\"}}, \\\\\\\\\\\\\\\"typeProperty\\\\\\\\\\\\\\\": 2}, {\\\\\\\\\\\\\\\"column\\\\\\\\\\\\\\\": {\\\\\\\\\\\\\\\"type\\\\\\\\\\\\\\\": 2, \\\\\\\\\\\\\\\"details\\\\\\\\\\\\\\\": {\\\\\\\\\\\\\\\"selectedColumn\\\\\\\\\\\\\\\": \\\\\\\\\\\\\\\"LD\\\\\\\\\\\\\\\"}}, \\\\\\\\\\\\\\\"typeProperty\\\\\\\\\\\\\\\": 2}, {\\\\\\\\\\\\\\\"column\\\\\\\\\\\\\\\": {\\\\\\\\\\\\\\\"type\\\\\\\\\\\\\\\": 2, \\\\\\\\\\\\\\\"details\\\\\\\\\\\\\\\": {\\\\\\\\\\\\\\\"selectedColumn\\\\\\\\\\\\\\\": \\\\\\\\\\\\\\\"FS\\\\\\\\\\\\\\\"}}, \\\\\\\\\\\\\\\"typeProperty\\\\\\\\\\\\\\\": 2}, {\\\\\\\\\\\\\\\"column\\\\\\\\\\\\\\\": {\\\\\\\\\\\\\\\"type\\\\\\\\\\\\\\\": 2, \\\\\\\\\\\\\\\"details\\\\\\\\\\\\\\\": {\\\\\\\\\\\\\\\"selectedColumn\\\\\\\\\\\\\\\": \\\\\\\\\\\\\\\"SUSP\\\\\\\\\\\\\\\"}}, \\\\\\\\\\\\\\\"typeProperty\\\\\\\\\\\\\\\": 2}, {\\\\\\\\\\\\\\\"column\\\\\\\\\\\\\\\": {\\\\\\\\\\\\\\\"type\\\\\\\\\\\\\\\": 2, \\\\\\\\\\\\\\\"details\\\\\\\\\\\\\\\": {\\\\\\\\\\\\\\\"selectedColumn\\\\\\\\\\\\\\\": \\\\\\\\\\\\\\\"CLASS\\\\\\\\\\\\\\\"}}, \\\\\\\\\\\\\\\"typeProperty\\\\\\\\\\\\\\\": 2}, {\\\\\\\\\\\\\\\"column\\\\\\\\\\\\\\\": {\\\\\\\\\\\\\\\"type\\\\\\\\\\\\\\\": 2, \\\\\\\\\\\\\\\"details\\\\\\\\\\\\\\\": {\\\\\\\\\\\\\\\"selectedColumn\\\\\\\\\\\\\\\": \\\\\\\\\\\\\\\"NSP\\\\\\\\\\\\\\\"}}, \\\\\\\\\\\\\\\"typeProperty\\\\\\\\\\\\\\\": 2}]}, \\\\\\\\\\\\\\\"localData\\\\\\\\\\\\\\\": {}, \\\\\\\\\\\\\\\"isEnabled\\\\\\\\\\\\\\\": true, \\\\\\\\\\\\\\\"name\\\\\\\\\\\\\\\": null, \\\\\\\\\\\\\\\"annotation\\\\\\\\\\\\\\\": null}], \\\\\\\\\\\\\\\"inspectors\\\\\\\\\\\\\\\": [], \\\\\\\\\\\\\\\"meta\\\\\\\\\\\\\\\": {\\\\\\\\\\\\\\\"savedDatasetId\\\\\\\\\\\\\\\": \\\\\\\\\\\\\\\"0b840977-e974-4960-8dbb-3038087a4757\\\\\\\\\\\\\\\", \\\\\\\\\\\\\\\"datasetType\\\\\\\\\\\\\\\": \\\\\\\\\\\\\\\"tabular\\\\\\\\\\\\\\\", \\\\\\\\\\\\\\\"subscriptionId\\\\\\\\\\\\\\\": \\\\\\\\\\\\\\\"d4ad7261-832d-46b2-b093-22156001df5b\\\\\\\\\\\\\\\", \\\\\\\\\\\\\\\"workspaceId\\\\\\\\\\\\\\\": \\\\\\\\\\\\\\\"550eac64-c389-4f68-8dde-ff09b85469f0\\\\\\\\\\\\\\\", \\\\\\\\\\\\\\\"workspaceLocation\\\\\\\\\\\\\\\": \\\\\\\\\\\\\\\"southcentralus\\\\\\\\\\\\\\\"}}\\\\\\\", \\\\\\\"activities\\\\\\\": 0}\", \"EnableSubsampling\": null, \"runTemplate\": \"AutoML\", \"azureml.runsource\": \"automl\", \"display_task_type\": \"classification\", \"dependencies_versions\": \"{\\\"azureml-widgets\\\": \\\"1.19.0\\\", \\\"azureml-train\\\": \\\"1.19.0\\\", \\\"azureml-train-restclients-hyperdrive\\\": \\\"1.19.0\\\", \\\"azureml-train-core\\\": \\\"1.19.0\\\", \\\"azureml-train-automl\\\": \\\"1.19.0\\\", \\\"azureml-train-automl-runtime\\\": \\\"1.19.0\\\", \\\"azureml-train-automl-client\\\": \\\"1.19.0\\\", \\\"azureml-tensorboard\\\": \\\"1.19.0\\\", \\\"azureml-telemetry\\\": \\\"1.19.0\\\", \\\"azureml-sdk\\\": \\\"1.19.0\\\", \\\"azureml-samples\\\": \\\"0+unknown\\\", \\\"azureml-pipeline\\\": \\\"1.19.0\\\", \\\"azureml-pipeline-steps\\\": \\\"1.19.0\\\", \\\"azureml-pipeline-core\\\": \\\"1.19.0\\\", \\\"azureml-opendatasets\\\": \\\"1.19.0\\\", \\\"azureml-model-management-sdk\\\": \\\"1.0.1b6.post1\\\", \\\"azureml-mlflow\\\": \\\"1.19.0\\\", \\\"azureml-interpret\\\": \\\"1.19.0\\\", \\\"azureml-explain-model\\\": \\\"1.19.0\\\", \\\"azureml-defaults\\\": \\\"1.19.0\\\", \\\"azureml-dataset-runtime\\\": \\\"1.19.0\\\", \\\"azureml-dataprep\\\": \\\"2.6.1\\\", \\\"azureml-dataprep-rslex\\\": \\\"1.4.0\\\", \\\"azureml-dataprep-native\\\": \\\"26.0.0\\\", \\\"azureml-datadrift\\\": \\\"1.19.0\\\", \\\"azureml-core\\\": \\\"1.19.0\\\", \\\"azureml-contrib-services\\\": \\\"1.19.0\\\", \\\"azureml-contrib-server\\\": \\\"1.19.0\\\", \\\"azureml-contrib-reinforcementlearning\\\": \\\"1.19.0\\\", \\\"azureml-contrib-pipeline-steps\\\": \\\"1.19.0\\\", \\\"azureml-contrib-notebook\\\": \\\"1.19.0\\\", \\\"azureml-contrib-interpret\\\": \\\"1.19.0\\\", \\\"azureml-contrib-gbdt\\\": \\\"1.19.0\\\", \\\"azureml-contrib-fairness\\\": \\\"1.19.0\\\", \\\"azureml-contrib-dataset\\\": \\\"1.19.0\\\", \\\"azureml-cli-common\\\": \\\"1.19.0\\\", \\\"azureml-automl-runtime\\\": \\\"1.19.0\\\", \\\"azureml-automl-core\\\": \\\"1.19.0\\\", \\\"azureml-accel-models\\\": \\\"1.19.0\\\"}\", \"_aml_system_scenario_identification\": \"Remote.Parent\", \"ClientType\": \"SDK\", \"environment_cpu_name\": \"AzureML-AutoML\", \"environment_cpu_label\": \"prod\", \"environment_gpu_name\": \"AzureML-AutoML-GPU\", \"environment_gpu_label\": \"prod\", \"root_attribution\": \"automl\", \"attribution\": \"AutoML\", \"Orchestrator\": \"AutoML\", \"CancelUri\": \"https://southcentralus.experiments.azureml.net/jasmine/v1.0/subscriptions/d4ad7261-832d-46b2-b093-22156001df5b/resourceGroups/aml-quickstarts-131472/providers/Microsoft.MachineLearningServices/workspaces/quick-starts-ws-131472/experimentids/de2c2fc7-e975-4428-bee3-8f88dd837ff0/cancel/AutoML_54e35876-e6aa-4f8b-adc1-8e0f88d704e6\", \"ClientSdkVersion\": \"1.19.0\", \"snapshotId\": \"00000000-0000-0000-0000-000000000000\", \"SetupRunId\": \"AutoML_54e35876-e6aa-4f8b-adc1-8e0f88d704e6_setup\", \"SetupRunContainerId\": \"dcid.AutoML_54e35876-e6aa-4f8b-adc1-8e0f88d704e6_setup\", \"FeaturizationRunJsonPath\": \"featurizer_container.json\", \"FeaturizationRunId\": \"AutoML_54e35876-e6aa-4f8b-adc1-8e0f88d704e6_featurize\", \"ProblemInfoJsonString\": \"{\\\"dataset_num_categorical\\\": 0, \\\"is_sparse\\\": false, \\\"subsampling\\\": false, \\\"dataset_classes\\\": 3, \\\"dataset_features\\\": 35, \\\"dataset_samples\\\": 1488, \\\"single_frequency_class_detected\\\": false}\", \"ModelExplainRunId\": \"AutoML_54e35876-e6aa-4f8b-adc1-8e0f88d704e6_ModelExplain\"}, \"tags\": {\"model_explain_run\": \"best_run\", \"_aml_system_azureml.automlComponent\": \"AutoML\", \"pipeline_id\": \"\", \"score\": \"\", \"predicted_cost\": \"\", \"fit_time\": \"\", \"training_percent\": \"\", \"iteration\": \"\", \"run_preprocessor\": \"\", \"run_algorithm\": \"\", \"dynamic_whitelisting_iterations\": \"<25>;<30>;<35>;\", \"automl_best_child_run_id\": \"AutoML_54e35876-e6aa-4f8b-adc1-8e0f88d704e6_36\", \"model_explain_best_run_child_id\": \"AutoML_54e35876-e6aa-4f8b-adc1-8e0f88d704e6_36\"}, \"end_time_utc\": \"2020-12-23T14:47:19.65492Z\", \"status\": \"Completed\", \"log_files\": {}, \"log_groups\": [], \"run_duration\": \"0:24:43\"}, \"child_runs\": [{\"run_id\": \"AutoML_54e35876-e6aa-4f8b-adc1-8e0f88d704e6_2\", \"run_number\": 47, \"metric\": null, \"status\": \"Completed\", \"run_type\": \"azureml.scriptrun\", \"training_percent\": \"100\", \"start_time\": \"2020-12-23T14:33:24.844429Z\", \"end_time\": \"2020-12-23T14:37:07.417985Z\", \"created_time\": \"2020-12-23T14:30:24.174426Z\", \"created_time_dt\": \"2020-12-23T14:30:24.174426Z\", \"duration\": \"0:06:43\", \"iteration\": \"2\", \"goal\": \"accuracy_max\", \"run_name\": \"MinMaxScaler, RandomForest\", \"run_properties\": \"copy=True, feature_range=(0, 1\", \"primary_metric\": 0.97513441, \"best_metric\": 0.98924731}, {\"run_id\": \"AutoML_54e35876-e6aa-4f8b-adc1-8e0f88d704e6_3\", \"run_number\": 48, \"metric\": null, \"status\": \"Completed\", \"run_type\": \"azureml.scriptrun\", \"training_percent\": \"100\", \"start_time\": \"2020-12-23T14:32:46.588331Z\", \"end_time\": \"2020-12-23T14:33:43.125286Z\", \"created_time\": \"2020-12-23T14:30:24.214325Z\", \"created_time_dt\": \"2020-12-23T14:30:24.214325Z\", \"duration\": \"0:03:18\", \"iteration\": \"3\", \"goal\": \"accuracy_max\", \"run_name\": \"MinMaxScaler, RandomForest\", \"run_properties\": \"copy=True, feature_range=(0, 1\", \"primary_metric\": 0.89852151, \"best_metric\": 0.98924731}, {\"run_id\": \"AutoML_54e35876-e6aa-4f8b-adc1-8e0f88d704e6_1\", \"run_number\": 49, \"metric\": null, \"status\": \"Completed\", \"run_type\": \"azureml.scriptrun\", \"training_percent\": \"100\", \"start_time\": \"2020-12-23T14:30:35.818551Z\", \"end_time\": \"2020-12-23T14:31:29.85628Z\", \"created_time\": \"2020-12-23T14:30:24.834035Z\", \"created_time_dt\": \"2020-12-23T14:30:24.834035Z\", \"duration\": \"0:01:05\", \"iteration\": \"1\", \"goal\": \"accuracy_max\", \"run_name\": \"MaxAbsScaler, XGBoostClassifier\", \"run_properties\": \"copy=True\", \"primary_metric\": 0.98924731, \"best_metric\": 0.98924731}, {\"run_id\": \"AutoML_54e35876-e6aa-4f8b-adc1-8e0f88d704e6_0\", \"run_number\": 50, \"metric\": null, \"status\": \"Completed\", \"run_type\": \"azureml.scriptrun\", \"training_percent\": \"100\", \"start_time\": \"2020-12-23T14:31:34.849043Z\", \"end_time\": \"2020-12-23T14:32:43.349899Z\", \"created_time\": \"2020-12-23T14:30:24.176417Z\", \"created_time_dt\": \"2020-12-23T14:30:24.176417Z\", \"duration\": \"0:02:19\", \"iteration\": \"0\", \"goal\": \"accuracy_max\", \"run_name\": \"MaxAbsScaler, LightGBM\", \"run_properties\": \"copy=True\", \"primary_metric\": 0.98857527, \"best_metric\": 0.98857527}, {\"run_id\": \"AutoML_54e35876-e6aa-4f8b-adc1-8e0f88d704e6_4\", \"run_number\": 51, \"metric\": null, \"status\": \"Completed\", \"run_type\": \"azureml.scriptrun\", \"training_percent\": \"100\", \"start_time\": \"2020-12-23T14:33:25.30671Z\", \"end_time\": \"2020-12-23T14:37:07.687225Z\", \"created_time\": \"2020-12-23T14:31:31.212218Z\", \"created_time_dt\": \"2020-12-23T14:31:31.212218Z\", \"duration\": \"0:05:36\", \"iteration\": \"4\", \"goal\": \"accuracy_max\", \"run_name\": \"MinMaxScaler, RandomForest\", \"run_properties\": \"copy=True, feature_range=(0, 1\", \"primary_metric\": 0.98790323, \"best_metric\": 0.98924731}, {\"run_id\": \"AutoML_54e35876-e6aa-4f8b-adc1-8e0f88d704e6_5\", \"run_number\": 52, \"metric\": null, \"status\": \"Completed\", \"run_type\": \"azureml.scriptrun\", \"training_percent\": \"100\", \"start_time\": \"2020-12-23T14:33:23.705306Z\", \"end_time\": \"2020-12-23T14:36:54.990878Z\", \"created_time\": \"2020-12-23T14:32:45.273103Z\", \"created_time_dt\": \"2020-12-23T14:32:45.273103Z\", \"duration\": \"0:04:09\", \"iteration\": \"5\", \"goal\": \"accuracy_max\", \"run_name\": \"RobustScaler, LightGBM\", \"run_properties\": \"copy=True, quantile_range=[10, 90], with_centering=True,\\n             with_scaling=True\", \"primary_metric\": 0.98924731, \"best_metric\": 0.98924731}, {\"run_id\": \"AutoML_54e35876-e6aa-4f8b-adc1-8e0f88d704e6_6\", \"run_number\": 53, \"metric\": null, \"status\": \"Completed\", \"run_type\": \"azureml.scriptrun\", \"training_percent\": \"100\", \"start_time\": \"2020-12-23T14:33:59.46501Z\", \"end_time\": \"2020-12-23T14:34:54.487177Z\", \"created_time\": \"2020-12-23T14:33:46.313929Z\", \"created_time_dt\": \"2020-12-23T14:33:46.313929Z\", \"duration\": \"0:01:08\", \"iteration\": \"6\", \"goal\": \"accuracy_max\", \"run_name\": \"SparseNormalizer, XGBoostClassifier\", \"run_properties\": \"<azureml.automl.runtime.shared.model_wrappers.SparseNormalizer object at 0x7f4c150587b8\", \"primary_metric\": 0.98790323, \"best_metric\": 0.98924731}, {\"run_id\": \"AutoML_54e35876-e6aa-4f8b-adc1-8e0f88d704e6_7\", \"run_number\": 54, \"metric\": null, \"status\": \"Completed\", \"run_type\": \"azureml.scriptrun\", \"training_percent\": \"100\", \"start_time\": \"2020-12-23T14:35:09.825072Z\", \"end_time\": \"2020-12-23T14:36:07.875737Z\", \"created_time\": \"2020-12-23T14:34:57.701817Z\", \"created_time_dt\": \"2020-12-23T14:34:57.701817Z\", \"duration\": \"0:01:10\", \"iteration\": \"7\", \"goal\": \"accuracy_max\", \"run_name\": \"MinMaxScaler, SVM\", \"run_properties\": \"copy=True, feature_range=(0, 1\", \"primary_metric\": 0.98924731, \"best_metric\": 0.98924731}, {\"run_id\": \"AutoML_54e35876-e6aa-4f8b-adc1-8e0f88d704e6_8\", \"run_number\": 55, \"metric\": null, \"status\": \"Completed\", \"run_type\": \"azureml.scriptrun\", \"training_percent\": \"100\", \"start_time\": \"2020-12-23T14:36:23.586343Z\", \"end_time\": \"2020-12-23T14:37:15.17146Z\", \"created_time\": \"2020-12-23T14:36:11.223023Z\", \"created_time_dt\": \"2020-12-23T14:36:11.223023Z\", \"duration\": \"0:01:03\", \"iteration\": \"8\", \"goal\": \"accuracy_max\", \"run_name\": \"MaxAbsScaler, LightGBM\", \"run_properties\": \"copy=True\", \"primary_metric\": 0.98185484, \"best_metric\": 0.98924731}, {\"run_id\": \"AutoML_54e35876-e6aa-4f8b-adc1-8e0f88d704e6_9\", \"run_number\": 56, \"metric\": null, \"status\": \"Completed\", \"run_type\": \"azureml.scriptrun\", \"training_percent\": \"100\", \"start_time\": \"2020-12-23T14:37:12.135088Z\", \"end_time\": \"2020-12-23T14:38:20.934594Z\", \"created_time\": \"2020-12-23T14:36:58.206647Z\", \"created_time_dt\": \"2020-12-23T14:36:58.206647Z\", \"duration\": \"0:01:22\", \"iteration\": \"9\", \"goal\": \"accuracy_max\", \"run_name\": \"RobustScaler, RandomForest\", \"run_properties\": \"copy=True, quantile_range=[10, 90], with_centering=True,\\n             with_scaling=True\", \"primary_metric\": 0.98655914, \"best_metric\": 0.98924731}, {\"run_id\": \"AutoML_54e35876-e6aa-4f8b-adc1-8e0f88d704e6_10\", \"run_number\": 57, \"metric\": null, \"status\": \"Completed\", \"run_type\": \"azureml.scriptrun\", \"training_percent\": \"100\", \"start_time\": \"2020-12-23T14:37:22.209861Z\", \"end_time\": \"2020-12-23T14:38:23.021824Z\", \"created_time\": \"2020-12-23T14:37:09.787672Z\", \"created_time_dt\": \"2020-12-23T14:37:09.787672Z\", \"duration\": \"0:01:13\", \"iteration\": \"10\", \"goal\": \"accuracy_max\", \"run_name\": \"MaxAbsScaler, LightGBM\", \"run_properties\": \"copy=True\", \"primary_metric\": 0.98723118, \"best_metric\": 0.98924731}, {\"run_id\": \"AutoML_54e35876-e6aa-4f8b-adc1-8e0f88d704e6_11\", \"run_number\": 58, \"metric\": null, \"status\": \"Completed\", \"run_type\": \"azureml.scriptrun\", \"training_percent\": \"100\", \"start_time\": \"2020-12-23T14:37:22.674788Z\", \"end_time\": \"2020-12-23T14:38:16.162504Z\", \"created_time\": \"2020-12-23T14:37:10.010008Z\", \"created_time_dt\": \"2020-12-23T14:37:10.010008Z\", \"duration\": \"0:01:06\", \"iteration\": \"11\", \"goal\": \"accuracy_max\", \"run_name\": \"SparseNormalizer, XGBoostClassifier\", \"run_properties\": \"<azureml.automl.runtime.shared.model_wrappers.SparseNormalizer object at 0x7f04a82def60\", \"primary_metric\": 0.98857527, \"best_metric\": 0.98924731}, {\"run_id\": \"AutoML_54e35876-e6aa-4f8b-adc1-8e0f88d704e6_12\", \"run_number\": 59, \"metric\": null, \"status\": \"Completed\", \"run_type\": \"azureml.scriptrun\", \"training_percent\": \"100\", \"start_time\": \"2020-12-23T14:37:33.164558Z\", \"end_time\": \"2020-12-23T14:38:33.888771Z\", \"created_time\": \"2020-12-23T14:37:19.353094Z\", \"created_time_dt\": \"2020-12-23T14:37:19.353094Z\", \"duration\": \"0:01:14\", \"iteration\": \"12\", \"goal\": \"accuracy_max\", \"run_name\": \"RobustScaler, ExtremeRandomTrees\", \"run_properties\": \"copy=True, quantile_range=[25, 75], with_centering=True,\\n             with_scaling=False\", \"primary_metric\": 0.98655914, \"best_metric\": 0.98924731}, {\"run_id\": \"AutoML_54e35876-e6aa-4f8b-adc1-8e0f88d704e6_13\", \"run_number\": 60, \"metric\": null, \"status\": \"Completed\", \"run_type\": \"azureml.scriptrun\", \"training_percent\": \"100\", \"start_time\": \"2020-12-23T14:38:33.857464Z\", \"end_time\": \"2020-12-23T14:39:41.289638Z\", \"created_time\": \"2020-12-23T14:38:19.639671Z\", \"created_time_dt\": \"2020-12-23T14:38:19.639671Z\", \"duration\": \"0:01:21\", \"iteration\": \"13\", \"goal\": \"accuracy_max\", \"run_name\": \"StandardScalerWrapper, ExtremeRandomTrees\", \"run_properties\": \"<azureml.automl.runtime.shared.model_wrappers.StandardScalerWrapper object at 0x7fd5540d03c8\", \"primary_metric\": 0.9563172, \"best_metric\": 0.98924731}, {\"run_id\": \"AutoML_54e35876-e6aa-4f8b-adc1-8e0f88d704e6_15\", \"run_number\": 61, \"metric\": null, \"status\": \"Completed\", \"run_type\": \"azureml.scriptrun\", \"training_percent\": \"100\", \"start_time\": \"2020-12-23T14:38:41.311146Z\", \"end_time\": \"2020-12-23T14:39:42.501211Z\", \"created_time\": \"2020-12-23T14:38:27.612673Z\", \"created_time_dt\": \"2020-12-23T14:38:27.612673Z\", \"duration\": \"0:01:14\", \"iteration\": \"15\", \"goal\": \"accuracy_max\", \"run_name\": \"SparseNormalizer, LightGBM\", \"run_properties\": \"<azureml.automl.runtime.shared.model_wrappers.SparseNormalizer object at 0x7ff6e9a926a0\", \"primary_metric\": 0.97311828, \"best_metric\": 0.98924731}, {\"run_id\": \"AutoML_54e35876-e6aa-4f8b-adc1-8e0f88d704e6_14\", \"run_number\": 62, \"metric\": null, \"status\": \"Completed\", \"run_type\": \"azureml.scriptrun\", \"training_percent\": \"100\", \"start_time\": \"2020-12-23T14:38:38.456678Z\", \"end_time\": \"2020-12-23T14:39:34.719305Z\", \"created_time\": \"2020-12-23T14:38:27.751274Z\", \"created_time_dt\": \"2020-12-23T14:38:27.751274Z\", \"duration\": \"0:01:06\", \"iteration\": \"14\", \"goal\": \"accuracy_max\", \"run_name\": \"StandardScalerWrapper, LogisticRegression\", \"run_properties\": \"<azureml.automl.runtime.shared.model_wrappers.StandardScalerWrapper object at 0x7f6fd8c13f60\", \"primary_metric\": 0.98252688, \"best_metric\": 0.98924731}, {\"run_id\": \"AutoML_54e35876-e6aa-4f8b-adc1-8e0f88d704e6_16\", \"run_number\": 63, \"metric\": null, \"status\": \"Completed\", \"run_type\": \"azureml.scriptrun\", \"training_percent\": \"100\", \"start_time\": \"2020-12-23T14:38:51.330422Z\", \"end_time\": \"2020-12-23T14:39:47.205759Z\", \"created_time\": \"2020-12-23T14:38:37.138274Z\", \"created_time_dt\": \"2020-12-23T14:38:37.138274Z\", \"duration\": \"0:01:10\", \"iteration\": \"16\", \"goal\": \"accuracy_max\", \"run_name\": \"StandardScalerWrapper, XGBoostClassifier\", \"run_properties\": \"<azureml.automl.runtime.shared.model_wrappers.StandardScalerWrapper object at 0x7f1dd806d518\", \"primary_metric\": 0.98723118, \"best_metric\": 0.98924731}, {\"run_id\": \"AutoML_54e35876-e6aa-4f8b-adc1-8e0f88d704e6_17\", \"run_number\": 64, \"metric\": null, \"status\": \"Completed\", \"run_type\": \"azureml.scriptrun\", \"training_percent\": \"100\", \"start_time\": \"2020-12-23T14:39:53.56074Z\", \"end_time\": \"2020-12-23T14:41:02.923375Z\", \"created_time\": \"2020-12-23T14:39:38.135204Z\", \"created_time_dt\": \"2020-12-23T14:39:38.135204Z\", \"duration\": \"0:01:24\", \"iteration\": \"17\", \"goal\": \"accuracy_max\", \"run_name\": \"StandardScalerWrapper, GradientBoosting\", \"run_properties\": \"<azureml.automl.runtime.shared.model_wrappers.StandardScalerWrapper object at 0x7fa0d74ce2e8\", \"primary_metric\": 0.98454301, \"best_metric\": 0.98924731}, {\"run_id\": \"AutoML_54e35876-e6aa-4f8b-adc1-8e0f88d704e6_19\", \"run_number\": 65, \"metric\": null, \"status\": \"Completed\", \"run_type\": \"azureml.scriptrun\", \"training_percent\": \"100\", \"start_time\": \"2020-12-23T14:39:58.08262Z\", \"end_time\": \"2020-12-23T14:40:57.421416Z\", \"created_time\": \"2020-12-23T14:39:46.116267Z\", \"created_time_dt\": \"2020-12-23T14:39:46.116267Z\", \"duration\": \"0:01:11\", \"iteration\": \"19\", \"goal\": \"accuracy_max\", \"run_name\": \"SparseNormalizer, XGBoostClassifier\", \"run_properties\": \"<azureml.automl.runtime.shared.model_wrappers.SparseNormalizer object at 0x7f7650852470\", \"primary_metric\": 0.98857527, \"best_metric\": 0.98924731}, {\"run_id\": \"AutoML_54e35876-e6aa-4f8b-adc1-8e0f88d704e6_18\", \"run_number\": 66, \"metric\": null, \"status\": \"Completed\", \"run_type\": \"azureml.scriptrun\", \"training_percent\": \"100\", \"start_time\": \"2020-12-23T14:39:59.176046Z\", \"end_time\": \"2020-12-23T14:40:59.968323Z\", \"created_time\": \"2020-12-23T14:39:46.279374Z\", \"created_time_dt\": \"2020-12-23T14:39:46.279374Z\", \"duration\": \"0:01:13\", \"iteration\": \"18\", \"goal\": \"accuracy_max\", \"run_name\": \"SparseNormalizer, XGBoostClassifier\", \"run_properties\": \"<azureml.automl.runtime.shared.model_wrappers.SparseNormalizer object at 0x7faaa9477898\", \"primary_metric\": 0.9858871, \"best_metric\": 0.98924731}, {\"run_id\": \"AutoML_54e35876-e6aa-4f8b-adc1-8e0f88d704e6_20\", \"run_number\": 67, \"metric\": null, \"status\": \"Completed\", \"run_type\": \"azureml.scriptrun\", \"training_percent\": \"100\", \"start_time\": \"2020-12-23T14:40:06.719769Z\", \"end_time\": \"2020-12-23T14:41:03.484616Z\", \"created_time\": \"2020-12-23T14:39:52.738087Z\", \"created_time_dt\": \"2020-12-23T14:39:52.738087Z\", \"duration\": \"0:01:10\", \"iteration\": \"20\", \"goal\": \"accuracy_max\", \"run_name\": \"SparseNormalizer, XGBoostClassifier\", \"run_properties\": \"<azureml.automl.runtime.shared.model_wrappers.SparseNormalizer object at 0x7fe44c273c50\", \"primary_metric\": 0.98790323, \"best_metric\": 0.98924731}, {\"run_id\": \"AutoML_54e35876-e6aa-4f8b-adc1-8e0f88d704e6_21\", \"run_number\": 68, \"metric\": null, \"status\": \"Completed\", \"run_type\": \"azureml.scriptrun\", \"training_percent\": \"100\", \"start_time\": \"2020-12-23T14:41:13.952644Z\", \"end_time\": \"2020-12-23T14:42:04.992226Z\", \"created_time\": \"2020-12-23T14:41:00.811488Z\", \"created_time_dt\": \"2020-12-23T14:41:00.811488Z\", \"duration\": \"0:01:04\", \"iteration\": \"21\", \"goal\": \"accuracy_max\", \"run_name\": \"StandardScalerWrapper, XGBoostClassifier\", \"run_properties\": \"<azureml.automl.runtime.shared.model_wrappers.StandardScalerWrapper object at 0x7f026c07c860\", \"primary_metric\": 0.98655914, \"best_metric\": 0.98924731}, {\"run_id\": \"AutoML_54e35876-e6aa-4f8b-adc1-8e0f88d704e6_23\", \"run_number\": 69, \"metric\": null, \"status\": \"Completed\", \"run_type\": \"azureml.scriptrun\", \"training_percent\": \"100\", \"start_time\": \"2020-12-23T14:41:21.356599Z\", \"end_time\": \"2020-12-23T14:42:15.131179Z\", \"created_time\": \"2020-12-23T14:41:08.224433Z\", \"created_time_dt\": \"2020-12-23T14:41:08.224433Z\", \"duration\": \"0:01:06\", \"iteration\": \"23\", \"goal\": \"accuracy_max\", \"run_name\": \"SparseNormalizer, XGBoostClassifier\", \"run_properties\": \"<azureml.automl.runtime.shared.model_wrappers.SparseNormalizer object at 0x7fc7dd10a978\", \"primary_metric\": 0.98319892, \"best_metric\": 0.98924731}, {\"run_id\": \"AutoML_54e35876-e6aa-4f8b-adc1-8e0f88d704e6_22\", \"run_number\": 70, \"metric\": null, \"status\": \"Completed\", \"run_type\": \"azureml.scriptrun\", \"training_percent\": \"100\", \"start_time\": \"2020-12-23T14:41:20.154629Z\", \"end_time\": \"2020-12-23T14:42:16.697715Z\", \"created_time\": \"2020-12-23T14:41:08.349987Z\", \"created_time_dt\": \"2020-12-23T14:41:08.349987Z\", \"duration\": \"0:01:08\", \"iteration\": \"22\", \"goal\": \"accuracy_max\", \"run_name\": \"StandardScalerWrapper, XGBoostClassifier\", \"run_properties\": \"<azureml.automl.runtime.shared.model_wrappers.StandardScalerWrapper object at 0x7f092276e978\", \"primary_metric\": 0.98655914, \"best_metric\": 0.98924731}, {\"run_id\": \"AutoML_54e35876-e6aa-4f8b-adc1-8e0f88d704e6_24\", \"run_number\": 71, \"metric\": null, \"status\": \"Completed\", \"run_type\": \"azureml.scriptrun\", \"training_percent\": \"100\", \"start_time\": \"2020-12-23T14:41:20.014423Z\", \"end_time\": \"2020-12-23T14:42:24.972515Z\", \"created_time\": \"2020-12-23T14:41:08.374043Z\", \"created_time_dt\": \"2020-12-23T14:41:08.374043Z\", \"duration\": \"0:01:16\", \"iteration\": \"24\", \"goal\": \"accuracy_max\", \"run_name\": \"SparseNormalizer, XGBoostClassifier\", \"run_properties\": \"<azureml.automl.runtime.shared.model_wrappers.SparseNormalizer object at 0x7fa7f619a550\", \"primary_metric\": 0.98655914, \"best_metric\": 0.98924731}, {\"run_id\": \"AutoML_54e35876-e6aa-4f8b-adc1-8e0f88d704e6_25\", \"run_number\": 72, \"metric\": null, \"status\": \"Completed\", \"run_type\": \"azureml.scriptrun\", \"training_percent\": \"100\", \"start_time\": \"2020-12-23T14:42:21.093406Z\", \"end_time\": \"2020-12-23T14:43:23.881956Z\", \"created_time\": \"2020-12-23T14:42:08.955807Z\", \"created_time_dt\": \"2020-12-23T14:42:08.955807Z\", \"duration\": \"0:01:14\", \"iteration\": \"25\", \"goal\": \"accuracy_max\", \"run_name\": \"PCA, XGBoostClassifier\", \"run_properties\": \"copy=True, iterated_power='auto', n_components=0.95, random_state=None,\\n    svd_solver='auto', tol=0.0, whiten=True\", \"primary_metric\": 0.78024194, \"best_metric\": 0.98924731}, {\"run_id\": \"AutoML_54e35876-e6aa-4f8b-adc1-8e0f88d704e6_26\", \"run_number\": 73, \"metric\": null, \"status\": \"Completed\", \"run_type\": \"azureml.scriptrun\", \"training_percent\": \"100\", \"start_time\": \"2020-12-23T14:42:31.130944Z\", \"end_time\": \"2020-12-23T14:43:36.725969Z\", \"created_time\": \"2020-12-23T14:42:17.894007Z\", \"created_time_dt\": \"2020-12-23T14:42:17.894007Z\", \"duration\": \"0:01:18\", \"iteration\": \"26\", \"goal\": \"accuracy_max\", \"run_name\": \"StandardScalerWrapper, LightGBM\", \"run_properties\": \"<azureml.automl.runtime.shared.model_wrappers.StandardScalerWrapper object at 0x7feeb25df978\", \"primary_metric\": 0.97244624, \"best_metric\": 0.98924731}, {\"run_id\": \"AutoML_54e35876-e6aa-4f8b-adc1-8e0f88d704e6_27\", \"run_number\": 74, \"metric\": null, \"status\": \"Completed\", \"run_type\": \"azureml.scriptrun\", \"training_percent\": \"100\", \"start_time\": \"2020-12-23T14:42:38.804354Z\", \"end_time\": \"2020-12-23T14:43:34.117033Z\", \"created_time\": \"2020-12-23T14:42:24.17303Z\", \"created_time_dt\": \"2020-12-23T14:42:24.17303Z\", \"duration\": \"0:01:09\", \"iteration\": \"27\", \"goal\": \"accuracy_max\", \"run_name\": \"RobustScaler, LightGBM\", \"run_properties\": \"copy=True, quantile_range=[25, 75], with_centering=False,\\n             with_scaling=True\", \"primary_metric\": 0.9858871, \"best_metric\": 0.98924731}, {\"run_id\": \"AutoML_54e35876-e6aa-4f8b-adc1-8e0f88d704e6_28\", \"run_number\": 75, \"metric\": null, \"status\": \"Completed\", \"run_type\": \"azureml.scriptrun\", \"training_percent\": \"100\", \"start_time\": \"2020-12-23T14:42:42.518349Z\", \"end_time\": \"2020-12-23T14:43:45.327913Z\", \"created_time\": \"2020-12-23T14:42:30.32241Z\", \"created_time_dt\": \"2020-12-23T14:42:30.32241Z\", \"duration\": \"0:01:15\", \"iteration\": \"28\", \"goal\": \"accuracy_max\", \"run_name\": \"MinMaxScaler, LogisticRegression\", \"run_properties\": \"copy=True, feature_range=(0, 1\", \"primary_metric\": 0.98857527, \"best_metric\": 0.98924731}, {\"run_id\": \"AutoML_54e35876-e6aa-4f8b-adc1-8e0f88d704e6_29\", \"run_number\": 76, \"metric\": null, \"status\": \"Completed\", \"run_type\": \"azureml.scriptrun\", \"training_percent\": \"100\", \"start_time\": \"2020-12-23T14:43:39.11931Z\", \"end_time\": \"2020-12-23T14:44:35.637917Z\", \"created_time\": \"2020-12-23T14:43:26.497048Z\", \"created_time_dt\": \"2020-12-23T14:43:26.497048Z\", \"duration\": \"0:01:09\", \"iteration\": \"29\", \"goal\": \"accuracy_max\", \"run_name\": \"SparseNormalizer, XGBoostClassifier\", \"run_properties\": \"<azureml.automl.runtime.shared.model_wrappers.SparseNormalizer object at 0x7fae5d52ab00\", \"primary_metric\": 0.98857527, \"best_metric\": 0.98924731}, {\"run_id\": \"AutoML_54e35876-e6aa-4f8b-adc1-8e0f88d704e6_30\", \"run_number\": 77, \"metric\": null, \"status\": \"Completed\", \"run_type\": \"azureml.scriptrun\", \"training_percent\": \"100\", \"start_time\": \"2020-12-23T14:43:51.825232Z\", \"end_time\": \"2020-12-23T14:44:50.528273Z\", \"created_time\": \"2020-12-23T14:43:37.765763Z\", \"created_time_dt\": \"2020-12-23T14:43:37.765763Z\", \"duration\": \"0:01:12\", \"iteration\": \"30\", \"goal\": \"accuracy_max\", \"run_name\": \"TruncatedSVDWrapper, XGBoostClassifier\", \"run_properties\": \"n_components=0.8015789473684211, random_state=None\", \"primary_metric\": 0.97446237, \"best_metric\": 0.98924731}, {\"run_id\": \"AutoML_54e35876-e6aa-4f8b-adc1-8e0f88d704e6_31\", \"run_number\": 78, \"metric\": null, \"status\": \"Completed\", \"run_type\": \"azureml.scriptrun\", \"training_percent\": \"100\", \"start_time\": \"2020-12-23T14:43:58.675547Z\", \"end_time\": \"2020-12-23T14:44:54.45082Z\", \"created_time\": \"2020-12-23T14:43:44.168805Z\", \"created_time_dt\": \"2020-12-23T14:43:44.168805Z\", \"duration\": \"0:01:10\", \"iteration\": \"31\", \"goal\": \"accuracy_max\", \"run_name\": \"SparseNormalizer, XGBoostClassifier\", \"run_properties\": \"<azureml.automl.runtime.shared.model_wrappers.SparseNormalizer object at 0x7fd9b455ee80\", \"primary_metric\": 0.98790323, \"best_metric\": 0.98924731}, {\"run_id\": \"AutoML_54e35876-e6aa-4f8b-adc1-8e0f88d704e6_32\", \"run_number\": 79, \"metric\": null, \"status\": \"Completed\", \"run_type\": \"azureml.scriptrun\", \"training_percent\": \"100\", \"start_time\": \"2020-12-23T14:44:03.3702Z\", \"end_time\": \"2020-12-23T14:45:02.949089Z\", \"created_time\": \"2020-12-23T14:43:50.501895Z\", \"created_time_dt\": \"2020-12-23T14:43:50.501895Z\", \"duration\": \"0:01:12\", \"iteration\": \"32\", \"goal\": \"accuracy_max\", \"run_name\": \"SparseNormalizer, XGBoostClassifier\", \"run_properties\": \"<azureml.automl.runtime.shared.model_wrappers.SparseNormalizer object at 0x7f4b46f81c88\", \"primary_metric\": 0.98185484, \"best_metric\": 0.98924731}, {\"run_id\": \"AutoML_54e35876-e6aa-4f8b-adc1-8e0f88d704e6_33\", \"run_number\": 80, \"metric\": null, \"status\": \"Canceled\", \"run_type\": \"azureml.scriptrun\", \"training_percent\": \"100\", \"start_time\": \"2020-12-23T14:44:50.94607Z\", \"end_time\": \"2020-12-23T14:45:25.372326Z\", \"created_time\": \"2020-12-23T14:44:38.214115Z\", \"created_time_dt\": \"2020-12-23T14:44:38.214115Z\", \"duration\": \"0:00:47\", \"iteration\": \"33\", \"goal\": null, \"run_name\": \"Canceled\", \"run_properties\": null}, {\"run_id\": \"AutoML_54e35876-e6aa-4f8b-adc1-8e0f88d704e6_34\", \"run_number\": 81, \"metric\": null, \"status\": \"Canceled\", \"run_type\": \"azureml.scriptrun\", \"training_percent\": \"100\", \"start_time\": \"2020-12-23T14:44:53.04073Z\", \"end_time\": \"2020-12-23T14:45:11.674895Z\", \"created_time\": \"2020-12-23T14:44:53.04073Z\", \"created_time_dt\": \"2020-12-23T14:44:53.04073Z\", \"duration\": \"0:00:18\", \"iteration\": \"34\", \"goal\": null, \"run_name\": \"Canceled\", \"run_properties\": null}, {\"run_id\": \"AutoML_54e35876-e6aa-4f8b-adc1-8e0f88d704e6_35\", \"run_number\": 82, \"metric\": null, \"status\": \"Canceled\", \"run_type\": \"azureml.scriptrun\", \"training_percent\": \"100\", \"start_time\": \"2020-12-23T14:44:59.296994Z\", \"end_time\": \"2020-12-23T14:45:16.096174Z\", \"created_time\": \"2020-12-23T14:44:59.296994Z\", \"created_time_dt\": \"2020-12-23T14:44:59.296994Z\", \"duration\": \"0:00:16\", \"iteration\": \"35\", \"goal\": null, \"run_name\": \"Canceled\", \"run_properties\": null}, {\"run_id\": \"AutoML_54e35876-e6aa-4f8b-adc1-8e0f88d704e6_36\", \"run_number\": 83, \"metric\": null, \"status\": \"Completed\", \"run_type\": \"azureml.scriptrun\", \"training_percent\": \"100\", \"start_time\": \"2020-12-23T14:45:42.568049Z\", \"end_time\": \"2020-12-23T14:47:07.358609Z\", \"created_time\": \"2020-12-23T14:45:27.350909Z\", \"created_time_dt\": \"2020-12-23T14:45:27.350909Z\", \"duration\": \"0:01:40\", \"iteration\": \"36\", \"goal\": \"accuracy_max\", \"run_name\": \"VotingEnsemble\", \"run_properties\": \"classification_labels=None,\\n                              estimators=[('7',\\n                                           Pipeline(memory=None,\\n                                                    steps=[('minmaxscaler',\\n                                                            MinMaxScaler(copy=True,\\n                                                                         feature_range=(0,\\n                                                                                        1\", \"primary_metric\": 0.9905914, \"best_metric\": 0.9905914}], \"children_metrics\": {\"categories\": [0], \"series\": {\"recall_score_micro\": [{\"categories\": [\"0\", \"1\", \"2\", \"3\", \"4\", \"5\", \"6\", \"7\", \"8\", \"9\", \"10\", \"11\", \"12\", \"13\", \"14\", \"15\", \"16\", \"17\", \"18\", \"19\", \"20\", \"21\", \"22\", \"23\", \"24\", \"25\", \"26\", \"27\", \"28\", \"29\", \"30\", \"31\", \"32\", \"36\"], \"mode\": \"markers\", \"name\": \"recall_score_micro\", \"stepped\": false, \"type\": \"scatter\", \"data\": [0.9885752688172044, 0.989247311827957, 0.9751344086021505, 0.898521505376344, 0.9879032258064516, 0.989247311827957, 0.9879032258064516, 0.989247311827957, 0.9818548387096774, 0.9865591397849461, 0.9872311827956989, 0.9885752688172044, 0.9865591397849461, 0.9563172043010754, 0.98252688172043, 0.9731182795698925, 0.9872311827956989, 0.9845430107526881, 0.9858870967741935, 0.9885752688172044, 0.9879032258064516, 0.9865591397849461, 0.9865591397849461, 0.9831989247311829, 0.9865591397849461, 0.780241935483871, 0.9724462365591399, 0.9858870967741935, 0.9885752688172044, 0.9885752688172044, 0.9744623655913979, 0.9879032258064516, 0.9818548387096774, 0.9905913978494624]}, {\"categories\": [\"0\", \"1\", \"2\", \"3\", \"4\", \"5\", \"6\", \"7\", \"8\", \"9\", \"10\", \"11\", \"12\", \"13\", \"14\", \"15\", \"16\", \"17\", \"18\", \"19\", \"20\", \"21\", \"22\", \"23\", \"24\", \"25\", \"26\", \"27\", \"28\", \"29\", \"30\", \"31\", \"32\", \"36\"], \"mode\": \"lines\", \"name\": \"recall_score_micro_max\", \"stepped\": true, \"type\": \"scatter\", \"data\": [0.9885752688172044, 0.989247311827957, 0.989247311827957, 0.989247311827957, 0.989247311827957, 0.989247311827957, 0.989247311827957, 0.989247311827957, 0.989247311827957, 0.989247311827957, 0.989247311827957, 0.989247311827957, 0.989247311827957, 0.989247311827957, 0.989247311827957, 0.989247311827957, 0.989247311827957, 0.989247311827957, 0.989247311827957, 0.989247311827957, 0.989247311827957, 0.989247311827957, 0.989247311827957, 0.989247311827957, 0.989247311827957, 0.989247311827957, 0.989247311827957, 0.989247311827957, 0.989247311827957, 0.989247311827957, 0.989247311827957, 0.989247311827957, 0.989247311827957, 0.9905913978494624]}], \"weighted_accuracy\": [{\"categories\": [\"0\", \"1\", \"2\", \"3\", \"4\", \"5\", \"6\", \"7\", \"8\", \"9\", \"10\", \"11\", \"12\", \"13\", \"14\", \"15\", \"16\", \"17\", \"18\", \"19\", \"20\", \"21\", \"22\", \"23\", \"24\", \"25\", \"26\", \"27\", \"28\", \"29\", \"30\", \"31\", \"32\", \"36\"], \"mode\": \"markers\", \"name\": \"weighted_accuracy\", \"stepped\": false, \"type\": \"scatter\", \"data\": [0.9947596834016931, 0.9956342728027435, 0.9945536326458816, 0.9819128344924212, 0.9953592949209905, 0.9956190849200048, 0.9959818964866338, 0.9935976362583006, 0.995820751458114, 0.9963433419191844, 0.9958022336758144, 0.9961181094391504, 0.9963433419191844, 0.9903076058330944, 0.9868043759071817, 0.9950451130029799, 0.9964894309082485, 0.9959202628347303, 0.9942147987027893, 0.9961181094391504, 0.9953000111003908, 0.9963433419191844, 0.9963433419191844, 0.9958040281964703, 0.9950328970415488, 0.9585562357708747, 0.9944644415434182, 0.9943197203589502, 0.9948790123959207, 0.9961181094391504, 0.98624361285135, 0.9959872083328251, 0.9958838314759445, 0.9966274697619658]}, {\"categories\": [\"0\", \"1\", \"2\", \"3\", \"4\", \"5\", \"6\", \"7\", \"8\", \"9\", \"10\", \"11\", \"12\", \"13\", \"14\", \"15\", \"16\", \"17\", \"18\", \"19\", \"20\", \"21\", \"22\", \"23\", \"24\", \"25\", \"26\", \"27\", \"28\", \"29\", \"30\", \"31\", \"32\", \"36\"], \"mode\": \"lines\", \"name\": \"weighted_accuracy_max\", \"stepped\": true, \"type\": \"scatter\", \"data\": [0.9947596834016931, 0.9956342728027435, 0.9956342728027435, 0.9956342728027435, 0.9956342728027435, 0.9956342728027435, 0.9959818964866338, 0.9959818964866338, 0.9959818964866338, 0.9963433419191844, 0.9963433419191844, 0.9963433419191844, 0.9963433419191844, 0.9963433419191844, 0.9963433419191844, 0.9963433419191844, 0.9964894309082485, 0.9964894309082485, 0.9964894309082485, 0.9964894309082485, 0.9964894309082485, 0.9964894309082485, 0.9964894309082485, 0.9964894309082485, 0.9964894309082485, 0.9964894309082485, 0.9964894309082485, 0.9964894309082485, 0.9964894309082485, 0.9964894309082485, 0.9964894309082485, 0.9964894309082485, 0.9964894309082485, 0.9966274697619658]}], \"AUC_micro\": [{\"categories\": [\"0\", \"1\", \"2\", \"3\", \"4\", \"5\", \"6\", \"7\", \"8\", \"9\", \"10\", \"11\", \"12\", \"13\", \"14\", \"15\", \"16\", \"17\", \"18\", \"19\", \"20\", \"21\", \"22\", \"23\", \"24\", \"25\", \"26\", \"27\", \"28\", \"29\", \"30\", \"31\", \"32\", \"36\"], \"mode\": \"markers\", \"name\": \"AUC_micro\", \"stepped\": false, \"type\": \"scatter\", \"data\": [0.9984262541189732, 0.9986782702480056, 0.9970611667533819, 0.9829045671826222, 0.998359862773153, 0.9988517007023933, 0.9981180085848074, 0.9978253446930281, 0.9969344812261532, 0.9979859033558792, 0.9986477844259453, 0.9977704702133194, 0.9974073501994449, 0.9964609347901492, 0.9959298040235867, 0.9970970722771417, 0.9990630690686784, 0.9967176931581685, 0.9983835739680887, 0.9976160087148802, 0.9979269640998959, 0.9969520952566772, 0.9979811611168921, 0.9973585728841484, 0.9984309963579605, 0.8686243984131113, 0.9967217579344432, 0.9981193635102322, 0.9980333257457509, 0.9976566564776275, 0.9961716582119321, 0.9980143567898022, 0.996639107483524, 0.998623395768297]}, {\"categories\": [\"0\", \"1\", \"2\", \"3\", \"4\", \"5\", \"6\", \"7\", \"8\", \"9\", \"10\", \"11\", \"12\", \"13\", \"14\", \"15\", \"16\", \"17\", \"18\", \"19\", \"20\", \"21\", \"22\", \"23\", \"24\", \"25\", \"26\", \"27\", \"28\", \"29\", \"30\", \"31\", \"32\", \"36\"], \"mode\": \"lines\", \"name\": \"AUC_micro_max\", \"stepped\": true, \"type\": \"scatter\", \"data\": [0.9984262541189732, 0.9986782702480056, 0.9986782702480056, 0.9986782702480056, 0.9986782702480056, 0.9988517007023933, 0.9988517007023933, 0.9988517007023933, 0.9988517007023933, 0.9988517007023933, 0.9988517007023933, 0.9988517007023933, 0.9988517007023933, 0.9988517007023933, 0.9988517007023933, 0.9988517007023933, 0.9990630690686784, 0.9990630690686784, 0.9990630690686784, 0.9990630690686784, 0.9990630690686784, 0.9990630690686784, 0.9990630690686784, 0.9990630690686784, 0.9990630690686784, 0.9990630690686784, 0.9990630690686784, 0.9990630690686784, 0.9990630690686784, 0.9990630690686784, 0.9990630690686784, 0.9990630690686784, 0.9990630690686784, 0.9990630690686784]}], \"f1_score_weighted\": [{\"categories\": [\"0\", \"1\", \"2\", \"3\", \"4\", \"5\", \"6\", \"7\", \"8\", \"9\", \"10\", \"11\", \"12\", \"13\", \"14\", \"15\", \"16\", \"17\", \"18\", \"19\", \"20\", \"21\", \"22\", \"23\", \"24\", \"25\", \"26\", \"27\", \"28\", \"29\", \"30\", \"31\", \"32\", \"36\"], \"mode\": \"markers\", \"name\": \"f1_score_weighted\", \"stepped\": false, \"type\": \"scatter\", \"data\": [0.9884821135291838, 0.9891462830491747, 0.9742437279791094, 0.883334978747737, 0.9877751800444458, 0.9891584585647978, 0.9877280080747027, 0.989223797952994, 0.9812217956608335, 0.9863219652248012, 0.9870384397776969, 0.9884210853448622, 0.9863219652248012, 0.9529708089679444, 0.982606385674813, 0.9718848252573568, 0.9870084856857936, 0.984230415417386, 0.9856871430200146, 0.9884210853448622, 0.9877550104381961, 0.9863219652248012, 0.9863219652248012, 0.9828344577846675, 0.9863532179266806, 0.6839739473065767, 0.9716174296787253, 0.9857238705206148, 0.9884900913381638, 0.9884210853448622, 0.9743226465300499, 0.9877212605207473, 0.9814946464834016, 0.9904983266948456]}, {\"categories\": [\"0\", \"1\", \"2\", \"3\", \"4\", \"5\", \"6\", \"7\", \"8\", \"9\", \"10\", \"11\", \"12\", \"13\", \"14\", \"15\", \"16\", \"17\", \"18\", \"19\", \"20\", \"21\", \"22\", \"23\", \"24\", \"25\", \"26\", \"27\", \"28\", \"29\", \"30\", \"31\", \"32\", \"36\"], \"mode\": \"lines\", \"name\": \"f1_score_weighted_max\", \"stepped\": true, \"type\": \"scatter\", \"data\": [0.9884821135291838, 0.9891462830491747, 0.9891462830491747, 0.9891462830491747, 0.9891462830491747, 0.9891584585647978, 0.9891584585647978, 0.989223797952994, 0.989223797952994, 0.989223797952994, 0.989223797952994, 0.989223797952994, 0.989223797952994, 0.989223797952994, 0.989223797952994, 0.989223797952994, 0.989223797952994, 0.989223797952994, 0.989223797952994, 0.989223797952994, 0.989223797952994, 0.989223797952994, 0.989223797952994, 0.989223797952994, 0.989223797952994, 0.989223797952994, 0.989223797952994, 0.989223797952994, 0.989223797952994, 0.989223797952994, 0.989223797952994, 0.989223797952994, 0.989223797952994, 0.9904983266948456]}], \"average_precision_score_weighted\": [{\"categories\": [\"0\", \"1\", \"2\", \"3\", \"4\", \"5\", \"6\", \"7\", \"8\", \"9\", \"10\", \"11\", \"12\", \"13\", \"14\", \"15\", \"16\", \"17\", \"18\", \"19\", \"20\", \"21\", \"22\", \"23\", \"24\", \"25\", \"26\", \"27\", \"28\", \"29\", \"30\", \"31\", \"32\", \"36\"], \"mode\": \"markers\", \"name\": \"average_precision_score_weighted\", \"stepped\": false, \"type\": \"scatter\", \"data\": [0.9953626063999176, 0.995843477376431, 0.9946874140038554, 0.9686454703180387, 0.995289942774372, 0.997144335188764, 0.995794853679398, 0.9946838305820069, 0.9958852054127938, 0.9936377538450339, 0.9964589538647298, 0.9947531930431462, 0.9928342838095975, 0.9927561915442622, 0.990610761479006, 0.9942650462931303, 0.9975602342821442, 0.9942889764130683, 0.9954575860690257, 0.9938251081968567, 0.9950095842502855, 0.9946648102902554, 0.9949708732064194, 0.9938423566100862, 0.9958846773341854, 0.67994140925925, 0.9924358955211948, 0.9954204664101534, 0.9924674603994736, 0.9942149115634851, 0.9903831429884065, 0.9945337972295977, 0.9931150246275803, 0.9964414541957982]}, {\"categories\": [\"0\", \"1\", \"2\", \"3\", \"4\", \"5\", \"6\", \"7\", \"8\", \"9\", \"10\", \"11\", \"12\", \"13\", \"14\", \"15\", \"16\", \"17\", \"18\", \"19\", \"20\", \"21\", \"22\", \"23\", \"24\", \"25\", \"26\", \"27\", \"28\", \"29\", \"30\", \"31\", \"32\", \"36\"], \"mode\": \"lines\", \"name\": \"average_precision_score_weighted_max\", \"stepped\": true, \"type\": \"scatter\", \"data\": [0.9953626063999176, 0.995843477376431, 0.995843477376431, 0.995843477376431, 0.995843477376431, 0.997144335188764, 0.997144335188764, 0.997144335188764, 0.997144335188764, 0.997144335188764, 0.997144335188764, 0.997144335188764, 0.997144335188764, 0.997144335188764, 0.997144335188764, 0.997144335188764, 0.9975602342821442, 0.9975602342821442, 0.9975602342821442, 0.9975602342821442, 0.9975602342821442, 0.9975602342821442, 0.9975602342821442, 0.9975602342821442, 0.9975602342821442, 0.9975602342821442, 0.9975602342821442, 0.9975602342821442, 0.9975602342821442, 0.9975602342821442, 0.9975602342821442, 0.9975602342821442, 0.9975602342821442, 0.9975602342821442]}], \"average_precision_score_micro\": [{\"categories\": [\"0\", \"1\", \"2\", \"3\", \"4\", \"5\", \"6\", \"7\", \"8\", \"9\", \"10\", \"11\", \"12\", \"13\", \"14\", \"15\", \"16\", \"17\", \"18\", \"19\", \"20\", \"21\", \"22\", \"23\", \"24\", \"25\", \"26\", \"27\", \"28\", \"29\", \"30\", \"31\", \"32\", \"36\"], \"mode\": \"markers\", \"name\": \"average_precision_score_micro\", \"stepped\": false, \"type\": \"scatter\", \"data\": [0.9972559403772127, 0.9975215789158822, 0.9951847103279406, 0.9702469969365448, 0.9969794232241651, 0.9979704303198105, 0.9966913317957561, 0.9962914266159913, 0.9943746547980007, 0.9956757308804235, 0.997558330819453, 0.9961097919304942, 0.9950476210391649, 0.9936976428696265, 0.9911483782807472, 0.9949085678770232, 0.9983229489793697, 0.9942184469296294, 0.997104501728343, 0.9950231041318217, 0.9963495101028771, 0.9948700499970107, 0.9965997165222147, 0.9952364054803109, 0.9971376675560696, 0.7552625124066331, 0.9939462465959442, 0.9965496146639891, 0.9956995179475342, 0.9953817453065668, 0.9926003228096079, 0.9957925424097404, 0.9940345906006381, 0.9976178590627182]}, {\"categories\": [\"0\", \"1\", \"2\", \"3\", \"4\", \"5\", \"6\", \"7\", \"8\", \"9\", \"10\", \"11\", \"12\", \"13\", \"14\", \"15\", \"16\", \"17\", \"18\", \"19\", \"20\", \"21\", \"22\", \"23\", \"24\", \"25\", \"26\", \"27\", \"28\", \"29\", \"30\", \"31\", \"32\", \"36\"], \"mode\": \"lines\", \"name\": \"average_precision_score_micro_max\", \"stepped\": true, \"type\": \"scatter\", \"data\": [0.9972559403772127, 0.9975215789158822, 0.9975215789158822, 0.9975215789158822, 0.9975215789158822, 0.9979704303198105, 0.9979704303198105, 0.9979704303198105, 0.9979704303198105, 0.9979704303198105, 0.9979704303198105, 0.9979704303198105, 0.9979704303198105, 0.9979704303198105, 0.9979704303198105, 0.9979704303198105, 0.9983229489793697, 0.9983229489793697, 0.9983229489793697, 0.9983229489793697, 0.9983229489793697, 0.9983229489793697, 0.9983229489793697, 0.9983229489793697, 0.9983229489793697, 0.9983229489793697, 0.9983229489793697, 0.9983229489793697, 0.9983229489793697, 0.9983229489793697, 0.9983229489793697, 0.9983229489793697, 0.9983229489793697, 0.9983229489793697]}], \"precision_score_macro\": [{\"categories\": [\"0\", \"1\", \"2\", \"3\", \"4\", \"5\", \"6\", \"7\", \"8\", \"9\", \"10\", \"11\", \"12\", \"13\", \"14\", \"15\", \"16\", \"17\", \"18\", \"19\", \"20\", \"21\", \"22\", \"23\", \"24\", \"25\", \"26\", \"27\", \"28\", \"29\", \"30\", \"31\", \"32\", \"36\"], \"mode\": \"markers\", \"name\": \"precision_score_macro\", \"stepped\": false, \"type\": \"scatter\", \"data\": [0.9859601626609914, 0.9874290036186757, 0.9856083587292638, 0.9038792129573255, 0.984240702185185, 0.9874680863044224, 0.9880841273295596, 0.9841651068165538, 0.9884959222845077, 0.9891065029764158, 0.9880608739178625, 0.9886701029252211, 0.9891065029764158, 0.9776556283689009, 0.9692957290818155, 0.9769495459051035, 0.9893849555755435, 0.9882419543880997, 0.9845617044383258, 0.9886701029252211, 0.987104363231844, 0.9891065029764158, 0.9891065029764158, 0.987597126651324, 0.9861274441317031, 0.2600806451612903, 0.9646928691250811, 0.9833643757610872, 0.9850598688902327, 0.9886701029252211, 0.9525088911885007, 0.9883580558226743, 0.9832553889103745, 0.989590281538785]}, {\"categories\": [\"0\", \"1\", \"2\", \"3\", \"4\", \"5\", \"6\", \"7\", \"8\", \"9\", \"10\", \"11\", \"12\", \"13\", \"14\", \"15\", \"16\", \"17\", \"18\", \"19\", \"20\", \"21\", \"22\", \"23\", \"24\", \"25\", \"26\", \"27\", \"28\", \"29\", \"30\", \"31\", \"32\", \"36\"], \"mode\": \"lines\", \"name\": \"precision_score_macro_max\", \"stepped\": true, \"type\": \"scatter\", \"data\": [0.9859601626609914, 0.9874290036186757, 0.9874290036186757, 0.9874290036186757, 0.9874290036186757, 0.9874680863044224, 0.9880841273295596, 0.9880841273295596, 0.9884959222845077, 0.9891065029764158, 0.9891065029764158, 0.9891065029764158, 0.9891065029764158, 0.9891065029764158, 0.9891065029764158, 0.9891065029764158, 0.9893849555755435, 0.9893849555755435, 0.9893849555755435, 0.9893849555755435, 0.9893849555755435, 0.9893849555755435, 0.9893849555755435, 0.9893849555755435, 0.9893849555755435, 0.9893849555755435, 0.9893849555755435, 0.9893849555755435, 0.9893849555755435, 0.9893849555755435, 0.9893849555755435, 0.9893849555755435, 0.9893849555755435, 0.989590281538785]}], \"matthews_correlation\": [{\"categories\": [\"0\", \"1\", \"2\", \"3\", \"4\", \"5\", \"6\", \"7\", \"8\", \"9\", \"10\", \"11\", \"12\", \"13\", \"14\", \"15\", \"16\", \"17\", \"18\", \"19\", \"20\", \"21\", \"22\", \"23\", \"24\", \"25\", \"26\", \"27\", \"28\", \"29\", \"30\", \"31\", \"32\", \"36\"], \"mode\": \"markers\", \"name\": \"matthews_correlation\", \"stepped\": false, \"type\": \"scatter\", \"data\": [0.9688776122561498, 0.9705000497600277, 0.9319207527711278, 0.6986570846131651, 0.9669701798524359, 0.9704762725595608, 0.9669957735529203, 0.970762566514876, 0.9510613829624185, 0.9632996005664913, 0.9651829521064936, 0.9688780931233998, 0.9632996005664913, 0.8788239452416259, 0.9526286606478097, 0.9246932262762066, 0.9652228533755588, 0.9575435295567557, 0.9612529363359551, 0.9688780931233998, 0.9669776116135287, 0.9632996005664913, 0.9632996005664913, 0.9541449236542737, 0.9631534178458262, 0.0, 0.9236642508965204, 0.9610391244534474, 0.9687724669474624, 0.9688780931233998, 0.9299206536104024, 0.9669781450022944, 0.9497696098805958, 0.9741550901484283]}, {\"categories\": [\"0\", \"1\", \"2\", \"3\", \"4\", \"5\", \"6\", \"7\", \"8\", \"9\", \"10\", \"11\", \"12\", \"13\", \"14\", \"15\", \"16\", \"17\", \"18\", \"19\", \"20\", \"21\", \"22\", \"23\", \"24\", \"25\", \"26\", \"27\", \"28\", \"29\", \"30\", \"31\", \"32\", \"36\"], \"mode\": \"lines\", \"name\": \"matthews_correlation_max\", \"stepped\": true, \"type\": \"scatter\", \"data\": [0.9688776122561498, 0.9705000497600277, 0.9705000497600277, 0.9705000497600277, 0.9705000497600277, 0.9705000497600277, 0.9705000497600277, 0.970762566514876, 0.970762566514876, 0.970762566514876, 0.970762566514876, 0.970762566514876, 0.970762566514876, 0.970762566514876, 0.970762566514876, 0.970762566514876, 0.970762566514876, 0.970762566514876, 0.970762566514876, 0.970762566514876, 0.970762566514876, 0.970762566514876, 0.970762566514876, 0.970762566514876, 0.970762566514876, 0.970762566514876, 0.970762566514876, 0.970762566514876, 0.970762566514876, 0.970762566514876, 0.970762566514876, 0.970762566514876, 0.970762566514876, 0.9741550901484283]}], \"f1_score_macro\": [{\"categories\": [\"0\", \"1\", \"2\", \"3\", \"4\", \"5\", \"6\", \"7\", \"8\", \"9\", \"10\", \"11\", \"12\", \"13\", \"14\", \"15\", \"16\", \"17\", \"18\", \"19\", \"20\", \"21\", \"22\", \"23\", \"24\", \"25\", \"26\", \"27\", \"28\", \"29\", \"30\", \"31\", \"32\", \"36\"], \"mode\": \"markers\", \"name\": \"f1_score_macro\", \"stepped\": false, \"type\": \"scatter\", \"data\": [0.9815267665587252, 0.9821952651056112, 0.9591996920418868, 0.7226421019799774, 0.9785210317540045, 0.9823365253745807, 0.980154495361529, 0.982573844662471, 0.9712197778511865, 0.9782891853992485, 0.9794563250008421, 0.9813601153722177, 0.9782891853992485, 0.92719358671216, 0.9712678796224953, 0.9400747165796698, 0.9792645356800703, 0.9751646975029843, 0.9771696166765964, 0.9813601153722177, 0.9804413287584567, 0.9782891853992485, 0.9782891853992485, 0.9708264323627072, 0.9780884032903575, 0.2921699745537218, 0.9410461513505376, 0.9756870648908967, 0.9799654269546156, 0.9813601153722177, 0.9471795573809368, 0.9802389025558811, 0.9633151477287729, 0.9841203790641262]}, {\"categories\": [\"0\", \"1\", \"2\", \"3\", \"4\", \"5\", \"6\", \"7\", \"8\", \"9\", \"10\", \"11\", \"12\", \"13\", \"14\", \"15\", \"16\", \"17\", \"18\", \"19\", \"20\", \"21\", \"22\", \"23\", \"24\", \"25\", \"26\", \"27\", \"28\", \"29\", \"30\", \"31\", \"32\", \"36\"], \"mode\": \"lines\", \"name\": \"f1_score_macro_max\", \"stepped\": true, \"type\": \"scatter\", \"data\": [0.9815267665587252, 0.9821952651056112, 0.9821952651056112, 0.9821952651056112, 0.9821952651056112, 0.9823365253745807, 0.9823365253745807, 0.982573844662471, 0.982573844662471, 0.982573844662471, 0.982573844662471, 0.982573844662471, 0.982573844662471, 0.982573844662471, 0.982573844662471, 0.982573844662471, 0.982573844662471, 0.982573844662471, 0.982573844662471, 0.982573844662471, 0.982573844662471, 0.982573844662471, 0.982573844662471, 0.982573844662471, 0.982573844662471, 0.982573844662471, 0.982573844662471, 0.982573844662471, 0.982573844662471, 0.982573844662471, 0.982573844662471, 0.982573844662471, 0.982573844662471, 0.9841203790641262]}], \"recall_score_weighted\": [{\"categories\": [\"0\", \"1\", \"2\", \"3\", \"4\", \"5\", \"6\", \"7\", \"8\", \"9\", \"10\", \"11\", \"12\", \"13\", \"14\", \"15\", \"16\", \"17\", \"18\", \"19\", \"20\", \"21\", \"22\", \"23\", \"24\", \"25\", \"26\", \"27\", \"28\", \"29\", \"30\", \"31\", \"32\", \"36\"], \"mode\": \"markers\", \"name\": \"recall_score_weighted\", \"stepped\": false, \"type\": \"scatter\", \"data\": [0.9885752688172044, 0.989247311827957, 0.9751344086021505, 0.898521505376344, 0.9879032258064516, 0.989247311827957, 0.9879032258064516, 0.989247311827957, 0.9818548387096774, 0.9865591397849461, 0.9872311827956989, 0.9885752688172044, 0.9865591397849461, 0.9563172043010754, 0.98252688172043, 0.9731182795698925, 0.9872311827956989, 0.9845430107526881, 0.9858870967741935, 0.9885752688172044, 0.9879032258064516, 0.9865591397849461, 0.9865591397849461, 0.9831989247311829, 0.9865591397849461, 0.780241935483871, 0.9724462365591399, 0.9858870967741935, 0.9885752688172044, 0.9885752688172044, 0.9744623655913979, 0.9879032258064516, 0.9818548387096774, 0.9905913978494624]}, {\"categories\": [\"0\", \"1\", \"2\", \"3\", \"4\", \"5\", \"6\", \"7\", \"8\", \"9\", \"10\", \"11\", \"12\", \"13\", \"14\", \"15\", \"16\", \"17\", \"18\", \"19\", \"20\", \"21\", \"22\", \"23\", \"24\", \"25\", \"26\", \"27\", \"28\", \"29\", \"30\", \"31\", \"32\", \"36\"], \"mode\": \"lines\", \"name\": \"recall_score_weighted_max\", \"stepped\": true, \"type\": \"scatter\", \"data\": [0.9885752688172044, 0.989247311827957, 0.989247311827957, 0.989247311827957, 0.989247311827957, 0.989247311827957, 0.989247311827957, 0.989247311827957, 0.989247311827957, 0.989247311827957, 0.989247311827957, 0.989247311827957, 0.989247311827957, 0.989247311827957, 0.989247311827957, 0.989247311827957, 0.989247311827957, 0.989247311827957, 0.989247311827957, 0.989247311827957, 0.989247311827957, 0.989247311827957, 0.989247311827957, 0.989247311827957, 0.989247311827957, 0.989247311827957, 0.989247311827957, 0.989247311827957, 0.989247311827957, 0.989247311827957, 0.989247311827957, 0.989247311827957, 0.989247311827957, 0.9905913978494624]}], \"log_loss\": [{\"categories\": [\"0\", \"1\", \"2\", \"3\", \"4\", \"5\", \"6\", \"7\", \"8\", \"9\", \"10\", \"11\", \"12\", \"13\", \"14\", \"15\", \"16\", \"17\", \"18\", \"19\", \"20\", \"21\", \"22\", \"23\", \"24\", \"25\", \"26\", \"27\", \"28\", \"29\", \"30\", \"31\", \"32\", \"36\"], \"mode\": \"markers\", \"name\": \"log_loss\", \"stepped\": false, \"type\": \"scatter\", \"data\": [0.0631054936028851, 0.04681927885529765, 0.14176364945585654, 0.2890534864947997, 0.14062596409084513, 0.04161085921303015, 0.058611342134359375, 0.05148996596034442, 0.16263947605914905, 0.08992222814336999, 0.05491628901318427, 0.06411830960113389, 0.07949175887792442, 0.1274374049504807, 0.0723714615481539, 0.13620049948191296, 0.36250166423820834, 0.11593492887836859, 0.05289507615767244, 0.1128181585507388, 0.060142287217433865, 0.179770240964526, 0.3727222805524962, 0.07307621951576551, 0.05190625782175323, 0.6690418106764002, 0.10890349254178178, 0.06439041787687365, 0.058233524234978684, 0.11536592502713187, 0.41935645870903765, 0.3726347539594852, 0.15553734434168198, 0.050801697300502185]}, {\"categories\": [\"0\", \"1\", \"2\", \"3\", \"4\", \"5\", \"6\", \"7\", \"8\", \"9\", \"10\", \"11\", \"12\", \"13\", \"14\", \"15\", \"16\", \"17\", \"18\", \"19\", \"20\", \"21\", \"22\", \"23\", \"24\", \"25\", \"26\", \"27\", \"28\", \"29\", \"30\", \"31\", \"32\", \"36\"], \"mode\": \"lines\", \"name\": \"log_loss_min\", \"stepped\": true, \"type\": \"scatter\", \"data\": [0.0631054936028851, 0.04681927885529765, 0.04681927885529765, 0.04681927885529765, 0.04681927885529765, 0.04161085921303015, 0.04161085921303015, 0.04161085921303015, 0.04161085921303015, 0.04161085921303015, 0.04161085921303015, 0.04161085921303015, 0.04161085921303015, 0.04161085921303015, 0.04161085921303015, 0.04161085921303015, 0.04161085921303015, 0.04161085921303015, 0.04161085921303015, 0.04161085921303015, 0.04161085921303015, 0.04161085921303015, 0.04161085921303015, 0.04161085921303015, 0.04161085921303015, 0.04161085921303015, 0.04161085921303015, 0.04161085921303015, 0.04161085921303015, 0.04161085921303015, 0.04161085921303015, 0.04161085921303015, 0.04161085921303015, 0.04161085921303015]}], \"average_precision_score_macro\": [{\"categories\": [\"0\", \"1\", \"2\", \"3\", \"4\", \"5\", \"6\", \"7\", \"8\", \"9\", \"10\", \"11\", \"12\", \"13\", \"14\", \"15\", \"16\", \"17\", \"18\", \"19\", \"20\", \"21\", \"22\", \"23\", \"24\", \"25\", \"26\", \"27\", \"28\", \"29\", \"30\", \"31\", \"32\", \"36\"], \"mode\": \"markers\", \"name\": \"average_precision_score_macro\", \"stepped\": false, \"type\": \"scatter\", \"data\": [0.9888336018136538, 0.9899738743023031, 0.9871168424365563, 0.9187864390591569, 0.9903377372577417, 0.9939713019237589, 0.9910158100716103, 0.9888358559976312, 0.9915896265325695, 0.9838244869260658, 0.9920889572063833, 0.988288598024384, 0.9836971946856566, 0.9840689952590337, 0.98155279287051, 0.9838673464385076, 0.9949344873804433, 0.9877877096450609, 0.9889706360868459, 0.9890299297409483, 0.9895428767415893, 0.9882465059218756, 0.9885736413627607, 0.9855474252110007, 0.9906582384506537, 0.36634844685274204, 0.9843583365621873, 0.990479497220217, 0.9841461990046678, 0.9888319186530833, 0.9767058447620518, 0.9903196271241609, 0.9839498447549068, 0.9918763467908498]}, {\"categories\": [\"0\", \"1\", \"2\", \"3\", \"4\", \"5\", \"6\", \"7\", \"8\", \"9\", \"10\", \"11\", \"12\", \"13\", \"14\", \"15\", \"16\", \"17\", \"18\", \"19\", \"20\", \"21\", \"22\", \"23\", \"24\", \"25\", \"26\", \"27\", \"28\", \"29\", \"30\", \"31\", \"32\", \"36\"], \"mode\": \"lines\", \"name\": \"average_precision_score_macro_max\", \"stepped\": true, \"type\": \"scatter\", \"data\": [0.9888336018136538, 0.9899738743023031, 0.9899738743023031, 0.9899738743023031, 0.9903377372577417, 0.9939713019237589, 0.9939713019237589, 0.9939713019237589, 0.9939713019237589, 0.9939713019237589, 0.9939713019237589, 0.9939713019237589, 0.9939713019237589, 0.9939713019237589, 0.9939713019237589, 0.9939713019237589, 0.9949344873804433, 0.9949344873804433, 0.9949344873804433, 0.9949344873804433, 0.9949344873804433, 0.9949344873804433, 0.9949344873804433, 0.9949344873804433, 0.9949344873804433, 0.9949344873804433, 0.9949344873804433, 0.9949344873804433, 0.9949344873804433, 0.9949344873804433, 0.9949344873804433, 0.9949344873804433, 0.9949344873804433, 0.9949344873804433]}], \"precision_score_micro\": [{\"categories\": [\"0\", \"1\", \"2\", \"3\", \"4\", \"5\", \"6\", \"7\", \"8\", \"9\", \"10\", \"11\", \"12\", \"13\", \"14\", \"15\", \"16\", \"17\", \"18\", \"19\", \"20\", \"21\", \"22\", \"23\", \"24\", \"25\", \"26\", \"27\", \"28\", \"29\", \"30\", \"31\", \"32\", \"36\"], \"mode\": \"markers\", \"name\": \"precision_score_micro\", \"stepped\": false, \"type\": \"scatter\", \"data\": [0.9885752688172044, 0.989247311827957, 0.9751344086021505, 0.898521505376344, 0.9879032258064516, 0.989247311827957, 0.9879032258064516, 0.989247311827957, 0.9818548387096774, 0.9865591397849461, 0.9872311827956989, 0.9885752688172044, 0.9865591397849461, 0.9563172043010754, 0.98252688172043, 0.9731182795698925, 0.9872311827956989, 0.9845430107526881, 0.9858870967741935, 0.9885752688172044, 0.9879032258064516, 0.9865591397849461, 0.9865591397849461, 0.9831989247311829, 0.9865591397849461, 0.780241935483871, 0.9724462365591399, 0.9858870967741935, 0.9885752688172044, 0.9885752688172044, 0.9744623655913979, 0.9879032258064516, 0.9818548387096774, 0.9905913978494624]}, {\"categories\": [\"0\", \"1\", \"2\", \"3\", \"4\", \"5\", \"6\", \"7\", \"8\", \"9\", \"10\", \"11\", \"12\", \"13\", \"14\", \"15\", \"16\", \"17\", \"18\", \"19\", \"20\", \"21\", \"22\", \"23\", \"24\", \"25\", \"26\", \"27\", \"28\", \"29\", \"30\", \"31\", \"32\", \"36\"], \"mode\": \"lines\", \"name\": \"precision_score_micro_max\", \"stepped\": true, \"type\": \"scatter\", \"data\": [0.9885752688172044, 0.989247311827957, 0.989247311827957, 0.989247311827957, 0.989247311827957, 0.989247311827957, 0.989247311827957, 0.989247311827957, 0.989247311827957, 0.989247311827957, 0.989247311827957, 0.989247311827957, 0.989247311827957, 0.989247311827957, 0.989247311827957, 0.989247311827957, 0.989247311827957, 0.989247311827957, 0.989247311827957, 0.989247311827957, 0.989247311827957, 0.989247311827957, 0.989247311827957, 0.989247311827957, 0.989247311827957, 0.989247311827957, 0.989247311827957, 0.989247311827957, 0.989247311827957, 0.989247311827957, 0.989247311827957, 0.989247311827957, 0.989247311827957, 0.9905913978494624]}], \"accuracy\": [{\"categories\": [\"0\", \"1\", \"2\", \"3\", \"4\", \"5\", \"6\", \"7\", \"8\", \"9\", \"10\", \"11\", \"12\", \"13\", \"14\", \"15\", \"16\", \"17\", \"18\", \"19\", \"20\", \"21\", \"22\", \"23\", \"24\", \"25\", \"26\", \"27\", \"28\", \"29\", \"30\", \"31\", \"32\", \"36\"], \"mode\": \"markers\", \"name\": \"accuracy\", \"stepped\": false, \"type\": \"scatter\", \"data\": [0.9885752688172044, 0.989247311827957, 0.9751344086021505, 0.898521505376344, 0.9879032258064516, 0.989247311827957, 0.9879032258064516, 0.989247311827957, 0.9818548387096774, 0.9865591397849461, 0.9872311827956989, 0.9885752688172044, 0.9865591397849461, 0.9563172043010754, 0.98252688172043, 0.9731182795698925, 0.9872311827956989, 0.9845430107526881, 0.9858870967741935, 0.9885752688172044, 0.9879032258064516, 0.9865591397849461, 0.9865591397849461, 0.9831989247311829, 0.9865591397849461, 0.780241935483871, 0.9724462365591399, 0.9858870967741935, 0.9885752688172044, 0.9885752688172044, 0.9744623655913979, 0.9879032258064516, 0.9818548387096774, 0.9905913978494624]}, {\"categories\": [\"0\", \"1\", \"2\", \"3\", \"4\", \"5\", \"6\", \"7\", \"8\", \"9\", \"10\", \"11\", \"12\", \"13\", \"14\", \"15\", \"16\", \"17\", \"18\", \"19\", \"20\", \"21\", \"22\", \"23\", \"24\", \"25\", \"26\", \"27\", \"28\", \"29\", \"30\", \"31\", \"32\", \"36\"], \"mode\": \"lines\", \"name\": \"accuracy_max\", \"stepped\": true, \"type\": \"scatter\", \"data\": [0.9885752688172044, 0.989247311827957, 0.989247311827957, 0.989247311827957, 0.989247311827957, 0.989247311827957, 0.989247311827957, 0.989247311827957, 0.989247311827957, 0.989247311827957, 0.989247311827957, 0.989247311827957, 0.989247311827957, 0.989247311827957, 0.989247311827957, 0.989247311827957, 0.989247311827957, 0.989247311827957, 0.989247311827957, 0.989247311827957, 0.989247311827957, 0.989247311827957, 0.989247311827957, 0.989247311827957, 0.989247311827957, 0.989247311827957, 0.989247311827957, 0.989247311827957, 0.989247311827957, 0.989247311827957, 0.989247311827957, 0.989247311827957, 0.989247311827957, 0.9905913978494624]}], \"recall_score_macro\": [{\"categories\": [\"0\", \"1\", \"2\", \"3\", \"4\", \"5\", \"6\", \"7\", \"8\", \"9\", \"10\", \"11\", \"12\", \"13\", \"14\", \"15\", \"16\", \"17\", \"18\", \"19\", \"20\", \"21\", \"22\", \"23\", \"24\", \"25\", \"26\", \"27\", \"28\", \"29\", \"30\", \"31\", \"32\", \"36\"], \"mode\": \"markers\", \"name\": \"recall_score_macro\", \"stepped\": false, \"type\": \"scatter\", \"data\": [0.9773189915466461, 0.9772630474529116, 0.9377214131009198, 0.6616269283862127, 0.9732865246109533, 0.9774678605609505, 0.9728683765835865, 0.9810616575584414, 0.9572848298654751, 0.9685356722508822, 0.971631641821506, 0.9746619448518089, 0.9685356722508822, 0.8950495740818321, 0.9738671194355782, 0.91395542576757, 0.9701229738381838, 0.9635689543809384, 0.9705093684642095, 0.9746619448518089, 0.9743784981397908, 0.9685356722508822, 0.9685356722508822, 0.9559263176586054, 0.9707928151762276, 0.3333333333333333, 0.9219534734715, 0.9685303734601153, 0.9752906595982817, 0.9746619448518089, 0.9431703790328448, 0.9728698301564686, 0.9460960435004893, 0.9789909491808132]}, {\"categories\": [\"0\", \"1\", \"2\", \"3\", \"4\", \"5\", \"6\", \"7\", \"8\", \"9\", \"10\", \"11\", \"12\", \"13\", \"14\", \"15\", \"16\", \"17\", \"18\", \"19\", \"20\", \"21\", \"22\", \"23\", \"24\", \"25\", \"26\", \"27\", \"28\", \"29\", \"30\", \"31\", \"32\", \"36\"], \"mode\": \"lines\", \"name\": \"recall_score_macro_max\", \"stepped\": true, \"type\": \"scatter\", \"data\": [0.9773189915466461, 0.9773189915466461, 0.9773189915466461, 0.9773189915466461, 0.9773189915466461, 0.9774678605609505, 0.9774678605609505, 0.9810616575584414, 0.9810616575584414, 0.9810616575584414, 0.9810616575584414, 0.9810616575584414, 0.9810616575584414, 0.9810616575584414, 0.9810616575584414, 0.9810616575584414, 0.9810616575584414, 0.9810616575584414, 0.9810616575584414, 0.9810616575584414, 0.9810616575584414, 0.9810616575584414, 0.9810616575584414, 0.9810616575584414, 0.9810616575584414, 0.9810616575584414, 0.9810616575584414, 0.9810616575584414, 0.9810616575584414, 0.9810616575584414, 0.9810616575584414, 0.9810616575584414, 0.9810616575584414, 0.9810616575584414]}], \"f1_score_micro\": [{\"categories\": [\"0\", \"1\", \"2\", \"3\", \"4\", \"5\", \"6\", \"7\", \"8\", \"9\", \"10\", \"11\", \"12\", \"13\", \"14\", \"15\", \"16\", \"17\", \"18\", \"19\", \"20\", \"21\", \"22\", \"23\", \"24\", \"25\", \"26\", \"27\", \"28\", \"29\", \"30\", \"31\", \"32\", \"36\"], \"mode\": \"markers\", \"name\": \"f1_score_micro\", \"stepped\": false, \"type\": \"scatter\", \"data\": [0.9885752688172044, 0.989247311827957, 0.9751344086021505, 0.898521505376344, 0.9879032258064516, 0.989247311827957, 0.9879032258064516, 0.989247311827957, 0.9818548387096774, 0.9865591397849461, 0.9872311827956989, 0.9885752688172044, 0.9865591397849461, 0.9563172043010754, 0.98252688172043, 0.9731182795698925, 0.9872311827956989, 0.9845430107526881, 0.9858870967741935, 0.9885752688172044, 0.9879032258064516, 0.9865591397849461, 0.9865591397849461, 0.9831989247311829, 0.9865591397849461, 0.780241935483871, 0.9724462365591399, 0.9858870967741935, 0.9885752688172044, 0.9885752688172044, 0.9744623655913979, 0.9879032258064516, 0.9818548387096774, 0.9905913978494624]}, {\"categories\": [\"0\", \"1\", \"2\", \"3\", \"4\", \"5\", \"6\", \"7\", \"8\", \"9\", \"10\", \"11\", \"12\", \"13\", \"14\", \"15\", \"16\", \"17\", \"18\", \"19\", \"20\", \"21\", \"22\", \"23\", \"24\", \"25\", \"26\", \"27\", \"28\", \"29\", \"30\", \"31\", \"32\", \"36\"], \"mode\": \"lines\", \"name\": \"f1_score_micro_max\", \"stepped\": true, \"type\": \"scatter\", \"data\": [0.9885752688172044, 0.989247311827957, 0.989247311827957, 0.989247311827957, 0.989247311827957, 0.989247311827957, 0.989247311827957, 0.989247311827957, 0.989247311827957, 0.989247311827957, 0.989247311827957, 0.989247311827957, 0.989247311827957, 0.989247311827957, 0.989247311827957, 0.989247311827957, 0.989247311827957, 0.989247311827957, 0.989247311827957, 0.989247311827957, 0.989247311827957, 0.989247311827957, 0.989247311827957, 0.989247311827957, 0.989247311827957, 0.989247311827957, 0.989247311827957, 0.989247311827957, 0.989247311827957, 0.989247311827957, 0.989247311827957, 0.989247311827957, 0.989247311827957, 0.9905913978494624]}], \"AUC_macro\": [{\"categories\": [\"0\", \"1\", \"2\", \"3\", \"4\", \"5\", \"6\", \"7\", \"8\", \"9\", \"10\", \"11\", \"12\", \"13\", \"14\", \"15\", \"16\", \"17\", \"18\", \"19\", \"20\", \"21\", \"22\", \"23\", \"24\", \"25\", \"26\", \"27\", \"28\", \"29\", \"30\", \"31\", \"32\", \"36\"], \"mode\": \"markers\", \"name\": \"AUC_macro\", \"stepped\": false, \"type\": \"scatter\", \"data\": [0.996188249162041, 0.9970722853486088, 0.9956152779108928, 0.9757107583146046, 0.9955215614167517, 0.9973897661087848, 0.9958809663355002, 0.9946268784199367, 0.9959044434364005, 0.9955107133494526, 0.9969298539711722, 0.9949947224906549, 0.9950955116705088, 0.993327147957423, 0.9924502291985821, 0.9959565105918289, 0.9981143973192474, 0.9947800906802612, 0.9964264853670673, 0.994040116420278, 0.9950132683190671, 0.995242528867554, 0.9958191689726826, 0.9940963510445585, 0.9966156728926046, 0.580951017533508, 0.9927900692252742, 0.9958256642632733, 0.9951439172295352, 0.9945430130682694, 0.9918613182025463, 0.9948130750519812, 0.9927513497734205, 0.9969601795535197]}, {\"categories\": [\"0\", \"1\", \"2\", \"3\", \"4\", \"5\", \"6\", \"7\", \"8\", \"9\", \"10\", \"11\", \"12\", \"13\", \"14\", \"15\", \"16\", \"17\", \"18\", \"19\", \"20\", \"21\", \"22\", \"23\", \"24\", \"25\", \"26\", \"27\", \"28\", \"29\", \"30\", \"31\", \"32\", \"36\"], \"mode\": \"lines\", \"name\": \"AUC_macro_max\", \"stepped\": true, \"type\": \"scatter\", \"data\": [0.996188249162041, 0.9970722853486088, 0.9970722853486088, 0.9970722853486088, 0.9970722853486088, 0.9973897661087848, 0.9973897661087848, 0.9973897661087848, 0.9973897661087848, 0.9973897661087848, 0.9973897661087848, 0.9973897661087848, 0.9973897661087848, 0.9973897661087848, 0.9973897661087848, 0.9973897661087848, 0.9981143973192474, 0.9981143973192474, 0.9981143973192474, 0.9981143973192474, 0.9981143973192474, 0.9981143973192474, 0.9981143973192474, 0.9981143973192474, 0.9981143973192474, 0.9981143973192474, 0.9981143973192474, 0.9981143973192474, 0.9981143973192474, 0.9981143973192474, 0.9981143973192474, 0.9981143973192474, 0.9981143973192474, 0.9981143973192474]}], \"precision_score_weighted\": [{\"categories\": [\"0\", \"1\", \"2\", \"3\", \"4\", \"5\", \"6\", \"7\", \"8\", \"9\", \"10\", \"11\", \"12\", \"13\", \"14\", \"15\", \"16\", \"17\", \"18\", \"19\", \"20\", \"21\", \"22\", \"23\", \"24\", \"25\", \"26\", \"27\", \"28\", \"29\", \"30\", \"31\", \"32\", \"36\"], \"mode\": \"markers\", \"name\": \"precision_score_weighted\", \"stepped\": false, \"type\": \"scatter\", \"data\": [0.9885028964415095, 0.9891914385358822, 0.9757829228429497, 0.9018670605189087, 0.9878617087548903, 0.9892015328750493, 0.9878679882647435, 0.9892356057150732, 0.9823011271150683, 0.986600170431187, 0.9872328884420106, 0.9885664138384093, 0.986600170431187, 0.9582036593922801, 0.9829609845983921, 0.9736138292745494, 0.9872603725613769, 0.9846231829403763, 0.9858367571488138, 0.9885664138384093, 0.987900690515223, 0.986600170431187, 0.986600170431187, 0.9833245836117369, 0.9865024804719998, 0.6089102605792577, 0.972626842538055, 0.9857828895325085, 0.9885823960638551, 0.9885664138384093, 0.9746029664896949, 0.9878970107612455, 0.9820643541200904, 0.9905598877666265]}, {\"categories\": [\"0\", \"1\", \"2\", \"3\", \"4\", \"5\", \"6\", \"7\", \"8\", \"9\", \"10\", \"11\", \"12\", \"13\", \"14\", \"15\", \"16\", \"17\", \"18\", \"19\", \"20\", \"21\", \"22\", \"23\", \"24\", \"25\", \"26\", \"27\", \"28\", \"29\", \"30\", \"31\", \"32\", \"36\"], \"mode\": \"lines\", \"name\": \"precision_score_weighted_max\", \"stepped\": true, \"type\": \"scatter\", \"data\": [0.9885028964415095, 0.9891914385358822, 0.9891914385358822, 0.9891914385358822, 0.9891914385358822, 0.9892015328750493, 0.9892015328750493, 0.9892356057150732, 0.9892356057150732, 0.9892356057150732, 0.9892356057150732, 0.9892356057150732, 0.9892356057150732, 0.9892356057150732, 0.9892356057150732, 0.9892356057150732, 0.9892356057150732, 0.9892356057150732, 0.9892356057150732, 0.9892356057150732, 0.9892356057150732, 0.9892356057150732, 0.9892356057150732, 0.9892356057150732, 0.9892356057150732, 0.9892356057150732, 0.9892356057150732, 0.9892356057150732, 0.9892356057150732, 0.9892356057150732, 0.9892356057150732, 0.9892356057150732, 0.9892356057150732, 0.9905598877666265]}], \"balanced_accuracy\": [{\"categories\": [\"0\", \"1\", \"2\", \"3\", \"4\", \"5\", \"6\", \"7\", \"8\", \"9\", \"10\", \"11\", \"12\", \"13\", \"14\", \"15\", \"16\", \"17\", \"18\", \"19\", \"20\", \"21\", \"22\", \"23\", \"24\", \"25\", \"26\", \"27\", \"28\", \"29\", \"30\", \"31\", \"32\", \"36\"], \"mode\": \"markers\", \"name\": \"balanced_accuracy\", \"stepped\": false, \"type\": \"scatter\", \"data\": [0.9773189915466461, 0.9772630474529116, 0.9377214131009198, 0.6616269283862127, 0.9732865246109533, 0.9774678605609505, 0.9728683765835865, 0.9810616575584414, 0.9572848298654751, 0.9685356722508822, 0.971631641821506, 0.9746619448518089, 0.9685356722508822, 0.8950495740818321, 0.9738671194355782, 0.91395542576757, 0.9701229738381838, 0.9635689543809384, 0.9705093684642095, 0.9746619448518089, 0.9743784981397908, 0.9685356722508822, 0.9685356722508822, 0.9559263176586054, 0.9707928151762276, 0.3333333333333333, 0.9219534734715, 0.9685303734601153, 0.9752906595982817, 0.9746619448518089, 0.9431703790328448, 0.9728698301564686, 0.9460960435004893, 0.9789909491808132]}, {\"categories\": [\"0\", \"1\", \"2\", \"3\", \"4\", \"5\", \"6\", \"7\", \"8\", \"9\", \"10\", \"11\", \"12\", \"13\", \"14\", \"15\", \"16\", \"17\", \"18\", \"19\", \"20\", \"21\", \"22\", \"23\", \"24\", \"25\", \"26\", \"27\", \"28\", \"29\", \"30\", \"31\", \"32\", \"36\"], \"mode\": \"lines\", \"name\": \"balanced_accuracy_max\", \"stepped\": true, \"type\": \"scatter\", \"data\": [0.9773189915466461, 0.9773189915466461, 0.9773189915466461, 0.9773189915466461, 0.9773189915466461, 0.9774678605609505, 0.9774678605609505, 0.9810616575584414, 0.9810616575584414, 0.9810616575584414, 0.9810616575584414, 0.9810616575584414, 0.9810616575584414, 0.9810616575584414, 0.9810616575584414, 0.9810616575584414, 0.9810616575584414, 0.9810616575584414, 0.9810616575584414, 0.9810616575584414, 0.9810616575584414, 0.9810616575584414, 0.9810616575584414, 0.9810616575584414, 0.9810616575584414, 0.9810616575584414, 0.9810616575584414, 0.9810616575584414, 0.9810616575584414, 0.9810616575584414, 0.9810616575584414, 0.9810616575584414, 0.9810616575584414, 0.9810616575584414]}], \"AUC_weighted\": [{\"categories\": [\"0\", \"1\", \"2\", \"3\", \"4\", \"5\", \"6\", \"7\", \"8\", \"9\", \"10\", \"11\", \"12\", \"13\", \"14\", \"15\", \"16\", \"17\", \"18\", \"19\", \"20\", \"21\", \"22\", \"23\", \"24\", \"25\", \"26\", \"27\", \"28\", \"29\", \"30\", \"31\", \"32\", \"36\"], \"mode\": \"markers\", \"name\": \"AUC_weighted\", \"stepped\": false, \"type\": \"scatter\", \"data\": [0.9968087873848552, 0.997425835999629, 0.9971105420490417, 0.9772820393750054, 0.9958407471742183, 0.9975324881207674, 0.996003556894253, 0.9953170550263394, 0.996289025667315, 0.9971189604012077, 0.9972440410519949, 0.995377203236663, 0.9960742946489218, 0.9942871659688839, 0.994309707567156, 0.9972241760697714, 0.9981847355189811, 0.9954398710146789, 0.9968993377543343, 0.9938439900688643, 0.9953392971504554, 0.9961931106299566, 0.9965896610609392, 0.9944335318348173, 0.9968699388955077, 0.6109377386878859, 0.9931601088974169, 0.9958914107085136, 0.9955563514858569, 0.9945733600244987, 0.992036073362974, 0.9946215424568735, 0.9930339518647107, 0.9973260952211374]}, {\"categories\": [\"0\", \"1\", \"2\", \"3\", \"4\", \"5\", \"6\", \"7\", \"8\", \"9\", \"10\", \"11\", \"12\", \"13\", \"14\", \"15\", \"16\", \"17\", \"18\", \"19\", \"20\", \"21\", \"22\", \"23\", \"24\", \"25\", \"26\", \"27\", \"28\", \"29\", \"30\", \"31\", \"32\", \"36\"], \"mode\": \"lines\", \"name\": \"AUC_weighted_max\", \"stepped\": true, \"type\": \"scatter\", \"data\": [0.9968087873848552, 0.997425835999629, 0.997425835999629, 0.997425835999629, 0.997425835999629, 0.9975324881207674, 0.9975324881207674, 0.9975324881207674, 0.9975324881207674, 0.9975324881207674, 0.9975324881207674, 0.9975324881207674, 0.9975324881207674, 0.9975324881207674, 0.9975324881207674, 0.9975324881207674, 0.9981847355189811, 0.9981847355189811, 0.9981847355189811, 0.9981847355189811, 0.9981847355189811, 0.9981847355189811, 0.9981847355189811, 0.9981847355189811, 0.9981847355189811, 0.9981847355189811, 0.9981847355189811, 0.9981847355189811, 0.9981847355189811, 0.9981847355189811, 0.9981847355189811, 0.9981847355189811, 0.9981847355189811, 0.9981847355189811]}], \"norm_macro_recall\": [{\"categories\": [\"0\", \"1\", \"2\", \"3\", \"4\", \"5\", \"6\", \"7\", \"8\", \"9\", \"10\", \"11\", \"12\", \"13\", \"14\", \"15\", \"16\", \"17\", \"18\", \"19\", \"20\", \"21\", \"22\", \"23\", \"24\", \"25\", \"26\", \"27\", \"28\", \"29\", \"30\", \"31\", \"32\", \"36\"], \"mode\": \"markers\", \"name\": \"norm_macro_recall\", \"stepped\": false, \"type\": \"scatter\", \"data\": [0.9659784873199692, 0.9658945711793671, 0.9065821196513796, 0.49244039257931904, 0.95992978691643, 0.9662017908414257, 0.9593025648753796, 0.971592486337662, 0.9359272447982127, 0.9528035083763231, 0.9574474627322589, 0.9619929172777133, 0.9528035083763231, 0.8425743611227481, 0.9608006791533675, 0.8709331386513548, 0.9551844607572755, 0.9453534315714074, 0.9557640526963143, 0.9619929172777133, 0.9615677472096862, 0.9528035083763231, 0.9528035083763231, 0.9338894764879079, 0.9561892227643414, 0.0, 0.8829302102072498, 0.9527955601901729, 0.9629359893974225, 0.9619929172777133, 0.9147555685492671, 0.9593047452347027, 0.9191440652507338, 0.9684864237712199]}, {\"categories\": [\"0\", \"1\", \"2\", \"3\", \"4\", \"5\", \"6\", \"7\", \"8\", \"9\", \"10\", \"11\", \"12\", \"13\", \"14\", \"15\", \"16\", \"17\", \"18\", \"19\", \"20\", \"21\", \"22\", \"23\", \"24\", \"25\", \"26\", \"27\", \"28\", \"29\", \"30\", \"31\", \"32\", \"36\"], \"mode\": \"lines\", \"name\": \"norm_macro_recall_max\", \"stepped\": true, \"type\": \"scatter\", \"data\": [0.9659784873199692, 0.9659784873199692, 0.9659784873199692, 0.9659784873199692, 0.9659784873199692, 0.9662017908414257, 0.9662017908414257, 0.971592486337662, 0.971592486337662, 0.971592486337662, 0.971592486337662, 0.971592486337662, 0.971592486337662, 0.971592486337662, 0.971592486337662, 0.971592486337662, 0.971592486337662, 0.971592486337662, 0.971592486337662, 0.971592486337662, 0.971592486337662, 0.971592486337662, 0.971592486337662, 0.971592486337662, 0.971592486337662, 0.971592486337662, 0.971592486337662, 0.971592486337662, 0.971592486337662, 0.971592486337662, 0.971592486337662, 0.971592486337662, 0.971592486337662, 0.971592486337662]}]}, \"metricName\": null, \"primaryMetricName\": \"accuracy\", \"showLegend\": false}, \"run_metrics\": [{\"name\": \"experiment_status\", \"run_id\": \"AutoML_54e35876-e6aa-4f8b-adc1-8e0f88d704e6\", \"categories\": [0, 1, 2, 3, 4, 5, 6, 7, 8, 9, 10, 11, 12, 13, 14], \"series\": [{\"data\": [\"DatasetEvaluation\", \"FeaturesGeneration\", \"DatasetFeaturization\", \"DatasetFeaturizationCompleted\", \"DatasetBalancing\", \"DatasetCrossValidationSplit\", \"ModelSelection\", \"BestRunExplainModel\", \"ModelExplanationDataSetSetup\", \"PickSurrogateModel\", \"EngineeredFeatureExplanations\", \"EngineeredFeatureExplanations\", \"RawFeaturesExplanations\", \"RawFeaturesExplanations\", \"BestRunExplainModel\"]}]}, {\"name\": \"experiment_status_description\", \"run_id\": \"AutoML_54e35876-e6aa-4f8b-adc1-8e0f88d704e6\", \"categories\": [0, 1, 2, 3, 4, 5, 6, 7, 8, 9, 10, 11, 12, 13, 14], \"series\": [{\"data\": [\"Gathering dataset statistics.\", \"Generating features for the dataset.\", \"Beginning to fit featurizers and featurize the dataset.\", \"Completed fit featurizers and featurizing the dataset.\", \"Performing class balancing sweeping\", \"Generating individually featurized CV splits.\", \"Beginning model selection.\", \"Best run model explanations started\", \"Model explanations data setup completed\", \"Choosing LightGBM as the surrogate model for explanations\", \"Computation of engineered features started\", \"Computation of engineered features completed\", \"Computation of raw features started\", \"Computation of raw features completed\", \"Best run model explanations completed\"]}]}, {\"name\": \"accuracy\", \"run_id\": \"AutoML_54e35876-e6aa-4f8b-adc1-8e0f88d704e6\", \"categories\": [0], \"series\": [{\"data\": [0.9905913978494624]}]}, {\"name\": \"AUC_weighted\", \"run_id\": \"AutoML_54e35876-e6aa-4f8b-adc1-8e0f88d704e6\", \"categories\": [0], \"series\": [{\"data\": [0.9973260952211374]}]}, {\"name\": \"f1_score_macro\", \"run_id\": \"AutoML_54e35876-e6aa-4f8b-adc1-8e0f88d704e6\", \"categories\": [0], \"series\": [{\"data\": [0.9841203790641262]}]}, {\"name\": \"average_precision_score_weighted\", \"run_id\": \"AutoML_54e35876-e6aa-4f8b-adc1-8e0f88d704e6\", \"categories\": [0], \"series\": [{\"data\": [0.9964414541957982]}]}, {\"name\": \"f1_score_weighted\", \"run_id\": \"AutoML_54e35876-e6aa-4f8b-adc1-8e0f88d704e6\", \"categories\": [0], \"series\": [{\"data\": [0.9904983266948456]}]}, {\"name\": \"weighted_accuracy\", \"run_id\": \"AutoML_54e35876-e6aa-4f8b-adc1-8e0f88d704e6\", \"categories\": [0], \"series\": [{\"data\": [0.9966274697619658]}]}, {\"name\": \"matthews_correlation\", \"run_id\": \"AutoML_54e35876-e6aa-4f8b-adc1-8e0f88d704e6\", \"categories\": [0], \"series\": [{\"data\": [0.9741550901484283]}]}, {\"name\": \"precision_score_weighted\", \"run_id\": \"AutoML_54e35876-e6aa-4f8b-adc1-8e0f88d704e6\", \"categories\": [0], \"series\": [{\"data\": [0.9905598877666265]}]}, {\"name\": \"balanced_accuracy\", \"run_id\": \"AutoML_54e35876-e6aa-4f8b-adc1-8e0f88d704e6\", \"categories\": [0], \"series\": [{\"data\": [0.9789909491808132]}]}, {\"name\": \"precision_score_micro\", \"run_id\": \"AutoML_54e35876-e6aa-4f8b-adc1-8e0f88d704e6\", \"categories\": [0], \"series\": [{\"data\": [0.9905913978494624]}]}, {\"name\": \"AUC_micro\", \"run_id\": \"AutoML_54e35876-e6aa-4f8b-adc1-8e0f88d704e6\", \"categories\": [0], \"series\": [{\"data\": [0.998623395768297]}]}, {\"name\": \"precision_score_macro\", \"run_id\": \"AutoML_54e35876-e6aa-4f8b-adc1-8e0f88d704e6\", \"categories\": [0], \"series\": [{\"data\": [0.989590281538785]}]}, {\"name\": \"average_precision_score_micro\", \"run_id\": \"AutoML_54e35876-e6aa-4f8b-adc1-8e0f88d704e6\", \"categories\": [0], \"series\": [{\"data\": [0.9976178590627182]}]}, {\"name\": \"AUC_macro\", \"run_id\": \"AutoML_54e35876-e6aa-4f8b-adc1-8e0f88d704e6\", \"categories\": [0], \"series\": [{\"data\": [0.9969601795535197]}]}, {\"name\": \"recall_score_macro\", \"run_id\": \"AutoML_54e35876-e6aa-4f8b-adc1-8e0f88d704e6\", \"categories\": [0], \"series\": [{\"data\": [0.9789909491808132]}]}, {\"name\": \"recall_score_weighted\", \"run_id\": \"AutoML_54e35876-e6aa-4f8b-adc1-8e0f88d704e6\", \"categories\": [0], \"series\": [{\"data\": [0.9905913978494624]}]}, {\"name\": \"f1_score_micro\", \"run_id\": \"AutoML_54e35876-e6aa-4f8b-adc1-8e0f88d704e6\", \"categories\": [0], \"series\": [{\"data\": [0.9905913978494624]}]}, {\"name\": \"log_loss\", \"run_id\": \"AutoML_54e35876-e6aa-4f8b-adc1-8e0f88d704e6\", \"categories\": [0], \"series\": [{\"data\": [0.050801697300502185]}]}, {\"name\": \"norm_macro_recall\", \"run_id\": \"AutoML_54e35876-e6aa-4f8b-adc1-8e0f88d704e6\", \"categories\": [0], \"series\": [{\"data\": [0.9684864237712199]}]}, {\"name\": \"average_precision_score_macro\", \"run_id\": \"AutoML_54e35876-e6aa-4f8b-adc1-8e0f88d704e6\", \"categories\": [0], \"series\": [{\"data\": [0.9918763467908498]}]}, {\"name\": \"recall_score_micro\", \"run_id\": \"AutoML_54e35876-e6aa-4f8b-adc1-8e0f88d704e6\", \"categories\": [0], \"series\": [{\"data\": [0.9905913978494624]}]}], \"run_logs\": \"\\nRun is completed.\", \"graph\": {}, \"widget_settings\": {\"childWidgetDisplay\": \"popup\", \"send_telemetry\": false, \"log_level\": \"INFO\", \"sdk_version\": \"1.19.0\"}, \"loading\": false}"
          },
          "metadata": {}
        },
        {
          "output_type": "stream",
          "name": "stdout",
          "text": [
            "\n",
            "****************************************************************************************************\n",
            "\n",
            "TYPE:         High cardinality feature detection\n",
            "STATUS:       PASSED\n",
            "DESCRIPTION:  Your inputs were analyzed, and no high cardinality features were detected.\n",
            "              Learn more about high cardinality feature handling: https://aka.ms/AutomatedMLFeaturization\n",
            "\n",
            "****************************************************************************************************\n",
            "\n",
            "****************************************************************************************************\n",
            "ITERATION: The iteration being evaluated.\n",
            "PIPELINE: A summary description of the pipeline being evaluated.\n",
            "DURATION: Time taken for the current iteration.\n",
            "METRIC: The result of computing score on the fitted pipeline.\n",
            "BEST: The best observed score thus far.\n",
            "****************************************************************************************************\n",
            "\n",
            " ITERATION   PIPELINE                                       DURATION      METRIC      BEST\n",
            "         0   MaxAbsScaler LightGBM                          0:01:09       0.9886    0.9886\n",
            "         1   MaxAbsScaler XGBoostClassifier                 0:00:54       0.9892    0.9892\n",
            "         2   MinMaxScaler RandomForest                      0:03:43       0.9751    0.9892\n",
            "         3   MinMaxScaler RandomForest                      0:00:57       0.8985    0.9892\n",
            "         4   MinMaxScaler RandomForest                      0:03:42       0.9879    0.9892\n",
            "         5   RobustScaler LightGBM                          0:03:31       0.9892    0.9892\n",
            "         6   SparseNormalizer XGBoostClassifier             0:00:55       0.9879    0.9892\n",
            "         7   MinMaxScaler SVM                               0:00:58       0.9892    0.9892\n",
            "        10   MaxAbsScaler LightGBM                          0:01:01       0.9872    0.9892\n",
            "        11   SparseNormalizer XGBoostClassifier             0:00:53       0.9886    0.9892\n",
            "         8   MaxAbsScaler LightGBM                          0:00:52       0.9819    0.9892\n",
            "         9   RobustScaler RandomForest                      0:01:09       0.9866    0.9892\n",
            "        12   RobustScaler ExtremeRandomTrees                0:01:01       0.9866    0.9892\n",
            "        13   StandardScalerWrapper ExtremeRandomTrees       0:01:07       0.9563    0.9892\n",
            "        14   StandardScalerWrapper LogisticRegression       0:00:56       0.9825    0.9892\n",
            "        15   SparseNormalizer LightGBM                      0:01:01       0.9731    0.9892\n",
            "        16   StandardScalerWrapper XGBoostClassifier        0:00:56       0.9872    0.9892\n",
            "        17   StandardScalerWrapper GradientBoosting         0:01:09       0.9845    0.9892\n",
            "        18   SparseNormalizer XGBoostClassifier             0:01:01       0.9859    0.9892\n",
            "        19   SparseNormalizer XGBoostClassifier             0:00:59       0.9886    0.9892\n",
            "        20   SparseNormalizer XGBoostClassifier             0:00:57       0.9879    0.9892\n",
            "        21   StandardScalerWrapper XGBoostClassifier        0:00:51       0.9866    0.9892\n",
            "        22   StandardScalerWrapper XGBoostClassifier        0:00:57       0.9866    0.9892\n",
            "        23   SparseNormalizer XGBoostClassifier             0:00:54       0.9832    0.9892\n",
            "        24   SparseNormalizer XGBoostClassifier             0:01:05       0.9866    0.9892\n",
            "        25   PCA XGBoostClassifier                          0:01:03       0.7802    0.9892\n",
            "        26   StandardScalerWrapper LightGBM                 0:01:06       0.9724    0.9892\n",
            "        27   RobustScaler LightGBM                          0:00:55       0.9859    0.9892\n",
            "        28   MinMaxScaler LogisticRegression                0:01:03       0.9886    0.9892\n",
            "        29   SparseNormalizer XGBoostClassifier             0:00:57       0.9886    0.9892\n",
            "        30   TruncatedSVDWrapper XGBoostClassifier          0:00:59       0.9745    0.9892\n",
            "        31   SparseNormalizer XGBoostClassifier             0:00:56       0.9879    0.9892\n",
            "        32   SparseNormalizer XGBoostClassifier             0:01:00       0.9819    0.9892\n",
            "        33                                                  0:00:34          nan    0.9892\n",
            "        34                                                  0:00:19          nan    0.9892\n",
            "        35                                                  0:00:17          nan    0.9892\n",
            "        36    VotingEnsemble                                0:01:25       0.9906    0.9906\n"
          ]
        },
        {
          "output_type": "execute_result",
          "execution_count": 31,
          "data": {
            "text/plain": "{'runId': 'AutoML_54e35876-e6aa-4f8b-adc1-8e0f88d704e6',\n 'target': 'automl-cluster',\n 'status': 'Completed',\n 'startTimeUtc': '2020-12-23T14:22:54.023326Z',\n 'endTimeUtc': '2020-12-23T14:47:19.65492Z',\n 'properties': {'num_iterations': '1000',\n  'training_type': 'TrainFull',\n  'acquisition_function': 'EI',\n  'primary_metric': 'accuracy',\n  'train_split': '0',\n  'acquisition_parameter': '0',\n  'num_cross_validation': '3',\n  'target': 'automl-cluster',\n  'AMLSettingsJsonString': '{\"path\":null,\"name\":\"ctg_experiment\",\"subscription_id\":\"d4ad7261-832d-46b2-b093-22156001df5b\",\"resource_group\":\"aml-quickstarts-131472\",\"workspace_name\":\"quick-starts-ws-131472\",\"region\":\"southcentralus\",\"compute_target\":\"automl-cluster\",\"spark_service\":null,\"azure_service\":\"remote\",\"many_models\":false,\"pipeline_fetch_max_batch_size\":1,\"iterations\":1000,\"primary_metric\":\"accuracy\",\"task_type\":\"classification\",\"data_script\":null,\"validation_size\":0.0,\"n_cross_validations\":3,\"y_min\":null,\"y_max\":null,\"num_classes\":null,\"featurization\":\"auto\",\"_ignore_package_version_incompatibilities\":false,\"is_timeseries\":false,\"max_cores_per_iteration\":-1,\"max_concurrent_iterations\":4,\"iteration_timeout_minutes\":5,\"mem_in_mb\":null,\"enforce_time_on_windows\":false,\"experiment_timeout_minutes\":30,\"experiment_exit_score\":null,\"whitelist_models\":null,\"blacklist_algos\":[\"TensorFlowLinearClassifier\",\"TensorFlowDNN\"],\"supported_models\":[\"KNN\",\"TensorFlowDNN\",\"SGD\",\"ExtremeRandomTrees\",\"XGBoostClassifier\",\"AveragedPerceptronClassifier\",\"SVM\",\"BernoulliNaiveBayes\",\"MultinomialNaiveBayes\",\"LinearSVM\",\"GradientBoosting\",\"LogisticRegression\",\"TensorFlowLinearClassifier\",\"DecisionTree\",\"RandomForest\",\"LightGBM\"],\"auto_blacklist\":true,\"blacklist_samples_reached\":false,\"exclude_nan_labels\":true,\"verbosity\":20,\"_debug_log\":\"azureml_automl.log\",\"show_warnings\":false,\"model_explainability\":true,\"service_url\":null,\"sdk_url\":null,\"sdk_packages\":null,\"enable_onnx_compatible_models\":true,\"enable_split_onnx_featurizer_estimator_models\":false,\"vm_type\":\"STANDARD_D2_V2\",\"telemetry_verbosity\":20,\"send_telemetry\":true,\"enable_dnn\":false,\"scenario\":\"SDK-1.13.0\",\"environment_label\":null,\"force_text_dnn\":false,\"enable_feature_sweeping\":false,\"enable_early_stopping\":true,\"early_stopping_n_iters\":10,\"metrics\":null,\"enable_ensembling\":true,\"enable_stack_ensembling\":false,\"ensemble_iterations\":15,\"enable_tf\":false,\"enable_subsampling\":null,\"subsample_seed\":null,\"enable_nimbusml\":false,\"enable_streaming\":false,\"force_streaming\":false,\"track_child_runs\":true,\"allowed_private_models\":[],\"label_column_name\":\"NSP\",\"weight_column_name\":null,\"cv_split_column_names\":null,\"enable_local_managed\":false,\"_local_managed_run_id\":null,\"cost_mode\":1,\"lag_length\":0,\"metric_operation\":\"maximize\",\"preprocess\":true}',\n  'DataPrepJsonString': '{\\\\\"training_data\\\\\": \\\\\"{\\\\\\\\\\\\\"blocks\\\\\\\\\\\\\": [{\\\\\\\\\\\\\"id\\\\\\\\\\\\\": \\\\\\\\\\\\\"d2a991cc-14e4-4850-a196-51ba69f5120b\\\\\\\\\\\\\", \\\\\\\\\\\\\"type\\\\\\\\\\\\\": \\\\\\\\\\\\\"Microsoft.DPrep.GetDatastoreFilesBlock\\\\\\\\\\\\\", \\\\\\\\\\\\\"arguments\\\\\\\\\\\\\": {\\\\\\\\\\\\\"datastores\\\\\\\\\\\\\": [{\\\\\\\\\\\\\"datastoreName\\\\\\\\\\\\\": \\\\\\\\\\\\\"workspaceblobstore\\\\\\\\\\\\\", \\\\\\\\\\\\\"path\\\\\\\\\\\\\": \\\\\\\\\\\\\"automlclassifier/train_data.csv\\\\\\\\\\\\\", \\\\\\\\\\\\\"resourceGroup\\\\\\\\\\\\\": \\\\\\\\\\\\\"aml-quickstarts-131472\\\\\\\\\\\\\", \\\\\\\\\\\\\"subscription\\\\\\\\\\\\\": \\\\\\\\\\\\\"d4ad7261-832d-46b2-b093-22156001df5b\\\\\\\\\\\\\", \\\\\\\\\\\\\"workspaceName\\\\\\\\\\\\\": \\\\\\\\\\\\\"quick-starts-ws-131472\\\\\\\\\\\\\"}]}, \\\\\\\\\\\\\"localData\\\\\\\\\\\\\": {}, \\\\\\\\\\\\\"isEnabled\\\\\\\\\\\\\": true, \\\\\\\\\\\\\"name\\\\\\\\\\\\\": null, \\\\\\\\\\\\\"annotation\\\\\\\\\\\\\": null}, {\\\\\\\\\\\\\"id\\\\\\\\\\\\\": \\\\\\\\\\\\\"93c2c575-7578-4925-bcc1-f5138381d0e2\\\\\\\\\\\\\", \\\\\\\\\\\\\"type\\\\\\\\\\\\\": \\\\\\\\\\\\\"Microsoft.DPrep.ParseDelimitedBlock\\\\\\\\\\\\\", \\\\\\\\\\\\\"arguments\\\\\\\\\\\\\": {\\\\\\\\\\\\\"columnHeadersMode\\\\\\\\\\\\\": 3, \\\\\\\\\\\\\"fileEncoding\\\\\\\\\\\\\": 0, \\\\\\\\\\\\\"handleQuotedLineBreaks\\\\\\\\\\\\\": false, \\\\\\\\\\\\\"preview\\\\\\\\\\\\\": false, \\\\\\\\\\\\\"separator\\\\\\\\\\\\\": \\\\\\\\\\\\\",\\\\\\\\\\\\\", \\\\\\\\\\\\\"skipRows\\\\\\\\\\\\\": 0, \\\\\\\\\\\\\"skipRowsMode\\\\\\\\\\\\\": 0}, \\\\\\\\\\\\\"localData\\\\\\\\\\\\\": {}, \\\\\\\\\\\\\"isEnabled\\\\\\\\\\\\\": true, \\\\\\\\\\\\\"name\\\\\\\\\\\\\": null, \\\\\\\\\\\\\"annotation\\\\\\\\\\\\\": null}, {\\\\\\\\\\\\\"id\\\\\\\\\\\\\": \\\\\\\\\\\\\"a5c893d8-4dcc-485b-9478-9885994722a5\\\\\\\\\\\\\", \\\\\\\\\\\\\"type\\\\\\\\\\\\\": \\\\\\\\\\\\\"Microsoft.DPrep.DropColumnsBlock\\\\\\\\\\\\\", \\\\\\\\\\\\\"arguments\\\\\\\\\\\\\": {\\\\\\\\\\\\\"columns\\\\\\\\\\\\\": {\\\\\\\\\\\\\"type\\\\\\\\\\\\\": 0, \\\\\\\\\\\\\"details\\\\\\\\\\\\\": {\\\\\\\\\\\\\"selectedColumns\\\\\\\\\\\\\": [\\\\\\\\\\\\\"Path\\\\\\\\\\\\\"]}}}, \\\\\\\\\\\\\"localData\\\\\\\\\\\\\": {}, \\\\\\\\\\\\\"isEnabled\\\\\\\\\\\\\": true, \\\\\\\\\\\\\"name\\\\\\\\\\\\\": null, \\\\\\\\\\\\\"annotation\\\\\\\\\\\\\": null}, {\\\\\\\\\\\\\"id\\\\\\\\\\\\\": \\\\\\\\\\\\\"79ba435a-4ba2-480b-88ce-761aa9ed19c0\\\\\\\\\\\\\", \\\\\\\\\\\\\"type\\\\\\\\\\\\\": \\\\\\\\\\\\\"Microsoft.DPrep.SetColumnTypesBlock\\\\\\\\\\\\\", \\\\\\\\\\\\\"arguments\\\\\\\\\\\\\": {\\\\\\\\\\\\\"columnConversion\\\\\\\\\\\\\": [{\\\\\\\\\\\\\"column\\\\\\\\\\\\\": {\\\\\\\\\\\\\"type\\\\\\\\\\\\\": 2, \\\\\\\\\\\\\"details\\\\\\\\\\\\\": {\\\\\\\\\\\\\"selectedColumn\\\\\\\\\\\\\": \\\\\\\\\\\\\"b\\\\\\\\\\\\\"}}, \\\\\\\\\\\\\"typeProperty\\\\\\\\\\\\\": 2}, {\\\\\\\\\\\\\"column\\\\\\\\\\\\\": {\\\\\\\\\\\\\"type\\\\\\\\\\\\\": 2, \\\\\\\\\\\\\"details\\\\\\\\\\\\\": {\\\\\\\\\\\\\"selectedColumn\\\\\\\\\\\\\": \\\\\\\\\\\\\"e\\\\\\\\\\\\\"}}, \\\\\\\\\\\\\"typeProperty\\\\\\\\\\\\\": 2}, {\\\\\\\\\\\\\"column\\\\\\\\\\\\\": {\\\\\\\\\\\\\"type\\\\\\\\\\\\\": 2, \\\\\\\\\\\\\"details\\\\\\\\\\\\\": {\\\\\\\\\\\\\"selectedColumn\\\\\\\\\\\\\": \\\\\\\\\\\\\"LBE\\\\\\\\\\\\\"}}, \\\\\\\\\\\\\"typeProperty\\\\\\\\\\\\\": 2}, {\\\\\\\\\\\\\"column\\\\\\\\\\\\\": {\\\\\\\\\\\\\"type\\\\\\\\\\\\\": 2, \\\\\\\\\\\\\"details\\\\\\\\\\\\\": {\\\\\\\\\\\\\"selectedColumn\\\\\\\\\\\\\": \\\\\\\\\\\\\"LB\\\\\\\\\\\\\"}}, \\\\\\\\\\\\\"typeProperty\\\\\\\\\\\\\": 2}, {\\\\\\\\\\\\\"column\\\\\\\\\\\\\": {\\\\\\\\\\\\\"type\\\\\\\\\\\\\": 2, \\\\\\\\\\\\\"details\\\\\\\\\\\\\": {\\\\\\\\\\\\\"selectedColumn\\\\\\\\\\\\\": \\\\\\\\\\\\\"AC\\\\\\\\\\\\\"}}, \\\\\\\\\\\\\"typeProperty\\\\\\\\\\\\\": 2}, {\\\\\\\\\\\\\"column\\\\\\\\\\\\\": {\\\\\\\\\\\\\"type\\\\\\\\\\\\\": 2, \\\\\\\\\\\\\"details\\\\\\\\\\\\\": {\\\\\\\\\\\\\"selectedColumn\\\\\\\\\\\\\": \\\\\\\\\\\\\"FM\\\\\\\\\\\\\"}}, \\\\\\\\\\\\\"typeProperty\\\\\\\\\\\\\": 2}, {\\\\\\\\\\\\\"column\\\\\\\\\\\\\": {\\\\\\\\\\\\\"type\\\\\\\\\\\\\": 2, \\\\\\\\\\\\\"details\\\\\\\\\\\\\": {\\\\\\\\\\\\\"selectedColumn\\\\\\\\\\\\\": \\\\\\\\\\\\\"UC\\\\\\\\\\\\\"}}, \\\\\\\\\\\\\"typeProperty\\\\\\\\\\\\\": 2}, {\\\\\\\\\\\\\"column\\\\\\\\\\\\\": {\\\\\\\\\\\\\"type\\\\\\\\\\\\\": 2, \\\\\\\\\\\\\"details\\\\\\\\\\\\\": {\\\\\\\\\\\\\"selectedColumn\\\\\\\\\\\\\": \\\\\\\\\\\\\"ASTV\\\\\\\\\\\\\"}}, \\\\\\\\\\\\\"typeProperty\\\\\\\\\\\\\": 2}, {\\\\\\\\\\\\\"column\\\\\\\\\\\\\": {\\\\\\\\\\\\\"type\\\\\\\\\\\\\": 2, \\\\\\\\\\\\\"details\\\\\\\\\\\\\": {\\\\\\\\\\\\\"selectedColumn\\\\\\\\\\\\\": \\\\\\\\\\\\\"MSTV\\\\\\\\\\\\\"}}, \\\\\\\\\\\\\"typeProperty\\\\\\\\\\\\\": 3}, {\\\\\\\\\\\\\"column\\\\\\\\\\\\\": {\\\\\\\\\\\\\"type\\\\\\\\\\\\\": 2, \\\\\\\\\\\\\"details\\\\\\\\\\\\\": {\\\\\\\\\\\\\"selectedColumn\\\\\\\\\\\\\": \\\\\\\\\\\\\"ALTV\\\\\\\\\\\\\"}}, \\\\\\\\\\\\\"typeProperty\\\\\\\\\\\\\": 2}, {\\\\\\\\\\\\\"column\\\\\\\\\\\\\": {\\\\\\\\\\\\\"type\\\\\\\\\\\\\": 2, \\\\\\\\\\\\\"details\\\\\\\\\\\\\": {\\\\\\\\\\\\\"selectedColumn\\\\\\\\\\\\\": \\\\\\\\\\\\\"MLTV\\\\\\\\\\\\\"}}, \\\\\\\\\\\\\"typeProperty\\\\\\\\\\\\\": 3}, {\\\\\\\\\\\\\"column\\\\\\\\\\\\\": {\\\\\\\\\\\\\"type\\\\\\\\\\\\\": 2, \\\\\\\\\\\\\"details\\\\\\\\\\\\\": {\\\\\\\\\\\\\"selectedColumn\\\\\\\\\\\\\": \\\\\\\\\\\\\"DL\\\\\\\\\\\\\"}}, \\\\\\\\\\\\\"typeProperty\\\\\\\\\\\\\": 2}, {\\\\\\\\\\\\\"column\\\\\\\\\\\\\": {\\\\\\\\\\\\\"type\\\\\\\\\\\\\": 2, \\\\\\\\\\\\\"details\\\\\\\\\\\\\": {\\\\\\\\\\\\\"selectedColumn\\\\\\\\\\\\\": \\\\\\\\\\\\\"DS\\\\\\\\\\\\\"}}, \\\\\\\\\\\\\"typeProperty\\\\\\\\\\\\\": 2}, {\\\\\\\\\\\\\"column\\\\\\\\\\\\\": {\\\\\\\\\\\\\"type\\\\\\\\\\\\\": 2, \\\\\\\\\\\\\"details\\\\\\\\\\\\\": {\\\\\\\\\\\\\"selectedColumn\\\\\\\\\\\\\": \\\\\\\\\\\\\"DP\\\\\\\\\\\\\"}}, \\\\\\\\\\\\\"typeProperty\\\\\\\\\\\\\": 2}, {\\\\\\\\\\\\\"column\\\\\\\\\\\\\": {\\\\\\\\\\\\\"type\\\\\\\\\\\\\": 2, \\\\\\\\\\\\\"details\\\\\\\\\\\\\": {\\\\\\\\\\\\\"selectedColumn\\\\\\\\\\\\\": \\\\\\\\\\\\\"DR\\\\\\\\\\\\\"}}, \\\\\\\\\\\\\"typeProperty\\\\\\\\\\\\\": 2}, {\\\\\\\\\\\\\"column\\\\\\\\\\\\\": {\\\\\\\\\\\\\"type\\\\\\\\\\\\\": 2, \\\\\\\\\\\\\"details\\\\\\\\\\\\\": {\\\\\\\\\\\\\"selectedColumn\\\\\\\\\\\\\": \\\\\\\\\\\\\"Width\\\\\\\\\\\\\"}}, \\\\\\\\\\\\\"typeProperty\\\\\\\\\\\\\": 2}, {\\\\\\\\\\\\\"column\\\\\\\\\\\\\": {\\\\\\\\\\\\\"type\\\\\\\\\\\\\": 2, \\\\\\\\\\\\\"details\\\\\\\\\\\\\": {\\\\\\\\\\\\\"selectedColumn\\\\\\\\\\\\\": \\\\\\\\\\\\\"Min\\\\\\\\\\\\\"}}, \\\\\\\\\\\\\"typeProperty\\\\\\\\\\\\\": 2}, {\\\\\\\\\\\\\"column\\\\\\\\\\\\\": {\\\\\\\\\\\\\"type\\\\\\\\\\\\\": 2, \\\\\\\\\\\\\"details\\\\\\\\\\\\\": {\\\\\\\\\\\\\"selectedColumn\\\\\\\\\\\\\": \\\\\\\\\\\\\"Max\\\\\\\\\\\\\"}}, \\\\\\\\\\\\\"typeProperty\\\\\\\\\\\\\": 2}, {\\\\\\\\\\\\\"column\\\\\\\\\\\\\": {\\\\\\\\\\\\\"type\\\\\\\\\\\\\": 2, \\\\\\\\\\\\\"details\\\\\\\\\\\\\": {\\\\\\\\\\\\\"selectedColumn\\\\\\\\\\\\\": \\\\\\\\\\\\\"Nmax\\\\\\\\\\\\\"}}, \\\\\\\\\\\\\"typeProperty\\\\\\\\\\\\\": 2}, {\\\\\\\\\\\\\"column\\\\\\\\\\\\\": {\\\\\\\\\\\\\"type\\\\\\\\\\\\\": 2, \\\\\\\\\\\\\"details\\\\\\\\\\\\\": {\\\\\\\\\\\\\"selectedColumn\\\\\\\\\\\\\": \\\\\\\\\\\\\"Nzeros\\\\\\\\\\\\\"}}, \\\\\\\\\\\\\"typeProperty\\\\\\\\\\\\\": 2}, {\\\\\\\\\\\\\"column\\\\\\\\\\\\\": {\\\\\\\\\\\\\"type\\\\\\\\\\\\\": 2, \\\\\\\\\\\\\"details\\\\\\\\\\\\\": {\\\\\\\\\\\\\"selectedColumn\\\\\\\\\\\\\": \\\\\\\\\\\\\"Mode\\\\\\\\\\\\\"}}, \\\\\\\\\\\\\"typeProperty\\\\\\\\\\\\\": 2}, {\\\\\\\\\\\\\"column\\\\\\\\\\\\\": {\\\\\\\\\\\\\"type\\\\\\\\\\\\\": 2, \\\\\\\\\\\\\"details\\\\\\\\\\\\\": {\\\\\\\\\\\\\"selectedColumn\\\\\\\\\\\\\": \\\\\\\\\\\\\"Mean\\\\\\\\\\\\\"}}, \\\\\\\\\\\\\"typeProperty\\\\\\\\\\\\\": 2}, {\\\\\\\\\\\\\"column\\\\\\\\\\\\\": {\\\\\\\\\\\\\"type\\\\\\\\\\\\\": 2, \\\\\\\\\\\\\"details\\\\\\\\\\\\\": {\\\\\\\\\\\\\"selectedColumn\\\\\\\\\\\\\": \\\\\\\\\\\\\"Median\\\\\\\\\\\\\"}}, \\\\\\\\\\\\\"typeProperty\\\\\\\\\\\\\": 2}, {\\\\\\\\\\\\\"column\\\\\\\\\\\\\": {\\\\\\\\\\\\\"type\\\\\\\\\\\\\": 2, \\\\\\\\\\\\\"details\\\\\\\\\\\\\": {\\\\\\\\\\\\\"selectedColumn\\\\\\\\\\\\\": \\\\\\\\\\\\\"Variance\\\\\\\\\\\\\"}}, \\\\\\\\\\\\\"typeProperty\\\\\\\\\\\\\": 2}, {\\\\\\\\\\\\\"column\\\\\\\\\\\\\": {\\\\\\\\\\\\\"type\\\\\\\\\\\\\": 2, \\\\\\\\\\\\\"details\\\\\\\\\\\\\": {\\\\\\\\\\\\\"selectedColumn\\\\\\\\\\\\\": \\\\\\\\\\\\\"Tendency\\\\\\\\\\\\\"}}, \\\\\\\\\\\\\"typeProperty\\\\\\\\\\\\\": 2}, {\\\\\\\\\\\\\"column\\\\\\\\\\\\\": {\\\\\\\\\\\\\"type\\\\\\\\\\\\\": 2, \\\\\\\\\\\\\"details\\\\\\\\\\\\\": {\\\\\\\\\\\\\"selectedColumn\\\\\\\\\\\\\": \\\\\\\\\\\\\"A\\\\\\\\\\\\\"}}, \\\\\\\\\\\\\"typeProperty\\\\\\\\\\\\\": 2}, {\\\\\\\\\\\\\"column\\\\\\\\\\\\\": {\\\\\\\\\\\\\"type\\\\\\\\\\\\\": 2, \\\\\\\\\\\\\"details\\\\\\\\\\\\\": {\\\\\\\\\\\\\"selectedColumn\\\\\\\\\\\\\": \\\\\\\\\\\\\"B\\\\\\\\\\\\\"}}, \\\\\\\\\\\\\"typeProperty\\\\\\\\\\\\\": 2}, {\\\\\\\\\\\\\"column\\\\\\\\\\\\\": {\\\\\\\\\\\\\"type\\\\\\\\\\\\\": 2, \\\\\\\\\\\\\"details\\\\\\\\\\\\\": {\\\\\\\\\\\\\"selectedColumn\\\\\\\\\\\\\": \\\\\\\\\\\\\"C\\\\\\\\\\\\\"}}, \\\\\\\\\\\\\"typeProperty\\\\\\\\\\\\\": 2}, {\\\\\\\\\\\\\"column\\\\\\\\\\\\\": {\\\\\\\\\\\\\"type\\\\\\\\\\\\\": 2, \\\\\\\\\\\\\"details\\\\\\\\\\\\\": {\\\\\\\\\\\\\"selectedColumn\\\\\\\\\\\\\": \\\\\\\\\\\\\"D\\\\\\\\\\\\\"}}, \\\\\\\\\\\\\"typeProperty\\\\\\\\\\\\\": 2}, {\\\\\\\\\\\\\"column\\\\\\\\\\\\\": {\\\\\\\\\\\\\"type\\\\\\\\\\\\\": 2, \\\\\\\\\\\\\"details\\\\\\\\\\\\\": {\\\\\\\\\\\\\"selectedColumn\\\\\\\\\\\\\": \\\\\\\\\\\\\"E\\\\\\\\\\\\\"}}, \\\\\\\\\\\\\"typeProperty\\\\\\\\\\\\\": 2}, {\\\\\\\\\\\\\"column\\\\\\\\\\\\\": {\\\\\\\\\\\\\"type\\\\\\\\\\\\\": 2, \\\\\\\\\\\\\"details\\\\\\\\\\\\\": {\\\\\\\\\\\\\"selectedColumn\\\\\\\\\\\\\": \\\\\\\\\\\\\"AD\\\\\\\\\\\\\"}}, \\\\\\\\\\\\\"typeProperty\\\\\\\\\\\\\": 2}, {\\\\\\\\\\\\\"column\\\\\\\\\\\\\": {\\\\\\\\\\\\\"type\\\\\\\\\\\\\": 2, \\\\\\\\\\\\\"details\\\\\\\\\\\\\": {\\\\\\\\\\\\\"selectedColumn\\\\\\\\\\\\\": \\\\\\\\\\\\\"DE\\\\\\\\\\\\\"}}, \\\\\\\\\\\\\"typeProperty\\\\\\\\\\\\\": 2}, {\\\\\\\\\\\\\"column\\\\\\\\\\\\\": {\\\\\\\\\\\\\"type\\\\\\\\\\\\\": 2, \\\\\\\\\\\\\"details\\\\\\\\\\\\\": {\\\\\\\\\\\\\"selectedColumn\\\\\\\\\\\\\": \\\\\\\\\\\\\"LD\\\\\\\\\\\\\"}}, \\\\\\\\\\\\\"typeProperty\\\\\\\\\\\\\": 2}, {\\\\\\\\\\\\\"column\\\\\\\\\\\\\": {\\\\\\\\\\\\\"type\\\\\\\\\\\\\": 2, \\\\\\\\\\\\\"details\\\\\\\\\\\\\": {\\\\\\\\\\\\\"selectedColumn\\\\\\\\\\\\\": \\\\\\\\\\\\\"FS\\\\\\\\\\\\\"}}, \\\\\\\\\\\\\"typeProperty\\\\\\\\\\\\\": 2}, {\\\\\\\\\\\\\"column\\\\\\\\\\\\\": {\\\\\\\\\\\\\"type\\\\\\\\\\\\\": 2, \\\\\\\\\\\\\"details\\\\\\\\\\\\\": {\\\\\\\\\\\\\"selectedColumn\\\\\\\\\\\\\": \\\\\\\\\\\\\"SUSP\\\\\\\\\\\\\"}}, \\\\\\\\\\\\\"typeProperty\\\\\\\\\\\\\": 2}, {\\\\\\\\\\\\\"column\\\\\\\\\\\\\": {\\\\\\\\\\\\\"type\\\\\\\\\\\\\": 2, \\\\\\\\\\\\\"details\\\\\\\\\\\\\": {\\\\\\\\\\\\\"selectedColumn\\\\\\\\\\\\\": \\\\\\\\\\\\\"CLASS\\\\\\\\\\\\\"}}, \\\\\\\\\\\\\"typeProperty\\\\\\\\\\\\\": 2}, {\\\\\\\\\\\\\"column\\\\\\\\\\\\\": {\\\\\\\\\\\\\"type\\\\\\\\\\\\\": 2, \\\\\\\\\\\\\"details\\\\\\\\\\\\\": {\\\\\\\\\\\\\"selectedColumn\\\\\\\\\\\\\": \\\\\\\\\\\\\"NSP\\\\\\\\\\\\\"}}, \\\\\\\\\\\\\"typeProperty\\\\\\\\\\\\\": 2}]}, \\\\\\\\\\\\\"localData\\\\\\\\\\\\\": {}, \\\\\\\\\\\\\"isEnabled\\\\\\\\\\\\\": true, \\\\\\\\\\\\\"name\\\\\\\\\\\\\": null, \\\\\\\\\\\\\"annotation\\\\\\\\\\\\\": null}], \\\\\\\\\\\\\"inspectors\\\\\\\\\\\\\": [], \\\\\\\\\\\\\"meta\\\\\\\\\\\\\": {\\\\\\\\\\\\\"savedDatasetId\\\\\\\\\\\\\": \\\\\\\\\\\\\"0b840977-e974-4960-8dbb-3038087a4757\\\\\\\\\\\\\", \\\\\\\\\\\\\"datasetType\\\\\\\\\\\\\": \\\\\\\\\\\\\"tabular\\\\\\\\\\\\\", \\\\\\\\\\\\\"subscriptionId\\\\\\\\\\\\\": \\\\\\\\\\\\\"d4ad7261-832d-46b2-b093-22156001df5b\\\\\\\\\\\\\", \\\\\\\\\\\\\"workspaceId\\\\\\\\\\\\\": \\\\\\\\\\\\\"550eac64-c389-4f68-8dde-ff09b85469f0\\\\\\\\\\\\\", \\\\\\\\\\\\\"workspaceLocation\\\\\\\\\\\\\": \\\\\\\\\\\\\"southcentralus\\\\\\\\\\\\\"}}\\\\\", \\\\\"activities\\\\\": 0}',\n  'EnableSubsampling': None,\n  'runTemplate': 'AutoML',\n  'azureml.runsource': 'automl',\n  'display_task_type': 'classification',\n  'dependencies_versions': '{\"azureml-widgets\": \"1.19.0\", \"azureml-train\": \"1.19.0\", \"azureml-train-restclients-hyperdrive\": \"1.19.0\", \"azureml-train-core\": \"1.19.0\", \"azureml-train-automl\": \"1.19.0\", \"azureml-train-automl-runtime\": \"1.19.0\", \"azureml-train-automl-client\": \"1.19.0\", \"azureml-tensorboard\": \"1.19.0\", \"azureml-telemetry\": \"1.19.0\", \"azureml-sdk\": \"1.19.0\", \"azureml-samples\": \"0+unknown\", \"azureml-pipeline\": \"1.19.0\", \"azureml-pipeline-steps\": \"1.19.0\", \"azureml-pipeline-core\": \"1.19.0\", \"azureml-opendatasets\": \"1.19.0\", \"azureml-model-management-sdk\": \"1.0.1b6.post1\", \"azureml-mlflow\": \"1.19.0\", \"azureml-interpret\": \"1.19.0\", \"azureml-explain-model\": \"1.19.0\", \"azureml-defaults\": \"1.19.0\", \"azureml-dataset-runtime\": \"1.19.0\", \"azureml-dataprep\": \"2.6.1\", \"azureml-dataprep-rslex\": \"1.4.0\", \"azureml-dataprep-native\": \"26.0.0\", \"azureml-datadrift\": \"1.19.0\", \"azureml-core\": \"1.19.0\", \"azureml-contrib-services\": \"1.19.0\", \"azureml-contrib-server\": \"1.19.0\", \"azureml-contrib-reinforcementlearning\": \"1.19.0\", \"azureml-contrib-pipeline-steps\": \"1.19.0\", \"azureml-contrib-notebook\": \"1.19.0\", \"azureml-contrib-interpret\": \"1.19.0\", \"azureml-contrib-gbdt\": \"1.19.0\", \"azureml-contrib-fairness\": \"1.19.0\", \"azureml-contrib-dataset\": \"1.19.0\", \"azureml-cli-common\": \"1.19.0\", \"azureml-automl-runtime\": \"1.19.0\", \"azureml-automl-core\": \"1.19.0\", \"azureml-accel-models\": \"1.19.0\"}',\n  '_aml_system_scenario_identification': 'Remote.Parent',\n  'ClientType': 'SDK',\n  'environment_cpu_name': 'AzureML-AutoML',\n  'environment_cpu_label': 'prod',\n  'environment_gpu_name': 'AzureML-AutoML-GPU',\n  'environment_gpu_label': 'prod',\n  'root_attribution': 'automl',\n  'attribution': 'AutoML',\n  'Orchestrator': 'AutoML',\n  'CancelUri': 'https://southcentralus.experiments.azureml.net/jasmine/v1.0/subscriptions/d4ad7261-832d-46b2-b093-22156001df5b/resourceGroups/aml-quickstarts-131472/providers/Microsoft.MachineLearningServices/workspaces/quick-starts-ws-131472/experimentids/de2c2fc7-e975-4428-bee3-8f88dd837ff0/cancel/AutoML_54e35876-e6aa-4f8b-adc1-8e0f88d704e6',\n  'ClientSdkVersion': '1.19.0',\n  'snapshotId': '00000000-0000-0000-0000-000000000000',\n  'SetupRunId': 'AutoML_54e35876-e6aa-4f8b-adc1-8e0f88d704e6_setup',\n  'SetupRunContainerId': 'dcid.AutoML_54e35876-e6aa-4f8b-adc1-8e0f88d704e6_setup',\n  'FeaturizationRunJsonPath': 'featurizer_container.json',\n  'FeaturizationRunId': 'AutoML_54e35876-e6aa-4f8b-adc1-8e0f88d704e6_featurize',\n  'ProblemInfoJsonString': '{\"dataset_num_categorical\": 0, \"is_sparse\": false, \"subsampling\": false, \"dataset_classes\": 3, \"dataset_features\": 35, \"dataset_samples\": 1488, \"single_frequency_class_detected\": false}',\n  'ModelExplainRunId': 'AutoML_54e35876-e6aa-4f8b-adc1-8e0f88d704e6_ModelExplain'},\n 'inputDatasets': [{'dataset': {'id': '0b840977-e974-4960-8dbb-3038087a4757'}, 'consumptionDetails': {'type': 'RunInput', 'inputName': 'training_data', 'mechanism': 'Direct'}}],\n 'outputDatasets': [],\n 'logFiles': {}}"
          },
          "metadata": {}
        }
      ],
      "execution_count": 31,
      "metadata": {
        "colab": {
          "referenced_widgets": [
            "65277b8df79f48aaa6ef64b916fa21b6"
          ]
        },
        "gather": {
          "logged": 1608735005366
        },
        "id": "bOY8tYz-3NPN",
        "jupyter": {
          "outputs_hidden": false,
          "source_hidden": false
        },
        "nteract": {
          "transient": {
            "deleting": false
          }
        },
        "outputId": "4b9f650d-9a31-4ebb-e2ff-40c1dea88366"
      }
    },
    {
      "cell_type": "markdown",
      "source": [
        "## Best Model\n",
        "\n",
        "TODO: In the cell below, get the best model from the automl experiments and display all the properties of the model.\n",
        "\n"
      ],
      "metadata": {
        "id": "2KAMFlhO3NPN"
      }
    },
    {
      "cell_type": "code",
      "source": [
        "# Retrieve the best automl run model\n",
        "best_automl_run, fitted_automl_model = automl_run.get_output()\n",
        "print(best_automl_run)\n",
        "\n",
        "# get best model and display properties\n",
        "model_name = best_automl_run.properties['model_name']\n",
        "print(\"Best_model name:\", model_name)\n",
        "\n",
        "# display all the properties of the best model\n",
        "#best_automl_run #.properties\n",
        "best_automl_run.get_properties()"
      ],
      "outputs": [
        {
          "output_type": "stream",
          "name": "stdout",
          "text": [
            "Run(Experiment: ctg_experiment,\n",
            "Id: AutoML_54e35876-e6aa-4f8b-adc1-8e0f88d704e6_36,\n",
            "Type: azureml.scriptrun,\n",
            "Status: Completed)\n",
            "Best_model name: AutoML54e35876e36\n"
          ]
        },
        {
          "output_type": "execute_result",
          "execution_count": 37,
          "data": {
            "text/plain": "{'runTemplate': 'automl_child',\n 'pipeline_id': '__AutoML_Ensemble__',\n 'pipeline_spec': '{\"pipeline_id\":\"__AutoML_Ensemble__\",\"objects\":[{\"module\":\"azureml.train.automl.ensemble\",\"class_name\":\"Ensemble\",\"spec_class\":\"sklearn\",\"param_args\":[],\"param_kwargs\":{\"automl_settings\":\"{\\'task_type\\':\\'classification\\',\\'primary_metric\\':\\'accuracy\\',\\'verbosity\\':20,\\'ensemble_iterations\\':15,\\'is_timeseries\\':False,\\'name\\':\\'ctg_experiment\\',\\'compute_target\\':\\'automl-cluster\\',\\'subscription_id\\':\\'d4ad7261-832d-46b2-b093-22156001df5b\\',\\'region\\':\\'southcentralus\\',\\'spark_service\\':None}\",\"ensemble_run_id\":\"AutoML_54e35876-e6aa-4f8b-adc1-8e0f88d704e6_36\",\"experiment_name\":\"ctg_experiment\",\"workspace_name\":\"quick-starts-ws-131472\",\"subscription_id\":\"d4ad7261-832d-46b2-b093-22156001df5b\",\"resource_group_name\":\"aml-quickstarts-131472\"}}]}',\n 'training_percent': '100',\n 'predicted_cost': None,\n 'iteration': '36',\n '_aml_system_scenario_identification': 'Remote.Child',\n '_azureml.ComputeTargetType': 'amlcompute',\n 'ContentSnapshotId': 'ad9d862d-883b-4e93-9769-49e0f7d938cd',\n 'ProcessInfoFile': 'azureml-logs/process_info.json',\n 'ProcessStatusFile': 'azureml-logs/process_status.json',\n 'run_template': 'automl_child',\n 'run_preprocessor': '',\n 'run_algorithm': 'VotingEnsemble',\n 'conda_env_data_location': 'aml://artifact/ExperimentRun/dcid.AutoML_54e35876-e6aa-4f8b-adc1-8e0f88d704e6_36/outputs/conda_env_v_1_0_0.yml',\n 'model_data_location': 'aml://artifact/ExperimentRun/dcid.AutoML_54e35876-e6aa-4f8b-adc1-8e0f88d704e6_36/outputs/model.pkl',\n 'model_size_on_disk': '1172592',\n 'scoring_data_location': 'aml://artifact/ExperimentRun/dcid.AutoML_54e35876-e6aa-4f8b-adc1-8e0f88d704e6_36/outputs/scoring_file_v_1_0_0.py',\n 'model_exp_support': 'True',\n 'pipeline_graph_version': '1.0.0',\n 'model_name': 'AutoML54e35876e36',\n 'staticProperties': '{}',\n 'score': '0.9905913978494624',\n 'run_properties': \"classification_labels=None,\\n                              estimators=[('7',\\n                                           Pipeline(memory=None,\\n                                                    steps=[('minmaxscaler',\\n                                                            MinMaxScaler(copy=True,\\n                                                                         feature_range=(0,\\n                                                                                        1\",\n 'pipeline_script': '{\"pipeline_id\":\"__AutoML_Ensemble__\",\"objects\":[{\"module\":\"azureml.train.automl.ensemble\",\"class_name\":\"Ensemble\",\"spec_class\":\"sklearn\",\"param_args\":[],\"param_kwargs\":{\"automl_settings\":\"{\\'task_type\\':\\'classification\\',\\'primary_metric\\':\\'accuracy\\',\\'verbosity\\':20,\\'ensemble_iterations\\':15,\\'is_timeseries\\':False,\\'name\\':\\'ctg_experiment\\',\\'compute_target\\':\\'automl-cluster\\',\\'subscription_id\\':\\'d4ad7261-832d-46b2-b093-22156001df5b\\',\\'region\\':\\'southcentralus\\',\\'spark_service\\':None}\",\"ensemble_run_id\":\"AutoML_54e35876-e6aa-4f8b-adc1-8e0f88d704e6_36\",\"experiment_name\":\"ctg_experiment\",\"workspace_name\":\"quick-starts-ws-131472\",\"subscription_id\":\"d4ad7261-832d-46b2-b093-22156001df5b\",\"resource_group_name\":\"aml-quickstarts-131472\"}}]}',\n 'training_type': 'MeanCrossValidation',\n 'num_classes': '',\n 'framework': 'sklearn',\n 'fit_time': '24',\n 'goal': 'accuracy_max',\n 'class_labels': '',\n 'primary_metric': 'accuracy',\n 'errors': '{}',\n 'fitted_pipeline': \"Pipeline(memory=None,\\n         steps=[('datatransformer',\\n                 DataTransformer(enable_dnn=None, enable_feature_sweeping=None,\\n                                 feature_sweeping_config=None,\\n                                 feature_sweeping_timeout=None,\\n                                 featurization_config=None, force_text_dnn=None,\\n                                 is_cross_validation=None,\\n                                 is_onnx_compatible=None, logger=None,\\n                                 observer=None, task=None, working_dir=None)),\\n                ('prefittedsoftvotingclassifier',...\\n                                                                                                fit_intercept=True,\\n                                                                                                intercept_scaling=1,\\n                                                                                                l1_ratio=None,\\n                                                                                                max_iter=100,\\n                                                                                                multi_class='multinomial',\\n                                                                                                n_jobs=-1,\\n                                                                                                penalty='l1',\\n                                                                                                random_state=None,\\n                                                                                                solver='saga',\\n                                                                                                tol=0.0001,\\n                                                                                                verbose=0,\\n                                                                                                warm_start=False))],\\n                                                                     verbose=False))],\\n                                               flatten_transform=None,\\n                                               weights=[0.16666666666666666,\\n                                                        0.16666666666666666,\\n                                                        0.16666666666666666,\\n                                                        0.16666666666666666,\\n                                                        0.3333333333333333]))],\\n         verbose=False)\",\n 'friendly_errors': '{}',\n 'onnx_model_resource': \"{'RawColumnNameToOnnxNameMap': {'b': 'b', 'e': 'e', 'LBE': 'LBE', 'LB': 'LB', 'AC': 'AC', 'FM': 'FM', 'UC': 'UC', 'ASTV': 'ASTV', 'MSTV': 'MSTV', 'ALTV': 'ALTV', 'MLTV': 'MLTV', 'DL': 'DL', 'DS': 'DS', 'DP': 'DP', 'Width': 'Width', 'Min': 'Min', 'Max': 'Max', 'Nmax': 'Nmax', 'Nzeros': 'Nzeros', 'Mode': 'Mode', 'Mean': 'Mean', 'Median': 'Median', 'Variance': 'Variance', 'Tendency': 'Tendency', 'A': 'A', 'B': 'B', 'C': 'C', 'D': 'D', 'E': 'E', 'AD': 'AD', 'DE': 'DE', 'LD': 'LD', 'FS': 'FS', 'SUSP': 'SUSP', 'CLASS': 'CLASS'}, 'InputRawColumnSchema': {'b': 'floating', 'e': 'floating', 'LBE': 'floating', 'LB': 'floating', 'AC': 'floating', 'FM': 'floating', 'UC': 'floating', 'ASTV': 'floating', 'MSTV': 'floating', 'ALTV': 'floating', 'MLTV': 'floating', 'DL': 'floating', 'DS': 'floating', 'DP': 'floating', 'Width': 'floating', 'Min': 'floating', 'Max': 'floating', 'Nmax': 'floating', 'Nzeros': 'floating', 'Mode': 'floating', 'Mean': 'floating', 'Median': 'floating', 'Variance': 'floating', 'Tendency': 'floating', 'A': 'floating', 'B': 'floating', 'C': 'floating', 'D': 'floating', 'E': 'floating', 'AD': 'floating', 'DE': 'floating', 'LD': 'floating', 'FS': 'floating', 'SUSP': 'floating', 'CLASS': 'floating'}, 'InputOnnxColumnSchema': {'b': 'FloatTensorType', 'e': 'FloatTensorType', 'LBE': 'FloatTensorType', 'LB': 'FloatTensorType', 'AC': 'FloatTensorType', 'FM': 'FloatTensorType', 'UC': 'FloatTensorType', 'ASTV': 'FloatTensorType', 'MSTV': 'FloatTensorType', 'ALTV': 'FloatTensorType', 'MLTV': 'FloatTensorType', 'DL': 'FloatTensorType', 'DS': 'FloatTensorType', 'DP': 'FloatTensorType', 'Width': 'FloatTensorType', 'Min': 'FloatTensorType', 'Max': 'FloatTensorType', 'Nmax': 'FloatTensorType', 'Nzeros': 'FloatTensorType', 'Mode': 'FloatTensorType', 'Mean': 'FloatTensorType', 'Median': 'FloatTensorType', 'Variance': 'FloatTensorType', 'Tendency': 'FloatTensorType', 'A': 'FloatTensorType', 'B': 'FloatTensorType', 'C': 'FloatTensorType', 'D': 'FloatTensorType', 'E': 'FloatTensorType', 'AD': 'FloatTensorType', 'DE': 'FloatTensorType', 'LD': 'FloatTensorType', 'FS': 'FloatTensorType', 'SUSP': 'FloatTensorType', 'CLASS': 'FloatTensorType'}, 'CanEnableBatchMode': True}\",\n 'error_code': '',\n 'failure_reason': '',\n 'feature_skus': 'automatedml_sdk_guardrails',\n 'dependencies_versions': '{\"azureml-train-automl-runtime\": \"1.19.0\", \"azureml-train-automl-client\": \"1.19.0\", \"azureml-telemetry\": \"1.19.0\", \"azureml-pipeline-core\": \"1.19.0\", \"azureml-model-management-sdk\": \"1.0.1b6.post1\", \"azureml-interpret\": \"1.19.0\", \"azureml-defaults\": \"1.19.0\", \"azureml-dataset-runtime\": \"1.19.0\", \"azureml-dataprep\": \"2.6.1\", \"azureml-dataprep-rslex\": \"1.4.0\", \"azureml-dataprep-native\": \"26.0.0\", \"azureml-core\": \"1.19.0\", \"azureml-automl-runtime\": \"1.19.0\", \"azureml-automl-core\": \"1.19.0\"}',\n 'num_cores': '2',\n 'num_logical_cores': '2',\n 'peak_memory_usage': '614244',\n 'vm_configuration': 'Intel(R) Xeon(R) Platinum 8171M CPU @ 2.60GHz',\n 'core_hours': '0.006188819166666667'}"
          },
          "metadata": {}
        }
      ],
      "execution_count": 37,
      "metadata": {
        "gather": {
          "logged": 1608735464281
        },
        "id": "d2Vo6SjfJUnD",
        "outputId": "6ac551e0-b143-4809-de75-bae80b66a7d2"
      }
    },
    {
      "cell_type": "code",
      "source": [
        "#TODO: Save the best model\n",
        "#import joblib\n",
        "# create an output folder\n",
        "#os.makedirs('outputs', exist_ok=True)\n",
        "#joblib.dump(model,'outputs/model.joblib')\n",
        "\n",
        "# register best autoML model for future deployment\n",
        "os.makedirs('outputs', exist_ok=True)\n",
        "\n",
        "description = 'AutoML Model trained on cardiocotogram data to predict fetal state as either Normal, Suspect or Pathologic'\n",
        "tags = {'area': 'neonatal health', 'type': 'classification'}\n",
        "automl_model = automl_run.register_model(model_name = 'best-model', description = description, tags = tags)\n",
        "\n",
        "print(\"AutoML RunID: \", automl_run.id, sep='\\t')"
      ],
      "outputs": [
        {
          "output_type": "stream",
          "name": "stdout",
          "text": [
            "AutoML RunID: \tAutoML_54e35876-e6aa-4f8b-adc1-8e0f88d704e6\n"
          ]
        }
      ],
      "execution_count": 38,
      "metadata": {
        "gather": {
          "logged": 1608735475783
        },
        "id": "HmgvDVU23NPN",
        "jupyter": {
          "outputs_hidden": false,
          "source_hidden": false
        },
        "nteract": {
          "transient": {
            "deleting": false
          }
        }
      }
    },
    {
      "cell_type": "markdown",
      "source": [
        "## Model Deployment\n",
        "\n",
        "Remember you have to deploy only one of the two models you trained.. Perform the steps in the rest of this notebook only if you wish to deploy this model.\n",
        "\n",
        "TODO: In the cell below, register the model, create an inference config and deploy the model as a web service."
      ],
      "metadata": {
        "id": "_TDcooJ23NPO"
      }
    },
    {
      "cell_type": "code",
      "source": [
        "# deploy model as a web service\n",
        "from azureml.core.model import InferenceConfig\n",
        "from azureml.core.webservice import AciWebservice\n",
        "from azureml.core import Environment\n",
        "from azureml.core.model import Model\n",
        "\n",
        "service_name = 'my-ctg-service'\n",
        "env = Environment.get(workspace=ws, name=\"AzureML-Tutorial\")  \n",
        "env.python.conda_dependencies.add_pip_package(\"scikit-learn\")\n",
        "\n",
        "inference_config = InferenceConfig(entry_script='score.py', environment=env)\n",
        "aci_config = AciWebservice.deploy_configuration(cpu_cores=1, memory_gb=4, enable_app_insights=True, auth_enabled=True)\n",
        "\n",
        "model = Model(ws,name='best-model')\n",
        "service = Model.deploy(workspace=ws,\n",
        "                       name=service_name,\n",
        "                       models=[model],\n",
        "                       inference_config=inference_config,\n",
        "                       deployment_config=aci_config,\n",
        "                       overwrite=True)\n",
        "\n",
        "service.wait_for_deployment(show_output=True)\n"
      ],
      "outputs": [
        {
          "output_type": "stream",
          "name": "stdout",
          "text": [
            "Tips: You can try get_logs(): https://aka.ms/debugimage#dockerlog or local deployment: https://aka.ms/debugimage#debug-locally to debug if deployment takes longer than 10 minutes.\n",
            "Running..........\n",
            "Failed\n"
          ]
        },
        {
          "output_type": "stream",
          "name": "stderr",
          "text": [
            "ERROR:azureml.core.webservice.webservice:Service deployment polling reached non-successful terminal state, current service state: Failed\n",
            "Operation ID: 35592cd3-3880-4e29-aa1e-5ad26f2f9b09\n",
            "More information can be found using '.get_logs()'\n",
            "Error:\n",
            "{\n",
            "  \"code\": \"ContainerGroupTransitioning\",\n",
            "  \"statusCode\": 429,\n",
            "  \"message\": \"ACI Service request failed. Reason: The container group 'my-ctg-service-ZKwOVYnDaE_N3v8JuFRp8A' is still transitioning, please retry later..\"\n",
            "}\n",
            "\n"
          ]
        },
        {
          "output_type": "error",
          "ename": "WebserviceException",
          "evalue": "WebserviceException:\n\tMessage: Service deployment polling reached non-successful terminal state, current service state: Failed\nOperation ID: 35592cd3-3880-4e29-aa1e-5ad26f2f9b09\nMore information can be found using '.get_logs()'\nError:\n{\n  \"code\": \"ContainerGroupTransitioning\",\n  \"statusCode\": 429,\n  \"message\": \"ACI Service request failed. Reason: The container group 'my-ctg-service-ZKwOVYnDaE_N3v8JuFRp8A' is still transitioning, please retry later..\"\n}\n\tInnerException None\n\tErrorResponse \n{\n    \"error\": {\n        \"message\": \"Service deployment polling reached non-successful terminal state, current service state: Failed\\nOperation ID: 35592cd3-3880-4e29-aa1e-5ad26f2f9b09\\nMore information can be found using '.get_logs()'\\nError:\\n{\\n  \\\"code\\\": \\\"ContainerGroupTransitioning\\\",\\n  \\\"statusCode\\\": 429,\\n  \\\"message\\\": \\\"ACI Service request failed. Reason: The container group 'my-ctg-service-ZKwOVYnDaE_N3v8JuFRp8A' is still transitioning, please retry later..\\\"\\n}\"\n    }\n}",
          "traceback": [
            "\u001b[0;31m---------------------------------------------------------------------------\u001b[0m",
            "\u001b[0;31mWebserviceException\u001b[0m                       Traceback (most recent call last)",
            "\u001b[0;32m<ipython-input-40-0695ed1be956>\u001b[0m in \u001b[0;36m<module>\u001b[0;34m\u001b[0m\n\u001b[1;32m     20\u001b[0m                        overwrite=True)\n\u001b[1;32m     21\u001b[0m \u001b[0;34m\u001b[0m\u001b[0m\n\u001b[0;32m---> 22\u001b[0;31m \u001b[0mservice\u001b[0m\u001b[0;34m.\u001b[0m\u001b[0mwait_for_deployment\u001b[0m\u001b[0;34m(\u001b[0m\u001b[0mshow_output\u001b[0m\u001b[0;34m=\u001b[0m\u001b[0;32mTrue\u001b[0m\u001b[0;34m)\u001b[0m\u001b[0;34m\u001b[0m\u001b[0;34m\u001b[0m\u001b[0m\n\u001b[0m",
            "\u001b[0;32m/anaconda/envs/azureml_py36/lib/python3.6/site-packages/azureml/core/webservice/webservice.py\u001b[0m in \u001b[0;36mwait_for_deployment\u001b[0;34m(self, show_output, timeout_sec)\u001b[0m\n\u001b[1;32m    913\u001b[0m                                           \u001b[0;34m'Error:\\n'\u001b[0m\u001b[0;34m\u001b[0m\u001b[0;34m\u001b[0m\u001b[0m\n\u001b[1;32m    914\u001b[0m                                           '{}'.format(self.state, self._operation_endpoint.split('/')[-1],\n\u001b[0;32m--> 915\u001b[0;31m                                                       logs_response, error_response), logger=module_logger)\n\u001b[0m\u001b[1;32m    916\u001b[0m             print('{} service creation operation finished, operation \"{}\"'.format(self._webservice_type,\n\u001b[1;32m    917\u001b[0m                                                                                   operation_state))\n",
            "\u001b[0;31mWebserviceException\u001b[0m: WebserviceException:\n\tMessage: Service deployment polling reached non-successful terminal state, current service state: Failed\nOperation ID: 35592cd3-3880-4e29-aa1e-5ad26f2f9b09\nMore information can be found using '.get_logs()'\nError:\n{\n  \"code\": \"ContainerGroupTransitioning\",\n  \"statusCode\": 429,\n  \"message\": \"ACI Service request failed. Reason: The container group 'my-ctg-service-ZKwOVYnDaE_N3v8JuFRp8A' is still transitioning, please retry later..\"\n}\n\tInnerException None\n\tErrorResponse \n{\n    \"error\": {\n        \"message\": \"Service deployment polling reached non-successful terminal state, current service state: Failed\\nOperation ID: 35592cd3-3880-4e29-aa1e-5ad26f2f9b09\\nMore information can be found using '.get_logs()'\\nError:\\n{\\n  \\\"code\\\": \\\"ContainerGroupTransitioning\\\",\\n  \\\"statusCode\\\": 429,\\n  \\\"message\\\": \\\"ACI Service request failed. Reason: The container group 'my-ctg-service-ZKwOVYnDaE_N3v8JuFRp8A' is still transitioning, please retry later..\\\"\\n}\"\n    }\n}"
          ]
        }
      ],
      "execution_count": 40,
      "metadata": {
        "gather": {
          "logged": 1598431435189
        },
        "id": "NwLtzTuD3NPO",
        "jupyter": {
          "outputs_hidden": false,
          "source_hidden": false
        },
        "nteract": {
          "transient": {
            "deleting": false
          }
        }
      }
    },
    {
      "cell_type": "code",
      "source": [
        "print(service.get_logs())"
      ],
      "outputs": [
        {
          "output_type": "stream",
          "name": "stdout",
          "text": [
            "None\n"
          ]
        }
      ],
      "execution_count": 41,
      "metadata": {
        "collapsed": true,
        "jupyter": {
          "source_hidden": false,
          "outputs_hidden": false
        },
        "nteract": {
          "transient": {
            "deleting": false
          }
        },
        "gather": {
          "logged": 1608740095654
        }
      }
    },
    {
      "cell_type": "code",
      "source": [
        "print(service.state)\n",
        "print(\"scoring URI: \" + service.scoring_uri)\n",
        "\n",
        "print(\"Swagger URI: \" + service.swagger_uri)\n",
        "\n",
        "print(\"Authetication Key: \" + service.get_keys())"
      ],
      "outputs": [
        {
          "output_type": "stream",
          "name": "stdout",
          "text": [
            "Failed\n"
          ]
        },
        {
          "output_type": "error",
          "ename": "TypeError",
          "evalue": "must be str, not NoneType",
          "traceback": [
            "\u001b[0;31m---------------------------------------------------------------------------\u001b[0m",
            "\u001b[0;31mTypeError\u001b[0m                                 Traceback (most recent call last)",
            "\u001b[0;32m<ipython-input-42-af4d722d8b9e>\u001b[0m in \u001b[0;36m<module>\u001b[0;34m\u001b[0m\n\u001b[1;32m      1\u001b[0m \u001b[0mprint\u001b[0m\u001b[0;34m(\u001b[0m\u001b[0mservice\u001b[0m\u001b[0;34m.\u001b[0m\u001b[0mstate\u001b[0m\u001b[0;34m)\u001b[0m\u001b[0;34m\u001b[0m\u001b[0;34m\u001b[0m\u001b[0m\n\u001b[0;32m----> 2\u001b[0;31m \u001b[0mprint\u001b[0m\u001b[0;34m(\u001b[0m\u001b[0;34m\"scoring URI: \"\u001b[0m \u001b[0;34m+\u001b[0m \u001b[0mservice\u001b[0m\u001b[0;34m.\u001b[0m\u001b[0mscoring_uri\u001b[0m\u001b[0;34m)\u001b[0m\u001b[0;34m\u001b[0m\u001b[0;34m\u001b[0m\u001b[0m\n\u001b[0m\u001b[1;32m      3\u001b[0m \u001b[0;34m\u001b[0m\u001b[0m\n\u001b[1;32m      4\u001b[0m \u001b[0mprint\u001b[0m\u001b[0;34m(\u001b[0m\u001b[0;34m\"Swagger URI: \"\u001b[0m \u001b[0;34m+\u001b[0m \u001b[0mservice\u001b[0m\u001b[0;34m.\u001b[0m\u001b[0mswagger_uri\u001b[0m\u001b[0;34m)\u001b[0m\u001b[0;34m\u001b[0m\u001b[0;34m\u001b[0m\u001b[0m\n\u001b[1;32m      5\u001b[0m \u001b[0;34m\u001b[0m\u001b[0m\n",
            "\u001b[0;31mTypeError\u001b[0m: must be str, not NoneType"
          ]
        }
      ],
      "execution_count": 42,
      "metadata": {
        "id": "RETCe_9nBK3t"
      }
    },
    {
      "cell_type": "markdown",
      "source": [
        "TODO: In the cell below, send a request to the web service you deployed to test it."
      ],
      "metadata": {
        "collapsed": true,
        "gather": {
          "logged": 1598431657736
        },
        "id": "7dAk8LGw3NPO",
        "jupyter": {
          "outputs_hidden": false,
          "source_hidden": false
        },
        "nteract": {
          "transient": {
            "deleting": false
          }
        }
      }
    },
    {
      "cell_type": "code",
      "source": [
        "import json\n",
        "\n",
        "input_payload = json.dumps({\n",
        "    'data': dataset_x[0:2].tolist(),\n",
        "    'method': 'predict'  # If you have a classification model, you can get probabilities by changing this to 'predict_proba'.\n",
        "})\n",
        "\n",
        "output = service.run(input_payload)\n",
        "\n",
        "print(output)"
      ],
      "outputs": [],
      "execution_count": null,
      "metadata": {
        "gather": {
          "logged": 1598432707604
        },
        "id": "I-CM0EmC3NPO",
        "jupyter": {
          "outputs_hidden": false,
          "source_hidden": false
        },
        "nteract": {
          "transient": {
            "deleting": false
          }
        }
      }
    },
    {
      "cell_type": "markdown",
      "source": [
        "TODO: In the cell below, print the logs of the web service and delete the service"
      ],
      "metadata": {
        "collapsed": true,
        "gather": {
          "logged": 1598432765711
        },
        "id": "Dy06gk5i3NPP",
        "jupyter": {
          "outputs_hidden": false,
          "source_hidden": false
        },
        "nteract": {
          "transient": {
            "deleting": false
          }
        }
      }
    },
    {
      "cell_type": "code",
      "source": [
        "# print logs\n",
        "from azureml.core import Workspace\n",
        "from azureml.core.webservice import Webservice\n",
        "\n",
        "# Requires the config to be downloaded first to the current working directory\n",
        "ws = Workspace.from_config()\n",
        "\n",
        "# Set with the deployment name\n",
        "name = \"my-ctg-service\"\n",
        "\n",
        "# load existing web service\n",
        "service = Webservice(name=name, workspace=ws)\n",
        "logs = service.get_logs()\n",
        "\n",
        "for line in logs.split('\\n'):\n",
        "    print(line)\n"
      ],
      "outputs": [],
      "execution_count": null,
      "metadata": {
        "id": "721tXaFTSUbb"
      }
    },
    {
      "cell_type": "code",
      "source": [
        "#delete service\n",
        "service.delete()"
      ],
      "outputs": [],
      "execution_count": null,
      "metadata": {
        "id": "Zr8vDjOr3NPP",
        "jupyter": {
          "outputs_hidden": false,
          "source_hidden": false
        },
        "nteract": {
          "transient": {
            "deleting": false
          }
        }
      }
    }
  ],
  "metadata": {
    "colab": {
      "collapsed_sections": [],
      "name": "automl.ipynb",
      "provenance": []
    },
    "kernel_info": {
      "name": "python3-azureml"
    },
    "kernelspec": {
      "name": "python3-azureml",
      "language": "python",
      "display_name": "Python 3.6 - AzureML"
    },
    "language_info": {
      "name": "python",
      "version": "3.6.9",
      "mimetype": "text/x-python",
      "codemirror_mode": {
        "name": "ipython",
        "version": 3
      },
      "pygments_lexer": "ipython3",
      "nbconvert_exporter": "python",
      "file_extension": ".py"
    },
    "nteract": {
      "version": "nteract-front-end@1.0.0"
    }
  },
  "nbformat": 4,
  "nbformat_minor": 1
}