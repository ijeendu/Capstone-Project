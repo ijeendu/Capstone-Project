{
  "cells": [
    {
      "cell_type": "markdown",
      "source": [
        "# Automated ML\n",
        "\n",
        "TODO: Import Dependencies. In the cell below, import all the dependencies that you will need to complete the project."
      ],
      "metadata": {
        "id": "9CvgwStG3NPD"
      }
    },
    {
      "cell_type": "code",
      "source": [
        "# import dependencies\n",
        "import logging\n",
        "import os\n",
        "import csv\n",
        "\n",
        "from matplotlib import pyplot as plt\n",
        "import numpy as np\n",
        "import pandas as pd\n",
        "#import pkg_resources\n",
        "\n",
        "import azureml.core\n",
        "from azureml.core.experiment import Experiment\n",
        "from azureml.core.workspace import Workspace\n",
        "from azureml.train.automl import AutoMLConfig\n",
        "from azureml.pipeline.steps import AutoMLStep\n",
        "\n",
        "# Check core SDK version number\n",
        "print(\"SDK version:\", azureml.core.VERSION)"
      ],
      "outputs": [
        {
          "output_type": "stream",
          "name": "stdout",
          "text": [
            "SDK version: 1.19.0\n"
          ]
        }
      ],
      "execution_count": 19,
      "metadata": {
        "gather": {
          "logged": 1610337966879
        },
        "id": "tvZfJ1lDVEow",
        "outputId": "ea82a3a6-554f-4c21-9a2c-316050c3985f"
      }
    },
    {
      "cell_type": "code",
      "source": [
        "# initialise workspace\n",
        "ws = Workspace.from_config() # using from_config file downloaded from Azure ML Studio workspace. requires authentication\n",
        "\n",
        "print('Workspace name: ' + ws.name, \n",
        "      'Azure region: ' + ws.location, \n",
        "      'Subscription id: ' + ws.subscription_id, \n",
        "      'Resource group: ' + ws.resource_group, sep = '\\n')\n"
      ],
      "outputs": [
        {
          "output_type": "stream",
          "name": "stdout",
          "text": [
            "Workspace name: quick-starts-ws-134289\n",
            "Azure region: southcentralus\n",
            "Subscription id: 510b94ba-e453-4417-988b-fbdc37b55ca7\n",
            "Resource group: aml-quickstarts-134289\n"
          ]
        }
      ],
      "execution_count": 20,
      "metadata": {
        "gather": {
          "logged": 1610337973101
        },
        "id": "cHpCx-nk3NPK",
        "jupyter": {
          "outputs_hidden": false,
          "source_hidden": false
        },
        "nteract": {
          "transient": {
            "deleting": false
          }
        },
        "outputId": "1d9ec8a5-aeae-4d66-ab82-9861f14930d1"
      }
    },
    {
      "cell_type": "code",
      "source": [
        "# create an AutoML experiment\n",
        "\n",
        "# experiment name\n",
        "experiment_name = 'ctg_experiment'\n",
        "project_folder = './ctgautomlproject'\n",
        "\n",
        "# create the experiment\n",
        "experiment=Experiment(ws, experiment_name)\n",
        "experiment"
      ],
      "outputs": [
        {
          "output_type": "execute_result",
          "execution_count": 21,
          "data": {
            "text/plain": "Experiment(Name: ctg_experiment,\nWorkspace: quick-starts-ws-134289)",
            "text/html": "<table style=\"width:100%\"><tr><th>Name</th><th>Workspace</th><th>Report Page</th><th>Docs Page</th></tr><tr><td>ctg_experiment</td><td>quick-starts-ws-134289</td><td><a href=\"https://ml.azure.com/experiments/ctg_experiment?wsid=/subscriptions/510b94ba-e453-4417-988b-fbdc37b55ca7/resourcegroups/aml-quickstarts-134289/workspaces/quick-starts-ws-134289\" target=\"_blank\" rel=\"noopener\">Link to Azure Machine Learning studio</a></td><td><a href=\"https://docs.microsoft.com/en-us/python/api/azureml-core/azureml.core.experiment.Experiment?view=azure-ml-py\" target=\"_blank\" rel=\"noopener\">Link to Documentation</a></td></tr></table>"
          },
          "metadata": {}
        }
      ],
      "execution_count": 21,
      "metadata": {
        "gather": {
          "logged": 1610337977809
        },
        "id": "wBopRTmv3NPL",
        "jupyter": {
          "outputs_hidden": false,
          "source_hidden": false
        },
        "nteract": {
          "transient": {
            "deleting": false
          }
        },
        "outputId": "2d0696b5-8b02-46be-ebc8-afd352d24715"
      }
    },
    {
      "cell_type": "code",
      "source": [
        "# create or attach an existing compute cluster\n",
        "from azureml.core.compute import ComputeTarget, AmlCompute\n",
        "from azureml.core.compute_target import ComputeTargetException\n",
        "\n",
        "# set name of CPU cluster\n",
        "cpu_cluster_name = \"ctg-cluster\"\n",
        "\n",
        "# Verify that cluster does not exist already\n",
        "try:\n",
        "    cpu_cluster = ComputeTarget(workspace=ws, name=cpu_cluster_name)\n",
        "    print('Found existing cluster, using it.')\n",
        "except ComputeTargetException:\n",
        "    print('Creating a new compute target...')\n",
        "    compute_config = AmlCompute.provisioning_configuration(vm_size='STANDARD_D2_V2',\n",
        "                                                           max_nodes=4)\n",
        "    cpu_cluster = ComputeTarget.create(ws, cpu_cluster_name, compute_config)\n",
        "\n",
        "# wait for completion\n",
        "cpu_cluster.wait_for_completion(show_output=True)"
      ],
      "outputs": [
        {
          "output_type": "stream",
          "name": "stdout",
          "text": [
            "Found existing cluster, using it.\n",
            "\n",
            "Running\n"
          ]
        }
      ],
      "execution_count": 22,
      "metadata": {
        "gather": {
          "logged": 1610337987169
        },
        "id": "Xjaaq9H331y0",
        "outputId": "4b6782ba-4c58-4d0d-d953-5f8f49686f3f"
      }
    },
    {
      "cell_type": "markdown",
      "source": [
        "## Dataset\n",
        "\n",
        "### Overview\n",
        "\n",
        "This project uses the cardiotocogram data set available at the UCI ML website.\n",
        "The dataset consists of measurements of fetal heart rate (FHR) and uterine contraction (UC) features on cardiotocograms classified by expert obstetricians. It consists of 2126 fetal cardiotocograms (CTGs) with 23 attributes.\n",
        "\n",
        "The CTGs were automatically processed and the respective diagnostic features measured and classified by three expert obstetricians and a consensus classification label assigned to each of them. Classification was both with respect to a morphologic pattern (A, B, C, ..., J) and to a fetal state (N, S, P). Therefore the dataset can be used either for 10-class or 3-class experiments. \n",
        "\n",
        "In this work, the 3-class label is used to classify a foetus as Normal, Suspect or Pathological based on the cardiotocogram measurements.\n",
        "\n"
      ],
      "metadata": {
        "id": "7KUjVmOp3NPL"
      }
    },
    {
      "cell_type": "code",
      "source": [
        "# import data external to AzureML\n",
        "from azureml.data.dataset_factory import TabularDatasetFactory\n",
        "\n",
        "# first try to load the dataset from the workspace. Otherwise, create it from the file\n",
        "\n",
        "found = False\n",
        "key = \"ctg-data\"\n",
        "description_text = \"Cardiocotogram dataset for fetal state classification Udacity Capstone Project\"\n",
        "\n",
        "if key in ws.datasets.keys(): \n",
        "        found = True\n",
        "        print('found dataset in workspace')\n",
        "        ds = ws.datasets[key] \n",
        "\n",
        "if not found:\n",
        "    # Create TabularDataset using TabularDatasetFactory\n",
        "    url = \"https://raw.githubusercontent.com/ijeendu/Machine_Learning_in_Microsoft_Azure/main/CTG.csv\"\n",
        "    ds = TabularDatasetFactory.from_delimited_files(path=url)\n",
        "    \n",
        "    # register dataset in workspace\n",
        "    ds = ds.register(workspace=ws,\n",
        "                    name=key,\n",
        "                    description=description_text)\n",
        "\n",
        "# view dataset\n",
        "ds.to_pandas_dataframe().head()"
      ],
      "outputs": [
        {
          "output_type": "stream",
          "name": "stdout",
          "text": [
            "found dataset in workspace\n"
          ]
        },
        {
          "output_type": "execute_result",
          "execution_count": 23,
          "data": {
            "text/plain": "       FileName       Date      SegFile    b     e  LBE   LB  AC  FM  UC  ...  \\\n0  Variab10.txt 1996-12-01  CTG0001.txt  240   357  120  120   0   0   0  ...   \n1    Fmcs_1.txt 1996-05-03  CTG0002.txt    5   632  132  132   4   0   4  ...   \n2    Fmcs_1.txt 1996-05-03  CTG0003.txt  177   779  133  133   2   0   5  ...   \n3    Fmcs_1.txt 1996-05-03  CTG0004.txt  411  1192  134  134   2   0   6  ...   \n4    Fmcs_1.txt 1996-05-03  CTG0005.txt  533  1147  132  132   4   0   5  ...   \n\n   C  D  E  AD  DE  LD  FS  SUSP  CLASS  NSP  \n0  0  0  0   0   0   0   1     0      9    2  \n1  0  0  0   1   0   0   0     0      6    1  \n2  0  0  0   1   0   0   0     0      6    1  \n3  0  0  0   1   0   0   0     0      6    1  \n4  0  0  0   0   0   0   0     0      2    1  \n\n[5 rows x 40 columns]",
            "text/html": "<div>\n<style scoped>\n    .dataframe tbody tr th:only-of-type {\n        vertical-align: middle;\n    }\n\n    .dataframe tbody tr th {\n        vertical-align: top;\n    }\n\n    .dataframe thead th {\n        text-align: right;\n    }\n</style>\n<table border=\"1\" class=\"dataframe\">\n  <thead>\n    <tr style=\"text-align: right;\">\n      <th></th>\n      <th>FileName</th>\n      <th>Date</th>\n      <th>SegFile</th>\n      <th>b</th>\n      <th>e</th>\n      <th>LBE</th>\n      <th>LB</th>\n      <th>AC</th>\n      <th>FM</th>\n      <th>UC</th>\n      <th>...</th>\n      <th>C</th>\n      <th>D</th>\n      <th>E</th>\n      <th>AD</th>\n      <th>DE</th>\n      <th>LD</th>\n      <th>FS</th>\n      <th>SUSP</th>\n      <th>CLASS</th>\n      <th>NSP</th>\n    </tr>\n  </thead>\n  <tbody>\n    <tr>\n      <th>0</th>\n      <td>Variab10.txt</td>\n      <td>1996-12-01</td>\n      <td>CTG0001.txt</td>\n      <td>240</td>\n      <td>357</td>\n      <td>120</td>\n      <td>120</td>\n      <td>0</td>\n      <td>0</td>\n      <td>0</td>\n      <td>...</td>\n      <td>0</td>\n      <td>0</td>\n      <td>0</td>\n      <td>0</td>\n      <td>0</td>\n      <td>0</td>\n      <td>1</td>\n      <td>0</td>\n      <td>9</td>\n      <td>2</td>\n    </tr>\n    <tr>\n      <th>1</th>\n      <td>Fmcs_1.txt</td>\n      <td>1996-05-03</td>\n      <td>CTG0002.txt</td>\n      <td>5</td>\n      <td>632</td>\n      <td>132</td>\n      <td>132</td>\n      <td>4</td>\n      <td>0</td>\n      <td>4</td>\n      <td>...</td>\n      <td>0</td>\n      <td>0</td>\n      <td>0</td>\n      <td>1</td>\n      <td>0</td>\n      <td>0</td>\n      <td>0</td>\n      <td>0</td>\n      <td>6</td>\n      <td>1</td>\n    </tr>\n    <tr>\n      <th>2</th>\n      <td>Fmcs_1.txt</td>\n      <td>1996-05-03</td>\n      <td>CTG0003.txt</td>\n      <td>177</td>\n      <td>779</td>\n      <td>133</td>\n      <td>133</td>\n      <td>2</td>\n      <td>0</td>\n      <td>5</td>\n      <td>...</td>\n      <td>0</td>\n      <td>0</td>\n      <td>0</td>\n      <td>1</td>\n      <td>0</td>\n      <td>0</td>\n      <td>0</td>\n      <td>0</td>\n      <td>6</td>\n      <td>1</td>\n    </tr>\n    <tr>\n      <th>3</th>\n      <td>Fmcs_1.txt</td>\n      <td>1996-05-03</td>\n      <td>CTG0004.txt</td>\n      <td>411</td>\n      <td>1192</td>\n      <td>134</td>\n      <td>134</td>\n      <td>2</td>\n      <td>0</td>\n      <td>6</td>\n      <td>...</td>\n      <td>0</td>\n      <td>0</td>\n      <td>0</td>\n      <td>1</td>\n      <td>0</td>\n      <td>0</td>\n      <td>0</td>\n      <td>0</td>\n      <td>6</td>\n      <td>1</td>\n    </tr>\n    <tr>\n      <th>4</th>\n      <td>Fmcs_1.txt</td>\n      <td>1996-05-03</td>\n      <td>CTG0005.txt</td>\n      <td>533</td>\n      <td>1147</td>\n      <td>132</td>\n      <td>132</td>\n      <td>4</td>\n      <td>0</td>\n      <td>5</td>\n      <td>...</td>\n      <td>0</td>\n      <td>0</td>\n      <td>0</td>\n      <td>0</td>\n      <td>0</td>\n      <td>0</td>\n      <td>0</td>\n      <td>0</td>\n      <td>2</td>\n      <td>1</td>\n    </tr>\n  </tbody>\n</table>\n<p>5 rows × 40 columns</p>\n</div>"
          },
          "metadata": {}
        }
      ],
      "execution_count": 23,
      "metadata": {
        "gather": {
          "logged": 1610338003246
        },
        "id": "8RPYmjGK3uQW",
        "outputId": "c28a8b53-826d-4bec-95c5-038ca036ffc2"
      }
    },
    {
      "cell_type": "code",
      "source": [
        "# explore dataframe\n",
        "df = ds.to_pandas_dataframe()\n",
        "df.describe()"
      ],
      "outputs": [
        {
          "output_type": "execute_result",
          "execution_count": 24,
          "data": {
            "text/plain": "            b       e     LBE      LB      AC      FM      UC    ASTV    MSTV  \\\ncount 2126.00 2126.00 2126.00 2126.00 2126.00 2126.00 2126.00 2126.00 2126.00   \nmean   878.44 1702.88  133.30  133.30    2.72    7.24    3.66   46.99    1.33   \nstd    894.08  930.92    9.84    9.84    3.56   37.13    2.85   17.19    0.88   \nmin      0.00  287.00  106.00  106.00    0.00    0.00    0.00   12.00    0.20   \n25%     55.00 1009.00  126.00  126.00    0.00    0.00    1.00   32.00    0.70   \n50%    538.00 1241.00  133.00  133.00    1.00    0.00    3.00   49.00    1.20   \n75%   1521.00 2434.75  140.00  140.00    4.00    2.00    5.00   61.00    1.70   \nmax   3296.00 3599.00  160.00  160.00   26.00  564.00   23.00   87.00    7.00   \n\n         ALTV  ...       C       D       E      AD      DE      LD      FS  \\\ncount 2126.00  ... 2126.00 2126.00 2126.00 2126.00 2126.00 2126.00 2126.00   \nmean     9.85  ...    0.02    0.04    0.03    0.16    0.12    0.05    0.03   \nstd     18.40  ...    0.16    0.19    0.18    0.36    0.32    0.22    0.18   \nmin      0.00  ...    0.00    0.00    0.00    0.00    0.00    0.00    0.00   \n25%      0.00  ...    0.00    0.00    0.00    0.00    0.00    0.00    0.00   \n50%      0.00  ...    0.00    0.00    0.00    0.00    0.00    0.00    0.00   \n75%     11.00  ...    0.00    0.00    0.00    0.00    0.00    0.00    0.00   \nmax     91.00  ...    1.00    1.00    1.00    1.00    1.00    1.00    1.00   \n\n         SUSP   CLASS     NSP  \ncount 2126.00 2126.00 2126.00  \nmean     0.09    4.51    1.30  \nstd      0.29    3.03    0.61  \nmin      0.00    1.00    1.00  \n25%      0.00    2.00    1.00  \n50%      0.00    4.00    1.00  \n75%      0.00    7.00    1.00  \nmax      1.00   10.00    3.00  \n\n[8 rows x 37 columns]",
            "text/html": "<div>\n<style scoped>\n    .dataframe tbody tr th:only-of-type {\n        vertical-align: middle;\n    }\n\n    .dataframe tbody tr th {\n        vertical-align: top;\n    }\n\n    .dataframe thead th {\n        text-align: right;\n    }\n</style>\n<table border=\"1\" class=\"dataframe\">\n  <thead>\n    <tr style=\"text-align: right;\">\n      <th></th>\n      <th>b</th>\n      <th>e</th>\n      <th>LBE</th>\n      <th>LB</th>\n      <th>AC</th>\n      <th>FM</th>\n      <th>UC</th>\n      <th>ASTV</th>\n      <th>MSTV</th>\n      <th>ALTV</th>\n      <th>...</th>\n      <th>C</th>\n      <th>D</th>\n      <th>E</th>\n      <th>AD</th>\n      <th>DE</th>\n      <th>LD</th>\n      <th>FS</th>\n      <th>SUSP</th>\n      <th>CLASS</th>\n      <th>NSP</th>\n    </tr>\n  </thead>\n  <tbody>\n    <tr>\n      <th>count</th>\n      <td>2126.00</td>\n      <td>2126.00</td>\n      <td>2126.00</td>\n      <td>2126.00</td>\n      <td>2126.00</td>\n      <td>2126.00</td>\n      <td>2126.00</td>\n      <td>2126.00</td>\n      <td>2126.00</td>\n      <td>2126.00</td>\n      <td>...</td>\n      <td>2126.00</td>\n      <td>2126.00</td>\n      <td>2126.00</td>\n      <td>2126.00</td>\n      <td>2126.00</td>\n      <td>2126.00</td>\n      <td>2126.00</td>\n      <td>2126.00</td>\n      <td>2126.00</td>\n      <td>2126.00</td>\n    </tr>\n    <tr>\n      <th>mean</th>\n      <td>878.44</td>\n      <td>1702.88</td>\n      <td>133.30</td>\n      <td>133.30</td>\n      <td>2.72</td>\n      <td>7.24</td>\n      <td>3.66</td>\n      <td>46.99</td>\n      <td>1.33</td>\n      <td>9.85</td>\n      <td>...</td>\n      <td>0.02</td>\n      <td>0.04</td>\n      <td>0.03</td>\n      <td>0.16</td>\n      <td>0.12</td>\n      <td>0.05</td>\n      <td>0.03</td>\n      <td>0.09</td>\n      <td>4.51</td>\n      <td>1.30</td>\n    </tr>\n    <tr>\n      <th>std</th>\n      <td>894.08</td>\n      <td>930.92</td>\n      <td>9.84</td>\n      <td>9.84</td>\n      <td>3.56</td>\n      <td>37.13</td>\n      <td>2.85</td>\n      <td>17.19</td>\n      <td>0.88</td>\n      <td>18.40</td>\n      <td>...</td>\n      <td>0.16</td>\n      <td>0.19</td>\n      <td>0.18</td>\n      <td>0.36</td>\n      <td>0.32</td>\n      <td>0.22</td>\n      <td>0.18</td>\n      <td>0.29</td>\n      <td>3.03</td>\n      <td>0.61</td>\n    </tr>\n    <tr>\n      <th>min</th>\n      <td>0.00</td>\n      <td>287.00</td>\n      <td>106.00</td>\n      <td>106.00</td>\n      <td>0.00</td>\n      <td>0.00</td>\n      <td>0.00</td>\n      <td>12.00</td>\n      <td>0.20</td>\n      <td>0.00</td>\n      <td>...</td>\n      <td>0.00</td>\n      <td>0.00</td>\n      <td>0.00</td>\n      <td>0.00</td>\n      <td>0.00</td>\n      <td>0.00</td>\n      <td>0.00</td>\n      <td>0.00</td>\n      <td>1.00</td>\n      <td>1.00</td>\n    </tr>\n    <tr>\n      <th>25%</th>\n      <td>55.00</td>\n      <td>1009.00</td>\n      <td>126.00</td>\n      <td>126.00</td>\n      <td>0.00</td>\n      <td>0.00</td>\n      <td>1.00</td>\n      <td>32.00</td>\n      <td>0.70</td>\n      <td>0.00</td>\n      <td>...</td>\n      <td>0.00</td>\n      <td>0.00</td>\n      <td>0.00</td>\n      <td>0.00</td>\n      <td>0.00</td>\n      <td>0.00</td>\n      <td>0.00</td>\n      <td>0.00</td>\n      <td>2.00</td>\n      <td>1.00</td>\n    </tr>\n    <tr>\n      <th>50%</th>\n      <td>538.00</td>\n      <td>1241.00</td>\n      <td>133.00</td>\n      <td>133.00</td>\n      <td>1.00</td>\n      <td>0.00</td>\n      <td>3.00</td>\n      <td>49.00</td>\n      <td>1.20</td>\n      <td>0.00</td>\n      <td>...</td>\n      <td>0.00</td>\n      <td>0.00</td>\n      <td>0.00</td>\n      <td>0.00</td>\n      <td>0.00</td>\n      <td>0.00</td>\n      <td>0.00</td>\n      <td>0.00</td>\n      <td>4.00</td>\n      <td>1.00</td>\n    </tr>\n    <tr>\n      <th>75%</th>\n      <td>1521.00</td>\n      <td>2434.75</td>\n      <td>140.00</td>\n      <td>140.00</td>\n      <td>4.00</td>\n      <td>2.00</td>\n      <td>5.00</td>\n      <td>61.00</td>\n      <td>1.70</td>\n      <td>11.00</td>\n      <td>...</td>\n      <td>0.00</td>\n      <td>0.00</td>\n      <td>0.00</td>\n      <td>0.00</td>\n      <td>0.00</td>\n      <td>0.00</td>\n      <td>0.00</td>\n      <td>0.00</td>\n      <td>7.00</td>\n      <td>1.00</td>\n    </tr>\n    <tr>\n      <th>max</th>\n      <td>3296.00</td>\n      <td>3599.00</td>\n      <td>160.00</td>\n      <td>160.00</td>\n      <td>26.00</td>\n      <td>564.00</td>\n      <td>23.00</td>\n      <td>87.00</td>\n      <td>7.00</td>\n      <td>91.00</td>\n      <td>...</td>\n      <td>1.00</td>\n      <td>1.00</td>\n      <td>1.00</td>\n      <td>1.00</td>\n      <td>1.00</td>\n      <td>1.00</td>\n      <td>1.00</td>\n      <td>1.00</td>\n      <td>10.00</td>\n      <td>3.00</td>\n    </tr>\n  </tbody>\n</table>\n<p>8 rows × 37 columns</p>\n</div>"
          },
          "metadata": {}
        }
      ],
      "execution_count": 24,
      "metadata": {
        "collapsed": true,
        "gather": {
          "logged": 1610338012788
        },
        "id": "JE3Oyrw4PuhI",
        "jupyter": {
          "outputs_hidden": false,
          "source_hidden": false
        },
        "nteract": {
          "transient": {
            "deleting": false
          }
        },
        "outputId": "4cdcfc5a-3bd3-47a7-f0b1-446826bc921b"
      }
    },
    {
      "cell_type": "code",
      "source": [
        "# prepare dataset for model training\n",
        "\n",
        "from train import clean_data\n",
        "from sklearn.model_selection import train_test_split\n",
        "import pandas as pd\n",
        "\n",
        "# Clean dataset using the clean_data function\n",
        "x, y = clean_data(ds)\n",
        "\n",
        "# split dataset into train and test sets\n",
        "(x_train, x_test, y_train, y_test) = train_test_split(x, y, test_size= 0.3, random_state = 0)\n",
        "label = 'NSP'\n",
        "\n",
        "# merge the output x and y dataframes into a single table for AutoML experiment\n",
        "train_data_df = pd.concat([x_train, y_train], axis=1)\n",
        "\n",
        "# view train dataset\n",
        "train_data_df.head()"
      ],
      "outputs": [
        {
          "output_type": "execute_result",
          "execution_count": 25,
          "data": {
            "text/plain": "        b     e  LBE   LB  AC  FM  UC  ASTV  MSTV  ALTV  ...  C  D  E  AD  DE  \\\n994    44   831  129  129   3   0   1    27  1.20     1  ...  0  0  0   0   0   \n1618  848  2108  142  142   4  63   3    66  3.30     0  ...  0  0  0   1   0   \n177     0  1033  119  119   8   0   5    30  1.80     0  ...  0  0  0   0   0   \n519    25   679  126  126   5  26   3    42  1.50     0  ...  0  0  0   0   0   \n745   242  1014  142  142   1   0   4    23  3.60     0  ...  0  0  0   0   1   \n\n      LD  FS  SUSP  CLASS  NSP  \n994    0   0     0      2    1  \n1618   0   0     0      6    1  \n177    0   0     0      2    1  \n519    0   0     0      2    1  \n745    0   0     0      7    1  \n\n[5 rows x 37 columns]",
            "text/html": "<div>\n<style scoped>\n    .dataframe tbody tr th:only-of-type {\n        vertical-align: middle;\n    }\n\n    .dataframe tbody tr th {\n        vertical-align: top;\n    }\n\n    .dataframe thead th {\n        text-align: right;\n    }\n</style>\n<table border=\"1\" class=\"dataframe\">\n  <thead>\n    <tr style=\"text-align: right;\">\n      <th></th>\n      <th>b</th>\n      <th>e</th>\n      <th>LBE</th>\n      <th>LB</th>\n      <th>AC</th>\n      <th>FM</th>\n      <th>UC</th>\n      <th>ASTV</th>\n      <th>MSTV</th>\n      <th>ALTV</th>\n      <th>...</th>\n      <th>C</th>\n      <th>D</th>\n      <th>E</th>\n      <th>AD</th>\n      <th>DE</th>\n      <th>LD</th>\n      <th>FS</th>\n      <th>SUSP</th>\n      <th>CLASS</th>\n      <th>NSP</th>\n    </tr>\n  </thead>\n  <tbody>\n    <tr>\n      <th>994</th>\n      <td>44</td>\n      <td>831</td>\n      <td>129</td>\n      <td>129</td>\n      <td>3</td>\n      <td>0</td>\n      <td>1</td>\n      <td>27</td>\n      <td>1.20</td>\n      <td>1</td>\n      <td>...</td>\n      <td>0</td>\n      <td>0</td>\n      <td>0</td>\n      <td>0</td>\n      <td>0</td>\n      <td>0</td>\n      <td>0</td>\n      <td>0</td>\n      <td>2</td>\n      <td>1</td>\n    </tr>\n    <tr>\n      <th>1618</th>\n      <td>848</td>\n      <td>2108</td>\n      <td>142</td>\n      <td>142</td>\n      <td>4</td>\n      <td>63</td>\n      <td>3</td>\n      <td>66</td>\n      <td>3.30</td>\n      <td>0</td>\n      <td>...</td>\n      <td>0</td>\n      <td>0</td>\n      <td>0</td>\n      <td>1</td>\n      <td>0</td>\n      <td>0</td>\n      <td>0</td>\n      <td>0</td>\n      <td>6</td>\n      <td>1</td>\n    </tr>\n    <tr>\n      <th>177</th>\n      <td>0</td>\n      <td>1033</td>\n      <td>119</td>\n      <td>119</td>\n      <td>8</td>\n      <td>0</td>\n      <td>5</td>\n      <td>30</td>\n      <td>1.80</td>\n      <td>0</td>\n      <td>...</td>\n      <td>0</td>\n      <td>0</td>\n      <td>0</td>\n      <td>0</td>\n      <td>0</td>\n      <td>0</td>\n      <td>0</td>\n      <td>0</td>\n      <td>2</td>\n      <td>1</td>\n    </tr>\n    <tr>\n      <th>519</th>\n      <td>25</td>\n      <td>679</td>\n      <td>126</td>\n      <td>126</td>\n      <td>5</td>\n      <td>26</td>\n      <td>3</td>\n      <td>42</td>\n      <td>1.50</td>\n      <td>0</td>\n      <td>...</td>\n      <td>0</td>\n      <td>0</td>\n      <td>0</td>\n      <td>0</td>\n      <td>0</td>\n      <td>0</td>\n      <td>0</td>\n      <td>0</td>\n      <td>2</td>\n      <td>1</td>\n    </tr>\n    <tr>\n      <th>745</th>\n      <td>242</td>\n      <td>1014</td>\n      <td>142</td>\n      <td>142</td>\n      <td>1</td>\n      <td>0</td>\n      <td>4</td>\n      <td>23</td>\n      <td>3.60</td>\n      <td>0</td>\n      <td>...</td>\n      <td>0</td>\n      <td>0</td>\n      <td>0</td>\n      <td>0</td>\n      <td>1</td>\n      <td>0</td>\n      <td>0</td>\n      <td>0</td>\n      <td>7</td>\n      <td>1</td>\n    </tr>\n  </tbody>\n</table>\n<p>5 rows × 37 columns</p>\n</div>"
          },
          "metadata": {}
        }
      ],
      "execution_count": 25,
      "metadata": {
        "gather": {
          "logged": 1610338019607
        },
        "id": "gJ3td74ADEFk",
        "outputId": "3b431849-e5ce-44f1-c6ef-e629b95b658a"
      }
    },
    {
      "cell_type": "code",
      "source": [
        "# save training data in tabular format to allow for remote run\n",
        "if not os.path.isdir('data'):  # create data folder if it does not exist\n",
        "    os.mkdir('data')\n",
        "    \n",
        "# Save the train data to a csv file to be uploaded to the datastore\n",
        "pd.DataFrame(train_data_df).to_csv(\"data/train_data.csv\", index=False)\n",
        "\n",
        "# Upload the training data as a tabular dataset for access during training on remote compute\n",
        "# upload to data store\n",
        "ds = ws.get_default_datastore()\n",
        "ds.upload(src_dir='./data', target_path='ctgclassifier', overwrite=True, show_progress=True)\n",
        "\n",
        " # access datastore during training on remote compute\n",
        "train_data = TabularDatasetFactory.from_delimited_files(path=ds.path('ctgclassifier/train_data.csv'))\n"
      ],
      "outputs": [
        {
          "output_type": "stream",
          "name": "stdout",
          "text": [
            "Uploading an estimated of 1 files\n",
            "Uploading ./data/train_data.csv\n",
            "Uploaded ./data/train_data.csv, 1 files out of an estimated total of 1\n",
            "Uploaded 1 files\n"
          ]
        }
      ],
      "execution_count": 26,
      "metadata": {
        "gather": {
          "logged": 1610338030243
        },
        "id": "4k4BDeq6BemO",
        "outputId": "c13d04b1-97bd-4574-c955-87256f87a5df"
      }
    },
    {
      "cell_type": "markdown",
      "source": [
        "## AutoML Configuration\n",
        "\n",
        "TODO: Explain why you chose the automl settings and cofiguration you used below."
      ],
      "metadata": {
        "id": "4kn_ZqTj3NPM"
      }
    },
    {
      "cell_type": "code",
      "source": [
        "# Set parameters for AutoMLConfig\n",
        "\n",
        "# define autoconfig settings\n",
        "automl_settings = {\n",
        "    'enable_early_stopping' : True,\n",
        "    'iteration_timeout_minutes': 5,\n",
        "    'max_concurrent_iterations': 4,\n",
        "    'max_cores_per_iteration': -1,    \n",
        "    'featurization': 'auto',\n",
        "    'verbosity': logging.INFO,\n",
        "}\n",
        "\n",
        "# define automl autconfig parameters\n",
        "automl_config = AutoMLConfig(\n",
        "    experiment_timeout_minutes=30,\n",
        "    task= 'classification',\n",
        "    primary_metric='accuracy',\n",
        "    enable_onnx_compatible_models=True,\n",
        "    compute_target=cpu_cluster, \n",
        "    training_data= train_data,\n",
        "    label_column_name= label,\n",
        "    path = project_folder,\n",
        "    n_cross_validations=3,\n",
        "    debug_log = 'automl_errors.log',\n",
        "    **automl_settings)"
      ],
      "outputs": [],
      "execution_count": 27,
      "metadata": {
        "gather": {
          "logged": 1610338035319
        },
        "id": "_9-vppqt4xXt"
      }
    },
    {
      "cell_type": "code",
      "source": [
        "#Submit experiment for remote run\n",
        "automl_run = experiment.submit(automl_config, show_output = True)"
      ],
      "outputs": [
        {
          "output_type": "stream",
          "name": "stdout",
          "text": [
            "Running on remote.\n",
            "No run_configuration provided, running on ctg-cluster with default configuration\n",
            "Running on remote compute: ctg-cluster\n",
            "Parent Run ID: AutoML_5fcf73f9-b3a9-4471-8dab-d7be02ded432\n",
            "\n",
            "Current status: FeaturesGeneration. Generating features for the dataset.\n",
            "Current status: DatasetBalancing. Generating individually featurized CV splits.\n",
            "Current status: ModelSelection. Beginning model selection.\n",
            "\n",
            "****************************************************************************************************\n",
            "DATA GUARDRAILS: \n",
            "\n",
            "TYPE:         Class balancing detection\n",
            "STATUS:       ALERTED\n",
            "DESCRIPTION:  To decrease model bias, please cancel the current run and fix balancing problem.\n",
            "              Learn more about imbalanced data: https://aka.ms/AutomatedMLImbalancedData\n",
            "DETAILS:      Imbalanced data can lead to a falsely perceived positive effect of a model's accuracy because the input data has bias towards one class.\n",
            "+---------------------------------+---------------------------------+--------------------------------------+\n",
            "|Size of the smallest class       |Name/Label of the smallest class |Number of samples in the training data|\n",
            "+=================================+=================================+======================================+\n",
            "|118                              |3                                |1488                                  |\n",
            "+---------------------------------+---------------------------------+--------------------------------------+\n",
            "\n",
            "****************************************************************************************************\n",
            "\n",
            "TYPE:         High cardinality feature detection\n",
            "STATUS:       PASSED\n",
            "DESCRIPTION:  Your inputs were analyzed, and no high cardinality features were detected.\n",
            "              Learn more about high cardinality feature handling: https://aka.ms/AutomatedMLFeaturization\n",
            "\n",
            "****************************************************************************************************\n",
            "\n",
            "****************************************************************************************************\n",
            "ITERATION: The iteration being evaluated.\n",
            "PIPELINE: A summary description of the pipeline being evaluated.\n",
            "DURATION: Time taken for the current iteration.\n",
            "METRIC: The result of computing score on the fitted pipeline.\n",
            "BEST: The best observed score thus far.\n",
            "****************************************************************************************************\n",
            "\n",
            " ITERATION   PIPELINE                                       DURATION      METRIC      BEST\n",
            "         2   MinMaxScaler RandomForest                      0:01:00       0.9704    0.9704\n",
            "         1   MaxAbsScaler XGBoostClassifier                 0:01:07       0.9892    0.9892\n",
            "         3   MinMaxScaler RandomForest                      0:01:04       0.9133    0.9892\n",
            "         0   MaxAbsScaler LightGBM                          0:01:14       0.9886    0.9892\n",
            "         4   MinMaxScaler RandomForest                      0:00:59       0.9859    0.9892\n",
            "         5   MinMaxScaler SVM                               0:00:57       0.9899    0.9899\n",
            "         6   SparseNormalizer XGBoostClassifier             0:01:01       0.9852    0.9899\n",
            "         7   MinMaxScaler SVM                               0:00:51       0.9899    0.9899\n",
            "        10   SparseNormalizer XGBoostClassifier             0:00:59       0.9839    0.9899\n",
            "         8   RobustScaler RandomForest                      0:01:02       0.9563    0.9899\n",
            "         9   SparseNormalizer LightGBM                      0:01:02       0.9274    0.9899\n",
            "        11   MaxAbsScaler LightGBM                          0:01:44       0.9812    0.9899\n",
            "        13   StandardScalerWrapper LogisticRegression       0:00:55       0.9886    0.9899\n",
            "        14   MaxAbsScaler LightGBM                          0:00:57       0.9772    0.9899\n",
            "        12   RobustScaler LightGBM                          0:01:09       0.9872    0.9899\n",
            "        15   StandardScalerWrapper LogisticRegression       0:00:58       0.9825    0.9899\n",
            "        16   SparseNormalizer XGBoostClassifier             0:01:07       0.9852    0.9899\n",
            "        17   StandardScalerWrapper XGBoostClassifier        0:01:09       0.9866    0.9899\n",
            "        18   SparseNormalizer XGBoostClassifier             0:00:59       0.9872    0.9899\n",
            "        19   SparseNormalizer XGBoostClassifier             0:00:55       0.9839    0.9899\n",
            "        20   StandardScalerWrapper ExtremeRandomTrees       0:00:59       0.9859    0.9899\n",
            "        21   StandardScalerWrapper LightGBM                 0:00:53       0.9671    0.9899\n",
            "        22   StandardScalerWrapper ExtremeRandomTrees       0:00:55       0.9516    0.9899\n",
            "        23   SparseNormalizer XGBoostClassifier             0:00:56       0.9872    0.9899\n",
            "        24   RobustScaler SVM                               0:01:01       0.7802    0.9899\n",
            "        26   SparseNormalizer XGBoostClassifier             0:00:58       0.9892    0.9899\n",
            "        25   SparseNormalizer XGBoostClassifier             0:01:11       0.9805    0.9899\n",
            "        27   SparseNormalizer LightGBM                      0:01:05       0.9886    0.9899\n",
            "        28   RobustScaler LightGBM                          0:00:47       0.9879    0.9899\n",
            "        29   MinMaxScaler LightGBM                          0:00:55       0.9906    0.9906\n",
            "        30   MinMaxScaler SVM                               0:00:52       0.9879    0.9906\n",
            "        31   StandardScalerWrapper XGBoostClassifier        0:00:51       0.9886    0.9906\n",
            "        32   StandardScalerWrapper XGBoostClassifier        0:00:57       0.9892    0.9906\n",
            "        33   MinMaxScaler LogisticRegression                0:00:59       0.9845    0.9906\n",
            "        34   SparseNormalizer RandomForest                  0:00:56       0.9832    0.9906\n",
            "        35   StandardScalerWrapper LightGBM                 0:01:02       0.8515    0.9906\n",
            "        36   SparseNormalizer XGBoostClassifier             0:00:56       0.9832    0.9906\n",
            "        38   StandardScalerWrapper XGBoostClassifier        0:00:53       0.9886    0.9906\n",
            "        37   SparseNormalizer XGBoostClassifier             0:01:21       0.9879    0.9906\n",
            "        39   RobustScaler SVM                               0:01:04       0.9859    0.9906\n",
            "        40   MinMaxScaler LightGBM                          0:01:03       0.9892    0.9906\n",
            "        41   MaxAbsScaler SVM                               0:00:48       0.9906    0.9906\n",
            "        42   MaxAbsScaler SVM                               0:00:57       0.9886    0.9906\n",
            "        43   SparseNormalizer XGBoostClassifier             0:00:27          nan    0.9906\n",
            "        44   SparseNormalizer XGBoostClassifier             0:00:27          nan    0.9906\n",
            "        45   StandardScalerWrapper LightGBM                 0:00:21          nan    0.9906\n",
            "        46    VotingEnsemble                                0:01:21       0.9913    0.9913\n"
          ]
        }
      ],
      "execution_count": 28,
      "metadata": {
        "gather": {
          "logged": 1610339165671
        },
        "id": "NwL2M_5e3NPM",
        "jupyter": {
          "outputs_hidden": false,
          "source_hidden": false
        },
        "nteract": {
          "transient": {
            "deleting": false
          }
        },
        "outputId": "dfe1b257-ac89-4055-b836-ed70e9cf1386"
      }
    },
    {
      "cell_type": "markdown",
      "source": [
        "## Run Details\n",
        "\n",
        "OPTIONAL: Write about the different models trained and their performance. Why do you think some models did better than others?\n",
        "\n",
        "TODO: In the cell below, use the `RunDetails` widget to show the different experiments."
      ],
      "metadata": {
        "id": "OmlluTv53NPN"
      }
    },
    {
      "cell_type": "code",
      "source": [
        "# show run details\n",
        "from azureml.widgets import RunDetails\n",
        "RunDetails(automl_run).show()\n",
        "\n",
        "# wait for completion\n",
        "automl_run.wait_for_completion()"
      ],
      "outputs": [
        {
          "output_type": "display_data",
          "data": {
            "text/plain": "_AutoMLWidget(widget_settings={'childWidgetDisplay': 'popup', 'send_telemetry': False, 'log_level': 'INFO', 's…",
            "application/vnd.jupyter.widget-view+json": {
              "version_major": 2,
              "version_minor": 0,
              "model_id": "ad460168b4df4d5fa36f14431dcfff26"
            }
          },
          "metadata": {}
        },
        {
          "output_type": "display_data",
          "data": {
            "application/aml.mini.widget.v1": "{\"status\": \"Completed\", \"workbench_run_details_uri\": \"https://ml.azure.com/experiments/ctg_experiment/runs/AutoML_5fcf73f9-b3a9-4471-8dab-d7be02ded432?wsid=/subscriptions/510b94ba-e453-4417-988b-fbdc37b55ca7/resourcegroups/aml-quickstarts-134289/workspaces/quick-starts-ws-134289\", \"run_id\": \"AutoML_5fcf73f9-b3a9-4471-8dab-d7be02ded432\", \"run_properties\": {\"run_id\": \"AutoML_5fcf73f9-b3a9-4471-8dab-d7be02ded432\", \"created_utc\": \"2021-01-11T04:07:26.02499Z\", \"properties\": {\"num_iterations\": \"1000\", \"training_type\": \"TrainFull\", \"acquisition_function\": \"EI\", \"primary_metric\": \"accuracy\", \"train_split\": \"0\", \"acquisition_parameter\": \"0\", \"num_cross_validation\": \"3\", \"target\": \"ctg-cluster\", \"AMLSettingsJsonString\": \"{\\\"path\\\":null,\\\"name\\\":\\\"ctg_experiment\\\",\\\"subscription_id\\\":\\\"510b94ba-e453-4417-988b-fbdc37b55ca7\\\",\\\"resource_group\\\":\\\"aml-quickstarts-134289\\\",\\\"workspace_name\\\":\\\"quick-starts-ws-134289\\\",\\\"region\\\":\\\"southcentralus\\\",\\\"compute_target\\\":\\\"ctg-cluster\\\",\\\"spark_service\\\":null,\\\"azure_service\\\":\\\"remote\\\",\\\"many_models\\\":false,\\\"pipeline_fetch_max_batch_size\\\":1,\\\"iterations\\\":1000,\\\"primary_metric\\\":\\\"accuracy\\\",\\\"task_type\\\":\\\"classification\\\",\\\"data_script\\\":null,\\\"validation_size\\\":0.0,\\\"n_cross_validations\\\":3,\\\"y_min\\\":null,\\\"y_max\\\":null,\\\"num_classes\\\":null,\\\"featurization\\\":\\\"auto\\\",\\\"_ignore_package_version_incompatibilities\\\":false,\\\"is_timeseries\\\":false,\\\"max_cores_per_iteration\\\":-1,\\\"max_concurrent_iterations\\\":4,\\\"iteration_timeout_minutes\\\":5,\\\"mem_in_mb\\\":null,\\\"enforce_time_on_windows\\\":false,\\\"experiment_timeout_minutes\\\":30,\\\"experiment_exit_score\\\":null,\\\"whitelist_models\\\":null,\\\"blacklist_algos\\\":[\\\"TensorFlowLinearClassifier\\\",\\\"TensorFlowDNN\\\"],\\\"supported_models\\\":[\\\"LogisticRegression\\\",\\\"LightGBM\\\",\\\"BernoulliNaiveBayes\\\",\\\"TensorFlowDNN\\\",\\\"SGD\\\",\\\"MultinomialNaiveBayes\\\",\\\"DecisionTree\\\",\\\"RandomForest\\\",\\\"ExtremeRandomTrees\\\",\\\"KNN\\\",\\\"SVM\\\",\\\"AveragedPerceptronClassifier\\\",\\\"XGBoostClassifier\\\",\\\"GradientBoosting\\\",\\\"LinearSVM\\\",\\\"TensorFlowLinearClassifier\\\"],\\\"auto_blacklist\\\":true,\\\"blacklist_samples_reached\\\":false,\\\"exclude_nan_labels\\\":true,\\\"verbosity\\\":20,\\\"_debug_log\\\":\\\"azureml_automl.log\\\",\\\"show_warnings\\\":false,\\\"model_explainability\\\":true,\\\"service_url\\\":null,\\\"sdk_url\\\":null,\\\"sdk_packages\\\":null,\\\"enable_onnx_compatible_models\\\":true,\\\"enable_split_onnx_featurizer_estimator_models\\\":false,\\\"vm_type\\\":\\\"STANDARD_DS3_V2\\\",\\\"telemetry_verbosity\\\":20,\\\"send_telemetry\\\":true,\\\"enable_dnn\\\":false,\\\"scenario\\\":\\\"SDK-1.13.0\\\",\\\"environment_label\\\":null,\\\"force_text_dnn\\\":false,\\\"enable_feature_sweeping\\\":false,\\\"enable_early_stopping\\\":true,\\\"early_stopping_n_iters\\\":10,\\\"metrics\\\":null,\\\"enable_ensembling\\\":true,\\\"enable_stack_ensembling\\\":false,\\\"ensemble_iterations\\\":15,\\\"enable_tf\\\":false,\\\"enable_subsampling\\\":null,\\\"subsample_seed\\\":null,\\\"enable_nimbusml\\\":false,\\\"enable_streaming\\\":false,\\\"force_streaming\\\":false,\\\"track_child_runs\\\":true,\\\"allowed_private_models\\\":[],\\\"label_column_name\\\":\\\"NSP\\\",\\\"weight_column_name\\\":null,\\\"cv_split_column_names\\\":null,\\\"enable_local_managed\\\":false,\\\"_local_managed_run_id\\\":null,\\\"cost_mode\\\":1,\\\"lag_length\\\":0,\\\"metric_operation\\\":\\\"maximize\\\",\\\"preprocess\\\":true}\", \"DataPrepJsonString\": \"{\\\\\\\"training_data\\\\\\\": \\\\\\\"{\\\\\\\\\\\\\\\"blocks\\\\\\\\\\\\\\\": [{\\\\\\\\\\\\\\\"id\\\\\\\\\\\\\\\": \\\\\\\\\\\\\\\"faa94cf3-5393-4f09-aaf2-a5f366af96a4\\\\\\\\\\\\\\\", \\\\\\\\\\\\\\\"type\\\\\\\\\\\\\\\": \\\\\\\\\\\\\\\"Microsoft.DPrep.GetDatastoreFilesBlock\\\\\\\\\\\\\\\", \\\\\\\\\\\\\\\"arguments\\\\\\\\\\\\\\\": {\\\\\\\\\\\\\\\"datastores\\\\\\\\\\\\\\\": [{\\\\\\\\\\\\\\\"datastoreName\\\\\\\\\\\\\\\": \\\\\\\\\\\\\\\"workspaceblobstore\\\\\\\\\\\\\\\", \\\\\\\\\\\\\\\"path\\\\\\\\\\\\\\\": \\\\\\\\\\\\\\\"ctgclassifier/train_data.csv\\\\\\\\\\\\\\\", \\\\\\\\\\\\\\\"resourceGroup\\\\\\\\\\\\\\\": \\\\\\\\\\\\\\\"aml-quickstarts-134289\\\\\\\\\\\\\\\", \\\\\\\\\\\\\\\"subscription\\\\\\\\\\\\\\\": \\\\\\\\\\\\\\\"510b94ba-e453-4417-988b-fbdc37b55ca7\\\\\\\\\\\\\\\", \\\\\\\\\\\\\\\"workspaceName\\\\\\\\\\\\\\\": \\\\\\\\\\\\\\\"quick-starts-ws-134289\\\\\\\\\\\\\\\"}]}, \\\\\\\\\\\\\\\"localData\\\\\\\\\\\\\\\": {}, \\\\\\\\\\\\\\\"isEnabled\\\\\\\\\\\\\\\": true, \\\\\\\\\\\\\\\"name\\\\\\\\\\\\\\\": null, \\\\\\\\\\\\\\\"annotation\\\\\\\\\\\\\\\": null}, {\\\\\\\\\\\\\\\"id\\\\\\\\\\\\\\\": \\\\\\\\\\\\\\\"a1998e80-b0b0-4a92-bdac-7397a39a9c1e\\\\\\\\\\\\\\\", \\\\\\\\\\\\\\\"type\\\\\\\\\\\\\\\": \\\\\\\\\\\\\\\"Microsoft.DPrep.ParseDelimitedBlock\\\\\\\\\\\\\\\", \\\\\\\\\\\\\\\"arguments\\\\\\\\\\\\\\\": {\\\\\\\\\\\\\\\"columnHeadersMode\\\\\\\\\\\\\\\": 3, \\\\\\\\\\\\\\\"fileEncoding\\\\\\\\\\\\\\\": 0, \\\\\\\\\\\\\\\"handleQuotedLineBreaks\\\\\\\\\\\\\\\": false, \\\\\\\\\\\\\\\"preview\\\\\\\\\\\\\\\": false, \\\\\\\\\\\\\\\"separator\\\\\\\\\\\\\\\": \\\\\\\\\\\\\\\",\\\\\\\\\\\\\\\", \\\\\\\\\\\\\\\"skipRows\\\\\\\\\\\\\\\": 0, \\\\\\\\\\\\\\\"skipRowsMode\\\\\\\\\\\\\\\": 0}, \\\\\\\\\\\\\\\"localData\\\\\\\\\\\\\\\": {}, \\\\\\\\\\\\\\\"isEnabled\\\\\\\\\\\\\\\": true, \\\\\\\\\\\\\\\"name\\\\\\\\\\\\\\\": null, \\\\\\\\\\\\\\\"annotation\\\\\\\\\\\\\\\": null}, {\\\\\\\\\\\\\\\"id\\\\\\\\\\\\\\\": \\\\\\\\\\\\\\\"63214071-551e-4c39-bb3d-44e3e16dced3\\\\\\\\\\\\\\\", \\\\\\\\\\\\\\\"type\\\\\\\\\\\\\\\": \\\\\\\\\\\\\\\"Microsoft.DPrep.DropColumnsBlock\\\\\\\\\\\\\\\", \\\\\\\\\\\\\\\"arguments\\\\\\\\\\\\\\\": {\\\\\\\\\\\\\\\"columns\\\\\\\\\\\\\\\": {\\\\\\\\\\\\\\\"type\\\\\\\\\\\\\\\": 0, \\\\\\\\\\\\\\\"details\\\\\\\\\\\\\\\": {\\\\\\\\\\\\\\\"selectedColumns\\\\\\\\\\\\\\\": [\\\\\\\\\\\\\\\"Path\\\\\\\\\\\\\\\"]}}}, \\\\\\\\\\\\\\\"localData\\\\\\\\\\\\\\\": {}, \\\\\\\\\\\\\\\"isEnabled\\\\\\\\\\\\\\\": true, \\\\\\\\\\\\\\\"name\\\\\\\\\\\\\\\": null, \\\\\\\\\\\\\\\"annotation\\\\\\\\\\\\\\\": null}, {\\\\\\\\\\\\\\\"id\\\\\\\\\\\\\\\": \\\\\\\\\\\\\\\"593fd8f8-07e6-46e2-a9e3-dca92c0ac380\\\\\\\\\\\\\\\", \\\\\\\\\\\\\\\"type\\\\\\\\\\\\\\\": \\\\\\\\\\\\\\\"Microsoft.DPrep.SetColumnTypesBlock\\\\\\\\\\\\\\\", \\\\\\\\\\\\\\\"arguments\\\\\\\\\\\\\\\": {\\\\\\\\\\\\\\\"columnConversion\\\\\\\\\\\\\\\": [{\\\\\\\\\\\\\\\"column\\\\\\\\\\\\\\\": {\\\\\\\\\\\\\\\"type\\\\\\\\\\\\\\\": 2, \\\\\\\\\\\\\\\"details\\\\\\\\\\\\\\\": {\\\\\\\\\\\\\\\"selectedColumn\\\\\\\\\\\\\\\": \\\\\\\\\\\\\\\"b\\\\\\\\\\\\\\\"}}, \\\\\\\\\\\\\\\"typeProperty\\\\\\\\\\\\\\\": 2}, {\\\\\\\\\\\\\\\"column\\\\\\\\\\\\\\\": {\\\\\\\\\\\\\\\"type\\\\\\\\\\\\\\\": 2, \\\\\\\\\\\\\\\"details\\\\\\\\\\\\\\\": {\\\\\\\\\\\\\\\"selectedColumn\\\\\\\\\\\\\\\": \\\\\\\\\\\\\\\"e\\\\\\\\\\\\\\\"}}, \\\\\\\\\\\\\\\"typeProperty\\\\\\\\\\\\\\\": 2}, {\\\\\\\\\\\\\\\"column\\\\\\\\\\\\\\\": {\\\\\\\\\\\\\\\"type\\\\\\\\\\\\\\\": 2, \\\\\\\\\\\\\\\"details\\\\\\\\\\\\\\\": {\\\\\\\\\\\\\\\"selectedColumn\\\\\\\\\\\\\\\": \\\\\\\\\\\\\\\"LBE\\\\\\\\\\\\\\\"}}, \\\\\\\\\\\\\\\"typeProperty\\\\\\\\\\\\\\\": 2}, {\\\\\\\\\\\\\\\"column\\\\\\\\\\\\\\\": {\\\\\\\\\\\\\\\"type\\\\\\\\\\\\\\\": 2, \\\\\\\\\\\\\\\"details\\\\\\\\\\\\\\\": {\\\\\\\\\\\\\\\"selectedColumn\\\\\\\\\\\\\\\": \\\\\\\\\\\\\\\"LB\\\\\\\\\\\\\\\"}}, \\\\\\\\\\\\\\\"typeProperty\\\\\\\\\\\\\\\": 2}, {\\\\\\\\\\\\\\\"column\\\\\\\\\\\\\\\": {\\\\\\\\\\\\\\\"type\\\\\\\\\\\\\\\": 2, \\\\\\\\\\\\\\\"details\\\\\\\\\\\\\\\": {\\\\\\\\\\\\\\\"selectedColumn\\\\\\\\\\\\\\\": \\\\\\\\\\\\\\\"AC\\\\\\\\\\\\\\\"}}, \\\\\\\\\\\\\\\"typeProperty\\\\\\\\\\\\\\\": 2}, {\\\\\\\\\\\\\\\"column\\\\\\\\\\\\\\\": {\\\\\\\\\\\\\\\"type\\\\\\\\\\\\\\\": 2, \\\\\\\\\\\\\\\"details\\\\\\\\\\\\\\\": {\\\\\\\\\\\\\\\"selectedColumn\\\\\\\\\\\\\\\": \\\\\\\\\\\\\\\"FM\\\\\\\\\\\\\\\"}}, \\\\\\\\\\\\\\\"typeProperty\\\\\\\\\\\\\\\": 2}, {\\\\\\\\\\\\\\\"column\\\\\\\\\\\\\\\": {\\\\\\\\\\\\\\\"type\\\\\\\\\\\\\\\": 2, \\\\\\\\\\\\\\\"details\\\\\\\\\\\\\\\": {\\\\\\\\\\\\\\\"selectedColumn\\\\\\\\\\\\\\\": \\\\\\\\\\\\\\\"UC\\\\\\\\\\\\\\\"}}, \\\\\\\\\\\\\\\"typeProperty\\\\\\\\\\\\\\\": 2}, {\\\\\\\\\\\\\\\"column\\\\\\\\\\\\\\\": {\\\\\\\\\\\\\\\"type\\\\\\\\\\\\\\\": 2, \\\\\\\\\\\\\\\"details\\\\\\\\\\\\\\\": {\\\\\\\\\\\\\\\"selectedColumn\\\\\\\\\\\\\\\": \\\\\\\\\\\\\\\"ASTV\\\\\\\\\\\\\\\"}}, \\\\\\\\\\\\\\\"typeProperty\\\\\\\\\\\\\\\": 2}, {\\\\\\\\\\\\\\\"column\\\\\\\\\\\\\\\": {\\\\\\\\\\\\\\\"type\\\\\\\\\\\\\\\": 2, \\\\\\\\\\\\\\\"details\\\\\\\\\\\\\\\": {\\\\\\\\\\\\\\\"selectedColumn\\\\\\\\\\\\\\\": \\\\\\\\\\\\\\\"MSTV\\\\\\\\\\\\\\\"}}, \\\\\\\\\\\\\\\"typeProperty\\\\\\\\\\\\\\\": 3}, {\\\\\\\\\\\\\\\"column\\\\\\\\\\\\\\\": {\\\\\\\\\\\\\\\"type\\\\\\\\\\\\\\\": 2, \\\\\\\\\\\\\\\"details\\\\\\\\\\\\\\\": {\\\\\\\\\\\\\\\"selectedColumn\\\\\\\\\\\\\\\": \\\\\\\\\\\\\\\"ALTV\\\\\\\\\\\\\\\"}}, \\\\\\\\\\\\\\\"typeProperty\\\\\\\\\\\\\\\": 2}, {\\\\\\\\\\\\\\\"column\\\\\\\\\\\\\\\": {\\\\\\\\\\\\\\\"type\\\\\\\\\\\\\\\": 2, \\\\\\\\\\\\\\\"details\\\\\\\\\\\\\\\": {\\\\\\\\\\\\\\\"selectedColumn\\\\\\\\\\\\\\\": \\\\\\\\\\\\\\\"MLTV\\\\\\\\\\\\\\\"}}, \\\\\\\\\\\\\\\"typeProperty\\\\\\\\\\\\\\\": 3}, {\\\\\\\\\\\\\\\"column\\\\\\\\\\\\\\\": {\\\\\\\\\\\\\\\"type\\\\\\\\\\\\\\\": 2, \\\\\\\\\\\\\\\"details\\\\\\\\\\\\\\\": {\\\\\\\\\\\\\\\"selectedColumn\\\\\\\\\\\\\\\": \\\\\\\\\\\\\\\"DL\\\\\\\\\\\\\\\"}}, \\\\\\\\\\\\\\\"typeProperty\\\\\\\\\\\\\\\": 2}, {\\\\\\\\\\\\\\\"column\\\\\\\\\\\\\\\": {\\\\\\\\\\\\\\\"type\\\\\\\\\\\\\\\": 2, \\\\\\\\\\\\\\\"details\\\\\\\\\\\\\\\": {\\\\\\\\\\\\\\\"selectedColumn\\\\\\\\\\\\\\\": \\\\\\\\\\\\\\\"DS\\\\\\\\\\\\\\\"}}, \\\\\\\\\\\\\\\"typeProperty\\\\\\\\\\\\\\\": 2}, {\\\\\\\\\\\\\\\"column\\\\\\\\\\\\\\\": {\\\\\\\\\\\\\\\"type\\\\\\\\\\\\\\\": 2, \\\\\\\\\\\\\\\"details\\\\\\\\\\\\\\\": {\\\\\\\\\\\\\\\"selectedColumn\\\\\\\\\\\\\\\": \\\\\\\\\\\\\\\"DP\\\\\\\\\\\\\\\"}}, \\\\\\\\\\\\\\\"typeProperty\\\\\\\\\\\\\\\": 2}, {\\\\\\\\\\\\\\\"column\\\\\\\\\\\\\\\": {\\\\\\\\\\\\\\\"type\\\\\\\\\\\\\\\": 2, \\\\\\\\\\\\\\\"details\\\\\\\\\\\\\\\": {\\\\\\\\\\\\\\\"selectedColumn\\\\\\\\\\\\\\\": \\\\\\\\\\\\\\\"DR\\\\\\\\\\\\\\\"}}, \\\\\\\\\\\\\\\"typeProperty\\\\\\\\\\\\\\\": 2}, {\\\\\\\\\\\\\\\"column\\\\\\\\\\\\\\\": {\\\\\\\\\\\\\\\"type\\\\\\\\\\\\\\\": 2, \\\\\\\\\\\\\\\"details\\\\\\\\\\\\\\\": {\\\\\\\\\\\\\\\"selectedColumn\\\\\\\\\\\\\\\": \\\\\\\\\\\\\\\"Width\\\\\\\\\\\\\\\"}}, \\\\\\\\\\\\\\\"typeProperty\\\\\\\\\\\\\\\": 2}, {\\\\\\\\\\\\\\\"column\\\\\\\\\\\\\\\": {\\\\\\\\\\\\\\\"type\\\\\\\\\\\\\\\": 2, \\\\\\\\\\\\\\\"details\\\\\\\\\\\\\\\": {\\\\\\\\\\\\\\\"selectedColumn\\\\\\\\\\\\\\\": \\\\\\\\\\\\\\\"Min\\\\\\\\\\\\\\\"}}, \\\\\\\\\\\\\\\"typeProperty\\\\\\\\\\\\\\\": 2}, {\\\\\\\\\\\\\\\"column\\\\\\\\\\\\\\\": {\\\\\\\\\\\\\\\"type\\\\\\\\\\\\\\\": 2, \\\\\\\\\\\\\\\"details\\\\\\\\\\\\\\\": {\\\\\\\\\\\\\\\"selectedColumn\\\\\\\\\\\\\\\": \\\\\\\\\\\\\\\"Max\\\\\\\\\\\\\\\"}}, \\\\\\\\\\\\\\\"typeProperty\\\\\\\\\\\\\\\": 2}, {\\\\\\\\\\\\\\\"column\\\\\\\\\\\\\\\": {\\\\\\\\\\\\\\\"type\\\\\\\\\\\\\\\": 2, \\\\\\\\\\\\\\\"details\\\\\\\\\\\\\\\": {\\\\\\\\\\\\\\\"selectedColumn\\\\\\\\\\\\\\\": \\\\\\\\\\\\\\\"Nmax\\\\\\\\\\\\\\\"}}, \\\\\\\\\\\\\\\"typeProperty\\\\\\\\\\\\\\\": 2}, {\\\\\\\\\\\\\\\"column\\\\\\\\\\\\\\\": {\\\\\\\\\\\\\\\"type\\\\\\\\\\\\\\\": 2, \\\\\\\\\\\\\\\"details\\\\\\\\\\\\\\\": {\\\\\\\\\\\\\\\"selectedColumn\\\\\\\\\\\\\\\": \\\\\\\\\\\\\\\"Nzeros\\\\\\\\\\\\\\\"}}, \\\\\\\\\\\\\\\"typeProperty\\\\\\\\\\\\\\\": 2}, {\\\\\\\\\\\\\\\"column\\\\\\\\\\\\\\\": {\\\\\\\\\\\\\\\"type\\\\\\\\\\\\\\\": 2, \\\\\\\\\\\\\\\"details\\\\\\\\\\\\\\\": {\\\\\\\\\\\\\\\"selectedColumn\\\\\\\\\\\\\\\": \\\\\\\\\\\\\\\"Mode\\\\\\\\\\\\\\\"}}, \\\\\\\\\\\\\\\"typeProperty\\\\\\\\\\\\\\\": 2}, {\\\\\\\\\\\\\\\"column\\\\\\\\\\\\\\\": {\\\\\\\\\\\\\\\"type\\\\\\\\\\\\\\\": 2, \\\\\\\\\\\\\\\"details\\\\\\\\\\\\\\\": {\\\\\\\\\\\\\\\"selectedColumn\\\\\\\\\\\\\\\": \\\\\\\\\\\\\\\"Mean\\\\\\\\\\\\\\\"}}, \\\\\\\\\\\\\\\"typeProperty\\\\\\\\\\\\\\\": 2}, {\\\\\\\\\\\\\\\"column\\\\\\\\\\\\\\\": {\\\\\\\\\\\\\\\"type\\\\\\\\\\\\\\\": 2, \\\\\\\\\\\\\\\"details\\\\\\\\\\\\\\\": {\\\\\\\\\\\\\\\"selectedColumn\\\\\\\\\\\\\\\": \\\\\\\\\\\\\\\"Median\\\\\\\\\\\\\\\"}}, \\\\\\\\\\\\\\\"typeProperty\\\\\\\\\\\\\\\": 2}, {\\\\\\\\\\\\\\\"column\\\\\\\\\\\\\\\": {\\\\\\\\\\\\\\\"type\\\\\\\\\\\\\\\": 2, \\\\\\\\\\\\\\\"details\\\\\\\\\\\\\\\": {\\\\\\\\\\\\\\\"selectedColumn\\\\\\\\\\\\\\\": \\\\\\\\\\\\\\\"Variance\\\\\\\\\\\\\\\"}}, \\\\\\\\\\\\\\\"typeProperty\\\\\\\\\\\\\\\": 2}, {\\\\\\\\\\\\\\\"column\\\\\\\\\\\\\\\": {\\\\\\\\\\\\\\\"type\\\\\\\\\\\\\\\": 2, \\\\\\\\\\\\\\\"details\\\\\\\\\\\\\\\": {\\\\\\\\\\\\\\\"selectedColumn\\\\\\\\\\\\\\\": \\\\\\\\\\\\\\\"Tendency\\\\\\\\\\\\\\\"}}, \\\\\\\\\\\\\\\"typeProperty\\\\\\\\\\\\\\\": 2}, {\\\\\\\\\\\\\\\"column\\\\\\\\\\\\\\\": {\\\\\\\\\\\\\\\"type\\\\\\\\\\\\\\\": 2, \\\\\\\\\\\\\\\"details\\\\\\\\\\\\\\\": {\\\\\\\\\\\\\\\"selectedColumn\\\\\\\\\\\\\\\": \\\\\\\\\\\\\\\"A\\\\\\\\\\\\\\\"}}, \\\\\\\\\\\\\\\"typeProperty\\\\\\\\\\\\\\\": 2}, {\\\\\\\\\\\\\\\"column\\\\\\\\\\\\\\\": {\\\\\\\\\\\\\\\"type\\\\\\\\\\\\\\\": 2, \\\\\\\\\\\\\\\"details\\\\\\\\\\\\\\\": {\\\\\\\\\\\\\\\"selectedColumn\\\\\\\\\\\\\\\": \\\\\\\\\\\\\\\"B\\\\\\\\\\\\\\\"}}, \\\\\\\\\\\\\\\"typeProperty\\\\\\\\\\\\\\\": 2}, {\\\\\\\\\\\\\\\"column\\\\\\\\\\\\\\\": {\\\\\\\\\\\\\\\"type\\\\\\\\\\\\\\\": 2, \\\\\\\\\\\\\\\"details\\\\\\\\\\\\\\\": {\\\\\\\\\\\\\\\"selectedColumn\\\\\\\\\\\\\\\": \\\\\\\\\\\\\\\"C\\\\\\\\\\\\\\\"}}, \\\\\\\\\\\\\\\"typeProperty\\\\\\\\\\\\\\\": 2}, {\\\\\\\\\\\\\\\"column\\\\\\\\\\\\\\\": {\\\\\\\\\\\\\\\"type\\\\\\\\\\\\\\\": 2, \\\\\\\\\\\\\\\"details\\\\\\\\\\\\\\\": {\\\\\\\\\\\\\\\"selectedColumn\\\\\\\\\\\\\\\": \\\\\\\\\\\\\\\"D\\\\\\\\\\\\\\\"}}, \\\\\\\\\\\\\\\"typeProperty\\\\\\\\\\\\\\\": 2}, {\\\\\\\\\\\\\\\"column\\\\\\\\\\\\\\\": {\\\\\\\\\\\\\\\"type\\\\\\\\\\\\\\\": 2, \\\\\\\\\\\\\\\"details\\\\\\\\\\\\\\\": {\\\\\\\\\\\\\\\"selectedColumn\\\\\\\\\\\\\\\": \\\\\\\\\\\\\\\"E\\\\\\\\\\\\\\\"}}, \\\\\\\\\\\\\\\"typeProperty\\\\\\\\\\\\\\\": 2}, {\\\\\\\\\\\\\\\"column\\\\\\\\\\\\\\\": {\\\\\\\\\\\\\\\"type\\\\\\\\\\\\\\\": 2, \\\\\\\\\\\\\\\"details\\\\\\\\\\\\\\\": {\\\\\\\\\\\\\\\"selectedColumn\\\\\\\\\\\\\\\": \\\\\\\\\\\\\\\"AD\\\\\\\\\\\\\\\"}}, \\\\\\\\\\\\\\\"typeProperty\\\\\\\\\\\\\\\": 2}, {\\\\\\\\\\\\\\\"column\\\\\\\\\\\\\\\": {\\\\\\\\\\\\\\\"type\\\\\\\\\\\\\\\": 2, \\\\\\\\\\\\\\\"details\\\\\\\\\\\\\\\": {\\\\\\\\\\\\\\\"selectedColumn\\\\\\\\\\\\\\\": \\\\\\\\\\\\\\\"DE\\\\\\\\\\\\\\\"}}, \\\\\\\\\\\\\\\"typeProperty\\\\\\\\\\\\\\\": 2}, {\\\\\\\\\\\\\\\"column\\\\\\\\\\\\\\\": {\\\\\\\\\\\\\\\"type\\\\\\\\\\\\\\\": 2, \\\\\\\\\\\\\\\"details\\\\\\\\\\\\\\\": {\\\\\\\\\\\\\\\"selectedColumn\\\\\\\\\\\\\\\": \\\\\\\\\\\\\\\"LD\\\\\\\\\\\\\\\"}}, \\\\\\\\\\\\\\\"typeProperty\\\\\\\\\\\\\\\": 2}, {\\\\\\\\\\\\\\\"column\\\\\\\\\\\\\\\": {\\\\\\\\\\\\\\\"type\\\\\\\\\\\\\\\": 2, \\\\\\\\\\\\\\\"details\\\\\\\\\\\\\\\": {\\\\\\\\\\\\\\\"selectedColumn\\\\\\\\\\\\\\\": \\\\\\\\\\\\\\\"FS\\\\\\\\\\\\\\\"}}, \\\\\\\\\\\\\\\"typeProperty\\\\\\\\\\\\\\\": 2}, {\\\\\\\\\\\\\\\"column\\\\\\\\\\\\\\\": {\\\\\\\\\\\\\\\"type\\\\\\\\\\\\\\\": 2, \\\\\\\\\\\\\\\"details\\\\\\\\\\\\\\\": {\\\\\\\\\\\\\\\"selectedColumn\\\\\\\\\\\\\\\": \\\\\\\\\\\\\\\"SUSP\\\\\\\\\\\\\\\"}}, \\\\\\\\\\\\\\\"typeProperty\\\\\\\\\\\\\\\": 2}, {\\\\\\\\\\\\\\\"column\\\\\\\\\\\\\\\": {\\\\\\\\\\\\\\\"type\\\\\\\\\\\\\\\": 2, \\\\\\\\\\\\\\\"details\\\\\\\\\\\\\\\": {\\\\\\\\\\\\\\\"selectedColumn\\\\\\\\\\\\\\\": \\\\\\\\\\\\\\\"CLASS\\\\\\\\\\\\\\\"}}, \\\\\\\\\\\\\\\"typeProperty\\\\\\\\\\\\\\\": 2}, {\\\\\\\\\\\\\\\"column\\\\\\\\\\\\\\\": {\\\\\\\\\\\\\\\"type\\\\\\\\\\\\\\\": 2, \\\\\\\\\\\\\\\"details\\\\\\\\\\\\\\\": {\\\\\\\\\\\\\\\"selectedColumn\\\\\\\\\\\\\\\": \\\\\\\\\\\\\\\"NSP\\\\\\\\\\\\\\\"}}, \\\\\\\\\\\\\\\"typeProperty\\\\\\\\\\\\\\\": 2}]}, \\\\\\\\\\\\\\\"localData\\\\\\\\\\\\\\\": {}, \\\\\\\\\\\\\\\"isEnabled\\\\\\\\\\\\\\\": true, \\\\\\\\\\\\\\\"name\\\\\\\\\\\\\\\": null, \\\\\\\\\\\\\\\"annotation\\\\\\\\\\\\\\\": null}], \\\\\\\\\\\\\\\"inspectors\\\\\\\\\\\\\\\": [], \\\\\\\\\\\\\\\"meta\\\\\\\\\\\\\\\": {\\\\\\\\\\\\\\\"savedDatasetId\\\\\\\\\\\\\\\": \\\\\\\\\\\\\\\"9fe2e185-c4a3-412f-8386-6e27231d1f5a\\\\\\\\\\\\\\\", \\\\\\\\\\\\\\\"datasetType\\\\\\\\\\\\\\\": \\\\\\\\\\\\\\\"tabular\\\\\\\\\\\\\\\", \\\\\\\\\\\\\\\"subscriptionId\\\\\\\\\\\\\\\": \\\\\\\\\\\\\\\"510b94ba-e453-4417-988b-fbdc37b55ca7\\\\\\\\\\\\\\\", \\\\\\\\\\\\\\\"workspaceId\\\\\\\\\\\\\\\": \\\\\\\\\\\\\\\"24c2477d-b060-4140-9e09-3f0b653e8c7e\\\\\\\\\\\\\\\", \\\\\\\\\\\\\\\"workspaceLocation\\\\\\\\\\\\\\\": \\\\\\\\\\\\\\\"southcentralus\\\\\\\\\\\\\\\"}}\\\\\\\", \\\\\\\"activities\\\\\\\": 0}\", \"EnableSubsampling\": null, \"runTemplate\": \"AutoML\", \"azureml.runsource\": \"automl\", \"display_task_type\": \"classification\", \"dependencies_versions\": \"{\\\"azureml-widgets\\\": \\\"1.19.0\\\", \\\"azureml-train\\\": \\\"1.19.0\\\", \\\"azureml-train-restclients-hyperdrive\\\": \\\"1.19.0\\\", \\\"azureml-train-core\\\": \\\"1.19.0\\\", \\\"azureml-train-automl\\\": \\\"1.19.0\\\", \\\"azureml-train-automl-runtime\\\": \\\"1.19.0\\\", \\\"azureml-train-automl-client\\\": \\\"1.19.0\\\", \\\"azureml-tensorboard\\\": \\\"1.19.0\\\", \\\"azureml-telemetry\\\": \\\"1.19.0\\\", \\\"azureml-sdk\\\": \\\"1.19.0\\\", \\\"azureml-samples\\\": \\\"0+unknown\\\", \\\"azureml-pipeline\\\": \\\"1.19.0\\\", \\\"azureml-pipeline-steps\\\": \\\"1.19.0\\\", \\\"azureml-pipeline-core\\\": \\\"1.19.0\\\", \\\"azureml-opendatasets\\\": \\\"1.19.0\\\", \\\"azureml-model-management-sdk\\\": \\\"1.0.1b6.post1\\\", \\\"azureml-mlflow\\\": \\\"1.19.0\\\", \\\"azureml-interpret\\\": \\\"1.19.0\\\", \\\"azureml-explain-model\\\": \\\"1.19.0\\\", \\\"azureml-defaults\\\": \\\"1.19.0\\\", \\\"azureml-dataset-runtime\\\": \\\"1.19.0\\\", \\\"azureml-dataprep\\\": \\\"2.6.1\\\", \\\"azureml-dataprep-rslex\\\": \\\"1.4.0\\\", \\\"azureml-dataprep-native\\\": \\\"26.0.0\\\", \\\"azureml-datadrift\\\": \\\"1.19.0\\\", \\\"azureml-core\\\": \\\"1.19.0\\\", \\\"azureml-contrib-services\\\": \\\"1.19.0\\\", \\\"azureml-contrib-server\\\": \\\"1.19.0\\\", \\\"azureml-contrib-reinforcementlearning\\\": \\\"1.19.0\\\", \\\"azureml-contrib-pipeline-steps\\\": \\\"1.19.0\\\", \\\"azureml-contrib-notebook\\\": \\\"1.19.0\\\", \\\"azureml-contrib-interpret\\\": \\\"1.19.0\\\", \\\"azureml-contrib-gbdt\\\": \\\"1.19.0\\\", \\\"azureml-contrib-fairness\\\": \\\"1.19.0\\\", \\\"azureml-contrib-dataset\\\": \\\"1.19.0\\\", \\\"azureml-cli-common\\\": \\\"1.19.0\\\", \\\"azureml-automl-runtime\\\": \\\"1.19.0\\\", \\\"azureml-automl-core\\\": \\\"1.19.0\\\", \\\"azureml-accel-models\\\": \\\"1.19.0\\\"}\", \"_aml_system_scenario_identification\": \"Remote.Parent\", \"ClientType\": \"SDK\", \"environment_cpu_name\": \"AzureML-AutoML\", \"environment_cpu_label\": \"prod\", \"environment_gpu_name\": \"AzureML-AutoML-GPU\", \"environment_gpu_label\": \"prod\", \"root_attribution\": \"automl\", \"attribution\": \"AutoML\", \"Orchestrator\": \"AutoML\", \"CancelUri\": \"https://southcentralus.experiments.azureml.net/jasmine/v1.0/subscriptions/510b94ba-e453-4417-988b-fbdc37b55ca7/resourceGroups/aml-quickstarts-134289/providers/Microsoft.MachineLearningServices/workspaces/quick-starts-ws-134289/experimentids/24431ab2-ef3c-4ee8-b911-b874dfc15115/cancel/AutoML_5fcf73f9-b3a9-4471-8dab-d7be02ded432\", \"ClientSdkVersion\": \"1.19.0\", \"snapshotId\": \"00000000-0000-0000-0000-000000000000\", \"SetupRunId\": \"AutoML_5fcf73f9-b3a9-4471-8dab-d7be02ded432_setup\", \"SetupRunContainerId\": \"dcid.AutoML_5fcf73f9-b3a9-4471-8dab-d7be02ded432_setup\", \"FeaturizationRunJsonPath\": \"featurizer_container.json\", \"FeaturizationRunId\": \"AutoML_5fcf73f9-b3a9-4471-8dab-d7be02ded432_featurize\", \"ProblemInfoJsonString\": \"{\\\"dataset_num_categorical\\\": 0, \\\"is_sparse\\\": false, \\\"subsampling\\\": false, \\\"dataset_classes\\\": 3, \\\"dataset_features\\\": 35, \\\"dataset_samples\\\": 1488, \\\"single_frequency_class_detected\\\": false}\", \"ModelExplainRunId\": \"AutoML_5fcf73f9-b3a9-4471-8dab-d7be02ded432_ModelExplain\"}, \"tags\": {\"model_explain_run\": \"best_run\", \"_aml_system_azureml.automlComponent\": \"AutoML\", \"pipeline_id\": \"\", \"score\": \"\", \"predicted_cost\": \"\", \"fit_time\": \"\", \"training_percent\": \"\", \"iteration\": \"\", \"run_preprocessor\": \"\", \"run_algorithm\": \"\", \"dynamic_whitelisting_iterations\": \"<24>;<30>;<35>;<40>;<45>;\", \"automl_best_child_run_id\": \"AutoML_5fcf73f9-b3a9-4471-8dab-d7be02ded432_46\", \"model_explain_best_run_child_id\": \"AutoML_5fcf73f9-b3a9-4471-8dab-d7be02ded432_46\"}, \"end_time_utc\": \"2021-01-11T04:26:03.502373Z\", \"status\": \"Completed\", \"log_files\": {}, \"log_groups\": [], \"run_duration\": \"0:18:37\"}, \"child_runs\": [{\"run_id\": \"AutoML_5fcf73f9-b3a9-4471-8dab-d7be02ded432_0\", \"run_number\": 47, \"metric\": null, \"status\": \"Completed\", \"run_type\": \"azureml.scriptrun\", \"training_percent\": \"100\", \"start_time\": \"2021-01-11T04:10:07.579368Z\", \"end_time\": \"2021-01-11T04:11:21.64967Z\", \"created_time\": \"2021-01-11T04:09:50.703216Z\", \"created_time_dt\": \"2021-01-11T04:09:50.703216Z\", \"duration\": \"0:01:30\", \"iteration\": \"0\", \"goal\": \"accuracy_max\", \"run_name\": \"MaxAbsScaler, LightGBM\", \"run_properties\": \"copy=True\", \"primary_metric\": 0.98857527, \"best_metric\": 0.98857527}, {\"run_id\": \"AutoML_5fcf73f9-b3a9-4471-8dab-d7be02ded432_1\", \"run_number\": 48, \"metric\": null, \"status\": \"Completed\", \"run_type\": \"azureml.scriptrun\", \"training_percent\": \"100\", \"start_time\": \"2021-01-11T04:10:07.007418Z\", \"end_time\": \"2021-01-11T04:11:14.024996Z\", \"created_time\": \"2021-01-11T04:09:50.85777Z\", \"created_time_dt\": \"2021-01-11T04:09:50.85777Z\", \"duration\": \"0:01:23\", \"iteration\": \"1\", \"goal\": \"accuracy_max\", \"run_name\": \"MaxAbsScaler, XGBoostClassifier\", \"run_properties\": \"copy=True\", \"primary_metric\": 0.98924731, \"best_metric\": 0.98924731}, {\"run_id\": \"AutoML_5fcf73f9-b3a9-4471-8dab-d7be02ded432_2\", \"run_number\": 49, \"metric\": null, \"status\": \"Completed\", \"run_type\": \"azureml.scriptrun\", \"training_percent\": \"100\", \"start_time\": \"2021-01-11T04:10:06.014407Z\", \"end_time\": \"2021-01-11T04:11:05.85906Z\", \"created_time\": \"2021-01-11T04:09:50.863654Z\", \"created_time_dt\": \"2021-01-11T04:09:50.863654Z\", \"duration\": \"0:01:14\", \"iteration\": \"2\", \"goal\": \"accuracy_max\", \"run_name\": \"MinMaxScaler, RandomForest\", \"run_properties\": \"copy=True, feature_range=(0, 1\", \"primary_metric\": 0.97043011, \"best_metric\": 0.98924731}, {\"run_id\": \"AutoML_5fcf73f9-b3a9-4471-8dab-d7be02ded432_3\", \"run_number\": 50, \"metric\": null, \"status\": \"Completed\", \"run_type\": \"azureml.scriptrun\", \"training_percent\": \"100\", \"start_time\": \"2021-01-11T04:10:07.129575Z\", \"end_time\": \"2021-01-11T04:11:11.3959Z\", \"created_time\": \"2021-01-11T04:09:50.89036Z\", \"created_time_dt\": \"2021-01-11T04:09:50.89036Z\", \"duration\": \"0:01:20\", \"iteration\": \"3\", \"goal\": \"accuracy_max\", \"run_name\": \"MinMaxScaler, RandomForest\", \"run_properties\": \"copy=True, feature_range=(0, 1\", \"primary_metric\": 0.91330645, \"best_metric\": 0.98924731}, {\"run_id\": \"AutoML_5fcf73f9-b3a9-4471-8dab-d7be02ded432_4\", \"run_number\": 51, \"metric\": null, \"status\": \"Completed\", \"run_type\": \"azureml.scriptrun\", \"training_percent\": \"100\", \"start_time\": \"2021-01-11T04:11:26.563645Z\", \"end_time\": \"2021-01-11T04:12:25.333323Z\", \"created_time\": \"2021-01-11T04:11:10.773661Z\", \"created_time_dt\": \"2021-01-11T04:11:10.773661Z\", \"duration\": \"0:01:14\", \"iteration\": \"4\", \"goal\": \"accuracy_max\", \"run_name\": \"MinMaxScaler, RandomForest\", \"run_properties\": \"copy=True, feature_range=(0, 1\", \"primary_metric\": 0.9858871, \"best_metric\": 0.98924731}, {\"run_id\": \"AutoML_5fcf73f9-b3a9-4471-8dab-d7be02ded432_6\", \"run_number\": 52, \"metric\": null, \"status\": \"Completed\", \"run_type\": \"azureml.scriptrun\", \"training_percent\": \"100\", \"start_time\": \"2021-01-11T04:11:30.121294Z\", \"end_time\": \"2021-01-11T04:12:31.345999Z\", \"created_time\": \"2021-01-11T04:11:17.721486Z\", \"created_time_dt\": \"2021-01-11T04:11:17.721486Z\", \"duration\": \"0:01:13\", \"iteration\": \"6\", \"goal\": \"accuracy_max\", \"run_name\": \"SparseNormalizer, XGBoostClassifier\", \"run_properties\": \"<azureml.automl.runtime.shared.model_wrappers.SparseNormalizer object at 0x7f9478a12ba8\", \"primary_metric\": 0.98521505, \"best_metric\": 0.98991935}, {\"run_id\": \"AutoML_5fcf73f9-b3a9-4471-8dab-d7be02ded432_5\", \"run_number\": 53, \"metric\": null, \"status\": \"Completed\", \"run_type\": \"azureml.scriptrun\", \"training_percent\": \"100\", \"start_time\": \"2021-01-11T04:11:27.61772Z\", \"end_time\": \"2021-01-11T04:12:24.448876Z\", \"created_time\": \"2021-01-11T04:11:17.867523Z\", \"created_time_dt\": \"2021-01-11T04:11:17.867523Z\", \"duration\": \"0:01:06\", \"iteration\": \"5\", \"goal\": \"accuracy_max\", \"run_name\": \"MinMaxScaler, SVM\", \"run_properties\": \"copy=True, feature_range=(0, 1\", \"primary_metric\": 0.98991935, \"best_metric\": 0.98991935}, {\"run_id\": \"AutoML_5fcf73f9-b3a9-4471-8dab-d7be02ded432_7\", \"run_number\": 54, \"metric\": null, \"status\": \"Completed\", \"run_type\": \"azureml.scriptrun\", \"training_percent\": \"100\", \"start_time\": \"2021-01-11T04:11:38.153241Z\", \"end_time\": \"2021-01-11T04:12:29.623883Z\", \"created_time\": \"2021-01-11T04:11:26.516359Z\", \"created_time_dt\": \"2021-01-11T04:11:26.516359Z\", \"duration\": \"0:01:03\", \"iteration\": \"7\", \"goal\": \"accuracy_max\", \"run_name\": \"MinMaxScaler, SVM\", \"run_properties\": \"copy=True, feature_range=(0, 1\", \"primary_metric\": 0.98991935, \"best_metric\": 0.98991935}, {\"run_id\": \"AutoML_5fcf73f9-b3a9-4471-8dab-d7be02ded432_9\", \"run_number\": 55, \"metric\": null, \"status\": \"Completed\", \"run_type\": \"azureml.scriptrun\", \"training_percent\": \"100\", \"start_time\": \"2021-01-11T04:12:47.411773Z\", \"end_time\": \"2021-01-11T04:13:49.631141Z\", \"created_time\": \"2021-01-11T04:12:29.411579Z\", \"created_time_dt\": \"2021-01-11T04:12:29.411579Z\", \"duration\": \"0:01:20\", \"iteration\": \"9\", \"goal\": \"accuracy_max\", \"run_name\": \"SparseNormalizer, LightGBM\", \"run_properties\": \"<azureml.automl.runtime.shared.model_wrappers.SparseNormalizer object at 0x7f6bac05c550\", \"primary_metric\": 0.92741935, \"best_metric\": 0.98991935}, {\"run_id\": \"AutoML_5fcf73f9-b3a9-4471-8dab-d7be02ded432_8\", \"run_number\": 56, \"metric\": null, \"status\": \"Completed\", \"run_type\": \"azureml.scriptrun\", \"training_percent\": \"100\", \"start_time\": \"2021-01-11T04:12:46.990415Z\", \"end_time\": \"2021-01-11T04:13:48.945955Z\", \"created_time\": \"2021-01-11T04:12:29.568246Z\", \"created_time_dt\": \"2021-01-11T04:12:29.568246Z\", \"duration\": \"0:01:19\", \"iteration\": \"8\", \"goal\": \"accuracy_max\", \"run_name\": \"RobustScaler, RandomForest\", \"run_properties\": \"copy=True, quantile_range=[10, 90], with_centering=True,\\n             with_scaling=True\", \"primary_metric\": 0.9563172, \"best_metric\": 0.98991935}, {\"run_id\": \"AutoML_5fcf73f9-b3a9-4471-8dab-d7be02ded432_11\", \"run_number\": 57, \"metric\": null, \"status\": \"Completed\", \"run_type\": \"azureml.scriptrun\", \"training_percent\": \"100\", \"start_time\": \"2021-01-11T04:12:47.302212Z\", \"end_time\": \"2021-01-11T04:14:31.377969Z\", \"created_time\": \"2021-01-11T04:12:36.292895Z\", \"created_time_dt\": \"2021-01-11T04:12:36.292895Z\", \"duration\": \"0:01:55\", \"iteration\": \"11\", \"goal\": \"accuracy_max\", \"run_name\": \"MaxAbsScaler, LightGBM\", \"run_properties\": \"copy=True\", \"primary_metric\": 0.9811828, \"best_metric\": 0.98991935}, {\"run_id\": \"AutoML_5fcf73f9-b3a9-4471-8dab-d7be02ded432_10\", \"run_number\": 58, \"metric\": null, \"status\": \"Completed\", \"run_type\": \"azureml.scriptrun\", \"training_percent\": \"100\", \"start_time\": \"2021-01-11T04:12:46.302663Z\", \"end_time\": \"2021-01-11T04:13:45.49621Z\", \"created_time\": \"2021-01-11T04:12:36.451661Z\", \"created_time_dt\": \"2021-01-11T04:12:36.451661Z\", \"duration\": \"0:01:09\", \"iteration\": \"10\", \"goal\": \"accuracy_max\", \"run_name\": \"SparseNormalizer, XGBoostClassifier\", \"run_properties\": \"<azureml.automl.runtime.shared.model_wrappers.SparseNormalizer object at 0x7f3a6543f978\", \"primary_metric\": 0.98387097, \"best_metric\": 0.98991935}, {\"run_id\": \"AutoML_5fcf73f9-b3a9-4471-8dab-d7be02ded432_12\", \"run_number\": 59, \"metric\": null, \"status\": \"Completed\", \"run_type\": \"azureml.scriptrun\", \"training_percent\": \"100\", \"start_time\": \"2021-01-11T04:14:04.027909Z\", \"end_time\": \"2021-01-11T04:15:12.921521Z\", \"created_time\": \"2021-01-11T04:13:47.32087Z\", \"created_time_dt\": \"2021-01-11T04:13:47.32087Z\", \"duration\": \"0:01:25\", \"iteration\": \"12\", \"goal\": \"accuracy_max\", \"run_name\": \"RobustScaler, LightGBM\", \"run_properties\": \"copy=True, quantile_range=[10, 90], with_centering=False,\\n             with_scaling=False\", \"primary_metric\": 0.98723118, \"best_metric\": 0.98991935}, {\"run_id\": \"AutoML_5fcf73f9-b3a9-4471-8dab-d7be02ded432_14\", \"run_number\": 60, \"metric\": null, \"status\": \"Completed\", \"run_type\": \"azureml.scriptrun\", \"training_percent\": \"100\", \"start_time\": \"2021-01-11T04:14:02.964244Z\", \"end_time\": \"2021-01-11T04:15:00.264538Z\", \"created_time\": \"2021-01-11T04:13:51.394394Z\", \"created_time_dt\": \"2021-01-11T04:13:51.394394Z\", \"duration\": \"0:01:08\", \"iteration\": \"14\", \"goal\": \"accuracy_max\", \"run_name\": \"MaxAbsScaler, LightGBM\", \"run_properties\": \"copy=True\", \"primary_metric\": 0.97715054, \"best_metric\": 0.98991935}, {\"run_id\": \"AutoML_5fcf73f9-b3a9-4471-8dab-d7be02ded432_13\", \"run_number\": 61, \"metric\": null, \"status\": \"Completed\", \"run_type\": \"azureml.scriptrun\", \"training_percent\": \"100\", \"start_time\": \"2021-01-11T04:14:05.105273Z\", \"end_time\": \"2021-01-11T04:15:00.484337Z\", \"created_time\": \"2021-01-11T04:13:51.401936Z\", \"created_time_dt\": \"2021-01-11T04:13:51.401936Z\", \"duration\": \"0:01:09\", \"iteration\": \"13\", \"goal\": \"accuracy_max\", \"run_name\": \"StandardScalerWrapper, LogisticRegression\", \"run_properties\": \"<azureml.automl.runtime.shared.model_wrappers.StandardScalerWrapper object at 0x7f398c15f940\", \"primary_metric\": 0.98857527, \"best_metric\": 0.98991935}, {\"run_id\": \"AutoML_5fcf73f9-b3a9-4471-8dab-d7be02ded432_15\", \"run_number\": 62, \"metric\": null, \"status\": \"Completed\", \"run_type\": \"azureml.scriptrun\", \"training_percent\": \"100\", \"start_time\": \"2021-01-11T04:14:50.321002Z\", \"end_time\": \"2021-01-11T04:15:48.416087Z\", \"created_time\": \"2021-01-11T04:14:33.80759Z\", \"created_time_dt\": \"2021-01-11T04:14:33.80759Z\", \"duration\": \"0:01:14\", \"iteration\": \"15\", \"goal\": \"accuracy_max\", \"run_name\": \"StandardScalerWrapper, LogisticRegression\", \"run_properties\": \"<azureml.automl.runtime.shared.model_wrappers.StandardScalerWrapper object at 0x7fbd0df9ce10\", \"primary_metric\": 0.98252688, \"best_metric\": 0.98991935}, {\"run_id\": \"AutoML_5fcf73f9-b3a9-4471-8dab-d7be02ded432_17\", \"run_number\": 63, \"metric\": null, \"status\": \"Completed\", \"run_type\": \"azureml.scriptrun\", \"training_percent\": \"100\", \"start_time\": \"2021-01-11T04:15:15.373319Z\", \"end_time\": \"2021-01-11T04:16:23.959946Z\", \"created_time\": \"2021-01-11T04:15:02.350181Z\", \"created_time_dt\": \"2021-01-11T04:15:02.350181Z\", \"duration\": \"0:01:21\", \"iteration\": \"17\", \"goal\": \"accuracy_max\", \"run_name\": \"StandardScalerWrapper, XGBoostClassifier\", \"run_properties\": \"<azureml.automl.runtime.shared.model_wrappers.StandardScalerWrapper object at 0x7f24340d6a58\", \"primary_metric\": 0.98655914, \"best_metric\": 0.98991935}, {\"run_id\": \"AutoML_5fcf73f9-b3a9-4471-8dab-d7be02ded432_16\", \"run_number\": 64, \"metric\": null, \"status\": \"Completed\", \"run_type\": \"azureml.scriptrun\", \"training_percent\": \"100\", \"start_time\": \"2021-01-11T04:15:14.811395Z\", \"end_time\": \"2021-01-11T04:16:21.671711Z\", \"created_time\": \"2021-01-11T04:15:02.362111Z\", \"created_time_dt\": \"2021-01-11T04:15:02.362111Z\", \"duration\": \"0:01:19\", \"iteration\": \"16\", \"goal\": \"accuracy_max\", \"run_name\": \"SparseNormalizer, XGBoostClassifier\", \"run_properties\": \"<azureml.automl.runtime.shared.model_wrappers.SparseNormalizer object at 0x7f64c5dba588\", \"primary_metric\": 0.98521505, \"best_metric\": 0.98991935}, {\"run_id\": \"AutoML_5fcf73f9-b3a9-4471-8dab-d7be02ded432_18\", \"run_number\": 65, \"metric\": null, \"status\": \"Completed\", \"run_type\": \"azureml.scriptrun\", \"training_percent\": \"100\", \"start_time\": \"2021-01-11T04:15:26.582632Z\", \"end_time\": \"2021-01-11T04:16:25.839435Z\", \"created_time\": \"2021-01-11T04:15:14.661867Z\", \"created_time_dt\": \"2021-01-11T04:15:14.661867Z\", \"duration\": \"0:01:11\", \"iteration\": \"18\", \"goal\": \"accuracy_max\", \"run_name\": \"SparseNormalizer, XGBoostClassifier\", \"run_properties\": \"<azureml.automl.runtime.shared.model_wrappers.SparseNormalizer object at 0x7f308d52e588\", \"primary_metric\": 0.98723118, \"best_metric\": 0.98991935}, {\"run_id\": \"AutoML_5fcf73f9-b3a9-4471-8dab-d7be02ded432_19\", \"run_number\": 66, \"metric\": null, \"status\": \"Completed\", \"run_type\": \"azureml.scriptrun\", \"training_percent\": \"100\", \"start_time\": \"2021-01-11T04:16:21.29941Z\", \"end_time\": \"2021-01-11T04:17:16.001024Z\", \"created_time\": \"2021-01-11T04:16:03.552441Z\", \"created_time_dt\": \"2021-01-11T04:16:03.552441Z\", \"duration\": \"0:01:12\", \"iteration\": \"19\", \"goal\": \"accuracy_max\", \"run_name\": \"SparseNormalizer, XGBoostClassifier\", \"run_properties\": \"<azureml.automl.runtime.shared.model_wrappers.SparseNormalizer object at 0x7fedec504c88\", \"primary_metric\": 0.98387097, \"best_metric\": 0.98991935}, {\"run_id\": \"AutoML_5fcf73f9-b3a9-4471-8dab-d7be02ded432_20\", \"run_number\": 67, \"metric\": null, \"status\": \"Completed\", \"run_type\": \"azureml.scriptrun\", \"training_percent\": \"100\", \"start_time\": \"2021-01-11T04:16:39.587826Z\", \"end_time\": \"2021-01-11T04:17:38.369259Z\", \"created_time\": \"2021-01-11T04:16:23.586555Z\", \"created_time_dt\": \"2021-01-11T04:16:23.586555Z\", \"duration\": \"0:01:14\", \"iteration\": \"20\", \"goal\": \"accuracy_max\", \"run_name\": \"StandardScalerWrapper, ExtremeRandomTrees\", \"run_properties\": \"<azureml.automl.runtime.shared.model_wrappers.StandardScalerWrapper object at 0x7f2e7d4d59b0\", \"primary_metric\": 0.9858871, \"best_metric\": 0.98991935}, {\"run_id\": \"AutoML_5fcf73f9-b3a9-4471-8dab-d7be02ded432_22\", \"run_number\": 68, \"metric\": null, \"status\": \"Completed\", \"run_type\": \"azureml.scriptrun\", \"training_percent\": \"100\", \"start_time\": \"2021-01-11T04:16:43.579565Z\", \"end_time\": \"2021-01-11T04:17:38.295253Z\", \"created_time\": \"2021-01-11T04:16:30.59306Z\", \"created_time_dt\": \"2021-01-11T04:16:30.59306Z\", \"duration\": \"0:01:07\", \"iteration\": \"22\", \"goal\": \"accuracy_max\", \"run_name\": \"StandardScalerWrapper, ExtremeRandomTrees\", \"run_properties\": \"<azureml.automl.runtime.shared.model_wrappers.StandardScalerWrapper object at 0x7fcd1a769080\", \"primary_metric\": 0.9516129, \"best_metric\": 0.98991935}, {\"run_id\": \"AutoML_5fcf73f9-b3a9-4471-8dab-d7be02ded432_21\", \"run_number\": 69, \"metric\": null, \"status\": \"Completed\", \"run_type\": \"azureml.scriptrun\", \"training_percent\": \"100\", \"start_time\": \"2021-01-11T04:16:49.913116Z\", \"end_time\": \"2021-01-11T04:17:43.34028Z\", \"created_time\": \"2021-01-11T04:16:30.640643Z\", \"created_time_dt\": \"2021-01-11T04:16:30.640643Z\", \"duration\": \"0:01:12\", \"iteration\": \"21\", \"goal\": \"accuracy_max\", \"run_name\": \"StandardScalerWrapper, LightGBM\", \"run_properties\": \"<azureml.automl.runtime.shared.model_wrappers.StandardScalerWrapper object at 0x7fad340a8cc0\", \"primary_metric\": 0.96706989, \"best_metric\": 0.98991935}, {\"run_id\": \"AutoML_5fcf73f9-b3a9-4471-8dab-d7be02ded432_23\", \"run_number\": 70, \"metric\": null, \"status\": \"Completed\", \"run_type\": \"azureml.scriptrun\", \"training_percent\": \"100\", \"start_time\": \"2021-01-11T04:17:33.463824Z\", \"end_time\": \"2021-01-11T04:18:29.107123Z\", \"created_time\": \"2021-01-11T04:17:17.859647Z\", \"created_time_dt\": \"2021-01-11T04:17:17.859647Z\", \"duration\": \"0:01:11\", \"iteration\": \"23\", \"goal\": \"accuracy_max\", \"run_name\": \"SparseNormalizer, XGBoostClassifier\", \"run_properties\": \"<azureml.automl.runtime.shared.model_wrappers.SparseNormalizer object at 0x7fc5a43a7b38\", \"primary_metric\": 0.98723118, \"best_metric\": 0.98991935}, {\"run_id\": \"AutoML_5fcf73f9-b3a9-4471-8dab-d7be02ded432_24\", \"run_number\": 71, \"metric\": null, \"status\": \"Completed\", \"run_type\": \"azureml.scriptrun\", \"training_percent\": \"100\", \"start_time\": \"2021-01-11T04:17:52.879705Z\", \"end_time\": \"2021-01-11T04:18:53.546736Z\", \"created_time\": \"2021-01-11T04:17:41.115441Z\", \"created_time_dt\": \"2021-01-11T04:17:41.115441Z\", \"duration\": \"0:01:12\", \"iteration\": \"24\", \"goal\": \"accuracy_max\", \"run_name\": \"RobustScaler, SVM\", \"run_properties\": \"copy=True, quantile_range=[10, 90], with_centering=False,\\n             with_scaling=False\", \"primary_metric\": 0.78024194, \"best_metric\": 0.98991935}, {\"run_id\": \"AutoML_5fcf73f9-b3a9-4471-8dab-d7be02ded432_25\", \"run_number\": 72, \"metric\": null, \"status\": \"Completed\", \"run_type\": \"azureml.scriptrun\", \"training_percent\": \"100\", \"start_time\": \"2021-01-11T04:17:52.467749Z\", \"end_time\": \"2021-01-11T04:19:03.695966Z\", \"created_time\": \"2021-01-11T04:17:41.214553Z\", \"created_time_dt\": \"2021-01-11T04:17:41.214553Z\", \"duration\": \"0:01:22\", \"iteration\": \"25\", \"goal\": \"accuracy_max\", \"run_name\": \"SparseNormalizer, XGBoostClassifier\", \"run_properties\": \"<azureml.automl.runtime.shared.model_wrappers.SparseNormalizer object at 0x7f35ac11cda0\", \"primary_metric\": 0.98051075, \"best_metric\": 0.98991935}, {\"run_id\": \"AutoML_5fcf73f9-b3a9-4471-8dab-d7be02ded432_26\", \"run_number\": 73, \"metric\": null, \"status\": \"Completed\", \"run_type\": \"azureml.scriptrun\", \"training_percent\": \"100\", \"start_time\": \"2021-01-11T04:17:56.747526Z\", \"end_time\": \"2021-01-11T04:18:55.014014Z\", \"created_time\": \"2021-01-11T04:17:45.229954Z\", \"created_time_dt\": \"2021-01-11T04:17:45.229954Z\", \"duration\": \"0:01:09\", \"iteration\": \"26\", \"goal\": \"accuracy_max\", \"run_name\": \"SparseNormalizer, XGBoostClassifier\", \"run_properties\": \"<azureml.automl.runtime.shared.model_wrappers.SparseNormalizer object at 0x7fd9babce710\", \"primary_metric\": 0.98924731, \"best_metric\": 0.98991935}, {\"run_id\": \"AutoML_5fcf73f9-b3a9-4471-8dab-d7be02ded432_27\", \"run_number\": 74, \"metric\": null, \"status\": \"Completed\", \"run_type\": \"azureml.scriptrun\", \"training_percent\": \"100\", \"start_time\": \"2021-01-11T04:18:43.112936Z\", \"end_time\": \"2021-01-11T04:19:47.897217Z\", \"created_time\": \"2021-01-11T04:18:30.918747Z\", \"created_time_dt\": \"2021-01-11T04:18:30.918747Z\", \"duration\": \"0:01:16\", \"iteration\": \"27\", \"goal\": \"accuracy_max\", \"run_name\": \"SparseNormalizer, LightGBM\", \"run_properties\": \"<azureml.automl.runtime.shared.model_wrappers.SparseNormalizer object at 0x7fafad6ab0b8\", \"primary_metric\": 0.98857527, \"best_metric\": 0.98991935}, {\"run_id\": \"AutoML_5fcf73f9-b3a9-4471-8dab-d7be02ded432_28\", \"run_number\": 75, \"metric\": null, \"status\": \"Completed\", \"run_type\": \"azureml.scriptrun\", \"training_percent\": \"100\", \"start_time\": \"2021-01-11T04:19:05.950056Z\", \"end_time\": \"2021-01-11T04:19:53.356174Z\", \"created_time\": \"2021-01-11T04:18:55.208878Z\", \"created_time_dt\": \"2021-01-11T04:18:55.208878Z\", \"duration\": \"0:00:58\", \"iteration\": \"28\", \"goal\": \"accuracy_max\", \"run_name\": \"RobustScaler, LightGBM\", \"run_properties\": \"copy=True, quantile_range=[25, 75], with_centering=True,\\n             with_scaling=False\", \"primary_metric\": 0.98790323, \"best_metric\": 0.98991935}, {\"run_id\": \"AutoML_5fcf73f9-b3a9-4471-8dab-d7be02ded432_29\", \"run_number\": 76, \"metric\": null, \"status\": \"Completed\", \"run_type\": \"azureml.scriptrun\", \"training_percent\": \"100\", \"start_time\": \"2021-01-11T04:19:12.944238Z\", \"end_time\": \"2021-01-11T04:20:07.665236Z\", \"created_time\": \"2021-01-11T04:18:59.150852Z\", \"created_time_dt\": \"2021-01-11T04:18:59.150852Z\", \"duration\": \"0:01:08\", \"iteration\": \"29\", \"goal\": \"accuracy_max\", \"run_name\": \"MinMaxScaler, LightGBM\", \"run_properties\": \"copy=True, feature_range=(0, 1\", \"primary_metric\": 0.9905914, \"best_metric\": 0.9905914}, {\"run_id\": \"AutoML_5fcf73f9-b3a9-4471-8dab-d7be02ded432_30\", \"run_number\": 77, \"metric\": null, \"status\": \"Completed\", \"run_type\": \"azureml.scriptrun\", \"training_percent\": \"100\", \"start_time\": \"2021-01-11T04:19:19.463541Z\", \"end_time\": \"2021-01-11T04:20:11.022592Z\", \"created_time\": \"2021-01-11T04:19:06.286496Z\", \"created_time_dt\": \"2021-01-11T04:19:06.286496Z\", \"duration\": \"0:01:04\", \"iteration\": \"30\", \"goal\": \"accuracy_max\", \"run_name\": \"MinMaxScaler, SVM\", \"run_properties\": \"copy=True, feature_range=(0, 1\", \"primary_metric\": 0.98790323, \"best_metric\": 0.9905914}, {\"run_id\": \"AutoML_5fcf73f9-b3a9-4471-8dab-d7be02ded432_31\", \"run_number\": 78, \"metric\": null, \"status\": \"Completed\", \"run_type\": \"azureml.scriptrun\", \"training_percent\": \"100\", \"start_time\": \"2021-01-11T04:20:02.34709Z\", \"end_time\": \"2021-01-11T04:20:53.733932Z\", \"created_time\": \"2021-01-11T04:19:49.653827Z\", \"created_time_dt\": \"2021-01-11T04:19:49.653827Z\", \"duration\": \"0:01:04\", \"iteration\": \"31\", \"goal\": \"accuracy_max\", \"run_name\": \"StandardScalerWrapper, XGBoostClassifier\", \"run_properties\": \"<azureml.automl.runtime.shared.model_wrappers.StandardScalerWrapper object at 0x7f03b9035b00\", \"primary_metric\": 0.98857527, \"best_metric\": 0.9905914}, {\"run_id\": \"AutoML_5fcf73f9-b3a9-4471-8dab-d7be02ded432_32\", \"run_number\": 79, \"metric\": null, \"status\": \"Completed\", \"run_type\": \"azureml.scriptrun\", \"training_percent\": \"100\", \"start_time\": \"2021-01-11T04:20:06.381721Z\", \"end_time\": \"2021-01-11T04:21:03.879909Z\", \"created_time\": \"2021-01-11T04:19:55.065145Z\", \"created_time_dt\": \"2021-01-11T04:19:55.065145Z\", \"duration\": \"0:01:08\", \"iteration\": \"32\", \"goal\": \"accuracy_max\", \"run_name\": \"StandardScalerWrapper, XGBoostClassifier\", \"run_properties\": \"<azureml.automl.runtime.shared.model_wrappers.StandardScalerWrapper object at 0x7feb59386d30\", \"primary_metric\": 0.98924731, \"best_metric\": 0.9905914}, {\"run_id\": \"AutoML_5fcf73f9-b3a9-4471-8dab-d7be02ded432_33\", \"run_number\": 80, \"metric\": null, \"status\": \"Completed\", \"run_type\": \"azureml.scriptrun\", \"training_percent\": \"100\", \"start_time\": \"2021-01-11T04:20:19.706227Z\", \"end_time\": \"2021-01-11T04:21:18.819517Z\", \"created_time\": \"2021-01-11T04:20:09.382492Z\", \"created_time_dt\": \"2021-01-11T04:20:09.382492Z\", \"duration\": \"0:01:09\", \"iteration\": \"33\", \"goal\": \"accuracy_max\", \"run_name\": \"MinMaxScaler, LogisticRegression\", \"run_properties\": \"copy=True, feature_range=(0, 1\", \"primary_metric\": 0.98454301, \"best_metric\": 0.9905914}, {\"run_id\": \"AutoML_5fcf73f9-b3a9-4471-8dab-d7be02ded432_34\", \"run_number\": 81, \"metric\": null, \"status\": \"Completed\", \"run_type\": \"azureml.scriptrun\", \"training_percent\": \"100\", \"start_time\": \"2021-01-11T04:20:29.847283Z\", \"end_time\": \"2021-01-11T04:21:25.760994Z\", \"created_time\": \"2021-01-11T04:20:13.140015Z\", \"created_time_dt\": \"2021-01-11T04:20:13.140015Z\", \"duration\": \"0:01:12\", \"iteration\": \"34\", \"goal\": \"accuracy_max\", \"run_name\": \"SparseNormalizer, RandomForest\", \"run_properties\": \"<azureml.automl.runtime.shared.model_wrappers.SparseNormalizer object at 0x7f0572578b70\", \"primary_metric\": 0.98319892, \"best_metric\": 0.9905914}, {\"run_id\": \"AutoML_5fcf73f9-b3a9-4471-8dab-d7be02ded432_35\", \"run_number\": 82, \"metric\": null, \"status\": \"Completed\", \"run_type\": \"azureml.scriptrun\", \"training_percent\": \"100\", \"start_time\": \"2021-01-11T04:21:07.778254Z\", \"end_time\": \"2021-01-11T04:22:10.090448Z\", \"created_time\": \"2021-01-11T04:20:57.190094Z\", \"created_time_dt\": \"2021-01-11T04:20:57.190094Z\", \"duration\": \"0:01:12\", \"iteration\": \"35\", \"goal\": \"accuracy_max\", \"run_name\": \"StandardScalerWrapper, LightGBM\", \"run_properties\": \"<azureml.automl.runtime.shared.model_wrappers.StandardScalerWrapper object at 0x7f694409fa90\", \"primary_metric\": 0.85147849, \"best_metric\": 0.9905914}, {\"run_id\": \"AutoML_5fcf73f9-b3a9-4471-8dab-d7be02ded432_36\", \"run_number\": 83, \"metric\": null, \"status\": \"Completed\", \"run_type\": \"azureml.scriptrun\", \"training_percent\": \"100\", \"start_time\": \"2021-01-11T04:21:18.453878Z\", \"end_time\": \"2021-01-11T04:22:14.536763Z\", \"created_time\": \"2021-01-11T04:21:05.701745Z\", \"created_time_dt\": \"2021-01-11T04:21:05.701745Z\", \"duration\": \"0:01:08\", \"iteration\": \"36\", \"goal\": \"accuracy_max\", \"run_name\": \"SparseNormalizer, XGBoostClassifier\", \"run_properties\": \"<azureml.automl.runtime.shared.model_wrappers.SparseNormalizer object at 0x7fa0a0a50358\", \"primary_metric\": 0.98319892, \"best_metric\": 0.9905914}, {\"run_id\": \"AutoML_5fcf73f9-b3a9-4471-8dab-d7be02ded432_37\", \"run_number\": 84, \"metric\": null, \"status\": \"Completed\", \"run_type\": \"azureml.scriptrun\", \"training_percent\": \"100\", \"start_time\": \"2021-01-11T04:21:32.643888Z\", \"end_time\": \"2021-01-11T04:22:54.024711Z\", \"created_time\": \"2021-01-11T04:21:20.489248Z\", \"created_time_dt\": \"2021-01-11T04:21:20.489248Z\", \"duration\": \"0:01:33\", \"iteration\": \"37\", \"goal\": \"accuracy_max\", \"run_name\": \"SparseNormalizer, XGBoostClassifier\", \"run_properties\": \"<azureml.automl.runtime.shared.model_wrappers.SparseNormalizer object at 0x7f3955b3b198\", \"primary_metric\": 0.98790323, \"best_metric\": 0.9905914}, {\"run_id\": \"AutoML_5fcf73f9-b3a9-4471-8dab-d7be02ded432_38\", \"run_number\": 85, \"metric\": null, \"status\": \"Completed\", \"run_type\": \"azureml.scriptrun\", \"training_percent\": \"100\", \"start_time\": \"2021-01-11T04:21:38.753682Z\", \"end_time\": \"2021-01-11T04:22:31.835155Z\", \"created_time\": \"2021-01-11T04:21:27.503615Z\", \"created_time_dt\": \"2021-01-11T04:21:27.503615Z\", \"duration\": \"0:01:04\", \"iteration\": \"38\", \"goal\": \"accuracy_max\", \"run_name\": \"StandardScalerWrapper, XGBoostClassifier\", \"run_properties\": \"<azureml.automl.runtime.shared.model_wrappers.StandardScalerWrapper object at 0x7fdf38051940\", \"primary_metric\": 0.98857527, \"best_metric\": 0.9905914}, {\"run_id\": \"AutoML_5fcf73f9-b3a9-4471-8dab-d7be02ded432_39\", \"run_number\": 86, \"metric\": null, \"status\": \"Completed\", \"run_type\": \"azureml.scriptrun\", \"training_percent\": \"100\", \"start_time\": \"2021-01-11T04:22:25.797398Z\", \"end_time\": \"2021-01-11T04:23:29.587988Z\", \"created_time\": \"2021-01-11T04:22:12.126293Z\", \"created_time_dt\": \"2021-01-11T04:22:12.126293Z\", \"duration\": \"0:01:17\", \"iteration\": \"39\", \"goal\": \"accuracy_max\", \"run_name\": \"RobustScaler, SVM\", \"run_properties\": \"copy=True, quantile_range=[10, 90], with_centering=True,\\n             with_scaling=True\", \"primary_metric\": 0.9858871, \"best_metric\": 0.9905914}, {\"run_id\": \"AutoML_5fcf73f9-b3a9-4471-8dab-d7be02ded432_40\", \"run_number\": 87, \"metric\": null, \"status\": \"Completed\", \"run_type\": \"azureml.scriptrun\", \"training_percent\": \"100\", \"start_time\": \"2021-01-11T04:22:29.97685Z\", \"end_time\": \"2021-01-11T04:23:32.487392Z\", \"created_time\": \"2021-01-11T04:22:18.413199Z\", \"created_time_dt\": \"2021-01-11T04:22:18.413199Z\", \"duration\": \"0:01:14\", \"iteration\": \"40\", \"goal\": \"accuracy_max\", \"run_name\": \"MinMaxScaler, LightGBM\", \"run_properties\": \"copy=True, feature_range=(0, 1\", \"primary_metric\": 0.98924731, \"best_metric\": 0.9905914}, {\"run_id\": \"AutoML_5fcf73f9-b3a9-4471-8dab-d7be02ded432_41\", \"run_number\": 88, \"metric\": null, \"status\": \"Completed\", \"run_type\": \"azureml.scriptrun\", \"training_percent\": \"100\", \"start_time\": \"2021-01-11T04:22:47.193871Z\", \"end_time\": \"2021-01-11T04:23:35.615225Z\", \"created_time\": \"2021-01-11T04:22:34.044827Z\", \"created_time_dt\": \"2021-01-11T04:22:34.044827Z\", \"duration\": \"0:01:01\", \"iteration\": \"41\", \"goal\": \"accuracy_max\", \"run_name\": \"MaxAbsScaler, SVM\", \"run_properties\": \"copy=True\", \"primary_metric\": 0.9905914, \"best_metric\": 0.9905914}, {\"run_id\": \"AutoML_5fcf73f9-b3a9-4471-8dab-d7be02ded432_42\", \"run_number\": 89, \"metric\": null, \"status\": \"Completed\", \"run_type\": \"azureml.scriptrun\", \"training_percent\": \"100\", \"start_time\": \"2021-01-11T04:23:07.97653Z\", \"end_time\": \"2021-01-11T04:24:04.966376Z\", \"created_time\": \"2021-01-11T04:22:55.724405Z\", \"created_time_dt\": \"2021-01-11T04:22:55.724405Z\", \"duration\": \"0:01:09\", \"iteration\": \"42\", \"goal\": \"accuracy_max\", \"run_name\": \"MaxAbsScaler, SVM\", \"run_properties\": \"copy=True\", \"primary_metric\": 0.98857527, \"best_metric\": 0.9905914}, {\"run_id\": \"AutoML_5fcf73f9-b3a9-4471-8dab-d7be02ded432_43\", \"run_number\": 90, \"metric\": null, \"status\": \"Canceled\", \"run_type\": \"azureml.scriptrun\", \"training_percent\": \"100\", \"start_time\": \"2021-01-11T04:23:46.088991Z\", \"end_time\": \"2021-01-11T04:24:12.955663Z\", \"created_time\": \"2021-01-11T04:23:31.341103Z\", \"created_time_dt\": \"2021-01-11T04:23:31.341103Z\", \"duration\": \"0:00:41\", \"iteration\": \"43\", \"goal\": null, \"run_name\": \"SparseNormalizer, XGBoostClassifier\", \"run_properties\": null}, {\"run_id\": \"AutoML_5fcf73f9-b3a9-4471-8dab-d7be02ded432_44\", \"run_number\": 91, \"metric\": null, \"status\": \"Canceled\", \"run_type\": \"azureml.scriptrun\", \"training_percent\": \"100\", \"start_time\": \"2021-01-11T04:23:47.51905Z\", \"end_time\": \"2021-01-11T04:24:14.024993Z\", \"created_time\": \"2021-01-11T04:23:35.223835Z\", \"created_time_dt\": \"2021-01-11T04:23:35.223835Z\", \"duration\": \"0:00:38\", \"iteration\": \"44\", \"goal\": null, \"run_name\": \"SparseNormalizer, XGBoostClassifier\", \"run_properties\": null}, {\"run_id\": \"AutoML_5fcf73f9-b3a9-4471-8dab-d7be02ded432_45\", \"run_number\": 92, \"metric\": null, \"status\": \"Canceled\", \"run_type\": \"azureml.scriptrun\", \"training_percent\": \"100\", \"start_time\": \"2021-01-11T04:23:51.196532Z\", \"end_time\": \"2021-01-11T04:24:12.457361Z\", \"created_time\": \"2021-01-11T04:23:39.988242Z\", \"created_time_dt\": \"2021-01-11T04:23:39.988242Z\", \"duration\": \"0:00:32\", \"iteration\": \"45\", \"goal\": null, \"run_name\": \"StandardScalerWrapper, LightGBM\", \"run_properties\": null}, {\"run_id\": \"AutoML_5fcf73f9-b3a9-4471-8dab-d7be02ded432_46\", \"run_number\": 93, \"metric\": null, \"status\": \"Completed\", \"run_type\": \"azureml.scriptrun\", \"training_percent\": \"100\", \"start_time\": \"2021-01-11T04:24:30.794076Z\", \"end_time\": \"2021-01-11T04:25:51.923672Z\", \"created_time\": \"2021-01-11T04:24:15.393677Z\", \"created_time_dt\": \"2021-01-11T04:24:15.393677Z\", \"duration\": \"0:01:36\", \"iteration\": \"46\", \"goal\": \"accuracy_max\", \"run_name\": \"VotingEnsemble\", \"run_properties\": \"classification_labels=None,\\n                              estimators=[('41',\\n                                           Pipeline(memory=None,\\n                                                    steps=[('maxabsscaler',\\n                                                            MaxAbsScaler(copy=True\", \"primary_metric\": 0.99126344, \"best_metric\": 0.99126344}], \"children_metrics\": {\"categories\": [0], \"series\": {\"AUC_micro\": [{\"categories\": [\"0\", \"1\", \"2\", \"3\", \"4\", \"5\", \"6\", \"7\", \"8\", \"9\", \"10\", \"11\", \"12\", \"13\", \"14\", \"15\", \"16\", \"17\", \"18\", \"19\", \"20\", \"21\", \"22\", \"23\", \"24\", \"25\", \"26\", \"27\", \"28\", \"29\", \"30\", \"31\", \"32\", \"33\", \"34\", \"35\", \"36\", \"37\", \"38\", \"39\", \"40\", \"41\", \"42\", \"46\"], \"mode\": \"markers\", \"name\": \"AUC_micro\", \"stepped\": false, \"type\": \"scatter\", \"data\": [0.9984262541189732, 0.9986782702480056, 0.9968203287591052, 0.9869120978581339, 0.9985570044224765, 0.9976864648369753, 0.9982175956035381, 0.9977515012573708, 0.9966184448707943, 0.9891633064516129, 0.9977122084200486, 0.9968796067464446, 0.9987385644294138, 0.9973240222858134, 0.9966113315123136, 0.9959311589490114, 0.9984303188952479, 0.9989512877211238, 0.9968647025667706, 0.9952265977280611, 0.9977169506590357, 0.9956716907301422, 0.9935932351283384, 0.9965117444935832, 0.8431938031130767, 0.9946012996444676, 0.9971397524280263, 0.9985752959157127, 0.998623395768297, 0.9986694632327436, 0.9983469909816164, 0.9985881677072493, 0.9986525266649323, 0.9981329127644815, 0.9980441651491502, 0.9767440600069373, 0.9973585728841484, 0.9983436036680541, 0.9989932904092959, 0.9984188020291364, 0.9979770963406174, 0.997501517516476, 0.9965280035986819, 0.9986471069632327]}, {\"categories\": [\"0\", \"1\", \"2\", \"3\", \"4\", \"5\", \"6\", \"7\", \"8\", \"9\", \"10\", \"11\", \"12\", \"13\", \"14\", \"15\", \"16\", \"17\", \"18\", \"19\", \"20\", \"21\", \"22\", \"23\", \"24\", \"25\", \"26\", \"27\", \"28\", \"29\", \"30\", \"31\", \"32\", \"33\", \"34\", \"35\", \"36\", \"37\", \"38\", \"39\", \"40\", \"41\", \"42\", \"46\"], \"mode\": \"lines\", \"name\": \"AUC_micro_max\", \"stepped\": true, \"type\": \"scatter\", \"data\": [0.9984262541189732, 0.9986782702480056, 0.9986782702480056, 0.9986782702480056, 0.9986782702480056, 0.9986782702480056, 0.9986782702480056, 0.9986782702480056, 0.9986782702480056, 0.9986782702480056, 0.9986782702480056, 0.9986782702480056, 0.9987385644294138, 0.9987385644294138, 0.9987385644294138, 0.9987385644294138, 0.9987385644294138, 0.9989512877211238, 0.9989512877211238, 0.9989512877211238, 0.9989512877211238, 0.9989512877211238, 0.9989512877211238, 0.9989512877211238, 0.9989512877211238, 0.9989512877211238, 0.9989512877211238, 0.9989512877211238, 0.9989512877211238, 0.9989512877211238, 0.9989512877211238, 0.9989512877211238, 0.9989512877211238, 0.9989512877211238, 0.9989512877211238, 0.9989512877211238, 0.9989512877211238, 0.9989512877211238, 0.9989932904092959, 0.9989932904092959, 0.9989932904092959, 0.9989932904092959, 0.9989932904092959, 0.9989932904092959]}], \"accuracy\": [{\"categories\": [\"0\", \"1\", \"2\", \"3\", \"4\", \"5\", \"6\", \"7\", \"8\", \"9\", \"10\", \"11\", \"12\", \"13\", \"14\", \"15\", \"16\", \"17\", \"18\", \"19\", \"20\", \"21\", \"22\", \"23\", \"24\", \"25\", \"26\", \"27\", \"28\", \"29\", \"30\", \"31\", \"32\", \"33\", \"34\", \"35\", \"36\", \"37\", \"38\", \"39\", \"40\", \"41\", \"42\", \"46\"], \"mode\": \"markers\", \"name\": \"accuracy\", \"stepped\": false, \"type\": \"scatter\", \"data\": [0.9885752688172044, 0.989247311827957, 0.9704301075268816, 0.9133064516129034, 0.9858870967741935, 0.9899193548387096, 0.9852150537634409, 0.9899193548387096, 0.9563172043010754, 0.9274193548387096, 0.9838709677419355, 0.9811827956989246, 0.9872311827956989, 0.9885752688172044, 0.9771505376344086, 0.98252688172043, 0.9852150537634409, 0.9865591397849461, 0.9872311827956989, 0.9838709677419355, 0.9858870967741935, 0.9670698924731184, 0.9516129032258065, 0.9872311827956989, 0.780241935483871, 0.980510752688172, 0.989247311827957, 0.9885752688172044, 0.9879032258064516, 0.9905913978494624, 0.9879032258064516, 0.9885752688172044, 0.989247311827957, 0.9845430107526881, 0.9831989247311829, 0.851478494623656, 0.9831989247311829, 0.9879032258064516, 0.9885752688172044, 0.9858870967741935, 0.989247311827957, 0.9905913978494624, 0.9885752688172044, 0.991263440860215]}, {\"categories\": [\"0\", \"1\", \"2\", \"3\", \"4\", \"5\", \"6\", \"7\", \"8\", \"9\", \"10\", \"11\", \"12\", \"13\", \"14\", \"15\", \"16\", \"17\", \"18\", \"19\", \"20\", \"21\", \"22\", \"23\", \"24\", \"25\", \"26\", \"27\", \"28\", \"29\", \"30\", \"31\", \"32\", \"33\", \"34\", \"35\", \"36\", \"37\", \"38\", \"39\", \"40\", \"41\", \"42\", \"46\"], \"mode\": \"lines\", \"name\": \"accuracy_max\", \"stepped\": true, \"type\": \"scatter\", \"data\": [0.9885752688172044, 0.989247311827957, 0.989247311827957, 0.989247311827957, 0.989247311827957, 0.9899193548387096, 0.9899193548387096, 0.9899193548387096, 0.9899193548387096, 0.9899193548387096, 0.9899193548387096, 0.9899193548387096, 0.9899193548387096, 0.9899193548387096, 0.9899193548387096, 0.9899193548387096, 0.9899193548387096, 0.9899193548387096, 0.9899193548387096, 0.9899193548387096, 0.9899193548387096, 0.9899193548387096, 0.9899193548387096, 0.9899193548387096, 0.9899193548387096, 0.9899193548387096, 0.9899193548387096, 0.9899193548387096, 0.9899193548387096, 0.9905913978494624, 0.9905913978494624, 0.9905913978494624, 0.9905913978494624, 0.9905913978494624, 0.9905913978494624, 0.9905913978494624, 0.9905913978494624, 0.9905913978494624, 0.9905913978494624, 0.9905913978494624, 0.9905913978494624, 0.9905913978494624, 0.9905913978494624, 0.991263440860215]}], \"weighted_accuracy\": [{\"categories\": [\"0\", \"1\", \"2\", \"3\", \"4\", \"5\", \"6\", \"7\", \"8\", \"9\", \"10\", \"11\", \"12\", \"13\", \"14\", \"15\", \"16\", \"17\", \"18\", \"19\", \"20\", \"21\", \"22\", \"23\", \"24\", \"25\", \"26\", \"27\", \"28\", \"29\", \"30\", \"31\", \"32\", \"33\", \"34\", \"35\", \"36\", \"37\", \"38\", \"39\", \"40\", \"41\", \"42\", \"46\"], \"mode\": \"markers\", \"name\": \"weighted_accuracy\", \"stepped\": false, \"type\": \"scatter\", \"data\": [0.9947596834016931, 0.9956342728027435, 0.9937622656729408, 0.9846331583292972, 0.993543569897766, 0.9937674230325723, 0.9940687097137252, 0.9937674230325723, 0.9903076058330944, 0.9868453014058184, 0.9947145801802016, 0.9956509646838422, 0.9959998922064099, 0.993430743818614, 0.9947422230617805, 0.9868043759071817, 0.9940687097137252, 0.9963433419191844, 0.9958174215585532, 0.9953255034062546, 0.9961735551449125, 0.9935176892958558, 0.9896808061059409, 0.9951302243261191, 0.9585562357708747, 0.9952111623377448, 0.9969362077779098, 0.9968290044567921, 0.9960109061180327, 0.9965885840940195, 0.9913025043239116, 0.9967664210036381, 0.9962878962134223, 0.9885168419398659, 0.9888714473257186, 0.9742987976079448, 0.9958040281964703, 0.9960260940007712, 0.9961127975929593, 0.9945951449702338, 0.9962702908190777, 0.9952567501763551, 0.993466735151975, 0.9967583708682911]}, {\"categories\": [\"0\", \"1\", \"2\", \"3\", \"4\", \"5\", \"6\", \"7\", \"8\", \"9\", \"10\", \"11\", \"12\", \"13\", \"14\", \"15\", \"16\", \"17\", \"18\", \"19\", \"20\", \"21\", \"22\", \"23\", \"24\", \"25\", \"26\", \"27\", \"28\", \"29\", \"30\", \"31\", \"32\", \"33\", \"34\", \"35\", \"36\", \"37\", \"38\", \"39\", \"40\", \"41\", \"42\", \"46\"], \"mode\": \"lines\", \"name\": \"weighted_accuracy_max\", \"stepped\": true, \"type\": \"scatter\", \"data\": [0.9947596834016931, 0.9956342728027435, 0.9956342728027435, 0.9956342728027435, 0.9956342728027435, 0.9956342728027435, 0.9956342728027435, 0.9956342728027435, 0.9956342728027435, 0.9956342728027435, 0.9956342728027435, 0.9956509646838422, 0.9959998922064099, 0.9959998922064099, 0.9959998922064099, 0.9959998922064099, 0.9959998922064099, 0.9963433419191844, 0.9963433419191844, 0.9963433419191844, 0.9963433419191844, 0.9963433419191844, 0.9963433419191844, 0.9963433419191844, 0.9963433419191844, 0.9963433419191844, 0.9969362077779098, 0.9969362077779098, 0.9969362077779098, 0.9969362077779098, 0.9969362077779098, 0.9969362077779098, 0.9969362077779098, 0.9969362077779098, 0.9969362077779098, 0.9969362077779098, 0.9969362077779098, 0.9969362077779098, 0.9969362077779098, 0.9969362077779098, 0.9969362077779098, 0.9969362077779098, 0.9969362077779098, 0.9969362077779098]}], \"f1_score_weighted\": [{\"categories\": [\"0\", \"1\", \"2\", \"3\", \"4\", \"5\", \"6\", \"7\", \"8\", \"9\", \"10\", \"11\", \"12\", \"13\", \"14\", \"15\", \"16\", \"17\", \"18\", \"19\", \"20\", \"21\", \"22\", \"23\", \"24\", \"25\", \"26\", \"27\", \"28\", \"29\", \"30\", \"31\", \"32\", \"33\", \"34\", \"35\", \"36\", \"37\", \"38\", \"39\", \"40\", \"41\", \"42\", \"46\"], \"mode\": \"markers\", \"name\": \"f1_score_weighted\", \"stepped\": false, \"type\": \"scatter\", \"data\": [0.9884821135291838, 0.9891462830491747, 0.9688971072454855, 0.9014073561871605, 0.9857215299968938, 0.9899042871325868, 0.9850051531691175, 0.9899042871325868, 0.9529708089679444, 0.9188244194153068, 0.9836605993218416, 0.9804784278128746, 0.9870903738072854, 0.9885304380523277, 0.9761838310168875, 0.982606385674813, 0.9850051531691175, 0.9863219652248012, 0.9870207493015934, 0.9835765726233028, 0.9856172313283674, 0.9654979395051129, 0.9482695914902207, 0.9870544992190423, 0.6839739473065767, 0.9800399340820148, 0.9890910667390287, 0.9884053911690492, 0.9877355204368375, 0.9905044564166515, 0.9879237399398689, 0.988390555519875, 0.989117479608964, 0.9845726575145358, 0.9831441370070095, 0.806598279732842, 0.9828344577846675, 0.9877124438906963, 0.9884274898592736, 0.9857818455903232, 0.9891213619394711, 0.9905476365030118, 0.9885294880893595, 0.9911929231825672]}, {\"categories\": [\"0\", \"1\", \"2\", \"3\", \"4\", \"5\", \"6\", \"7\", \"8\", \"9\", \"10\", \"11\", \"12\", \"13\", \"14\", \"15\", \"16\", \"17\", \"18\", \"19\", \"20\", \"21\", \"22\", \"23\", \"24\", \"25\", \"26\", \"27\", \"28\", \"29\", \"30\", \"31\", \"32\", \"33\", \"34\", \"35\", \"36\", \"37\", \"38\", \"39\", \"40\", \"41\", \"42\", \"46\"], \"mode\": \"lines\", \"name\": \"f1_score_weighted_max\", \"stepped\": true, \"type\": \"scatter\", \"data\": [0.9884821135291838, 0.9891462830491747, 0.9891462830491747, 0.9891462830491747, 0.9891462830491747, 0.9899042871325868, 0.9899042871325868, 0.9899042871325868, 0.9899042871325868, 0.9899042871325868, 0.9899042871325868, 0.9899042871325868, 0.9899042871325868, 0.9899042871325868, 0.9899042871325868, 0.9899042871325868, 0.9899042871325868, 0.9899042871325868, 0.9899042871325868, 0.9899042871325868, 0.9899042871325868, 0.9899042871325868, 0.9899042871325868, 0.9899042871325868, 0.9899042871325868, 0.9899042871325868, 0.9899042871325868, 0.9899042871325868, 0.9899042871325868, 0.9905044564166515, 0.9905044564166515, 0.9905044564166515, 0.9905044564166515, 0.9905044564166515, 0.9905044564166515, 0.9905044564166515, 0.9905044564166515, 0.9905044564166515, 0.9905044564166515, 0.9905044564166515, 0.9905044564166515, 0.9905476365030118, 0.9905476365030118, 0.9911929231825672]}], \"precision_score_weighted\": [{\"categories\": [\"0\", \"1\", \"2\", \"3\", \"4\", \"5\", \"6\", \"7\", \"8\", \"9\", \"10\", \"11\", \"12\", \"13\", \"14\", \"15\", \"16\", \"17\", \"18\", \"19\", \"20\", \"21\", \"22\", \"23\", \"24\", \"25\", \"26\", \"27\", \"28\", \"29\", \"30\", \"31\", \"32\", \"33\", \"34\", \"35\", \"36\", \"37\", \"38\", \"39\", \"40\", \"41\", \"42\", \"46\"], \"mode\": \"markers\", \"name\": \"precision_score_weighted\", \"stepped\": false, \"type\": \"scatter\", \"data\": [0.9885028964415095, 0.9891914385358822, 0.9712936888072748, 0.9162226436541016, 0.9858021438190328, 0.9899394432149814, 0.9851503647298218, 0.9899394432149814, 0.9582036593922801, 0.9294511314871489, 0.9839041618411443, 0.9816839878099443, 0.9872281939527996, 0.9885921802240154, 0.9778317260935413, 0.9829609845983921, 0.9851503647298218, 0.986600170431187, 0.9872387405014135, 0.9839368860687249, 0.9859449464812106, 0.9683326350692679, 0.9540259191978033, 0.987242420255391, 0.6089102605792577, 0.9807072015728341, 0.9892515993084111, 0.9885799981227669, 0.9878831109262368, 0.9905645661365817, 0.9879641503650599, 0.988593329048579, 0.989227769139967, 0.9847912903849264, 0.9831812350446608, 0.7954915641275179, 0.9833245836117369, 0.98789183003644, 0.9885507900450216, 0.9858283974173245, 0.9892035416991675, 0.990566296781339, 0.9885502562393396, 0.9912322061039364]}, {\"categories\": [\"0\", \"1\", \"2\", \"3\", \"4\", \"5\", \"6\", \"7\", \"8\", \"9\", \"10\", \"11\", \"12\", \"13\", \"14\", \"15\", \"16\", \"17\", \"18\", \"19\", \"20\", \"21\", \"22\", \"23\", \"24\", \"25\", \"26\", \"27\", \"28\", \"29\", \"30\", \"31\", \"32\", \"33\", \"34\", \"35\", \"36\", \"37\", \"38\", \"39\", \"40\", \"41\", \"42\", \"46\"], \"mode\": \"lines\", \"name\": \"precision_score_weighted_max\", \"stepped\": true, \"type\": \"scatter\", \"data\": [0.9885028964415095, 0.9891914385358822, 0.9891914385358822, 0.9891914385358822, 0.9891914385358822, 0.9899394432149814, 0.9899394432149814, 0.9899394432149814, 0.9899394432149814, 0.9899394432149814, 0.9899394432149814, 0.9899394432149814, 0.9899394432149814, 0.9899394432149814, 0.9899394432149814, 0.9899394432149814, 0.9899394432149814, 0.9899394432149814, 0.9899394432149814, 0.9899394432149814, 0.9899394432149814, 0.9899394432149814, 0.9899394432149814, 0.9899394432149814, 0.9899394432149814, 0.9899394432149814, 0.9899394432149814, 0.9899394432149814, 0.9899394432149814, 0.9905645661365817, 0.9905645661365817, 0.9905645661365817, 0.9905645661365817, 0.9905645661365817, 0.9905645661365817, 0.9905645661365817, 0.9905645661365817, 0.9905645661365817, 0.9905645661365817, 0.9905645661365817, 0.9905645661365817, 0.990566296781339, 0.990566296781339, 0.9912322061039364]}], \"log_loss\": [{\"categories\": [\"0\", \"1\", \"2\", \"3\", \"4\", \"5\", \"6\", \"7\", \"8\", \"9\", \"10\", \"11\", \"12\", \"13\", \"14\", \"15\", \"16\", \"17\", \"18\", \"19\", \"20\", \"21\", \"22\", \"23\", \"24\", \"25\", \"26\", \"27\", \"28\", \"29\", \"30\", \"31\", \"32\", \"33\", \"34\", \"35\", \"36\", \"37\", \"38\", \"39\", \"40\", \"41\", \"42\", \"46\"], \"mode\": \"markers\", \"name\": \"log_loss\", \"stepped\": false, \"type\": \"scatter\", \"data\": [0.0631054936028851, 0.04681927885529765, 0.14016899636875926, 0.2653534739781324, 0.1402499902990846, 0.05263967500596698, 0.055817859345167975, 0.05265341242596531, 0.1290849302137159, 0.21702278878095949, 0.06755635253935072, 0.16322123073406755, 0.052266118822719775, 0.0588047628334226, 0.17680808148333219, 0.07231021500804936, 0.05735756690777708, 0.11714378197064108, 0.37729017435902445, 0.13516183165310638, 0.12590558192633378, 0.2231965714654567, 0.18934418906758702, 0.13063039123894318, 0.6742526567903807, 0.13027553458558447, 0.3767378153652022, 0.05532667892015913, 0.05098099872815309, 0.0467249378409171, 0.047903365552282334, 0.05742773459296974, 0.04556542897342003, 0.059768657290779514, 0.1510619846882596, 0.38491833108746226, 0.07307621951576551, 0.05356441637146261, 0.05018440647969222, 0.05943384722180969, 0.06699820952562163, 0.05176649199952127, 0.059372258206192484, 0.04638241459450506]}, {\"categories\": [\"0\", \"1\", \"2\", \"3\", \"4\", \"5\", \"6\", \"7\", \"8\", \"9\", \"10\", \"11\", \"12\", \"13\", \"14\", \"15\", \"16\", \"17\", \"18\", \"19\", \"20\", \"21\", \"22\", \"23\", \"24\", \"25\", \"26\", \"27\", \"28\", \"29\", \"30\", \"31\", \"32\", \"33\", \"34\", \"35\", \"36\", \"37\", \"38\", \"39\", \"40\", \"41\", \"42\", \"46\"], \"mode\": \"lines\", \"name\": \"log_loss_min\", \"stepped\": true, \"type\": \"scatter\", \"data\": [0.0631054936028851, 0.04681927885529765, 0.04681927885529765, 0.04681927885529765, 0.04681927885529765, 0.04681927885529765, 0.04681927885529765, 0.04681927885529765, 0.04681927885529765, 0.04681927885529765, 0.04681927885529765, 0.04681927885529765, 0.04681927885529765, 0.04681927885529765, 0.04681927885529765, 0.04681927885529765, 0.04681927885529765, 0.04681927885529765, 0.04681927885529765, 0.04681927885529765, 0.04681927885529765, 0.04681927885529765, 0.04681927885529765, 0.04681927885529765, 0.04681927885529765, 0.04681927885529765, 0.04681927885529765, 0.04681927885529765, 0.04681927885529765, 0.0467249378409171, 0.0467249378409171, 0.0467249378409171, 0.04556542897342003, 0.04556542897342003, 0.04556542897342003, 0.04556542897342003, 0.04556542897342003, 0.04556542897342003, 0.04556542897342003, 0.04556542897342003, 0.04556542897342003, 0.04556542897342003, 0.04556542897342003, 0.04556542897342003]}], \"f1_score_micro\": [{\"categories\": [\"0\", \"1\", \"2\", \"3\", \"4\", \"5\", \"6\", \"7\", \"8\", \"9\", \"10\", \"11\", \"12\", \"13\", \"14\", \"15\", \"16\", \"17\", \"18\", \"19\", \"20\", \"21\", \"22\", \"23\", \"24\", \"25\", \"26\", \"27\", \"28\", \"29\", \"30\", \"31\", \"32\", \"33\", \"34\", \"35\", \"36\", \"37\", \"38\", \"39\", \"40\", \"41\", \"42\", \"46\"], \"mode\": \"markers\", \"name\": \"f1_score_micro\", \"stepped\": false, \"type\": \"scatter\", \"data\": [0.9885752688172044, 0.989247311827957, 0.9704301075268819, 0.9133064516129034, 0.9858870967741935, 0.9899193548387096, 0.9852150537634409, 0.9899193548387096, 0.9563172043010754, 0.9274193548387096, 0.9838709677419355, 0.9811827956989246, 0.9872311827956989, 0.9885752688172044, 0.9771505376344086, 0.98252688172043, 0.9852150537634409, 0.9865591397849461, 0.9872311827956989, 0.9838709677419355, 0.9858870967741935, 0.9670698924731184, 0.9516129032258065, 0.9872311827956989, 0.780241935483871, 0.980510752688172, 0.989247311827957, 0.9885752688172044, 0.9879032258064516, 0.9905913978494624, 0.9879032258064516, 0.9885752688172044, 0.989247311827957, 0.9845430107526881, 0.9831989247311829, 0.851478494623656, 0.9831989247311829, 0.9879032258064516, 0.9885752688172044, 0.9858870967741935, 0.989247311827957, 0.9905913978494624, 0.9885752688172044, 0.991263440860215]}, {\"categories\": [\"0\", \"1\", \"2\", \"3\", \"4\", \"5\", \"6\", \"7\", \"8\", \"9\", \"10\", \"11\", \"12\", \"13\", \"14\", \"15\", \"16\", \"17\", \"18\", \"19\", \"20\", \"21\", \"22\", \"23\", \"24\", \"25\", \"26\", \"27\", \"28\", \"29\", \"30\", \"31\", \"32\", \"33\", \"34\", \"35\", \"36\", \"37\", \"38\", \"39\", \"40\", \"41\", \"42\", \"46\"], \"mode\": \"lines\", \"name\": \"f1_score_micro_max\", \"stepped\": true, \"type\": \"scatter\", \"data\": [0.9885752688172044, 0.989247311827957, 0.989247311827957, 0.989247311827957, 0.989247311827957, 0.9899193548387096, 0.9899193548387096, 0.9899193548387096, 0.9899193548387096, 0.9899193548387096, 0.9899193548387096, 0.9899193548387096, 0.9899193548387096, 0.9899193548387096, 0.9899193548387096, 0.9899193548387096, 0.9899193548387096, 0.9899193548387096, 0.9899193548387096, 0.9899193548387096, 0.9899193548387096, 0.9899193548387096, 0.9899193548387096, 0.9899193548387096, 0.9899193548387096, 0.9899193548387096, 0.9899193548387096, 0.9899193548387096, 0.9899193548387096, 0.9905913978494624, 0.9905913978494624, 0.9905913978494624, 0.9905913978494624, 0.9905913978494624, 0.9905913978494624, 0.9905913978494624, 0.9905913978494624, 0.9905913978494624, 0.9905913978494624, 0.9905913978494624, 0.9905913978494624, 0.9905913978494624, 0.9905913978494624, 0.991263440860215]}], \"balanced_accuracy\": [{\"categories\": [\"0\", \"1\", \"2\", \"3\", \"4\", \"5\", \"6\", \"7\", \"8\", \"9\", \"10\", \"11\", \"12\", \"13\", \"14\", \"15\", \"16\", \"17\", \"18\", \"19\", \"20\", \"21\", \"22\", \"23\", \"24\", \"25\", \"26\", \"27\", \"28\", \"29\", \"30\", \"31\", \"32\", \"33\", \"34\", \"35\", \"36\", \"37\", \"38\", \"39\", \"40\", \"41\", \"42\", \"46\"], \"mode\": \"markers\", \"name\": \"balanced_accuracy\", \"stepped\": false, \"type\": \"scatter\", \"data\": [0.9773189915466461, 0.9772630474529116, 0.9111154412063626, 0.7219212318358429, 0.9716577471757243, 0.9825046590014429, 0.968922066876908, 0.9825046590014429, 0.8950495740818321, 0.7465870121264536, 0.9587013119082538, 0.9558418284224737, 0.9679816969950905, 0.9794055741336969, 0.9464018060792254, 0.9738671194355782, 0.968922066876908, 0.9685356722508822, 0.9714268287134672, 0.9585288738325901, 0.9670926708078807, 0.9029132474104012, 0.8761101801424381, 0.9729354966967895, 0.3333333333333333, 0.9495165983456602, 0.9749453915638271, 0.9730089767241866, 0.9727255300121684, 0.9793400624331524, 0.9816514117196243, 0.9735023901208257, 0.9761049462948104, 0.9777034402887058, 0.9733155847202029, 0.5037285295349812, 0.9559263176586054, 0.9725207169041293, 0.9746604912789268, 0.9630629861141701, 0.976095223848224, 0.9816397270019462, 0.979269542863101, 0.9807830638761539]}, {\"categories\": [\"0\", \"1\", \"2\", \"3\", \"4\", \"5\", \"6\", \"7\", \"8\", \"9\", \"10\", \"11\", \"12\", \"13\", \"14\", \"15\", \"16\", \"17\", \"18\", \"19\", \"20\", \"21\", \"22\", \"23\", \"24\", \"25\", \"26\", \"27\", \"28\", \"29\", \"30\", \"31\", \"32\", \"33\", \"34\", \"35\", \"36\", \"37\", \"38\", \"39\", \"40\", \"41\", \"42\", \"46\"], \"mode\": \"lines\", \"name\": \"balanced_accuracy_max\", \"stepped\": true, \"type\": \"scatter\", \"data\": [0.9773189915466461, 0.9773189915466461, 0.9773189915466461, 0.9773189915466461, 0.9773189915466461, 0.9825046590014429, 0.9825046590014429, 0.9825046590014429, 0.9825046590014429, 0.9825046590014429, 0.9825046590014429, 0.9825046590014429, 0.9825046590014429, 0.9825046590014429, 0.9825046590014429, 0.9825046590014429, 0.9825046590014429, 0.9825046590014429, 0.9825046590014429, 0.9825046590014429, 0.9825046590014429, 0.9825046590014429, 0.9825046590014429, 0.9825046590014429, 0.9825046590014429, 0.9825046590014429, 0.9825046590014429, 0.9825046590014429, 0.9825046590014429, 0.9825046590014429, 0.9825046590014429, 0.9825046590014429, 0.9825046590014429, 0.9825046590014429, 0.9825046590014429, 0.9825046590014429, 0.9825046590014429, 0.9825046590014429, 0.9825046590014429, 0.9825046590014429, 0.9825046590014429, 0.9825046590014429, 0.9825046590014429, 0.9825046590014429]}], \"average_precision_score_macro\": [{\"categories\": [\"0\", \"1\", \"2\", \"3\", \"4\", \"5\", \"6\", \"7\", \"8\", \"9\", \"10\", \"11\", \"12\", \"13\", \"14\", \"15\", \"16\", \"17\", \"18\", \"19\", \"20\", \"21\", \"22\", \"23\", \"24\", \"25\", \"26\", \"27\", \"28\", \"29\", \"30\", \"31\", \"32\", \"33\", \"34\", \"35\", \"36\", \"37\", \"38\", \"39\", \"40\", \"41\", \"42\", \"46\"], \"mode\": \"markers\", \"name\": \"average_precision_score_macro\", \"stepped\": false, \"type\": \"scatter\", \"data\": [0.9888336018136538, 0.9899738743023031, 0.9837915555808955, 0.9439287483567805, 0.9909650847590218, 0.9884622105083004, 0.9903752540569207, 0.9884640386278125, 0.9846545146122582, 0.9265227773686829, 0.9876909709000459, 0.9915501134576984, 0.9929134271728404, 0.9828287296589563, 0.9909538047053313, 0.9823156277570045, 0.9911093329732669, 0.9946738349617709, 0.9826972746661546, 0.975261782954255, 0.9912085100905479, 0.9900868021201981, 0.979903867037331, 0.9838106751845993, 0.3298527023798947, 0.978278919091729, 0.987212718006241, 0.9923179393439802, 0.9931929907820041, 0.9923566329138298, 0.9915897251629479, 0.992267614472934, 0.9919708415111144, 0.991286564187214, 0.9888654174212932, 0.9657953281172941, 0.9855474252110007, 0.9909313591143202, 0.9942886179439427, 0.988432045868687, 0.989799737571908, 0.9875199119578482, 0.9854916650635016, 0.9918091583926056]}, {\"categories\": [\"0\", \"1\", \"2\", \"3\", \"4\", \"5\", \"6\", \"7\", \"8\", \"9\", \"10\", \"11\", \"12\", \"13\", \"14\", \"15\", \"16\", \"17\", \"18\", \"19\", \"20\", \"21\", \"22\", \"23\", \"24\", \"25\", \"26\", \"27\", \"28\", \"29\", \"30\", \"31\", \"32\", \"33\", \"34\", \"35\", \"36\", \"37\", \"38\", \"39\", \"40\", \"41\", \"42\", \"46\"], \"mode\": \"lines\", \"name\": \"average_precision_score_macro_max\", \"stepped\": true, \"type\": \"scatter\", \"data\": [0.9888336018136538, 0.9899738743023031, 0.9899738743023031, 0.9899738743023031, 0.9909650847590218, 0.9909650847590218, 0.9909650847590218, 0.9909650847590218, 0.9909650847590218, 0.9909650847590218, 0.9909650847590218, 0.9915501134576984, 0.9929134271728404, 0.9929134271728404, 0.9929134271728404, 0.9929134271728404, 0.9929134271728404, 0.9946738349617709, 0.9946738349617709, 0.9946738349617709, 0.9946738349617709, 0.9946738349617709, 0.9946738349617709, 0.9946738349617709, 0.9946738349617709, 0.9946738349617709, 0.9946738349617709, 0.9946738349617709, 0.9946738349617709, 0.9946738349617709, 0.9946738349617709, 0.9946738349617709, 0.9946738349617709, 0.9946738349617709, 0.9946738349617709, 0.9946738349617709, 0.9946738349617709, 0.9946738349617709, 0.9946738349617709, 0.9946738349617709, 0.9946738349617709, 0.9946738349617709, 0.9946738349617709, 0.9946738349617709]}], \"norm_macro_recall\": [{\"categories\": [\"0\", \"1\", \"2\", \"3\", \"4\", \"5\", \"6\", \"7\", \"8\", \"9\", \"10\", \"11\", \"12\", \"13\", \"14\", \"15\", \"16\", \"17\", \"18\", \"19\", \"20\", \"21\", \"22\", \"23\", \"24\", \"25\", \"26\", \"27\", \"28\", \"29\", \"30\", \"31\", \"32\", \"33\", \"34\", \"35\", \"36\", \"37\", \"38\", \"39\", \"40\", \"41\", \"42\", \"46\"], \"mode\": \"markers\", \"name\": \"norm_macro_recall\", \"stepped\": false, \"type\": \"scatter\", \"data\": [0.9659784873199692, 0.9658945711793671, 0.8666731618095437, 0.5828818477537642, 0.9574866207635863, 0.9737569885021643, 0.9533831003153619, 0.9737569885021643, 0.8425743611227481, 0.6198805181896805, 0.9380519678623807, 0.9337627426337104, 0.9519725454926355, 0.9691083612005453, 0.919602709118838, 0.9608006791533675, 0.9533831003153619, 0.9528035083763231, 0.9571402430702006, 0.937793310748885, 0.950639006211821, 0.8543698711156016, 0.8141652702136571, 0.9594032450451841, 0.0, 0.9242748975184899, 0.9624180873457405, 0.9595134650862799, 0.9590882950182524, 0.9690100936497285, 0.9724771175794363, 0.9602535851812384, 0.9641574194422153, 0.9665551604330588, 0.9599733770803041, 0.2555927943024718, 0.9338894764879079, 0.958781075356194, 0.9619907369183901, 0.944594479171255, 0.9641428357723361, 0.9724595905029193, 0.9689043142946513, 0.9711745958142307]}, {\"categories\": [\"0\", \"1\", \"2\", \"3\", \"4\", \"5\", \"6\", \"7\", \"8\", \"9\", \"10\", \"11\", \"12\", \"13\", \"14\", \"15\", \"16\", \"17\", \"18\", \"19\", \"20\", \"21\", \"22\", \"23\", \"24\", \"25\", \"26\", \"27\", \"28\", \"29\", \"30\", \"31\", \"32\", \"33\", \"34\", \"35\", \"36\", \"37\", \"38\", \"39\", \"40\", \"41\", \"42\", \"46\"], \"mode\": \"lines\", \"name\": \"norm_macro_recall_max\", \"stepped\": true, \"type\": \"scatter\", \"data\": [0.9659784873199692, 0.9659784873199692, 0.9659784873199692, 0.9659784873199692, 0.9659784873199692, 0.9737569885021643, 0.9737569885021643, 0.9737569885021643, 0.9737569885021643, 0.9737569885021643, 0.9737569885021643, 0.9737569885021643, 0.9737569885021643, 0.9737569885021643, 0.9737569885021643, 0.9737569885021643, 0.9737569885021643, 0.9737569885021643, 0.9737569885021643, 0.9737569885021643, 0.9737569885021643, 0.9737569885021643, 0.9737569885021643, 0.9737569885021643, 0.9737569885021643, 0.9737569885021643, 0.9737569885021643, 0.9737569885021643, 0.9737569885021643, 0.9737569885021643, 0.9737569885021643, 0.9737569885021643, 0.9737569885021643, 0.9737569885021643, 0.9737569885021643, 0.9737569885021643, 0.9737569885021643, 0.9737569885021643, 0.9737569885021643, 0.9737569885021643, 0.9737569885021643, 0.9737569885021643, 0.9737569885021643, 0.9737569885021643]}], \"precision_score_macro\": [{\"categories\": [\"0\", \"1\", \"2\", \"3\", \"4\", \"5\", \"6\", \"7\", \"8\", \"9\", \"10\", \"11\", \"12\", \"13\", \"14\", \"15\", \"16\", \"17\", \"18\", \"19\", \"20\", \"21\", \"22\", \"23\", \"24\", \"25\", \"26\", \"27\", \"28\", \"29\", \"30\", \"31\", \"32\", \"33\", \"34\", \"35\", \"36\", \"37\", \"38\", \"39\", \"40\", \"41\", \"42\", \"46\"], \"mode\": \"markers\", \"name\": \"precision_score_macro\", \"stepped\": false, \"type\": \"scatter\", \"data\": [0.9859601626609914, 0.9874290036186757, 0.9701110313822804, 0.9192632249076764, 0.9825105045661543, 0.9845296188208154, 0.9842344127000057, 0.9845296188208154, 0.9776556283689009, 0.9199189270372182, 0.9824791371011204, 0.9882267040828, 0.9855437576393803, 0.9842619727022189, 0.9865535017941789, 0.9692957290818155, 0.9842344127000057, 0.9891065029764158, 0.9880530805268212, 0.9865886447929372, 0.9888023402330907, 0.9824839621144607, 0.9757417502548543, 0.9867993879359909, 0.2600806451612903, 0.9864315250504072, 0.9902818440380412, 0.9899957571308615, 0.9883596283706337, 0.9895949682636157, 0.9794947633311337, 0.989976868742188, 0.9889759291846859, 0.9751030834585439, 0.9746004865667222, 0.6103436539795566, 0.987597126651324, 0.9883520409142021, 0.988428204198176, 0.9822389726758033, 0.9890822072164247, 0.9873590631725969, 0.9838217704193016, 0.9899026063438597]}, {\"categories\": [\"0\", \"1\", \"2\", \"3\", \"4\", \"5\", \"6\", \"7\", \"8\", \"9\", \"10\", \"11\", \"12\", \"13\", \"14\", \"15\", \"16\", \"17\", \"18\", \"19\", \"20\", \"21\", \"22\", \"23\", \"24\", \"25\", \"26\", \"27\", \"28\", \"29\", \"30\", \"31\", \"32\", \"33\", \"34\", \"35\", \"36\", \"37\", \"38\", \"39\", \"40\", \"41\", \"42\", \"46\"], \"mode\": \"lines\", \"name\": \"precision_score_macro_max\", \"stepped\": true, \"type\": \"scatter\", \"data\": [0.9859601626609914, 0.9874290036186757, 0.9874290036186757, 0.9874290036186757, 0.9874290036186757, 0.9874290036186757, 0.9874290036186757, 0.9874290036186757, 0.9874290036186757, 0.9874290036186757, 0.9874290036186757, 0.9882267040828, 0.9882267040828, 0.9882267040828, 0.9882267040828, 0.9882267040828, 0.9882267040828, 0.9891065029764158, 0.9891065029764158, 0.9891065029764158, 0.9891065029764158, 0.9891065029764158, 0.9891065029764158, 0.9891065029764158, 0.9891065029764158, 0.9891065029764158, 0.9902818440380412, 0.9902818440380412, 0.9902818440380412, 0.9902818440380412, 0.9902818440380412, 0.9902818440380412, 0.9902818440380412, 0.9902818440380412, 0.9902818440380412, 0.9902818440380412, 0.9902818440380412, 0.9902818440380412, 0.9902818440380412, 0.9902818440380412, 0.9902818440380412, 0.9902818440380412, 0.9902818440380412, 0.9902818440380412]}], \"AUC_weighted\": [{\"categories\": [\"0\", \"1\", \"2\", \"3\", \"4\", \"5\", \"6\", \"7\", \"8\", \"9\", \"10\", \"11\", \"12\", \"13\", \"14\", \"15\", \"16\", \"17\", \"18\", \"19\", \"20\", \"21\", \"22\", \"23\", \"24\", \"25\", \"26\", \"27\", \"28\", \"29\", \"30\", \"31\", \"32\", \"33\", \"34\", \"35\", \"36\", \"37\", \"38\", \"39\", \"40\", \"41\", \"42\", \"46\"], \"mode\": \"markers\", \"name\": \"AUC_weighted\", \"stepped\": false, \"type\": \"scatter\", \"data\": [0.9968087873848552, 0.997425835999629, 0.9954218251418562, 0.9843219343404722, 0.9967635591826872, 0.9951025327871155, 0.996681778026098, 0.995154439515565, 0.9946095365991431, 0.9843153225669976, 0.9951865899945646, 0.9962920010603602, 0.9972227797385965, 0.9949991371045922, 0.9957698821759564, 0.9943071732807104, 0.9974249153923229, 0.9978474808695544, 0.992897111984699, 0.9886870242413188, 0.9981127316186801, 0.9971819852193421, 0.9951316252205326, 0.9915151567380421, 0.4543217713070881, 0.9914495077327836, 0.9923423743979773, 0.9973619232739823, 0.9968940405530214, 0.9974721781580498, 0.996740308672508, 0.9972048273992725, 0.997550848255822, 0.9958562315726608, 0.9955026693822157, 0.9924963603081555, 0.9944335318348173, 0.996930266701692, 0.9980584956726881, 0.9972338631605009, 0.9944389669859164, 0.9942546207451873, 0.9921493931527504, 0.9966694186420187]}, {\"categories\": [\"0\", \"1\", \"2\", \"3\", \"4\", \"5\", \"6\", \"7\", \"8\", \"9\", \"10\", \"11\", \"12\", \"13\", \"14\", \"15\", \"16\", \"17\", \"18\", \"19\", \"20\", \"21\", \"22\", \"23\", \"24\", \"25\", \"26\", \"27\", \"28\", \"29\", \"30\", \"31\", \"32\", \"33\", \"34\", \"35\", \"36\", \"37\", \"38\", \"39\", \"40\", \"41\", \"42\", \"46\"], \"mode\": \"lines\", \"name\": \"AUC_weighted_max\", \"stepped\": true, \"type\": \"scatter\", \"data\": [0.9968087873848552, 0.997425835999629, 0.997425835999629, 0.997425835999629, 0.997425835999629, 0.997425835999629, 0.997425835999629, 0.997425835999629, 0.997425835999629, 0.997425835999629, 0.997425835999629, 0.997425835999629, 0.997425835999629, 0.997425835999629, 0.997425835999629, 0.997425835999629, 0.997425835999629, 0.9978474808695544, 0.9978474808695544, 0.9978474808695544, 0.9981127316186801, 0.9981127316186801, 0.9981127316186801, 0.9981127316186801, 0.9981127316186801, 0.9981127316186801, 0.9981127316186801, 0.9981127316186801, 0.9981127316186801, 0.9981127316186801, 0.9981127316186801, 0.9981127316186801, 0.9981127316186801, 0.9981127316186801, 0.9981127316186801, 0.9981127316186801, 0.9981127316186801, 0.9981127316186801, 0.9981127316186801, 0.9981127316186801, 0.9981127316186801, 0.9981127316186801, 0.9981127316186801, 0.9981127316186801]}], \"precision_score_micro\": [{\"categories\": [\"0\", \"1\", \"2\", \"3\", \"4\", \"5\", \"6\", \"7\", \"8\", \"9\", \"10\", \"11\", \"12\", \"13\", \"14\", \"15\", \"16\", \"17\", \"18\", \"19\", \"20\", \"21\", \"22\", \"23\", \"24\", \"25\", \"26\", \"27\", \"28\", \"29\", \"30\", \"31\", \"32\", \"33\", \"34\", \"35\", \"36\", \"37\", \"38\", \"39\", \"40\", \"41\", \"42\", \"46\"], \"mode\": \"markers\", \"name\": \"precision_score_micro\", \"stepped\": false, \"type\": \"scatter\", \"data\": [0.9885752688172044, 0.989247311827957, 0.9704301075268816, 0.9133064516129034, 0.9858870967741935, 0.9899193548387096, 0.9852150537634409, 0.9899193548387096, 0.9563172043010754, 0.9274193548387096, 0.9838709677419355, 0.9811827956989246, 0.9872311827956989, 0.9885752688172044, 0.9771505376344086, 0.98252688172043, 0.9852150537634409, 0.9865591397849461, 0.9872311827956989, 0.9838709677419355, 0.9858870967741935, 0.9670698924731184, 0.9516129032258065, 0.9872311827956989, 0.780241935483871, 0.980510752688172, 0.989247311827957, 0.9885752688172044, 0.9879032258064516, 0.9905913978494624, 0.9879032258064516, 0.9885752688172044, 0.989247311827957, 0.9845430107526881, 0.9831989247311829, 0.851478494623656, 0.9831989247311829, 0.9879032258064516, 0.9885752688172044, 0.9858870967741935, 0.989247311827957, 0.9905913978494624, 0.9885752688172044, 0.991263440860215]}, {\"categories\": [\"0\", \"1\", \"2\", \"3\", \"4\", \"5\", \"6\", \"7\", \"8\", \"9\", \"10\", \"11\", \"12\", \"13\", \"14\", \"15\", \"16\", \"17\", \"18\", \"19\", \"20\", \"21\", \"22\", \"23\", \"24\", \"25\", \"26\", \"27\", \"28\", \"29\", \"30\", \"31\", \"32\", \"33\", \"34\", \"35\", \"36\", \"37\", \"38\", \"39\", \"40\", \"41\", \"42\", \"46\"], \"mode\": \"lines\", \"name\": \"precision_score_micro_max\", \"stepped\": true, \"type\": \"scatter\", \"data\": [0.9885752688172044, 0.989247311827957, 0.989247311827957, 0.989247311827957, 0.989247311827957, 0.9899193548387096, 0.9899193548387096, 0.9899193548387096, 0.9899193548387096, 0.9899193548387096, 0.9899193548387096, 0.9899193548387096, 0.9899193548387096, 0.9899193548387096, 0.9899193548387096, 0.9899193548387096, 0.9899193548387096, 0.9899193548387096, 0.9899193548387096, 0.9899193548387096, 0.9899193548387096, 0.9899193548387096, 0.9899193548387096, 0.9899193548387096, 0.9899193548387096, 0.9899193548387096, 0.9899193548387096, 0.9899193548387096, 0.9899193548387096, 0.9905913978494624, 0.9905913978494624, 0.9905913978494624, 0.9905913978494624, 0.9905913978494624, 0.9905913978494624, 0.9905913978494624, 0.9905913978494624, 0.9905913978494624, 0.9905913978494624, 0.9905913978494624, 0.9905913978494624, 0.9905913978494624, 0.9905913978494624, 0.991263440860215]}], \"recall_score_micro\": [{\"categories\": [\"0\", \"1\", \"2\", \"3\", \"4\", \"5\", \"6\", \"7\", \"8\", \"9\", \"10\", \"11\", \"12\", \"13\", \"14\", \"15\", \"16\", \"17\", \"18\", \"19\", \"20\", \"21\", \"22\", \"23\", \"24\", \"25\", \"26\", \"27\", \"28\", \"29\", \"30\", \"31\", \"32\", \"33\", \"34\", \"35\", \"36\", \"37\", \"38\", \"39\", \"40\", \"41\", \"42\", \"46\"], \"mode\": \"markers\", \"name\": \"recall_score_micro\", \"stepped\": false, \"type\": \"scatter\", \"data\": [0.9885752688172044, 0.989247311827957, 0.9704301075268816, 0.9133064516129034, 0.9858870967741935, 0.9899193548387096, 0.9852150537634409, 0.9899193548387096, 0.9563172043010754, 0.9274193548387096, 0.9838709677419355, 0.9811827956989246, 0.9872311827956989, 0.9885752688172044, 0.9771505376344086, 0.98252688172043, 0.9852150537634409, 0.9865591397849461, 0.9872311827956989, 0.9838709677419355, 0.9858870967741935, 0.9670698924731184, 0.9516129032258065, 0.9872311827956989, 0.780241935483871, 0.980510752688172, 0.989247311827957, 0.9885752688172044, 0.9879032258064516, 0.9905913978494624, 0.9879032258064516, 0.9885752688172044, 0.989247311827957, 0.9845430107526881, 0.9831989247311829, 0.851478494623656, 0.9831989247311829, 0.9879032258064516, 0.9885752688172044, 0.9858870967741935, 0.989247311827957, 0.9905913978494624, 0.9885752688172044, 0.991263440860215]}, {\"categories\": [\"0\", \"1\", \"2\", \"3\", \"4\", \"5\", \"6\", \"7\", \"8\", \"9\", \"10\", \"11\", \"12\", \"13\", \"14\", \"15\", \"16\", \"17\", \"18\", \"19\", \"20\", \"21\", \"22\", \"23\", \"24\", \"25\", \"26\", \"27\", \"28\", \"29\", \"30\", \"31\", \"32\", \"33\", \"34\", \"35\", \"36\", \"37\", \"38\", \"39\", \"40\", \"41\", \"42\", \"46\"], \"mode\": \"lines\", \"name\": \"recall_score_micro_max\", \"stepped\": true, \"type\": \"scatter\", \"data\": [0.9885752688172044, 0.989247311827957, 0.989247311827957, 0.989247311827957, 0.989247311827957, 0.9899193548387096, 0.9899193548387096, 0.9899193548387096, 0.9899193548387096, 0.9899193548387096, 0.9899193548387096, 0.9899193548387096, 0.9899193548387096, 0.9899193548387096, 0.9899193548387096, 0.9899193548387096, 0.9899193548387096, 0.9899193548387096, 0.9899193548387096, 0.9899193548387096, 0.9899193548387096, 0.9899193548387096, 0.9899193548387096, 0.9899193548387096, 0.9899193548387096, 0.9899193548387096, 0.9899193548387096, 0.9899193548387096, 0.9899193548387096, 0.9905913978494624, 0.9905913978494624, 0.9905913978494624, 0.9905913978494624, 0.9905913978494624, 0.9905913978494624, 0.9905913978494624, 0.9905913978494624, 0.9905913978494624, 0.9905913978494624, 0.9905913978494624, 0.9905913978494624, 0.9905913978494624, 0.9905913978494624, 0.991263440860215]}], \"average_precision_score_micro\": [{\"categories\": [\"0\", \"1\", \"2\", \"3\", \"4\", \"5\", \"6\", \"7\", \"8\", \"9\", \"10\", \"11\", \"12\", \"13\", \"14\", \"15\", \"16\", \"17\", \"18\", \"19\", \"20\", \"21\", \"22\", \"23\", \"24\", \"25\", \"26\", \"27\", \"28\", \"29\", \"30\", \"31\", \"32\", \"33\", \"34\", \"35\", \"36\", \"37\", \"38\", \"39\", \"40\", \"41\", \"42\", \"46\"], \"mode\": \"markers\", \"name\": \"average_precision_score_micro\", \"stepped\": false, \"type\": \"scatter\", \"data\": [0.9972559403772127, 0.9975215789158822, 0.9943761565919425, 0.9770640741755056, 0.9974032145687284, 0.996073008621417, 0.996930138484951, 0.9962318579329473, 0.9937211384565225, 0.9810804484725569, 0.9959315227462517, 0.9942701349547706, 0.9977449287014349, 0.9939354187854894, 0.9937770176135605, 0.9912699869975633, 0.9972882482060182, 0.9981579165631468, 0.993301808381038, 0.9912184603790672, 0.9961958022225049, 0.9921430353415147, 0.9888547925651302, 0.9924103044528826, 0.7044239115622535, 0.9903622371151554, 0.9932503874345459, 0.9974507522533291, 0.9974144298430793, 0.9975328939489535, 0.997142011469724, 0.9973780473639117, 0.9975097367114606, 0.996500321680173, 0.996362378252336, 0.9582057491722084, 0.9952364054803109, 0.9970769602482313, 0.9981704132876971, 0.9971643080595118, 0.9960818807765225, 0.9956149145904242, 0.9941506764727824, 0.9974887689383705]}, {\"categories\": [\"0\", \"1\", \"2\", \"3\", \"4\", \"5\", \"6\", \"7\", \"8\", \"9\", \"10\", \"11\", \"12\", \"13\", \"14\", \"15\", \"16\", \"17\", \"18\", \"19\", \"20\", \"21\", \"22\", \"23\", \"24\", \"25\", \"26\", \"27\", \"28\", \"29\", \"30\", \"31\", \"32\", \"33\", \"34\", \"35\", \"36\", \"37\", \"38\", \"39\", \"40\", \"41\", \"42\", \"46\"], \"mode\": \"lines\", \"name\": \"average_precision_score_micro_max\", \"stepped\": true, \"type\": \"scatter\", \"data\": [0.9972559403772127, 0.9975215789158822, 0.9975215789158822, 0.9975215789158822, 0.9975215789158822, 0.9975215789158822, 0.9975215789158822, 0.9975215789158822, 0.9975215789158822, 0.9975215789158822, 0.9975215789158822, 0.9975215789158822, 0.9977449287014349, 0.9977449287014349, 0.9977449287014349, 0.9977449287014349, 0.9977449287014349, 0.9981579165631468, 0.9981579165631468, 0.9981579165631468, 0.9981579165631468, 0.9981579165631468, 0.9981579165631468, 0.9981579165631468, 0.9981579165631468, 0.9981579165631468, 0.9981579165631468, 0.9981579165631468, 0.9981579165631468, 0.9981579165631468, 0.9981579165631468, 0.9981579165631468, 0.9981579165631468, 0.9981579165631468, 0.9981579165631468, 0.9981579165631468, 0.9981579165631468, 0.9981579165631468, 0.9981704132876971, 0.9981704132876971, 0.9981704132876971, 0.9981704132876971, 0.9981704132876971, 0.9981704132876971]}], \"f1_score_macro\": [{\"categories\": [\"0\", \"1\", \"2\", \"3\", \"4\", \"5\", \"6\", \"7\", \"8\", \"9\", \"10\", \"11\", \"12\", \"13\", \"14\", \"15\", \"16\", \"17\", \"18\", \"19\", \"20\", \"21\", \"22\", \"23\", \"24\", \"25\", \"26\", \"27\", \"28\", \"29\", \"30\", \"31\", \"32\", \"33\", \"34\", \"35\", \"36\", \"37\", \"38\", \"39\", \"40\", \"41\", \"42\", \"46\"], \"mode\": \"markers\", \"name\": \"f1_score_macro\", \"stepped\": false, \"type\": \"scatter\", \"data\": [0.9815267665587252, 0.9821952651056112, 0.9345676404273106, 0.7752063757417371, 0.9768023766929651, 0.9834638748475397, 0.976206596633772, 0.9834638748475397, 0.92719358671216, 0.7971447492043898, 0.9700432987195095, 0.9701743099066293, 0.9764185863415151, 0.9817089333295982, 0.9639075141837465, 0.9712678796224953, 0.976206596633772, 0.9782891853992485, 0.9792984650630215, 0.9718087291040552, 0.9773382092554855, 0.9364068942841559, 0.9161890645907459, 0.979500891265597, 0.2921699745537218, 0.9667452424484866, 0.982289793925399, 0.9811350932333877, 0.9802056697378226, 0.9843156211096314, 0.9805547527513734, 0.9813493564325393, 0.9822902354326754, 0.9762022775960949, 0.9738623203431315, 0.5281863474182702, 0.9708264323627072, 0.9800315513060726, 0.9812748056038475, 0.972418798649881, 0.9823668202859722, 0.9844264443879281, 0.9814692315149852, 0.985225746746595]}, {\"categories\": [\"0\", \"1\", \"2\", \"3\", \"4\", \"5\", \"6\", \"7\", \"8\", \"9\", \"10\", \"11\", \"12\", \"13\", \"14\", \"15\", \"16\", \"17\", \"18\", \"19\", \"20\", \"21\", \"22\", \"23\", \"24\", \"25\", \"26\", \"27\", \"28\", \"29\", \"30\", \"31\", \"32\", \"33\", \"34\", \"35\", \"36\", \"37\", \"38\", \"39\", \"40\", \"41\", \"42\", \"46\"], \"mode\": \"lines\", \"name\": \"f1_score_macro_max\", \"stepped\": true, \"type\": \"scatter\", \"data\": [0.9815267665587252, 0.9821952651056112, 0.9821952651056112, 0.9821952651056112, 0.9821952651056112, 0.9834638748475397, 0.9834638748475397, 0.9834638748475397, 0.9834638748475397, 0.9834638748475397, 0.9834638748475397, 0.9834638748475397, 0.9834638748475397, 0.9834638748475397, 0.9834638748475397, 0.9834638748475397, 0.9834638748475397, 0.9834638748475397, 0.9834638748475397, 0.9834638748475397, 0.9834638748475397, 0.9834638748475397, 0.9834638748475397, 0.9834638748475397, 0.9834638748475397, 0.9834638748475397, 0.9834638748475397, 0.9834638748475397, 0.9834638748475397, 0.9843156211096314, 0.9843156211096314, 0.9843156211096314, 0.9843156211096314, 0.9843156211096314, 0.9843156211096314, 0.9843156211096314, 0.9843156211096314, 0.9843156211096314, 0.9843156211096314, 0.9843156211096314, 0.9843156211096314, 0.9844264443879281, 0.9844264443879281, 0.985225746746595]}], \"AUC_macro\": [{\"categories\": [\"0\", \"1\", \"2\", \"3\", \"4\", \"5\", \"6\", \"7\", \"8\", \"9\", \"10\", \"11\", \"12\", \"13\", \"14\", \"15\", \"16\", \"17\", \"18\", \"19\", \"20\", \"21\", \"22\", \"23\", \"24\", \"25\", \"26\", \"27\", \"28\", \"29\", \"30\", \"31\", \"32\", \"33\", \"34\", \"35\", \"36\", \"37\", \"38\", \"39\", \"40\", \"41\", \"42\", \"46\"], \"mode\": \"markers\", \"name\": \"AUC_macro\", \"stepped\": false, \"type\": \"scatter\", \"data\": [0.996188249162041, 0.9970722853486088, 0.9944828539976557, 0.9825986187103827, 0.9965564261547945, 0.9944487218559566, 0.9962687955690864, 0.9944490112975196, 0.9938772418710143, 0.9816725349517914, 0.9949390096137739, 0.9958871654117543, 0.9969490263884557, 0.9938610177104179, 0.9954052592668233, 0.9924334016719428, 0.9970160550323999, 0.9976651734220704, 0.9929068742037549, 0.9876913855524115, 0.9971026104658175, 0.9961629913588718, 0.9927733277564741, 0.9919861070683096, 0.4638526396308705, 0.9904534278883254, 0.9929434303504681, 0.9970502998442453, 0.9969328523192001, 0.9972560229148945, 0.9966454631383072, 0.9970705523140196, 0.9972411577330124, 0.9957787839391418, 0.994864873514112, 0.990841890782939, 0.9940963510445585, 0.9964978804131887, 0.9978280638479443, 0.9966202617603043, 0.994649795630314, 0.9938405153916055, 0.991584947607754, 0.9964900719218578]}, {\"categories\": [\"0\", \"1\", \"2\", \"3\", \"4\", \"5\", \"6\", \"7\", \"8\", \"9\", \"10\", \"11\", \"12\", \"13\", \"14\", \"15\", \"16\", \"17\", \"18\", \"19\", \"20\", \"21\", \"22\", \"23\", \"24\", \"25\", \"26\", \"27\", \"28\", \"29\", \"30\", \"31\", \"32\", \"33\", \"34\", \"35\", \"36\", \"37\", \"38\", \"39\", \"40\", \"41\", \"42\", \"46\"], \"mode\": \"lines\", \"name\": \"AUC_macro_max\", \"stepped\": true, \"type\": \"scatter\", \"data\": [0.996188249162041, 0.9970722853486088, 0.9970722853486088, 0.9970722853486088, 0.9970722853486088, 0.9970722853486088, 0.9970722853486088, 0.9970722853486088, 0.9970722853486088, 0.9970722853486088, 0.9970722853486088, 0.9970722853486088, 0.9970722853486088, 0.9970722853486088, 0.9970722853486088, 0.9970722853486088, 0.9970722853486088, 0.9976651734220704, 0.9976651734220704, 0.9976651734220704, 0.9976651734220704, 0.9976651734220704, 0.9976651734220704, 0.9976651734220704, 0.9976651734220704, 0.9976651734220704, 0.9976651734220704, 0.9976651734220704, 0.9976651734220704, 0.9976651734220704, 0.9976651734220704, 0.9976651734220704, 0.9976651734220704, 0.9976651734220704, 0.9976651734220704, 0.9976651734220704, 0.9976651734220704, 0.9976651734220704, 0.9978280638479443, 0.9978280638479443, 0.9978280638479443, 0.9978280638479443, 0.9978280638479443, 0.9978280638479443]}], \"recall_score_weighted\": [{\"categories\": [\"0\", \"1\", \"2\", \"3\", \"4\", \"5\", \"6\", \"7\", \"8\", \"9\", \"10\", \"11\", \"12\", \"13\", \"14\", \"15\", \"16\", \"17\", \"18\", \"19\", \"20\", \"21\", \"22\", \"23\", \"24\", \"25\", \"26\", \"27\", \"28\", \"29\", \"30\", \"31\", \"32\", \"33\", \"34\", \"35\", \"36\", \"37\", \"38\", \"39\", \"40\", \"41\", \"42\", \"46\"], \"mode\": \"markers\", \"name\": \"recall_score_weighted\", \"stepped\": false, \"type\": \"scatter\", \"data\": [0.9885752688172044, 0.989247311827957, 0.9704301075268816, 0.9133064516129034, 0.9858870967741935, 0.9899193548387096, 0.9852150537634409, 0.9899193548387096, 0.9563172043010754, 0.9274193548387096, 0.9838709677419355, 0.9811827956989246, 0.9872311827956989, 0.9885752688172044, 0.9771505376344086, 0.98252688172043, 0.9852150537634409, 0.9865591397849461, 0.9872311827956989, 0.9838709677419355, 0.9858870967741935, 0.9670698924731184, 0.9516129032258065, 0.9872311827956989, 0.780241935483871, 0.980510752688172, 0.989247311827957, 0.9885752688172044, 0.9879032258064516, 0.9905913978494624, 0.9879032258064516, 0.9885752688172044, 0.989247311827957, 0.9845430107526881, 0.9831989247311829, 0.851478494623656, 0.9831989247311829, 0.9879032258064516, 0.9885752688172044, 0.9858870967741935, 0.989247311827957, 0.9905913978494624, 0.9885752688172044, 0.991263440860215]}, {\"categories\": [\"0\", \"1\", \"2\", \"3\", \"4\", \"5\", \"6\", \"7\", \"8\", \"9\", \"10\", \"11\", \"12\", \"13\", \"14\", \"15\", \"16\", \"17\", \"18\", \"19\", \"20\", \"21\", \"22\", \"23\", \"24\", \"25\", \"26\", \"27\", \"28\", \"29\", \"30\", \"31\", \"32\", \"33\", \"34\", \"35\", \"36\", \"37\", \"38\", \"39\", \"40\", \"41\", \"42\", \"46\"], \"mode\": \"lines\", \"name\": \"recall_score_weighted_max\", \"stepped\": true, \"type\": \"scatter\", \"data\": [0.9885752688172044, 0.989247311827957, 0.989247311827957, 0.989247311827957, 0.989247311827957, 0.9899193548387096, 0.9899193548387096, 0.9899193548387096, 0.9899193548387096, 0.9899193548387096, 0.9899193548387096, 0.9899193548387096, 0.9899193548387096, 0.9899193548387096, 0.9899193548387096, 0.9899193548387096, 0.9899193548387096, 0.9899193548387096, 0.9899193548387096, 0.9899193548387096, 0.9899193548387096, 0.9899193548387096, 0.9899193548387096, 0.9899193548387096, 0.9899193548387096, 0.9899193548387096, 0.9899193548387096, 0.9899193548387096, 0.9899193548387096, 0.9905913978494624, 0.9905913978494624, 0.9905913978494624, 0.9905913978494624, 0.9905913978494624, 0.9905913978494624, 0.9905913978494624, 0.9905913978494624, 0.9905913978494624, 0.9905913978494624, 0.9905913978494624, 0.9905913978494624, 0.9905913978494624, 0.9905913978494624, 0.991263440860215]}], \"average_precision_score_weighted\": [{\"categories\": [\"0\", \"1\", \"2\", \"3\", \"4\", \"5\", \"6\", \"7\", \"8\", \"9\", \"10\", \"11\", \"12\", \"13\", \"14\", \"15\", \"16\", \"17\", \"18\", \"19\", \"20\", \"21\", \"22\", \"23\", \"24\", \"25\", \"26\", \"27\", \"28\", \"29\", \"30\", \"31\", \"32\", \"33\", \"34\", \"35\", \"36\", \"37\", \"38\", \"39\", \"40\", \"41\", \"42\", \"46\"], \"mode\": \"markers\", \"name\": \"average_precision_score_weighted\", \"stepped\": false, \"type\": \"scatter\", \"data\": [0.9953626063999176, 0.995843477376431, 0.9933196298743238, 0.9776645493387156, 0.9958933914433205, 0.9944990194721743, 0.9957784106982345, 0.9945308779934634, 0.9930466675882932, 0.9747650535177184, 0.9946288793491034, 0.9958657612187755, 0.9966955137498842, 0.9913494573640339, 0.9954689777565467, 0.9908976005320745, 0.9962202290972738, 0.9974713668183179, 0.9913283587732878, 0.9890369111689264, 0.9963416478921975, 0.9955328982682844, 0.991453789017619, 0.990811691625126, 0.6213212812841652, 0.9907304414136943, 0.9920255724844674, 0.9966142985897678, 0.9966625922796851, 0.9966134177199847, 0.9958857777936587, 0.996507117941347, 0.9965119230639407, 0.9954315182505583, 0.9948615202554979, 0.9860528189553941, 0.9938423566100862, 0.9960460208949254, 0.9973743474787732, 0.995330489582943, 0.9947404702953214, 0.9939090246620671, 0.9924517620830507, 0.9962432171930695]}, {\"categories\": [\"0\", \"1\", \"2\", \"3\", \"4\", \"5\", \"6\", \"7\", \"8\", \"9\", \"10\", \"11\", \"12\", \"13\", \"14\", \"15\", \"16\", \"17\", \"18\", \"19\", \"20\", \"21\", \"22\", \"23\", \"24\", \"25\", \"26\", \"27\", \"28\", \"29\", \"30\", \"31\", \"32\", \"33\", \"34\", \"35\", \"36\", \"37\", \"38\", \"39\", \"40\", \"41\", \"42\", \"46\"], \"mode\": \"lines\", \"name\": \"average_precision_score_weighted_max\", \"stepped\": true, \"type\": \"scatter\", \"data\": [0.9953626063999176, 0.995843477376431, 0.995843477376431, 0.995843477376431, 0.9958933914433205, 0.9958933914433205, 0.9958933914433205, 0.9958933914433205, 0.9958933914433205, 0.9958933914433205, 0.9958933914433205, 0.9958933914433205, 0.9966955137498842, 0.9966955137498842, 0.9966955137498842, 0.9966955137498842, 0.9966955137498842, 0.9974713668183179, 0.9974713668183179, 0.9974713668183179, 0.9974713668183179, 0.9974713668183179, 0.9974713668183179, 0.9974713668183179, 0.9974713668183179, 0.9974713668183179, 0.9974713668183179, 0.9974713668183179, 0.9974713668183179, 0.9974713668183179, 0.9974713668183179, 0.9974713668183179, 0.9974713668183179, 0.9974713668183179, 0.9974713668183179, 0.9974713668183179, 0.9974713668183179, 0.9974713668183179, 0.9974713668183179, 0.9974713668183179, 0.9974713668183179, 0.9974713668183179, 0.9974713668183179, 0.9974713668183179]}], \"matthews_correlation\": [{\"categories\": [\"0\", \"1\", \"2\", \"3\", \"4\", \"5\", \"6\", \"7\", \"8\", \"9\", \"10\", \"11\", \"12\", \"13\", \"14\", \"15\", \"16\", \"17\", \"18\", \"19\", \"20\", \"21\", \"22\", \"23\", \"24\", \"25\", \"26\", \"27\", \"28\", \"29\", \"30\", \"31\", \"32\", \"33\", \"34\", \"35\", \"36\", \"37\", \"38\", \"39\", \"40\", \"41\", \"42\", \"46\"], \"mode\": \"markers\", \"name\": \"matthews_correlation\", \"stepped\": false, \"type\": \"scatter\", \"data\": [0.9688776122561498, 0.9705000497600277, 0.9172414852949768, 0.745821648884875, 0.9612671366543205, 0.972548129958259, 0.9593072219427943, 0.972548129958259, 0.8788239452416259, 0.7918099581944701, 0.9557340285933673, 0.9492964312510948, 0.9648363209104135, 0.9692059637547462, 0.9380736736729407, 0.9526286606478097, 0.9593072219427943, 0.9632996005664913, 0.9652165789470023, 0.955735754021756, 0.9615366162124322, 0.9074723860966362, 0.865310491575701, 0.9652160455582367, 0.0, 0.9465950550300944, 0.9708053921004677, 0.9687446486555195, 0.9668047992653489, 0.974294825437617, 0.9669563835745193, 0.9690438260451756, 0.9706383223480685, 0.9581180938126196, 0.9541797628185472, 0.5317385673363695, 0.9541449236542737, 0.9668359051916496, 0.9689081468645138, 0.9611523837787995, 0.9707923587080242, 0.9743470085008669, 0.9688527687537288, 0.9760526205900636]}, {\"categories\": [\"0\", \"1\", \"2\", \"3\", \"4\", \"5\", \"6\", \"7\", \"8\", \"9\", \"10\", \"11\", \"12\", \"13\", \"14\", \"15\", \"16\", \"17\", \"18\", \"19\", \"20\", \"21\", \"22\", \"23\", \"24\", \"25\", \"26\", \"27\", \"28\", \"29\", \"30\", \"31\", \"32\", \"33\", \"34\", \"35\", \"36\", \"37\", \"38\", \"39\", \"40\", \"41\", \"42\", \"46\"], \"mode\": \"lines\", \"name\": \"matthews_correlation_max\", \"stepped\": true, \"type\": \"scatter\", \"data\": [0.9688776122561498, 0.9705000497600277, 0.9705000497600277, 0.9705000497600277, 0.9705000497600277, 0.972548129958259, 0.972548129958259, 0.972548129958259, 0.972548129958259, 0.972548129958259, 0.972548129958259, 0.972548129958259, 0.972548129958259, 0.972548129958259, 0.972548129958259, 0.972548129958259, 0.972548129958259, 0.972548129958259, 0.972548129958259, 0.972548129958259, 0.972548129958259, 0.972548129958259, 0.972548129958259, 0.972548129958259, 0.972548129958259, 0.972548129958259, 0.972548129958259, 0.972548129958259, 0.972548129958259, 0.974294825437617, 0.974294825437617, 0.974294825437617, 0.974294825437617, 0.974294825437617, 0.974294825437617, 0.974294825437617, 0.974294825437617, 0.974294825437617, 0.974294825437617, 0.974294825437617, 0.974294825437617, 0.9743470085008669, 0.9743470085008669, 0.9760526205900636]}], \"recall_score_macro\": [{\"categories\": [\"0\", \"1\", \"2\", \"3\", \"4\", \"5\", \"6\", \"7\", \"8\", \"9\", \"10\", \"11\", \"12\", \"13\", \"14\", \"15\", \"16\", \"17\", \"18\", \"19\", \"20\", \"21\", \"22\", \"23\", \"24\", \"25\", \"26\", \"27\", \"28\", \"29\", \"30\", \"31\", \"32\", \"33\", \"34\", \"35\", \"36\", \"37\", \"38\", \"39\", \"40\", \"41\", \"42\", \"46\"], \"mode\": \"markers\", \"name\": \"recall_score_macro\", \"stepped\": false, \"type\": \"scatter\", \"data\": [0.9773189915466461, 0.9772630474529116, 0.9111154412063626, 0.7219212318358429, 0.9716577471757243, 0.9825046590014429, 0.968922066876908, 0.9825046590014429, 0.8950495740818321, 0.7465870121264536, 0.9587013119082538, 0.9558418284224737, 0.9679816969950905, 0.9794055741336969, 0.9464018060792254, 0.9738671194355782, 0.968922066876908, 0.9685356722508822, 0.9714268287134672, 0.9585288738325901, 0.9670926708078807, 0.9029132474104012, 0.8761101801424381, 0.9729354966967895, 0.3333333333333333, 0.9495165983456602, 0.9749453915638271, 0.9730089767241866, 0.9727255300121684, 0.9793400624331524, 0.9816514117196243, 0.9735023901208257, 0.9761049462948104, 0.9777034402887058, 0.9733155847202029, 0.5037285295349812, 0.9559263176586054, 0.9725207169041293, 0.9746604912789268, 0.9630629861141701, 0.976095223848224, 0.9816397270019462, 0.979269542863101, 0.9807830638761539]}, {\"categories\": [\"0\", \"1\", \"2\", \"3\", \"4\", \"5\", \"6\", \"7\", \"8\", \"9\", \"10\", \"11\", \"12\", \"13\", \"14\", \"15\", \"16\", \"17\", \"18\", \"19\", \"20\", \"21\", \"22\", \"23\", \"24\", \"25\", \"26\", \"27\", \"28\", \"29\", \"30\", \"31\", \"32\", \"33\", \"34\", \"35\", \"36\", \"37\", \"38\", \"39\", \"40\", \"41\", \"42\", \"46\"], \"mode\": \"lines\", \"name\": \"recall_score_macro_max\", \"stepped\": true, \"type\": \"scatter\", \"data\": [0.9773189915466461, 0.9773189915466461, 0.9773189915466461, 0.9773189915466461, 0.9773189915466461, 0.9825046590014429, 0.9825046590014429, 0.9825046590014429, 0.9825046590014429, 0.9825046590014429, 0.9825046590014429, 0.9825046590014429, 0.9825046590014429, 0.9825046590014429, 0.9825046590014429, 0.9825046590014429, 0.9825046590014429, 0.9825046590014429, 0.9825046590014429, 0.9825046590014429, 0.9825046590014429, 0.9825046590014429, 0.9825046590014429, 0.9825046590014429, 0.9825046590014429, 0.9825046590014429, 0.9825046590014429, 0.9825046590014429, 0.9825046590014429, 0.9825046590014429, 0.9825046590014429, 0.9825046590014429, 0.9825046590014429, 0.9825046590014429, 0.9825046590014429, 0.9825046590014429, 0.9825046590014429, 0.9825046590014429, 0.9825046590014429, 0.9825046590014429, 0.9825046590014429, 0.9825046590014429, 0.9825046590014429, 0.9825046590014429]}]}, \"metricName\": null, \"primaryMetricName\": \"accuracy\", \"showLegend\": false}, \"run_metrics\": [{\"name\": \"experiment_status\", \"run_id\": \"AutoML_5fcf73f9-b3a9-4471-8dab-d7be02ded432\", \"categories\": [0, 1, 2, 3, 4, 5, 6, 7, 8, 9, 10, 11, 12, 13, 14], \"series\": [{\"data\": [\"DatasetEvaluation\", \"FeaturesGeneration\", \"DatasetFeaturization\", \"DatasetFeaturizationCompleted\", \"DatasetBalancing\", \"DatasetCrossValidationSplit\", \"ModelSelection\", \"BestRunExplainModel\", \"ModelExplanationDataSetSetup\", \"PickSurrogateModel\", \"EngineeredFeatureExplanations\", \"EngineeredFeatureExplanations\", \"RawFeaturesExplanations\", \"RawFeaturesExplanations\", \"BestRunExplainModel\"]}]}, {\"name\": \"experiment_status_description\", \"run_id\": \"AutoML_5fcf73f9-b3a9-4471-8dab-d7be02ded432\", \"categories\": [0, 1, 2, 3, 4, 5, 6, 7, 8, 9, 10, 11, 12, 13, 14], \"series\": [{\"data\": [\"Gathering dataset statistics.\", \"Generating features for the dataset.\", \"Beginning to fit featurizers and featurize the dataset.\", \"Completed fit featurizers and featurizing the dataset.\", \"Performing class balancing sweeping\", \"Generating individually featurized CV splits.\", \"Beginning model selection.\", \"Best run model explanations started\", \"Model explanations data setup completed\", \"Choosing LightGBM as the surrogate model for explanations\", \"Computation of engineered features started\", \"Computation of engineered features completed\", \"Computation of raw features started\", \"Computation of raw features completed\", \"Best run model explanations completed\"]}]}, {\"name\": \"AUC_macro\", \"run_id\": \"AutoML_5fcf73f9-b3a9-4471-8dab-d7be02ded432\", \"categories\": [0], \"series\": [{\"data\": [0.9964900719218578]}]}, {\"name\": \"f1_score_macro\", \"run_id\": \"AutoML_5fcf73f9-b3a9-4471-8dab-d7be02ded432\", \"categories\": [0], \"series\": [{\"data\": [0.985225746746595]}]}, {\"name\": \"precision_score_macro\", \"run_id\": \"AutoML_5fcf73f9-b3a9-4471-8dab-d7be02ded432\", \"categories\": [0], \"series\": [{\"data\": [0.9899026063438597]}]}, {\"name\": \"recall_score_macro\", \"run_id\": \"AutoML_5fcf73f9-b3a9-4471-8dab-d7be02ded432\", \"categories\": [0], \"series\": [{\"data\": [0.9807830638761539]}]}, {\"name\": \"weighted_accuracy\", \"run_id\": \"AutoML_5fcf73f9-b3a9-4471-8dab-d7be02ded432\", \"categories\": [0], \"series\": [{\"data\": [0.9967583708682911]}]}, {\"name\": \"recall_score_weighted\", \"run_id\": \"AutoML_5fcf73f9-b3a9-4471-8dab-d7be02ded432\", \"categories\": [0], \"series\": [{\"data\": [0.991263440860215]}]}, {\"name\": \"accuracy\", \"run_id\": \"AutoML_5fcf73f9-b3a9-4471-8dab-d7be02ded432\", \"categories\": [0], \"series\": [{\"data\": [0.991263440860215]}]}, {\"name\": \"average_precision_score_macro\", \"run_id\": \"AutoML_5fcf73f9-b3a9-4471-8dab-d7be02ded432\", \"categories\": [0], \"series\": [{\"data\": [0.9918091583926056]}]}, {\"name\": \"average_precision_score_weighted\", \"run_id\": \"AutoML_5fcf73f9-b3a9-4471-8dab-d7be02ded432\", \"categories\": [0], \"series\": [{\"data\": [0.9962432171930695]}]}, {\"name\": \"norm_macro_recall\", \"run_id\": \"AutoML_5fcf73f9-b3a9-4471-8dab-d7be02ded432\", \"categories\": [0], \"series\": [{\"data\": [0.9711745958142307]}]}, {\"name\": \"balanced_accuracy\", \"run_id\": \"AutoML_5fcf73f9-b3a9-4471-8dab-d7be02ded432\", \"categories\": [0], \"series\": [{\"data\": [0.9807830638761539]}]}, {\"name\": \"average_precision_score_micro\", \"run_id\": \"AutoML_5fcf73f9-b3a9-4471-8dab-d7be02ded432\", \"categories\": [0], \"series\": [{\"data\": [0.9974887689383705]}]}, {\"name\": \"recall_score_micro\", \"run_id\": \"AutoML_5fcf73f9-b3a9-4471-8dab-d7be02ded432\", \"categories\": [0], \"series\": [{\"data\": [0.991263440860215]}]}, {\"name\": \"precision_score_micro\", \"run_id\": \"AutoML_5fcf73f9-b3a9-4471-8dab-d7be02ded432\", \"categories\": [0], \"series\": [{\"data\": [0.991263440860215]}]}, {\"name\": \"precision_score_weighted\", \"run_id\": \"AutoML_5fcf73f9-b3a9-4471-8dab-d7be02ded432\", \"categories\": [0], \"series\": [{\"data\": [0.9912322061039364]}]}, {\"name\": \"f1_score_micro\", \"run_id\": \"AutoML_5fcf73f9-b3a9-4471-8dab-d7be02ded432\", \"categories\": [0], \"series\": [{\"data\": [0.991263440860215]}]}, {\"name\": \"matthews_correlation\", \"run_id\": \"AutoML_5fcf73f9-b3a9-4471-8dab-d7be02ded432\", \"categories\": [0], \"series\": [{\"data\": [0.9760526205900636]}]}, {\"name\": \"f1_score_weighted\", \"run_id\": \"AutoML_5fcf73f9-b3a9-4471-8dab-d7be02ded432\", \"categories\": [0], \"series\": [{\"data\": [0.9911929231825672]}]}, {\"name\": \"log_loss\", \"run_id\": \"AutoML_5fcf73f9-b3a9-4471-8dab-d7be02ded432\", \"categories\": [0], \"series\": [{\"data\": [0.04638241459450506]}]}, {\"name\": \"AUC_weighted\", \"run_id\": \"AutoML_5fcf73f9-b3a9-4471-8dab-d7be02ded432\", \"categories\": [0], \"series\": [{\"data\": [0.9966694186420187]}]}, {\"name\": \"AUC_micro\", \"run_id\": \"AutoML_5fcf73f9-b3a9-4471-8dab-d7be02ded432\", \"categories\": [0], \"series\": [{\"data\": [0.9986471069632327]}]}], \"run_logs\": \"\\nRun is completed.\", \"graph\": {}, \"widget_settings\": {\"childWidgetDisplay\": \"popup\", \"send_telemetry\": false, \"log_level\": \"INFO\", \"sdk_version\": \"1.19.0\"}, \"loading\": false}"
          },
          "metadata": {}
        },
        {
          "output_type": "execute_result",
          "execution_count": 29,
          "data": {
            "text/plain": "{'runId': 'AutoML_5fcf73f9-b3a9-4471-8dab-d7be02ded432',\n 'target': 'ctg-cluster',\n 'status': 'Completed',\n 'startTimeUtc': '2021-01-11T04:07:46.892771Z',\n 'endTimeUtc': '2021-01-11T04:26:03.502373Z',\n 'properties': {'num_iterations': '1000',\n  'training_type': 'TrainFull',\n  'acquisition_function': 'EI',\n  'primary_metric': 'accuracy',\n  'train_split': '0',\n  'acquisition_parameter': '0',\n  'num_cross_validation': '3',\n  'target': 'ctg-cluster',\n  'AMLSettingsJsonString': '{\"path\":null,\"name\":\"ctg_experiment\",\"subscription_id\":\"510b94ba-e453-4417-988b-fbdc37b55ca7\",\"resource_group\":\"aml-quickstarts-134289\",\"workspace_name\":\"quick-starts-ws-134289\",\"region\":\"southcentralus\",\"compute_target\":\"ctg-cluster\",\"spark_service\":null,\"azure_service\":\"remote\",\"many_models\":false,\"pipeline_fetch_max_batch_size\":1,\"iterations\":1000,\"primary_metric\":\"accuracy\",\"task_type\":\"classification\",\"data_script\":null,\"validation_size\":0.0,\"n_cross_validations\":3,\"y_min\":null,\"y_max\":null,\"num_classes\":null,\"featurization\":\"auto\",\"_ignore_package_version_incompatibilities\":false,\"is_timeseries\":false,\"max_cores_per_iteration\":-1,\"max_concurrent_iterations\":4,\"iteration_timeout_minutes\":5,\"mem_in_mb\":null,\"enforce_time_on_windows\":false,\"experiment_timeout_minutes\":30,\"experiment_exit_score\":null,\"whitelist_models\":null,\"blacklist_algos\":[\"TensorFlowLinearClassifier\",\"TensorFlowDNN\"],\"supported_models\":[\"LogisticRegression\",\"LightGBM\",\"BernoulliNaiveBayes\",\"TensorFlowDNN\",\"SGD\",\"MultinomialNaiveBayes\",\"DecisionTree\",\"RandomForest\",\"ExtremeRandomTrees\",\"KNN\",\"SVM\",\"AveragedPerceptronClassifier\",\"XGBoostClassifier\",\"GradientBoosting\",\"LinearSVM\",\"TensorFlowLinearClassifier\"],\"auto_blacklist\":true,\"blacklist_samples_reached\":false,\"exclude_nan_labels\":true,\"verbosity\":20,\"_debug_log\":\"azureml_automl.log\",\"show_warnings\":false,\"model_explainability\":true,\"service_url\":null,\"sdk_url\":null,\"sdk_packages\":null,\"enable_onnx_compatible_models\":true,\"enable_split_onnx_featurizer_estimator_models\":false,\"vm_type\":\"STANDARD_DS3_V2\",\"telemetry_verbosity\":20,\"send_telemetry\":true,\"enable_dnn\":false,\"scenario\":\"SDK-1.13.0\",\"environment_label\":null,\"force_text_dnn\":false,\"enable_feature_sweeping\":false,\"enable_early_stopping\":true,\"early_stopping_n_iters\":10,\"metrics\":null,\"enable_ensembling\":true,\"enable_stack_ensembling\":false,\"ensemble_iterations\":15,\"enable_tf\":false,\"enable_subsampling\":null,\"subsample_seed\":null,\"enable_nimbusml\":false,\"enable_streaming\":false,\"force_streaming\":false,\"track_child_runs\":true,\"allowed_private_models\":[],\"label_column_name\":\"NSP\",\"weight_column_name\":null,\"cv_split_column_names\":null,\"enable_local_managed\":false,\"_local_managed_run_id\":null,\"cost_mode\":1,\"lag_length\":0,\"metric_operation\":\"maximize\",\"preprocess\":true}',\n  'DataPrepJsonString': '{\\\\\"training_data\\\\\": \\\\\"{\\\\\\\\\\\\\"blocks\\\\\\\\\\\\\": [{\\\\\\\\\\\\\"id\\\\\\\\\\\\\": \\\\\\\\\\\\\"faa94cf3-5393-4f09-aaf2-a5f366af96a4\\\\\\\\\\\\\", \\\\\\\\\\\\\"type\\\\\\\\\\\\\": \\\\\\\\\\\\\"Microsoft.DPrep.GetDatastoreFilesBlock\\\\\\\\\\\\\", \\\\\\\\\\\\\"arguments\\\\\\\\\\\\\": {\\\\\\\\\\\\\"datastores\\\\\\\\\\\\\": [{\\\\\\\\\\\\\"datastoreName\\\\\\\\\\\\\": \\\\\\\\\\\\\"workspaceblobstore\\\\\\\\\\\\\", \\\\\\\\\\\\\"path\\\\\\\\\\\\\": \\\\\\\\\\\\\"ctgclassifier/train_data.csv\\\\\\\\\\\\\", \\\\\\\\\\\\\"resourceGroup\\\\\\\\\\\\\": \\\\\\\\\\\\\"aml-quickstarts-134289\\\\\\\\\\\\\", \\\\\\\\\\\\\"subscription\\\\\\\\\\\\\": \\\\\\\\\\\\\"510b94ba-e453-4417-988b-fbdc37b55ca7\\\\\\\\\\\\\", \\\\\\\\\\\\\"workspaceName\\\\\\\\\\\\\": \\\\\\\\\\\\\"quick-starts-ws-134289\\\\\\\\\\\\\"}]}, \\\\\\\\\\\\\"localData\\\\\\\\\\\\\": {}, \\\\\\\\\\\\\"isEnabled\\\\\\\\\\\\\": true, \\\\\\\\\\\\\"name\\\\\\\\\\\\\": null, \\\\\\\\\\\\\"annotation\\\\\\\\\\\\\": null}, {\\\\\\\\\\\\\"id\\\\\\\\\\\\\": \\\\\\\\\\\\\"a1998e80-b0b0-4a92-bdac-7397a39a9c1e\\\\\\\\\\\\\", \\\\\\\\\\\\\"type\\\\\\\\\\\\\": \\\\\\\\\\\\\"Microsoft.DPrep.ParseDelimitedBlock\\\\\\\\\\\\\", \\\\\\\\\\\\\"arguments\\\\\\\\\\\\\": {\\\\\\\\\\\\\"columnHeadersMode\\\\\\\\\\\\\": 3, \\\\\\\\\\\\\"fileEncoding\\\\\\\\\\\\\": 0, \\\\\\\\\\\\\"handleQuotedLineBreaks\\\\\\\\\\\\\": false, \\\\\\\\\\\\\"preview\\\\\\\\\\\\\": false, \\\\\\\\\\\\\"separator\\\\\\\\\\\\\": \\\\\\\\\\\\\",\\\\\\\\\\\\\", \\\\\\\\\\\\\"skipRows\\\\\\\\\\\\\": 0, \\\\\\\\\\\\\"skipRowsMode\\\\\\\\\\\\\": 0}, \\\\\\\\\\\\\"localData\\\\\\\\\\\\\": {}, \\\\\\\\\\\\\"isEnabled\\\\\\\\\\\\\": true, \\\\\\\\\\\\\"name\\\\\\\\\\\\\": null, \\\\\\\\\\\\\"annotation\\\\\\\\\\\\\": null}, {\\\\\\\\\\\\\"id\\\\\\\\\\\\\": \\\\\\\\\\\\\"63214071-551e-4c39-bb3d-44e3e16dced3\\\\\\\\\\\\\", \\\\\\\\\\\\\"type\\\\\\\\\\\\\": \\\\\\\\\\\\\"Microsoft.DPrep.DropColumnsBlock\\\\\\\\\\\\\", \\\\\\\\\\\\\"arguments\\\\\\\\\\\\\": {\\\\\\\\\\\\\"columns\\\\\\\\\\\\\": {\\\\\\\\\\\\\"type\\\\\\\\\\\\\": 0, \\\\\\\\\\\\\"details\\\\\\\\\\\\\": {\\\\\\\\\\\\\"selectedColumns\\\\\\\\\\\\\": [\\\\\\\\\\\\\"Path\\\\\\\\\\\\\"]}}}, \\\\\\\\\\\\\"localData\\\\\\\\\\\\\": {}, \\\\\\\\\\\\\"isEnabled\\\\\\\\\\\\\": true, \\\\\\\\\\\\\"name\\\\\\\\\\\\\": null, \\\\\\\\\\\\\"annotation\\\\\\\\\\\\\": null}, {\\\\\\\\\\\\\"id\\\\\\\\\\\\\": \\\\\\\\\\\\\"593fd8f8-07e6-46e2-a9e3-dca92c0ac380\\\\\\\\\\\\\", \\\\\\\\\\\\\"type\\\\\\\\\\\\\": \\\\\\\\\\\\\"Microsoft.DPrep.SetColumnTypesBlock\\\\\\\\\\\\\", \\\\\\\\\\\\\"arguments\\\\\\\\\\\\\": {\\\\\\\\\\\\\"columnConversion\\\\\\\\\\\\\": [{\\\\\\\\\\\\\"column\\\\\\\\\\\\\": {\\\\\\\\\\\\\"type\\\\\\\\\\\\\": 2, \\\\\\\\\\\\\"details\\\\\\\\\\\\\": {\\\\\\\\\\\\\"selectedColumn\\\\\\\\\\\\\": \\\\\\\\\\\\\"b\\\\\\\\\\\\\"}}, \\\\\\\\\\\\\"typeProperty\\\\\\\\\\\\\": 2}, {\\\\\\\\\\\\\"column\\\\\\\\\\\\\": {\\\\\\\\\\\\\"type\\\\\\\\\\\\\": 2, \\\\\\\\\\\\\"details\\\\\\\\\\\\\": {\\\\\\\\\\\\\"selectedColumn\\\\\\\\\\\\\": \\\\\\\\\\\\\"e\\\\\\\\\\\\\"}}, \\\\\\\\\\\\\"typeProperty\\\\\\\\\\\\\": 2}, {\\\\\\\\\\\\\"column\\\\\\\\\\\\\": {\\\\\\\\\\\\\"type\\\\\\\\\\\\\": 2, \\\\\\\\\\\\\"details\\\\\\\\\\\\\": {\\\\\\\\\\\\\"selectedColumn\\\\\\\\\\\\\": \\\\\\\\\\\\\"LBE\\\\\\\\\\\\\"}}, \\\\\\\\\\\\\"typeProperty\\\\\\\\\\\\\": 2}, {\\\\\\\\\\\\\"column\\\\\\\\\\\\\": {\\\\\\\\\\\\\"type\\\\\\\\\\\\\": 2, \\\\\\\\\\\\\"details\\\\\\\\\\\\\": {\\\\\\\\\\\\\"selectedColumn\\\\\\\\\\\\\": \\\\\\\\\\\\\"LB\\\\\\\\\\\\\"}}, \\\\\\\\\\\\\"typeProperty\\\\\\\\\\\\\": 2}, {\\\\\\\\\\\\\"column\\\\\\\\\\\\\": {\\\\\\\\\\\\\"type\\\\\\\\\\\\\": 2, \\\\\\\\\\\\\"details\\\\\\\\\\\\\": {\\\\\\\\\\\\\"selectedColumn\\\\\\\\\\\\\": \\\\\\\\\\\\\"AC\\\\\\\\\\\\\"}}, \\\\\\\\\\\\\"typeProperty\\\\\\\\\\\\\": 2}, {\\\\\\\\\\\\\"column\\\\\\\\\\\\\": {\\\\\\\\\\\\\"type\\\\\\\\\\\\\": 2, \\\\\\\\\\\\\"details\\\\\\\\\\\\\": {\\\\\\\\\\\\\"selectedColumn\\\\\\\\\\\\\": \\\\\\\\\\\\\"FM\\\\\\\\\\\\\"}}, \\\\\\\\\\\\\"typeProperty\\\\\\\\\\\\\": 2}, {\\\\\\\\\\\\\"column\\\\\\\\\\\\\": {\\\\\\\\\\\\\"type\\\\\\\\\\\\\": 2, \\\\\\\\\\\\\"details\\\\\\\\\\\\\": {\\\\\\\\\\\\\"selectedColumn\\\\\\\\\\\\\": \\\\\\\\\\\\\"UC\\\\\\\\\\\\\"}}, \\\\\\\\\\\\\"typeProperty\\\\\\\\\\\\\": 2}, {\\\\\\\\\\\\\"column\\\\\\\\\\\\\": {\\\\\\\\\\\\\"type\\\\\\\\\\\\\": 2, \\\\\\\\\\\\\"details\\\\\\\\\\\\\": {\\\\\\\\\\\\\"selectedColumn\\\\\\\\\\\\\": \\\\\\\\\\\\\"ASTV\\\\\\\\\\\\\"}}, \\\\\\\\\\\\\"typeProperty\\\\\\\\\\\\\": 2}, {\\\\\\\\\\\\\"column\\\\\\\\\\\\\": {\\\\\\\\\\\\\"type\\\\\\\\\\\\\": 2, \\\\\\\\\\\\\"details\\\\\\\\\\\\\": {\\\\\\\\\\\\\"selectedColumn\\\\\\\\\\\\\": \\\\\\\\\\\\\"MSTV\\\\\\\\\\\\\"}}, \\\\\\\\\\\\\"typeProperty\\\\\\\\\\\\\": 3}, {\\\\\\\\\\\\\"column\\\\\\\\\\\\\": {\\\\\\\\\\\\\"type\\\\\\\\\\\\\": 2, \\\\\\\\\\\\\"details\\\\\\\\\\\\\": {\\\\\\\\\\\\\"selectedColumn\\\\\\\\\\\\\": \\\\\\\\\\\\\"ALTV\\\\\\\\\\\\\"}}, \\\\\\\\\\\\\"typeProperty\\\\\\\\\\\\\": 2}, {\\\\\\\\\\\\\"column\\\\\\\\\\\\\": {\\\\\\\\\\\\\"type\\\\\\\\\\\\\": 2, \\\\\\\\\\\\\"details\\\\\\\\\\\\\": {\\\\\\\\\\\\\"selectedColumn\\\\\\\\\\\\\": \\\\\\\\\\\\\"MLTV\\\\\\\\\\\\\"}}, \\\\\\\\\\\\\"typeProperty\\\\\\\\\\\\\": 3}, {\\\\\\\\\\\\\"column\\\\\\\\\\\\\": {\\\\\\\\\\\\\"type\\\\\\\\\\\\\": 2, \\\\\\\\\\\\\"details\\\\\\\\\\\\\": {\\\\\\\\\\\\\"selectedColumn\\\\\\\\\\\\\": \\\\\\\\\\\\\"DL\\\\\\\\\\\\\"}}, \\\\\\\\\\\\\"typeProperty\\\\\\\\\\\\\": 2}, {\\\\\\\\\\\\\"column\\\\\\\\\\\\\": {\\\\\\\\\\\\\"type\\\\\\\\\\\\\": 2, \\\\\\\\\\\\\"details\\\\\\\\\\\\\": {\\\\\\\\\\\\\"selectedColumn\\\\\\\\\\\\\": \\\\\\\\\\\\\"DS\\\\\\\\\\\\\"}}, \\\\\\\\\\\\\"typeProperty\\\\\\\\\\\\\": 2}, {\\\\\\\\\\\\\"column\\\\\\\\\\\\\": {\\\\\\\\\\\\\"type\\\\\\\\\\\\\": 2, \\\\\\\\\\\\\"details\\\\\\\\\\\\\": {\\\\\\\\\\\\\"selectedColumn\\\\\\\\\\\\\": \\\\\\\\\\\\\"DP\\\\\\\\\\\\\"}}, \\\\\\\\\\\\\"typeProperty\\\\\\\\\\\\\": 2}, {\\\\\\\\\\\\\"column\\\\\\\\\\\\\": {\\\\\\\\\\\\\"type\\\\\\\\\\\\\": 2, \\\\\\\\\\\\\"details\\\\\\\\\\\\\": {\\\\\\\\\\\\\"selectedColumn\\\\\\\\\\\\\": \\\\\\\\\\\\\"DR\\\\\\\\\\\\\"}}, \\\\\\\\\\\\\"typeProperty\\\\\\\\\\\\\": 2}, {\\\\\\\\\\\\\"column\\\\\\\\\\\\\": {\\\\\\\\\\\\\"type\\\\\\\\\\\\\": 2, \\\\\\\\\\\\\"details\\\\\\\\\\\\\": {\\\\\\\\\\\\\"selectedColumn\\\\\\\\\\\\\": \\\\\\\\\\\\\"Width\\\\\\\\\\\\\"}}, \\\\\\\\\\\\\"typeProperty\\\\\\\\\\\\\": 2}, {\\\\\\\\\\\\\"column\\\\\\\\\\\\\": {\\\\\\\\\\\\\"type\\\\\\\\\\\\\": 2, \\\\\\\\\\\\\"details\\\\\\\\\\\\\": {\\\\\\\\\\\\\"selectedColumn\\\\\\\\\\\\\": \\\\\\\\\\\\\"Min\\\\\\\\\\\\\"}}, \\\\\\\\\\\\\"typeProperty\\\\\\\\\\\\\": 2}, {\\\\\\\\\\\\\"column\\\\\\\\\\\\\": {\\\\\\\\\\\\\"type\\\\\\\\\\\\\": 2, \\\\\\\\\\\\\"details\\\\\\\\\\\\\": {\\\\\\\\\\\\\"selectedColumn\\\\\\\\\\\\\": \\\\\\\\\\\\\"Max\\\\\\\\\\\\\"}}, \\\\\\\\\\\\\"typeProperty\\\\\\\\\\\\\": 2}, {\\\\\\\\\\\\\"column\\\\\\\\\\\\\": {\\\\\\\\\\\\\"type\\\\\\\\\\\\\": 2, \\\\\\\\\\\\\"details\\\\\\\\\\\\\": {\\\\\\\\\\\\\"selectedColumn\\\\\\\\\\\\\": \\\\\\\\\\\\\"Nmax\\\\\\\\\\\\\"}}, \\\\\\\\\\\\\"typeProperty\\\\\\\\\\\\\": 2}, {\\\\\\\\\\\\\"column\\\\\\\\\\\\\": {\\\\\\\\\\\\\"type\\\\\\\\\\\\\": 2, \\\\\\\\\\\\\"details\\\\\\\\\\\\\": {\\\\\\\\\\\\\"selectedColumn\\\\\\\\\\\\\": \\\\\\\\\\\\\"Nzeros\\\\\\\\\\\\\"}}, \\\\\\\\\\\\\"typeProperty\\\\\\\\\\\\\": 2}, {\\\\\\\\\\\\\"column\\\\\\\\\\\\\": {\\\\\\\\\\\\\"type\\\\\\\\\\\\\": 2, \\\\\\\\\\\\\"details\\\\\\\\\\\\\": {\\\\\\\\\\\\\"selectedColumn\\\\\\\\\\\\\": \\\\\\\\\\\\\"Mode\\\\\\\\\\\\\"}}, \\\\\\\\\\\\\"typeProperty\\\\\\\\\\\\\": 2}, {\\\\\\\\\\\\\"column\\\\\\\\\\\\\": {\\\\\\\\\\\\\"type\\\\\\\\\\\\\": 2, \\\\\\\\\\\\\"details\\\\\\\\\\\\\": {\\\\\\\\\\\\\"selectedColumn\\\\\\\\\\\\\": \\\\\\\\\\\\\"Mean\\\\\\\\\\\\\"}}, \\\\\\\\\\\\\"typeProperty\\\\\\\\\\\\\": 2}, {\\\\\\\\\\\\\"column\\\\\\\\\\\\\": {\\\\\\\\\\\\\"type\\\\\\\\\\\\\": 2, \\\\\\\\\\\\\"details\\\\\\\\\\\\\": {\\\\\\\\\\\\\"selectedColumn\\\\\\\\\\\\\": \\\\\\\\\\\\\"Median\\\\\\\\\\\\\"}}, \\\\\\\\\\\\\"typeProperty\\\\\\\\\\\\\": 2}, {\\\\\\\\\\\\\"column\\\\\\\\\\\\\": {\\\\\\\\\\\\\"type\\\\\\\\\\\\\": 2, \\\\\\\\\\\\\"details\\\\\\\\\\\\\": {\\\\\\\\\\\\\"selectedColumn\\\\\\\\\\\\\": \\\\\\\\\\\\\"Variance\\\\\\\\\\\\\"}}, \\\\\\\\\\\\\"typeProperty\\\\\\\\\\\\\": 2}, {\\\\\\\\\\\\\"column\\\\\\\\\\\\\": {\\\\\\\\\\\\\"type\\\\\\\\\\\\\": 2, \\\\\\\\\\\\\"details\\\\\\\\\\\\\": {\\\\\\\\\\\\\"selectedColumn\\\\\\\\\\\\\": \\\\\\\\\\\\\"Tendency\\\\\\\\\\\\\"}}, \\\\\\\\\\\\\"typeProperty\\\\\\\\\\\\\": 2}, {\\\\\\\\\\\\\"column\\\\\\\\\\\\\": {\\\\\\\\\\\\\"type\\\\\\\\\\\\\": 2, \\\\\\\\\\\\\"details\\\\\\\\\\\\\": {\\\\\\\\\\\\\"selectedColumn\\\\\\\\\\\\\": \\\\\\\\\\\\\"A\\\\\\\\\\\\\"}}, \\\\\\\\\\\\\"typeProperty\\\\\\\\\\\\\": 2}, {\\\\\\\\\\\\\"column\\\\\\\\\\\\\": {\\\\\\\\\\\\\"type\\\\\\\\\\\\\": 2, \\\\\\\\\\\\\"details\\\\\\\\\\\\\": {\\\\\\\\\\\\\"selectedColumn\\\\\\\\\\\\\": \\\\\\\\\\\\\"B\\\\\\\\\\\\\"}}, \\\\\\\\\\\\\"typeProperty\\\\\\\\\\\\\": 2}, {\\\\\\\\\\\\\"column\\\\\\\\\\\\\": {\\\\\\\\\\\\\"type\\\\\\\\\\\\\": 2, \\\\\\\\\\\\\"details\\\\\\\\\\\\\": {\\\\\\\\\\\\\"selectedColumn\\\\\\\\\\\\\": \\\\\\\\\\\\\"C\\\\\\\\\\\\\"}}, \\\\\\\\\\\\\"typeProperty\\\\\\\\\\\\\": 2}, {\\\\\\\\\\\\\"column\\\\\\\\\\\\\": {\\\\\\\\\\\\\"type\\\\\\\\\\\\\": 2, \\\\\\\\\\\\\"details\\\\\\\\\\\\\": {\\\\\\\\\\\\\"selectedColumn\\\\\\\\\\\\\": \\\\\\\\\\\\\"D\\\\\\\\\\\\\"}}, \\\\\\\\\\\\\"typeProperty\\\\\\\\\\\\\": 2}, {\\\\\\\\\\\\\"column\\\\\\\\\\\\\": {\\\\\\\\\\\\\"type\\\\\\\\\\\\\": 2, \\\\\\\\\\\\\"details\\\\\\\\\\\\\": {\\\\\\\\\\\\\"selectedColumn\\\\\\\\\\\\\": \\\\\\\\\\\\\"E\\\\\\\\\\\\\"}}, \\\\\\\\\\\\\"typeProperty\\\\\\\\\\\\\": 2}, {\\\\\\\\\\\\\"column\\\\\\\\\\\\\": {\\\\\\\\\\\\\"type\\\\\\\\\\\\\": 2, \\\\\\\\\\\\\"details\\\\\\\\\\\\\": {\\\\\\\\\\\\\"selectedColumn\\\\\\\\\\\\\": \\\\\\\\\\\\\"AD\\\\\\\\\\\\\"}}, \\\\\\\\\\\\\"typeProperty\\\\\\\\\\\\\": 2}, {\\\\\\\\\\\\\"column\\\\\\\\\\\\\": {\\\\\\\\\\\\\"type\\\\\\\\\\\\\": 2, \\\\\\\\\\\\\"details\\\\\\\\\\\\\": {\\\\\\\\\\\\\"selectedColumn\\\\\\\\\\\\\": \\\\\\\\\\\\\"DE\\\\\\\\\\\\\"}}, \\\\\\\\\\\\\"typeProperty\\\\\\\\\\\\\": 2}, {\\\\\\\\\\\\\"column\\\\\\\\\\\\\": {\\\\\\\\\\\\\"type\\\\\\\\\\\\\": 2, \\\\\\\\\\\\\"details\\\\\\\\\\\\\": {\\\\\\\\\\\\\"selectedColumn\\\\\\\\\\\\\": \\\\\\\\\\\\\"LD\\\\\\\\\\\\\"}}, \\\\\\\\\\\\\"typeProperty\\\\\\\\\\\\\": 2}, {\\\\\\\\\\\\\"column\\\\\\\\\\\\\": {\\\\\\\\\\\\\"type\\\\\\\\\\\\\": 2, \\\\\\\\\\\\\"details\\\\\\\\\\\\\": {\\\\\\\\\\\\\"selectedColumn\\\\\\\\\\\\\": \\\\\\\\\\\\\"FS\\\\\\\\\\\\\"}}, \\\\\\\\\\\\\"typeProperty\\\\\\\\\\\\\": 2}, {\\\\\\\\\\\\\"column\\\\\\\\\\\\\": {\\\\\\\\\\\\\"type\\\\\\\\\\\\\": 2, \\\\\\\\\\\\\"details\\\\\\\\\\\\\": {\\\\\\\\\\\\\"selectedColumn\\\\\\\\\\\\\": \\\\\\\\\\\\\"SUSP\\\\\\\\\\\\\"}}, \\\\\\\\\\\\\"typeProperty\\\\\\\\\\\\\": 2}, {\\\\\\\\\\\\\"column\\\\\\\\\\\\\": {\\\\\\\\\\\\\"type\\\\\\\\\\\\\": 2, \\\\\\\\\\\\\"details\\\\\\\\\\\\\": {\\\\\\\\\\\\\"selectedColumn\\\\\\\\\\\\\": \\\\\\\\\\\\\"CLASS\\\\\\\\\\\\\"}}, \\\\\\\\\\\\\"typeProperty\\\\\\\\\\\\\": 2}, {\\\\\\\\\\\\\"column\\\\\\\\\\\\\": {\\\\\\\\\\\\\"type\\\\\\\\\\\\\": 2, \\\\\\\\\\\\\"details\\\\\\\\\\\\\": {\\\\\\\\\\\\\"selectedColumn\\\\\\\\\\\\\": \\\\\\\\\\\\\"NSP\\\\\\\\\\\\\"}}, \\\\\\\\\\\\\"typeProperty\\\\\\\\\\\\\": 2}]}, \\\\\\\\\\\\\"localData\\\\\\\\\\\\\": {}, \\\\\\\\\\\\\"isEnabled\\\\\\\\\\\\\": true, \\\\\\\\\\\\\"name\\\\\\\\\\\\\": null, \\\\\\\\\\\\\"annotation\\\\\\\\\\\\\": null}], \\\\\\\\\\\\\"inspectors\\\\\\\\\\\\\": [], \\\\\\\\\\\\\"meta\\\\\\\\\\\\\": {\\\\\\\\\\\\\"savedDatasetId\\\\\\\\\\\\\": \\\\\\\\\\\\\"9fe2e185-c4a3-412f-8386-6e27231d1f5a\\\\\\\\\\\\\", \\\\\\\\\\\\\"datasetType\\\\\\\\\\\\\": \\\\\\\\\\\\\"tabular\\\\\\\\\\\\\", \\\\\\\\\\\\\"subscriptionId\\\\\\\\\\\\\": \\\\\\\\\\\\\"510b94ba-e453-4417-988b-fbdc37b55ca7\\\\\\\\\\\\\", \\\\\\\\\\\\\"workspaceId\\\\\\\\\\\\\": \\\\\\\\\\\\\"24c2477d-b060-4140-9e09-3f0b653e8c7e\\\\\\\\\\\\\", \\\\\\\\\\\\\"workspaceLocation\\\\\\\\\\\\\": \\\\\\\\\\\\\"southcentralus\\\\\\\\\\\\\"}}\\\\\", \\\\\"activities\\\\\": 0}',\n  'EnableSubsampling': None,\n  'runTemplate': 'AutoML',\n  'azureml.runsource': 'automl',\n  'display_task_type': 'classification',\n  'dependencies_versions': '{\"azureml-widgets\": \"1.19.0\", \"azureml-train\": \"1.19.0\", \"azureml-train-restclients-hyperdrive\": \"1.19.0\", \"azureml-train-core\": \"1.19.0\", \"azureml-train-automl\": \"1.19.0\", \"azureml-train-automl-runtime\": \"1.19.0\", \"azureml-train-automl-client\": \"1.19.0\", \"azureml-tensorboard\": \"1.19.0\", \"azureml-telemetry\": \"1.19.0\", \"azureml-sdk\": \"1.19.0\", \"azureml-samples\": \"0+unknown\", \"azureml-pipeline\": \"1.19.0\", \"azureml-pipeline-steps\": \"1.19.0\", \"azureml-pipeline-core\": \"1.19.0\", \"azureml-opendatasets\": \"1.19.0\", \"azureml-model-management-sdk\": \"1.0.1b6.post1\", \"azureml-mlflow\": \"1.19.0\", \"azureml-interpret\": \"1.19.0\", \"azureml-explain-model\": \"1.19.0\", \"azureml-defaults\": \"1.19.0\", \"azureml-dataset-runtime\": \"1.19.0\", \"azureml-dataprep\": \"2.6.1\", \"azureml-dataprep-rslex\": \"1.4.0\", \"azureml-dataprep-native\": \"26.0.0\", \"azureml-datadrift\": \"1.19.0\", \"azureml-core\": \"1.19.0\", \"azureml-contrib-services\": \"1.19.0\", \"azureml-contrib-server\": \"1.19.0\", \"azureml-contrib-reinforcementlearning\": \"1.19.0\", \"azureml-contrib-pipeline-steps\": \"1.19.0\", \"azureml-contrib-notebook\": \"1.19.0\", \"azureml-contrib-interpret\": \"1.19.0\", \"azureml-contrib-gbdt\": \"1.19.0\", \"azureml-contrib-fairness\": \"1.19.0\", \"azureml-contrib-dataset\": \"1.19.0\", \"azureml-cli-common\": \"1.19.0\", \"azureml-automl-runtime\": \"1.19.0\", \"azureml-automl-core\": \"1.19.0\", \"azureml-accel-models\": \"1.19.0\"}',\n  '_aml_system_scenario_identification': 'Remote.Parent',\n  'ClientType': 'SDK',\n  'environment_cpu_name': 'AzureML-AutoML',\n  'environment_cpu_label': 'prod',\n  'environment_gpu_name': 'AzureML-AutoML-GPU',\n  'environment_gpu_label': 'prod',\n  'root_attribution': 'automl',\n  'attribution': 'AutoML',\n  'Orchestrator': 'AutoML',\n  'CancelUri': 'https://southcentralus.experiments.azureml.net/jasmine/v1.0/subscriptions/510b94ba-e453-4417-988b-fbdc37b55ca7/resourceGroups/aml-quickstarts-134289/providers/Microsoft.MachineLearningServices/workspaces/quick-starts-ws-134289/experimentids/24431ab2-ef3c-4ee8-b911-b874dfc15115/cancel/AutoML_5fcf73f9-b3a9-4471-8dab-d7be02ded432',\n  'ClientSdkVersion': '1.19.0',\n  'snapshotId': '00000000-0000-0000-0000-000000000000',\n  'SetupRunId': 'AutoML_5fcf73f9-b3a9-4471-8dab-d7be02ded432_setup',\n  'SetupRunContainerId': 'dcid.AutoML_5fcf73f9-b3a9-4471-8dab-d7be02ded432_setup',\n  'FeaturizationRunJsonPath': 'featurizer_container.json',\n  'FeaturizationRunId': 'AutoML_5fcf73f9-b3a9-4471-8dab-d7be02ded432_featurize',\n  'ProblemInfoJsonString': '{\"dataset_num_categorical\": 0, \"is_sparse\": false, \"subsampling\": false, \"dataset_classes\": 3, \"dataset_features\": 35, \"dataset_samples\": 1488, \"single_frequency_class_detected\": false}',\n  'ModelExplainRunId': 'AutoML_5fcf73f9-b3a9-4471-8dab-d7be02ded432_ModelExplain'},\n 'inputDatasets': [{'dataset': {'id': '9fe2e185-c4a3-412f-8386-6e27231d1f5a'}, 'consumptionDetails': {'type': 'RunInput', 'inputName': 'training_data', 'mechanism': 'Direct'}}],\n 'outputDatasets': [],\n 'logFiles': {}}"
          },
          "metadata": {}
        }
      ],
      "execution_count": 29,
      "metadata": {
        "colab": {
          "referenced_widgets": [
            "65277b8df79f48aaa6ef64b916fa21b6",
            "7c88ea935c294128bbb1c1c07e6003a7",
            "0dd0ed3b4cac43c2af4af6d4164b19ef"
          ]
        },
        "gather": {
          "logged": 1610339212877
        },
        "id": "bOY8tYz-3NPN",
        "jupyter": {
          "outputs_hidden": false,
          "source_hidden": false
        },
        "nteract": {
          "transient": {
            "deleting": false
          }
        },
        "outputId": "4b9f650d-9a31-4ebb-e2ff-40c1dea88366"
      }
    },
    {
      "cell_type": "markdown",
      "source": [
        "## Best Model\n",
        "\n",
        "TODO: In the cell below, get the best model from the automl experiments and display all the properties of the model.\n",
        "\n"
      ],
      "metadata": {
        "id": "2KAMFlhO3NPN"
      }
    },
    {
      "cell_type": "code",
      "source": [
        "# Retrieve the best automl run model\n",
        "best_automl_run, fitted_automl_model = automl_run.get_output()\n",
        "print('Best AutoML run: ', best_automl_run)\n",
        "print('Best AutoML model :', fitted_automl_model)\n",
        "\n",
        "# get best model and display properties\n",
        "model_name = best_automl_run.properties['model_name']\n",
        "print('Best_model name: ', model_name)\n",
        "\n",
        "# display all the properties of the best model\n",
        "best_automl_run.get_properties()"
      ],
      "outputs": [
        {
          "output_type": "stream",
          "name": "stdout",
          "text": [
            "Best AutoML run:  Run(Experiment: ctg_experiment,\n",
            "Id: AutoML_5fcf73f9-b3a9-4471-8dab-d7be02ded432_46,\n",
            "Type: azureml.scriptrun,\n",
            "Status: Completed)\n",
            "Best AutoML model : Pipeline(memory=None,\n",
            "         steps=[('datatransformer',\n",
            "                 DataTransformer(enable_dnn=None, enable_feature_sweeping=None,\n",
            "                                 feature_sweeping_config=None,\n",
            "                                 feature_sweeping_timeout=None,\n",
            "                                 featurization_config=None, force_text_dnn=None,\n",
            "                                 is_cross_validation=None,\n",
            "                                 is_onnx_compatible=None, logger=None,\n",
            "                                 observer=None, task=None, working_dir=None)),\n",
            "                ('prefittedsoftvotingclassifier',...\n",
            "                                                                                                num_leaves=2,\n",
            "                                                                                                objective=None,\n",
            "                                                                                                random_state=None,\n",
            "                                                                                                reg_alpha=0.47368421052631576,\n",
            "                                                                                                reg_lambda=0.05263157894736842,\n",
            "                                                                                                silent=True,\n",
            "                                                                                                subsample=1,\n",
            "                                                                                                subsample_for_bin=200000,\n",
            "                                                                                                subsample_freq=0,\n",
            "                                                                                                verbose=-10))],\n",
            "                                                                     verbose=False))],\n",
            "                                               flatten_transform=None,\n",
            "                                               weights=[0.16666666666666666,\n",
            "                                                        0.3333333333333333,\n",
            "                                                        0.16666666666666666,\n",
            "                                                        0.16666666666666666,\n",
            "                                                        0.16666666666666666]))],\n",
            "         verbose=False)\n",
            "Best_model name:  AutoML5fcf73f9b46\n"
          ]
        },
        {
          "output_type": "execute_result",
          "execution_count": 30,
          "data": {
            "text/plain": "{'runTemplate': 'automl_child',\n 'pipeline_id': '__AutoML_Ensemble__',\n 'pipeline_spec': '{\"pipeline_id\":\"__AutoML_Ensemble__\",\"objects\":[{\"module\":\"azureml.train.automl.ensemble\",\"class_name\":\"Ensemble\",\"spec_class\":\"sklearn\",\"param_args\":[],\"param_kwargs\":{\"automl_settings\":\"{\\'task_type\\':\\'classification\\',\\'primary_metric\\':\\'accuracy\\',\\'verbosity\\':20,\\'ensemble_iterations\\':15,\\'is_timeseries\\':False,\\'name\\':\\'ctg_experiment\\',\\'compute_target\\':\\'ctg-cluster\\',\\'subscription_id\\':\\'510b94ba-e453-4417-988b-fbdc37b55ca7\\',\\'region\\':\\'southcentralus\\',\\'spark_service\\':None}\",\"ensemble_run_id\":\"AutoML_5fcf73f9-b3a9-4471-8dab-d7be02ded432_46\",\"experiment_name\":\"ctg_experiment\",\"workspace_name\":\"quick-starts-ws-134289\",\"subscription_id\":\"510b94ba-e453-4417-988b-fbdc37b55ca7\",\"resource_group_name\":\"aml-quickstarts-134289\"}}]}',\n 'training_percent': '100',\n 'predicted_cost': None,\n 'iteration': '46',\n '_aml_system_scenario_identification': 'Remote.Child',\n '_azureml.ComputeTargetType': 'amlcompute',\n 'ContentSnapshotId': '77aad6d9-9a2f-4829-87e8-045524bf2b10',\n 'ProcessInfoFile': 'azureml-logs/process_info.json',\n 'ProcessStatusFile': 'azureml-logs/process_status.json',\n 'run_template': 'automl_child',\n 'run_preprocessor': '',\n 'run_algorithm': 'VotingEnsemble',\n 'conda_env_data_location': 'aml://artifact/ExperimentRun/dcid.AutoML_5fcf73f9-b3a9-4471-8dab-d7be02ded432_46/outputs/conda_env_v_1_0_0.yml',\n 'model_data_location': 'aml://artifact/ExperimentRun/dcid.AutoML_5fcf73f9-b3a9-4471-8dab-d7be02ded432_46/outputs/model.pkl',\n 'model_size_on_disk': '536793',\n 'scoring_data_location': 'aml://artifact/ExperimentRun/dcid.AutoML_5fcf73f9-b3a9-4471-8dab-d7be02ded432_46/outputs/scoring_file_v_1_0_0.py',\n 'model_exp_support': 'True',\n 'pipeline_graph_version': '1.0.0',\n 'model_name': 'AutoML5fcf73f9b46',\n 'staticProperties': '{}',\n 'score': '0.991263440860215',\n 'run_properties': \"classification_labels=None,\\n                              estimators=[('41',\\n                                           Pipeline(memory=None,\\n                                                    steps=[('maxabsscaler',\\n                                                            MaxAbsScaler(copy=True\",\n 'pipeline_script': '{\"pipeline_id\":\"__AutoML_Ensemble__\",\"objects\":[{\"module\":\"azureml.train.automl.ensemble\",\"class_name\":\"Ensemble\",\"spec_class\":\"sklearn\",\"param_args\":[],\"param_kwargs\":{\"automl_settings\":\"{\\'task_type\\':\\'classification\\',\\'primary_metric\\':\\'accuracy\\',\\'verbosity\\':20,\\'ensemble_iterations\\':15,\\'is_timeseries\\':False,\\'name\\':\\'ctg_experiment\\',\\'compute_target\\':\\'ctg-cluster\\',\\'subscription_id\\':\\'510b94ba-e453-4417-988b-fbdc37b55ca7\\',\\'region\\':\\'southcentralus\\',\\'spark_service\\':None}\",\"ensemble_run_id\":\"AutoML_5fcf73f9-b3a9-4471-8dab-d7be02ded432_46\",\"experiment_name\":\"ctg_experiment\",\"workspace_name\":\"quick-starts-ws-134289\",\"subscription_id\":\"510b94ba-e453-4417-988b-fbdc37b55ca7\",\"resource_group_name\":\"aml-quickstarts-134289\"}}]}',\n 'training_type': 'MeanCrossValidation',\n 'num_classes': '',\n 'framework': 'sklearn',\n 'fit_time': '28',\n 'goal': 'accuracy_max',\n 'class_labels': '',\n 'primary_metric': 'accuracy',\n 'errors': '{}',\n 'fitted_pipeline': \"Pipeline(memory=None,\\n         steps=[('datatransformer',\\n                 DataTransformer(enable_dnn=None, enable_feature_sweeping=None,\\n                                 feature_sweeping_config=None,\\n                                 feature_sweeping_timeout=None,\\n                                 featurization_config=None, force_text_dnn=None,\\n                                 is_cross_validation=None,\\n                                 is_onnx_compatible=None, logger=None,\\n                                 observer=None, task=None, working_dir=None)),\\n                ('prefittedsoftvotingclassifier',...\\n                                                                                                num_leaves=2,\\n                                                                                                objective=None,\\n                                                                                                random_state=None,\\n                                                                                                reg_alpha=0.47368421052631576,\\n                                                                                                reg_lambda=0.05263157894736842,\\n                                                                                                silent=True,\\n                                                                                                subsample=1,\\n                                                                                                subsample_for_bin=200000,\\n                                                                                                subsample_freq=0,\\n                                                                                                verbose=-10))],\\n                                                                     verbose=False))],\\n                                               flatten_transform=None,\\n                                               weights=[0.16666666666666666,\\n                                                        0.3333333333333333,\\n                                                        0.16666666666666666,\\n                                                        0.16666666666666666,\\n                                                        0.16666666666666666]))],\\n         verbose=False)\",\n 'friendly_errors': '{}',\n 'onnx_model_resource': \"{'RawColumnNameToOnnxNameMap': {'b': 'b', 'e': 'e', 'LBE': 'LBE', 'LB': 'LB', 'AC': 'AC', 'FM': 'FM', 'UC': 'UC', 'ASTV': 'ASTV', 'MSTV': 'MSTV', 'ALTV': 'ALTV', 'MLTV': 'MLTV', 'DL': 'DL', 'DS': 'DS', 'DP': 'DP', 'Width': 'Width', 'Min': 'Min', 'Max': 'Max', 'Nmax': 'Nmax', 'Nzeros': 'Nzeros', 'Mode': 'Mode', 'Mean': 'Mean', 'Median': 'Median', 'Variance': 'Variance', 'Tendency': 'Tendency', 'A': 'A', 'B': 'B', 'C': 'C', 'D': 'D', 'E': 'E', 'AD': 'AD', 'DE': 'DE', 'LD': 'LD', 'FS': 'FS', 'SUSP': 'SUSP', 'CLASS': 'CLASS'}, 'InputRawColumnSchema': {'b': 'floating', 'e': 'floating', 'LBE': 'floating', 'LB': 'floating', 'AC': 'floating', 'FM': 'floating', 'UC': 'floating', 'ASTV': 'floating', 'MSTV': 'floating', 'ALTV': 'floating', 'MLTV': 'floating', 'DL': 'floating', 'DS': 'floating', 'DP': 'floating', 'Width': 'floating', 'Min': 'floating', 'Max': 'floating', 'Nmax': 'floating', 'Nzeros': 'floating', 'Mode': 'floating', 'Mean': 'floating', 'Median': 'floating', 'Variance': 'floating', 'Tendency': 'floating', 'A': 'floating', 'B': 'floating', 'C': 'floating', 'D': 'floating', 'E': 'floating', 'AD': 'floating', 'DE': 'floating', 'LD': 'floating', 'FS': 'floating', 'SUSP': 'floating', 'CLASS': 'floating'}, 'InputOnnxColumnSchema': {'b': 'FloatTensorType', 'e': 'FloatTensorType', 'LBE': 'FloatTensorType', 'LB': 'FloatTensorType', 'AC': 'FloatTensorType', 'FM': 'FloatTensorType', 'UC': 'FloatTensorType', 'ASTV': 'FloatTensorType', 'MSTV': 'FloatTensorType', 'ALTV': 'FloatTensorType', 'MLTV': 'FloatTensorType', 'DL': 'FloatTensorType', 'DS': 'FloatTensorType', 'DP': 'FloatTensorType', 'Width': 'FloatTensorType', 'Min': 'FloatTensorType', 'Max': 'FloatTensorType', 'Nmax': 'FloatTensorType', 'Nzeros': 'FloatTensorType', 'Mode': 'FloatTensorType', 'Mean': 'FloatTensorType', 'Median': 'FloatTensorType', 'Variance': 'FloatTensorType', 'Tendency': 'FloatTensorType', 'A': 'FloatTensorType', 'B': 'FloatTensorType', 'C': 'FloatTensorType', 'D': 'FloatTensorType', 'E': 'FloatTensorType', 'AD': 'FloatTensorType', 'DE': 'FloatTensorType', 'LD': 'FloatTensorType', 'FS': 'FloatTensorType', 'SUSP': 'FloatTensorType', 'CLASS': 'FloatTensorType'}, 'CanEnableBatchMode': True}\",\n 'error_code': '',\n 'failure_reason': '',\n 'feature_skus': 'automatedml_sdk_guardrails',\n 'dependencies_versions': '{\"azureml-train-automl-runtime\": \"1.19.0\", \"azureml-train-automl-client\": \"1.19.0\", \"azureml-telemetry\": \"1.19.0\", \"azureml-pipeline-core\": \"1.19.0\", \"azureml-model-management-sdk\": \"1.0.1b6.post1\", \"azureml-interpret\": \"1.19.0\", \"azureml-defaults\": \"1.19.0\", \"azureml-dataset-runtime\": \"1.19.0\", \"azureml-dataprep\": \"2.6.1\", \"azureml-dataprep-rslex\": \"1.4.0\", \"azureml-dataprep-native\": \"26.0.0\", \"azureml-core\": \"1.19.0\", \"azureml-automl-runtime\": \"1.19.0\", \"azureml-automl-core\": \"1.19.0\"}',\n 'num_cores': '4',\n 'num_logical_cores': '4',\n 'peak_memory_usage': '621316',\n 'vm_configuration': 'Intel(R) Xeon(R) CPU E5-2673 v4 @ 2.30GHz',\n 'core_hours': '0.01207396388888889'}"
          },
          "metadata": {}
        }
      ],
      "execution_count": 30,
      "metadata": {
        "gather": {
          "logged": 1610339253564
        },
        "id": "d2Vo6SjfJUnD",
        "outputId": "6ac551e0-b143-4809-de75-bae80b66a7d2"
      }
    },
    {
      "cell_type": "code",
      "source": [
        "#TODO: Save the best AutoML model\n",
        "import joblib\n",
        "\n",
        "joblib.dump(fitted_automl_model, 'best_automl_model.pkl')"
      ],
      "outputs": [
        {
          "output_type": "execute_result",
          "execution_count": 31,
          "data": {
            "text/plain": "['best_automl_model.pkl']"
          },
          "metadata": {}
        }
      ],
      "execution_count": 31,
      "metadata": {
        "gather": {
          "logged": 1610339260930
        },
        "id": "HmgvDVU23NPN",
        "jupyter": {
          "outputs_hidden": false,
          "source_hidden": false
        },
        "nteract": {
          "transient": {
            "deleting": false
          }
        },
        "outputId": "22be2b2c-c52d-4ed9-ec76-93e03bc9f1ec"
      }
    },
    {
      "cell_type": "code",
      "source": [
        "# register best AutoML model for future deployment\n",
        "from azureml.core.model import Model\n",
        "description = 'AutoML Model trained on cardiocotogram data to predict fetal state as either Normal, Suspect or Pathologic'\n",
        "tags = {'area': 'neonatal health', 'type': 'classification'}\n",
        "\n",
        "automl_model = Model.register(workspace =ws, model_name = 'best-ctgAutoMLmodel', model_path = 'best_automl_model.pkl', description = description, tags = tags)\n",
        "\n",
        "print('AutoML RunID: ', automl_run.id, sep='\\t')"
      ],
      "outputs": [
        {
          "output_type": "stream",
          "name": "stdout",
          "text": [
            "Registering model best-ctgAutoMLmodel\n",
            "AutoML RunID: \tAutoML_5fcf73f9-b3a9-4471-8dab-d7be02ded432\n"
          ]
        }
      ],
      "execution_count": 32,
      "metadata": {
        "collapsed": true,
        "gather": {
          "logged": 1610339264399
        },
        "id": "ObPnp5bOUEOJ",
        "jupyter": {
          "outputs_hidden": false,
          "source_hidden": false
        },
        "nteract": {
          "transient": {
            "deleting": false
          }
        },
        "outputId": "2fb2bcba-d019-427f-fb03-b2bfa3daafcd"
      }
    },
    {
      "cell_type": "markdown",
      "source": [
        "## Model Deployment\n",
        "\n",
        "Remember you have to deploy only one of the two models you trained.. Perform the steps in the rest of this notebook only if you wish to deploy this model.\n",
        "\n",
        "TODO: In the cell below, register the model, create an inference config and deploy the model as a web service."
      ],
      "metadata": {
        "id": "_TDcooJ23NPO"
      }
    },
    {
      "cell_type": "code",
      "source": [
        "# deploy model as a web service\n",
        "from azureml.core.model import InferenceConfig\n",
        "from azureml.core.webservice import AciWebservice\n",
        "from azureml.core import Environment\n",
        "from azureml.core.model import Model\n",
        "from azureml.core.conda_dependencies import CondaDependencies\n",
        "\n",
        "service_name = 'ctg-classification-service'\n",
        "\n",
        "env = Environment.get(workspace=ws, name='AzureML-Tutorial')\n",
        "conda_dep = CondaDependencies()\n",
        "\n",
        "# Install scikit-learn version 0.22 and xgbosst version 0.22 conda packages\n",
        "conda_dep.add_conda_package('scikit-learn==0.22')\n",
        "conda_dep.add_conda_package('xgboost==0.90')\n",
        "\n",
        "# Add the dependencies to PythonSection of my conda env\n",
        "env.python.conda_dependencies=conda_dep\n",
        "\n",
        "\n",
        "#env.python.conda_dependencies.add_pip_package(\"scikit-learn==0.22\", 'xgboost==0.90')\n",
        "#env = Environment.from_conda_specification(name='project-env', file_path='myenv.yml')\n",
        "\n",
        "#for pip_package in [\"scikit-learn\"]:\n",
        "    #env.python.conda_dependencies.add_pip_package(pip_package)\n",
        "\n",
        "#inference_config = InferenceConfig(runtime='python', entry_script='score.py', conda_file=myenv)\n",
        "inference_config = InferenceConfig(entry_script='score.py', environment=env)\n",
        "aci_config = AciWebservice.deploy_configuration(cpu_cores=1, memory_gb=4, enable_app_insights=True, auth_enabled=True)\n",
        "\n",
        "model = Model(ws,name='best-ctgAutoMLmodel')\n",
        "service = Model.deploy(workspace=ws,\n",
        "                       name=service_name,\n",
        "                       models=[model],\n",
        "                       inference_config=inference_config,\n",
        "                       deployment_config=aci_config,\n",
        "                       overwrite=True)\n",
        "\n",
        "service.wait_for_deployment(show_output=True)\n"
      ],
      "outputs": [
        {
          "output_type": "stream",
          "name": "stdout",
          "text": [
            "Tips: You can try get_logs(): https://aka.ms/debugimage#dockerlog or local deployment: https://aka.ms/debugimage#debug-locally to debug if deployment takes longer than 10 minutes.\n",
            "Running.....\n",
            "Succeeded\n",
            "ACI service creation operation finished, operation \"Succeeded\"\n"
          ]
        }
      ],
      "execution_count": 33,
      "metadata": {
        "gather": {
          "logged": 1610339303911
        },
        "id": "NwLtzTuD3NPO",
        "jupyter": {
          "outputs_hidden": false,
          "source_hidden": false
        },
        "nteract": {
          "transient": {
            "deleting": false
          }
        },
        "outputId": "a2992aa6-a730-427c-927d-5488435e12bb"
      }
    },
    {
      "cell_type": "code",
      "source": [
        "print(service.get_logs())\n"
      ],
      "outputs": [
        {
          "output_type": "stream",
          "name": "stdout",
          "text": [
            "/usr/sbin/nginx: /azureml-envs/azureml_a1736710baabf05d37337a101fa8d6d1/lib/libcrypto.so.1.0.0: no version information available (required by /usr/sbin/nginx)\n",
            "/usr/sbin/nginx: /azureml-envs/azureml_a1736710baabf05d37337a101fa8d6d1/lib/libcrypto.so.1.0.0: no version information available (required by /usr/sbin/nginx)\n",
            "/usr/sbin/nginx: /azureml-envs/azureml_a1736710baabf05d37337a101fa8d6d1/lib/libssl.so.1.0.0: no version information available (required by /usr/sbin/nginx)\n",
            "/usr/sbin/nginx: /azureml-envs/azureml_a1736710baabf05d37337a101fa8d6d1/lib/libssl.so.1.0.0: no version information available (required by /usr/sbin/nginx)\n",
            "/usr/sbin/nginx: /azureml-envs/azureml_a1736710baabf05d37337a101fa8d6d1/lib/libssl.so.1.0.0: no version information available (required by /usr/sbin/nginx)\n",
            "2021-01-11T04:28:14,340790427+00:00 - iot-server/run \n",
            "2021-01-11T04:28:14,340030421+00:00 - gunicorn/run \n",
            "2021-01-11T04:28:14,340869727+00:00 - nginx/run \n",
            "2021-01-11T04:28:14,348591982+00:00 - rsyslog/run \n",
            "rsyslogd: /azureml-envs/azureml_a1736710baabf05d37337a101fa8d6d1/lib/libuuid.so.1: no version information available (required by rsyslogd)\n",
            "EdgeHubConnectionString and IOTEDGE_IOTHUBHOSTNAME are not set. Exiting...\n",
            "2021-01-11T04:28:14,510261634+00:00 - iot-server/finish 1 0\n",
            "2021-01-11T04:28:14,511596144+00:00 - Exit code 1 is normal. Not restarting iot-server.\n",
            "Starting gunicorn 19.9.0\n",
            "Listening at: http://127.0.0.1:31311 (13)\n",
            "Using worker: sync\n",
            "worker timeout is set to 300\n",
            "Booting worker with pid: 42\n",
            "SPARK_HOME not set. Skipping PySpark Initialization.\n",
            "Failure while loading azureml_run_type_providers. Failed to load entrypoint automl = azureml.train.automl.run:AutoMLRun._from_run_dto with exception (pyarrow 2.0.0 (/azureml-envs/azureml_a1736710baabf05d37337a101fa8d6d1/lib/python3.6/site-packages), Requirement.parse('pyarrow<2.0.0,>=0.17.0'), {'azureml-dataset-runtime'}).\n",
            "Initializing logger\n",
            "2021-01-11 04:28:16,877 | root | INFO | Starting up app insights client\n",
            "Starting up app insights client\n",
            "2021-01-11 04:28:16,878 | root | INFO | Starting up request id generator\n",
            "Starting up request id generator\n",
            "2021-01-11 04:28:16,878 | root | INFO | Starting up app insight hooks\n",
            "Starting up app insight hooks\n",
            "2021-01-11 04:28:16,878 | root | INFO | Invoking user's init function\n",
            "Invoking user's init function\n",
            "model initialized04:28:16\n",
            "Found Model:\n",
            "True\n",
            "2021-01-11 04:28:18,177 | root | INFO | Users's init has completed successfully\n",
            "Users's init has completed successfully\n",
            "/azureml-envs/azureml_a1736710baabf05d37337a101fa8d6d1/lib/python3.6/site-packages/sklearn/externals/joblib/__init__.py:15: FutureWarning: sklearn.externals.joblib is deprecated in 0.21 and will be removed in 0.23. Please import this functionality directly from joblib, which can be installed with: pip install joblib. If this warning is raised when loading pickled models, you may need to re-serialize those models with scikit-learn 0.21+.\n",
            "  warnings.warn(msg, category=FutureWarning)\n",
            "2021-01-11 04:28:18,179 | root | INFO | Skipping middleware: dbg_model_info as it's not enabled.\n",
            "Skipping middleware: dbg_model_info as it's not enabled.\n",
            "2021-01-11 04:28:18,179 | root | INFO | Skipping middleware: dbg_resource_usage as it's not enabled.\n",
            "Skipping middleware: dbg_resource_usage as it's not enabled.\n",
            "2021-01-11 04:28:18,180 | root | INFO | Scoring timeout is found from os.environ: 60000 ms\n",
            "Scoring timeout is found from os.environ: 60000 ms\n",
            "2021-01-11 04:28:21,430 | root | INFO | Swagger file not present\n",
            "Swagger file not present\n",
            "2021-01-11 04:28:21,430 | root | INFO | 404\n",
            "404\n",
            "127.0.0.1 - - [11/Jan/2021:04:28:21 +0000] \"GET /swagger.json HTTP/1.0\" 404 19 \"-\" \"Go-http-client/1.1\"\n",
            "2021-01-11 04:28:23,836 | root | INFO | Swagger file not present\n",
            "Swagger file not present\n",
            "2021-01-11 04:28:23,836 | root | INFO | 404\n",
            "404\n",
            "127.0.0.1 - - [11/Jan/2021:04:28:23 +0000] \"GET /swagger.json HTTP/1.0\" 404 19 \"-\" \"Go-http-client/1.1\"\n",
            "\n"
          ]
        }
      ],
      "execution_count": 34,
      "metadata": {
        "collapsed": true,
        "gather": {
          "logged": 1610339311689
        },
        "id": "ra4glm_VUEOL",
        "jupyter": {
          "outputs_hidden": false,
          "source_hidden": false
        },
        "nteract": {
          "transient": {
            "deleting": false
          }
        },
        "outputId": "c2f2062f-4c41-4f88-bc0b-0f97df154444"
      }
    },
    {
      "cell_type": "code",
      "source": [
        "# list the packages contained in the AzureML-Tutorial curated environment\n",
        "\n",
        "envs = Environment.list(workspace=ws)\n",
        "\n",
        "for env in envs:\n",
        "    if env.startswith('AzureML'):\n",
        "        print('Name',env)\n",
        "        print('packages', envs[env].python.conda_dependencies.serialize_to_string())"
      ],
      "outputs": [
        {
          "output_type": "stream",
          "name": "stdout",
          "text": [
            "Name AzureML-VowpalWabbit-8.8.0\n",
            "packages channels:\n",
            "- conda-forge\n",
            "dependencies:\n",
            "- python=3.6.2\n",
            "- pip:\n",
            "  - azureml-core==1.19.0\n",
            "  - azureml-defaults==1.19.0\n",
            "  - azureml-dataset-runtime[fuse,pandas]\n",
            "name: azureml_769be4b756b756954fa484d1287d5153\n",
            "\n",
            "Name AzureML-AutoML\n",
            "packages channels:\n",
            "- anaconda\n",
            "- conda-forge\n",
            "- pytorch\n",
            "dependencies:\n",
            "- python=3.6.2\n",
            "- pip=20.2.4\n",
            "- pip:\n",
            "  - azureml-core==1.19.0\n",
            "  - azureml-pipeline-core==1.19.0\n",
            "  - azureml-telemetry==1.19.0\n",
            "  - azureml-defaults==1.19.0\n",
            "  - azureml-interpret==1.19.0\n",
            "  - azureml-automl-core==1.19.0\n",
            "  - azureml-automl-runtime==1.19.0\n",
            "  - azureml-train-automl-client==1.19.0\n",
            "  - azureml-train-automl-runtime==1.19.0\n",
            "  - azureml-dataset-runtime==1.19.0\n",
            "  - inference-schema\n",
            "  - py-cpuinfo==5.0.0\n",
            "  - boto3==1.15.18\n",
            "  - botocore==1.18.18\n",
            "- numpy~=1.18.0\n",
            "- scikit-learn==0.22.1\n",
            "- pandas~=0.25.0\n",
            "- py-xgboost<=0.90\n",
            "- fbprophet==0.5\n",
            "- holidays==0.9.11\n",
            "- setuptools-git\n",
            "- psutil>5.0.0,<6.0.0\n",
            "name: azureml_8eff28b157f42edcd2424a5aae6c8074\n",
            "\n",
            "Name AzureML-Hyperdrive-ForecastDNN\n",
            "packages dependencies:\n",
            "- python=3.7\n",
            "- pip=20.2.4\n",
            "- pip:\n",
            "  - azureml-core==1.19.0\n",
            "  - azureml-pipeline-core==1.19.0\n",
            "  - azureml-telemetry==1.19.0\n",
            "  - azureml-defaults==1.19.0\n",
            "  - azureml-automl-core==1.19.0\n",
            "  - azureml-automl-runtime==1.19.0\n",
            "  - azureml-train-automl-client==1.19.0\n",
            "  - azureml-train-automl-runtime==1.19.0\n",
            "  - azureml-contrib-automl-dnn-forecasting==1.19.0\n",
            "name: azureml_3708e228a333d099fe40af587ee47743\n",
            "\n",
            "Name AzureML-PyTorch-1.4-CPU\n",
            "packages channels:\n",
            "- conda-forge\n",
            "dependencies:\n",
            "- python=3.6.2\n",
            "- pip:\n",
            "  - azureml-core==1.19.0\n",
            "  - azureml-defaults==1.19.0\n",
            "  - azureml-telemetry==1.19.0\n",
            "  - azureml-train-restclients-hyperdrive==1.19.0\n",
            "  - azureml-train-core==1.19.0\n",
            "  - torch==1.4.0\n",
            "  - torchvision==0.5.0\n",
            "  - mkl==2018.0.3\n",
            "  - horovod==0.18.1\n",
            "  - tensorboard==1.14.0\n",
            "  - future==0.17.1\n",
            "name: azureml_157aba5c5ab50a033db2e6186e5aa485\n",
            "\n",
            "Name AzureML-PyTorch-1.4-GPU\n",
            "packages channels:\n",
            "- conda-forge\n",
            "dependencies:\n",
            "- python=3.6.2\n",
            "- pip:\n",
            "  - azureml-core==1.19.0\n",
            "  - azureml-defaults==1.19.0\n",
            "  - azureml-telemetry==1.19.0\n",
            "  - azureml-train-restclients-hyperdrive==1.19.0\n",
            "  - azureml-train-core==1.19.0\n",
            "  - torch==1.4.0\n",
            "  - torchvision==0.5.0\n",
            "  - mkl==2018.0.3\n",
            "  - horovod==0.18.1\n",
            "  - tensorboard==1.14.0\n",
            "  - future==0.17.1\n",
            "name: azureml_157aba5c5ab50a033db2e6186e5aa485\n",
            "\n",
            "Name AzureML-AutoML-DNN\n",
            "packages channels:\n",
            "- anaconda\n",
            "- conda-forge\n",
            "- pytorch\n",
            "dependencies:\n",
            "- python=3.6.2\n",
            "- pip=20.2.4\n",
            "- pip:\n",
            "  - azureml-core==1.19.0\n",
            "  - azureml-pipeline-core==1.19.0\n",
            "  - azureml-telemetry==1.19.0\n",
            "  - azureml-defaults==1.19.0\n",
            "  - azureml-interpret==1.19.0\n",
            "  - azureml-automl-core==1.19.0\n",
            "  - azureml-automl-runtime==1.19.0\n",
            "  - azureml-train-automl-client==1.19.0\n",
            "  - azureml-train-automl-runtime==1.19.0\n",
            "  - azureml-dataset-runtime==1.19.0\n",
            "  - inference-schema\n",
            "  - pytorch-transformers==1.0.0\n",
            "  - spacy==2.1.8\n",
            "  - https://aka.ms/automl-resources/packages/en_core_web_sm-2.1.0.tar.gz\n",
            "  - py-cpuinfo==5.0.0\n",
            "  - boto3==1.15.18\n",
            "  - botocore==1.18.18\n",
            "- numpy~=1.18.0\n",
            "- scikit-learn==0.22.1\n",
            "- pandas~=0.25.0\n",
            "- py-xgboost<=0.90\n",
            "- fbprophet==0.5\n",
            "- holidays==0.9.11\n",
            "- setuptools-git\n",
            "- pytorch=1.4.0\n",
            "- cudatoolkit=10.0.130\n",
            "- psutil>5.0.0,<6.0.0\n",
            "name: azureml_107c229f03ae0129e9349394e50148a8\n",
            "\n",
            "Name AzureML-AutoML-DNN-GPU\n",
            "packages channels:\n",
            "- anaconda\n",
            "- conda-forge\n",
            "- pytorch\n",
            "dependencies:\n",
            "- python=3.6.2\n",
            "- pip=20.2.4\n",
            "- pip:\n",
            "  - werkzeug==0.16.1\n",
            "  - azureml-core==1.19.0\n",
            "  - azureml-pipeline-core==1.19.0\n",
            "  - azureml-telemetry==1.19.0\n",
            "  - azureml-defaults==1.19.0\n",
            "  - azureml-interpret==1.19.0\n",
            "  - azureml-automl-core==1.19.0\n",
            "  - azureml-automl-runtime==1.19.0\n",
            "  - azureml-train-automl-client==1.19.0\n",
            "  - azureml-train-automl-runtime==1.19.0\n",
            "  - azureml-dataset-runtime==1.19.0\n",
            "  - inference-schema\n",
            "  - horovod==0.19.4\n",
            "  - pytorch-transformers==1.0.0\n",
            "  - spacy==2.1.8\n",
            "  - https://aka.ms/automl-resources/packages/en_core_web_sm-2.1.0.tar.gz\n",
            "  - py-cpuinfo==5.0.0\n",
            "  - boto3==1.15.18\n",
            "  - botocore==1.18.18\n",
            "- numpy~=1.18.0\n",
            "- scikit-learn==0.22.1\n",
            "- pandas~=0.25.0\n",
            "- fbprophet==0.5\n",
            "- holidays==0.9.11\n",
            "- setuptools-git\n",
            "- pytorch=1.4.0\n",
            "- cudatoolkit=10.0.130\n",
            "- psutil>5.0.0,<6.0.0\n",
            "name: azureml_7bdc8a0b50c6fea1890b99b2c3692a13\n",
            "\n",
            "Name AzureML-Designer-Transform\n",
            "packages channels:\n",
            "- defaults\n",
            "dependencies:\n",
            "- pip=20.2\n",
            "- python=3.6.8\n",
            "- pip:\n",
            "  - azureml-designer-datatransform-modules==0.0.68\n",
            "name: azureml_f649be76f323107423aa17ee2363600b\n",
            "\n",
            "Name AzureML-Designer\n",
            "packages channels:\n",
            "- conda-forge\n",
            "dependencies:\n",
            "- pip=20.2\n",
            "- python=3.6.8\n",
            "- scikit-surprise=1.0.6\n",
            "- pip:\n",
            "  - azureml-designer-classic-modules==0.0.145\n",
            "  - https://github.com/explosion/spacy-models/releases/download/en_core_web_sm-2.1.0/en_core_web_sm-2.1.0.tar.gz#egg=en_core_web_sm\n",
            "  - spacy==2.1.7\n",
            "name: azureml_ddbd37e7a924d9a0679cf657ceb21c06\n",
            "\n",
            "Name AzureML-AutoML-GPU\n",
            "packages channels:\n",
            "- anaconda\n",
            "- conda-forge\n",
            "- pytorch\n",
            "dependencies:\n",
            "- python=3.6.2\n",
            "- pip=20.2.4\n",
            "- pip:\n",
            "  - azureml-core==1.19.0\n",
            "  - azureml-pipeline-core==1.19.0\n",
            "  - azureml-telemetry==1.19.0\n",
            "  - azureml-defaults==1.19.0\n",
            "  - azureml-interpret==1.19.0\n",
            "  - azureml-automl-core==1.19.0\n",
            "  - azureml-automl-runtime==1.19.0\n",
            "  - azureml-train-automl-client==1.19.0\n",
            "  - azureml-train-automl-runtime==1.19.0\n",
            "  - azureml-dataset-runtime==1.19.0\n",
            "  - inference-schema\n",
            "  - py-cpuinfo==5.0.0\n",
            "  - boto3==1.15.18\n",
            "  - botocore==1.18.18\n",
            "- numpy~=1.18.0\n",
            "- scikit-learn==0.22.1\n",
            "- pandas~=0.25.0\n",
            "- fbprophet==0.5\n",
            "- holidays==0.9.11\n",
            "- setuptools-git\n",
            "- psutil>5.0.0,<6.0.0\n",
            "name: azureml_21a55bb777255b4a59b1462d50a96839\n",
            "\n",
            "Name AzureML-Designer-IO\n",
            "packages channels:\n",
            "- defaults\n",
            "dependencies:\n",
            "- pip=20.2\n",
            "- python=3.6.8\n",
            "- pip:\n",
            "  - azureml-dataset-runtime>=1.6\n",
            "  - azureml-designer-dataio-modules==0.0.51\n",
            "name: azureml_567b2923dc5dbbf54d72bc1732634a28\n",
            "\n",
            "Name AzureML-Dask-CPU\n",
            "packages channels:\n",
            "- conda-forge\n",
            "- pytorch\n",
            "- defaults\n",
            "dependencies:\n",
            "- python=3.6.9\n",
            "- pip:\n",
            "  - adlfs\n",
            "  - azureml-core==1.18.0.post1\n",
            "  - azureml-dataset-runtime==1.18.0\n",
            "  - dask[complete]\n",
            "  - dask-ml[complete]\n",
            "  - distributed\n",
            "  - fastparquet\n",
            "  - fsspec\n",
            "  - joblib\n",
            "  - jupyterlab\n",
            "  - lz4\n",
            "  - mpi4py\n",
            "  - notebook\n",
            "  - pyarrow\n",
            "name: azureml_d407e2694bdeecd1113b9f2a6efdddf7\n",
            "\n",
            "Name AzureML-Designer-R\n",
            "packages channels:\n",
            "- conda-forge\n",
            "dependencies:\n",
            "- pip=20.2\n",
            "- python=3.6.8\n",
            "- r-caret=6.0\n",
            "- r-catools=1.17.1\n",
            "- r-cluster=2.1.0\n",
            "- r-dplyr=0.8.5\n",
            "- r-e1071=1.7\n",
            "- r-forcats=0.5.0\n",
            "- r-forecast=8.12\n",
            "- r-glmnet=2.0\n",
            "- r-igraph=1.2.4\n",
            "- r-matrix=1.2\n",
            "- r-mclust=5.4.6\n",
            "- r-mgcv=1.8\n",
            "- r-nlme=3.1\n",
            "- r-nnet=7.3\n",
            "- r-plyr=1.8.6\n",
            "- r-randomforest=4.6\n",
            "- r-reticulate=1.12\n",
            "- r-rocr=1.0\n",
            "- r-rodbc=1.3\n",
            "- r-rpart=4.1\n",
            "- r-stringr=1.4.0\n",
            "- r-tidyverse=1.2.1\n",
            "- r-timedate=3043.102\n",
            "- r-tseries=0.10\n",
            "- r=3.5.1\n",
            "- pip:\n",
            "  - azureml-designer-classic-modules==0.0.145\n",
            "name: azureml_7465168187f27744627150d4577557c1\n",
            "\n",
            "Name AzureML-Dask-GPU\n",
            "packages channels:\n",
            "- conda-forge\n",
            "dependencies:\n",
            "- python=3.6.9\n",
            "- pip:\n",
            "  - azureml-defaults==1.18.0\n",
            "  - adlfs\n",
            "  - azureml-core==1.18.0.post1\n",
            "  - dask[complete]\n",
            "  - dask-ml[complete]\n",
            "  - distributed\n",
            "  - fastparquet\n",
            "  - fsspec\n",
            "  - joblib\n",
            "  - jupyterlab\n",
            "  - lz4\n",
            "  - mpi4py\n",
            "  - notebook\n",
            "  - pyarrow\n",
            "- matplotlib\n",
            "name: azureml_d093a03b8baffa8a67905fca27c6dbe0\n",
            "\n",
            "Name AzureML-Designer-Recommender\n",
            "packages channels:\n",
            "- defaults\n",
            "dependencies:\n",
            "- pip=20.2\n",
            "- python=3.6.8\n",
            "- pip:\n",
            "  - azureml-designer-recommender-modules==0.0.24\n",
            "name: azureml_59bd457d58ec1593b9815473f5bfac12\n",
            "\n",
            "Name AzureML-PyTorch-1.5-CPU\n",
            "packages channels:\n",
            "- conda-forge\n",
            "dependencies:\n",
            "- python=3.6.2\n",
            "- pip:\n",
            "  - azureml-core==1.18.0.post1\n",
            "  - azureml-defaults==1.18.0\n",
            "  - azureml-telemetry==1.18.0\n",
            "  - azureml-train-restclients-hyperdrive==1.18.0\n",
            "  - azureml-train-core==1.18.0\n",
            "  - torch==1.5.0\n",
            "  - torchvision==0.5.0\n",
            "  - mkl==2018.0.3\n",
            "  - horovod==0.19.1\n",
            "  - tensorboard==1.14.0\n",
            "  - future==0.17.1\n",
            "name: azureml_ab9d7b443a26cb52530f191d3e282ee6\n",
            "\n",
            "Name AzureML-PyTorch-1.5-GPU\n",
            "packages channels:\n",
            "- conda-forge\n",
            "dependencies:\n",
            "- python=3.6.2\n",
            "- pip:\n",
            "  - azureml-core==1.18.0.post1\n",
            "  - azureml-defaults==1.18.0\n",
            "  - azureml-telemetry==1.18.0\n",
            "  - azureml-train-restclients-hyperdrive==1.18.0\n",
            "  - azureml-train-core==1.18.0\n",
            "  - torch==1.5.0\n",
            "  - torchvision==0.5.0\n",
            "  - mkl==2018.0.3\n",
            "  - horovod==0.19.1\n",
            "  - tensorboard==1.14.0\n",
            "  - future==0.17.1\n",
            "name: azureml_ab9d7b443a26cb52530f191d3e282ee6\n",
            "\n",
            "Name AzureML-Sidecar\n",
            "packages channels:\n",
            "- conda-forge\n",
            "dependencies:\n",
            "- python=3.6.2\n",
            "name: base\n",
            "\n",
            "Name AzureML-Designer-CV-Transform\n",
            "packages channels:\n",
            "- defaults\n",
            "dependencies:\n",
            "- pip=20.2\n",
            "- python=3.6.8\n",
            "- pip:\n",
            "  - azureml-designer-cv-modules[pytorch]==0.0.25\n",
            "name: azureml_446f69a7ae055d07d65a243a16199fee\n",
            "\n",
            "Name AzureML-Designer-Score\n",
            "packages channels:\n",
            "- defaults\n",
            "dependencies:\n",
            "- python=3.6.8\n",
            "- pip:\n",
            "  - azureml-designer-score-modules==0.0.16\n",
            "name: azureml_18573b1d77e5ef62bcbe8903c11ceafe\n",
            "\n",
            "Name AzureML-Designer-PyTorch\n",
            "packages channels:\n",
            "- defaults\n",
            "dependencies:\n",
            "- pip=20.2\n",
            "- python=3.6.8\n",
            "- pip:\n",
            "  - azureml-designer-pytorch-modules==0.0.28\n",
            "name: azureml_8830773848bebfc03fdc2e992cc34833\n",
            "\n",
            "Name AzureML-Designer-CV\n",
            "packages channels:\n",
            "- defaults\n",
            "dependencies:\n",
            "- pip=20.2\n",
            "- python=3.6.8\n",
            "- pip:\n",
            "  - azureml-designer-cv-modules==0.0.25\n",
            "name: azureml_63297ef2b2a2637a2da0e6724d129650\n",
            "\n",
            "Name AzureML-TensorFlow-2.1-GPU\n",
            "packages channels:\n",
            "- conda-forge\n",
            "dependencies:\n",
            "- python=3.6.2\n",
            "- pip:\n",
            "  - azureml-core==1.19.0\n",
            "  - azureml-defaults==1.19.0\n",
            "  - azureml-telemetry==1.19.0\n",
            "  - azureml-train-restclients-hyperdrive==1.19.0\n",
            "  - azureml-train-core==1.19.0\n",
            "  - tensorflow-gpu==2.1.0\n",
            "  - horovod==0.19.1\n",
            "name: azureml_8a1e16fe295cbc2ac768249b6490e4e6\n",
            "\n",
            "Name AzureML-TensorFlow-2.1-CPU\n",
            "packages channels:\n",
            "- conda-forge\n",
            "dependencies:\n",
            "- python=3.6.2\n",
            "- pip:\n",
            "  - azureml-core==1.19.0\n",
            "  - azureml-defaults==1.19.0\n",
            "  - azureml-telemetry==1.19.0\n",
            "  - azureml-train-restclients-hyperdrive==1.19.0\n",
            "  - azureml-train-core==1.19.0\n",
            "  - tensorflow==2.1.0\n",
            "  - horovod==0.19.1\n",
            "name: azureml_5ef513fc702e73dace673d5a3635b4d2\n",
            "\n",
            "Name AzureML-Designer-PyTorch-Train\n",
            "packages channels:\n",
            "- defaults\n",
            "dependencies:\n",
            "- pip=20.2\n",
            "- python=3.6.8\n",
            "- pip:\n",
            "  - azureml-designer-pytorch-modules==0.0.28\n",
            "name: azureml_8830773848bebfc03fdc2e992cc34833\n",
            "\n",
            "Name AzureML-AutoML-DNN-Vision-GPU\n",
            "packages dependencies:\n",
            "- python=3.7\n",
            "- pip=20.2.4\n",
            "- pip:\n",
            "  - azureml-core==1.19.0\n",
            "  - azureml-dataset-runtime==1.19.0\n",
            "  - azureml-contrib-dataset==1.19.0\n",
            "  - azureml-telemetry==1.19.0\n",
            "  - azureml-automl-core==1.19.0\n",
            "  - azureml-automl-runtime==1.19.0\n",
            "  - azureml-train-automl-client==1.19.0\n",
            "  - azureml-defaults==1.19.0\n",
            "  - azureml-interpret==1.19.0\n",
            "  - azureml-train-automl-runtime==1.19.0\n",
            "  - azureml-train-automl==1.19.0\n",
            "  - azureml-contrib-automl-dnn-vision==1.19.0\n",
            "name: azureml_44c04382d9b6d84bc157b9fe5bf20160\n",
            "\n",
            "Name AzureML-Designer-VowpalWabbit\n",
            "packages channels:\n",
            "- conda-forge\n",
            "- defaults\n",
            "dependencies:\n",
            "- pip=20.2\n",
            "- python=3.6.8\n",
            "- vowpalwabbit=8.8.1\n",
            "- pip:\n",
            "  - azureml-designer-vowpal-wabbit-modules==0.0.19\n",
            "name: azureml_f5b80451de54eff3cc5ab1dd84ab5edd\n",
            "\n",
            "Name AzureML-TensorFlow-2.2-GPU\n",
            "packages channels:\n",
            "- conda-forge\n",
            "dependencies:\n",
            "- python=3.6.2\n",
            "- pip:\n",
            "  - azureml-core==1.19.0\n",
            "  - azureml-defaults==1.19.0\n",
            "  - azureml-telemetry==1.19.0\n",
            "  - azureml-train-restclients-hyperdrive==1.19.0\n",
            "  - azureml-train-core==1.19.0\n",
            "  - tensorflow-gpu==2.2.0\n",
            "  - horovod==0.19.5\n",
            "name: azureml_435a769981e94c0a7763212da4ffcfb3\n",
            "\n",
            "Name AzureML-TensorFlow-2.2-CPU\n",
            "packages channels:\n",
            "- conda-forge\n",
            "dependencies:\n",
            "- python=3.6.2\n",
            "- pip:\n",
            "  - azureml-core==1.19.0\n",
            "  - azureml-defaults==1.19.0\n",
            "  - azureml-telemetry==1.19.0\n",
            "  - azureml-train-restclients-hyperdrive==1.19.0\n",
            "  - azureml-train-core==1.19.0\n",
            "  - tensorflow==2.2.0\n",
            "  - horovod==0.19.5\n",
            "name: azureml_2ad4dcadddaf31412493a1dbb6c58d1a\n",
            "\n",
            "Name AzureML-PyTorch-1.6-CPU\n",
            "packages channels:\n",
            "- conda-forge\n",
            "dependencies:\n",
            "- python=3.6.2\n",
            "- pip:\n",
            "  - azureml-core==1.18.0.post1\n",
            "  - azureml-defaults==1.18.0\n",
            "  - azureml-telemetry==1.18.0\n",
            "  - azureml-train-restclients-hyperdrive==1.18.0\n",
            "  - azureml-train-core==1.18.0\n",
            "  - cmake==3.18.2\n",
            "  - torch==1.6.0\n",
            "  - torchvision==0.5.0\n",
            "  - mkl==2018.0.3\n",
            "  - horovod==0.20.0\n",
            "  - tensorboard==1.14.0\n",
            "  - future==0.17.1\n",
            "name: azureml_9d2a515d5c77954f2d0562cc5eb8a1fc\n",
            "\n",
            "Name AzureML-PyTorch-1.6-GPU\n",
            "packages channels:\n",
            "- conda-forge\n",
            "dependencies:\n",
            "- python=3.6.2\n",
            "- pip:\n",
            "  - azureml-core==1.18.0.post1\n",
            "  - azureml-defaults==1.18.0\n",
            "  - azureml-telemetry==1.18.0\n",
            "  - azureml-train-restclients-hyperdrive==1.18.0\n",
            "  - azureml-train-core==1.18.0\n",
            "  - cmake==3.18.2\n",
            "  - torch==1.6.0\n",
            "  - torchvision==0.5.0\n",
            "  - mkl==2018.0.3\n",
            "  - horovod==0.20.0\n",
            "  - tensorboard==1.14.0\n",
            "  - future==0.17.1\n",
            "name: azureml_9d2a515d5c77954f2d0562cc5eb8a1fc\n",
            "\n",
            "Name AzureML-Triton\n",
            "packages channels:\n",
            "- conda-forge\n",
            "dependencies:\n",
            "- python=3.7.9\n",
            "- pip:\n",
            "  - azureml-core==1.19.0\n",
            "  - azureml-defaults[async]\n",
            "  - azureml-contrib-services==1.19.0\n",
            "  - numpy\n",
            "  - inference-schema[numpy-support]\n",
            "  - grpcio-tools\n",
            "  - geventhttpclient\n",
            "  - https://developer.download.nvidia.com/compute/redist/tritonclient/tritonclient-2.4.0-py3-none-manylinux1_x86_64.whl\n",
            "name: azureml_b92a7b47de175f9e362d86b49657a9f1\n",
            "\n",
            "Name AzureML-TensorFlow-2.3-CPU\n",
            "packages channels:\n",
            "- conda-forge\n",
            "dependencies:\n",
            "- python=3.6.2\n",
            "- pip:\n",
            "  - azureml-core==1.18.0.post1\n",
            "  - azureml-defaults==1.18.0\n",
            "  - azureml-telemetry==1.18.0\n",
            "  - azureml-train-restclients-hyperdrive==1.18.0\n",
            "  - azureml-train-core==1.18.0\n",
            "  - tensorflow==2.3.0\n",
            "  - cmake==3.18.2\n",
            "  - horovod==0.20.0\n",
            "name: azureml_8e3321c66ae65459b91538aff75fe159\n",
            "\n",
            "Name AzureML-TensorFlow-2.3-GPU\n",
            "packages channels:\n",
            "- conda-forge\n",
            "dependencies:\n",
            "- python=3.6.2\n",
            "- pip:\n",
            "  - azureml-core==1.18.0.post1\n",
            "  - azureml-defaults==1.18.0\n",
            "  - azureml-telemetry==1.18.0\n",
            "  - azureml-train-restclients-hyperdrive==1.18.0\n",
            "  - azureml-train-core==1.18.0\n",
            "  - tensorflow-gpu==2.3.0\n",
            "  - cmake==3.18.2\n",
            "  - horovod==0.20.0\n",
            "name: azureml_60ad88840fdbe40e31e03ddbbc134dec\n",
            "\n",
            "Name AzureML-DeepSpeed-0.3-GPU\n",
            "packages channels:\n",
            "- pytorch\n",
            "- conda-forge\n",
            "dependencies:\n",
            "- python=3.6.2\n",
            "- cudatoolkit-dev=10.1.243\n",
            "- cudatoolkit=10.1\n",
            "- pytorch==1.6.0\n",
            "- torchvision==0.7.0\n",
            "- gxx_linux-64\n",
            "- pip<=20.2\n",
            "- pip:\n",
            "  - azureml-core==1.19.0\n",
            "  - azureml-defaults==1.19.0\n",
            "  - azureml-telemetry==1.19.0\n",
            "  - azureml-train-restclients-hyperdrive==1.19.0\n",
            "  - azureml-train-core==1.19.0\n",
            "  - azureml-mlflow==1.19.0\n",
            "  - azureml-dataprep\n",
            "  - cmake==3.18.2\n",
            "  - mkl==2018.0.3\n",
            "  - tensorboard==1.14.0\n",
            "  - future==0.17.1\n",
            "  - matplotlib\n",
            "  - boto3\n",
            "  - h5py\n",
            "  - sklearn\n",
            "  - scipy\n",
            "  - pillow\n",
            "  - tqdm\n",
            "  - cupy-cuda101\n",
            "  - mpi4py\n",
            "  - deepspeed==0.3.*\n",
            "name: azureml_cbae9014d00ec9d2c3e9c1f2c3c53f67\n",
            "\n",
            "Name AzureML-TensorFlow-2.0-CPU\n",
            "packages channels:\n",
            "- conda-forge\n",
            "dependencies:\n",
            "- python=3.6.2\n",
            "- pip:\n",
            "  - azureml-core==1.19.0\n",
            "  - azureml-defaults==1.19.0\n",
            "  - azureml-telemetry==1.19.0\n",
            "  - azureml-train-restclients-hyperdrive==1.19.0\n",
            "  - azureml-train-core==1.19.0\n",
            "  - tensorflow==2.0\n",
            "  - horovod==0.18.1\n",
            "name: azureml_21c7d56e994a09539dd5cc776f81ce65\n",
            "\n",
            "Name AzureML-Chainer-5.1.0-GPU\n",
            "packages channels:\n",
            "- conda-forge\n",
            "dependencies:\n",
            "- python=3.6.2\n",
            "- pip:\n",
            "  - azureml-core==1.19.0\n",
            "  - azureml-defaults==1.19.0\n",
            "  - azureml-telemetry==1.19.0\n",
            "  - azureml-train-restclients-hyperdrive==1.19.0\n",
            "  - azureml-train-core==1.19.0\n",
            "  - chainer==5.1.0\n",
            "  - cupy-cuda90==5.1.0\n",
            "  - mpi4py==3.0.0\n",
            "name: azureml_572c1da11f9a94e3b7a6e6e6a2e63943\n",
            "\n",
            "Name AzureML-TensorFlow-1.12-CPU\n",
            "packages channels:\n",
            "- conda-forge\n",
            "dependencies:\n",
            "- python=3.6.2\n",
            "- pip:\n",
            "  - azureml-core==1.19.0\n",
            "  - azureml-defaults==1.19.0\n",
            "  - azureml-telemetry==1.19.0\n",
            "  - azureml-train-restclients-hyperdrive==1.19.0\n",
            "  - azureml-train-core==1.19.0\n",
            "  - tensorflow==1.12\n",
            "  - horovod==0.15.2\n",
            "name: azureml_1cb37132b1778aa3c467af6d823e49bd\n",
            "\n",
            "Name AzureML-TensorFlow-2.0-GPU\n",
            "packages channels:\n",
            "- conda-forge\n",
            "dependencies:\n",
            "- python=3.6.2\n",
            "- pip:\n",
            "  - azureml-core==1.19.0\n",
            "  - azureml-defaults==1.19.0\n",
            "  - azureml-telemetry==1.19.0\n",
            "  - azureml-train-restclients-hyperdrive==1.19.0\n",
            "  - azureml-train-core==1.19.0\n",
            "  - tensorflow-gpu==2.0.0\n",
            "  - horovod==0.18.1\n",
            "name: azureml_76e7f3cfc18c2e3053179283c174e74f\n",
            "\n",
            "Name AzureML-PyTorch-1.1-CPU\n",
            "packages channels:\n",
            "- conda-forge\n",
            "dependencies:\n",
            "- python=3.6.2\n",
            "- pip:\n",
            "  - azureml-core==1.19.0\n",
            "  - azureml-defaults==1.19.0\n",
            "  - azureml-telemetry==1.19.0\n",
            "  - azureml-train-restclients-hyperdrive==1.19.0\n",
            "  - azureml-train-core==1.19.0\n",
            "  - torch==1.1\n",
            "  - torchvision==0.2.1\n",
            "  - mkl==2018.0.3\n",
            "  - horovod==0.16.1\n",
            "  - tensorboard==1.14.0\n",
            "  - future==0.17.1\n",
            "name: azureml_6e145d82f92c27509a9b9e457edff086\n",
            "\n",
            "Name AzureML-PyTorch-1.1-GPU\n",
            "packages channels:\n",
            "- conda-forge\n",
            "dependencies:\n",
            "- python=3.6.2\n",
            "- pip:\n",
            "  - azureml-core==1.19.0\n",
            "  - azureml-defaults==1.19.0\n",
            "  - azureml-telemetry==1.19.0\n",
            "  - azureml-train-restclients-hyperdrive==1.19.0\n",
            "  - azureml-train-core==1.19.0\n",
            "  - torch==1.1\n",
            "  - torchvision==0.2.1\n",
            "  - mkl==2018.0.3\n",
            "  - horovod==0.16.1\n",
            "  - tensorboard==1.14.0\n",
            "  - future==0.17.1\n",
            "name: azureml_6e145d82f92c27509a9b9e457edff086\n",
            "\n",
            "Name AzureML-PyTorch-1.2-CPU\n",
            "packages channels:\n",
            "- conda-forge\n",
            "dependencies:\n",
            "- python=3.6.2\n",
            "- pip:\n",
            "  - azureml-core==1.19.0\n",
            "  - azureml-defaults==1.19.0\n",
            "  - azureml-telemetry==1.19.0\n",
            "  - azureml-train-restclients-hyperdrive==1.19.0\n",
            "  - azureml-train-core==1.19.0\n",
            "  - torch==1.2\n",
            "  - torchvision==0.4.0\n",
            "  - mkl==2018.0.3\n",
            "  - horovod==0.16.1\n",
            "  - tensorboard==1.14.0\n",
            "  - future==0.17.1\n",
            "name: azureml_7e3429bb2b1ede094ce1947f29ee322f\n",
            "\n",
            "Name AzureML-Minimal\n",
            "packages channels:\n",
            "- conda-forge\n",
            "dependencies:\n",
            "- python=3.6.2\n",
            "- pip:\n",
            "  - azureml-core==1.19.0\n",
            "  - azureml-defaults==1.19.0\n",
            "name: azureml_f7834da2edca74e44d923018c85f9f6f\n",
            "\n",
            "Name AzureML-TensorFlow-1.10-CPU\n",
            "packages channels:\n",
            "- conda-forge\n",
            "dependencies:\n",
            "- python=3.6.2\n",
            "- pip:\n",
            "  - azureml-core==1.19.0\n",
            "  - azureml-defaults==1.19.0\n",
            "  - azureml-telemetry==1.19.0\n",
            "  - azureml-train-restclients-hyperdrive==1.19.0\n",
            "  - azureml-train-core==1.19.0\n",
            "  - tensorflow==1.10\n",
            "  - horovod==0.15.2\n",
            "name: azureml_933357b2310f331c5e879b79bc6da6e5\n",
            "\n",
            "Name AzureML-PyTorch-1.3-CPU\n",
            "packages channels:\n",
            "- conda-forge\n",
            "dependencies:\n",
            "- python=3.6.2\n",
            "- pip:\n",
            "  - azureml-core==1.19.0\n",
            "  - azureml-defaults==1.19.0\n",
            "  - azureml-telemetry==1.19.0\n",
            "  - azureml-train-restclients-hyperdrive==1.19.0\n",
            "  - azureml-train-core==1.19.0\n",
            "  - torch==1.3\n",
            "  - torchvision==0.4.1\n",
            "  - mkl==2018.0.3\n",
            "  - horovod==0.18.1\n",
            "  - tensorboard==1.14.0\n",
            "  - future==0.17.1\n",
            "name: azureml_2cf46d0a4f94e54fc2a2377c20b861fa\n",
            "\n",
            "Name AzureML-PyTorch-1.0-CPU\n",
            "packages channels:\n",
            "- conda-forge\n",
            "dependencies:\n",
            "- python=3.6.2\n",
            "- pip:\n",
            "  - azureml-core==1.19.0\n",
            "  - azureml-defaults==1.19.0\n",
            "  - azureml-telemetry==1.19.0\n",
            "  - azureml-train-restclients-hyperdrive==1.19.0\n",
            "  - azureml-train-core==1.19.0\n",
            "  - torch==1.0\n",
            "  - torchvision==0.2.1\n",
            "  - mkl==2018.0.3\n",
            "  - horovod==0.16.1\n",
            "name: azureml_05cdd7fc9b238a159a456dc22c87f026\n",
            "\n",
            "Name AzureML-Tutorial\n",
            "packages channels:\n",
            "- anaconda\n",
            "- conda-forge\n",
            "dependencies:\n",
            "- python=3.6.2\n",
            "- pip:\n",
            "  - azureml-core==1.19.0\n",
            "  - azureml-defaults==1.19.0\n",
            "  - azureml-telemetry==1.19.0\n",
            "  - azureml-train-restclients-hyperdrive==1.19.0\n",
            "  - azureml-train-core==1.19.0\n",
            "  - azureml-widgets==1.19.0\n",
            "  - azureml-pipeline-core==1.19.0\n",
            "  - azureml-pipeline-steps==1.19.0\n",
            "  - azureml-opendatasets==1.19.0\n",
            "  - azureml-automl-core==1.19.0\n",
            "  - azureml-automl-runtime==1.19.0\n",
            "  - azureml-train-automl-client==1.19.0\n",
            "  - azureml-train-automl-runtime==1.19.0\n",
            "  - azureml-train-automl==1.19.0\n",
            "  - azureml-train==1.19.0\n",
            "  - azureml-sdk==1.19.0\n",
            "  - azureml-interpret==1.19.0\n",
            "  - azureml-tensorboard==1.19.0\n",
            "  - azureml-mlflow==1.19.0\n",
            "  - mlflow\n",
            "  - sklearn-pandas\n",
            "- pandas\n",
            "- numpy\n",
            "- tqdm\n",
            "- scikit-learn\n",
            "- matplotlib\n",
            "name: azureml_a1736710baabf05d37337a101fa8d6d1\n",
            "\n",
            "Name AzureML-PyTorch-1.2-GPU\n",
            "packages channels:\n",
            "- conda-forge\n",
            "dependencies:\n",
            "- python=3.6.2\n",
            "- pip:\n",
            "  - azureml-core==1.19.0\n",
            "  - azureml-defaults==1.19.0\n",
            "  - azureml-telemetry==1.19.0\n",
            "  - azureml-train-restclients-hyperdrive==1.19.0\n",
            "  - azureml-train-core==1.19.0\n",
            "  - torch==1.2\n",
            "  - torchvision==0.4.0\n",
            "  - mkl==2018.0.3\n",
            "  - horovod==0.16.1\n",
            "  - tensorboard==1.14.0\n",
            "  - future==0.17.1\n",
            "name: azureml_7e3429bb2b1ede094ce1947f29ee322f\n",
            "\n",
            "Name AzureML-Scikit-learn-0.20.3\n",
            "packages channels:\n",
            "- conda-forge\n",
            "dependencies:\n",
            "- python=3.6.2\n",
            "- pip:\n",
            "  - azureml-core==1.19.0\n",
            "  - azureml-defaults==1.19.0\n",
            "  - azureml-telemetry==1.19.0\n",
            "  - azureml-train-restclients-hyperdrive==1.19.0\n",
            "  - azureml-train-core==1.19.0\n",
            "  - scikit-learn==0.20.3\n",
            "  - scipy==1.2.1\n",
            "  - joblib==0.13.2\n",
            "name: azureml_bcd70ff6547af73d6de4e3c50f2235b8\n",
            "\n",
            "Name AzureML-TensorFlow-1.13-CPU\n",
            "packages channels:\n",
            "- conda-forge\n",
            "dependencies:\n",
            "- python=3.6.2\n",
            "- pip:\n",
            "  - azureml-core==1.19.0\n",
            "  - azureml-defaults==1.19.0\n",
            "  - azureml-telemetry==1.19.0\n",
            "  - azureml-train-restclients-hyperdrive==1.19.0\n",
            "  - azureml-train-core==1.19.0\n",
            "  - tensorflow==1.13.1\n",
            "  - horovod==0.16.1\n",
            "name: azureml_cf77ce9add884431274e1212cfdc4800\n",
            "\n",
            "Name AzureML-TensorFlow-1.12-GPU\n",
            "packages channels:\n",
            "- conda-forge\n",
            "dependencies:\n",
            "- python=3.6.2\n",
            "- pip:\n",
            "  - azureml-core==1.19.0\n",
            "  - azureml-defaults==1.19.0\n",
            "  - azureml-telemetry==1.19.0\n",
            "  - azureml-train-restclients-hyperdrive==1.19.0\n",
            "  - azureml-train-core==1.19.0\n",
            "  - tensorflow-gpu==1.12.0\n",
            "  - horovod==0.15.2\n",
            "name: azureml_f6e3ae7a94102e911365066d2221cd25\n",
            "\n",
            "Name AzureML-PyTorch-1.3-GPU\n",
            "packages channels:\n",
            "- conda-forge\n",
            "dependencies:\n",
            "- python=3.6.2\n",
            "- pip:\n",
            "  - azureml-core==1.19.0\n",
            "  - azureml-defaults==1.19.0\n",
            "  - azureml-telemetry==1.19.0\n",
            "  - azureml-train-restclients-hyperdrive==1.19.0\n",
            "  - azureml-train-core==1.19.0\n",
            "  - torch==1.3\n",
            "  - torchvision==0.4.1\n",
            "  - mkl==2018.0.3\n",
            "  - horovod==0.18.1\n",
            "  - tensorboard==1.14.0\n",
            "  - future==0.17.1\n",
            "name: azureml_2cf46d0a4f94e54fc2a2377c20b861fa\n",
            "\n",
            "Name AzureML-PyTorch-1.0-GPU\n",
            "packages channels:\n",
            "- conda-forge\n",
            "dependencies:\n",
            "- python=3.6.2\n",
            "- pip:\n",
            "  - azureml-core==1.19.0\n",
            "  - azureml-defaults==1.19.0\n",
            "  - azureml-telemetry==1.19.0\n",
            "  - azureml-train-restclients-hyperdrive==1.19.0\n",
            "  - azureml-train-core==1.19.0\n",
            "  - torch==1.0\n",
            "  - torchvision==0.2.1\n",
            "  - mkl==2018.0.3\n",
            "  - horovod==0.16.1\n",
            "name: azureml_05cdd7fc9b238a159a456dc22c87f026\n",
            "\n",
            "Name AzureML-Chainer-5.1.0-CPU\n",
            "packages channels:\n",
            "- conda-forge\n",
            "dependencies:\n",
            "- python=3.6.2\n",
            "- pip:\n",
            "  - azureml-core==1.19.0\n",
            "  - azureml-defaults==1.19.0\n",
            "  - azureml-telemetry==1.19.0\n",
            "  - azureml-train-restclients-hyperdrive==1.19.0\n",
            "  - azureml-train-core==1.19.0\n",
            "  - chainer==5.1.0\n",
            "  - mpi4py==3.0.0\n",
            "name: azureml_9203abdb18d345501e3959f945e1eb62\n",
            "\n",
            "Name AzureML-TensorFlow-1.13-GPU\n",
            "packages channels:\n",
            "- conda-forge\n",
            "dependencies:\n",
            "- python=3.6.2\n",
            "- pip:\n",
            "  - azureml-core==1.19.0\n",
            "  - azureml-defaults==1.19.0\n",
            "  - azureml-telemetry==1.19.0\n",
            "  - azureml-train-restclients-hyperdrive==1.19.0\n",
            "  - azureml-train-core==1.19.0\n",
            "  - tensorflow-gpu==1.13.1\n",
            "  - horovod==0.16.1\n",
            "name: azureml_2e953a155ad9bb4934a5c5fc29c94461\n",
            "\n",
            "Name AzureML-TensorFlow-1.10-GPU\n",
            "packages channels:\n",
            "- conda-forge\n",
            "dependencies:\n",
            "- python=3.6.2\n",
            "- pip:\n",
            "  - azureml-core==1.19.0\n",
            "  - azureml-defaults==1.19.0\n",
            "  - azureml-telemetry==1.19.0\n",
            "  - azureml-train-restclients-hyperdrive==1.19.0\n",
            "  - azureml-train-core==1.19.0\n",
            "  - tensorflow-gpu==1.10.0\n",
            "  - horovod==0.15.2\n",
            "name: azureml_dc023e98f7e8ec44741010682e15ee4f\n",
            "\n",
            "Name AzureML-PySpark-MmlSpark-0.15\n",
            "packages channels:\n",
            "- conda-forge\n",
            "dependencies:\n",
            "- python=3.6.2\n",
            "- pip:\n",
            "  - azureml-core==1.19.0\n",
            "  - azureml-defaults==1.19.0\n",
            "  - azureml-telemetry==1.19.0\n",
            "  - azureml-train-restclients-hyperdrive==1.19.0\n",
            "  - azureml-train-core==1.19.0\n",
            "name: azureml_134c9cb62f6e12ef481666393ce929de\n",
            "\n",
            "Name AzureML-Designer-NLP\n",
            "packages channels:\n",
            "- defaults\n",
            "dependencies:\n",
            "- python=3.6.8\n",
            "- pip:\n",
            "  - azureml-designer-classic-modules==0.0.121\n",
            "  - https://github.com/explosion/spacy-models/releases/download/en_core_web_sm-2.1.0/en_core_web_sm-2.1.0.tar.gz#egg=en_core_web_sm\n",
            "  - spacy==2.1.7\n",
            "name: azureml_3bf90115af8eef18f3792699faaed002\n",
            "\n"
          ]
        }
      ],
      "execution_count": 35,
      "metadata": {
        "gather": {
          "logged": 1610339518642
        },
        "id": "GZm9978N7ZSa"
      }
    },
    {
      "cell_type": "code",
      "source": [
        "print(service.state)\n",
        "print('scoring URI: ' + service.scoring_uri)\n",
        "\n",
        "print('Swagger URI: ' + service.swagger_uri)\n",
        "\n",
        "primary, secondary = service.get_keys()\n",
        "\n",
        "print('Primary Authentication Key: ' + primary)"
      ],
      "outputs": [
        {
          "output_type": "stream",
          "name": "stdout",
          "text": [
            "Healthy\n",
            "scoring URI: http://825d591f-68e0-4ed6-b214-5f68b420bf1b.southcentralus.azurecontainer.io/score\n",
            "Swagger URI: http://825d591f-68e0-4ed6-b214-5f68b420bf1b.southcentralus.azurecontainer.io/swagger.json\n",
            "Primary Authentication Key: S8P6zihYx1UfkUa06LaKtlL7VCoOseOE\n"
          ]
        }
      ],
      "execution_count": 36,
      "metadata": {
        "gather": {
          "logged": 1610339536039
        },
        "id": "RETCe_9nBK3t",
        "outputId": "4f2bb33c-29b4-41b3-dcf5-74b83e7e1b3f"
      }
    },
    {
      "cell_type": "code",
      "source": [
        "import requests \r\n",
        "import json  \r\n",
        "scoring_uri = 'http://825d591f-68e0-4ed6-b214-5f68b420bf1b.southcentralus.azurecontainer.io/score' # update with info from previous cell\r\n",
        "key = 'S8P6zihYx1UfkUa06LaKtlL7VCoOseOE'            # update with info from previous cell  \r\n",
        "\r\n",
        "data = {\"data\": \r\n",
        "            [\r\n",
        "                {\r\n",
        "                    'b': 0.00,\r\n",
        "                    'e': 1199.00,\r\n",
        "                    'LBE': 151.00,\r\n",
        "                    'LB': 151.00,\r\n",
        "                    'AC': 0.00,\r\n",
        "                    'FM': 0.00,\r\n",
        "                    'UC': 1.00,\r\n",
        "                    'ASTV': 64.00,\r\n",
        "                    'MSTV': 1.90,\r\n",
        "                    'ALTV': 9.00,\r\n",
        "                    'MLTV': 27.60,\r\n",
        "                    'DL': 1.00,\r\n",
        "                    'DS': 0.00,\r\n",
        "                    'DP': 0.00,\r\n",
        "                    'DR': 0.00,\r\n",
        "                    'Width': 130.00,\r\n",
        "                    'Min': 56.00,\r\n",
        "                    'Max': 186.00,\r\n",
        "                    'Nmax': 2.00,\r\n",
        "                    'Nzeros': 0.00,\r\n",
        "                    'Mode': 150.00,\r\n",
        "                    'Mean': 148.00,\r\n",
        "                    'Median': 151.00,\r\n",
        "                    'Variance': 9.00,\r\n",
        "                    'Tendency': 1.00,\r\n",
        "                    'A': 0.00,\r\n",
        "                    'B': 0.00,\r\n",
        "                    'C': 0.00,\r\n",
        "                    'D': 0.00,\r\n",
        "                    'E': 0.00,\r\n",
        "                    'AD': 0.00,\r\n",
        "                    'DE': 0.00,\r\n",
        "                    'LD': 0.00,\r\n",
        "                    'FS': 0.00,\r\n",
        "                    'SUSP': 1.00,\r\n",
        "                    'CLASS': 10.00\r\n",
        "                },\r\n",
        "                {\r\n",
        "                    'b': 0.00,\r\n",
        "                    'e': 718.00,\r\n",
        "                    'LBE': 130.0,\r\n",
        "                    'LB': 130.00,\r\n",
        "                    'AC': 4.00,\r\n",
        "                    'FM': 273.00,\r\n",
        "                    'UC': 3.00,\r\n",
        "                    'ASTV': 19.00,\r\n",
        "                    'MSTV': 2.30,\r\n",
        "                    'ALTV': 0.00,\r\n",
        "                    'MLTV': 8.70,\r\n",
        "                    'DL': 3.00,\r\n",
        "                    'DS': 0.00,\r\n",
        "                    'DP': 1.00,\r\n",
        "                    'DR': 0.00,\r\n",
        "                    'Width': 107.00,\r\n",
        "                    'Min': 67.00,\r\n",
        "                    'Max': 174.00,\r\n",
        "                    'Nmax': 3.00,\r\n",
        "                    'Nzeros': 0.00,\r\n",
        "                    'Mode': 134.00,\r\n",
        "                    'Mean': 127.00,\r\n",
        "                    'Median': 133.00,\r\n",
        "                    'Variance': 43.00,\r\n",
        "                    'Tendency': 0.00,\r\n",
        "                    'A': 0.00,\r\n",
        "                    'B': 0.00,\r\n",
        "                    'C': 0.00,\r\n",
        "                    'D': 0.00,\r\n",
        "                    'E': 0.00,\r\n",
        "                    'AD': 1.00,\r\n",
        "                    'DE': 0.00,\r\n",
        "                    'LD': 0.00,\r\n",
        "                    'FS': 0.00,\r\n",
        "                    'SUSP': 0.00,\r\n",
        "                    'CLASS': 6.00\r\n",
        "                }    \r\n",
        "            ]\r\n",
        "        } \r\n",
        "\r\n",
        "#print(data)\r\n",
        "\r\n",
        "input_data = json.dumps(data)\r\n",
        "\r\n",
        "headers = {'Content-Type': 'application/json'} \r\n",
        "headers['Authorization'] = f'Bearer {key}'\r\n",
        "\r\n",
        "response = requests.post(scoring_uri, input_data, headers=headers) \r\n",
        "print(response.text)\r\n",
        "print(response.status_code)"
      ],
      "outputs": [
        {
          "output_type": "stream",
          "name": "stdout",
          "text": [
            "\"DataErrorException:\\n\\tMessage: df should be a pandas dataframe or numpy array\\n\\tInnerException: None\\n\\tErrorResponse \\n{\\n    \\\"error\\\": {\\n        \\\"code\\\": \\\"System\\\",\\n        \\\"inner_error\\\": {\\n            \\\"code\\\": \\\"DataError\\\"\\n        },\\n        \\\"message\\\": \\\"df should be a pandas dataframe or numpy array\\\",\\n        \\\"target\\\": \\\"utilities.check_input\\\",\\n        \\\"reference_code\\\": \\\"098d83d9-f525-4844-9666-ea28b1a41f08\\\"\\n    }\\n}\"\n",
            "200\n"
          ]
        }
      ],
      "execution_count": 103,
      "metadata": {
        "collapsed": true,
        "jupyter": {
          "source_hidden": false,
          "outputs_hidden": false
        },
        "nteract": {
          "transient": {
            "deleting": false
          }
        },
        "gather": {
          "logged": 1610347238896
        }
      }
    },
    {
      "cell_type": "markdown",
      "source": [
        "TODO: In the cell below, send a request to the web service you deployed to test it."
      ],
      "metadata": {
        "collapsed": true,
        "gather": {
          "logged": 1598431657736
        },
        "id": "7dAk8LGw3NPO",
        "jupyter": {
          "outputs_hidden": false,
          "source_hidden": false
        },
        "nteract": {
          "transient": {
            "deleting": false
          }
        }
      }
    },
    {
      "cell_type": "code",
      "source": [
        "x1 = x_test.iloc[10, :-1].tolist()\r\n",
        "print(x1)\r\n",
        "x2 = x_test.iloc[15, :-1].tolist()\r\n",
        "print(x2)\r\n",
        "y1 = y_test.iloc[10]\r\n",
        "print(y1)\r\n",
        "y2 = y_test.iloc[15]\r\n",
        "print(y2)"
      ],
      "outputs": [
        {
          "output_type": "stream",
          "name": "stdout",
          "text": [
            "[136.0, 454.0, 130.0, 130.0, 0.0, 110.0, 0.0, 80.0, 0.3, 0.0, 7.4, 0.0, 0.0, 1.0, 0.0, 49.0, 96.0, 145.0, 3.0, 0.0, 108.0, 123.0, 122.0, 39.0, 1.0, 0.0, 0.0, 0.0, 0.0, 0.0, 0.0, 0.0, 0.0, 1.0, 0.0]\n",
            "[535.0, 1201.0, 122.0, 122.0, 2.0, 4.0, 4.0, 22.0, 7.0, 0.0, 16.6, 4.0, 0.0, 0.0, 0.0, 149.0, 50.0, 199.0, 7.0, 0.0, 129.0, 118.0, 124.0, 75.0, 0.0, 0.0, 0.0, 0.0, 0.0, 0.0, 1.0, 0.0, 0.0, 0.0, 0.0]\n",
            "3\n",
            "1\n"
          ]
        }
      ],
      "execution_count": 83,
      "metadata": {
        "collapsed": true,
        "jupyter": {
          "source_hidden": false,
          "outputs_hidden": false
        },
        "nteract": {
          "transient": {
            "deleting": false
          }
        },
        "gather": {
          "logged": 1610343366716
        }
      }
    },
    {
      "cell_type": "code",
      "source": [
        "import requests \r\n",
        "import json  \r\n",
        "scoring_uri = 'http://825d591f-68e0-4ed6-b214-5f68b420bf1b.southcentralus.azurecontainer.io/score' # update with info from previous cell\r\n",
        "key = 'S8P6zihYx1UfkUa06LaKtlL7VCoOseOE'            # update with info from previous cell  \r\n",
        "\r\n",
        "data = {\"data\": [x1, x2]\r\n",
        "                        \r\n",
        "       } \r\n",
        "\r\n",
        "#print(data)\r\n",
        "\r\n",
        "input_data = json.dumps(data)\r\n",
        "#input_data = json.dumps(np.array([x1, x2]).tolist())\r\n",
        "headers = {'Content-Type': 'application/json'} \r\n",
        "headers['Authorization'] = f'Bearer {key}'\r\n",
        "\r\n",
        "response = requests.post(scoring_uri, input_data, headers=headers) \r\n",
        "print(response.text)"
      ],
      "outputs": [
        {
          "output_type": "stream",
          "name": "stdout",
          "text": [
            "\"DataErrorException:\\n\\tMessage: df should be a pandas dataframe or numpy array\\n\\tInnerException: None\\n\\tErrorResponse \\n{\\n    \\\"error\\\": {\\n        \\\"code\\\": \\\"System\\\",\\n        \\\"inner_error\\\": {\\n            \\\"code\\\": \\\"DataError\\\"\\n        },\\n        \\\"message\\\": \\\"df should be a pandas dataframe or numpy array\\\",\\n        \\\"target\\\": \\\"utilities.check_input\\\",\\n        \\\"reference_code\\\": \\\"098d83d9-f525-4844-9666-ea28b1a41f08\\\"\\n    }\\n}\"\n"
          ]
        }
      ],
      "execution_count": 94,
      "metadata": {
        "collapsed": true,
        "jupyter": {
          "outputs_hidden": false,
          "source_hidden": false
        },
        "nteract": {
          "transient": {
            "deleting": false
          }
        },
        "gather": {
          "logged": 1610344994643
        }
      }
    },
    {
      "cell_type": "markdown",
      "source": [
        "TODO: In the cell below, print the logs of the web service and delete the service"
      ],
      "metadata": {
        "collapsed": true,
        "gather": {
          "logged": 1598432765711
        },
        "id": "Dy06gk5i3NPP",
        "jupyter": {
          "outputs_hidden": false,
          "source_hidden": false
        },
        "nteract": {
          "transient": {
            "deleting": false
          }
        }
      }
    },
    {
      "cell_type": "code",
      "source": [
        "# print logs\n",
        "from azureml.core import Workspace\n",
        "from azureml.core.webservice import Webservice\n",
        "\n",
        "# Requires the config to be downloaded first to the current working directory\n",
        "ws = Workspace.from_config()\n",
        "\n",
        "# Set with the deployment name\n",
        "name = \"ctg-classification-service\"\n",
        "# load existing web service\n",
        "service = Webservice(name=name, workspace=ws)\n",
        "logs = service.get_logs()\n",
        "\n",
        "for line in logs.split('\\n'):\n",
        "    print(line)\n"
      ],
      "outputs": [],
      "execution_count": null,
      "metadata": {
        "id": "721tXaFTSUbb"
      }
    },
    {
      "cell_type": "code",
      "source": [
        "#delete service\n",
        "service.delete()"
      ],
      "outputs": [],
      "execution_count": null,
      "metadata": {
        "id": "Zr8vDjOr3NPP",
        "jupyter": {
          "outputs_hidden": false,
          "source_hidden": false
        },
        "nteract": {
          "transient": {
            "deleting": false
          }
        }
      }
    }
  ],
  "metadata": {
    "colab": {
      "collapsed_sections": [],
      "name": "automl.ipynb",
      "provenance": []
    },
    "kernel_info": {
      "name": "python3-azureml"
    },
    "kernelspec": {
      "name": "python3-azureml",
      "language": "python",
      "display_name": "Python 3.6 - AzureML"
    },
    "language_info": {
      "name": "python",
      "version": "3.6.9",
      "mimetype": "text/x-python",
      "codemirror_mode": {
        "name": "ipython",
        "version": 3
      },
      "pygments_lexer": "ipython3",
      "nbconvert_exporter": "python",
      "file_extension": ".py"
    },
    "nteract": {
      "version": "nteract-front-end@1.0.0"
    }
  },
  "nbformat": 4,
  "nbformat_minor": 1
}